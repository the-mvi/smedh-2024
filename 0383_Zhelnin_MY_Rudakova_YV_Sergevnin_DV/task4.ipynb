{
  "nbformat": 4,
  "nbformat_minor": 0,
  "metadata": {
    "colab": {
      "provenance": []
    },
    "kernelspec": {
      "name": "python3",
      "display_name": "Python 3"
    },
    "language_info": {
      "name": "python"
    }
  },
  "cells": [
    {
      "cell_type": "markdown",
      "source": [
        "# Практическая работа №4: Элементы корреляционного анализа. Проверка статистической гипотезы о равенстве коэффициента корреляции нулю\n",
        "\n",
        "Выполнили студенты гр. 0383 Желнин Максим, Рудакова Юлия, Сергевнин Дмитрий. Вариант №12\n"
      ],
      "metadata": {
        "id": "NUhgBstbzy-I"
      }
    },
    {
      "cell_type": "markdown",
      "source": [
        "## Цель работы\n",
        "Освоение основных понятий, связанных с корреляционной зависимостью между случайными величинами, статистическими гипотезами и проверкой их «справедливости»."
      ],
      "metadata": {
        "id": "R0B17RCXz0fn"
      }
    },
    {
      "cell_type": "markdown",
      "source": [
        "## Основные теоретические положения\n",
        "\n"
      ],
      "metadata": {
        "id": "CzSCqW5Dz045"
      }
    },
    {
      "cell_type": "markdown",
      "source": [
        "## Постановка задачи\n",
        "\n",
        "Из заданной генеральной совокупности сформировать выборку по второму признаку. Провести статистическую обработку второй выборки в объёме практических работ №1 и №2, с целью определения точечных статистических оценок параметров распределения исследуемого признака (математического ожидания, дисперсии, среднеквадратичного отклонения, асимметрии, эксцесса и коэффициента вариации). Для системы двух случайных величин $X$ (первый признак) и $Y$ (второй признак) сформировать двумерную выборку и найти статистическую оценку коэффициента корреляции, построить доверительный интервал для коэффициента корреляции и осуществить проверку статистической гипотезы о равенстве коэффициента корреляции нулю. Полученные результаты содержательно проинтерпретировать."
      ],
      "metadata": {
        "id": "Ttet4XBB6ElG"
      }
    },
    {
      "cell_type": "markdown",
      "source": [
        "## Выполнение работы\n"
      ],
      "metadata": {
        "id": "zNum6ODe6LO4"
      }
    },
    {
      "cell_type": "markdown",
      "source": [
        "### 1.\n",
        "Провести статистическую обработку второй выборки в объеме практических работ №1 и №2, с целью определения точечных статистических оценок параметров распределения исследуемого признака (математического ожидания, дисперсии, среднеквадратичного отклонения, асимметрии, эксцесса, моды, медианы и коэффициента вариации). Оформить результаты в виде таблицы, сделать выводы."
      ],
      "metadata": {
        "id": "aIyas0eKgfHr"
      }
    },
    {
      "cell_type": "code",
      "source": [
        "import pandas as pd\n",
        "import numpy as np\n",
        "import io\n",
        "import zipfile\n",
        "from google.colab import files\n",
        "import math\n",
        "from matplotlib.patches import Polygon\n",
        "import matplotlib.pyplot as plt"
      ],
      "metadata": {
        "id": "eB52wWjcf-6N"
      },
      "execution_count": 1,
      "outputs": []
    },
    {
      "cell_type": "code",
      "source": [
        "uploaded = files.upload()"
      ],
      "metadata": {
        "colab": {
          "base_uri": "https://localhost:8080/",
          "height": 73
        },
        "id": "9Nx9qaCDf-9N",
        "outputId": "5fb09f41-61ca-484c-bf67-38b00cd92511"
      },
      "execution_count": 2,
      "outputs": [
        {
          "output_type": "display_data",
          "data": {
            "text/plain": [
              "<IPython.core.display.HTML object>"
            ],
            "text/html": [
              "\n",
              "     <input type=\"file\" id=\"files-daf9430e-4ad3-4371-ada9-4421ef553be9\" name=\"files[]\" multiple disabled\n",
              "        style=\"border:none\" />\n",
              "     <output id=\"result-daf9430e-4ad3-4371-ada9-4421ef553be9\">\n",
              "      Upload widget is only available when the cell has been executed in the\n",
              "      current browser session. Please rerun this cell to enable.\n",
              "      </output>\n",
              "      <script>// Copyright 2017 Google LLC\n",
              "//\n",
              "// Licensed under the Apache License, Version 2.0 (the \"License\");\n",
              "// you may not use this file except in compliance with the License.\n",
              "// You may obtain a copy of the License at\n",
              "//\n",
              "//      http://www.apache.org/licenses/LICENSE-2.0\n",
              "//\n",
              "// Unless required by applicable law or agreed to in writing, software\n",
              "// distributed under the License is distributed on an \"AS IS\" BASIS,\n",
              "// WITHOUT WARRANTIES OR CONDITIONS OF ANY KIND, either express or implied.\n",
              "// See the License for the specific language governing permissions and\n",
              "// limitations under the License.\n",
              "\n",
              "/**\n",
              " * @fileoverview Helpers for google.colab Python module.\n",
              " */\n",
              "(function(scope) {\n",
              "function span(text, styleAttributes = {}) {\n",
              "  const element = document.createElement('span');\n",
              "  element.textContent = text;\n",
              "  for (const key of Object.keys(styleAttributes)) {\n",
              "    element.style[key] = styleAttributes[key];\n",
              "  }\n",
              "  return element;\n",
              "}\n",
              "\n",
              "// Max number of bytes which will be uploaded at a time.\n",
              "const MAX_PAYLOAD_SIZE = 100 * 1024;\n",
              "\n",
              "function _uploadFiles(inputId, outputId) {\n",
              "  const steps = uploadFilesStep(inputId, outputId);\n",
              "  const outputElement = document.getElementById(outputId);\n",
              "  // Cache steps on the outputElement to make it available for the next call\n",
              "  // to uploadFilesContinue from Python.\n",
              "  outputElement.steps = steps;\n",
              "\n",
              "  return _uploadFilesContinue(outputId);\n",
              "}\n",
              "\n",
              "// This is roughly an async generator (not supported in the browser yet),\n",
              "// where there are multiple asynchronous steps and the Python side is going\n",
              "// to poll for completion of each step.\n",
              "// This uses a Promise to block the python side on completion of each step,\n",
              "// then passes the result of the previous step as the input to the next step.\n",
              "function _uploadFilesContinue(outputId) {\n",
              "  const outputElement = document.getElementById(outputId);\n",
              "  const steps = outputElement.steps;\n",
              "\n",
              "  const next = steps.next(outputElement.lastPromiseValue);\n",
              "  return Promise.resolve(next.value.promise).then((value) => {\n",
              "    // Cache the last promise value to make it available to the next\n",
              "    // step of the generator.\n",
              "    outputElement.lastPromiseValue = value;\n",
              "    return next.value.response;\n",
              "  });\n",
              "}\n",
              "\n",
              "/**\n",
              " * Generator function which is called between each async step of the upload\n",
              " * process.\n",
              " * @param {string} inputId Element ID of the input file picker element.\n",
              " * @param {string} outputId Element ID of the output display.\n",
              " * @return {!Iterable<!Object>} Iterable of next steps.\n",
              " */\n",
              "function* uploadFilesStep(inputId, outputId) {\n",
              "  const inputElement = document.getElementById(inputId);\n",
              "  inputElement.disabled = false;\n",
              "\n",
              "  const outputElement = document.getElementById(outputId);\n",
              "  outputElement.innerHTML = '';\n",
              "\n",
              "  const pickedPromise = new Promise((resolve) => {\n",
              "    inputElement.addEventListener('change', (e) => {\n",
              "      resolve(e.target.files);\n",
              "    });\n",
              "  });\n",
              "\n",
              "  const cancel = document.createElement('button');\n",
              "  inputElement.parentElement.appendChild(cancel);\n",
              "  cancel.textContent = 'Cancel upload';\n",
              "  const cancelPromise = new Promise((resolve) => {\n",
              "    cancel.onclick = () => {\n",
              "      resolve(null);\n",
              "    };\n",
              "  });\n",
              "\n",
              "  // Wait for the user to pick the files.\n",
              "  const files = yield {\n",
              "    promise: Promise.race([pickedPromise, cancelPromise]),\n",
              "    response: {\n",
              "      action: 'starting',\n",
              "    }\n",
              "  };\n",
              "\n",
              "  cancel.remove();\n",
              "\n",
              "  // Disable the input element since further picks are not allowed.\n",
              "  inputElement.disabled = true;\n",
              "\n",
              "  if (!files) {\n",
              "    return {\n",
              "      response: {\n",
              "        action: 'complete',\n",
              "      }\n",
              "    };\n",
              "  }\n",
              "\n",
              "  for (const file of files) {\n",
              "    const li = document.createElement('li');\n",
              "    li.append(span(file.name, {fontWeight: 'bold'}));\n",
              "    li.append(span(\n",
              "        `(${file.type || 'n/a'}) - ${file.size} bytes, ` +\n",
              "        `last modified: ${\n",
              "            file.lastModifiedDate ? file.lastModifiedDate.toLocaleDateString() :\n",
              "                                    'n/a'} - `));\n",
              "    const percent = span('0% done');\n",
              "    li.appendChild(percent);\n",
              "\n",
              "    outputElement.appendChild(li);\n",
              "\n",
              "    const fileDataPromise = new Promise((resolve) => {\n",
              "      const reader = new FileReader();\n",
              "      reader.onload = (e) => {\n",
              "        resolve(e.target.result);\n",
              "      };\n",
              "      reader.readAsArrayBuffer(file);\n",
              "    });\n",
              "    // Wait for the data to be ready.\n",
              "    let fileData = yield {\n",
              "      promise: fileDataPromise,\n",
              "      response: {\n",
              "        action: 'continue',\n",
              "      }\n",
              "    };\n",
              "\n",
              "    // Use a chunked sending to avoid message size limits. See b/62115660.\n",
              "    let position = 0;\n",
              "    do {\n",
              "      const length = Math.min(fileData.byteLength - position, MAX_PAYLOAD_SIZE);\n",
              "      const chunk = new Uint8Array(fileData, position, length);\n",
              "      position += length;\n",
              "\n",
              "      const base64 = btoa(String.fromCharCode.apply(null, chunk));\n",
              "      yield {\n",
              "        response: {\n",
              "          action: 'append',\n",
              "          file: file.name,\n",
              "          data: base64,\n",
              "        },\n",
              "      };\n",
              "\n",
              "      let percentDone = fileData.byteLength === 0 ?\n",
              "          100 :\n",
              "          Math.round((position / fileData.byteLength) * 100);\n",
              "      percent.textContent = `${percentDone}% done`;\n",
              "\n",
              "    } while (position < fileData.byteLength);\n",
              "  }\n",
              "\n",
              "  // All done.\n",
              "  yield {\n",
              "    response: {\n",
              "      action: 'complete',\n",
              "    }\n",
              "  };\n",
              "}\n",
              "\n",
              "scope.google = scope.google || {};\n",
              "scope.google.colab = scope.google.colab || {};\n",
              "scope.google.colab._files = {\n",
              "  _uploadFiles,\n",
              "  _uploadFilesContinue,\n",
              "};\n",
              "})(self);\n",
              "</script> "
            ]
          },
          "metadata": {}
        },
        {
          "output_type": "stream",
          "name": "stdout",
          "text": [
            "Saving sample.zip to sample.zip\n"
          ]
        }
      ]
    },
    {
      "cell_type": "code",
      "source": [
        "with zipfile.ZipFile(io.BytesIO(uploaded['sample.zip']), 'r') as zip_ref:\n",
        "    zip_ref.extractall()\n",
        "\n",
        "df = pd.read_csv('sample.csv', skiprows=3) # двумерная генеральная совокупность\n",
        "N = 111\n",
        "sample = df.sample(n=N, random_state=2)\n",
        "sample"
      ],
      "metadata": {
        "colab": {
          "base_uri": "https://localhost:8080/",
          "height": 423
        },
        "id": "1kTvtoe_f_AC",
        "outputId": "4e8be1e8-8dfb-4e85-8cf6-465bc5093d97"
      },
      "execution_count": 3,
      "outputs": [
        {
          "output_type": "execute_result",
          "data": {
            "text/plain": [
              "      nu      E\n",
              "94   406  113.8\n",
              "32   542  146.1\n",
              "225  382   98.1\n",
              "157  521  154.9\n",
              "356  405  107.5\n",
              "..   ...    ...\n",
              "128  429  120.9\n",
              "176  470  124.0\n",
              "108  412  127.8\n",
              "222  383  109.7\n",
              "368  415  107.1\n",
              "\n",
              "[111 rows x 2 columns]"
            ],
            "text/html": [
              "\n",
              "  <div id=\"df-c5df0b60-3ffe-4250-a758-effa17253a5e\" class=\"colab-df-container\">\n",
              "    <div>\n",
              "<style scoped>\n",
              "    .dataframe tbody tr th:only-of-type {\n",
              "        vertical-align: middle;\n",
              "    }\n",
              "\n",
              "    .dataframe tbody tr th {\n",
              "        vertical-align: top;\n",
              "    }\n",
              "\n",
              "    .dataframe thead th {\n",
              "        text-align: right;\n",
              "    }\n",
              "</style>\n",
              "<table border=\"1\" class=\"dataframe\">\n",
              "  <thead>\n",
              "    <tr style=\"text-align: right;\">\n",
              "      <th></th>\n",
              "      <th>nu</th>\n",
              "      <th>E</th>\n",
              "    </tr>\n",
              "  </thead>\n",
              "  <tbody>\n",
              "    <tr>\n",
              "      <th>94</th>\n",
              "      <td>406</td>\n",
              "      <td>113.8</td>\n",
              "    </tr>\n",
              "    <tr>\n",
              "      <th>32</th>\n",
              "      <td>542</td>\n",
              "      <td>146.1</td>\n",
              "    </tr>\n",
              "    <tr>\n",
              "      <th>225</th>\n",
              "      <td>382</td>\n",
              "      <td>98.1</td>\n",
              "    </tr>\n",
              "    <tr>\n",
              "      <th>157</th>\n",
              "      <td>521</td>\n",
              "      <td>154.9</td>\n",
              "    </tr>\n",
              "    <tr>\n",
              "      <th>356</th>\n",
              "      <td>405</td>\n",
              "      <td>107.5</td>\n",
              "    </tr>\n",
              "    <tr>\n",
              "      <th>...</th>\n",
              "      <td>...</td>\n",
              "      <td>...</td>\n",
              "    </tr>\n",
              "    <tr>\n",
              "      <th>128</th>\n",
              "      <td>429</td>\n",
              "      <td>120.9</td>\n",
              "    </tr>\n",
              "    <tr>\n",
              "      <th>176</th>\n",
              "      <td>470</td>\n",
              "      <td>124.0</td>\n",
              "    </tr>\n",
              "    <tr>\n",
              "      <th>108</th>\n",
              "      <td>412</td>\n",
              "      <td>127.8</td>\n",
              "    </tr>\n",
              "    <tr>\n",
              "      <th>222</th>\n",
              "      <td>383</td>\n",
              "      <td>109.7</td>\n",
              "    </tr>\n",
              "    <tr>\n",
              "      <th>368</th>\n",
              "      <td>415</td>\n",
              "      <td>107.1</td>\n",
              "    </tr>\n",
              "  </tbody>\n",
              "</table>\n",
              "<p>111 rows × 2 columns</p>\n",
              "</div>\n",
              "    <div class=\"colab-df-buttons\">\n",
              "\n",
              "  <div class=\"colab-df-container\">\n",
              "    <button class=\"colab-df-convert\" onclick=\"convertToInteractive('df-c5df0b60-3ffe-4250-a758-effa17253a5e')\"\n",
              "            title=\"Convert this dataframe to an interactive table.\"\n",
              "            style=\"display:none;\">\n",
              "\n",
              "  <svg xmlns=\"http://www.w3.org/2000/svg\" height=\"24px\" viewBox=\"0 -960 960 960\">\n",
              "    <path d=\"M120-120v-720h720v720H120Zm60-500h600v-160H180v160Zm220 220h160v-160H400v160Zm0 220h160v-160H400v160ZM180-400h160v-160H180v160Zm440 0h160v-160H620v160ZM180-180h160v-160H180v160Zm440 0h160v-160H620v160Z\"/>\n",
              "  </svg>\n",
              "    </button>\n",
              "\n",
              "  <style>\n",
              "    .colab-df-container {\n",
              "      display:flex;\n",
              "      gap: 12px;\n",
              "    }\n",
              "\n",
              "    .colab-df-convert {\n",
              "      background-color: #E8F0FE;\n",
              "      border: none;\n",
              "      border-radius: 50%;\n",
              "      cursor: pointer;\n",
              "      display: none;\n",
              "      fill: #1967D2;\n",
              "      height: 32px;\n",
              "      padding: 0 0 0 0;\n",
              "      width: 32px;\n",
              "    }\n",
              "\n",
              "    .colab-df-convert:hover {\n",
              "      background-color: #E2EBFA;\n",
              "      box-shadow: 0px 1px 2px rgba(60, 64, 67, 0.3), 0px 1px 3px 1px rgba(60, 64, 67, 0.15);\n",
              "      fill: #174EA6;\n",
              "    }\n",
              "\n",
              "    .colab-df-buttons div {\n",
              "      margin-bottom: 4px;\n",
              "    }\n",
              "\n",
              "    [theme=dark] .colab-df-convert {\n",
              "      background-color: #3B4455;\n",
              "      fill: #D2E3FC;\n",
              "    }\n",
              "\n",
              "    [theme=dark] .colab-df-convert:hover {\n",
              "      background-color: #434B5C;\n",
              "      box-shadow: 0px 1px 3px 1px rgba(0, 0, 0, 0.15);\n",
              "      filter: drop-shadow(0px 1px 2px rgba(0, 0, 0, 0.3));\n",
              "      fill: #FFFFFF;\n",
              "    }\n",
              "  </style>\n",
              "\n",
              "    <script>\n",
              "      const buttonEl =\n",
              "        document.querySelector('#df-c5df0b60-3ffe-4250-a758-effa17253a5e button.colab-df-convert');\n",
              "      buttonEl.style.display =\n",
              "        google.colab.kernel.accessAllowed ? 'block' : 'none';\n",
              "\n",
              "      async function convertToInteractive(key) {\n",
              "        const element = document.querySelector('#df-c5df0b60-3ffe-4250-a758-effa17253a5e');\n",
              "        const dataTable =\n",
              "          await google.colab.kernel.invokeFunction('convertToInteractive',\n",
              "                                                    [key], {});\n",
              "        if (!dataTable) return;\n",
              "\n",
              "        const docLinkHtml = 'Like what you see? Visit the ' +\n",
              "          '<a target=\"_blank\" href=https://colab.research.google.com/notebooks/data_table.ipynb>data table notebook</a>'\n",
              "          + ' to learn more about interactive tables.';\n",
              "        element.innerHTML = '';\n",
              "        dataTable['output_type'] = 'display_data';\n",
              "        await google.colab.output.renderOutput(dataTable, element);\n",
              "        const docLink = document.createElement('div');\n",
              "        docLink.innerHTML = docLinkHtml;\n",
              "        element.appendChild(docLink);\n",
              "      }\n",
              "    </script>\n",
              "  </div>\n",
              "\n",
              "\n",
              "<div id=\"df-290f97b4-2b71-4df0-9a0f-19063d35ce7c\">\n",
              "  <button class=\"colab-df-quickchart\" onclick=\"quickchart('df-290f97b4-2b71-4df0-9a0f-19063d35ce7c')\"\n",
              "            title=\"Suggest charts\"\n",
              "            style=\"display:none;\">\n",
              "\n",
              "<svg xmlns=\"http://www.w3.org/2000/svg\" height=\"24px\"viewBox=\"0 0 24 24\"\n",
              "     width=\"24px\">\n",
              "    <g>\n",
              "        <path d=\"M19 3H5c-1.1 0-2 .9-2 2v14c0 1.1.9 2 2 2h14c1.1 0 2-.9 2-2V5c0-1.1-.9-2-2-2zM9 17H7v-7h2v7zm4 0h-2V7h2v10zm4 0h-2v-4h2v4z\"/>\n",
              "    </g>\n",
              "</svg>\n",
              "  </button>\n",
              "\n",
              "<style>\n",
              "  .colab-df-quickchart {\n",
              "      --bg-color: #E8F0FE;\n",
              "      --fill-color: #1967D2;\n",
              "      --hover-bg-color: #E2EBFA;\n",
              "      --hover-fill-color: #174EA6;\n",
              "      --disabled-fill-color: #AAA;\n",
              "      --disabled-bg-color: #DDD;\n",
              "  }\n",
              "\n",
              "  [theme=dark] .colab-df-quickchart {\n",
              "      --bg-color: #3B4455;\n",
              "      --fill-color: #D2E3FC;\n",
              "      --hover-bg-color: #434B5C;\n",
              "      --hover-fill-color: #FFFFFF;\n",
              "      --disabled-bg-color: #3B4455;\n",
              "      --disabled-fill-color: #666;\n",
              "  }\n",
              "\n",
              "  .colab-df-quickchart {\n",
              "    background-color: var(--bg-color);\n",
              "    border: none;\n",
              "    border-radius: 50%;\n",
              "    cursor: pointer;\n",
              "    display: none;\n",
              "    fill: var(--fill-color);\n",
              "    height: 32px;\n",
              "    padding: 0;\n",
              "    width: 32px;\n",
              "  }\n",
              "\n",
              "  .colab-df-quickchart:hover {\n",
              "    background-color: var(--hover-bg-color);\n",
              "    box-shadow: 0 1px 2px rgba(60, 64, 67, 0.3), 0 1px 3px 1px rgba(60, 64, 67, 0.15);\n",
              "    fill: var(--button-hover-fill-color);\n",
              "  }\n",
              "\n",
              "  .colab-df-quickchart-complete:disabled,\n",
              "  .colab-df-quickchart-complete:disabled:hover {\n",
              "    background-color: var(--disabled-bg-color);\n",
              "    fill: var(--disabled-fill-color);\n",
              "    box-shadow: none;\n",
              "  }\n",
              "\n",
              "  .colab-df-spinner {\n",
              "    border: 2px solid var(--fill-color);\n",
              "    border-color: transparent;\n",
              "    border-bottom-color: var(--fill-color);\n",
              "    animation:\n",
              "      spin 1s steps(1) infinite;\n",
              "  }\n",
              "\n",
              "  @keyframes spin {\n",
              "    0% {\n",
              "      border-color: transparent;\n",
              "      border-bottom-color: var(--fill-color);\n",
              "      border-left-color: var(--fill-color);\n",
              "    }\n",
              "    20% {\n",
              "      border-color: transparent;\n",
              "      border-left-color: var(--fill-color);\n",
              "      border-top-color: var(--fill-color);\n",
              "    }\n",
              "    30% {\n",
              "      border-color: transparent;\n",
              "      border-left-color: var(--fill-color);\n",
              "      border-top-color: var(--fill-color);\n",
              "      border-right-color: var(--fill-color);\n",
              "    }\n",
              "    40% {\n",
              "      border-color: transparent;\n",
              "      border-right-color: var(--fill-color);\n",
              "      border-top-color: var(--fill-color);\n",
              "    }\n",
              "    60% {\n",
              "      border-color: transparent;\n",
              "      border-right-color: var(--fill-color);\n",
              "    }\n",
              "    80% {\n",
              "      border-color: transparent;\n",
              "      border-right-color: var(--fill-color);\n",
              "      border-bottom-color: var(--fill-color);\n",
              "    }\n",
              "    90% {\n",
              "      border-color: transparent;\n",
              "      border-bottom-color: var(--fill-color);\n",
              "    }\n",
              "  }\n",
              "</style>\n",
              "\n",
              "  <script>\n",
              "    async function quickchart(key) {\n",
              "      const quickchartButtonEl =\n",
              "        document.querySelector('#' + key + ' button');\n",
              "      quickchartButtonEl.disabled = true;  // To prevent multiple clicks.\n",
              "      quickchartButtonEl.classList.add('colab-df-spinner');\n",
              "      try {\n",
              "        const charts = await google.colab.kernel.invokeFunction(\n",
              "            'suggestCharts', [key], {});\n",
              "      } catch (error) {\n",
              "        console.error('Error during call to suggestCharts:', error);\n",
              "      }\n",
              "      quickchartButtonEl.classList.remove('colab-df-spinner');\n",
              "      quickchartButtonEl.classList.add('colab-df-quickchart-complete');\n",
              "    }\n",
              "    (() => {\n",
              "      let quickchartButtonEl =\n",
              "        document.querySelector('#df-290f97b4-2b71-4df0-9a0f-19063d35ce7c button');\n",
              "      quickchartButtonEl.style.display =\n",
              "        google.colab.kernel.accessAllowed ? 'block' : 'none';\n",
              "    })();\n",
              "  </script>\n",
              "</div>\n",
              "    </div>\n",
              "  </div>\n"
            ],
            "application/vnd.google.colaboratory.intrinsic+json": {
              "type": "dataframe",
              "variable_name": "sample",
              "summary": "{\n  \"name\": \"sample\",\n  \"rows\": 111,\n  \"fields\": [\n    {\n      \"column\": \"nu\",\n      \"properties\": {\n        \"dtype\": \"number\",\n        \"std\": 59,\n        \"min\": 321,\n        \"max\": 593,\n        \"num_unique_values\": 91,\n        \"samples\": [\n          480,\n          476,\n          352\n        ],\n        \"semantic_type\": \"\",\n        \"description\": \"\"\n      }\n    },\n    {\n      \"column\": \"E\",\n      \"properties\": {\n        \"dtype\": \"number\",\n        \"std\": 23.986343405001733,\n        \"min\": 74.1,\n        \"max\": 187.4,\n        \"num_unique_values\": 104,\n        \"samples\": [\n          82.7,\n          138.2,\n          157.4\n        ],\n        \"semantic_type\": \"\",\n        \"description\": \"\"\n      }\n    }\n  ]\n}"
            }
          },
          "metadata": {},
          "execution_count": 3
        }
      ]
    },
    {
      "cell_type": "code",
      "source": [
        "ranked_nu = sample.sort_values(by='nu').reset_index(drop=True)['nu']\n",
        "ranked_e = sample.sort_values(by='E').reset_index(drop=True)['E']"
      ],
      "metadata": {
        "id": "1uQNgQkvf_Cl"
      },
      "execution_count": 4,
      "outputs": []
    },
    {
      "cell_type": "code",
      "source": [
        "# Вычисляем среднеквадратичное отклонение\n",
        "std_dev_nu = np.std(ranked_nu)\n",
        "std_dev_e = np.std(ranked_e)\n",
        "\n",
        "print(\"Среднеквадратичное отклонение для выборки ranked_nu:\", std_dev_nu)\n",
        "print(\"Среднеквадратичное отклонение для выборки ranked_e:\", std_dev_e)"
      ],
      "metadata": {
        "colab": {
          "base_uri": "https://localhost:8080/"
        },
        "id": "CZpo7y1Sx3MG",
        "outputId": "d93f387e-5fcd-4b08-99ac-2cdd861c6630"
      },
      "execution_count": 5,
      "outputs": [
        {
          "output_type": "stream",
          "name": "stdout",
          "text": [
            "Среднеквадратичное отклонение для выборки ranked_nu: 59.02381081118964\n",
            "Среднеквадратичное отклонение для выборки ranked_e: 23.87805236253307\n"
          ]
        }
      ]
    },
    {
      "cell_type": "code",
      "source": [
        "# Преобразование ранжированного ряда в вариационный ряд для 'nu'\n",
        "variation_nu = ranked_nu.value_counts().reset_index()\n",
        "variation_nu.columns = ['значение', 'частота']\n",
        "variation_nu_sort = variation_nu.sort_values(by='значение').reset_index(drop=True)\n",
        "variation_nu_sort.drop(columns=['частота'], inplace=True)\n",
        "\n",
        "\n",
        "# Преобразование ранжированного ряда в вариационный ряд для 'E'\n",
        "variation_e = ranked_e.value_counts().reset_index()\n",
        "variation_e.columns = ['значение', 'частота']\n",
        "variation_e_sort = variation_e.sort_values(by='значение').reset_index(drop=True)\n",
        "variation_e_sort.drop(columns=['частота'], inplace=True)"
      ],
      "metadata": {
        "id": "LyJwSmbGf_FN"
      },
      "execution_count": 6,
      "outputs": []
    },
    {
      "cell_type": "code",
      "source": [
        "def create_interval_series(variation_series):\n",
        "    # Определение интервалов\n",
        "    num_bins = round(1 + 3.31 * math.log10(N))\n",
        "    if num_bins % 2 == 0:\n",
        "      num_bins += 1\n",
        "\n",
        "    bin_width = (variation_series['значение'].max() - variation_series['значение'].min()) / num_bins\n",
        "    bins = [variation_series['значение'].min() + i * bin_width for i in range(num_bins)]\n",
        "    bins.append(variation_series['значение'].max())\n",
        "\n",
        "    # Подсчет частоты попадания в интервалы\n",
        "    frequency, _ = np.histogram(variation_series['значение'], bins=bins)\n",
        "\n",
        "    # Определение границ и середин интервалов\n",
        "    interval_bounds = [(bins[i], bins[i+1]) for i in range(num_bins)]\n",
        "    interval_midpoints = [(interval[0] + interval[1]) / 2 for interval in interval_bounds]\n",
        "\n",
        "    interval_series = pd.DataFrame({\n",
        "        'Границы интервалов': interval_bounds,\n",
        "        'Середины интервалов': interval_midpoints,\n",
        "        'Частота попадания в интервал': frequency,\n",
        "        'Относительная частота': frequency / len(variation_series)\n",
        "    })\n",
        "\n",
        "    return interval_series\n",
        "\n",
        "\n",
        "interval_nu_series = create_interval_series(variation_nu_sort)\n",
        "interval_e_series = create_interval_series(variation_e_sort)\n",
        "print(interval_e_series['Относительная частота'])"
      ],
      "metadata": {
        "colab": {
          "base_uri": "https://localhost:8080/"
        },
        "id": "ThdKYIFMf_Hu",
        "outputId": "79c3e38f-1bf4-4d5e-9e78-0125d502c056"
      },
      "execution_count": 7,
      "outputs": [
        {
          "output_type": "stream",
          "name": "stdout",
          "text": [
            "0    0.057692\n",
            "1    0.105769\n",
            "2    0.096154\n",
            "3    0.221154\n",
            "4    0.192308\n",
            "5    0.153846\n",
            "6    0.076923\n",
            "7    0.048077\n",
            "8    0.048077\n",
            "Name: Относительная частота, dtype: float64\n"
          ]
        }
      ]
    },
    {
      "cell_type": "code",
      "source": [
        "def get_buckets(intervals, series):\n",
        "    buckets = [[] for i in range(len(intervals) - 1)]\n",
        "    for i in range(len(series) - 1):\n",
        "      for j in range(len(intervals) - 1):\n",
        "        if series[i] > intervals[j][0] and series[i] <= intervals[j][1]:\n",
        "          buckets[j].append(series[i])\n",
        "    return buckets"
      ],
      "metadata": {
        "id": "bZv1MMTMf_KN"
      },
      "execution_count": 8,
      "outputs": []
    },
    {
      "cell_type": "markdown",
      "source": [
        "Для NU"
      ],
      "metadata": {
        "id": "slP7UMtVn9dB"
      }
    },
    {
      "cell_type": "code",
      "source": [
        "mid_nu_values = interval_nu_series[\"Середины интервалов\"]\n",
        "\n",
        "buckets_nu = get_buckets(interval_nu_series[\"Границы интервалов\"], variation_nu[\"значение\"])\n",
        "C_nu = mid_nu_values[max([(len(bucket), i) for i, bucket in enumerate(buckets_nu)])[1]]\n",
        "h_nu = int((mid_nu_values[len(mid_nu_values) - 1] - mid_nu_values[0]) /(len(mid_nu_values)-1))\n",
        "ui_arr_nu = [round((xi - C_nu) / h_nu) for xi in mid_nu_values]\n",
        "nu_freq_arr = interval_nu_series[\"Частота попадания в интервал\"]\n",
        "len_intervals_nu = len(ui_arr_nu)\n",
        "\n",
        "data_nu = {'xi': mid_nu_values,\n",
        "        'ni': nu_freq_arr,\n",
        "        'ui':  ui_arr_nu,\n",
        "        'ui*n': [nu_freq_arr[i] * ui_arr_nu[i] for i in range(len_intervals_nu)],\n",
        "        'ui^2 * n': [nu_freq_arr[i] * (ui_arr_nu[i] ** 2) for i in range(len_intervals_nu)],\n",
        "        'ui^3 * n': [nu_freq_arr[i] * (ui_arr_nu[i] ** 3) for i in range(len_intervals_nu)],\n",
        "        'ui^4 * n': [nu_freq_arr[i] * (ui_arr_nu[i] ** 4) for i in range(len_intervals_nu)],\n",
        "        '(ui + 1)^4 * n': [nu_freq_arr[i] * ((ui_arr_nu[i] + 1) ** 4) for i in range(len_intervals_nu)]}\n",
        "\n",
        "table1_nu = pd.DataFrame(data_nu)\n",
        "table1_nu.loc['Sum'] = table1_nu.sum()\n",
        "print(\"Таблица 1:\")\n",
        "print(table1_nu)"
      ],
      "metadata": {
        "colab": {
          "base_uri": "https://localhost:8080/"
        },
        "id": "7zkVNm1Wf_NF",
        "outputId": "d5bf91de-cbe7-4e60-fed5-4f759574fe99"
      },
      "execution_count": 9,
      "outputs": [
        {
          "output_type": "stream",
          "name": "stdout",
          "text": [
            "Таблица 1:\n",
            "              xi    ni   ui  ui*n  ui^2 * n  ui^3 * n  ui^4 * n  \\\n",
            "0     336.111111   4.0 -3.0 -12.0      36.0    -108.0     324.0   \n",
            "1     366.333333   7.0 -2.0 -14.0      28.0     -56.0     112.0   \n",
            "2     396.555556  14.0 -1.0 -14.0      14.0     -14.0      14.0   \n",
            "3     426.777778  20.0  0.0   0.0       0.0       0.0       0.0   \n",
            "4     457.000000  15.0  1.0  15.0      15.0      15.0      15.0   \n",
            "5     487.222222  12.0  2.0  24.0      48.0      96.0     192.0   \n",
            "6     517.444444   8.0  3.0  24.0      72.0     216.0     648.0   \n",
            "7     547.666667   5.0  4.0  20.0      80.0     320.0    1280.0   \n",
            "8     577.888889   6.0  5.0  30.0     150.0     750.0    3750.0   \n",
            "Sum  4113.000000  91.0  9.0  73.0     443.0    1219.0    6335.0   \n",
            "\n",
            "     (ui + 1)^4 * n  \n",
            "0              64.0  \n",
            "1               7.0  \n",
            "2               0.0  \n",
            "3              20.0  \n",
            "4             240.0  \n",
            "5             972.0  \n",
            "6            2048.0  \n",
            "7            3125.0  \n",
            "8            7776.0  \n",
            "Sum         14252.0  \n"
          ]
        }
      ]
    },
    {
      "cell_type": "markdown",
      "source": [
        "Для Е"
      ],
      "metadata": {
        "id": "FcipMxf7oGBR"
      }
    },
    {
      "cell_type": "code",
      "source": [
        "mid_e_values = interval_e_series[\"Середины интервалов\"]\n",
        "\n",
        "buckets_e = get_buckets(interval_e_series[\"Границы интервалов\"], variation_e[\"значение\"])\n",
        "C_e = mid_e_values[max([(len(bucket), i) for i, bucket in enumerate(buckets_e)])[1]]\n",
        "h_e = int((mid_e_values[len(mid_e_values) - 1] - mid_e_values[0]) /(len(mid_e_values)-1))\n",
        "ui_arr_e = [(xi - C_e) / h_e for xi in mid_e_values]\n",
        "e_freq_arr = interval_e_series[\"Частота попадания в интервал\"]\n",
        "len_intervals_e = len(ui_arr_e)\n",
        "\n",
        "data_e = {'xi': mid_e_values,\n",
        "        'ni': e_freq_arr,\n",
        "        'ui':  ui_arr_e,\n",
        "        'ui*n': [e_freq_arr[i] * ui_arr_e[i] for i in range(len_intervals_e)],\n",
        "        'ui^2 * n': [e_freq_arr[i] * (ui_arr_e[i] ** 2) for i in range(len_intervals_e)],\n",
        "        'ui^3 * n': [e_freq_arr[i] * (ui_arr_e[i] ** 3) for i in range(len_intervals_e)],\n",
        "        'ui^4 * n': [e_freq_arr[i] * (ui_arr_e[i] ** 4) for i in range(len_intervals_e)],\n",
        "        '(ui + 1)^4 * n': [e_freq_arr[i] * ((ui_arr_e[i] + 1) ** 4) for i in range(len_intervals_e)]}\n",
        "\n",
        "table1_e = pd.DataFrame(data_e)\n",
        "table1_e.loc['Sum'] = table1_e.sum()\n",
        "print(\"Таблица 1:\")\n",
        "print(table1_e)"
      ],
      "metadata": {
        "colab": {
          "base_uri": "https://localhost:8080/"
        },
        "id": "pAOj2djXf_Pl",
        "outputId": "cab6822b-1c62-43cd-c70b-aa626efdc337"
      },
      "execution_count": 10,
      "outputs": [
        {
          "output_type": "stream",
          "name": "stdout",
          "text": [
            "Таблица 1:\n",
            "              xi     ni        ui       ui*n    ui^2 * n     ui^3 * n  \\\n",
            "0      80.394444    6.0 -3.147222 -18.883333   59.430046  -187.039562   \n",
            "1      92.983333   11.0 -2.098148 -23.079630   48.424482  -101.601738   \n",
            "2     105.572222   10.0 -1.049074 -10.490741   11.005564   -11.545652   \n",
            "3     118.161111   23.0  0.000000   0.000000    0.000000     0.000000   \n",
            "4     130.750000   20.0  1.049074  20.981481   22.011128    23.091304   \n",
            "5     143.338889   16.0  2.098148  33.570370   70.435610   147.784346   \n",
            "6     155.927778    8.0  3.147222  25.177778   79.240062   249.386083   \n",
            "7     168.516667    5.0  4.196296  20.981481   88.044513   369.460864   \n",
            "8     181.105556    5.0  5.245370  26.226852  137.569552   721.603250   \n",
            "Sum  1176.750000  104.0  9.441667  74.484259  516.160958  1211.138895   \n",
            "\n",
            "        ui^4 * n  (ui + 1)^4 * n  \n",
            "0     588.655067      127.543762  \n",
            "1     213.175498       15.996922  \n",
            "2      12.112244        0.000058  \n",
            "3       0.000000       23.000000  \n",
            "4      24.224488      352.582400  \n",
            "5     310.073451     1474.105977  \n",
            "6     784.873423     2366.569237  \n",
            "7    1550.367255     3645.403715  \n",
            "8    3785.076306     7606.814023  \n",
            "Sum  7268.557732    15612.016094  \n"
          ]
        }
      ]
    },
    {
      "cell_type": "code",
      "source": [
        "nu_N = sum(data_nu[\"ni\"])\n",
        "vi_nu_arr = [sum(data_nu[\"ui*n\"]) / nu_N, sum(data_nu[\"ui^2 * n\"]) / nu_N, sum(data_nu[\"ui^3 * n\"]) / nu_N, sum(data_nu[\"ui^4 * n\"]) / nu_N]\n",
        "mi_nu_arr = [0, (vi_nu_arr[1] - vi_nu_arr[0] ** 2) * (h_nu ** 2), (vi_nu_arr[2] - 3* vi_nu_arr[1] * vi_nu_arr[0]  + 2 * (vi_nu_arr[0]** 3)) * (h_nu ** 3), (vi_nu_arr[3] - 4 * vi_nu_arr[2] * vi_nu_arr[0] + 6 * vi_nu_arr[1] * (vi_nu_arr[0] ** 2)  - 3 * (vi_nu_arr[0]** 4)) * (h_nu ** 4)]\n",
        "vi_e_arr = [sum(data_e[\"ui*n\"]) / N, sum(data_e[\"ui^2 * n\"]) / N, sum(data_e[\"ui^3 * n\"]) / N, sum(data_e[\"ui^4 * n\"]) / N]\n",
        "mi_e_arr = [0, (vi_e_arr[1] - vi_e_arr[0] ** 2) * (h_e ** 2), (vi_e_arr[2] - 3* vi_e_arr[1] * vi_e_arr[0]  + 2 * (vi_e_arr[0]** 3)) * (h_e ** 3), (vi_e_arr[3] - 4 * vi_e_arr[2] * vi_e_arr[0] + 6 * vi_e_arr[1] * (vi_e_arr[0] ** 2)  - 3 * (vi_e_arr[0]** 4)) * (h_e ** 4)]\n"
      ],
      "metadata": {
        "id": "9JvwpG6Yf_SF"
      },
      "execution_count": 11,
      "outputs": []
    },
    {
      "cell_type": "code",
      "source": [
        "x_v2 = sum(ranked_e)/N\n",
        "\n",
        "sigma2 = sum([(ranked_e[i] - x_v2) ** 2 for i in range(N)]) / N\n",
        "print(\"Мат. ожидание: \", x_v2)\n",
        "print(\"Дисперсия: \", sigma2)"
      ],
      "metadata": {
        "colab": {
          "base_uri": "https://localhost:8080/"
        },
        "id": "9ezr5fzzowA3",
        "outputId": "ddfb3d60-4065-495e-d771-407ca97bb024"
      },
      "execution_count": 12,
      "outputs": [
        {
          "output_type": "stream",
          "name": "stdout",
          "text": [
            "Мат. ожидание:  126.72252252252252\n",
            "Дисперсия:  570.1613846278709\n"
          ]
        }
      ]
    },
    {
      "cell_type": "markdown",
      "source": [
        "Исправленная выборочная дисперсия $S^{2}$ и исправленное СКО S."
      ],
      "metadata": {
        "id": "ken7Otz0rCFo"
      }
    },
    {
      "cell_type": "code",
      "source": [
        "S_square = sigma2 * N / (N-1)\n",
        "S = np.sqrt(S_square)\n",
        "print(S_square, S)"
      ],
      "metadata": {
        "colab": {
          "base_uri": "https://localhost:8080/"
        },
        "id": "iDmtAZXkowDO",
        "outputId": "d2674569-23b8-4c6b-fdab-5109cc7438b2"
      },
      "execution_count": 13,
      "outputs": [
        {
          "output_type": "stream",
          "name": "stdout",
          "text": [
            "575.3446699426697 23.986343405001726\n"
          ]
        }
      ]
    },
    {
      "cell_type": "markdown",
      "source": [
        "Статистическая оценка коэффициентов асимметрии $a^{*}_{s}$ и эксцесса $ε^{*}_{s}$."
      ],
      "metadata": {
        "id": "5lDpwW8YokDM"
      }
    },
    {
      "cell_type": "code",
      "source": [
        "a_s = mi_e_arr[2] / (S ** 3)\n",
        "e_s = mi_e_arr[3] / (S ** 4) - 3\n",
        "print(a_s, e_s)"
      ],
      "metadata": {
        "colab": {
          "base_uri": "https://localhost:8080/"
        },
        "id": "ocj5Cra1f_U9",
        "outputId": "c2a340f6-6770-4a7d-9d19-d19ed9f0a056"
      },
      "execution_count": 14,
      "outputs": [
        {
          "output_type": "stream",
          "name": "stdout",
          "text": [
            "0.26976094290959585 0.016265496869106055\n"
          ]
        }
      ]
    },
    {
      "cell_type": "markdown",
      "source": [
        "* Распределение имеет небольшую положительную асимметрию, что может указывать на наличие выбросов или аномалий в данных.\n",
        "* Кривая распределения немного острая, но общее распределение не слишком отличается от нормального."
      ],
      "metadata": {
        "id": "KIl8tuMrsECw"
      }
    },
    {
      "cell_type": "markdown",
      "source": [
        "Самая высокая относительная частота у 3 интервала 0.221154\n"
      ],
      "metadata": {
        "id": "peiNNae5tQZ6"
      }
    },
    {
      "cell_type": "code",
      "source": [
        "mode_value = data_e[\"xi\"][3] + h_e * (interval_e_series['Относительная частота'][2]-interval_e_series['Относительная частота'][1])/(interval_e_series['Относительная частота'][2]-interval_e_series['Относительная частота'][1] + interval_e_series['Относительная частота'][2]-interval_e_series['Относительная частота'][3])\n",
        "print(mode_value)"
      ],
      "metadata": {
        "colab": {
          "base_uri": "https://localhost:8080/"
        },
        "id": "2KAek0Ybojdt",
        "outputId": "d332eef3-c5bd-448c-8177-2ddb405c64a6"
      },
      "execution_count": 15,
      "outputs": [
        {
          "output_type": "stream",
          "name": "stdout",
          "text": [
            "119.01825396825397\n"
          ]
        }
      ]
    },
    {
      "cell_type": "code",
      "source": [
        "median_value = (ranked_e[N // 2] + ranked_e[N // 2 + 1]) / 2\n",
        "print(median_value)"
      ],
      "metadata": {
        "colab": {
          "base_uri": "https://localhost:8080/"
        },
        "id": "m2Q0D6RpojgV",
        "outputId": "22d60848-8303-4530-92ec-dfe1300c7f85"
      },
      "execution_count": 16,
      "outputs": [
        {
          "output_type": "stream",
          "name": "stdout",
          "text": [
            "125.75\n"
          ]
        }
      ]
    },
    {
      "cell_type": "code",
      "source": [
        "coefficient_variation_value = x_v2 / sigma2 * 100\n",
        "print(coefficient_variation_value)"
      ],
      "metadata": {
        "colab": {
          "base_uri": "https://localhost:8080/"
        },
        "id": "xTgxX2rLojit",
        "outputId": "bc68a812-858e-4869-cab3-3b3aaffc5329"
      },
      "execution_count": 17,
      "outputs": [
        {
          "output_type": "stream",
          "name": "stdout",
          "text": [
            "22.22572870402841\n"
          ]
        }
      ]
    },
    {
      "cell_type": "markdown",
      "source": [
        "Коэффициент вариации = 22% => данные имеют относительно высокий уровень вариабельности или разброса относительно своего среднего значения"
      ],
      "metadata": {
        "id": "aWq53wkQt-X_"
      }
    },
    {
      "cell_type": "code",
      "source": [
        "data = {\n",
        "    'Параметр': ['Математическое ожидание', 'Дисперсия', 'Среднеквадратичное отклонение',\n",
        "                 'Асимметрия', 'Эксцесс', 'Мода', 'Медиана', 'Коэффициент вариации'],\n",
        "    'Значение': [x_v2, sigma2, std_dev_e, a_s, e_s,\n",
        "                 mode_value, median_value, coefficient_variation_value]\n",
        "}\n",
        "\n",
        "df = pd.DataFrame(data)\n",
        "\n",
        "print(df)"
      ],
      "metadata": {
        "colab": {
          "base_uri": "https://localhost:8080/"
        },
        "id": "1ndXe6sVojn1",
        "outputId": "02a49040-6727-466a-f2cf-a38d1f68300c"
      },
      "execution_count": 18,
      "outputs": [
        {
          "output_type": "stream",
          "name": "stdout",
          "text": [
            "                        Параметр    Значение\n",
            "0        Математическое ожидание  126.722523\n",
            "1                      Дисперсия  570.161385\n",
            "2  Среднеквадратичное отклонение   23.878052\n",
            "3                     Асимметрия    0.269761\n",
            "4                        Эксцесс    0.016265\n",
            "5                           Мода  119.018254\n",
            "6                        Медиана  125.750000\n",
            "7           Коэффициент вариации   22.225729\n"
          ]
        }
      ]
    },
    {
      "cell_type": "markdown",
      "source": [
        "Исходя из предоставленных статистических оценок параметров распределения исследуемого признака во второй выборке, можно сделать следующие выводы о его характере:\n",
        "\n",
        "* Среднее значение (математическое ожидание) признака составляет примерно 126.72 единицы. Это указывает на то, что среднее значение находится вблизи центра распределения данных.\n",
        "\n",
        "* Дисперсия составляет примерно 570.16. Это говорит о том, что значения признака относительно среднего значения имеют значительный разброс. Это может указывать на наличие различий между наблюдениями.\n",
        "\n",
        "* Среднеквадратичное отклонение признака равно примерно 23.88. Это означает, что большинство значений признака находятся в пределах примерно плюс-минус 23.88 от среднего значения.\n",
        "\n",
        "* Коэффициент асимметрии составляет примерно 0.27, что указывает на небольшую положительную асимметрию в данных. Это может означать, что распределение признака имеет длинный правый хвост.\n",
        "\n",
        "* Эксцесс близок к нулю (0.02), что указывает на то, что пик распределения немного острый, но в целом распределение признака близко к нормальному.\n",
        "\n",
        "* Мода признака составляет примерно 119.02. Это значение является наиболее часто встречающимся в выборке.\n",
        "\n",
        "Исходя из этих данных, можно сделать вывод о том, что распределение исследуемого признака во второй выборке имеет некоторую положительную асимметрию с длинным правым хвостом, но в целом близко к нормальному распределению. Среднее значение и мода находятся вблизи друг от друга, а значения признака имеют некоторый разброс относительно среднего."
      ],
      "metadata": {
        "id": "cjsewjeDzznu"
      }
    },
    {
      "cell_type": "markdown",
      "source": [
        "2.\n",
        "Построить двумерный интервальный вариационный ряд, оформить в виде таблицы."
      ],
      "metadata": {
        "id": "FGzaaFWSzwZP"
      }
    },
    {
      "cell_type": "code",
      "source": [
        "interval_nu = [str(interval) for interval in interval_nu_series['Границы интервалов']]\n",
        "for i,e in enumerate(interval_nu):\n",
        "  interval_nu[i] = e.replace(\"(\", \"[\")\n",
        "  if i == len(interval_nu) - 1:\n",
        "    interval_nu[i] = e.replace(\")\", \"]\").replace(\"(\", \"[\")\n",
        "\n",
        "interval_e = [str(interval) for interval in interval_e_series['Границы интервалов']]\n",
        "for i,e in enumerate(interval_e):\n",
        "  interval_e[i] = e.replace(\"(\", \"[\")\n",
        "  if i == len(interval_e) - 1:\n",
        "    interval_e[i] = e.replace(\")\", \"]\").replace(\"(\", \"[\")\n",
        "print(interval_nu)\n",
        "print(interval_e)"
      ],
      "metadata": {
        "colab": {
          "base_uri": "https://localhost:8080/"
        },
        "id": "Qoz7HMWTjS9I",
        "outputId": "dbd438c9-bc4d-4b0b-af71-622b92c881a7"
      },
      "execution_count": 19,
      "outputs": [
        {
          "output_type": "stream",
          "name": "stdout",
          "text": [
            "['[321.0, 351.22222222222223)', '[351.22222222222223, 381.44444444444446)', '[381.44444444444446, 411.66666666666663)', '[411.66666666666663, 441.8888888888889)', '[441.8888888888889, 472.1111111111111)', '[472.1111111111111, 502.3333333333333)', '[502.3333333333333, 532.5555555555555)', '[532.5555555555555, 562.7777777777778)', '[562.7777777777778, 593]']\n",
            "['[74.1, 86.68888888888888)', '[86.68888888888888, 99.27777777777777)', '[99.27777777777777, 111.86666666666667)', '[111.86666666666667, 124.45555555555555)', '[124.45555555555555, 137.04444444444445)', '[137.04444444444445, 149.63333333333333)', '[149.63333333333333, 162.22222222222223)', '[162.22222222222223, 174.81111111111113)', '[174.81111111111113, 187.4]']\n"
          ]
        }
      ]
    },
    {
      "cell_type": "code",
      "source": [
        "two_dimensional_variational_series = pd.DataFrame(index=interval_nu, columns=interval_e)\n",
        "two_dimensional_variational_series.fillna(0, inplace=True)\n",
        "\n",
        "for _, row in sample.iterrows():\n",
        "    nu_interval = None\n",
        "    E_interval = None\n",
        "\n",
        "    # Находим интервалы, в которые попадают данные из sample для nu и E\n",
        "    for index, interval in enumerate(interval_nu_series['Границы интервалов']):\n",
        "        if interval[0] <= row['nu'] < interval[1]:\n",
        "            nu_interval = interval_nu[index]\n",
        "            break\n",
        "        elif index == len(interval_nu_series['Границы интервалов']) - 1:\n",
        "            nu_interval = interval_nu[index]\n",
        "\n",
        "    for index, interval in enumerate(interval_e_series['Границы интервалов']):\n",
        "        if interval[0] <= row['E'] < interval[1]:\n",
        "            E_interval = interval_e[index]\n",
        "            break\n",
        "        elif index == len(interval_e_series['Границы интервалов']) - 1:\n",
        "            nu_interval = interval_e[index]\n",
        "    if nu_interval is not None and E_interval is not None:\n",
        "        two_dimensional_variational_series[E_interval][nu_interval] += 1\n",
        "\n",
        "print(\"Двумерный интервальный вариационный ряд:\")\n",
        "two_dimensional_variational_series\n"
      ],
      "metadata": {
        "colab": {
          "base_uri": "https://localhost:8080/",
          "height": 543
        },
        "id": "NTWXJKBujS_8",
        "outputId": "825b19f9-46c2-4d29-a6b4-65cecb4a6bc4"
      },
      "execution_count": 20,
      "outputs": [
        {
          "output_type": "stream",
          "name": "stdout",
          "text": [
            "Двумерный интервальный вариационный ряд:\n"
          ]
        },
        {
          "output_type": "execute_result",
          "data": {
            "text/plain": [
              "                                          [74.1, 86.68888888888888)  \\\n",
              "[321.0, 351.22222222222223)                                       2   \n",
              "[351.22222222222223, 381.44444444444446)                          2   \n",
              "[381.44444444444446, 411.66666666666663)                          2   \n",
              "[411.66666666666663, 441.8888888888889)                           0   \n",
              "[441.8888888888889, 472.1111111111111)                            0   \n",
              "[472.1111111111111, 502.3333333333333)                            0   \n",
              "[502.3333333333333, 532.5555555555555)                            0   \n",
              "[532.5555555555555, 562.7777777777778)                            0   \n",
              "[562.7777777777778, 593]                                          0   \n",
              "\n",
              "                                          [86.68888888888888, 99.27777777777777)  \\\n",
              "[321.0, 351.22222222222223)                                                    2   \n",
              "[351.22222222222223, 381.44444444444446)                                       4   \n",
              "[381.44444444444446, 411.66666666666663)                                       4   \n",
              "[411.66666666666663, 441.8888888888889)                                        1   \n",
              "[441.8888888888889, 472.1111111111111)                                         0   \n",
              "[472.1111111111111, 502.3333333333333)                                         0   \n",
              "[502.3333333333333, 532.5555555555555)                                         0   \n",
              "[532.5555555555555, 562.7777777777778)                                         0   \n",
              "[562.7777777777778, 593]                                                       0   \n",
              "\n",
              "                                          [99.27777777777777, 111.86666666666667)  \\\n",
              "[321.0, 351.22222222222223)                                                     1   \n",
              "[351.22222222222223, 381.44444444444446)                                        1   \n",
              "[381.44444444444446, 411.66666666666663)                                        5   \n",
              "[411.66666666666663, 441.8888888888889)                                         3   \n",
              "[441.8888888888889, 472.1111111111111)                                          0   \n",
              "[472.1111111111111, 502.3333333333333)                                          0   \n",
              "[502.3333333333333, 532.5555555555555)                                          0   \n",
              "[532.5555555555555, 562.7777777777778)                                          0   \n",
              "[562.7777777777778, 593]                                                        0   \n",
              "\n",
              "                                          [111.86666666666667, 124.45555555555555)  \\\n",
              "[321.0, 351.22222222222223)                                                      0   \n",
              "[351.22222222222223, 381.44444444444446)                                         0   \n",
              "[381.44444444444446, 411.66666666666663)                                         3   \n",
              "[411.66666666666663, 441.8888888888889)                                         16   \n",
              "[441.8888888888889, 472.1111111111111)                                           5   \n",
              "[472.1111111111111, 502.3333333333333)                                           1   \n",
              "[502.3333333333333, 532.5555555555555)                                           0   \n",
              "[532.5555555555555, 562.7777777777778)                                           0   \n",
              "[562.7777777777778, 593]                                                         0   \n",
              "\n",
              "                                          [124.45555555555555, 137.04444444444445)  \\\n",
              "[321.0, 351.22222222222223)                                                      0   \n",
              "[351.22222222222223, 381.44444444444446)                                         0   \n",
              "[381.44444444444446, 411.66666666666663)                                         0   \n",
              "[411.66666666666663, 441.8888888888889)                                         11   \n",
              "[441.8888888888889, 472.1111111111111)                                           9   \n",
              "[472.1111111111111, 502.3333333333333)                                           4   \n",
              "[502.3333333333333, 532.5555555555555)                                           0   \n",
              "[532.5555555555555, 562.7777777777778)                                           0   \n",
              "[562.7777777777778, 593]                                                         0   \n",
              "\n",
              "                                          [137.04444444444445, 149.63333333333333)  \\\n",
              "[321.0, 351.22222222222223)                                                      0   \n",
              "[351.22222222222223, 381.44444444444446)                                         0   \n",
              "[381.44444444444446, 411.66666666666663)                                         0   \n",
              "[411.66666666666663, 441.8888888888889)                                          0   \n",
              "[441.8888888888889, 472.1111111111111)                                           5   \n",
              "[472.1111111111111, 502.3333333333333)                                           8   \n",
              "[502.3333333333333, 532.5555555555555)                                           3   \n",
              "[532.5555555555555, 562.7777777777778)                                           1   \n",
              "[562.7777777777778, 593]                                                         0   \n",
              "\n",
              "                                          [149.63333333333333, 162.22222222222223)  \\\n",
              "[321.0, 351.22222222222223)                                                      0   \n",
              "[351.22222222222223, 381.44444444444446)                                         0   \n",
              "[381.44444444444446, 411.66666666666663)                                         0   \n",
              "[411.66666666666663, 441.8888888888889)                                          0   \n",
              "[441.8888888888889, 472.1111111111111)                                           0   \n",
              "[472.1111111111111, 502.3333333333333)                                           0   \n",
              "[502.3333333333333, 532.5555555555555)                                           6   \n",
              "[532.5555555555555, 562.7777777777778)                                           1   \n",
              "[562.7777777777778, 593]                                                         1   \n",
              "\n",
              "                                          [162.22222222222223, 174.81111111111113)  \\\n",
              "[321.0, 351.22222222222223)                                                      0   \n",
              "[351.22222222222223, 381.44444444444446)                                         0   \n",
              "[381.44444444444446, 411.66666666666663)                                         0   \n",
              "[411.66666666666663, 441.8888888888889)                                          0   \n",
              "[441.8888888888889, 472.1111111111111)                                           0   \n",
              "[472.1111111111111, 502.3333333333333)                                           0   \n",
              "[502.3333333333333, 532.5555555555555)                                           2   \n",
              "[532.5555555555555, 562.7777777777778)                                           2   \n",
              "[562.7777777777778, 593]                                                         1   \n",
              "\n",
              "                                          [174.81111111111113, 187.4]  \n",
              "[321.0, 351.22222222222223)                                         0  \n",
              "[351.22222222222223, 381.44444444444446)                            0  \n",
              "[381.44444444444446, 411.66666666666663)                            0  \n",
              "[411.66666666666663, 441.8888888888889)                             0  \n",
              "[441.8888888888889, 472.1111111111111)                              0  \n",
              "[472.1111111111111, 502.3333333333333)                              0  \n",
              "[502.3333333333333, 532.5555555555555)                              0  \n",
              "[532.5555555555555, 562.7777777777778)                              1  \n",
              "[562.7777777777778, 593]                                            3  "
            ],
            "text/html": [
              "\n",
              "  <div id=\"df-8b55f63e-024c-4f62-b263-a9ff73c8c350\" class=\"colab-df-container\">\n",
              "    <div>\n",
              "<style scoped>\n",
              "    .dataframe tbody tr th:only-of-type {\n",
              "        vertical-align: middle;\n",
              "    }\n",
              "\n",
              "    .dataframe tbody tr th {\n",
              "        vertical-align: top;\n",
              "    }\n",
              "\n",
              "    .dataframe thead th {\n",
              "        text-align: right;\n",
              "    }\n",
              "</style>\n",
              "<table border=\"1\" class=\"dataframe\">\n",
              "  <thead>\n",
              "    <tr style=\"text-align: right;\">\n",
              "      <th></th>\n",
              "      <th>[74.1, 86.68888888888888)</th>\n",
              "      <th>[86.68888888888888, 99.27777777777777)</th>\n",
              "      <th>[99.27777777777777, 111.86666666666667)</th>\n",
              "      <th>[111.86666666666667, 124.45555555555555)</th>\n",
              "      <th>[124.45555555555555, 137.04444444444445)</th>\n",
              "      <th>[137.04444444444445, 149.63333333333333)</th>\n",
              "      <th>[149.63333333333333, 162.22222222222223)</th>\n",
              "      <th>[162.22222222222223, 174.81111111111113)</th>\n",
              "      <th>[174.81111111111113, 187.4]</th>\n",
              "    </tr>\n",
              "  </thead>\n",
              "  <tbody>\n",
              "    <tr>\n",
              "      <th>[321.0, 351.22222222222223)</th>\n",
              "      <td>2</td>\n",
              "      <td>2</td>\n",
              "      <td>1</td>\n",
              "      <td>0</td>\n",
              "      <td>0</td>\n",
              "      <td>0</td>\n",
              "      <td>0</td>\n",
              "      <td>0</td>\n",
              "      <td>0</td>\n",
              "    </tr>\n",
              "    <tr>\n",
              "      <th>[351.22222222222223, 381.44444444444446)</th>\n",
              "      <td>2</td>\n",
              "      <td>4</td>\n",
              "      <td>1</td>\n",
              "      <td>0</td>\n",
              "      <td>0</td>\n",
              "      <td>0</td>\n",
              "      <td>0</td>\n",
              "      <td>0</td>\n",
              "      <td>0</td>\n",
              "    </tr>\n",
              "    <tr>\n",
              "      <th>[381.44444444444446, 411.66666666666663)</th>\n",
              "      <td>2</td>\n",
              "      <td>4</td>\n",
              "      <td>5</td>\n",
              "      <td>3</td>\n",
              "      <td>0</td>\n",
              "      <td>0</td>\n",
              "      <td>0</td>\n",
              "      <td>0</td>\n",
              "      <td>0</td>\n",
              "    </tr>\n",
              "    <tr>\n",
              "      <th>[411.66666666666663, 441.8888888888889)</th>\n",
              "      <td>0</td>\n",
              "      <td>1</td>\n",
              "      <td>3</td>\n",
              "      <td>16</td>\n",
              "      <td>11</td>\n",
              "      <td>0</td>\n",
              "      <td>0</td>\n",
              "      <td>0</td>\n",
              "      <td>0</td>\n",
              "    </tr>\n",
              "    <tr>\n",
              "      <th>[441.8888888888889, 472.1111111111111)</th>\n",
              "      <td>0</td>\n",
              "      <td>0</td>\n",
              "      <td>0</td>\n",
              "      <td>5</td>\n",
              "      <td>9</td>\n",
              "      <td>5</td>\n",
              "      <td>0</td>\n",
              "      <td>0</td>\n",
              "      <td>0</td>\n",
              "    </tr>\n",
              "    <tr>\n",
              "      <th>[472.1111111111111, 502.3333333333333)</th>\n",
              "      <td>0</td>\n",
              "      <td>0</td>\n",
              "      <td>0</td>\n",
              "      <td>1</td>\n",
              "      <td>4</td>\n",
              "      <td>8</td>\n",
              "      <td>0</td>\n",
              "      <td>0</td>\n",
              "      <td>0</td>\n",
              "    </tr>\n",
              "    <tr>\n",
              "      <th>[502.3333333333333, 532.5555555555555)</th>\n",
              "      <td>0</td>\n",
              "      <td>0</td>\n",
              "      <td>0</td>\n",
              "      <td>0</td>\n",
              "      <td>0</td>\n",
              "      <td>3</td>\n",
              "      <td>6</td>\n",
              "      <td>2</td>\n",
              "      <td>0</td>\n",
              "    </tr>\n",
              "    <tr>\n",
              "      <th>[532.5555555555555, 562.7777777777778)</th>\n",
              "      <td>0</td>\n",
              "      <td>0</td>\n",
              "      <td>0</td>\n",
              "      <td>0</td>\n",
              "      <td>0</td>\n",
              "      <td>1</td>\n",
              "      <td>1</td>\n",
              "      <td>2</td>\n",
              "      <td>1</td>\n",
              "    </tr>\n",
              "    <tr>\n",
              "      <th>[562.7777777777778, 593]</th>\n",
              "      <td>0</td>\n",
              "      <td>0</td>\n",
              "      <td>0</td>\n",
              "      <td>0</td>\n",
              "      <td>0</td>\n",
              "      <td>0</td>\n",
              "      <td>1</td>\n",
              "      <td>1</td>\n",
              "      <td>3</td>\n",
              "    </tr>\n",
              "  </tbody>\n",
              "</table>\n",
              "</div>\n",
              "    <div class=\"colab-df-buttons\">\n",
              "\n",
              "  <div class=\"colab-df-container\">\n",
              "    <button class=\"colab-df-convert\" onclick=\"convertToInteractive('df-8b55f63e-024c-4f62-b263-a9ff73c8c350')\"\n",
              "            title=\"Convert this dataframe to an interactive table.\"\n",
              "            style=\"display:none;\">\n",
              "\n",
              "  <svg xmlns=\"http://www.w3.org/2000/svg\" height=\"24px\" viewBox=\"0 -960 960 960\">\n",
              "    <path d=\"M120-120v-720h720v720H120Zm60-500h600v-160H180v160Zm220 220h160v-160H400v160Zm0 220h160v-160H400v160ZM180-400h160v-160H180v160Zm440 0h160v-160H620v160ZM180-180h160v-160H180v160Zm440 0h160v-160H620v160Z\"/>\n",
              "  </svg>\n",
              "    </button>\n",
              "\n",
              "  <style>\n",
              "    .colab-df-container {\n",
              "      display:flex;\n",
              "      gap: 12px;\n",
              "    }\n",
              "\n",
              "    .colab-df-convert {\n",
              "      background-color: #E8F0FE;\n",
              "      border: none;\n",
              "      border-radius: 50%;\n",
              "      cursor: pointer;\n",
              "      display: none;\n",
              "      fill: #1967D2;\n",
              "      height: 32px;\n",
              "      padding: 0 0 0 0;\n",
              "      width: 32px;\n",
              "    }\n",
              "\n",
              "    .colab-df-convert:hover {\n",
              "      background-color: #E2EBFA;\n",
              "      box-shadow: 0px 1px 2px rgba(60, 64, 67, 0.3), 0px 1px 3px 1px rgba(60, 64, 67, 0.15);\n",
              "      fill: #174EA6;\n",
              "    }\n",
              "\n",
              "    .colab-df-buttons div {\n",
              "      margin-bottom: 4px;\n",
              "    }\n",
              "\n",
              "    [theme=dark] .colab-df-convert {\n",
              "      background-color: #3B4455;\n",
              "      fill: #D2E3FC;\n",
              "    }\n",
              "\n",
              "    [theme=dark] .colab-df-convert:hover {\n",
              "      background-color: #434B5C;\n",
              "      box-shadow: 0px 1px 3px 1px rgba(0, 0, 0, 0.15);\n",
              "      filter: drop-shadow(0px 1px 2px rgba(0, 0, 0, 0.3));\n",
              "      fill: #FFFFFF;\n",
              "    }\n",
              "  </style>\n",
              "\n",
              "    <script>\n",
              "      const buttonEl =\n",
              "        document.querySelector('#df-8b55f63e-024c-4f62-b263-a9ff73c8c350 button.colab-df-convert');\n",
              "      buttonEl.style.display =\n",
              "        google.colab.kernel.accessAllowed ? 'block' : 'none';\n",
              "\n",
              "      async function convertToInteractive(key) {\n",
              "        const element = document.querySelector('#df-8b55f63e-024c-4f62-b263-a9ff73c8c350');\n",
              "        const dataTable =\n",
              "          await google.colab.kernel.invokeFunction('convertToInteractive',\n",
              "                                                    [key], {});\n",
              "        if (!dataTable) return;\n",
              "\n",
              "        const docLinkHtml = 'Like what you see? Visit the ' +\n",
              "          '<a target=\"_blank\" href=https://colab.research.google.com/notebooks/data_table.ipynb>data table notebook</a>'\n",
              "          + ' to learn more about interactive tables.';\n",
              "        element.innerHTML = '';\n",
              "        dataTable['output_type'] = 'display_data';\n",
              "        await google.colab.output.renderOutput(dataTable, element);\n",
              "        const docLink = document.createElement('div');\n",
              "        docLink.innerHTML = docLinkHtml;\n",
              "        element.appendChild(docLink);\n",
              "      }\n",
              "    </script>\n",
              "  </div>\n",
              "\n",
              "\n",
              "<div id=\"df-e1f0d25a-d874-431f-b169-ed64eb442cc7\">\n",
              "  <button class=\"colab-df-quickchart\" onclick=\"quickchart('df-e1f0d25a-d874-431f-b169-ed64eb442cc7')\"\n",
              "            title=\"Suggest charts\"\n",
              "            style=\"display:none;\">\n",
              "\n",
              "<svg xmlns=\"http://www.w3.org/2000/svg\" height=\"24px\"viewBox=\"0 0 24 24\"\n",
              "     width=\"24px\">\n",
              "    <g>\n",
              "        <path d=\"M19 3H5c-1.1 0-2 .9-2 2v14c0 1.1.9 2 2 2h14c1.1 0 2-.9 2-2V5c0-1.1-.9-2-2-2zM9 17H7v-7h2v7zm4 0h-2V7h2v10zm4 0h-2v-4h2v4z\"/>\n",
              "    </g>\n",
              "</svg>\n",
              "  </button>\n",
              "\n",
              "<style>\n",
              "  .colab-df-quickchart {\n",
              "      --bg-color: #E8F0FE;\n",
              "      --fill-color: #1967D2;\n",
              "      --hover-bg-color: #E2EBFA;\n",
              "      --hover-fill-color: #174EA6;\n",
              "      --disabled-fill-color: #AAA;\n",
              "      --disabled-bg-color: #DDD;\n",
              "  }\n",
              "\n",
              "  [theme=dark] .colab-df-quickchart {\n",
              "      --bg-color: #3B4455;\n",
              "      --fill-color: #D2E3FC;\n",
              "      --hover-bg-color: #434B5C;\n",
              "      --hover-fill-color: #FFFFFF;\n",
              "      --disabled-bg-color: #3B4455;\n",
              "      --disabled-fill-color: #666;\n",
              "  }\n",
              "\n",
              "  .colab-df-quickchart {\n",
              "    background-color: var(--bg-color);\n",
              "    border: none;\n",
              "    border-radius: 50%;\n",
              "    cursor: pointer;\n",
              "    display: none;\n",
              "    fill: var(--fill-color);\n",
              "    height: 32px;\n",
              "    padding: 0;\n",
              "    width: 32px;\n",
              "  }\n",
              "\n",
              "  .colab-df-quickchart:hover {\n",
              "    background-color: var(--hover-bg-color);\n",
              "    box-shadow: 0 1px 2px rgba(60, 64, 67, 0.3), 0 1px 3px 1px rgba(60, 64, 67, 0.15);\n",
              "    fill: var(--button-hover-fill-color);\n",
              "  }\n",
              "\n",
              "  .colab-df-quickchart-complete:disabled,\n",
              "  .colab-df-quickchart-complete:disabled:hover {\n",
              "    background-color: var(--disabled-bg-color);\n",
              "    fill: var(--disabled-fill-color);\n",
              "    box-shadow: none;\n",
              "  }\n",
              "\n",
              "  .colab-df-spinner {\n",
              "    border: 2px solid var(--fill-color);\n",
              "    border-color: transparent;\n",
              "    border-bottom-color: var(--fill-color);\n",
              "    animation:\n",
              "      spin 1s steps(1) infinite;\n",
              "  }\n",
              "\n",
              "  @keyframes spin {\n",
              "    0% {\n",
              "      border-color: transparent;\n",
              "      border-bottom-color: var(--fill-color);\n",
              "      border-left-color: var(--fill-color);\n",
              "    }\n",
              "    20% {\n",
              "      border-color: transparent;\n",
              "      border-left-color: var(--fill-color);\n",
              "      border-top-color: var(--fill-color);\n",
              "    }\n",
              "    30% {\n",
              "      border-color: transparent;\n",
              "      border-left-color: var(--fill-color);\n",
              "      border-top-color: var(--fill-color);\n",
              "      border-right-color: var(--fill-color);\n",
              "    }\n",
              "    40% {\n",
              "      border-color: transparent;\n",
              "      border-right-color: var(--fill-color);\n",
              "      border-top-color: var(--fill-color);\n",
              "    }\n",
              "    60% {\n",
              "      border-color: transparent;\n",
              "      border-right-color: var(--fill-color);\n",
              "    }\n",
              "    80% {\n",
              "      border-color: transparent;\n",
              "      border-right-color: var(--fill-color);\n",
              "      border-bottom-color: var(--fill-color);\n",
              "    }\n",
              "    90% {\n",
              "      border-color: transparent;\n",
              "      border-bottom-color: var(--fill-color);\n",
              "    }\n",
              "  }\n",
              "</style>\n",
              "\n",
              "  <script>\n",
              "    async function quickchart(key) {\n",
              "      const quickchartButtonEl =\n",
              "        document.querySelector('#' + key + ' button');\n",
              "      quickchartButtonEl.disabled = true;  // To prevent multiple clicks.\n",
              "      quickchartButtonEl.classList.add('colab-df-spinner');\n",
              "      try {\n",
              "        const charts = await google.colab.kernel.invokeFunction(\n",
              "            'suggestCharts', [key], {});\n",
              "      } catch (error) {\n",
              "        console.error('Error during call to suggestCharts:', error);\n",
              "      }\n",
              "      quickchartButtonEl.classList.remove('colab-df-spinner');\n",
              "      quickchartButtonEl.classList.add('colab-df-quickchart-complete');\n",
              "    }\n",
              "    (() => {\n",
              "      let quickchartButtonEl =\n",
              "        document.querySelector('#df-e1f0d25a-d874-431f-b169-ed64eb442cc7 button');\n",
              "      quickchartButtonEl.style.display =\n",
              "        google.colab.kernel.accessAllowed ? 'block' : 'none';\n",
              "    })();\n",
              "  </script>\n",
              "</div>\n",
              "    </div>\n",
              "  </div>\n"
            ],
            "application/vnd.google.colaboratory.intrinsic+json": {
              "type": "dataframe",
              "variable_name": "two_dimensional_variational_series",
              "summary": "{\n  \"name\": \"two_dimensional_variational_series\",\n  \"rows\": 9,\n  \"fields\": [\n    {\n      \"column\": \"[74.1, 86.68888888888888)\",\n      \"properties\": {\n        \"dtype\": \"number\",\n        \"std\": 1,\n        \"min\": 0,\n        \"max\": 2,\n        \"num_unique_values\": 2,\n        \"samples\": [\n          0,\n          2\n        ],\n        \"semantic_type\": \"\",\n        \"description\": \"\"\n      }\n    },\n    {\n      \"column\": \"[86.68888888888888, 99.27777777777777)\",\n      \"properties\": {\n        \"dtype\": \"number\",\n        \"std\": 1,\n        \"min\": 0,\n        \"max\": 4,\n        \"num_unique_values\": 4,\n        \"samples\": [\n          4,\n          0\n        ],\n        \"semantic_type\": \"\",\n        \"description\": \"\"\n      }\n    },\n    {\n      \"column\": \"[99.27777777777777, 111.86666666666667)\",\n      \"properties\": {\n        \"dtype\": \"number\",\n        \"std\": 1,\n        \"min\": 0,\n        \"max\": 5,\n        \"num_unique_values\": 4,\n        \"samples\": [\n          5,\n          0\n        ],\n        \"semantic_type\": \"\",\n        \"description\": \"\"\n      }\n    },\n    {\n      \"column\": \"[111.86666666666667, 124.45555555555555)\",\n      \"properties\": {\n        \"dtype\": \"number\",\n        \"std\": 5,\n        \"min\": 0,\n        \"max\": 16,\n        \"num_unique_values\": 5,\n        \"samples\": [\n          3,\n          1\n        ],\n        \"semantic_type\": \"\",\n        \"description\": \"\"\n      }\n    },\n    {\n      \"column\": \"[124.45555555555555, 137.04444444444445)\",\n      \"properties\": {\n        \"dtype\": \"number\",\n        \"std\": 4,\n        \"min\": 0,\n        \"max\": 11,\n        \"num_unique_values\": 4,\n        \"samples\": [\n          11,\n          4\n        ],\n        \"semantic_type\": \"\",\n        \"description\": \"\"\n      }\n    },\n    {\n      \"column\": \"[137.04444444444445, 149.63333333333333)\",\n      \"properties\": {\n        \"dtype\": \"number\",\n        \"std\": 2,\n        \"min\": 0,\n        \"max\": 8,\n        \"num_unique_values\": 5,\n        \"samples\": [\n          5,\n          1\n        ],\n        \"semantic_type\": \"\",\n        \"description\": \"\"\n      }\n    },\n    {\n      \"column\": \"[149.63333333333333, 162.22222222222223)\",\n      \"properties\": {\n        \"dtype\": \"number\",\n        \"std\": 1,\n        \"min\": 0,\n        \"max\": 6,\n        \"num_unique_values\": 3,\n        \"samples\": [\n          0,\n          6\n        ],\n        \"semantic_type\": \"\",\n        \"description\": \"\"\n      }\n    },\n    {\n      \"column\": \"[162.22222222222223, 174.81111111111113)\",\n      \"properties\": {\n        \"dtype\": \"number\",\n        \"std\": 0,\n        \"min\": 0,\n        \"max\": 2,\n        \"num_unique_values\": 3,\n        \"samples\": [\n          0,\n          2\n        ],\n        \"semantic_type\": \"\",\n        \"description\": \"\"\n      }\n    },\n    {\n      \"column\": \"[174.81111111111113, 187.4]\",\n      \"properties\": {\n        \"dtype\": \"number\",\n        \"std\": 1,\n        \"min\": 0,\n        \"max\": 3,\n        \"num_unique_values\": 3,\n        \"samples\": [\n          0,\n          1\n        ],\n        \"semantic_type\": \"\",\n        \"description\": \"\"\n      }\n    }\n  ]\n}"
            }
          },
          "metadata": {},
          "execution_count": 20
        }
      ]
    },
    {
      "cell_type": "markdown",
      "source": [
        "3.\n",
        "По полученному двумерному интервальному вариационному ряду построить корреляционную таблицу."
      ],
      "metadata": {
        "id": "jH9tzMLm2Z5k"
      }
    },
    {
      "cell_type": "code",
      "source": [
        "two_dimensional_variational_series['Сумма'] = two_dimensional_variational_series.sum(axis=1)"
      ],
      "metadata": {
        "id": "yWHQsP4pzvc2"
      },
      "execution_count": 21,
      "outputs": []
    },
    {
      "cell_type": "code",
      "source": [
        "new_row = [two_dimensional_variational_series[col].sum() for col in two_dimensional_variational_series.columns]\n",
        "# new_row.insert(0, 'Сумма')\n",
        "new_row\n"
      ],
      "metadata": {
        "colab": {
          "base_uri": "https://localhost:8080/"
        },
        "id": "CZzX0Kx58crI",
        "outputId": "abdec8e2-d620-45dc-9daf-6d7d9e00ecb2"
      },
      "execution_count": 22,
      "outputs": [
        {
          "output_type": "execute_result",
          "data": {
            "text/plain": [
              "[6, 11, 10, 25, 24, 17, 8, 5, 4, 110]"
            ]
          },
          "metadata": {},
          "execution_count": 22
        }
      ]
    },
    {
      "cell_type": "code",
      "source": [
        "two_dimensional_variational_series.loc['Сумма'] = new_row\n",
        "\n",
        "two_dimensional_variational_series"
      ],
      "metadata": {
        "colab": {
          "base_uri": "https://localhost:8080/",
          "height": 556
        },
        "id": "RgnSy91ZAqhs",
        "outputId": "7ab899dd-5267-4cbe-ed83-03e6dfff4c90"
      },
      "execution_count": 23,
      "outputs": [
        {
          "output_type": "execute_result",
          "data": {
            "text/plain": [
              "                                          [74.1, 86.68888888888888)  \\\n",
              "[321.0, 351.22222222222223)                                       2   \n",
              "[351.22222222222223, 381.44444444444446)                          2   \n",
              "[381.44444444444446, 411.66666666666663)                          2   \n",
              "[411.66666666666663, 441.8888888888889)                           0   \n",
              "[441.8888888888889, 472.1111111111111)                            0   \n",
              "[472.1111111111111, 502.3333333333333)                            0   \n",
              "[502.3333333333333, 532.5555555555555)                            0   \n",
              "[532.5555555555555, 562.7777777777778)                            0   \n",
              "[562.7777777777778, 593]                                          0   \n",
              "Сумма                                                             6   \n",
              "\n",
              "                                          [86.68888888888888, 99.27777777777777)  \\\n",
              "[321.0, 351.22222222222223)                                                    2   \n",
              "[351.22222222222223, 381.44444444444446)                                       4   \n",
              "[381.44444444444446, 411.66666666666663)                                       4   \n",
              "[411.66666666666663, 441.8888888888889)                                        1   \n",
              "[441.8888888888889, 472.1111111111111)                                         0   \n",
              "[472.1111111111111, 502.3333333333333)                                         0   \n",
              "[502.3333333333333, 532.5555555555555)                                         0   \n",
              "[532.5555555555555, 562.7777777777778)                                         0   \n",
              "[562.7777777777778, 593]                                                       0   \n",
              "Сумма                                                                         11   \n",
              "\n",
              "                                          [99.27777777777777, 111.86666666666667)  \\\n",
              "[321.0, 351.22222222222223)                                                     1   \n",
              "[351.22222222222223, 381.44444444444446)                                        1   \n",
              "[381.44444444444446, 411.66666666666663)                                        5   \n",
              "[411.66666666666663, 441.8888888888889)                                         3   \n",
              "[441.8888888888889, 472.1111111111111)                                          0   \n",
              "[472.1111111111111, 502.3333333333333)                                          0   \n",
              "[502.3333333333333, 532.5555555555555)                                          0   \n",
              "[532.5555555555555, 562.7777777777778)                                          0   \n",
              "[562.7777777777778, 593]                                                        0   \n",
              "Сумма                                                                          10   \n",
              "\n",
              "                                          [111.86666666666667, 124.45555555555555)  \\\n",
              "[321.0, 351.22222222222223)                                                      0   \n",
              "[351.22222222222223, 381.44444444444446)                                         0   \n",
              "[381.44444444444446, 411.66666666666663)                                         3   \n",
              "[411.66666666666663, 441.8888888888889)                                         16   \n",
              "[441.8888888888889, 472.1111111111111)                                           5   \n",
              "[472.1111111111111, 502.3333333333333)                                           1   \n",
              "[502.3333333333333, 532.5555555555555)                                           0   \n",
              "[532.5555555555555, 562.7777777777778)                                           0   \n",
              "[562.7777777777778, 593]                                                         0   \n",
              "Сумма                                                                           25   \n",
              "\n",
              "                                          [124.45555555555555, 137.04444444444445)  \\\n",
              "[321.0, 351.22222222222223)                                                      0   \n",
              "[351.22222222222223, 381.44444444444446)                                         0   \n",
              "[381.44444444444446, 411.66666666666663)                                         0   \n",
              "[411.66666666666663, 441.8888888888889)                                         11   \n",
              "[441.8888888888889, 472.1111111111111)                                           9   \n",
              "[472.1111111111111, 502.3333333333333)                                           4   \n",
              "[502.3333333333333, 532.5555555555555)                                           0   \n",
              "[532.5555555555555, 562.7777777777778)                                           0   \n",
              "[562.7777777777778, 593]                                                         0   \n",
              "Сумма                                                                           24   \n",
              "\n",
              "                                          [137.04444444444445, 149.63333333333333)  \\\n",
              "[321.0, 351.22222222222223)                                                      0   \n",
              "[351.22222222222223, 381.44444444444446)                                         0   \n",
              "[381.44444444444446, 411.66666666666663)                                         0   \n",
              "[411.66666666666663, 441.8888888888889)                                          0   \n",
              "[441.8888888888889, 472.1111111111111)                                           5   \n",
              "[472.1111111111111, 502.3333333333333)                                           8   \n",
              "[502.3333333333333, 532.5555555555555)                                           3   \n",
              "[532.5555555555555, 562.7777777777778)                                           1   \n",
              "[562.7777777777778, 593]                                                         0   \n",
              "Сумма                                                                           17   \n",
              "\n",
              "                                          [149.63333333333333, 162.22222222222223)  \\\n",
              "[321.0, 351.22222222222223)                                                      0   \n",
              "[351.22222222222223, 381.44444444444446)                                         0   \n",
              "[381.44444444444446, 411.66666666666663)                                         0   \n",
              "[411.66666666666663, 441.8888888888889)                                          0   \n",
              "[441.8888888888889, 472.1111111111111)                                           0   \n",
              "[472.1111111111111, 502.3333333333333)                                           0   \n",
              "[502.3333333333333, 532.5555555555555)                                           6   \n",
              "[532.5555555555555, 562.7777777777778)                                           1   \n",
              "[562.7777777777778, 593]                                                         1   \n",
              "Сумма                                                                            8   \n",
              "\n",
              "                                          [162.22222222222223, 174.81111111111113)  \\\n",
              "[321.0, 351.22222222222223)                                                      0   \n",
              "[351.22222222222223, 381.44444444444446)                                         0   \n",
              "[381.44444444444446, 411.66666666666663)                                         0   \n",
              "[411.66666666666663, 441.8888888888889)                                          0   \n",
              "[441.8888888888889, 472.1111111111111)                                           0   \n",
              "[472.1111111111111, 502.3333333333333)                                           0   \n",
              "[502.3333333333333, 532.5555555555555)                                           2   \n",
              "[532.5555555555555, 562.7777777777778)                                           2   \n",
              "[562.7777777777778, 593]                                                         1   \n",
              "Сумма                                                                            5   \n",
              "\n",
              "                                          [174.81111111111113, 187.4]  Сумма  \n",
              "[321.0, 351.22222222222223)                                         0      5  \n",
              "[351.22222222222223, 381.44444444444446)                            0      7  \n",
              "[381.44444444444446, 411.66666666666663)                            0     14  \n",
              "[411.66666666666663, 441.8888888888889)                             0     31  \n",
              "[441.8888888888889, 472.1111111111111)                              0     19  \n",
              "[472.1111111111111, 502.3333333333333)                              0     13  \n",
              "[502.3333333333333, 532.5555555555555)                              0     11  \n",
              "[532.5555555555555, 562.7777777777778)                              1      5  \n",
              "[562.7777777777778, 593]                                            3      5  \n",
              "Сумма                                                               4    110  "
            ],
            "text/html": [
              "\n",
              "  <div id=\"df-520850c1-bdec-45d5-9828-f9b7fa6f497e\" class=\"colab-df-container\">\n",
              "    <div>\n",
              "<style scoped>\n",
              "    .dataframe tbody tr th:only-of-type {\n",
              "        vertical-align: middle;\n",
              "    }\n",
              "\n",
              "    .dataframe tbody tr th {\n",
              "        vertical-align: top;\n",
              "    }\n",
              "\n",
              "    .dataframe thead th {\n",
              "        text-align: right;\n",
              "    }\n",
              "</style>\n",
              "<table border=\"1\" class=\"dataframe\">\n",
              "  <thead>\n",
              "    <tr style=\"text-align: right;\">\n",
              "      <th></th>\n",
              "      <th>[74.1, 86.68888888888888)</th>\n",
              "      <th>[86.68888888888888, 99.27777777777777)</th>\n",
              "      <th>[99.27777777777777, 111.86666666666667)</th>\n",
              "      <th>[111.86666666666667, 124.45555555555555)</th>\n",
              "      <th>[124.45555555555555, 137.04444444444445)</th>\n",
              "      <th>[137.04444444444445, 149.63333333333333)</th>\n",
              "      <th>[149.63333333333333, 162.22222222222223)</th>\n",
              "      <th>[162.22222222222223, 174.81111111111113)</th>\n",
              "      <th>[174.81111111111113, 187.4]</th>\n",
              "      <th>Сумма</th>\n",
              "    </tr>\n",
              "  </thead>\n",
              "  <tbody>\n",
              "    <tr>\n",
              "      <th>[321.0, 351.22222222222223)</th>\n",
              "      <td>2</td>\n",
              "      <td>2</td>\n",
              "      <td>1</td>\n",
              "      <td>0</td>\n",
              "      <td>0</td>\n",
              "      <td>0</td>\n",
              "      <td>0</td>\n",
              "      <td>0</td>\n",
              "      <td>0</td>\n",
              "      <td>5</td>\n",
              "    </tr>\n",
              "    <tr>\n",
              "      <th>[351.22222222222223, 381.44444444444446)</th>\n",
              "      <td>2</td>\n",
              "      <td>4</td>\n",
              "      <td>1</td>\n",
              "      <td>0</td>\n",
              "      <td>0</td>\n",
              "      <td>0</td>\n",
              "      <td>0</td>\n",
              "      <td>0</td>\n",
              "      <td>0</td>\n",
              "      <td>7</td>\n",
              "    </tr>\n",
              "    <tr>\n",
              "      <th>[381.44444444444446, 411.66666666666663)</th>\n",
              "      <td>2</td>\n",
              "      <td>4</td>\n",
              "      <td>5</td>\n",
              "      <td>3</td>\n",
              "      <td>0</td>\n",
              "      <td>0</td>\n",
              "      <td>0</td>\n",
              "      <td>0</td>\n",
              "      <td>0</td>\n",
              "      <td>14</td>\n",
              "    </tr>\n",
              "    <tr>\n",
              "      <th>[411.66666666666663, 441.8888888888889)</th>\n",
              "      <td>0</td>\n",
              "      <td>1</td>\n",
              "      <td>3</td>\n",
              "      <td>16</td>\n",
              "      <td>11</td>\n",
              "      <td>0</td>\n",
              "      <td>0</td>\n",
              "      <td>0</td>\n",
              "      <td>0</td>\n",
              "      <td>31</td>\n",
              "    </tr>\n",
              "    <tr>\n",
              "      <th>[441.8888888888889, 472.1111111111111)</th>\n",
              "      <td>0</td>\n",
              "      <td>0</td>\n",
              "      <td>0</td>\n",
              "      <td>5</td>\n",
              "      <td>9</td>\n",
              "      <td>5</td>\n",
              "      <td>0</td>\n",
              "      <td>0</td>\n",
              "      <td>0</td>\n",
              "      <td>19</td>\n",
              "    </tr>\n",
              "    <tr>\n",
              "      <th>[472.1111111111111, 502.3333333333333)</th>\n",
              "      <td>0</td>\n",
              "      <td>0</td>\n",
              "      <td>0</td>\n",
              "      <td>1</td>\n",
              "      <td>4</td>\n",
              "      <td>8</td>\n",
              "      <td>0</td>\n",
              "      <td>0</td>\n",
              "      <td>0</td>\n",
              "      <td>13</td>\n",
              "    </tr>\n",
              "    <tr>\n",
              "      <th>[502.3333333333333, 532.5555555555555)</th>\n",
              "      <td>0</td>\n",
              "      <td>0</td>\n",
              "      <td>0</td>\n",
              "      <td>0</td>\n",
              "      <td>0</td>\n",
              "      <td>3</td>\n",
              "      <td>6</td>\n",
              "      <td>2</td>\n",
              "      <td>0</td>\n",
              "      <td>11</td>\n",
              "    </tr>\n",
              "    <tr>\n",
              "      <th>[532.5555555555555, 562.7777777777778)</th>\n",
              "      <td>0</td>\n",
              "      <td>0</td>\n",
              "      <td>0</td>\n",
              "      <td>0</td>\n",
              "      <td>0</td>\n",
              "      <td>1</td>\n",
              "      <td>1</td>\n",
              "      <td>2</td>\n",
              "      <td>1</td>\n",
              "      <td>5</td>\n",
              "    </tr>\n",
              "    <tr>\n",
              "      <th>[562.7777777777778, 593]</th>\n",
              "      <td>0</td>\n",
              "      <td>0</td>\n",
              "      <td>0</td>\n",
              "      <td>0</td>\n",
              "      <td>0</td>\n",
              "      <td>0</td>\n",
              "      <td>1</td>\n",
              "      <td>1</td>\n",
              "      <td>3</td>\n",
              "      <td>5</td>\n",
              "    </tr>\n",
              "    <tr>\n",
              "      <th>Сумма</th>\n",
              "      <td>6</td>\n",
              "      <td>11</td>\n",
              "      <td>10</td>\n",
              "      <td>25</td>\n",
              "      <td>24</td>\n",
              "      <td>17</td>\n",
              "      <td>8</td>\n",
              "      <td>5</td>\n",
              "      <td>4</td>\n",
              "      <td>110</td>\n",
              "    </tr>\n",
              "  </tbody>\n",
              "</table>\n",
              "</div>\n",
              "    <div class=\"colab-df-buttons\">\n",
              "\n",
              "  <div class=\"colab-df-container\">\n",
              "    <button class=\"colab-df-convert\" onclick=\"convertToInteractive('df-520850c1-bdec-45d5-9828-f9b7fa6f497e')\"\n",
              "            title=\"Convert this dataframe to an interactive table.\"\n",
              "            style=\"display:none;\">\n",
              "\n",
              "  <svg xmlns=\"http://www.w3.org/2000/svg\" height=\"24px\" viewBox=\"0 -960 960 960\">\n",
              "    <path d=\"M120-120v-720h720v720H120Zm60-500h600v-160H180v160Zm220 220h160v-160H400v160Zm0 220h160v-160H400v160ZM180-400h160v-160H180v160Zm440 0h160v-160H620v160ZM180-180h160v-160H180v160Zm440 0h160v-160H620v160Z\"/>\n",
              "  </svg>\n",
              "    </button>\n",
              "\n",
              "  <style>\n",
              "    .colab-df-container {\n",
              "      display:flex;\n",
              "      gap: 12px;\n",
              "    }\n",
              "\n",
              "    .colab-df-convert {\n",
              "      background-color: #E8F0FE;\n",
              "      border: none;\n",
              "      border-radius: 50%;\n",
              "      cursor: pointer;\n",
              "      display: none;\n",
              "      fill: #1967D2;\n",
              "      height: 32px;\n",
              "      padding: 0 0 0 0;\n",
              "      width: 32px;\n",
              "    }\n",
              "\n",
              "    .colab-df-convert:hover {\n",
              "      background-color: #E2EBFA;\n",
              "      box-shadow: 0px 1px 2px rgba(60, 64, 67, 0.3), 0px 1px 3px 1px rgba(60, 64, 67, 0.15);\n",
              "      fill: #174EA6;\n",
              "    }\n",
              "\n",
              "    .colab-df-buttons div {\n",
              "      margin-bottom: 4px;\n",
              "    }\n",
              "\n",
              "    [theme=dark] .colab-df-convert {\n",
              "      background-color: #3B4455;\n",
              "      fill: #D2E3FC;\n",
              "    }\n",
              "\n",
              "    [theme=dark] .colab-df-convert:hover {\n",
              "      background-color: #434B5C;\n",
              "      box-shadow: 0px 1px 3px 1px rgba(0, 0, 0, 0.15);\n",
              "      filter: drop-shadow(0px 1px 2px rgba(0, 0, 0, 0.3));\n",
              "      fill: #FFFFFF;\n",
              "    }\n",
              "  </style>\n",
              "\n",
              "    <script>\n",
              "      const buttonEl =\n",
              "        document.querySelector('#df-520850c1-bdec-45d5-9828-f9b7fa6f497e button.colab-df-convert');\n",
              "      buttonEl.style.display =\n",
              "        google.colab.kernel.accessAllowed ? 'block' : 'none';\n",
              "\n",
              "      async function convertToInteractive(key) {\n",
              "        const element = document.querySelector('#df-520850c1-bdec-45d5-9828-f9b7fa6f497e');\n",
              "        const dataTable =\n",
              "          await google.colab.kernel.invokeFunction('convertToInteractive',\n",
              "                                                    [key], {});\n",
              "        if (!dataTable) return;\n",
              "\n",
              "        const docLinkHtml = 'Like what you see? Visit the ' +\n",
              "          '<a target=\"_blank\" href=https://colab.research.google.com/notebooks/data_table.ipynb>data table notebook</a>'\n",
              "          + ' to learn more about interactive tables.';\n",
              "        element.innerHTML = '';\n",
              "        dataTable['output_type'] = 'display_data';\n",
              "        await google.colab.output.renderOutput(dataTable, element);\n",
              "        const docLink = document.createElement('div');\n",
              "        docLink.innerHTML = docLinkHtml;\n",
              "        element.appendChild(docLink);\n",
              "      }\n",
              "    </script>\n",
              "  </div>\n",
              "\n",
              "\n",
              "<div id=\"df-495f1174-8e57-4a01-93c7-25d0e5a1d317\">\n",
              "  <button class=\"colab-df-quickchart\" onclick=\"quickchart('df-495f1174-8e57-4a01-93c7-25d0e5a1d317')\"\n",
              "            title=\"Suggest charts\"\n",
              "            style=\"display:none;\">\n",
              "\n",
              "<svg xmlns=\"http://www.w3.org/2000/svg\" height=\"24px\"viewBox=\"0 0 24 24\"\n",
              "     width=\"24px\">\n",
              "    <g>\n",
              "        <path d=\"M19 3H5c-1.1 0-2 .9-2 2v14c0 1.1.9 2 2 2h14c1.1 0 2-.9 2-2V5c0-1.1-.9-2-2-2zM9 17H7v-7h2v7zm4 0h-2V7h2v10zm4 0h-2v-4h2v4z\"/>\n",
              "    </g>\n",
              "</svg>\n",
              "  </button>\n",
              "\n",
              "<style>\n",
              "  .colab-df-quickchart {\n",
              "      --bg-color: #E8F0FE;\n",
              "      --fill-color: #1967D2;\n",
              "      --hover-bg-color: #E2EBFA;\n",
              "      --hover-fill-color: #174EA6;\n",
              "      --disabled-fill-color: #AAA;\n",
              "      --disabled-bg-color: #DDD;\n",
              "  }\n",
              "\n",
              "  [theme=dark] .colab-df-quickchart {\n",
              "      --bg-color: #3B4455;\n",
              "      --fill-color: #D2E3FC;\n",
              "      --hover-bg-color: #434B5C;\n",
              "      --hover-fill-color: #FFFFFF;\n",
              "      --disabled-bg-color: #3B4455;\n",
              "      --disabled-fill-color: #666;\n",
              "  }\n",
              "\n",
              "  .colab-df-quickchart {\n",
              "    background-color: var(--bg-color);\n",
              "    border: none;\n",
              "    border-radius: 50%;\n",
              "    cursor: pointer;\n",
              "    display: none;\n",
              "    fill: var(--fill-color);\n",
              "    height: 32px;\n",
              "    padding: 0;\n",
              "    width: 32px;\n",
              "  }\n",
              "\n",
              "  .colab-df-quickchart:hover {\n",
              "    background-color: var(--hover-bg-color);\n",
              "    box-shadow: 0 1px 2px rgba(60, 64, 67, 0.3), 0 1px 3px 1px rgba(60, 64, 67, 0.15);\n",
              "    fill: var(--button-hover-fill-color);\n",
              "  }\n",
              "\n",
              "  .colab-df-quickchart-complete:disabled,\n",
              "  .colab-df-quickchart-complete:disabled:hover {\n",
              "    background-color: var(--disabled-bg-color);\n",
              "    fill: var(--disabled-fill-color);\n",
              "    box-shadow: none;\n",
              "  }\n",
              "\n",
              "  .colab-df-spinner {\n",
              "    border: 2px solid var(--fill-color);\n",
              "    border-color: transparent;\n",
              "    border-bottom-color: var(--fill-color);\n",
              "    animation:\n",
              "      spin 1s steps(1) infinite;\n",
              "  }\n",
              "\n",
              "  @keyframes spin {\n",
              "    0% {\n",
              "      border-color: transparent;\n",
              "      border-bottom-color: var(--fill-color);\n",
              "      border-left-color: var(--fill-color);\n",
              "    }\n",
              "    20% {\n",
              "      border-color: transparent;\n",
              "      border-left-color: var(--fill-color);\n",
              "      border-top-color: var(--fill-color);\n",
              "    }\n",
              "    30% {\n",
              "      border-color: transparent;\n",
              "      border-left-color: var(--fill-color);\n",
              "      border-top-color: var(--fill-color);\n",
              "      border-right-color: var(--fill-color);\n",
              "    }\n",
              "    40% {\n",
              "      border-color: transparent;\n",
              "      border-right-color: var(--fill-color);\n",
              "      border-top-color: var(--fill-color);\n",
              "    }\n",
              "    60% {\n",
              "      border-color: transparent;\n",
              "      border-right-color: var(--fill-color);\n",
              "    }\n",
              "    80% {\n",
              "      border-color: transparent;\n",
              "      border-right-color: var(--fill-color);\n",
              "      border-bottom-color: var(--fill-color);\n",
              "    }\n",
              "    90% {\n",
              "      border-color: transparent;\n",
              "      border-bottom-color: var(--fill-color);\n",
              "    }\n",
              "  }\n",
              "</style>\n",
              "\n",
              "  <script>\n",
              "    async function quickchart(key) {\n",
              "      const quickchartButtonEl =\n",
              "        document.querySelector('#' + key + ' button');\n",
              "      quickchartButtonEl.disabled = true;  // To prevent multiple clicks.\n",
              "      quickchartButtonEl.classList.add('colab-df-spinner');\n",
              "      try {\n",
              "        const charts = await google.colab.kernel.invokeFunction(\n",
              "            'suggestCharts', [key], {});\n",
              "      } catch (error) {\n",
              "        console.error('Error during call to suggestCharts:', error);\n",
              "      }\n",
              "      quickchartButtonEl.classList.remove('colab-df-spinner');\n",
              "      quickchartButtonEl.classList.add('colab-df-quickchart-complete');\n",
              "    }\n",
              "    (() => {\n",
              "      let quickchartButtonEl =\n",
              "        document.querySelector('#df-495f1174-8e57-4a01-93c7-25d0e5a1d317 button');\n",
              "      quickchartButtonEl.style.display =\n",
              "        google.colab.kernel.accessAllowed ? 'block' : 'none';\n",
              "    })();\n",
              "  </script>\n",
              "</div>\n",
              "    </div>\n",
              "  </div>\n"
            ],
            "application/vnd.google.colaboratory.intrinsic+json": {
              "type": "dataframe",
              "variable_name": "two_dimensional_variational_series",
              "summary": "{\n  \"name\": \"two_dimensional_variational_series\",\n  \"rows\": 10,\n  \"fields\": [\n    {\n      \"column\": \"[74.1, 86.68888888888888)\",\n      \"properties\": {\n        \"dtype\": \"number\",\n        \"std\": 1,\n        \"min\": 0,\n        \"max\": 6,\n        \"num_unique_values\": 3,\n        \"samples\": [\n          2,\n          0,\n          6\n        ],\n        \"semantic_type\": \"\",\n        \"description\": \"\"\n      }\n    },\n    {\n      \"column\": \"[86.68888888888888, 99.27777777777777)\",\n      \"properties\": {\n        \"dtype\": \"number\",\n        \"std\": 3,\n        \"min\": 0,\n        \"max\": 11,\n        \"num_unique_values\": 5,\n        \"samples\": [\n          4,\n          11,\n          1\n        ],\n        \"semantic_type\": \"\",\n        \"description\": \"\"\n      }\n    },\n    {\n      \"column\": \"[99.27777777777777, 111.86666666666667)\",\n      \"properties\": {\n        \"dtype\": \"number\",\n        \"std\": 3,\n        \"min\": 0,\n        \"max\": 10,\n        \"num_unique_values\": 5,\n        \"samples\": [\n          5,\n          10,\n          3\n        ],\n        \"semantic_type\": \"\",\n        \"description\": \"\"\n      }\n    },\n    {\n      \"column\": \"[111.86666666666667, 124.45555555555555)\",\n      \"properties\": {\n        \"dtype\": \"number\",\n        \"std\": 8,\n        \"min\": 0,\n        \"max\": 25,\n        \"num_unique_values\": 6,\n        \"samples\": [\n          0,\n          3,\n          25\n        ],\n        \"semantic_type\": \"\",\n        \"description\": \"\"\n      }\n    },\n    {\n      \"column\": \"[124.45555555555555, 137.04444444444445)\",\n      \"properties\": {\n        \"dtype\": \"number\",\n        \"std\": 7,\n        \"min\": 0,\n        \"max\": 24,\n        \"num_unique_values\": 5,\n        \"samples\": [\n          11,\n          24,\n          9\n        ],\n        \"semantic_type\": \"\",\n        \"description\": \"\"\n      }\n    },\n    {\n      \"column\": \"[137.04444444444445, 149.63333333333333)\",\n      \"properties\": {\n        \"dtype\": \"number\",\n        \"std\": 5,\n        \"min\": 0,\n        \"max\": 17,\n        \"num_unique_values\": 6,\n        \"samples\": [\n          0,\n          5,\n          17\n        ],\n        \"semantic_type\": \"\",\n        \"description\": \"\"\n      }\n    },\n    {\n      \"column\": \"[149.63333333333333, 162.22222222222223)\",\n      \"properties\": {\n        \"dtype\": \"number\",\n        \"std\": 2,\n        \"min\": 0,\n        \"max\": 8,\n        \"num_unique_values\": 4,\n        \"samples\": [\n          6,\n          8,\n          0\n        ],\n        \"semantic_type\": \"\",\n        \"description\": \"\"\n      }\n    },\n    {\n      \"column\": \"[162.22222222222223, 174.81111111111113)\",\n      \"properties\": {\n        \"dtype\": \"number\",\n        \"std\": 1,\n        \"min\": 0,\n        \"max\": 5,\n        \"num_unique_values\": 4,\n        \"samples\": [\n          2,\n          5,\n          0\n        ],\n        \"semantic_type\": \"\",\n        \"description\": \"\"\n      }\n    },\n    {\n      \"column\": \"[174.81111111111113, 187.4]\",\n      \"properties\": {\n        \"dtype\": \"number\",\n        \"std\": 1,\n        \"min\": 0,\n        \"max\": 4,\n        \"num_unique_values\": 4,\n        \"samples\": [\n          1,\n          4,\n          0\n        ],\n        \"semantic_type\": \"\",\n        \"description\": \"\"\n      }\n    },\n    {\n      \"column\": \"\\u0421\\u0443\\u043c\\u043c\\u0430\",\n      \"properties\": {\n        \"dtype\": \"number\",\n        \"std\": 31,\n        \"min\": 5,\n        \"max\": 110,\n        \"num_unique_values\": 8,\n        \"samples\": [\n          7,\n          13,\n          5\n        ],\n        \"semantic_type\": \"\",\n        \"description\": \"\"\n      }\n    }\n  ]\n}"
            }
          },
          "metadata": {},
          "execution_count": 23
        }
      ]
    },
    {
      "cell_type": "code",
      "source": [],
      "metadata": {
        "id": "6De8i_Yk6oCg"
      },
      "execution_count": null,
      "outputs": []
    },
    {
      "cell_type": "code",
      "source": [],
      "metadata": {
        "id": "SOcer55KBV0i"
      },
      "execution_count": null,
      "outputs": []
    },
    {
      "cell_type": "code",
      "source": [],
      "metadata": {
        "id": "Tds-INDrBV3r"
      },
      "execution_count": null,
      "outputs": []
    },
    {
      "cell_type": "code",
      "source": [],
      "metadata": {
        "id": "KGxoEOZqBV8g"
      },
      "execution_count": null,
      "outputs": []
    },
    {
      "cell_type": "code",
      "source": [],
      "metadata": {
        "id": "PkdYvhp8ojsp"
      },
      "execution_count": null,
      "outputs": []
    },
    {
      "cell_type": "code",
      "execution_count": null,
      "metadata": {
        "id": "5nt6Btlv66Z_"
      },
      "outputs": [],
      "source": [
        "import numpy as np\n",
        "from scipy.special import erf"
      ]
    },
    {
      "cell_type": "code",
      "source": [
        "laplas = lambda x: erf(x/2**0.5)/2"
      ],
      "metadata": {
        "id": "Oor4q5A4oqYx"
      },
      "execution_count": null,
      "outputs": []
    },
    {
      "cell_type": "code",
      "source": [
        "N = 111\n",
        "X_avg = 128.536\n",
        "S = 24.3566\n",
        "y_1 = 0.95\n",
        "y_2 = 0.99\n",
        "t_accuracy_1 = 1.9855;\n",
        "t_accuracy_2 = 2.627;"
      ],
      "metadata": {
        "id": "mhpWUb4z7EKW"
      },
      "execution_count": null,
      "outputs": []
    },
    {
      "cell_type": "markdown",
      "source": [
        "t = 1.9855 при γ = 0.95 и n = N-1 = 110"
      ],
      "metadata": {
        "id": "mdRuih70tkWX"
      }
    },
    {
      "cell_type": "code",
      "source": [
        "accuracy_1 = t_accuracy_1 * S / np.sqrt(N)\n",
        "a_left_1 = X_avg - accuracy_1\n",
        "a_right_1 = X_avg + accuracy_1\n",
        "print(\"Доверительный интервал для математического ожидания при y=0.95 (\", a_left_1, \" ; \", a_right_1, \")\")\n",
        "print(\"Точность \", accuracy_1)\n",
        "accuracy_2 = t_accuracy_2 * S / np.sqrt(N)\n",
        "a_left_2 = X_avg - accuracy_2\n",
        "a_right_2 = X_avg + accuracy_2\n",
        "print(\"Доверительный интервал для математического ожидания при y=0.99 (\", a_left_2, \" ; \", a_right_2, \")\")\n",
        "print(\"Точность \", accuracy_2)"
      ],
      "metadata": {
        "colab": {
          "base_uri": "https://localhost:8080/"
        },
        "id": "PL7tDhttZp8b",
        "outputId": "882adb5c-acb0-4420-fe83-7191e788ac28"
      },
      "execution_count": null,
      "outputs": [
        {
          "output_type": "stream",
          "name": "stdout",
          "text": [
            "Доверительный интервал для математического ожидания при y=0.95 ( 123.94586915150799  ;  133.126130848492 )\n",
            "Точность  4.590130848492013\n",
            "Доверительный интервал для математического ожидания при y=0.99 ( 122.46283266734399  ;  134.60916733265603 )\n",
            "Точность  6.0731673326560145\n"
          ]
        }
      ]
    },
    {
      "cell_type": "markdown",
      "source": [
        "Вывод:\n",
        "\n",
        "Мат. ожидание с вероятностью 0.95 в интервале ( 123.94586915150799  ;  133.126130848492 )\n",
        "\n",
        "Мат. ожидание с вероятностью 0.99 в интервале ( 122.46283266734399  ;  134.60916733265603 )\n",
        "\n",
        "Второй интервал более вероятен, но и имеет больший диапозон, следовательно не всегда информативен"
      ],
      "metadata": {
        "id": "Oe-vU2mxwTgp"
      }
    },
    {
      "cell_type": "markdown",
      "source": [
        "2. Для вычисления границ доверительного интервала для среднеквадратичного отклонения определить значение q при заданных γ и  n. Построить доверительные интервалы, сделать выводы."
      ],
      "metadata": {
        "id": "hh3fBHvmvhr0"
      }
    },
    {
      "cell_type": "code",
      "source": [
        "q = 0.143\n",
        "sd_left = S*(1-q)\n",
        "sd_right = S*(1+q)\n",
        "print(\"q = \", q)\n",
        "print(\"Доверительный интервал для среднеквадратического отклонения: \")\n",
        "print(sd_left, sd_right)"
      ],
      "metadata": {
        "colab": {
          "base_uri": "https://localhost:8080/"
        },
        "id": "IsXD1YrJj2xi",
        "outputId": "cb85bd9e-1168-4918-d08a-27673fbd3dbc"
      },
      "execution_count": null,
      "outputs": [
        {
          "output_type": "stream",
          "name": "stdout",
          "text": [
            "q =  0.143\n",
            "Доверительный интервал для среднеквадратического отклонения: \n",
            "20.8736062 27.8395938\n"
          ]
        }
      ]
    },
    {
      "cell_type": "markdown",
      "source": [
        "Из таблицы q = 0.143\n"
      ],
      "metadata": {
        "id": "cu428MU9wMKT"
      }
    },
    {
      "cell_type": "markdown",
      "source": [
        "Вывод:\n",
        "\n",
        "С вероятностью 0.95 СКВО лежит в интервале (20.8736062; 27.8395938)"
      ],
      "metadata": {
        "id": "EJbeklbxwQ_u"
      }
    },
    {
      "cell_type": "markdown",
      "source": [
        "3.\n",
        "Проверить гипотезу о нормальности заданного распределения с помощью критерия χ2 (Пирсона). Для этого необходимо найти теоретические частоты и вычислить наблюдаемое значение критерия. Для удобства вычисления необходимо заполнить табл. 1."
      ],
      "metadata": {
        "id": "FxPlh3eOwVUt"
      }
    },
    {
      "cell_type": "markdown",
      "source": [
        "H0 - гипотеза о том, что выборка имеет нормальное распределение, H1 - альтернативная гипотеза, что выборка имеет не нормальное распределение."
      ],
      "metadata": {
        "id": "UImGCGua9pNG"
      }
    },
    {
      "cell_type": "code",
      "source": [
        "freq = [13, 13, 13, 19, 18, 17, 7, 6]\n",
        "mid_values = [84, 102, 114, 126, 138, 150, 162, 174]\n",
        "borders = [[72.6, 96.6, 108.7, 120.7, 132.8, 144.8, 156.9, 168.9],[96.6, 108.7, 120.7, 132.8, 144.8, 156.9, 168.9, 181.0]]\n",
        "z = [[(e - X_avg)/S for e in borders[0]],[(i - X_avg)/S for i in borders[1]]]\n",
        "z[0][0] = -float('inf')\n",
        "z[1][-1] = float('inf')\n",
        "p = []\n",
        "for i in range(0, len(z[0])):\n",
        "    p.append(laplas(z[1][i])-laplas(z[0][i]))\n",
        "freq_theor = [x*sum(freq) for x in p]"
      ],
      "metadata": {
        "id": "JQH-2SCslXmJ"
      },
      "execution_count": null,
      "outputs": []
    },
    {
      "cell_type": "code",
      "source": [
        "print(\"(x_i-1, x_i):\")\n",
        "for i in range(len(borders[0])):\n",
        "  print(borders[0][i], borders[1][i])\n",
        "print(\"n_i\")\n",
        "print(freq)\n",
        "print(\"p_i\")\n",
        "print(p)\n",
        "print(\"n_i'\")\n",
        "print(freq_theor)\n",
        "print(\"(n_i-n_i')^2\")\n",
        "print([(freq_theor[i] - freq[i])**2 for i in range(len(freq))])\n",
        "print(\"(n_i-n_i')^2/n_i'\")\n",
        "print([(freq_theor[i] - freq[i])**2 / freq_theor[i] for i in range(len(freq))])\n",
        "print(\"n_i^2\")\n",
        "print([freq[i]**2 for i in range(len(freq))])\n",
        "print(\"n_i^2/n_i'\")\n",
        "print([freq[i]**2 / freq_theor[i] for i in range(len(freq))])"
      ],
      "metadata": {
        "colab": {
          "base_uri": "https://localhost:8080/"
        },
        "id": "Ta4jeVlgxepq",
        "outputId": "2f155fc2-6375-4fdf-837a-7f4f94c14cc1"
      },
      "execution_count": null,
      "outputs": [
        {
          "output_type": "stream",
          "name": "stdout",
          "text": [
            "(x_i-1, x_i):\n",
            "72.6 96.6\n",
            "96.6 108.7\n",
            "108.7 120.7\n",
            "120.7 132.8\n",
            "132.8 144.8\n",
            "144.8 156.9\n",
            "156.9 168.9\n",
            "168.9 181.0\n",
            "n_i\n",
            "[13, 13, 13, 19, 18, 17, 7, 6]\n",
            "p_i\n",
            "[0.09489769385540875, 0.11281040228097877, 0.16612439957590025, 0.19565341522520005, 0.17836592704796528, 0.13004358703510846, 0.07336605773131383, 0.04873851724812461]\n",
            "n_i'\n",
            "[10.059155548673328, 11.95790264178375, 17.609186355045427, 20.739262013871205, 18.90678826708432, 13.784620225721497, 7.776802119519266, 5.166282828301209]\n",
            "(n_i-n_i')^2\n",
            "[8.648566086898876, 1.0859669040012865, 21.24459885553695, 3.0250323528953187, 0.8222649613217835, 10.338667092839277, 0.6034215328896234, 0.6950843223854317]\n",
            "(n_i-n_i')^2/n_i'\n",
            "[0.8597705885997071, 0.09081583422553219, 1.206449771567662, 0.14586017336933504, 0.043490462245949074, 0.7500146484665408, 0.07759250185562454, 0.1345424448266204]\n",
            "n_i^2\n",
            "[169, 169, 169, 361, 324, 289, 49, 36]\n",
            "n_i^2/n_i'\n",
            "[16.80061503992638, 14.132913192441782, 9.597263416522235, 17.40659815949813, 17.13670219516163, 20.965394422745042, 6.300790382336359, 6.968259616525412]\n"
          ]
        }
      ]
    },
    {
      "cell_type": "markdown",
      "source": [
        "k = K - 3 = 5\n",
        "\n",
        "$χ2_{крит} = 11.1$ из таблицы"
      ],
      "metadata": {
        "id": "Z1rNePfS2ez0"
      }
    },
    {
      "cell_type": "code",
      "source": [
        "k = 5\n",
        "chi2_expected = 11.1"
      ],
      "metadata": {
        "id": "41Ozr-_I3FOs"
      },
      "execution_count": null,
      "outputs": []
    },
    {
      "cell_type": "code",
      "source": [
        "stats_crit = []\n",
        "for i in range(len(freq)):\n",
        "    stats_crit.append((freq[i] - freq_theor[i])**2/freq_theor[i])\n",
        "chi2_calculated = sum(stats_crit)\n",
        "print(\"Наблюдаемое значение критерия: \", chi2_calculated)\n",
        "print(\"Наблюдаемое < критическое: \", chi2_calculated < chi2_expected)"
      ],
      "metadata": {
        "colab": {
          "base_uri": "https://localhost:8080/"
        },
        "id": "CUmaosSepxkL",
        "outputId": "561d8dda-dc12-4430-f7a7-79f5203014bf"
      },
      "execution_count": null,
      "outputs": [
        {
          "output_type": "stream",
          "name": "stdout",
          "text": [
            "Наблюдаемое значение критерия:  3.3085364251569715\n",
            "Наблюдаемое < критическое:  True\n"
          ]
        }
      ]
    },
    {
      "cell_type": "markdown",
      "source": [
        "Основная гипотеза подтверждена"
      ],
      "metadata": {
        "id": "6LdZy2x730y-"
      }
    },
    {
      "cell_type": "markdown",
      "source": [
        "4.\n",
        "\n",
        "$χ^2_{набл} = \\sum\\frac{(n_i - n^`_i)^2}{n_i^`} = \\sum\\frac{n_i^2 - 2n_in^`_i + (n^`_i)^2}{n_i^`} = \\sum\\frac{n_i^2}{n_i^`} - 2\\sum n_i + \\sum n^`_i = \\sum\\frac{n_i^2}{n_i^`} - 2N + N = \\sum\\frac{n_i^2}{n_i^`} - N$"
      ],
      "metadata": {
        "id": "fi6YQJ1j4psq"
      }
    },
    {
      "cell_type": "code",
      "source": [
        "print(sum([(freq[i]**2) / freq_theor[i] for i in range(len(freq))]) - sum(freq))"
      ],
      "metadata": {
        "colab": {
          "base_uri": "https://localhost:8080/"
        },
        "id": "WdONWRvl-EWx",
        "outputId": "80bbbb2d-e4b3-49aa-bc58-99ac51cbd9aa"
      },
      "execution_count": null,
      "outputs": [
        {
          "output_type": "stream",
          "name": "stdout",
          "text": [
            "3.308536425156987\n"
          ]
        }
      ]
    },
    {
      "cell_type": "markdown",
      "source": [
        "Сошлось с посчитанным ранее"
      ],
      "metadata": {
        "id": "yquPYQKB_M1M"
      }
    },
    {
      "cell_type": "markdown",
      "source": [
        "5. Сделано в п.3, так как наблюдаемое значение критерия ниже критического, то гипотеза о нормальности распределения подтверждена."
      ],
      "metadata": {
        "id": "CIGOEmZZ4sc5"
      }
    },
    {
      "cell_type": "markdown",
      "source": [
        "##Вывод\n",
        "\n",
        "\n",
        "В процессе выполнения практической работы были рассчитаны точность и доверительный интервал для математического ожидания при неизвестном стандартном отклонении для уровней доверия 0.95, 0.99, а также было определено значение q. Потом при помощи критерия $χ^2$ была проверена гипотеза о типа распределения выборки и было получено, что выборка имеет нормальное распределение. Для этой проверки были вычислены теоретические частоты и определено наблюдаемое значение критерия. Было также доказано равенство двух формул для расчета $χ^2_{набл}$."
      ],
      "metadata": {
        "id": "fiMdt68tyJT3"
      }
    }
  ]
}