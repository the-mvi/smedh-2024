{
  "nbformat": 4,
  "nbformat_minor": 0,
  "metadata": {
    "colab": {
      "provenance": []
    },
    "kernelspec": {
      "name": "python3",
      "display_name": "Python 3"
    },
    "language_info": {
      "name": "python"
    }
  },
  "cells": [
    {
      "cell_type": "markdown",
      "source": [
        "# Практическая работа №2: Обработка выборочных данных. Нахождение точечных оценок параметров распределения\n",
        "\n",
        "Выполнили студенты гр. 0383 Желнин Максим, Рудакова Юлия, Сергевнин Дмитрий. Вариант №12\n"
      ],
      "metadata": {
        "id": "NUhgBstbzy-I"
      }
    },
    {
      "cell_type": "markdown",
      "source": [
        "## Цель работы\n",
        "Получение практических навыков нахождения точечных статистических оценок параметров распределения."
      ],
      "metadata": {
        "id": "R0B17RCXz0fn"
      }
    },
    {
      "cell_type": "markdown",
      "source": [
        "## Основные теоретические положения\n",
        "\n",
        "**Выборка** - подмножество элементов, взятых из генеральной совокупности, которое используется для получения информации о данной совокупности.\n",
        "\n",
        "**Генеральная совокупность** - полный набор всех объектов или событий, о которых вы хотите сделать выводы.\n",
        "\n",
        "**Статистический ряд** - последовательность элементов выборки, расположенных в порядке их получения.\n",
        "\n",
        "**Ранжированный ряд** - это упорядоченный список значений из выборки или генеральной совокупности по возрастанию или убыванию.\n",
        "\n",
        "**Вариационный ряд** - это ряд, в котором данные представлены в виде уникальных значений, отсортированных по возрастанию или убыванию.\n",
        "\n",
        "**Интервальный ряд** – это представление данных в виде интервалов, в которых группируются значения, чтобы облегчить их анализ.\n",
        "\n",
        "Количество интервалов $k$ зависит от объема выборки $N$ и может быть вычислено по формуле Стерджесса:\n",
        "$$k = 1+3.31*lgN$$\n",
        "Полученное значение округляется до целого. Рекомендуется выбирать нечетное количество интервалов.\n",
        "\n",
        "**Математическое ожидание** дискретной случайной величины - сумма произведений ее возможных значений на соответствующие им вероятности:\n",
        "\n",
        "$$M(X) = \\frac {1} {N} \\sum_{i=1}^n x_in_i$$\n",
        "\n",
        "**Дисперсия** - математическое ожидание квадрата отклонения от математического ожидания случайной величины. В свою очередь **среднеквадратичное отклонение** - это квадрат из дисперсии.\n",
        "\n",
        "$$D(X) = M(X-M(X))^2$$\n",
        "\n",
        "**Выборочная дисперсия и исправленная выборочная дисперсия**:\n",
        "\n",
        "$$D_B = \\frac {1} {N} \\sum_{i=1}^k (x_i - x)^2 $$\n",
        "\n",
        "$$s^2 = \\frac {N} {N - 1} D_B$$\n",
        "\n",
        "\n",
        "**Центральный момент порядка k**:\n",
        "\n",
        "$$M(X-M(X))^k = M_k$$\n",
        "\n",
        "**Асимметрия** опредеяется центральным эмпирическим моментом третьего порядка и исправленной выборочной дисперсий:\n",
        "\n",
        "$$A_s =  \\frac {M_3} {s^3}$$\n",
        "\n",
        "**Эксцесс**:\n",
        "\n",
        "$$E = \\frac {M_4} {s^4} - 3$$\n",
        "\n",
        "**Мода** – наиболее вероятное значение случайной величины.\n",
        "\n",
        "$$M_o = x_o + \\frac {M_2 - M_1} {(M_2-M_1) + (M_2-M_3)} h$$\n"
      ],
      "metadata": {
        "id": "CzSCqW5Dz045"
      }
    },
    {
      "cell_type": "markdown",
      "source": [
        "## Постановка задачи\n",
        "\n",
        "Для заданных выборочных данных вычислить с использованием метода моментов и условных вариант точечные статистические оценки математического ожидания, дисперсии, среднеквадратичного отклонения, асимметрии, эксцесса, моды, медианы и коэффициента вариации исследуемой случайной величины. Полученные результаты содержательно проинтерпретировать."
      ],
      "metadata": {
        "id": "Ttet4XBB6ElG"
      }
    },
    {
      "cell_type": "markdown",
      "source": [
        "## Выполнение работы\n"
      ],
      "metadata": {
        "id": "zNum6ODe6LO4"
      }
    },
    {
      "cell_type": "markdown",
      "source": [
        "### 1.\n",
        "Для середин интервального ряда, полученного в практической работе №1, вычислить условные варианты. Заполнить табл. 1 (в последней строке\n",
        "Σ необходимо заполнить суммы столбцов; ячейки отмеченные прочерком заполнять не надо). Провести контроль вычислений."
      ],
      "metadata": {
        "id": "aIyas0eKgfHr"
      }
    },
    {
      "cell_type": "markdown",
      "source": [
        "Сначала повторим шаги из 1 лабораторной для получения интервалов:"
      ],
      "metadata": {
        "id": "HfyDN29qgvuT"
      }
    },
    {
      "cell_type": "code",
      "execution_count": 1,
      "metadata": {
        "id": "5nt6Btlv66Z_"
      },
      "outputs": [],
      "source": [
        "import pandas as pd\n",
        "import numpy as np\n",
        "import io\n",
        "import zipfile\n",
        "from google.colab import files\n",
        "import math\n",
        "from matplotlib.patches import Polygon\n",
        "import matplotlib.pyplot as plt"
      ]
    },
    {
      "cell_type": "code",
      "source": [
        "uploaded = files.upload()"
      ],
      "metadata": {
        "colab": {
          "base_uri": "https://localhost:8080/",
          "height": 73
        },
        "id": "jwAMi_63AXi-",
        "outputId": "9ae77e9e-a843-4abe-c4cf-087a942e011d"
      },
      "execution_count": 2,
      "outputs": [
        {
          "output_type": "display_data",
          "data": {
            "text/plain": [
              "<IPython.core.display.HTML object>"
            ],
            "text/html": [
              "\n",
              "     <input type=\"file\" id=\"files-7fc88e16-914e-42a3-ae06-74ee34b401a0\" name=\"files[]\" multiple disabled\n",
              "        style=\"border:none\" />\n",
              "     <output id=\"result-7fc88e16-914e-42a3-ae06-74ee34b401a0\">\n",
              "      Upload widget is only available when the cell has been executed in the\n",
              "      current browser session. Please rerun this cell to enable.\n",
              "      </output>\n",
              "      <script>// Copyright 2017 Google LLC\n",
              "//\n",
              "// Licensed under the Apache License, Version 2.0 (the \"License\");\n",
              "// you may not use this file except in compliance with the License.\n",
              "// You may obtain a copy of the License at\n",
              "//\n",
              "//      http://www.apache.org/licenses/LICENSE-2.0\n",
              "//\n",
              "// Unless required by applicable law or agreed to in writing, software\n",
              "// distributed under the License is distributed on an \"AS IS\" BASIS,\n",
              "// WITHOUT WARRANTIES OR CONDITIONS OF ANY KIND, either express or implied.\n",
              "// See the License for the specific language governing permissions and\n",
              "// limitations under the License.\n",
              "\n",
              "/**\n",
              " * @fileoverview Helpers for google.colab Python module.\n",
              " */\n",
              "(function(scope) {\n",
              "function span(text, styleAttributes = {}) {\n",
              "  const element = document.createElement('span');\n",
              "  element.textContent = text;\n",
              "  for (const key of Object.keys(styleAttributes)) {\n",
              "    element.style[key] = styleAttributes[key];\n",
              "  }\n",
              "  return element;\n",
              "}\n",
              "\n",
              "// Max number of bytes which will be uploaded at a time.\n",
              "const MAX_PAYLOAD_SIZE = 100 * 1024;\n",
              "\n",
              "function _uploadFiles(inputId, outputId) {\n",
              "  const steps = uploadFilesStep(inputId, outputId);\n",
              "  const outputElement = document.getElementById(outputId);\n",
              "  // Cache steps on the outputElement to make it available for the next call\n",
              "  // to uploadFilesContinue from Python.\n",
              "  outputElement.steps = steps;\n",
              "\n",
              "  return _uploadFilesContinue(outputId);\n",
              "}\n",
              "\n",
              "// This is roughly an async generator (not supported in the browser yet),\n",
              "// where there are multiple asynchronous steps and the Python side is going\n",
              "// to poll for completion of each step.\n",
              "// This uses a Promise to block the python side on completion of each step,\n",
              "// then passes the result of the previous step as the input to the next step.\n",
              "function _uploadFilesContinue(outputId) {\n",
              "  const outputElement = document.getElementById(outputId);\n",
              "  const steps = outputElement.steps;\n",
              "\n",
              "  const next = steps.next(outputElement.lastPromiseValue);\n",
              "  return Promise.resolve(next.value.promise).then((value) => {\n",
              "    // Cache the last promise value to make it available to the next\n",
              "    // step of the generator.\n",
              "    outputElement.lastPromiseValue = value;\n",
              "    return next.value.response;\n",
              "  });\n",
              "}\n",
              "\n",
              "/**\n",
              " * Generator function which is called between each async step of the upload\n",
              " * process.\n",
              " * @param {string} inputId Element ID of the input file picker element.\n",
              " * @param {string} outputId Element ID of the output display.\n",
              " * @return {!Iterable<!Object>} Iterable of next steps.\n",
              " */\n",
              "function* uploadFilesStep(inputId, outputId) {\n",
              "  const inputElement = document.getElementById(inputId);\n",
              "  inputElement.disabled = false;\n",
              "\n",
              "  const outputElement = document.getElementById(outputId);\n",
              "  outputElement.innerHTML = '';\n",
              "\n",
              "  const pickedPromise = new Promise((resolve) => {\n",
              "    inputElement.addEventListener('change', (e) => {\n",
              "      resolve(e.target.files);\n",
              "    });\n",
              "  });\n",
              "\n",
              "  const cancel = document.createElement('button');\n",
              "  inputElement.parentElement.appendChild(cancel);\n",
              "  cancel.textContent = 'Cancel upload';\n",
              "  const cancelPromise = new Promise((resolve) => {\n",
              "    cancel.onclick = () => {\n",
              "      resolve(null);\n",
              "    };\n",
              "  });\n",
              "\n",
              "  // Wait for the user to pick the files.\n",
              "  const files = yield {\n",
              "    promise: Promise.race([pickedPromise, cancelPromise]),\n",
              "    response: {\n",
              "      action: 'starting',\n",
              "    }\n",
              "  };\n",
              "\n",
              "  cancel.remove();\n",
              "\n",
              "  // Disable the input element since further picks are not allowed.\n",
              "  inputElement.disabled = true;\n",
              "\n",
              "  if (!files) {\n",
              "    return {\n",
              "      response: {\n",
              "        action: 'complete',\n",
              "      }\n",
              "    };\n",
              "  }\n",
              "\n",
              "  for (const file of files) {\n",
              "    const li = document.createElement('li');\n",
              "    li.append(span(file.name, {fontWeight: 'bold'}));\n",
              "    li.append(span(\n",
              "        `(${file.type || 'n/a'}) - ${file.size} bytes, ` +\n",
              "        `last modified: ${\n",
              "            file.lastModifiedDate ? file.lastModifiedDate.toLocaleDateString() :\n",
              "                                    'n/a'} - `));\n",
              "    const percent = span('0% done');\n",
              "    li.appendChild(percent);\n",
              "\n",
              "    outputElement.appendChild(li);\n",
              "\n",
              "    const fileDataPromise = new Promise((resolve) => {\n",
              "      const reader = new FileReader();\n",
              "      reader.onload = (e) => {\n",
              "        resolve(e.target.result);\n",
              "      };\n",
              "      reader.readAsArrayBuffer(file);\n",
              "    });\n",
              "    // Wait for the data to be ready.\n",
              "    let fileData = yield {\n",
              "      promise: fileDataPromise,\n",
              "      response: {\n",
              "        action: 'continue',\n",
              "      }\n",
              "    };\n",
              "\n",
              "    // Use a chunked sending to avoid message size limits. See b/62115660.\n",
              "    let position = 0;\n",
              "    do {\n",
              "      const length = Math.min(fileData.byteLength - position, MAX_PAYLOAD_SIZE);\n",
              "      const chunk = new Uint8Array(fileData, position, length);\n",
              "      position += length;\n",
              "\n",
              "      const base64 = btoa(String.fromCharCode.apply(null, chunk));\n",
              "      yield {\n",
              "        response: {\n",
              "          action: 'append',\n",
              "          file: file.name,\n",
              "          data: base64,\n",
              "        },\n",
              "      };\n",
              "\n",
              "      let percentDone = fileData.byteLength === 0 ?\n",
              "          100 :\n",
              "          Math.round((position / fileData.byteLength) * 100);\n",
              "      percent.textContent = `${percentDone}% done`;\n",
              "\n",
              "    } while (position < fileData.byteLength);\n",
              "  }\n",
              "\n",
              "  // All done.\n",
              "  yield {\n",
              "    response: {\n",
              "      action: 'complete',\n",
              "    }\n",
              "  };\n",
              "}\n",
              "\n",
              "scope.google = scope.google || {};\n",
              "scope.google.colab = scope.google.colab || {};\n",
              "scope.google.colab._files = {\n",
              "  _uploadFiles,\n",
              "  _uploadFilesContinue,\n",
              "};\n",
              "})(self);\n",
              "</script> "
            ]
          },
          "metadata": {}
        },
        {
          "output_type": "stream",
          "name": "stdout",
          "text": [
            "Saving sample.zip to sample.zip\n"
          ]
        }
      ]
    },
    {
      "cell_type": "code",
      "source": [
        "# Извлекаем файл sample.csv из архива\n",
        "with zipfile.ZipFile(io.BytesIO(uploaded['sample.zip']), 'r') as zip_ref:\n",
        "    zip_ref.extractall()\n",
        "\n",
        "df = pd.read_csv('sample.csv', skiprows=3) # двумерная генеральная совокупность"
      ],
      "metadata": {
        "id": "BegRaYo37EGi"
      },
      "execution_count": 3,
      "outputs": []
    },
    {
      "cell_type": "code",
      "source": [
        "N = 111\n",
        "sample = df.sample(n=N, random_state=1)  # random_state для воспроизводимости (дает возможность воспроизводить те же самые случайные результаты при каждом запуске кода)"
      ],
      "metadata": {
        "id": "mhpWUb4z7EKW"
      },
      "execution_count": 4,
      "outputs": []
    },
    {
      "cell_type": "code",
      "source": [
        "ranked_nu = sample.sort_values(by='nu').reset_index(drop=True)['nu']\n",
        "ranked_e = sample.sort_values(by='E').reset_index(drop=True)['E']"
      ],
      "metadata": {
        "id": "Dqsi4T6h7EUG"
      },
      "execution_count": 5,
      "outputs": []
    },
    {
      "cell_type": "code",
      "source": [
        "# Преобразование ранжированного ряда в вариационный ряд для 'nu'\n",
        "variation_nu = ranked_nu.value_counts().reset_index()\n",
        "variation_nu.columns = ['значение', 'частота']\n",
        "variation_nu_sort = variation_nu.sort_values(by='значение').reset_index(drop=True)\n",
        "variation_nu_sort.drop(columns=['частота'], inplace=True)\n",
        "\n",
        "\n",
        "# Преобразование ранжированного ряда в вариационный ряд для 'E'\n",
        "variation_e = ranked_e.value_counts().reset_index()\n",
        "variation_e.columns = ['значение', 'частота']\n",
        "variation_e_sort = variation_e.sort_values(by='значение').reset_index(drop=True)\n",
        "variation_e_sort.drop(columns=['частота'], inplace=True)"
      ],
      "metadata": {
        "id": "B4cNzoveF6a1"
      },
      "execution_count": 6,
      "outputs": []
    },
    {
      "cell_type": "code",
      "source": [
        "def create_interval_series(variation_series):\n",
        "    # Определение интервалов\n",
        "    num_bins = round(1 + 3.31 * math.log10(N))\n",
        "    if num_bins % 2 == 0:\n",
        "      num_bins += 1\n",
        "\n",
        "    bin_width = (variation_series['значение'].max() - variation_series['значение'].min()) / num_bins\n",
        "    bins = [variation_series['значение'].min() + i * bin_width for i in range(num_bins)]\n",
        "    bins.append(variation_series['значение'].max())\n",
        "\n",
        "    # Подсчет частоты попадания в интервалы\n",
        "    frequency, _ = np.histogram(variation_series['значение'], bins=bins)\n",
        "\n",
        "    # Определение границ и середин интервалов\n",
        "    interval_bounds = [(bins[i], bins[i+1]) for i in range(num_bins)]\n",
        "    interval_midpoints = [(interval[0] + interval[1]) / 2 for interval in interval_bounds]\n",
        "\n",
        "    interval_series = pd.DataFrame({\n",
        "        'Границы интервалов': interval_bounds,\n",
        "        'Середины интервалов': interval_midpoints,\n",
        "        'Частота попадания в интервал': frequency,\n",
        "        'Относительная частота': frequency / len(variation_series)\n",
        "    })\n",
        "\n",
        "    return interval_series\n",
        "\n",
        "\n",
        "interval_nu_series = create_interval_series(variation_nu_sort)\n",
        "\n",
        "interval_e_series = create_interval_series(variation_e_sort)\n",
        "print(interval_e_series['Относительная частота'])"
      ],
      "metadata": {
        "id": "whoQBiSAF6k4",
        "colab": {
          "base_uri": "https://localhost:8080/"
        },
        "outputId": "39255928-eb73-471a-c745-2ed2d2b481e2"
      },
      "execution_count": 7,
      "outputs": [
        {
          "output_type": "stream",
          "name": "stdout",
          "text": [
            "0    0.028302\n",
            "1    0.094340\n",
            "2    0.122642\n",
            "3    0.122642\n",
            "4    0.179245\n",
            "5    0.169811\n",
            "6    0.160377\n",
            "7    0.066038\n",
            "8    0.056604\n",
            "Name: Относительная частота, dtype: float64\n"
          ]
        }
      ]
    },
    {
      "cell_type": "markdown",
      "source": [
        "Распределим значения в массивы по интервалам:"
      ],
      "metadata": {
        "id": "282h-KhXg81M"
      }
    },
    {
      "cell_type": "code",
      "source": [
        "def get_buckets(intervals, series):\n",
        "    buckets = [[] for i in range(len(intervals) - 1)]\n",
        "    for i in range(len(series) - 1):\n",
        "      for j in range(len(intervals) - 1):\n",
        "        if series[i] > intervals[j][0] and series[i] <= intervals[j][1]:\n",
        "          buckets[j].append(series[i])\n",
        "    return buckets"
      ],
      "metadata": {
        "id": "aQlwDxalg8Xf"
      },
      "execution_count": 8,
      "outputs": []
    },
    {
      "cell_type": "markdown",
      "source": [
        "Для NU:"
      ],
      "metadata": {
        "id": "pl4ADnhPhHU7"
      }
    },
    {
      "cell_type": "code",
      "source": [
        "mid_nu_values = interval_nu_series[\"Середины интервалов\"]\n",
        "\n",
        "buckets_nu = get_buckets(interval_nu_series[\"Границы интервалов\"], variation_nu[\"значение\"])\n",
        "C_nu = mid_nu_values[max([(len(bucket), i) for i, bucket in enumerate(buckets_nu)])[1]]\n",
        "h_nu = int((mid_nu_values[len(mid_nu_values) - 1] - mid_nu_values[0]) /(len(mid_nu_values)-1))\n",
        "ui_arr_nu = [round((xi - C_nu) / h_nu) for xi in mid_nu_values]\n",
        "nu_freq_arr = interval_nu_series[\"Частота попадания в интервал\"]\n",
        "len_intervals_nu = len(ui_arr_nu)\n",
        "\n",
        "data_nu = {'xi': mid_nu_values,\n",
        "        'ni': nu_freq_arr,\n",
        "        'ui':  ui_arr_nu,\n",
        "        'ui*n': [nu_freq_arr[i] * ui_arr_nu[i] for i in range(len_intervals_nu)],\n",
        "        'ui^2 * n': [nu_freq_arr[i] * (ui_arr_nu[i] ** 2) for i in range(len_intervals_nu)],\n",
        "        'ui^3 * n': [nu_freq_arr[i] * (ui_arr_nu[i] ** 3) for i in range(len_intervals_nu)],\n",
        "        'ui^4 * n': [nu_freq_arr[i] * (ui_arr_nu[i] ** 4) for i in range(len_intervals_nu)],\n",
        "        '(ui + 1)^4 * n': [nu_freq_arr[i] * ((ui_arr_nu[i] + 1) ** 4) for i in range(len_intervals_nu)]}\n",
        "\n",
        "table1_nu = pd.DataFrame(data_nu)\n",
        "table1_nu.loc['Sum'] = table1_nu.sum()\n",
        "print(\"Таблица 1:\")\n",
        "print(table1_nu)"
      ],
      "metadata": {
        "colab": {
          "base_uri": "https://localhost:8080/"
        },
        "id": "ah4uTNy5ZM9T",
        "outputId": "6322a98e-bd8f-47af-978b-9cbdd211eba0"
      },
      "execution_count": 9,
      "outputs": [
        {
          "output_type": "stream",
          "name": "stdout",
          "text": [
            "Таблица 1:\n",
            "              xi    ni   ui  ui*n  ui^2 * n  ui^3 * n  ui^4 * n  \\\n",
            "0     335.055556   3.0 -5.0 -15.0      75.0    -375.0    1875.0   \n",
            "1     365.166667   8.0 -4.0 -32.0     128.0    -512.0    2048.0   \n",
            "2     395.277778  13.0 -3.0 -39.0     117.0    -351.0    1053.0   \n",
            "3     425.388889  12.0 -2.0 -24.0      48.0     -96.0     192.0   \n",
            "4     455.500000  13.0 -1.0 -13.0      13.0     -13.0      13.0   \n",
            "5     485.611111  15.0  0.0   0.0       0.0       0.0       0.0   \n",
            "6     515.722222  11.0  1.0  11.0      11.0      11.0      11.0   \n",
            "7     545.833333   8.0  2.0  16.0      32.0      64.0     128.0   \n",
            "8     575.944444   3.0  3.0   9.0      27.0      81.0     243.0   \n",
            "Sum  4099.500000  86.0 -9.0 -87.0     451.0   -1191.0    5563.0   \n",
            "\n",
            "     (ui + 1)^4 * n  \n",
            "0             768.0  \n",
            "1             648.0  \n",
            "2             208.0  \n",
            "3              12.0  \n",
            "4               0.0  \n",
            "5              15.0  \n",
            "6             176.0  \n",
            "7             648.0  \n",
            "8             768.0  \n",
            "Sum          3243.0  \n"
          ]
        }
      ]
    },
    {
      "cell_type": "markdown",
      "source": [
        "Успешная проверка по формуле $5563 - 4*1191 + 6*451 - 4*87 + 86 = 3243$\n"
      ],
      "metadata": {
        "id": "7PAraPXhgAju"
      }
    },
    {
      "cell_type": "markdown",
      "source": [
        "Для E:"
      ],
      "metadata": {
        "id": "sFWMqv43hPVp"
      }
    },
    {
      "cell_type": "code",
      "source": [
        "mid_e_values = interval_e_series[\"Середины интервалов\"]\n",
        "\n",
        "buckets_e = get_buckets(interval_e_series[\"Границы интервалов\"], variation_e[\"значение\"])\n",
        "C_e = mid_e_values[max([(len(bucket), i) for i, bucket in enumerate(buckets_e)])[1]]\n",
        "h_e = int((mid_e_values[len(mid_e_values) - 1] - mid_e_values[0]) /(len(mid_e_values)-1))\n",
        "ui_arr_e = [(xi - C_e) / h_e for xi in mid_e_values]\n",
        "e_freq_arr = interval_e_series[\"Частота попадания в интервал\"]\n",
        "len_intervals_e = len(ui_arr_e)\n",
        "\n",
        "data_e = {'xi': mid_e_values,\n",
        "        'ni': e_freq_arr,\n",
        "        'ui':  ui_arr_e,\n",
        "        'ui*n': [e_freq_arr[i] * ui_arr_e[i] for i in range(len_intervals_e)],\n",
        "        'ui^2 * n': [e_freq_arr[i] * (ui_arr_e[i] ** 2) for i in range(len_intervals_e)],\n",
        "        'ui^3 * n': [e_freq_arr[i] * (ui_arr_e[i] ** 3) for i in range(len_intervals_e)],\n",
        "        'ui^4 * n': [e_freq_arr[i] * (ui_arr_e[i] ** 4) for i in range(len_intervals_e)],\n",
        "        '(ui + 1)^4 * n': [e_freq_arr[i] * ((ui_arr_e[i] + 1) ** 4) for i in range(len_intervals_e)]}\n",
        "\n",
        "table1_e = pd.DataFrame(data_e)\n",
        "table1_e.loc['Sum'] = table1_e.sum()\n",
        "print(\"Таблица 1:\")\n",
        "print(table1_e)"
      ],
      "metadata": {
        "colab": {
          "base_uri": "https://localhost:8080/"
        },
        "id": "nsP8RSHpf_yg",
        "outputId": "6d654cc5-5793-4c39-afbf-c0863975d1e9"
      },
      "execution_count": 10,
      "outputs": [
        {
          "output_type": "stream",
          "name": "stdout",
          "text": [
            "Таблица 1:\n",
            "              xi     ni            ui       ui*n    ui^2 * n    ui^3 * n  \\\n",
            "0      78.622222    3.0 -4.014815e+00 -12.044444   48.356214 -194.141244   \n",
            "1      90.666667   10.0 -3.011111e+00 -30.111111   90.667901 -273.011125   \n",
            "2     102.711111   13.0 -2.007407e+00 -26.096296   52.385898 -105.159841   \n",
            "3     114.755556   13.0 -1.003704e+00 -13.048148   13.096475  -13.144980   \n",
            "4     126.800000   19.0  0.000000e+00   0.000000    0.000000    0.000000   \n",
            "5     138.844444   18.0  1.003704e+00  18.066667   18.133580   18.200742   \n",
            "6     150.888889   17.0  2.007407e+00  34.125926   68.504636  137.516715   \n",
            "7     162.933333    7.0  3.011111e+00  21.077778   63.467531  191.107787   \n",
            "8     174.977778    6.0  4.014815e+00  24.088889   96.712428  388.282489   \n",
            "Sum  1141.200000  106.0 -2.664535e-15  16.059259  451.324664  149.650542   \n",
            "\n",
            "        ui^4 * n  (ui + 1)^4 * n  \n",
            "0     779.441144    2.478357e+02  \n",
            "1     822.066831    1.635853e+02  \n",
            "2     211.098643    1.338949e+01  \n",
            "3      13.193665    2.446179e-09  \n",
            "4       0.000000    1.900000e+01  \n",
            "5      18.268152    2.901393e+02  \n",
            "6     276.052072    1.390650e+03  \n",
            "7     575.446782    1.811994e+03  \n",
            "8    1558.882288    3.794642e+03  \n",
            "Sum  4254.449577    7.731237e+03  \n"
          ]
        }
      ]
    },
    {
      "cell_type": "markdown",
      "source": [
        "Проверка: $4192 + 4 * 148 + 6*448 + 4*16 + 106 = 7642$ — сошлось"
      ],
      "metadata": {
        "id": "WnTUEwCsiZXG"
      }
    },
    {
      "cell_type": "markdown",
      "source": [
        "###2.\n",
        "Вычислить условные эмпирические моменты νi* через условные варианты. С помощью условных эмпирических моментов вычислить центральные эмпирические моменты μi\\*. Полученные результаты занести в табл. 2."
      ],
      "metadata": {
        "id": "H8mLcubui2uU"
      }
    },
    {
      "cell_type": "code",
      "source": [
        "nu_N = sum(data_nu[\"ni\"])\n",
        "vi_nu_arr = [sum(data_nu[\"ui*n\"]) / nu_N, sum(data_nu[\"ui^2 * n\"]) / nu_N, sum(data_nu[\"ui^3 * n\"]) / nu_N, sum(data_nu[\"ui^4 * n\"]) / nu_N]\n",
        "mi_nu_arr = [0, (vi_nu_arr[1] - vi_nu_arr[0] ** 2) * (h_nu ** 2), (vi_nu_arr[2] - 3* vi_nu_arr[1] * vi_nu_arr[0]  + 2 * (vi_nu_arr[0]** 3)) * (h_nu ** 3), (vi_nu_arr[3] - 4 * vi_nu_arr[2] * vi_nu_arr[0] + 6 * vi_nu_arr[1] * (vi_nu_arr[0] ** 2)  - 3 * (vi_nu_arr[0]** 4)) * (h_nu ** 4)]\n",
        "table2_data_nu = {\n",
        "        'vi': vi_nu_arr,\n",
        "        'mi':  mi_nu_arr}\n",
        "\n",
        "table2_nu = pd.DataFrame(table2_data_nu)\n",
        "print(\"Таблица 2:\")\n",
        "print(table2_nu)"
      ],
      "metadata": {
        "colab": {
          "base_uri": "https://localhost:8080/"
        },
        "id": "IyauW7SQjKdl",
        "outputId": "82759cda-8cc2-4001-ff6b-245c361481cc"
      },
      "execution_count": 11,
      "outputs": [
        {
          "output_type": "stream",
          "name": "stdout",
          "text": [
            "Таблица 2:\n",
            "          vi            mi\n",
            "0  -1.011628  0.000000e+00\n",
            "1   5.244186  3.798716e+03\n",
            "2 -13.848837 -1.059529e+02\n",
            "3  64.686047  3.054161e+07\n"
          ]
        }
      ]
    },
    {
      "cell_type": "code",
      "source": [
        "vi_e_arr = [sum(data_e[\"ui*n\"]) / N, sum(data_e[\"ui^2 * n\"]) / N, sum(data_e[\"ui^3 * n\"]) / N, sum(data_e[\"ui^4 * n\"]) / N]\n",
        "mi_e_arr = [0, (vi_e_arr[1] - vi_e_arr[0] ** 2) * (h_e ** 2), (vi_e_arr[2] - 3* vi_e_arr[1] * vi_e_arr[0]  + 2 * (vi_e_arr[0]** 3)) * (h_e ** 3), (vi_e_arr[3] - 4 * vi_e_arr[2] * vi_e_arr[0] + 6 * vi_e_arr[1] * (vi_e_arr[0] ** 2)  - 3 * (vi_e_arr[0]** 4)) * (h_e ** 4)]\n",
        "table2_data_e = {\n",
        "        'vi': vi_e_arr,\n",
        "        'mi':  mi_e_arr}\n",
        "\n",
        "table2_e = pd.DataFrame(table2_data_e)\n",
        "print(\"Таблица 2:\")\n",
        "print(table2_e)"
      ],
      "metadata": {
        "colab": {
          "base_uri": "https://localhost:8080/"
        },
        "id": "yEn6t-Y3sew1",
        "outputId": "1935d556-b7f2-4293-8e7e-e02b9142a707"
      },
      "execution_count": 12,
      "outputs": [
        {
          "output_type": "stream",
          "name": "stdout",
          "text": [
            "Таблица 2:\n",
            "          vi             mi\n",
            "0   0.144678       0.000000\n",
            "1   4.065988     582.488098\n",
            "2   1.348203    -709.373983\n",
            "3  38.328375  789160.064737\n"
          ]
        }
      ]
    },
    {
      "cell_type": "markdown",
      "source": [
        "###3.\n",
        "Вычислить выборочные среднее $x_{в ср}$ и дисперсию $σ^{2}_{в}$\n",
        " с помощью стандартной формулы и с помощью условных вариант. Убедиться, что результаты совпадают.\n",
        "\n",
        " Далее проведём вычисления только для e"
      ],
      "metadata": {
        "id": "zW2NsgfFs9Uh"
      }
    },
    {
      "cell_type": "code",
      "source": [
        "x_v = vi_e_arr[0] * h_e + C_e\n",
        "x_v2 = sum(ranked_e)/N\n",
        "\n",
        "sigma = mi_e_arr[1]\n",
        "sigma2 = sum([(ranked_e[i] - x_v2) ** 2 for i in range(N)]) / N\n",
        "\n",
        "print(x_v, x_v2)\n",
        "print(sigma, sigma2)"
      ],
      "metadata": {
        "colab": {
          "base_uri": "https://localhost:8080/"
        },
        "id": "fWvy8tV5tWuO",
        "outputId": "647332c2-a7b5-465d-8ce6-fb484f520f3d"
      },
      "execution_count": 13,
      "outputs": [
        {
          "output_type": "stream",
          "name": "stdout",
          "text": [
            "128.53613613613612 128.63243243243238\n",
            "582.4880980279578 587.9000292184074\n"
          ]
        }
      ]
    },
    {
      "cell_type": "markdown",
      "source": [
        "Результаты почти совпадают, однако дисперсия имеет существенное отличие, которое, в теории, может быть результатом погрешности округления"
      ],
      "metadata": {
        "id": "Afz0TDCo5NLw"
      }
    },
    {
      "cell_type": "markdown",
      "source": [
        "###4.\n",
        "Вычислить исправленную выборочную дисперсию $S^{2}$ и исправленное СКО S. Сравнить данные оценки с смещёнными оценками дисперсии. Сделать выводы."
      ],
      "metadata": {
        "id": "Qtonv-vH5glT"
      }
    },
    {
      "cell_type": "code",
      "source": [
        "S_square = sigma2 * N / (N-1)\n",
        "S = np.sqrt(S_square)\n",
        "print(S_square, S)"
      ],
      "metadata": {
        "colab": {
          "base_uri": "https://localhost:8080/"
        },
        "id": "gxub0O-e5qCt",
        "outputId": "6bda2006-85c7-439b-ebd8-9d48bf5cd5e3"
      },
      "execution_count": 14,
      "outputs": [
        {
          "output_type": "stream",
          "name": "stdout",
          "text": [
            "593.2445749385748 24.35661255056981\n"
          ]
        }
      ]
    },
    {
      "cell_type": "markdown",
      "source": [
        "Исправленная выборочная дисперсия отличается от значения выборочной\n",
        "дисперсии, так как последняя является смещенной оценкой, несколько\n",
        "завышающие значения параметров распределения."
      ],
      "metadata": {
        "id": "TMX6bFZF6GWc"
      }
    },
    {
      "cell_type": "markdown",
      "source": [
        "###5.\n",
        "Найти статистическую оценку коэффициентов асимметрии $a^{*}_{s}$ и эксцесса $ε^{*}_{s}$. Сделать выводы."
      ],
      "metadata": {
        "id": "Q_kwUQnV6RuB"
      }
    },
    {
      "cell_type": "code",
      "source": [
        "a_s = mi_e_arr[2] / (S ** 3)\n",
        "e_s = mi_e_arr[3] / (S ** 4) - 3\n",
        "print(a_s, e_s)"
      ],
      "metadata": {
        "colab": {
          "base_uri": "https://localhost:8080/"
        },
        "id": "oHuNqwym6hYN",
        "outputId": "47f06061-f151-437d-a317-4f69f0cafaa1"
      },
      "execution_count": 15,
      "outputs": [
        {
          "output_type": "stream",
          "name": "stdout",
          "text": [
            "-0.049093567588123006 -0.7576802147789534\n"
          ]
        }
      ]
    },
    {
      "cell_type": "markdown",
      "source": [
        "1. Коэффициент асимметрии (-0.049093567588123006) близок к нулю, что говорит о том, что распределение данных почти симметрично относительно их среднего значения. Такое значение коэффициента асимметрии указывает на отсутствие явной асимметрии в данных.\n",
        "\n",
        "2. Коэффициент эксцесса (-0.7576802147789534) отрицателен, что указывает на то, что пик распределения данных более плоский (более пологий) по сравнению с нормальным распределением. Такое значение коэффициента эксцесса говорит о том, что данные имеют менее острый пик, чем у нормального распределения."
      ],
      "metadata": {
        "id": "e3TNHu8Y72Qx"
      }
    },
    {
      "cell_type": "markdown",
      "source": [
        "###6.\n",
        "Для интервального ряда вычислить моду $M^{*}_{o}$, медиану $M^{*}_{e}$ и коэффициент вариации $V^{*}$ заданного распределения. Сделать выводы."
      ],
      "metadata": {
        "id": "YK6xu2UV8WzT"
      }
    },
    {
      "cell_type": "markdown",
      "source": [
        "Самая высокая относительная частота у 5 интервала 0.179245"
      ],
      "metadata": {
        "id": "lqvs3JI08-in"
      }
    },
    {
      "cell_type": "code",
      "source": [
        "moda = data_e[\"xi\"][3] + h_e * (interval_e_series['Относительная частота'][4]-interval_e_series['Относительная частота'][3])/(interval_e_series['Относительная частота'][4]-interval_e_series['Относительная частота'][3] + interval_e_series['Относительная частота'][4]-interval_e_series['Относительная частота'][5])\n",
        "print(moda)"
      ],
      "metadata": {
        "colab": {
          "base_uri": "https://localhost:8080/"
        },
        "id": "WfE4f45o8qt6",
        "outputId": "9353a9f1-e979-4623-b00f-0b517841f727"
      },
      "execution_count": 16,
      "outputs": [
        {
          "output_type": "stream",
          "name": "stdout",
          "text": [
            "125.04126984126984\n"
          ]
        }
      ]
    },
    {
      "cell_type": "code",
      "source": [
        "left_border = interval_e_series[\"Границы интервалов\"][4][0]\n",
        "mediana = left_border + (interval_e_series[\"Границы интервалов\"][4][1] - left_border)*(sum(e_freq_arr)/2 -  sum(interval_e_series[\"Частота попадания в интервал\"][0:4]))/ e_freq_arr[4]\n",
        "print(mediana)"
      ],
      "metadata": {
        "colab": {
          "base_uri": "https://localhost:8080/"
        },
        "id": "Wd3IxJoj-CrU",
        "outputId": "d9f7c7e3-efcb-45e6-a751-3f104464814d"
      },
      "execution_count": 28,
      "outputs": [
        {
          "output_type": "stream",
          "name": "stdout",
          "text": [
            "129.65263157894736\n"
          ]
        }
      ]
    },
    {
      "cell_type": "markdown",
      "source": [
        "Медиана находится в пятом интервале, так как его накопленная частота больше половины и равняется 129.65263157894736"
      ],
      "metadata": {
        "id": "r1w1KNh__yKn"
      }
    },
    {
      "cell_type": "code",
      "source": [
        "print(x_v2 / sigma2 * 100)"
      ],
      "metadata": {
        "colab": {
          "base_uri": "https://localhost:8080/"
        },
        "id": "QZZaTh2P_n9r",
        "outputId": "f42fecca-e79d-4b81-b87e-c7e1c0a70b4d"
      },
      "execution_count": 19,
      "outputs": [
        {
          "output_type": "stream",
          "name": "stdout",
          "text": [
            "21.879984017596446\n"
          ]
        }
      ]
    },
    {
      "cell_type": "markdown",
      "source": [
        "Коэффициент вариации = 21% => данные имеют относительно высокий уровень вариабельности или разброса относительно своего среднего значения"
      ],
      "metadata": {
        "id": "Yy944JVGAEpv"
      }
    },
    {
      "cell_type": "markdown",
      "source": [
        "##Вывод\n",
        "\n",
        "\n",
        "В результате выполнения данной практической работы были получены\n",
        "практические навыки нахождения точечных оценок параметров распределения с\n",
        "помощью метода моментов. В ходе выполнения работы были найдены точечные\n",
        "оценки математического ожидания, дисперсии (смещенная и несмещенная),\n",
        "среднеквадратического отклонения, коэффициентов асимметрии и эксцесса, а\n",
        "также проанализированы полученные значения."
      ],
      "metadata": {
        "id": "fiMdt68tyJT3"
      }
    }
  ]
}