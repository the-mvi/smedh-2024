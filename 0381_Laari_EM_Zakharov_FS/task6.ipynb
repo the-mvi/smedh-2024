{
  "nbformat": 4,
  "nbformat_minor": 0,
  "metadata": {
    "colab": {
      "provenance": []
    },
    "kernelspec": {
      "name": "python3",
      "display_name": "Python 3"
    },
    "language_info": {
      "name": "python"
    }
  },
  "cells": [
    {
      "cell_type": "markdown",
      "source": [
        "#Практическая работа №6: Кластерный анализ. Метод k-средних"
      ],
      "metadata": {
        "id": "wngTRWgfnlzz"
      }
    },
    {
      "cell_type": "markdown",
      "source": [
        "Выполнили студенты гр. 0381 Лаари Екатерина и Захаров Филипп. Вариант №9"
      ],
      "metadata": {
        "id": "dCXvW-aznkri"
      }
    },
    {
      "cell_type": "markdown",
      "source": [
        "##Цель работы\n",
        "Освоение основных понятий и некоторых методов кластерного анализа, в частности, метода k-means."
      ],
      "metadata": {
        "id": "dLNglfI3nuUw"
      }
    },
    {
      "cell_type": "markdown",
      "source": [
        "##Основные теоретические положения\n",
        "Задача кластерного анализа заключается в том, чтобы на основании\n",
        "данных, характеризующих исследуемые объекты, разбить множество $𝐺$ на\n",
        "$𝑚$ ($𝑚$ - целое) кластеров (подмножеств $𝐺$) $𝐺_1, ... , G_m$ таких, что:\n",
        "$$G_1 \\subset G, ..., G_m \\subset G$$\n",
        "$$G_1 \\cup ... \\cup G_m = G$$\n",
        "$$G_i \\cap G_j = \\oslash; \\forall i \\neq j; i = 1,...,m; j = 1,...,m $$\n",
        "\n",
        "Расстоянием (метрикой) между объектами 𝑎 и 𝑏 в пространстве\n",
        "параметров называется такая величина $𝑑_{ab}$ , которая удовлетворяет аксиомам:\\\n",
        "1) $𝑑_{ab} > 0$, если  $a\\neq b$\\\n",
        "2) $𝑑_{ab} = 0$, если  $a = b$\\\n",
        "3) $𝑑_{ab} = 𝑑_{ba}$\\\n",
        "4) $𝑑_{ab} + d_{bc} >= d_{ac}$\n",
        "\n",
        "В данной работе для k-means использовалось Евклидово расстояние:\n",
        "\n",
        "$$d_{E_{ij}} = (\\sum^m_{k=1}(x^{(i)}_k - x^{(j)}_k)^2)^{0.5}$$\n",
        "\n",
        "А для модификаций k-medians и k-medoids использовалось манхэттенское расстояние:\n",
        "\n",
        "$$d_H(x^{(i)}, x^{(j)}) = \\sum^m_{k = 1}|x^{(i)}_k - x^{(j)}_k|$$\n",
        "\n",
        "Оценка качества многомерной классификации осуществляется с помощью функционалов качества:\n",
        "1) Сумма квадратов расстояний до центров кластеров:\n",
        "$$F_1 = \\sum^K_{k=1}\\sum^{N_k}_{i=1} d^2(X^{(k)}_i, \\overline{X}^{(k)}) ⇒min$$\n",
        "\n",
        "2) Сумма внутрикластерных расстояний между объектами:\n",
        "$$F_2 = \\sum^K_{k=1}\\sum_{X_i,X_j∈S_k} d^2(X_i, X_j) ⇒min$$\n",
        "\n",
        "3) Сумма внутрикластерных дисперсий:\n",
        "$$F_3 = \\sum^K_{k=1}\\sum^{N_k}_{i=1} \\sigma^2_{kj} ⇒min$$\n",
        "\n",
        "\n",
        "\n"
      ],
      "metadata": {
        "id": "ltReZsQyn0D8"
      }
    },
    {
      "cell_type": "markdown",
      "source": [
        "##Постановка задачи\n",
        "Дано конечное множество из объектов, представленных двумя признаками (в качестве этого множества принимаем исходную двумерную выборку, сформированную ранее в практической работе №4). Выполнить разбиение исходного множества объектов на конечное число подмножеств (кластеров) с использованием метода k-means. Полученные результаты содержательно проинтерпретировать."
      ],
      "metadata": {
        "id": "fgKVRGkDspX3"
      }
    },
    {
      "cell_type": "markdown",
      "source": [
        "##Выполнение работы"
      ],
      "metadata": {
        "id": "UTrsPxK6s4qY"
      }
    },
    {
      "cell_type": "markdown",
      "source": [
        "1. Нормализовать множество точек из предыдущего раздела, отобразить полученное множество."
      ],
      "metadata": {
        "id": "VzOhOuwiuT_R"
      }
    },
    {
      "cell_type": "markdown",
      "source": [
        "Инициализация выборки"
      ],
      "metadata": {
        "id": "Doan_iDtsq78"
      }
    },
    {
      "cell_type": "code",
      "execution_count": null,
      "metadata": {
        "colab": {
          "base_uri": "https://localhost:8080/",
          "height": 447
        },
        "id": "DN7j6WGYqLlV",
        "outputId": "3eb2f8fe-c285-4ae2-aac4-1166a6243bc0"
      },
      "outputs": [
        {
          "output_type": "execute_result",
          "data": {
            "text/plain": [
              "<matplotlib.collections.PathCollection at 0x79a645e27400>"
            ]
          },
          "metadata": {},
          "execution_count": 1
        },
        {
          "output_type": "display_data",
          "data": {
            "text/plain": [
              "<Figure size 640x480 with 1 Axes>"
            ],
            "image/png": "[encoded data removed]"
          },
          "metadata": {}
        }
      ],
      "source": [
        "import matplotlib.pyplot as plt\n",
        "\n",
        "\n",
        "data = {'A': [ 480, 510, 426, 482, 393, 510, 542, 437, 453, 386, 434, 418, 391, 399, 486, 421, 496, 463, 508, 419, 434, 440, 405, 434, 344,\n",
        "              415, 463,475,463,392,452,504,443,461,340,438,523,416,483,440,423,386,321,433,351,481,465,390,463,468,488,443,505,395,474,490,\n",
        "               396,362,566,418,502,500,359,443,421,433,514,320,406,465,487,532,330,458,408,480,573,518,394,440,443,452,521,471,398,446,400,\n",
        "               457,407,505,390,557,591,450, 546, 454, 553, 544, 463, 411],\n",
        "        'B': [153.3,129.4,119,139.9,103.2,162.3,146.1,124.3,119.5,105.8,122.3,118.4,107.5,100,139.4,124.2,143.1,121.2,159,105.3,108.7,126.7,\n",
        "              103.6,140.4,86.8,119.7,136.7,143.6,144.9,82.7,140.5,143.8,122.9,138.6,85.1,134.9,148.7,120.5,143.4,128.5,131.1,95.5,86.1,131.5,\n",
        "              89,148.3,127.7,108.1,129.2,128.9,134.1,137.4,155.8,109.1,132.5,139.9,90.1,97.9,175.7,109.3,132.5,155.5,71.9,135.7,118,128.2,174.6,\n",
        "              72.6,113.8,140.9,146,158.7,71.1,121.7,117,153.9,156.5,144.4,112.1,105.7,121.9,131,154.9,143.9,109,144,114.6,126.4,118,137.5,91.4,\n",
        "              151.9,156.9,122.3,177,131.1,159.1,166.7,129.1,115.2]}\n",
        "N = 100 # Размер выборки\n",
        "\n",
        "minA = min(data['A'])\n",
        "maxA = max(data['A'])\n",
        "avgA = sum(data['A']) / N\n",
        "for i in range(len(data['A'])):\n",
        "  data['A'][i] = (data['A'][i] - minA) / (maxA - minA)\n",
        "\n",
        "minB = min(data['B'])\n",
        "maxB = max(data['B'])\n",
        "avgB = sum(data['B']) / N\n",
        "for i in range(len(data['B'])):\n",
        "  data['B'][i] = (data['B'][i] - minB) / (maxB - minB)\n",
        "\n",
        "plt.scatter(data[\"A\"], data[\"B\"], c =\"red\")"
      ]
    },
    {
      "cell_type": "markdown",
      "source": [
        "2. Определить «грубую» верхнюю оценку количества кластеров: $\\widetilde k= \\sqrt{\\frac{N}{2}}$, где N – число точек."
      ],
      "metadata": {
        "id": "nuPKqpKduxqw"
      }
    },
    {
      "cell_type": "code",
      "source": [
        "print((N / 2) ** 0.5)"
      ],
      "metadata": {
        "colab": {
          "base_uri": "https://localhost:8080/"
        },
        "id": "wuKu15v8gkUY",
        "outputId": "84c302aa-4d88-4921-b734-a96c6f32caef"
      },
      "execution_count": null,
      "outputs": [
        {
          "output_type": "stream",
          "name": "stdout",
          "text": [
            "7.0710678118654755\n"
          ]
        }
      ]
    },
    {
      "cell_type": "markdown",
      "source": [
        "3. Реализовать алгоритм k-means в двух вариантах."
      ],
      "metadata": {
        "id": "Eiz_OiG_vYIR"
      }
    },
    {
      "cell_type": "markdown",
      "source": [
        "3.1. Пересчет центра кластера осуществляется после каждого изменения его состава"
      ],
      "metadata": {
        "id": "fagUqOAWvaRY"
      }
    },
    {
      "cell_type": "code",
      "source": [
        "from math import sqrt\n",
        "import matplotlib.pyplot as plt\n",
        "import copy\n",
        "\n",
        "clusters_number = 5\n",
        "\n",
        "\n",
        "def calculate_centers(sample):\n",
        "    min_val, max_val = min(sample), max(sample)\n",
        "    h = (max_val - min_val) / (clusters_number)\n",
        "    borders = [min_val]\n",
        "    for i in range(clusters_number):\n",
        "        borders.append(borders[i] + h)\n",
        "\n",
        "    centers = []\n",
        "    for i in range(clusters_number):\n",
        "        centers.append((borders[i] + borders[i + 1]) / 2)\n",
        "    return centers\n",
        "\n",
        "\n",
        "def find_closest_point(im_point, sample):\n",
        "    index = 0\n",
        "    current_distance = get_distance(im_point, sample[0])\n",
        "    for i in range(1, len(sample)):\n",
        "        dist = get_distance(im_point, sample[i])\n",
        "        if dist < current_distance:\n",
        "            current_distance = dist\n",
        "            index = i\n",
        "    return index\n",
        "\n",
        "\n",
        "def get_distance(p1, p2):\n",
        "    return sqrt((pow(p2[0] - p1[0], 2) + pow(ncf * (p2[1] - p1[1]), 2)))\n",
        "\n",
        "\n",
        "def find_closest_cluster(point, centers):\n",
        "    ds = [get_distance(point, i) for i in centers]\n",
        "    return ds.index(min(ds))\n",
        "\n",
        "\n",
        "def recalculate_center(cluster, cl_index, centers):\n",
        "    mid_x = sum([i[0] for i in cluster]) / len(cluster)\n",
        "    mid_y = sum([i[1] for i in cluster]) / len(cluster)\n",
        "    centers[cl_index] = [mid_x, mid_y]\n",
        "\n",
        "\n",
        "def recalculate_all_centers(clusters, centers):\n",
        "    for i, cluster in enumerate(clusters):\n",
        "        recalculate_center(cluster, i, centers)\n",
        "\n",
        "\n",
        "def init():\n",
        "    sample_2D = list(zip(data['A'], data['B']))\n",
        "    im_centers = list(zip(calculate_centers(data['A']), calculate_centers(data['B'])))\n",
        "    pointsPull = sample_2D[:]\n",
        "    centers = []\n",
        "    for im_center in im_centers:\n",
        "        index = find_closest_point(im_center, pointsPull)\n",
        "        print(index)\n",
        "        centers.append(sample_2D[index])\n",
        "        del pointsPull[index]\n",
        "    clusters = [[centers[i]] for i in range(clusters_number)]\n",
        "    return clusters, centers, pointsPull\n",
        "\n",
        "\n",
        "def compare_clusters(clusters_1, clusters_2):\n",
        "    if len(clusters_1) != len(clusters_2):\n",
        "        return False\n",
        "    for i in range(clusters_number):\n",
        "        if len(clusters_1[i]) == len(clusters_2[i]):\n",
        "            for j in range(len(clusters_2[i])):\n",
        "                if clusters_1[i][j] != clusters_2[i][j]:\n",
        "                    return False\n",
        "        else:\n",
        "            return False\n",
        "    return True\n",
        "\n",
        "\n",
        "def F_1(clusters, centers):\n",
        "    result = 0\n",
        "    for i, cluster in enumerate(clusters):\n",
        "        for elem in cluster:\n",
        "            result += get_distance(elem, centers[i])\n",
        "    return result\n",
        "\n",
        "\n",
        "def F_2(clusters):\n",
        "    result = 0\n",
        "    for cluster in clusters:\n",
        "        for i in range(len(cluster)):\n",
        "            for j in range(i, len(cluster)):\n",
        "                result += get_distance(cluster[i], cluster[j])\n",
        "    return result\n",
        "\n",
        "\n",
        "def F_3(clusters, centers):\n",
        "    result = 0\n",
        "    for i, cluster in enumerate(clusters):\n",
        "        sigma = 0\n",
        "        for elem in cluster:\n",
        "            sigma += pow(get_distance(elem, centers[i]), 2)\n",
        "        sigma /= len(cluster)\n",
        "        result += sigma\n",
        "    return result\n",
        "\n",
        "\n",
        "def k_algo_1():\n",
        "    clusters, centers, pointsPull = init()\n",
        "    print(\"Начальные центры:\")\n",
        "    for elem in centers:\n",
        "        print(f\"({elem[0]:.2f}; {elem[1]:.2f})\", end=\" \")\n",
        "    print(end=\"\\n\")\n",
        "    old_clusters = []\n",
        "\n",
        "    for i in range(10):\n",
        "        for point in pointsPull:\n",
        "            index = find_closest_cluster(point, centers)\n",
        "            clusters[index].append(point)\n",
        "            recalculate_center(clusters[index], index, centers)\n",
        "        pointsPull = list(zip(data['A'], data['B']))\n",
        "\n",
        "        if compare_clusters(clusters, old_clusters):\n",
        "            print(f\"Найдено устойчивое состояние! {i} совпадает с {i + 1}\")\n",
        "\n",
        "            colors = [\"blue\", \"red\", \"yellow\", \"black\", \"green\", \"cyan\", \"grey\", \"blue\", \"red\", \"yellow\"]\n",
        "            fig, ax = plt.subplots()\n",
        "            for j, cluster in enumerate(clusters):\n",
        "                for point in cluster:\n",
        "                    ax.plot(point[0], point[1], 'o', color=colors[j], alpha=0.5)\n",
        "            for j, center in enumerate(centers):\n",
        "                ax.plot(center[0], center[1], 'x', color=colors[j])\n",
        "            plt.title(\"Финал алгоритма с пересчётом на каждом шаге\")\n",
        "            plt.show()\n",
        "            break\n",
        "        else:\n",
        "            print(f\"{i + 1} шаг процедуры:\")\n",
        "            for elem in centers:\n",
        "                print(f\"({elem[0]:.2f}; {elem[1]:.2f})\", end=\" \")\n",
        "            print(end=\"\\n\")\n",
        "            print(f\"F1: {F_1(clusters, centers):.2f}\")\n",
        "            print(f\"F2: {F_2(clusters):.2f}\")\n",
        "            print(f\"F3: {F_3(clusters, centers):.2f}\")\n",
        "            print(end=\"\\n\")\n",
        "\n",
        "            old_clusters = copy.deepcopy(clusters)\n",
        "            clusters.clear()\n",
        "            for _ in range(len(old_clusters)):\n",
        "                clusters.append([])\n",
        "\n",
        "\n",
        "ncf = (max(data['A']) - min(data['A'])) / (max(data['B']) - min(data['B']))\n",
        "print(ncf)\n",
        "\n",
        "k_algo_1()\n"
      ],
      "metadata": {
        "colab": {
          "base_uri": "https://localhost:8080/",
          "height": 920
        },
        "id": "b_cabUTEkIX1",
        "outputId": "3ba1d78e-bc4e-4ad9-99ae-ba22b36cf84e"
      },
      "execution_count": null,
      "outputs": [
        {
          "output_type": "stream",
          "name": "stdout",
          "text": [
            "1.0\n",
            "34\n",
            "22\n",
            "85\n",
            "30\n",
            "93\n",
            "Начальные центры:\n",
            "(0.07; 0.13) (0.31; 0.31) (0.46; 0.69) (0.49; 0.66) (0.48; 0.48) \n",
            "1 шаг процедуры:\n",
            "(0.14; 0.13) (0.33; 0.38) (0.71; 0.76) (0.50; 0.64) (0.48; 0.52) \n",
            "F1: 9.61\n",
            "F2: 153.06\n",
            "F3: 0.06\n",
            "\n",
            "2 шаг процедуры:\n",
            "(0.14; 0.13) (0.37; 0.43) (0.77; 0.85) (0.54; 0.63) (0.72; 0.65) \n",
            "F1: 9.96\n",
            "F2: 169.26\n",
            "F3: 0.06\n",
            "\n",
            "3 шаг процедуры:\n",
            "(0.14; 0.13) (0.37; 0.43) (0.80; 0.84) (0.55; 0.64) (0.70; 0.61) \n",
            "F1: 9.96\n",
            "F2: 180.18\n",
            "F3: 0.06\n",
            "\n",
            "Найдено устойчивое состояние! 3 совпадает с 4\n"
          ]
        },
        {
          "output_type": "display_data",
          "data": {
            "text/plain": [
              "<Figure size 640x480 with 1 Axes>"
            ],
            "image/png": "[encoded data removed]"
          },
          "metadata": {}
        }
      ]
    },
    {
      "cell_type": "markdown",
      "source": [
        "3.2. Пересчет центра кластера осуществляется лишь после того, как будет завершен просмотр всех данных (шаг процедуры)."
      ],
      "metadata": {
        "id": "2V8QfIyFvfNk"
      }
    },
    {
      "cell_type": "code",
      "source": [
        "def k_algo_2(sample_density, sample_elastic):\n",
        "    print(\"Начало алгоритма с пересчётом центра после просмотра всех данных\")\n",
        "    clusters, centers, pointsPull = init()\n",
        "    print(\"Начальные центры:\")\n",
        "    for elem in centers:\n",
        "        print(f\"({elem[0]:.2f}; {elem[1]:.2f})\", end=\" \")\n",
        "    print(end=\"\\n\")\n",
        "    old_clusters = []\n",
        "\n",
        "    for i in range(10):\n",
        "        for point in pointsPull:\n",
        "            index = find_closest_cluster(point, centers)\n",
        "            clusters[index].append(point)\n",
        "        recalculate_all_centers(clusters, centers)  # Пересчитываем центры после подсчёт статистики\n",
        "\n",
        "        if compare_clusters(clusters, old_clusters):\n",
        "            print(f\"Найдено устойчивое состояние! {i} совпадает с {i + 1}\")\n",
        "\n",
        "            colors = [\"blue\", \"red\", \"yellow\", \"black\", \"green\", \"cyan\", \"grey\", \"blue\", \"red\", \"yellow\"]\n",
        "            fig, ax = plt.subplots()\n",
        "            for j, cluster in enumerate(clusters):\n",
        "                for point in cluster:\n",
        "                    ax.plot(point[0], point[1], 'o', color=colors[j], alpha=0.5)\n",
        "            for j, center in enumerate(centers):\n",
        "                ax.plot(center[0], center[1], 'x', color=colors[j])\n",
        "            plt.title(\"Финал алгоритма с пересчётом после всей итерации\")\n",
        "            plt.show()\n",
        "            break\n",
        "        else:\n",
        "            print(f\"{i + 1} шаг процедуры:\")\n",
        "            for elem in centers:\n",
        "                print(f\"({elem[0]:.2f}; {elem[1]:.2f})\", end=\" \")\n",
        "            print(end=\"\\n\")\n",
        "            print(f\"F1: {F_1(clusters, centers):.2f}\")\n",
        "            print(f\"F2: {F_2(clusters):.2f}\")\n",
        "            print(f\"F3: {F_3(clusters, centers):.2f}\")\n",
        "            print(end=\"\\n\")\n",
        "\n",
        "            pointsPull = list(zip(sample_density, sample_elastic))\n",
        "            old_clusters = copy.deepcopy(clusters)\n",
        "            clusters.clear()\n",
        "            for _ in range(len(old_clusters)):\n",
        "                clusters.append([])\n",
        "\n",
        "\n",
        "k_algo_2(data['A'], data['B'])\n"
      ],
      "metadata": {
        "id": "99Q52j7_cwtN",
        "outputId": "8898e99f-f268-44de-ad57-c27cca84cec8",
        "colab": {
          "base_uri": "https://localhost:8080/",
          "height": 1000
        }
      },
      "execution_count": null,
      "outputs": [
        {
          "output_type": "stream",
          "name": "stdout",
          "text": [
            "Начало алгоритма с пересчётом центра после просмотра всех данных\n",
            "34\n",
            "22\n",
            "85\n",
            "30\n",
            "93\n",
            "Начальные центры:\n",
            "(0.07; 0.13) (0.31; 0.31) (0.46; 0.69) (0.49; 0.66) (0.48; 0.48) \n",
            "1 шаг процедуры:\n",
            "(0.10; 0.11) (0.31; 0.34) (0.64; 0.82) (0.64; 0.69) (0.46; 0.51) \n",
            "F1: 10.81\n",
            "F2: 179.09\n",
            "F3: 0.09\n",
            "\n",
            "2 шаг процедуры:\n",
            "(0.10; 0.11) (0.31; 0.34) (0.77; 0.85) (0.64; 0.67) (0.46; 0.53) \n",
            "F1: 9.12\n",
            "F2: 137.85\n",
            "F3: 0.06\n",
            "\n",
            "3 шаг процедуры:\n",
            "(0.10; 0.11) (0.31; 0.34) (0.80; 0.84) (0.61; 0.67) (0.46; 0.54) \n",
            "F1: 8.65\n",
            "F2: 129.53\n",
            "F3: 0.05\n",
            "\n",
            "4 шаг процедуры:\n",
            "(0.10; 0.11) (0.31; 0.35) (0.80; 0.84) (0.60; 0.66) (0.46; 0.54) \n",
            "F1: 8.58\n",
            "F2: 124.29\n",
            "F3: 0.05\n",
            "\n",
            "5 шаг процедуры:\n",
            "(0.10; 0.11) (0.32; 0.36) (0.80; 0.84) (0.60; 0.66) (0.46; 0.53) \n",
            "F1: 8.55\n",
            "F2: 123.10\n",
            "F3: 0.05\n",
            "\n",
            "Найдено устойчивое состояние! 5 совпадает с 6\n"
          ]
        },
        {
          "output_type": "display_data",
          "data": {
            "text/plain": [
              "<Figure size 640x480 with 1 Axes>"
            ],
            "image/png": "[encoded data removed]"
          },
          "metadata": {}
        }
      ]
    },
    {
      "cell_type": "markdown",
      "source": [
        "4. На каждом шаге процедуры разбиения методом k-means вычислять функционалы качества полученного разбиения:"
      ],
      "metadata": {
        "id": "9AuuXd3bvijZ"
      }
    },
    {
      "cell_type": "markdown",
      "source": [
        "При пересчете на каждом шаге:\\\n",
        "1 шаг:\n",
        "$F_1$: 9.61\n",
        "$F_2$: 153.06\n",
        "$F_3$: 0.06\n",
        "\n",
        "2 шаг:\n",
        "$F_1$: 9.96\n",
        "$F_2$: 169.26\n",
        "$F_3$: 0.06\n",
        "\n",
        "3 шаг:\n",
        "$F_1$: 9.96\n",
        "$F_2$: 180.18\n",
        "$F_3$: 0.06"
      ],
      "metadata": {
        "id": "FHXXIAZm2RqZ"
      }
    },
    {
      "cell_type": "markdown",
      "source": [
        "При просмотре после того, как будет завершен просмотр всех данных:\\\n",
        "1 шаг:\n",
        "$F_1$: 10.81\n",
        "$F_2$: 179.09\n",
        "$F_3$: 0.09\n",
        "\n",
        "2 шаг:\n",
        "$F_1$: 9.12\n",
        "$F_2$: 137.85\n",
        "$F_3$: 0.06\n",
        "\n",
        "3 шаг:\n",
        "$F_1$: 8.65\n",
        "$F_2$: 129.53\n",
        "$F_3$: 0.05\n",
        "\n",
        "4 шаг:\n",
        "$F_1$: 8.58\n",
        "$F_2$: 124.29\n",
        "$F_3$: 0.05\n",
        "\n",
        "5 шаг:\n",
        "$F_1$: 8.55\n",
        "$F_2$: 123.10\n",
        "$F_3$: 0.05"
      ],
      "metadata": {
        "id": "8gL944sqU6NH"
      }
    },
    {
      "cell_type": "markdown",
      "source": [
        "5. Отобразить полученные кластеры, выделить каждый кластер разным цветом, отметить центроиды."
      ],
      "metadata": {
        "id": "W17fR0aJ6-a_"
      }
    },
    {
      "cell_type": "markdown",
      "source": [
        "Полученные кластеры были отображены в пункте 3."
      ],
      "metadata": {
        "id": "P2o_ObGv7D8B"
      }
    },
    {
      "cell_type": "markdown",
      "source": [
        "6. Содержательно проинтерпретировать полученные результаты."
      ],
      "metadata": {
        "id": "R8GS_y0Ov4wA"
      }
    },
    {
      "cell_type": "markdown",
      "source": [
        "После реализации двух вариантов алгоритма k-means видно, что\n",
        "количество шагов, необходимых для сходимости, разное. И более точную оценку их\n",
        "работоспособности помогут дать функционалы качества. Из\n",
        "пункта 4 видно, что при алгоритме с пересчетом после после того, как будет завершен просмотр всех данных, позволяет лучше минимизировать данные\n",
        "функционалы, поэтому можно сделать вывод, что пересчет центров кластеров после обработки каждой отдельной точки приводит к более эффективному разделению данных в рассматриваемом случае."
      ],
      "metadata": {
        "id": "sqCo6O3r39Hs"
      }
    },
    {
      "cell_type": "markdown",
      "source": [
        "##Вывод\n",
        "\n",
        "В результате практической работы было нормализовано множество точек. Далее была определена \"грубая\" верхняя оценка количества кластеров. Кроме того был реализован алгорим k-means в двух варинтах: пересчет центра кластера после каждого изменения его состава и пересчет центра кластера лишь после того, как будет завершен просмотр всех данных. Также на каждом шаге процедуры были вычеслены функционалы качества: сумма по всем кластерам квадратов расстояний элементов кластеров до центров соответствующих кластеров, сумма по всем кластерам внутрикластерных расстояний между элементами кластеров и сумма по всем кластерам внутрикластерных дисперсий (относительно центров кластеров). Полученные кластеры были отображены, и каждый кластер был выделенным разным цветом. Центроиды также были отмечены на графиках.\n"
      ],
      "metadata": {
        "id": "yxKIBIUP47JP"
      }
    }
  ]
}