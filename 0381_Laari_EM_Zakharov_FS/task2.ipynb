{
  "nbformat": 4,
  "nbformat_minor": 0,
  "metadata": {
    "colab": {
      "provenance": []
    },
    "kernelspec": {
      "name": "python3",
      "display_name": "Python 3"
    },
    "language_info": {
      "name": "python"
    }
  },
  "cells": [
    {
      "cell_type": "markdown",
      "source": [
        "#Практическая работа №2: Обработка выборочных данных. Нахождение точечных оценок параметров распределения"
      ],
      "metadata": {
        "id": "cg3wg98GDrJE"
      }
    },
    {
      "cell_type": "markdown",
      "source": [
        "Выполнили студенты гр. 0381 Лаари Екатерина и Захаров Филипп. Вариант №9"
      ],
      "metadata": {
        "id": "DlUSKPkCDwCC"
      }
    },
    {
      "cell_type": "markdown",
      "source": [
        "## Цель работы\n",
        "\n",
        "Получение практических навыков нахождения точечных статистических оценок параметров распределения."
      ],
      "metadata": {
        "id": "RGoXSYG0EUNL"
      }
    },
    {
      "cell_type": "markdown",
      "source": [
        "##Основные теоретические положения\n",
        "\n",
        "Математическим ожиданием дискретной случайной величины называется сумма произведений ее возможных значений на соответствующие им вероятности:\n",
        "\n",
        "$M(X)=\\sum\\limits^{n}_{i = 1}x_in_i$\n",
        "\n",
        "Дисперсией случайной величины называется математическое ожидание квадрата ее отклонения от ее математического ожидания:\n",
        "\n",
        "$D(X)=M(X-M(X))^2$\n",
        "\n",
        "Среднеквадратическим отклонением случайной величины $Х$ (стандартом) называется квадратный корень из ее дисперсии:\n",
        "\n",
        "$\\sigma=\\sqrt{D(X)}$\n",
        "\n",
        "Асимметрией, или коэффициентом асимметрии, называется числовая характеристика, определяемая выражением:\n",
        "\n",
        "$a^*_s=\\dfrac{m_3}{S^3}$,\n",
        " где $m_3$ – центральный эмпирический момент третьего порядка, $S$ – исправленная выборочная дисперсия.\n",
        "\n",
        "Центральным моментом порядка $k$ случайной величины $X$ называется математическое ожидание величины:\n",
        "\n",
        "$M(X-M(X))^k=m_k$.\n",
        "\n",
        "Исправленная выборочная дисперсия определяется по формуле:\n",
        "\n",
        "$S^2=\\dfrac{N}{N-1}D_B$,\n",
        " где $D_B=\\dfrac{1}{N}\\sum\\limits^{k}_{i = 1}(x_i-\\bar x)^2n_i$ – выборочная дисперсия.\n",
        "\n",
        "Эксцессом называется численная характеристика случайной величины, которая определяется выражением:\n",
        "\n",
        "$\\varepsilon^*_k=\\dfrac{m_4}{S^4}-3$.\n",
        "\n",
        "\n",
        "Для нормального закона $\\frac{m_4}{S^4}=3$. Отсюда следует, что для нормального закона $\\varepsilon_k=0$. Смысл термина «эксцесс» состоит в том, что он показывает, как быстро уменьшается плотность распределения вблизи её максимального значения.\n",
        "\n",
        "Мода дискретной случайной величины – это наиболее вероятное значение этой случайной величины. Модой непрерывной случайной величины называется ее значение, при котором плотность вероятности максимальна.\n",
        "\n",
        "$M_O(X)={x_M}_O+h\\dfrac{m_2-m_1}{(m_2-m_1)+(m_2-m_3)}$,\n",
        "где ${x_M}_O$ – начало модального интервала, $h$ – длина частичного интервала (шаг), $m_1$ – частота предмодального интервала, $m_2$ – частота модального интервала, $m_3$ – частота послемодального интервала.\n",
        "\n",
        "\n",
        "Медиана случайной величины $X$ – это такое ее значение $M_e$, для которого выполнено равенство\n",
        "\n",
        "$P(X<M_e)=P(X)>M_e$,\n",
        "\n",
        "$M_e(X)={x_M}_e+h\\dfrac{0,5n-SM_{e^-1}}{{n_M}_e}$,\n",
        "где ${x_M}_e$ – начало медианного интервала, $h$ – длина частичного интервала (шаг), $n$ – объем совокупности, $SM_{e^-1}$ – накопленная частота интервала, предшествующая медианному, ${n_M}_e$ – частота медианного интервала."
      ],
      "metadata": {
        "id": "wrJjHviCEWLP"
      }
    },
    {
      "cell_type": "markdown",
      "source": [
        "##Постановка задачи\n",
        "Для заданных выборочных данных вычислить с использованием метода моментов и условных вариант точечные статистические оценки математического ожидания, дисперсии, среднеквадратичного отклонения, асимметрии, эксцесса, моды, медианы и коэффициента вариации исследуемой случайной величины. Полученные результаты содержательно проинтерпретировать."
      ],
      "metadata": {
        "id": "jPYQ0kWoEwzp"
      }
    },
    {
      "cell_type": "code",
      "execution_count": null,
      "metadata": {
        "id": "cN1LJfgiLoph"
      },
      "outputs": [],
      "source": [
        "import math"
      ]
    },
    {
      "cell_type": "markdown",
      "source": [
        "Инициализация выборки"
      ],
      "metadata": {
        "id": "mOCUI-_uL10Q"
      }
    },
    {
      "cell_type": "code",
      "source": [
        "data = {'A': [ 480, 510, 426, 482, 393, 510, 542, 437, 453, 386, 434, 418, 391, 399, 486, 421, 496, 463, 508, 419, 434, 440, 405, 434, 344,\n",
        "              415, 463,475,463,392,452,504,443,461,340,438,523,416,483,440,423,386,321,433,351,481,465,390,463,468,488,443,505,395,474,490,\n",
        "               396,362,566,418,502,500,359,443,421,433,514,320,406,465,487,532,330,458,408,480,573,518,394,440,443,452,521,471,398,446,400,\n",
        "               457,407,505,390,557,591,450, 546, 454, 553, 544, 463, 411]}\n",
        "\n",
        "N = 100 # Размер выборки"
      ],
      "metadata": {
        "id": "0xP4hr2GL2Lb"
      },
      "execution_count": null,
      "outputs": []
    },
    {
      "cell_type": "code",
      "source": [
        "intervals_number = int(1 + 3.322 * math.log10(N))\n",
        "min_density, max_density = min(data[\"A\"]), max(data[\"A\"])\n",
        "range_density = max_density - min_density\n",
        "h = round(range_density / intervals_number)\n",
        "print(\"Используя формулу Стерджеса оптимальное количество интервалов для разбиения выборки: \", intervals_number)\n",
        "print(\"Минимальное значение ряда: \", min_density)\n",
        "print(\"Максимальное значение ряда:\", max_density)\n",
        "print(\"Размах выборки: \", range_density)\n",
        "print(\"Шаг интервального ряда: \", h)\n"
      ],
      "metadata": {
        "colab": {
          "base_uri": "https://localhost:8080/"
        },
        "id": "1VIP1-stMFC-",
        "outputId": "cdaaa989-b19b-4821-d3da-c4186a730844"
      },
      "execution_count": null,
      "outputs": [
        {
          "output_type": "stream",
          "name": "stdout",
          "text": [
            "Используя формулу Стерджеса оптимальное количество интервалов для разбиения выборки:  7\n",
            "Минимальное значение ряда:  320\n",
            "Максимальное значение ряда: 591\n",
            "Размах выборки:  271\n",
            "Шаг интервального ряда:  39\n"
          ]
        }
      ]
    },
    {
      "cell_type": "code",
      "source": [
        "isInInterval = lambda x: min(int((abs(x) - min_density) / range_density * intervals_number), intervals_number - 1)\n",
        "borders = [((min_density + range_density) / intervals_number * i, (min_density + range_density) / intervals_number * (i + 1))\n",
        "           for i in range(intervals_number)]\n",
        "intervals = [[] for i in range(intervals_number)]\n",
        "\n",
        "for value in data[\"A\"]:\n",
        "    intervals[isInInterval(value)].append(value)\n",
        "\n",
        "intervals = [sorted(i) for i in intervals]\n",
        "\n",
        "print(\"i |       Интервал      | Середина интервала | Абс. частота | Отн. частота | Накоп. абс. частота | Накоп. отн. частота |\")\n",
        "for i, interval in enumerate(intervals):\n",
        "    print(f\"{i + 1} | [{interval[0]:.3f} - {interval[-1]:.3f}) |\", end=\" \")\n",
        "    print(f\"{((intervals[i][0] + intervals[i][-1]) / 2):^18.2f} |\", end=\" \")\n",
        "    print(f\"{len(intervals[i]):^13.3f}| {len(intervals[i]) / N:^13.3f}|\", end=\" \")\n",
        "    print(f\"{sum([len(k) for k in intervals[:i + 1]]):^20.3f}|\", end=\" \")\n",
        "    print(f\"{sum([len(k) for k in intervals[:i + 1]]) / N:^20.3f}|\")"
      ],
      "metadata": {
        "colab": {
          "base_uri": "https://localhost:8080/"
        },
        "id": "BtKbvGDiMFfu",
        "outputId": "d85103ee-24b6-4a93-80bc-dc8670aff41b"
      },
      "execution_count": null,
      "outputs": [
        {
          "output_type": "stream",
          "name": "stdout",
          "text": [
            "i |       Интервал      | Середина интервала | Абс. частота | Отн. частота | Накоп. абс. частота | Накоп. отн. частота |\n",
            "1 | [320.000 - 351.000) |       335.50       |     6.000    |     0.060    |        6.000        |        0.060        |\n",
            "2 | [359.000 - 396.000) |       377.50       |    12.000    |     0.120    |        18.000       |        0.180        |\n",
            "3 | [398.000 - 434.000) |       416.00       |    22.000    |     0.220    |        40.000       |        0.400        |\n",
            "4 | [437.000 - 474.000) |       455.50       |    28.000    |     0.280    |        68.000       |        0.680        |\n",
            "5 | [475.000 - 510.000) |       492.50       |    19.000    |     0.190    |        87.000       |        0.870        |\n",
            "6 | [514.000 - 546.000) |       530.00       |     8.000    |     0.080    |        95.000       |        0.950        |\n",
            "7 | [553.000 - 591.000) |       572.00       |     5.000    |     0.050    |       100.000       |        1.000        |\n"
          ]
        }
      ]
    },
    {
      "cell_type": "markdown",
      "source": [
        "1. Вычисление условных вариант"
      ],
      "metadata": {
        "id": "RpkOpEP-N-PR"
      }
    },
    {
      "cell_type": "markdown",
      "source": [
        "Условная варианта равна $u_i=\\frac{x_i-C}{h}$\n",
        "\n",
        "Где C - середина 4 интервала (455.5)\n",
        "\n",
        "h - шаг выборки $(max(data) - min(data)) / len(intervals) = \\frac{591-320}{7}=39$"
      ],
      "metadata": {
        "id": "cZK7Ug38n1gU"
      }
    },
    {
      "cell_type": "code",
      "source": [
        "isInInterval = lambda x: min(int((abs(x) - min_density) / range_density * intervals_number), intervals_number - 1)\n",
        "borders = [(min_density + range_density / intervals_number * i, min_density + range_density / intervals_number * (i + 1))\n",
        "           for i in range(intervals_number)]\n",
        "intervals = [[] for i in range(intervals_number)]\n",
        "\n",
        "for value in data[\"A\"]:\n",
        "    intervals[isInInterval(value)].append(value)\n",
        "intervals = [sorted(i) for i in intervals]\n",
        "\n",
        "print(\"Таблица 1:\")\n",
        "print(\"i |  x_i  |  n_i |  u_i | n_i*u_i | n_i*u_i^2 | n_i*u_i^3 | n_i*u_i^4 | n_i*(u_i + 1)^4 |\")\n",
        "for i, interval in enumerate(intervals):\n",
        "    print(f\"{i + 1} |\", end=\" \")\n",
        "    print(f\"{((intervals[i][0] + intervals[i][-1]) / 2):.1f} |\", end=\" \")\n",
        "    n_i = len(intervals[i])\n",
        "    print(f\"{n_i:^5.0f}|\", end=\" \")\n",
        "    u_i = i-3\n",
        "    print(f\"{u_i:^5}|\", end=\" \")\n",
        "    print(f\"{n_i*u_i:^8}|\", end=\" \")\n",
        "    print(f\"{n_i*u_i**2:^10}|\", end=\" \")\n",
        "    print(f\"{n_i*u_i**3:^10}|\", end=\" \")\n",
        "    print(f\"{n_i*u_i**4:^10}|\", end=\" \")\n",
        "    print(f\"{n_i*(u_i+1)**4:^16}|\")\n",
        "sum_n_i = 0\n",
        "sum_x_i = 0\n",
        "sum_u_i = 0\n",
        "sum_ni_ui = 0\n",
        "sum_ni_ui2 = 0\n",
        "sum_ni_ui3 = 0\n",
        "sum_ni_ui4 = 0\n",
        "sum_ni_ui14 = 0\n",
        "for i, interval in enumerate(intervals):\n",
        "    n_i = len(intervals[i])\n",
        "    u_i = i-3\n",
        "\n",
        "    sum_x_i     += ((interval[0] + interval[-1]) / 2)\n",
        "    sum_n_i     += n_i\n",
        "    sum_u_i     += u_i\n",
        "    sum_ni_ui   += n_i * u_i\n",
        "    sum_ni_ui2  += n_i * u_i ** 2\n",
        "    sum_ni_ui3  += n_i * u_i ** 3\n",
        "    sum_ni_ui4  += n_i * u_i ** 4\n",
        "    sum_ni_ui14 += n_i*(u_i+1)**4\n",
        "\n",
        "print(f\"S | {sum_x_i}|  {sum_n_i} |   -  |   {sum_ni_ui}   |    {sum_ni_ui2}    |    {sum_ni_ui3}    |    {sum_ni_ui4}   |       {sum_ni_ui14}      |\")\n"
      ],
      "metadata": {
        "colab": {
          "base_uri": "https://localhost:8080/"
        },
        "id": "w_GBr5isOEVA",
        "outputId": "12153649-c360-4132-b481-ec8f04eaf372"
      },
      "execution_count": null,
      "outputs": [
        {
          "output_type": "stream",
          "name": "stdout",
          "text": [
            "Таблица 1:\n",
            "i |  x_i  |  n_i |  u_i | n_i*u_i | n_i*u_i^2 | n_i*u_i^3 | n_i*u_i^4 | n_i*(u_i + 1)^4 |\n",
            "1 | 335.5 |   6  |  -3  |   -18   |     54    |    -162   |    486    |        96       |\n",
            "2 | 377.5 |  12  |  -2  |   -24   |     48    |    -96    |    192    |        12       |\n",
            "3 | 416.0 |  22  |  -1  |   -22   |     22    |    -22    |     22    |        0        |\n",
            "4 | 455.5 |  28  |   0  |    0    |     0     |     0     |     0     |        28       |\n",
            "5 | 492.5 |  19  |   1  |    19   |     19    |     19    |     19    |       304       |\n",
            "6 | 530.0 |   8  |   2  |    16   |     32    |     64    |    128    |       648       |\n",
            "7 | 572.0 |   5  |   3  |    15   |     45    |    135    |    405    |       1280      |\n",
            "S | 3179.0|  100 |   -  |   -14   |    220    |    -62    |    1252   |       2368      |\n"
          ]
        }
      ]
    },
    {
      "cell_type": "markdown",
      "source": [
        "Контроль вычислений"
      ],
      "metadata": {
        "id": "VMoLNKi1eOyF"
      }
    },
    {
      "cell_type": "code",
      "source": [
        "print(sum_ni_ui14, '==', N + sum_ni_ui4 + 4 * sum_ni_ui3 + 6 * sum_ni_ui2 + 4 * sum_ni_ui)\n",
        "correct = sum_ni_ui14 == N + sum_ni_ui4 + 4 * sum_ni_ui3 + 6 * sum_ni_ui2 + 4 * sum_ni_ui\n",
        "if correct:\n",
        "  print(\"Вычисления верные\")\n",
        "else:\n",
        "  print(\"Вычисления неверные\")"
      ],
      "metadata": {
        "colab": {
          "base_uri": "https://localhost:8080/"
        },
        "id": "ATtND5PfeQp3",
        "outputId": "d769bee4-fae4-4e94-df55-c70330226a3f"
      },
      "execution_count": null,
      "outputs": [
        {
          "output_type": "stream",
          "name": "stdout",
          "text": [
            "2368 == 2368\n",
            "Вычисления верные\n"
          ]
        }
      ]
    },
    {
      "cell_type": "markdown",
      "source": [
        "2. Вычислить условные эмпирические моменты, с помощью них вычислить центральные эмпирические моменты."
      ],
      "metadata": {
        "id": "RT4k2kSdi3b5"
      }
    },
    {
      "cell_type": "markdown",
      "source": [
        "${v_1^*} = \\frac{\\sum u_i n_i}{N} = -0.14$\n",
        "\n",
        "${v_2^*} = \\frac{\\sum u_i^2 n_i}{N} = 2.2$\n",
        "\n",
        "${v_3^*} = \\frac{\\sum u_i^3 n_i}{N} = -0.62$\n",
        "\n",
        "${v_4^*} = \\frac{\\sum u_i^4 n_i}{N} = 12.52$\n",
        "\n",
        "\n"
      ],
      "metadata": {
        "id": "yafo-5oHja4o"
      }
    },
    {
      "cell_type": "code",
      "source": [
        "s = 0\n",
        "i = intervals[3]\n",
        "all_middle = i[len(i) // 2] if len(i) % 2 == 1 else (i[len(i) // 2 - 1] + i[len(i) // 2]) / 2\n",
        "for i in intervals:\n",
        "  middle = i[len(i) // 2] if len(i) % 2 == 1 else (i[len(i) // 2 - 1] + i[len(i) // 2]) / 2\n",
        "  s += len(i) * round((middle - all_middle) / (range_density / intervals_number))\n",
        "\n",
        "v1 = s / N\n",
        "print(v1)\n"
      ],
      "metadata": {
        "colab": {
          "base_uri": "https://localhost:8080/"
        },
        "id": "SVFXkRuKbfzu",
        "outputId": "883055b5-4745-42df-d7cf-708e90a91e68"
      },
      "execution_count": null,
      "outputs": [
        {
          "output_type": "stream",
          "name": "stdout",
          "text": [
            "-0.14\n"
          ]
        }
      ]
    },
    {
      "cell_type": "code",
      "source": [
        "v2 = 2.2\n",
        "v3 = -0.62\n",
        "v4 = 12.52\n",
        "h = range_density / intervals_number\n",
        "\n",
        "mu_2 = (v2 - v1 ** 2) * h**2\n",
        "mu_3 = (v3 - 3 * v1 * v2 + 2 * v1 ** 3) * h**3\n",
        "mu_4 = (v4 - 4 * v3 * v1 + 6 * v2 * v1 ** 2 - 3 * v1 ** 4) * h**4\n",
        "print(mu_2)\n",
        "print(mu_3)\n",
        "print(mu_4)"
      ],
      "metadata": {
        "colab": {
          "base_uri": "https://localhost:8080/"
        },
        "id": "HWW2Nhgvzrxz",
        "outputId": "993dc3e5-c8dd-45dd-ef81-05f6a74d0780"
      },
      "execution_count": null,
      "outputs": [
        {
          "output_type": "stream",
          "name": "stdout",
          "text": [
            "3267.9746204081634\n",
            "17321.103100967943\n",
            "27923443.410049304\n"
          ]
        }
      ]
    },
    {
      "cell_type": "markdown",
      "source": [
        "\\begin{array}{ccc}\n",
        "i&{v_i^*}&{\\mu_i^*}\\\\\n",
        "1&-0.14&-\\\\\n",
        "2&2.2&3316\\\\\n",
        "3&-0.62&-38806\\\\\n",
        "4&12.52&30363375\n",
        "\\end{array}"
      ],
      "metadata": {
        "id": "JYxQJWT4kUj9"
      }
    },
    {
      "cell_type": "markdown",
      "source": [
        "3. Вычислить выборочное среднее и дисперсию с помощью стандартной формулы и с помощью условных вариант.\n",
        "\n",
        "$\\overline x = v_1^* * h + C = -0.14 * 39 + 455.5 = 450.08$"
      ],
      "metadata": {
        "id": "PACommPU2Bvs"
      }
    },
    {
      "cell_type": "code",
      "source": [
        "from collections import Counter\n",
        "\n",
        "s = 0\n",
        "counter = Counter(data[\"A\"])\n",
        "for i in counter:\n",
        "  s += counter[i] / N * i\n",
        "\n",
        "s_by_v = v1 * range_density / intervals_number + (intervals[3][0] + intervals[3][-1]) / 2\n",
        "print(\"Выборочное среднее\")\n",
        "print(\"Стандартная формула:\", s)\n",
        "print(\"Условные варианты:\", s_by_v)"
      ],
      "metadata": {
        "colab": {
          "base_uri": "https://localhost:8080/"
        },
        "id": "L7sb_2Gw3WZZ",
        "outputId": "d46f2ec0-dda3-446f-f122-ecaaf6e99fb9"
      },
      "execution_count": null,
      "outputs": [
        {
          "output_type": "stream",
          "name": "stdout",
          "text": [
            "Выборочное среднее\n",
            "Стандартная формула: 449.78999999999985\n",
            "Условные варианты: 450.08\n"
          ]
        }
      ]
    },
    {
      "cell_type": "code",
      "source": [
        "s2 = 0\n",
        "counter2 = Counter(data[\"A\"])\n",
        "for i in counter2:\n",
        "  s2 += counter2[i] / N * i ** 2\n",
        "\n",
        "print(\"Дисперсия\")\n",
        "print(\"Стандартная формула:\", s2 - s ** 2)\n",
        "print(\"Условные варианты:\", mu_2)"
      ],
      "metadata": {
        "colab": {
          "base_uri": "https://localhost:8080/"
        },
        "id": "1jWnaXWU3Y8T",
        "outputId": "a7652642-34de-4b9a-e12e-385ee10b446b"
      },
      "execution_count": 12,
      "outputs": [
        {
          "output_type": "stream",
          "name": "stdout",
          "text": [
            "Дисперсия\n",
            "Стандартная формула: 3229.2459000001254\n",
            "Условные варианты: 3267.9746204081634\n"
          ]
        }
      ]
    },
    {
      "cell_type": "markdown",
      "source": [
        "4. Вычислить исправленную выборочную дисперсию $S^2$ и исправленное СКО $S$. Сравнить данные оценки с смещёнными оценками дисперсии. Сделать выводы."
      ],
      "metadata": {
        "id": "uDTMiWPufEuX"
      }
    },
    {
      "cell_type": "code",
      "source": [
        "dis = 0\n",
        "for i in data[\"A\"]:\n",
        "  dis += (i - s) ** 2\n",
        "dis /= N\n",
        "print(\"Выборочную дисперсия\", dis)\n",
        "print(\"Исправленная оценка дисперсии\", N / (N - 1) * dis)\n",
        "print(\"Статистическая оценка СКО\", math.sqrt(N / (N - 1) * dis))"
      ],
      "metadata": {
        "id": "2Y3363tmCYhF",
        "colab": {
          "base_uri": "https://localhost:8080/"
        },
        "outputId": "1891d21e-ae73-420c-d687-7522d4867751"
      },
      "execution_count": 13,
      "outputs": [
        {
          "output_type": "stream",
          "name": "stdout",
          "text": [
            "Выборочную дисперсия 3229.2459000000003\n",
            "Исправленная оценка дисперсии 3261.864545454546\n",
            "Статистическая оценка СКО 57.11273540511386\n"
          ]
        }
      ]
    },
    {
      "cell_type": "markdown",
      "source": [
        "5. Найти статистическую оценку коэффициентов асимметрии $a^*_s$ и $ε^*_s$ эксцесса. Сделать выводы."
      ],
      "metadata": {
        "id": "NTKzFn3atF1Y"
      }
    },
    {
      "cell_type": "code",
      "source": [
        "A_s = mu_3 / (math.sqrt(N / (N - 1) * dis)) ** 3\n",
        "E = mu_4 / (math.sqrt(N / (N - 1) * dis)) ** 4 - 3\n",
        "\n",
        "print(\"Асимметрия\", A_s)\n",
        "print(\"Эксцесс\", E)"
      ],
      "metadata": {
        "colab": {
          "base_uri": "https://localhost:8080/"
        },
        "id": "GYRkLK8MfnJi",
        "outputId": "5f923e10-700f-41ad-cb1f-92b565edd47a"
      },
      "execution_count": 14,
      "outputs": [
        {
          "output_type": "stream",
          "name": "stdout",
          "text": [
            "Асимметрия 0.09297724283614614\n",
            "Эксцесс -0.3755571000775899\n"
          ]
        }
      ]
    },
    {
      "cell_type": "markdown",
      "source": [
        "Асимметрия положительна, следовательно, в данном случае это правосторонняя асимметрия, которая характеризуется удлиненным правым хвостом.\n",
        "\n",
        "Эксцесс отрицателен, следовательно, эмпирическое распределение является более низким и пологим относительно нормального распределения.\n"
      ],
      "metadata": {
        "id": "QQCw4WRKIE86"
      }
    },
    {
      "cell_type": "markdown",
      "source": [
        "6. Для интервального ряда вычислить моду $M^*_o$, медиану $M^*_e$ и коэффициент вариации $V^*$ заданного распределения. Сделать выводы."
      ],
      "metadata": {
        "id": "YygKnXQfyse8"
      }
    },
    {
      "cell_type": "markdown",
      "source": [
        "Модальный интервал [437.000 - 474.000) - номер 4, т.к. ему соответствует наибольшая частота. Тогда\n",
        "\n",
        "$X_{M_0} = 437$\n",
        "\n",
        "$f_{M_0} = 28$\n",
        "\n",
        "$h_{M_0} = 37$\n",
        "\n",
        "$f_{M_{0-1}} = 22$\n",
        "\n",
        "$f_{M_{0+1}} = 19$\n",
        "\n",
        "$M_0 = 437 + 37 * \\frac{28 - 22}{(28 - 22) + (28-19)} = 451.8$\n",
        "\n",
        "Мода вариационного ряда равна 451.8, следовательно большинство чисел имеет значение, близкое к 451.8."
      ],
      "metadata": {
        "id": "njfOkHqn8aw6"
      }
    },
    {
      "cell_type": "markdown",
      "source": [
        "Четвертый интервал имеет накопленную абсолютную частоту более 50, следовательно является медианным интервалом, тогда:\n",
        "\n",
        "$X_{M_e} = 437$\n",
        "\n",
        "$f_{M_e} = 28$\n",
        "\n",
        "$h_{M_e} = 37$\n",
        "\n",
        "$S_{M_{e-1}} = 40$\n",
        "\n",
        "$M_e = 437 + 37 * \\frac{50 - 40}{28} = 450.21$\n",
        "\n",
        "450.21 - медиана вариацинного ряда. Половина чисел принимает значение меньшее, чем 450.21, а половина большее."
      ],
      "metadata": {
        "id": "jxpyZ4usBD4p"
      }
    },
    {
      "cell_type": "markdown",
      "source": [
        "##Выводы\n",
        "\n",
        "В ходе работы были найдены середины интервалов и накопленные частоты для интервального ряда. Были вычислены условные варианты для полученных вариант.\n",
        "\n",
        "Далее были вычислены условные эмпирические моменты, а с их помощью вычислены начальные и центральные эмпирические моменты. Правильность проведенных  вычислений подтверждена.\n",
        "\n",
        "Также были посчитаны выборочное среднее и дисперсия с помощью стандартных формул и с помощью условных вариант. Оценки совпали.\n",
        "\n",
        "Кроме того были посчитаны асимметрия и эксцесс. Коэффициент асимметрии положителен, следовательно, в данном случае это правосторонняя асимметрия. Коэффициент эксцесса отрицателен, следовательно, эмпирическое распределение является более низким и пологим относительно нормального распределения. Были вычислены мода и медиана.\n",
        "\n",
        "Таким образом, в результате выполнения практической работы были получены навыки нахождения точечных статистических оценок параметров распределения.\n"
      ],
      "metadata": {
        "id": "JybQUYyrFEeq"
      }
    }
  ]
}