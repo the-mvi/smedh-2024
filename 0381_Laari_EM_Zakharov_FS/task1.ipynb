{
  "nbformat": 4,
  "nbformat_minor": 0,
  "metadata": {
    "colab": {
      "provenance": []
    },
    "kernelspec": {
      "name": "python3",
      "display_name": "Python 3"
    },
    "language_info": {
      "name": "python"
    }
  },
  "cells": [
    {
      "cell_type": "markdown",
      "source": [
        "#**Практическая работа №1: Формирование и первичная обработка выборки. Ранжированный и интервальный ряды**"
      ],
      "metadata": {
        "id": "xuMZcJ-ZghLk"
      }
    },
    {
      "cell_type": "markdown",
      "source": [
        "Екатерина Лаари, Филипп Захаров"
      ],
      "metadata": {
        "id": "22HfpoeOhaJ0"
      }
    },
    {
      "cell_type": "markdown",
      "source": [
        "##**Цель работы**\n",
        "Ознакомление с основными правилами формирования выборки и подготовки выборочных данных к статистическому анализу."
      ],
      "metadata": {
        "id": "MNfZchDagwOQ"
      }
    },
    {
      "cell_type": "markdown",
      "source": [
        "##**Теория**\n",
        "Ранжированный ряд - выборка, в котором элементы расположены в порядке возрастания.\\\n",
        "\\\n",
        "Вариационный ряд – это значения признака (или интервалы значений) и их частоты.\\\n",
        "\\\n",
        "Интервальный ряд – это упорядоченное множество смежных интервалов и соответствующие им частоты, в сумме равные объёму совокупности. \\\n",
        "\\\n",
        "Абсолютная частота является целым числом и показывает, сколько раз данное значение повторяется в выборке. Относительная частота получается из абсолютной, если ее поделить на объем выборки.\\\n",
        "\\\n",
        "Эмпирическая функция распределения\\\n",
        "$F^*_n(y) =\\frac{1}{n}\\sum\\limits_{i=1}^n {\\mathbf I}(X_i<y)$\n"
      ],
      "metadata": {
        "id": "BIoLRkswkw91"
      }
    },
    {
      "cell_type": "markdown",
      "source": [
        "##**Постановка задачи**\n",
        "Осуществить формирование репрезентативной выборки заданного объема из имеющейся генеральной совокупности экспериментальных данных. Осуществить последовательное преобразование полученной выборки в ранжированный, вариационный и интервальный ряды. Применительно к интервальному ряду построить и отобразить графически полигон, гистограмму и эмпирическую функцию распределения для абсолютных и относительных частот. Полученные результаты содержательно проинтерпретировать."
      ],
      "metadata": {
        "id": "dH_L7rL6hDTh"
      }
    },
    {
      "cell_type": "markdown",
      "source": [
        "##**Порядок выполнения работы**"
      ],
      "metadata": {
        "id": "D2IfhtMhhK7c"
      }
    },
    {
      "cell_type": "markdown",
      "source": [
        "1. Выбрать программное обеспечение или язык программирования и обосновать его выбор.\n",
        "\n",
        "Выбрали Python, т.к. он широко используется в обработке данных. Следовательно есть много готовых решений для необходимых нам функций. Также простота синтаксиса является большим плюсом для выполнения практических работ.\n"
      ],
      "metadata": {
        "id": "vNqlnrrOysAs"
      }
    },
    {
      "cell_type": "markdown",
      "source": [
        "Инициализация библиотек"
      ],
      "metadata": {
        "id": "amIYQyILylUE"
      }
    },
    {
      "cell_type": "code",
      "source": [
        "import math\n",
        "\n",
        "import numpy as np\n",
        "import matplotlib.pyplot as plt\n",
        "import pandas as pd\n",
        "\n",
        "from collections import Counter"
      ],
      "metadata": {
        "id": "hmn4EtgkcOl6"
      },
      "execution_count": null,
      "outputs": []
    },
    {
      "cell_type": "markdown",
      "source": [
        "2. Выбрать двумерную генеральную совокупность, предварительно согласовав её с преподавателем. Указать, откуда была взята генеральная совокупность и предоставить ссылку."
      ],
      "metadata": {
        "id": "OZU4SIIvzPYi"
      }
    },
    {
      "cell_type": "markdown",
      "source": [
        "Выбрана генеральная совокупность с сайта Moodle и согласована с преподавателем в личном кабинете.\n",
        "\n",
        "Ссылка: https://se.moevm.info/doku.php/courses:statistical_methods_of_experimental_data_handling:materials"
      ],
      "metadata": {
        "id": "jT_6Y4QWi7Rj"
      }
    },
    {
      "cell_type": "markdown",
      "source": [
        "3. Из генеральной совокупности сформировать выборку заданного объёма в соответствии с полученным от преподавателя номером. Указать, каким образом была сформирована выборка."
      ],
      "metadata": {
        "id": "MkHQHHCEzUwG"
      }
    },
    {
      "cell_type": "markdown",
      "source": [
        "Была сформерована выборка размером 100. Были взяты случайные значения из генеральной совокупности."
      ],
      "metadata": {
        "id": "gxqBakTbjRJ1"
      }
    },
    {
      "cell_type": "markdown",
      "source": [
        "Инициализация выборки"
      ],
      "metadata": {
        "id": "jTQlvMMByeOn"
      }
    },
    {
      "cell_type": "code",
      "source": [
        "data = {'A': [ 480, 510, 426, 482, 393, 510, 542, 437, 453, 386, 434, 418, 391, 399, 486, 421, 496, 463, 508, 419, 434, 440, 405, 434, 344,\n",
        "              415, 463,475,463,392,452,504,443,461,340,438,523,416,483,440,423,386,321,433,351,481,465,390,463,468,488,443,505,395,474,490,\n",
        "               396,362,566,418,502,500,359,443,421,433,514,320,406,465,487,532,330,458,408,480,573,518,394,440,443,452,521,471,398,446,400,\n",
        "               457,407,505,390,557,591,450, 546, 454, 553, 544, 463, 411],\n",
        "        'B': [153.3,129.4,119,139.9,103.2,162.3,146.1,124.3,119.5,105.8,122.3,118.4,107.5,100,139.4,124.2,143.1,121.2,159,105.3,108.7,126.7,\n",
        "              103.6,140.4,86.8,119.7,136.7,143.6,144.9,82.7,140.5,143.8,122.9,138.6,85.1,134.9,148.7,120.5,143.4,128.5,131.1,95.5,86.1,131.5,\n",
        "              89,148.3,127.7,108.1,129.2,128.9,134.1,137.4,155.8,109.1,132.5,139.9,90.1,97.9,175.7,109.3,132.5,155.5,71.9,135.7,118,128.2,174.6,\n",
        "              72.6,113.8,140.9,146,158.7,71.1,121.7,117,153.9,156.5,144.4,112.1,105.7,121.9,131,154.9,143.9,109,144,114.6,126.4,118,137.5,91.4,\n",
        "              151.9,156.9,122.3,177,131.1,159.1,166.7,129.1,115.2]}\n",
        "\n",
        "N = 100 # Размер выборки"
      ],
      "metadata": {
        "id": "MoKM2w57ybOI"
      },
      "execution_count": null,
      "outputs": []
    },
    {
      "cell_type": "markdown",
      "source": [
        "4. Последовательно преобразовать выборку в ранжированный, вариационный и интервальный ряды. Интервальный ряд представить в виде табл. 1. Результаты содержательно проинтерпретировать."
      ],
      "metadata": {
        "id": "aweduoy_zcGb"
      }
    },
    {
      "cell_type": "markdown",
      "source": [
        "Ранжированный ряд"
      ],
      "metadata": {
        "id": "SVSG51ZYz3Sr"
      }
    },
    {
      "cell_type": "code",
      "source": [
        "print(*sorted(data[\"A\"]))"
      ],
      "metadata": {
        "colab": {
          "base_uri": "https://localhost:8080/"
        },
        "id": "MZvgs5blz2Ty",
        "outputId": "caf89f68-fcdc-41ee-ca4f-3bf62f5f5e3c"
      },
      "execution_count": null,
      "outputs": [
        {
          "output_type": "stream",
          "name": "stdout",
          "text": [
            "320 321 330 340 344 351 359 362 386 386 390 390 391 392 393 394 395 396 398 399 400 405 406 407 408 411 415 416 418 418 419 421 421 423 426 433 433 434 434 434 437 438 440 440 440 443 443 443 443 446 450 452 452 453 454 457 458 461 463 463 463 463 463 465 465 468 471 474 475 480 480 481 482 483 486 487 488 490 496 500 502 504 505 505 508 510 510 514 518 521 523 532 542 544 546 553 557 566 573 591\n"
          ]
        }
      ]
    },
    {
      "cell_type": "markdown",
      "source": [
        "Вариационный ряд"
      ],
      "metadata": {
        "id": "lIfC4Qv2z_hp"
      }
    },
    {
      "cell_type": "code",
      "source": [
        "variational_series_counter = Counter(data[\"A\"])\n",
        "\n",
        "for item in sorted(variational_series_counter):\n",
        "  print(item, end='\\t')\n",
        "print()\n",
        "for item in sorted(variational_series_counter):\n",
        "  print(variational_series_counter[item], end='\\t')"
      ],
      "metadata": {
        "colab": {
          "base_uri": "https://localhost:8080/"
        },
        "id": "Vi0vNZMs0Jvt",
        "outputId": "9a426c14-4c95-4c9e-ec42-d90852a3acf5"
      },
      "execution_count": null,
      "outputs": [
        {
          "output_type": "stream",
          "name": "stdout",
          "text": [
            "320\t321\t330\t340\t344\t351\t359\t362\t386\t390\t391\t392\t393\t394\t395\t396\t398\t399\t400\t405\t406\t407\t408\t411\t415\t416\t418\t419\t421\t423\t426\t433\t434\t437\t438\t440\t443\t446\t450\t452\t453\t454\t457\t458\t461\t463\t465\t468\t471\t474\t475\t480\t481\t482\t483\t486\t487\t488\t490\t496\t500\t502\t504\t505\t508\t510\t514\t518\t521\t523\t532\t542\t544\t546\t553\t557\t566\t573\t591\t\n",
            "1\t1\t1\t1\t1\t1\t1\t1\t2\t2\t1\t1\t1\t1\t1\t1\t1\t1\t1\t1\t1\t1\t1\t1\t1\t1\t2\t1\t2\t1\t1\t2\t3\t1\t1\t3\t4\t1\t1\t2\t1\t1\t1\t1\t1\t5\t2\t1\t1\t1\t1\t2\t1\t1\t1\t1\t1\t1\t1\t1\t1\t1\t1\t2\t1\t2\t1\t1\t1\t1\t1\t1\t1\t1\t1\t1\t1\t1\t1\t"
          ]
        }
      ]
    },
    {
      "cell_type": "markdown",
      "source": [
        "В выборке достаточно мало повторяющихся значений."
      ],
      "metadata": {
        "id": "BbXZdHhdj-Gb"
      }
    },
    {
      "cell_type": "markdown",
      "source": [
        "Интервальный ряд"
      ],
      "metadata": {
        "id": "YKNYYQxF1sJu"
      }
    },
    {
      "cell_type": "code",
      "source": [
        "intervals_number = int(1 + 3.322 * math.log10(N))\n",
        "min_density, max_density = min(data[\"A\"]), max(data[\"A\"])\n",
        "range_density = max_density - min_density\n",
        "print(\"Используя формулу Стерджеса оптимальное количество интервалов для разбиения выборки: \", intervals_number)\n",
        "print(\"Минимальное значение ряда: \", min_density)\n",
        "print(\"Максимальное значение ряда:\", max_density)\n",
        "print(\"Размах выборки\", range_density)\n"
      ],
      "metadata": {
        "colab": {
          "base_uri": "https://localhost:8080/"
        },
        "id": "P-ZRaIYH1jFm",
        "outputId": "f5417e1c-7305-4c89-dc79-e37b9b538ecb"
      },
      "execution_count": null,
      "outputs": [
        {
          "output_type": "stream",
          "name": "stdout",
          "text": [
            "Используя формулу Стерджеса оптимальное количество интервалов для разбиения выборки:  7\n",
            "Минимальное значение ряда:  320\n",
            "Максимальное значение ряда: 591\n",
            "Размах выборки 271\n"
          ]
        }
      ]
    },
    {
      "cell_type": "code",
      "source": [
        "isInInterval = lambda x: min(int((abs(x) - min_density) / range_density * intervals_number), intervals_number - 1)\n",
        "borders = [(min_density + range_density / intervals_number * i, min_density + range_density / intervals_number * (i + 1))\n",
        "           for i in range(intervals_number)]\n",
        "intervals = [[] for i in range(intervals_number)]\n",
        "\n",
        "for value in data[\"A\"]:\n",
        "    intervals[isInInterval(value)].append(value)\n",
        "\n",
        "print(\"Таблица 1:\")\n",
        "print(\"i |       Интервал      | Середина интервала | Абс. частота | Отн. частота | Накоп. абс. частота | Накоп. отн. частота |\")\n",
        "for i, interval in enumerate(intervals):\n",
        "    print(f\"{i + 1} | [{interval[0]:.3f} - {interval[1]:.3f}) |\", end=\" \")\n",
        "    print(f\"{((interval[0] + interval[1]) / 2):^18.1f} |\", end=\" \")\n",
        "    print(f\"{len(intervals[i]):^13.3f}| {len(intervals[i]) / N:^13.3f}|\", end=\" \")\n",
        "    print(f\"{sum([len(k) for k in intervals[:i + 1]]):^20.3f}|\", end=\" \")\n",
        "    print(f\"{sum([len(k) for k in intervals[:i + 1]]) / N:^20.3f}|\")\n"
      ],
      "metadata": {
        "colab": {
          "base_uri": "https://localhost:8080/"
        },
        "id": "Hc019bmR3ssy",
        "outputId": "61d69566-bfff-4d71-c7e3-dc5718966f1e"
      },
      "execution_count": null,
      "outputs": [
        {
          "output_type": "stream",
          "name": "stdout",
          "text": [
            "Таблица 1:\n",
            "i |       Интервал      | Середина интервала | Абс. частота | Отн. частота | Накоп. абс. частота | Накоп. отн. частота |\n",
            "1 | [344.000 - 340.000) |       342.0        |     6.000    |     0.060    |        6.000        |        0.060        |\n",
            "2 | [393.000 - 386.000) |       389.5        |    12.000    |     0.120    |        18.000       |        0.180        |\n",
            "3 | [426.000 - 434.000) |       430.0        |    22.000    |     0.220    |        40.000       |        0.400        |\n",
            "4 | [437.000 - 453.000) |       445.0        |    28.000    |     0.280    |        68.000       |        0.680        |\n",
            "5 | [480.000 - 510.000) |       495.0        |    19.000    |     0.190    |        87.000       |        0.870        |\n",
            "6 | [542.000 - 523.000) |       532.5        |     8.000    |     0.080    |        95.000       |        0.950        |\n",
            "7 | [566.000 - 573.000) |       569.5        |     5.000    |     0.050    |       100.000       |        1.000        |\n"
          ]
        }
      ]
    },
    {
      "cell_type": "markdown",
      "source": [
        "По частоте встречающихся чисел в интервалах можно предварительно сказать, что выборка имеет нормальное распределение."
      ],
      "metadata": {
        "id": "atIlwF3_kE1J"
      }
    },
    {
      "cell_type": "markdown",
      "source": [
        "5. Для абсолютных частот построить и отобразить графически полигон, гистограмму и эмпирическую функцию. Сделать выводы."
      ],
      "metadata": {
        "id": "_hnV7Sis9NB5"
      }
    },
    {
      "cell_type": "markdown",
      "source": [
        "Гистограмма и полигон частот выборки"
      ],
      "metadata": {
        "id": "xgCoPLm899li"
      }
    },
    {
      "cell_type": "code",
      "source": [
        "fig, ax = plt.subplots()\n",
        "ax.hist(data[\"A\"], bins=intervals_number)\n",
        "center_of_borders = [(border[0] + border[1]) / 2 for border in borders]\n",
        "y = [len(interval) for interval in intervals]\n",
        "ax.plot(center_of_borders, y)\n",
        "plt.show()\n"
      ],
      "metadata": {
        "colab": {
          "base_uri": "https://localhost:8080/",
          "height": 430
        },
        "id": "IymgLBrU9OlH",
        "outputId": "743950c6-98ac-4c68-cf7e-50826e744e0d"
      },
      "execution_count": null,
      "outputs": [
        {
          "output_type": "display_data",
          "data": {
            "text/plain": [
              "<Figure size 640x480 with 1 Axes>"
            ],
            "image/png": "[encoded data removed]"
          },
          "metadata": {}
        }
      ]
    },
    {
      "cell_type": "markdown",
      "source": [
        "Эмпирическая функция распределения по выборке"
      ],
      "metadata": {
        "id": "tAQ7GRwXAppT"
      }
    },
    {
      "cell_type": "code",
      "source": [
        "from statsmodels.distributions.empirical_distribution import ECDF\n",
        "\n",
        "ecdf = ECDF(data[\"A\"])\n",
        "plt.plot(ecdf.x, ecdf.y)"
      ],
      "metadata": {
        "colab": {
          "base_uri": "https://localhost:8080/",
          "height": 447
        },
        "id": "EVEY895f-Jwo",
        "outputId": "0ac4c654-de64-4b85-e815-5cfca26de618"
      },
      "execution_count": null,
      "outputs": [
        {
          "output_type": "execute_result",
          "data": {
            "text/plain": [
              "[<matplotlib.lines.Line2D at 0x78724b7b8700>]"
            ]
          },
          "metadata": {},
          "execution_count": 8
        },
        {
          "output_type": "display_data",
          "data": {
            "text/plain": [
              "<Figure size 640x480 with 1 Axes>"
            ],
            "image/png": "[encoded data removed]"
          },
          "metadata": {}
        }
      ]
    },
    {
      "cell_type": "markdown",
      "source": [
        "По графикам видно, что скорее всего выборка имеет нормальное распределение."
      ],
      "metadata": {
        "id": "6piSXeUmkoRd"
      }
    },
    {
      "cell_type": "markdown",
      "source": [
        "6. Выполнить п. 5 для относительных частот. Сравнить результаты и сделать выводы."
      ],
      "metadata": {
        "id": "-5LZO2jzAs_H"
      }
    },
    {
      "cell_type": "markdown",
      "source": [
        "Гистограмма и полигон частот выборки"
      ],
      "metadata": {
        "id": "P36qmD-WBosb"
      }
    },
    {
      "cell_type": "code",
      "source": [
        "fig, ax = plt.subplots()\n",
        "ax.hist(data[\"A\"], intervals_number, weights=np.ones(len(data[\"A\"])) / len(data[\"A\"]))\n",
        "center_of_borders = [(border[0] + border[1]) / 2 for border in borders]\n",
        "y = [len(interval) / N for interval in intervals]\n",
        "ax.plot(center_of_borders, y)\n",
        "plt.show()"
      ],
      "metadata": {
        "colab": {
          "base_uri": "https://localhost:8080/",
          "height": 430
        },
        "id": "7FyDR4mDAv8z",
        "outputId": "7841db43-cc95-47a2-a4a7-56e999f9d44d"
      },
      "execution_count": null,
      "outputs": [
        {
          "output_type": "display_data",
          "data": {
            "text/plain": [
              "<Figure size 640x480 with 1 Axes>"
            ],
            "image/png": "[encoded data removed]"
          },
          "metadata": {}
        }
      ]
    },
    {
      "cell_type": "markdown",
      "source": [
        "Эмпирическая функция распределения по выборке"
      ],
      "metadata": {
        "id": "kBT3hI9kBpme"
      }
    },
    {
      "cell_type": "code",
      "source": [
        "from statsmodels.distributions.empirical_distribution import ECDF\n",
        "\n",
        "ecdf = ECDF(data[\"A\"])\n",
        "plt.plot(ecdf.x, ecdf.y)"
      ],
      "metadata": {
        "colab": {
          "base_uri": "https://localhost:8080/",
          "height": 447
        },
        "id": "B9aqGbPaBtZJ",
        "outputId": "105ac6de-a5fd-4683-c6b4-eed57c76cb77"
      },
      "execution_count": null,
      "outputs": [
        {
          "output_type": "execute_result",
          "data": {
            "text/plain": [
              "[<matplotlib.lines.Line2D at 0x787258f4ce80>]"
            ]
          },
          "metadata": {},
          "execution_count": 10
        },
        {
          "output_type": "display_data",
          "data": {
            "text/plain": [
              "<Figure size 640x480 with 1 Axes>"
            ],
            "image/png": "[encoded data removed]"
          },
          "metadata": {}
        }
      ]
    },
    {
      "cell_type": "markdown",
      "source": [
        "Графики абсолютных и относительных частот совпадают.\n",
        "\n",
        "По графикам также видно, что скорее всего выборка имеет нормальное распределение."
      ],
      "metadata": {
        "id": "WME39iyhkSWM"
      }
    },
    {
      "cell_type": "markdown",
      "source": [
        "## Вывод\n",
        "\n",
        "Во время выполнения практической работы, были изучены основные правила формирования выборки и были подготовлены выборочные данные к статистическому анализу. Выборка была преобразована в ранжированный, вариационный и интервальный ряды. Были построены гистаграммы и полигоны частот и эмпирическая функция распределения для выборки."
      ],
      "metadata": {
        "id": "bShGf-WJk9ul"
      }
    }
  ]
}