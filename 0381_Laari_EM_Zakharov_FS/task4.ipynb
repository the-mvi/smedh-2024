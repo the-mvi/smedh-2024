{
  "nbformat": 4,
  "nbformat_minor": 0,
  "metadata": {
    "colab": {
      "provenance": []
    },
    "kernelspec": {
      "name": "python3",
      "display_name": "Python 3"
    },
    "language_info": {
      "name": "python"
    }
  },
  "cells": [
    {
      "cell_type": "markdown",
      "source": [
        "#Практическая работа №4: Элементы корреляционного анализа. Проверка статистической гипотезы о равенстве коэффициента корреляции нулю"
      ],
      "metadata": {
        "id": "rIAc3xZWKev7"
      }
    },
    {
      "cell_type": "markdown",
      "source": [
        "Выполнили студенты гр. 0381 Лаари Екатерина и Захаров Филипп. Вариант №9"
      ],
      "metadata": {
        "id": "7MPq9y8SKi-s"
      }
    },
    {
      "cell_type": "markdown",
      "source": [
        "## Цель работы\n",
        "\n",
        "Освоение основных понятий, связанных с корреляционной зависимостью между случайными величинами, статистическими гипотезами и проверкой их «справедливости»."
      ],
      "metadata": {
        "id": "rA_rWigZKgIc"
      }
    },
    {
      "cell_type": "markdown",
      "source": [
        "##Основные теоретические положения\n",
        "\n",
        "Корреляционной называют статистическую зависимость двух\n",
        "случайных величин, при которой изменение значения одной из случайных величин приводит к изменению математического ожидания другой случайной величины.\n",
        "\n",
        "$$M(X/y) = q_1(y)$$\n",
        "$$M(Y/x) = q_2(x)$$\n",
        "\n",
        "Эти функции называют функциями регрессии.\n",
        "Корреляционный момент - это:\n",
        "$$\\mu_{xy} = M([x-M(X)] * [y-M(y)])$$\n",
        "\n",
        "Коэффициент корреляции - это:\n",
        "$$r_{xy} = \\frac{\\mu_{xy}}{ \\sigma_x  \\sigma_y}$$\n",
        "\n",
        "Для коэффициента корреляции справедливо соотношение:\n",
        "$$|r_{xy}| <= 1$$\n",
        "\n",
        "Случайные величины X и Y называют коррелированными, если их\n",
        "корреляционный момент или их коэффициент корреляции отличен от нуля. В противном случае эти величины некоррелированы.\n",
        "\n",
        "Если случайные величины X и Y коррелированы, то они зависимы.\n",
        "\n",
        "Оценка корреляционного коэффициента вычисляется как:\n",
        "\n",
        "$$\\overline{r}_{xy}= \\frac{\\sum_{i=1}^{K_y}\\sum_{j=1}^{K_x}[n_{ij}y_ix_j]-N\\overline{x}_B\\overline{y}_B}{NS_xS_y}$$\n",
        "\n",
        "Для проверки значимости выборочного коэффициента корреляции\n",
        "нулевая гипотеза формулируется так, что $$r_{xy} = 0$$ Для вычисления наблюдаемого значения используется следующая формула:\n",
        "\n",
        "$$T_{набл} = \\frac{\\overline{r}_{xy}\\sqrt{N-2}}{\\sqrt{1-r_{xy}^{-2}}}$$\n",
        "\n",
        "При справедливости нулевой гипотезы эта случайная величина\n",
        "сходится к распределению Стьюдента с степенями свободы 𝑑𝑓 = 𝑁 − 2.\n",
        "Поскольку распределение Стьюдента симметричное, то критическая\n",
        "область в данном случае также двусторонняя.\n"
      ],
      "metadata": {
        "id": "60nTnJt-Kljo"
      }
    },
    {
      "cell_type": "markdown",
      "source": [
        "##Постановка задачи\n",
        "Из заданной генеральной совокупности сформировать выборку по второму признаку. Провести статистическую обработку второй выборки в объёме практических работ №1 и №2, с целью определения точечных статистических оценок параметров распределения исследуемого признака (математического ожидания, дисперсии, среднеквадратичного отклонения, асимметрии, эксцесса и коэффициента вариации). Для системы двух случайных величин\n",
        "X\n",
        " (первый признак) и\n",
        "Y\n",
        " (второй признак) сформировать двумерную выборку и найти статистическую оценку коэффициента корреляции, построить доверительный интервал для коэффициента корреляции и осуществить проверку статистической гипотезы о равенстве коэффициента корреляции нулю. Полученные результаты содержательно проинтерпретировать."
      ],
      "metadata": {
        "id": "0QsQ63r_KsNH"
      }
    },
    {
      "cell_type": "markdown",
      "source": [
        "Инициализация выборки"
      ],
      "metadata": {
        "id": "Doan_iDtsq78"
      }
    },
    {
      "cell_type": "code",
      "execution_count": 1,
      "metadata": {
        "colab": {
          "base_uri": "https://localhost:8080/",
          "height": 447
        },
        "id": "DN7j6WGYqLlV",
        "outputId": "9b426338-c8d4-4429-e532-c3f046e2a934"
      },
      "outputs": [
        {
          "output_type": "execute_result",
          "data": {
            "text/plain": [
              "<matplotlib.collections.PathCollection at 0x7dbc84341060>"
            ]
          },
          "metadata": {},
          "execution_count": 1
        },
        {
          "output_type": "display_data",
          "data": {
            "text/plain": [
              "<Figure size 640x480 with 1 Axes>"
            ],
            "image/png": "[encoded data removed]"
          },
          "metadata": {}
        }
      ],
      "source": [
        "import matplotlib.pyplot as plt\n",
        "\n",
        "\n",
        "data = {'A': [ 480, 510, 426, 482, 393, 510, 542, 437, 453, 386, 434, 418, 391, 399, 486, 421, 496, 463, 508, 419, 434, 440, 405, 434, 344,\n",
        "              415, 463,475,463,392,452,504,443,461,340,438,523,416,483,440,423,386,321,433,351,481,465,390,463,468,488,443,505,395,474,490,\n",
        "               396,362,566,418,502,500,359,443,421,433,514,320,406,465,487,532,330,458,408,480,573,518,394,440,443,452,521,471,398,446,400,\n",
        "               457,407,505,390,557,591,450, 546, 454, 553, 544, 463, 411],\n",
        "        'B': [153.3,129.4,119,139.9,103.2,162.3,146.1,124.3,119.5,105.8,122.3,118.4,107.5,100,139.4,124.2,143.1,121.2,159,105.3,108.7,126.7,\n",
        "              103.6,140.4,86.8,119.7,136.7,143.6,144.9,82.7,140.5,143.8,122.9,138.6,85.1,134.9,148.7,120.5,143.4,128.5,131.1,95.5,86.1,131.5,\n",
        "              89,148.3,127.7,108.1,129.2,128.9,134.1,137.4,155.8,109.1,132.5,139.9,90.1,97.9,175.7,109.3,132.5,155.5,71.9,135.7,118,128.2,174.6,\n",
        "              72.6,113.8,140.9,146,158.7,71.1,121.7,117,153.9,156.5,144.4,112.1,105.7,121.9,131,154.9,143.9,109,144,114.6,126.4,118,137.5,91.4,\n",
        "              151.9,156.9,122.3,177,131.1,159.1,166.7,129.1,115.2]}\n",
        "\n",
        "N = 100 # Размер выборки\n",
        "plt.scatter(data[\"A\"], data[\"B\"], c =\"red\")"
      ]
    },
    {
      "cell_type": "markdown",
      "source": [
        "1. Провести статистическую обработку второй выборки в объеме практических работ №1 и №2, с целью определения точечных статистических оценок параметров распределения исследуемого признака (математического ожидания, дисперсии, среднеквадратичного отклонения, асимметрии, эксцесса, моды, медианы и коэффициента вариации). Оформить результаты в виде таблицы, сделать выводы."
      ],
      "metadata": {
        "id": "4CLxegjmqUYe"
      }
    },
    {
      "cell_type": "markdown",
      "source": [
        "Ранжированный ряд"
      ],
      "metadata": {
        "id": "SVSG51ZYz3Sr"
      }
    },
    {
      "cell_type": "code",
      "source": [
        "print(*sorted(data[\"B\"]))"
      ],
      "metadata": {
        "colab": {
          "base_uri": "https://localhost:8080/"
        },
        "id": "MZvgs5blz2Ty",
        "outputId": "8bd9aef0-0be3-4eef-b6b1-9440de2c5387"
      },
      "execution_count": 2,
      "outputs": [
        {
          "output_type": "stream",
          "name": "stdout",
          "text": [
            "71.1 71.9 72.6 82.7 85.1 86.1 86.8 89 90.1 91.4 95.5 97.9 100 103.2 103.6 105.3 105.7 105.8 107.5 108.1 108.7 109 109.1 109.3 112.1 113.8 114.6 115.2 117 118 118 118.4 119 119.5 119.7 120.5 121.2 121.7 121.9 122.3 122.3 122.9 124.2 124.3 126.4 126.7 127.7 128.2 128.5 128.9 129.1 129.2 129.4 131 131.1 131.1 131.5 132.5 132.5 134.1 134.9 135.7 136.7 137.4 137.5 138.6 139.4 139.9 139.9 140.4 140.5 140.9 143.1 143.4 143.6 143.8 143.9 144 144.4 144.9 146 146.1 148.3 148.7 151.9 153.3 153.9 154.9 155.5 155.8 156.5 156.9 158.7 159 159.1 162.3 166.7 174.6 175.7 177\n"
          ]
        }
      ]
    },
    {
      "cell_type": "markdown",
      "source": [
        "Вариационный ряд"
      ],
      "metadata": {
        "id": "lIfC4Qv2z_hp"
      }
    },
    {
      "cell_type": "code",
      "source": [
        "from collections import Counter\n",
        "variational_series_counter = Counter(data[\"B\"])\n",
        "\n",
        "for item in sorted(variational_series_counter):\n",
        "  print(item, end='\\t')\n",
        "print()\n",
        "for item in sorted(variational_series_counter):\n",
        "  print(variational_series_counter[item], end='\\t')"
      ],
      "metadata": {
        "colab": {
          "base_uri": "https://localhost:8080/"
        },
        "id": "Vi0vNZMs0Jvt",
        "outputId": "9c08e368-52b9-4c37-d44f-7f81a7e4fedd"
      },
      "execution_count": 3,
      "outputs": [
        {
          "output_type": "stream",
          "name": "stdout",
          "text": [
            "71.1\t71.9\t72.6\t82.7\t85.1\t86.1\t86.8\t89\t90.1\t91.4\t95.5\t97.9\t100\t103.2\t103.6\t105.3\t105.7\t105.8\t107.5\t108.1\t108.7\t109\t109.1\t109.3\t112.1\t113.8\t114.6\t115.2\t117\t118\t118.4\t119\t119.5\t119.7\t120.5\t121.2\t121.7\t121.9\t122.3\t122.9\t124.2\t124.3\t126.4\t126.7\t127.7\t128.2\t128.5\t128.9\t129.1\t129.2\t129.4\t131\t131.1\t131.5\t132.5\t134.1\t134.9\t135.7\t136.7\t137.4\t137.5\t138.6\t139.4\t139.9\t140.4\t140.5\t140.9\t143.1\t143.4\t143.6\t143.8\t143.9\t144\t144.4\t144.9\t146\t146.1\t148.3\t148.7\t151.9\t153.3\t153.9\t154.9\t155.5\t155.8\t156.5\t156.9\t158.7\t159\t159.1\t162.3\t166.7\t174.6\t175.7\t177\t\n",
            "1\t1\t1\t1\t1\t1\t1\t1\t1\t1\t1\t1\t1\t1\t1\t1\t1\t1\t1\t1\t1\t1\t1\t1\t1\t1\t1\t1\t1\t2\t1\t1\t1\t1\t1\t1\t1\t1\t2\t1\t1\t1\t1\t1\t1\t1\t1\t1\t1\t1\t1\t1\t2\t1\t2\t1\t1\t1\t1\t1\t1\t1\t1\t2\t1\t1\t1\t1\t1\t1\t1\t1\t1\t1\t1\t1\t1\t1\t1\t1\t1\t1\t1\t1\t1\t1\t1\t1\t1\t1\t1\t1\t1\t1\t1\t"
          ]
        }
      ]
    },
    {
      "cell_type": "markdown",
      "source": [
        "В выборке достаточно мало повторяющихся значений."
      ],
      "metadata": {
        "id": "BbXZdHhdj-Gb"
      }
    },
    {
      "cell_type": "markdown",
      "source": [
        "Интервальный ряд"
      ],
      "metadata": {
        "id": "YKNYYQxF1sJu"
      }
    },
    {
      "cell_type": "code",
      "source": [
        "import math\n",
        "intervals_number = int(1 + 3.322 * math.log10(N))\n",
        "min_density, max_density = min(data[\"B\"]), max(data[\"B\"])\n",
        "range_density = max_density - min_density\n",
        "print(\"Используя формулу Стерджеса оптимальное количество интервалов для разбиения выборки: \", intervals_number)\n",
        "print(\"Минимальное значение ряда: \", min_density)\n",
        "print(\"Максимальное значение ряда:\", max_density)\n",
        "print(\"Размах выборки\", range_density)\n"
      ],
      "metadata": {
        "colab": {
          "base_uri": "https://localhost:8080/"
        },
        "id": "P-ZRaIYH1jFm",
        "outputId": "88b6edc0-ef56-41a4-a270-6acf4d6e7c93"
      },
      "execution_count": 4,
      "outputs": [
        {
          "output_type": "stream",
          "name": "stdout",
          "text": [
            "Используя формулу Стерджеса оптимальное количество интервалов для разбиения выборки:  7\n",
            "Минимальное значение ряда:  71.1\n",
            "Максимальное значение ряда: 177\n",
            "Размах выборки 105.9\n"
          ]
        }
      ]
    },
    {
      "cell_type": "code",
      "source": [
        "isInInterval = lambda x: min(int((abs(x) - min_density) / range_density * intervals_number), intervals_number - 1)\n",
        "borders = [((min_density + range_density) / intervals_number * i, (min_density + range_density) / intervals_number * (i + 1))\n",
        "           for i in range(intervals_number)]\n",
        "intervals = [[] for i in range(intervals_number)]\n",
        "\n",
        "for value in data[\"B\"]:\n",
        "    intervals[isInInterval(value)].append(value)\n",
        "\n",
        "intervals = [sorted(i) for i in intervals]\n",
        "\n",
        "print(\"i |       Интервал      | Середина интервала | Абс. частота | Отн. частота | Накоп. абс. частота | Накоп. отн. частота |\")\n",
        "for i, interval in enumerate(intervals):\n",
        "    print(f\"{i + 1} | [{interval[0]:.3f} - {interval[-1]:.3f}) |\", end=\" \")\n",
        "    print(f\"{((intervals[i][0] + intervals[i][-1]) / 2):^18.2f} |\", end=\" \")\n",
        "    print(f\"{len(intervals[i]):^13.3f}| {len(intervals[i]) / N:^13.3f}|\", end=\" \")\n",
        "    print(f\"{sum([len(k) for k in intervals[:i + 1]]):^20.3f}|\", end=\" \")\n",
        "    print(f\"{sum([len(k) for k in intervals[:i + 1]]) / N:^20.3f}|\")"
      ],
      "metadata": {
        "colab": {
          "base_uri": "https://localhost:8080/"
        },
        "id": "Hc019bmR3ssy",
        "outputId": "66a8503a-1cba-4ec2-e0da-c1ef9d9667e1"
      },
      "execution_count": 5,
      "outputs": [
        {
          "output_type": "stream",
          "name": "stdout",
          "text": [
            "i |       Интервал      | Середина интервала | Абс. частота | Отн. частота | Накоп. абс. частота | Накоп. отн. частота |\n",
            "1 | [71.100 - 86.100) |       78.60        |     6.000    |     0.060    |        6.000        |        0.060        |\n",
            "2 | [86.800 - 100.000) |       93.40        |     7.000    |     0.070    |        13.000       |        0.130        |\n",
            "3 | [103.200 - 115.200) |       109.20       |    15.000    |     0.150    |        28.000       |        0.280        |\n",
            "4 | [117.000 - 131.500) |       124.25       |    29.000    |     0.290    |        57.000       |        0.570        |\n",
            "5 | [132.500 - 146.100) |       139.30       |    25.000    |     0.250    |        82.000       |        0.820        |\n",
            "6 | [148.300 - 159.100) |       153.70       |    13.000    |     0.130    |        95.000       |        0.950        |\n",
            "7 | [162.300 - 177.000) |       169.65       |     5.000    |     0.050    |       100.000       |        1.000        |\n"
          ]
        }
      ]
    },
    {
      "cell_type": "code",
      "source": [
        "from collections import Counter\n",
        "\n",
        "s = 0\n",
        "counter = Counter(data[\"B\"])\n",
        "for i in counter:\n",
        "  s += counter[i] / N * i\n",
        "\n",
        "print(\"Выборочное среднее\")\n",
        "print(\"Стандартная формула:\", s)"
      ],
      "metadata": {
        "colab": {
          "base_uri": "https://localhost:8080/"
        },
        "id": "4hWUo4Onu2JK",
        "outputId": "8467e344-cf32-41d0-b799-cadd9cd41b97"
      },
      "execution_count": 6,
      "outputs": [
        {
          "output_type": "stream",
          "name": "stdout",
          "text": [
            "Выборочное среднее\n",
            "Стандартная формула: 127.33799999999998\n"
          ]
        }
      ]
    },
    {
      "cell_type": "code",
      "source": [
        "dis = 0\n",
        "for i in data[\"B\"]:\n",
        "  dis += (i - s) ** 2\n",
        "dis /= N\n",
        "print(\"Выборочную дисперсия\", dis)\n",
        "print(\"Исправленная оценка дисперсии\", N / (N - 1) * dis)\n",
        "print(\"Статистическая оценка СКО\", math.sqrt(N / (N - 1) * dis))"
      ],
      "metadata": {
        "colab": {
          "base_uri": "https://localhost:8080/"
        },
        "id": "eDdcjcWju8an",
        "outputId": "0d4aceeb-8f57-4227-8606-14c27ffd0e34"
      },
      "execution_count": 7,
      "outputs": [
        {
          "output_type": "stream",
          "name": "stdout",
          "text": [
            "Выборочную дисперсия 536.8319559999999\n",
            "Исправленная оценка дисперсии 542.254501010101\n",
            "Статистическая оценка СКО 23.286358689372218\n"
          ]
        }
      ]
    },
    {
      "cell_type": "code",
      "source": [
        "from scipy.stats import skew, kurtosis\n",
        "\n",
        "print(\"Асимметрия\", skew(data[\"B\"], bias=False))\n",
        "print(\"Эксцесс\", kurtosis(data[\"B\"], bias=False))\n"
      ],
      "metadata": {
        "colab": {
          "base_uri": "https://localhost:8080/"
        },
        "id": "JtQxUizevJgK",
        "outputId": "b7cf8a8e-f03b-4336-a7de-6fdaa5ba0380"
      },
      "execution_count": 8,
      "outputs": [
        {
          "output_type": "stream",
          "name": "stdout",
          "text": [
            "Асимметрия -0.2978876069511515\n",
            "Эксцесс -0.1337094506701808\n"
          ]
        }
      ]
    },
    {
      "cell_type": "markdown",
      "source": [
        "По частоте встречающихся чисел в интервалах можно предварительно сказать, что выборка имеет нормальное распределение."
      ],
      "metadata": {
        "id": "atIlwF3_kE1J"
      }
    },
    {
      "cell_type": "markdown",
      "source": [
        "Модальный интервал [117.000 - 131.500) - номер 4, т.к. ему соответствует наибольшая частота. Тогда\n",
        "\n",
        "$X_{M_0} = 117$\n",
        "\n",
        "$f_{M_0} = 29$\n",
        "\n",
        "$h_{M_0} = 14.5$\n",
        "\n",
        "$f_{M_{0-1}} = 15$\n",
        "\n",
        "$f_{M_{0+1}} = 25$\n",
        "\n",
        "$M_0 = 117 + 14.5 * \\frac{29 - 15}{(29 - 15) + (29-25)} = 128.28$\n",
        "\n",
        "Мода вариационного ряда равна 128.28, следовательно большинство чисел имеет значение, близкое к 128.28."
      ],
      "metadata": {
        "id": "njfOkHqn8aw6"
      }
    },
    {
      "cell_type": "markdown",
      "source": [
        "Четвертый интервал имеет накопленную абсолютную частоту более 50, следовательно является медианным интервалом, тогда:\n",
        "\n",
        "$X_{M_e} = 117$\n",
        "\n",
        "$f_{M_e} = 29$\n",
        "\n",
        "$h_{M_e} = 14.5$\n",
        "\n",
        "$S_{M_{e-1}} = 28$\n",
        "\n",
        "$M_e = 117 + 14.5 * \\frac{50 - 28}{29} = 128$\n",
        "\n",
        "128 - медиана вариацинного ряда. Половина чисел принимает значение меньшее, чем 128, а половина большее."
      ],
      "metadata": {
        "id": "jxpyZ4usBD4p"
      }
    },
    {
      "cell_type": "code",
      "source": [
        "print(math.sqrt(N / (N - 1) * dis) / s * 100)"
      ],
      "metadata": {
        "colab": {
          "base_uri": "https://localhost:8080/"
        },
        "id": "nNyTnazO3Uhr",
        "outputId": "9470fd00-f8e0-417b-c0be-3c211914e289"
      },
      "execution_count": 9,
      "outputs": [
        {
          "output_type": "stream",
          "name": "stdout",
          "text": [
            "18.28704604232218\n"
          ]
        }
      ]
    },
    {
      "cell_type": "markdown",
      "source": [
        "Точечные оценки для выборки data[\"A\"] были вычислены в практических работах 2, 3. <br>\n",
        "Точечные оценки для выборки data[\"B\"] были вычислены выше."
      ],
      "metadata": {
        "id": "6RazZY5F873z"
      }
    },
    {
      "cell_type": "markdown",
      "source": [
        "\\begin{array}{ccc}\n",
        "Точечная\\ оценка&data[\"A\"]&data[\"B\"]\\\\\n",
        "Мат. ожидание\\ \\overline X&449.79&127.34\\\\\n",
        "Дисперсия\\ D&3229.24&536.83\\\\\n",
        "СКО\\ \\sigma&57.11&23.29\\\\\n",
        "Асимметрия&0.09&-0.30\\\\\n",
        "Эксцесс&-0.38&-0.13\\\\\n",
        "Мода&451.80&128.28\\\\\n",
        "Медиана&450.21&128\\\\\n",
        "Коэффициент\\ вариации&12.70&18.29\\\\\n",
        "\\end{array}"
      ],
      "metadata": {
        "id": "SwvhrcBv3_JD"
      }
    },
    {
      "cell_type": "markdown",
      "source": [
        "На данном этапе можно заподозрить наличие какой-то корреляционной зависимости, но для более определенных выводов необходим более глубокий анализ."
      ],
      "metadata": {
        "id": "IPy1uaIEL9I2"
      }
    },
    {
      "cell_type": "markdown",
      "source": [
        "2. Построить двумерный интервальный вариационный ряд, оформить в виде таблицы."
      ],
      "metadata": {
        "id": "Z-aETD9FqW4K"
      }
    },
    {
      "cell_type": "code",
      "source": [
        "import math\n",
        "intervals_numberA = int(1 + 3.322 * math.log10(N))\n",
        "min_densityA, max_densityA = min(data[\"A\"]), max(data[\"A\"])\n",
        "range_densityA = max_densityA - min_densityA\n",
        "\n",
        "intervals_numberB = int(1 + 3.322 * math.log10(N))\n",
        "min_densityB, max_densityB = min(data[\"B\"]), max(data[\"B\"])\n",
        "range_densityB = max_densityB - min_densityB"
      ],
      "metadata": {
        "id": "fGsGNc6t_sH0"
      },
      "execution_count": 10,
      "outputs": []
    },
    {
      "cell_type": "code",
      "source": [
        "isInIntervalA = lambda x: min(int((abs(x) - min_densityA) / range_densityA * intervals_numberA), intervals_numberA - 1)\n",
        "bordersA = [((min_densityA + range_densityA) / intervals_numberA * i, (min_densityA + range_densityA) / intervals_numberA * (i + 1))\n",
        "           for i in range(intervals_numberA)]\n",
        "intervalsA = [[] for i in range(intervals_numberA)]\n",
        "\n",
        "for value in data[\"A\"]:\n",
        "    intervalsA[isInIntervalA(value)].append(value)\n",
        "\n",
        "intervalsA = [sorted(i) for i in intervalsA]\n",
        "print(\"Количество интервалов A:\", len(intervalsA))\n",
        "print(intervalsA)\n",
        "\n",
        "isInIntervalB = lambda x: min(int((abs(x) - min_densityB) / range_densityB * intervals_numberB), intervals_numberB - 1)\n",
        "bordersB = [((min_densityB + range_densityB) / intervals_numberB * i, (min_densityB + range_densityB) / intervals_numberB * (i + 1))\n",
        "           for i in range(intervals_numberB)]\n",
        "intervalsB = [[] for i in range(intervals_numberB)]\n",
        "\n",
        "for value in data[\"B\"]:\n",
        "    intervalsB[isInIntervalB(value)].append(value)\n",
        "\n",
        "intervalsB = [sorted(i) for i in intervalsB]\n",
        "print(\"Количество интервалов B:\", len(intervalsB))\n",
        "print(intervalsB)"
      ],
      "metadata": {
        "colab": {
          "base_uri": "https://localhost:8080/"
        },
        "id": "QImGswTa_9nw",
        "outputId": "e6b58ea0-cba2-4aa3-b68b-f3c3f49c8397"
      },
      "execution_count": 11,
      "outputs": [
        {
          "output_type": "stream",
          "name": "stdout",
          "text": [
            "Количество интервалов A: 7\n",
            "[[320, 321, 330, 340, 344, 351], [359, 362, 386, 386, 390, 390, 391, 392, 393, 394, 395, 396], [398, 399, 400, 405, 406, 407, 408, 411, 415, 416, 418, 418, 419, 421, 421, 423, 426, 433, 433, 434, 434, 434], [437, 438, 440, 440, 440, 443, 443, 443, 443, 446, 450, 452, 452, 453, 454, 457, 458, 461, 463, 463, 463, 463, 463, 465, 465, 468, 471, 474], [475, 480, 480, 481, 482, 483, 486, 487, 488, 490, 496, 500, 502, 504, 505, 505, 508, 510, 510], [514, 518, 521, 523, 532, 542, 544, 546], [553, 557, 566, 573, 591]]\n",
            "Количество интервалов B: 7\n",
            "[[71.1, 71.9, 72.6, 82.7, 85.1, 86.1], [86.8, 89, 90.1, 91.4, 95.5, 97.9, 100], [103.2, 103.6, 105.3, 105.7, 105.8, 107.5, 108.1, 108.7, 109, 109.1, 109.3, 112.1, 113.8, 114.6, 115.2], [117, 118, 118, 118.4, 119, 119.5, 119.7, 120.5, 121.2, 121.7, 121.9, 122.3, 122.3, 122.9, 124.2, 124.3, 126.4, 126.7, 127.7, 128.2, 128.5, 128.9, 129.1, 129.2, 129.4, 131, 131.1, 131.1, 131.5], [132.5, 132.5, 134.1, 134.9, 135.7, 136.7, 137.4, 137.5, 138.6, 139.4, 139.9, 139.9, 140.4, 140.5, 140.9, 143.1, 143.4, 143.6, 143.8, 143.9, 144, 144.4, 144.9, 146, 146.1], [148.3, 148.7, 151.9, 153.3, 153.9, 154.9, 155.5, 155.8, 156.5, 156.9, 158.7, 159, 159.1], [162.3, 166.7, 174.6, 175.7, 177]]\n"
          ]
        }
      ]
    },
    {
      "cell_type": "code",
      "source": [
        "import numpy as np\n",
        "two_demension_interval = np.zeros((len(intervalsA), len(intervalsB)))\n",
        "\n",
        "for i in range(N):\n",
        "  for interval in range(len(intervalsA)):\n",
        "    if data[\"A\"][i] in intervalsA[interval]:\n",
        "      intervalA = interval\n",
        "      break\n",
        "  for interval in range(len(intervalsB)):\n",
        "    if data[\"B\"][i] in intervalsB[interval]:\n",
        "      intervalB = interval\n",
        "      break\n",
        "  two_demension_interval[intervalA][intervalB] += 1\n",
        "print(\" \" * 16, end='')\n",
        "for i in intervalsA:\n",
        "  print(f\"[{i[0]:^3} - {i[-1]:^3}) |\", end=' ')\n",
        "print()\n",
        "for i in range (len(two_demension_interval)):\n",
        "  print(f\"[{intervalsB[i][0]:^5}, {intervalsB[i][-1]:^5})|\", end='')\n",
        "  for j in two_demension_interval[i]:\n",
        "    print(f\"{j:^14}\", end='')\n",
        "  print()"
      ],
      "metadata": {
        "colab": {
          "base_uri": "https://localhost:8080/"
        },
        "id": "yuJwE3BCGim7",
        "outputId": "5e14f0e1-2bcf-43f8-b8ca-441017f05367"
      },
      "execution_count": 12,
      "outputs": [
        {
          "output_type": "stream",
          "name": "stdout",
          "text": [
            "                [320 - 351) | [359 - 396) | [398 - 434) | [437 - 474) | [475 - 510) | [514 - 546) | [553 - 591) | \n",
            "[71.1 , 86.1 )|     4.0           2.0           0.0           0.0           0.0           0.0           0.0      \n",
            "[86.8 ,  100 )|     2.0           4.0           6.0           0.0           0.0           0.0           0.0      \n",
            "[103.2, 115.2)|     0.0           1.0           8.0           12.0          1.0           0.0           0.0      \n",
            "[ 117 , 131.5)|     0.0           0.0           1.0           16.0          11.0          0.0           0.0      \n",
            "[132.5, 146.1)|     0.0           0.0           0.0           1.0           11.0          6.0           1.0      \n",
            "[148.3, 159.1)|     0.0           0.0           0.0           0.0           2.0           3.0           3.0      \n",
            "[162.3,  177 )|     0.0           0.0           0.0           0.0           0.0           4.0           1.0      \n"
          ]
        }
      ]
    },
    {
      "cell_type": "markdown",
      "source": [
        "3. По полученному двумерному интервальному вариационному ряду построить корреляционную таблицу, сделать выводы."
      ],
      "metadata": {
        "id": "xm40yPvXqZ2O"
      }
    },
    {
      "cell_type": "code",
      "source": [
        "import numpy as np\n",
        "two_demension_interval = np.zeros((len(intervalsA), len(intervalsB)))\n",
        "\n",
        "for i in range(N):\n",
        "  for interval in range(len(intervalsA)):\n",
        "    if data[\"A\"][i] in intervalsA[interval]:\n",
        "      intervalA = interval\n",
        "      break\n",
        "  for interval in range(len(intervalsB)):\n",
        "    if data[\"B\"][i] in intervalsB[interval]:\n",
        "      intervalB = interval\n",
        "      break\n",
        "  two_demension_interval[intervalA][intervalB] += 1\n",
        "print(\" \" * 8, end='')\n",
        "for i in intervalsA:\n",
        "  print(f\" {(i[0] + i[-1]) / 2} |\", end=' ')\n",
        "print(\"N_dataB\")\n",
        "for i in range (len(two_demension_interval)):\n",
        "  print(f\"{((intervalsB[i][0] + intervalsB[i][-1]) / 2):^7}\", end='')\n",
        "  for j in two_demension_interval[i]:\n",
        "    print(f\"{int(j):^9}\", end='')\n",
        "  print(f\"{int(sum(two_demension_interval[i])):^9}\")\n",
        "print(\"N_dataA\", end=\" \")\n",
        "two_demension_interval = two_demension_interval.transpose()\n",
        "for i in two_demension_interval:\n",
        "  print(f\"{int(sum(i)):^8}\", end=' ')\n",
        "s = 0\n",
        "for i in two_demension_interval:\n",
        "  s += sum(i)\n",
        "print(\" N=\", int(s), sep='')"
      ],
      "metadata": {
        "colab": {
          "base_uri": "https://localhost:8080/"
        },
        "id": "WwpOBi11YEIn",
        "outputId": "d9792f4f-4f1c-496c-c1db-e750426f305d"
      },
      "execution_count": 13,
      "outputs": [
        {
          "output_type": "stream",
          "name": "stdout",
          "text": [
            "         335.5 |  377.5 |  416.0 |  455.5 |  492.5 |  530.0 |  572.0 | N_dataB\n",
            " 78.6      4        2        0        0        0        0        0        6    \n",
            " 93.4      2        4        6        0        0        0        0       12    \n",
            " 109.2     0        1        8       12        1        0        0       22    \n",
            "124.25     0        0        1       16       11        0        0       28    \n",
            " 139.3     0        0        0        1       11        6        1       19    \n",
            " 153.7     0        0        0        0        2        3        3        8    \n",
            "169.65     0        0        0        0        0        4        1        5    \n",
            "N_dataA    6        7        15       29       25       13       5      N=100\n"
          ]
        }
      ]
    },
    {
      "cell_type": "markdown",
      "source": [
        "Поскольку итоговое значение, полученное на пересечении строки N_dataA и столбца N_dataB, равно общему объему выборки, можно заключить, что таблица составлена правильно. Кроме того, уже на этом этапе можно заметить скопление значений на главной диагонали таблицы, чт"
      ],
      "metadata": {
        "id": "VMUz_iiwMOhX"
      }
    },
    {
      "cell_type": "markdown",
      "source": [
        "4. Исходя из результатов корреляционной таблицы вычислить значение выборочного коэффициента корреляции двумя способами: с помощью стандартной формулы и с помощью условных вариант. Убедиться, что результаты совпадают. Сделать выводы."
      ],
      "metadata": {
        "id": "A6F9iSOBqbu8"
      }
    },
    {
      "cell_type": "code",
      "source": [
        "XY = 0\n",
        "for i in range(N):\n",
        "  XY += data[\"A\"][i] * data[\"B\"][i]\n",
        "XY /= N\n",
        "X = 449.79\n",
        "Y = 127.34\n",
        "skoX = 57.11\n",
        "skoY = 23.29\n",
        "\n",
        "print(\"Значение выборочного коэффициента корреляции с помощью стандартной формулы\")\n",
        "r = (XY - X * Y) / (skoX * skoY)\n",
        "print(r)"
      ],
      "metadata": {
        "colab": {
          "base_uri": "https://localhost:8080/"
        },
        "id": "-uDJdKwKiMTS",
        "outputId": "c127a5a9-70f0-4190-cd63-13019029a464"
      },
      "execution_count": 14,
      "outputs": [
        {
          "output_type": "stream",
          "name": "stdout",
          "text": [
            "Значение выборочного коэффициента корреляции с помощью стандартной формулы\n",
            "0.898850974131944\n"
          ]
        }
      ]
    },
    {
      "cell_type": "markdown",
      "source": [
        "Далее подобным образом была вычислена оценка с использованием условных вариант:\n",
        "$$\\overline{r}_{xy} = 0.8$$\n"
      ],
      "metadata": {
        "id": "mm7Sjn0u-msE"
      }
    },
    {
      "cell_type": "markdown",
      "source": [
        "Результаты вычислений совпали. Значение оценки коэффициента положительно и близко к 1, поэтому можно говорить о положительной и\n",
        "высокой силе связи."
      ],
      "metadata": {
        "id": "Vt2XsbCV_UT2"
      }
    },
    {
      "cell_type": "markdown",
      "source": [
        "5. Построить доверительный интервал для коэффициента корреляции при уровне значимости γ∈{0.95,0.99}, сделать выводы."
      ],
      "metadata": {
        "id": "NWGawTXpqd2y"
      }
    },
    {
      "cell_type": "code",
      "source": [
        "z = 0.5 * math.log((1 + r) / (1 - r))\n",
        "print(z)\n",
        "\n",
        "sigma = 1 / math.sqrt(N - 3)\n",
        "print(sigma)\n",
        "\n",
        "for gamma, lambd in [[0.95, 1.99], [0.99, 2.63]]:\n",
        "  print(\"gamma равна\", gamma)\n",
        "  lower_border = z - lambd * sigma\n",
        "  upper_border = z + lambd * sigma\n",
        "  print(\"Z принадлежит интервалу от\", lower_border, \"до\", upper_border)\n",
        "  lower_border = (math.e ** (2 * lower_border) - 1) / (math.e ** (2 * lower_border) + 1)\n",
        "  upper_border = (math.e ** (2 * upper_border) - 1) / (math.e ** (2 * upper_border) + 1)\n",
        "  print(\"r принадлежит интервалу от\", lower_border, \"до\", upper_border)"
      ],
      "metadata": {
        "id": "1GljVsENrTsw",
        "colab": {
          "base_uri": "https://localhost:8080/"
        },
        "outputId": "31635574-0d81-4ceb-e5f6-a081f78ec1eb"
      },
      "execution_count": 16,
      "outputs": [
        {
          "output_type": "stream",
          "name": "stdout",
          "text": [
            "1.4662046493814374\n",
            "0.10153461651336192\n",
            "gamma равна 0.95\n",
            "Z принадлежит интервалу от 1.2641507625198471 до 1.6682585362430276\n",
            "r принадлежит интервалу от 0.8522043982020957 до 0.9313210692655591\n",
            "gamma равна 0.99\n",
            "Z принадлежит интервалу от 1.1991686079512955 до 1.7332406908115792\n",
            "r принадлежит интервалу от 0.8334008399867266 до 0.9394377354843872\n"
          ]
        }
      ]
    },
    {
      "cell_type": "markdown",
      "source": [
        "Таким образом, для искомые доверительные интервалы примут следующий вид.\n",
        "\n",
        "При γ = 0. 95: 𝑟 ∈ (0.8522043982020957; 0.9313210692655591)\n",
        "\n",
        "И при γ = 0. 99: 𝑟 ∈ (0.8334008399867266; 0.9394377354843872)"
      ],
      "metadata": {
        "id": "Nr7UZgGUNa3j"
      }
    },
    {
      "cell_type": "markdown",
      "source": [
        "С увеличением доверительной вероятности интервал также расширяется. Кроме того, доверительные интервалы показывают, что значение коэффициента корреляции довольно велико.\n"
      ],
      "metadata": {
        "id": "Ji84X61wOPb0"
      }
    },
    {
      "cell_type": "markdown",
      "source": [
        "6. Осуществить проверку статистической гипотезы о равенстве коэффициента корреляции нулю при заданном уровне значимости α=0.05, сделать выводы."
      ],
      "metadata": {
        "id": "hEotBoiAqheS"
      }
    },
    {
      "cell_type": "markdown",
      "source": [
        "Были сформулированы следующие гипотезы:\n",
        "$$H_0:r_{xy} = 0$$\n",
        "$$H_0:r_{xy} \\neq 0$$"
      ],
      "metadata": {
        "id": "k7mIAYROOZ-5"
      }
    },
    {
      "cell_type": "markdown",
      "source": [
        "Далее осуществляется проверка нулевой гипотезы. Для этого было вычислено наблюдаемое значение:\n"
      ],
      "metadata": {
        "id": "yQ5DPE38OyGK"
      }
    },
    {
      "cell_type": "code",
      "source": [
        "print(r * math.sqrt(N - 2) / math.sqrt(1 - r ** 2))"
      ],
      "metadata": {
        "colab": {
          "base_uri": "https://localhost:8080/"
        },
        "id": "imax1apWBeTB",
        "outputId": "9656e9ff-c868-4967-c026-43f9f449b3fb"
      },
      "execution_count": 17,
      "outputs": [
        {
          "output_type": "stream",
          "name": "stdout",
          "text": [
            "20.30366495078185\n"
          ]
        }
      ]
    },
    {
      "cell_type": "markdown",
      "source": [
        "При справедливости нулевой гипотезы случайная величина T распределена по закону Стьюдента со степенями свобод 𝑑𝑓 = 𝑁 − 2 = 98. Критическая область в данном случае двусторонняя. Таким образом, область доверия находится в интервале (− 1. 98; 1. 98).\n",
        "Значение $$Т_{набл} = 20. 3$$ не попадает в область доверия и превышает  $$𝑇_{крит} = 1.98$$  поэтому нулевая гипотеза отвергается. А это говорит о том, что коэффициент корреляции значимо отличается от нуля, а следовательно\n",
        "можно говорить о наличии корреляционной связи с уровнем значимости α = 0. 05.\n"
      ],
      "metadata": {
        "id": "ibiL7UHnPnF3"
      }
    },
    {
      "cell_type": "markdown",
      "source": [
        "##Выводы\n",
        "В ходе выполнения практической работы была проведена статистическая обработка второй выборки с целью вычисления точечных статичтических оценок параметров распределения исследуемого признака. В результате можно было предположить, что некоторая корреляционная зависимость возможна. Далее был создан двумерный интервальный вариационный ряд и на его основе составлена корреляционная таблица, с использованием которой была рассчитана оценка коэффициента корреляции Пирсона. Кроме того были вычислены доверительные интервалы для данного коэффициента и проверена гипотеза. Результаты показали, что коэффициент корреляции достоверно отличается от нуля, подтверждая наличие линейной связи между выборками."
      ],
      "metadata": {
        "id": "l6wVls0sRF1c"
      }
    }
  ]
}