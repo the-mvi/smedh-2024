{
  "nbformat": 4,
  "nbformat_minor": 0,
  "metadata": {
    "colab": {
      "provenance": []
    },
    "kernelspec": {
      "name": "python3",
      "display_name": "Python 3"
    },
    "language_info": {
      "name": "python"
    }
  },
  "cells": [
    {
      "cell_type": "markdown",
      "source": [
        "# Практическая работа №3: Обработка выборочных данных. Нахождение интервальных оценок параметров распределения. Проверка статистической гипотезы о нормальном распределении.\n",
        "Выполнили студенты гр. 0381 Котов Дмитрий и Михайлов Виктор. Вариант №8"
      ],
      "metadata": {
        "id": "n9h20UL26PPY"
      }
    },
    {
      "cell_type": "markdown",
      "source": [
        "## Цель работы\n",
        "\n",
        "Получение практических навыков вычисления интервальных статистических оценок параметров распределения выборочных данных и проверки «справедливости» статистических гипотез."
      ],
      "metadata": {
        "id": "jEYl-wwe6gJa"
      }
    },
    {
      "cell_type": "markdown",
      "source": [
        "## Основные теоретические положения\n",
        "\n",
        "Доверительным называют интервал, который с заданной надежностью 𝛾 покрывает заданный параметр.\n",
        "\n",
        "Интервальной оценкой математического ожидания при неизвестном среднем квадратическом отклонении 𝜎 генеральной совокупности служит доверительный интервал:\n",
        "\n",
        "$\\bar{x_в} - \\frac{s}{\\sqrt{n}}t_\\gamma \\leqslant \\alpha \\leqslant \\bar{x_в} + \\frac{s}{\\sqrt{n}}t_\\gamma$\n",
        "\n",
        "$\\bar{x_в}$ – статистическая оценка математического ожидания\n",
        "\n",
        "$s$ – исправленное СКВО\n",
        "\n",
        "$n$ – объём выборки\n",
        "\n",
        "$t_\\gamma$ – из таблицы\n",
        "\n",
        "Доверительный интервал для оценки СКВО:\n",
        "\n",
        "$s(1-q)\\leqslant \\sigma \\leqslant s(1+q)$\n",
        "\n",
        "$s$ – исправленное СКВО\n",
        "\n",
        "$q$ – из таблицы\n",
        "\n",
        "Критерий Пирсона, или критерий $\\chi^2$(Хи-квадрат), применяют для проверки гипотезы о соответствии эмпирического распределения предполагаемому теоретическому распределению.\n",
        "\n",
        "Метод позволяет оценить статистическую значимость различий двух или нескольких относительных показателей.\n",
        "\n",
        "Теоретические частоты вычисляются по формуле:\n",
        "\n",
        "${n_i}' = p_i N$\n",
        "\n",
        "$p_i = \\Phi(z_{i+1}) - \\Phi(z_i)$\n",
        "\n",
        "где $\\Phi(z_i)$ – функция Лапласа\n",
        "\n",
        "Если $\\chi^2_{наб} \\leqslant \\chi^2_{крит}$ – гипотеза принимается, иначе $(\\chi^2_{наб} > \\chi^2_{крит})$ – гипотезу отвергают."
      ],
      "metadata": {
        "id": "8UXiYpqT6ivo"
      }
    },
    {
      "cell_type": "markdown",
      "source": [
        "## Постановка задачи\n",
        "\n",
        "Для заданной надежности определить (на основании выборочных данных и результатов выполнения практической работы №2) границы доверительных интервалов для математического ожидания и среднеквадратичного отклонения случайной величины. Проверить гипотезу о нормальном распределении исследуемой случайной величины с помощью критерия Пирсона $\\chi^2$\n",
        ". Дать содержательную интерпретацию полученным результатам."
      ],
      "metadata": {
        "id": "T_OCQyb76oNA"
      }
    },
    {
      "cell_type": "markdown",
      "source": [
        "## Выполнение работы"
      ],
      "metadata": {
        "id": "N_g1lXtE61LE"
      }
    },
    {
      "cell_type": "markdown",
      "source": [
        "### Импорт библиотек"
      ],
      "metadata": {
        "id": "-mGfCmtl66gr"
      }
    },
    {
      "cell_type": "code",
      "source": [
        "import numpy as np\n",
        "import pandas as pd\n",
        "import matplotlib.pyplot as plt\n",
        "import scipy\n",
        "from scipy.stats import skew\n",
        "from scipy.stats import kurtosis"
      ],
      "metadata": {
        "id": "JdHY2pLL6727"
      },
      "execution_count": null,
      "outputs": []
    },
    {
      "cell_type": "markdown",
      "source": [
        "### Восстановим результаты практической работы №1 (выборочные данные, которые необходимо обработать)"
      ],
      "metadata": {
        "id": "6ZzAc5Pt79UA"
      }
    },
    {
      "cell_type": "code",
      "source": [
        "data = pd.read_csv(\"/content/sample.csv\")\n",
        "data = data.sample(n=118, random_state=118)\n",
        "data = data.sort_index()\n",
        "data = data.reset_index(drop=True)\n",
        "data.to_csv(\"/content/выборка.csv\", index=False)\n",
        "\n",
        "df = pd.read_csv(\"/content/выборка.csv\")\n",
        "\n",
        "df_nu = df.drop(\"E\", axis=1)\n",
        "\n",
        "df_nu = df_nu.sort_values(by=[\"nu\"], ignore_index = True)\n",
        "\n",
        "x = df_nu['nu']\n",
        "var_series = pd.DataFrame({'nu': x.value_counts().sort_index().index})\n",
        "var_series # Вариационный ряд\n",
        "\n",
        "# Интервальный ряд\n",
        "n=118\n",
        "k = int(np.floor(1+3.31*np.log10(n))) # количество интервалов\n",
        "h = int(np.ceil((max(x)-min(x))/k)) # ширина интервала\n",
        "interval_bounds = [] # границы интервалов\n",
        "x_min = min(var_series['nu'])\n",
        "interval_bounds.append(x_min)\n",
        "for i in range(1, k):\n",
        "  interval_bounds.append(x_min+h*i)\n",
        "interval_bounds.append(x_min+k*h)\n",
        "\n",
        "counts = x.value_counts().sort_index().values # абсолютные частоты\n",
        "rel_counts = x.value_counts(normalize=True).sort_index().values # относительные частоты\n",
        "\n",
        "interval_series = pd.concat([var_series, pd.DataFrame({'n_i': counts, 'p_i': rel_counts})], axis=1)\n",
        "interval_series[\"interval_i-i+1\"] = pd.cut(interval_series[\"nu\"], bins=interval_bounds, right=False)\n",
        "interval_series = interval_series.groupby([\"interval_i-i+1\"])[[\"n_i\", \"p_i\"]].apply(sum).reset_index()\n",
        "interval_series[\"avg_i\"] = np.array([np.mean([interval_bounds[i], interval_bounds[i+1]], axis=0) for i in range(k)])\n",
        "interval_series = interval_series[[\"interval_i-i+1\", \"avg_i\", \"n_i\", \"p_i\"]]\n",
        "\n",
        "# Добавим накопленные частоты\n",
        "n_cum = [] # накопленные абсолютные частоты\n",
        "p_cum = [] # накопленные относительные частоты\n",
        "\n",
        "n_abs, p_abs = interval_series['n_i'], interval_series['p_i']\n",
        "\n",
        "for i in range(len(n_abs)):\n",
        "  n_cum.append(sum(n_abs[:i+1]))\n",
        "  p_cum.append(sum(p_abs[:i+1]))\n",
        "\n",
        "interval_series['n_cum_i'] = n_cum\n",
        "interval_series['p_cum_i'] = p_cum"
      ],
      "metadata": {
        "id": "AQO4WdtA8BMZ"
      },
      "execution_count": null,
      "outputs": []
    },
    {
      "cell_type": "markdown",
      "source": [
        "### 1. Вычислить точность и доверительный интервал для математического ожидания при неизвестном среднеквадратичном отклонении при заданном объёме выборки для доверительной точности $γ∈[0.95;0.99]$\n",
        "\n",
        "Доверительный интервал для математического ожидания:\n",
        "$(\\overline{x}_в - t_γs/\\sqrt{N} ; \\overline{x}_в + t_γs/\\sqrt{N})$\n",
        "\n",
        "Пусть $γ=0.95$. Тогда по таблице распределения Стьюдента определяем $t_γ=1.984$\n",
        "\n",
        "Таким образом вычислим доверительный интервал с надёжностью $γ=0.95$:"
      ],
      "metadata": {
        "id": "LG5rKnF-ExYg"
      }
    },
    {
      "cell_type": "code",
      "source": [
        "t_gamma = 1.984\n",
        "x_mean1 = sum(interval_series[\"avg_i\"]*interval_series[\"n_i\"])/len(x)  # выбочроное среднее\n",
        "s = np.sqrt(np.var(x, ddof = 1))  # среднеквадратическое отклонение исправленной дисперсии\n",
        "bound_left = x_mean1-(t_gamma*s)/np.sqrt(len(x))\n",
        "bound_right = x_mean1+(t_gamma*s)/np.sqrt(len(x))\n",
        "print(bound_left, bound_right)"
      ],
      "metadata": {
        "colab": {
          "base_uri": "https://localhost:8080/"
        },
        "id": "eYqetPTvEyXN",
        "outputId": "f5b92d50-501e-4a3f-d158-61f5cdcddf4a"
      },
      "execution_count": null,
      "outputs": [
        {
          "output_type": "stream",
          "name": "stdout",
          "text": [
            "442.9045243954929 464.4853061129817\n"
          ]
        }
      ]
    },
    {
      "cell_type": "markdown",
      "source": [
        "Получили следующий доверительный интервал: $(442.9; 464.49)$\n",
        "\n",
        "Вычислим точность $(δ= t_γs/\\sqrt{N})$ покрытия истинного значения мат. ожидания данным доверительным интервалом:"
      ],
      "metadata": {
        "id": "p7yb_EPpHU4B"
      }
    },
    {
      "cell_type": "code",
      "source": [
        "delta = (t_gamma*s)/np.sqrt(len(x))\n",
        "delta"
      ],
      "metadata": {
        "colab": {
          "base_uri": "https://localhost:8080/"
        },
        "id": "PDRgQz7xHgvu",
        "outputId": "ab5ac025-2a51-47fc-929f-6c7a5a1fcabe"
      },
      "execution_count": null,
      "outputs": [
        {
          "output_type": "execute_result",
          "data": {
            "text/plain": [
              "10.790390858744377"
            ]
          },
          "metadata": {},
          "execution_count": 49
        }
      ]
    },
    {
      "cell_type": "markdown",
      "source": [
        "Аналогичным образом можно вычислить точность и доверительный интервал для мат. ожидания при $γ$ равном, например, $0.99$ и $t_γ=2.627$:\n",
        "\n",
        "- $(439.4; 467.98)$ — доверительный интервал\n",
        "- $14.29$ — точность"
      ],
      "metadata": {
        "id": "etpFJcbSYRS6"
      }
    },
    {
      "cell_type": "markdown",
      "source": [
        "**Выводы**:\n",
        "- с веротностью 95% значение мат. ожидания покрывается интервалом $(442.9; 464.49)$\n",
        "- с веротностью 99% значение мат. ожидания покрывается интервалом $(439.4; 467.98)$\n",
        "- чем больше значение надёжности, тем менее точен доверительный интервал"
      ],
      "metadata": {
        "id": "rRDTWTHeZEZ5"
      }
    },
    {
      "cell_type": "markdown",
      "source": [
        "###2. Для вычисления границ доверительного интервала для среднеквадратичного отклонения определить значение $q$ при заданных $γ$ и $n$. Построить доверительные интервалы.\n",
        "\n"
      ],
      "metadata": {
        "id": "5GoVat8NICXZ"
      }
    },
    {
      "cell_type": "markdown",
      "source": [
        "$q = 0.143$ из таблицы для $\\gamma = 0.95$ и $N = 100$"
      ],
      "metadata": {
        "id": "pIiv7lQzK3TZ"
      }
    },
    {
      "cell_type": "code",
      "source": [
        "q = 0.143\n",
        "print(\"(\",s*(1-q),\",\", s*(1+q),\")\")"
      ],
      "metadata": {
        "colab": {
          "base_uri": "https://localhost:8080/"
        },
        "id": "alVCaqnHIsFt",
        "outputId": "15b45ff0-dfbe-47d2-a8e3-c79bc0a63d3a"
      },
      "execution_count": null,
      "outputs": [
        {
          "output_type": "stream",
          "name": "stdout",
          "text": [
            "( 50.631096646705686 , 67.5278220153846 )\n"
          ]
        }
      ]
    },
    {
      "cell_type": "markdown",
      "source": [
        "$q = 0.198$ из таблицы для $\\gamma = 0.99$ и $N = 100$"
      ],
      "metadata": {
        "id": "4fRx0_iAeEky"
      }
    },
    {
      "cell_type": "code",
      "source": [
        "q = 0.198\n",
        "print(\"(\",s*(1-q),\",\", s*(1+q),\")\")"
      ],
      "metadata": {
        "colab": {
          "base_uri": "https://localhost:8080/"
        },
        "id": "AxpL_C8keKpH",
        "outputId": "e56ea0c3-f2db-44a4-cdae-e41b438a6cf1"
      },
      "execution_count": null,
      "outputs": [
        {
          "output_type": "stream",
          "name": "stdout",
          "text": [
            "( 47.381726383498204 , 70.77719227859208 )\n"
          ]
        }
      ]
    },
    {
      "cell_type": "markdown",
      "source": [
        "**Выводы**:\n",
        "- с веротностью 95% значение СКО покрывается интервалом $(50.63; 67.53)$\n",
        "- с веротностью 99% значение СКО покрывается интервалом $(47.38; 70.77)$\n",
        "- чем больше значение надёжности, тем менее точен доверительный интервал"
      ],
      "metadata": {
        "id": "CCNn7xo7eYUt"
      }
    },
    {
      "cell_type": "markdown",
      "source": [
        "###3. Проверить гипотезу о нормальности заданного распределения с помощью критерия $\\chi^2$(Пирсона). Для этого необходимо найти теоретические частоты и вычислить наблюдаемое значение критерия."
      ],
      "metadata": {
        "id": "U5ZyOIuBQ7yx"
      }
    },
    {
      "cell_type": "markdown",
      "source": [
        "Пересчитаем границы интервалов:"
      ],
      "metadata": {
        "id": "vXdgCa2p7Q-7"
      }
    },
    {
      "cell_type": "code",
      "source": [
        "import math\n",
        "z = []\n",
        "for bound in interval_bounds:\n",
        "  z.append((bound - x_mean1)/s)\n",
        "z[0] = -math.inf\n",
        "z[-1] = math.inf\n",
        "z"
      ],
      "metadata": {
        "id": "vbyTkYx-WJ-7",
        "colab": {
          "base_uri": "https://localhost:8080/"
        },
        "outputId": "3eb3014b-1cc3-4084-b387-e518ad391fe9"
      },
      "execution_count": null,
      "outputs": [
        {
          "output_type": "execute_result",
          "data": {
            "text/plain": [
              "[-inf,\n",
              " -1.4335763430003448,\n",
              " -0.7903747898671102,\n",
              " -0.14717323673387567,\n",
              " 0.49602831639935885,\n",
              " 1.1392298695325933,\n",
              " 1.7824314226658278,\n",
              " inf]"
            ]
          },
          "metadata": {},
          "execution_count": 52
        }
      ]
    },
    {
      "cell_type": "markdown",
      "source": [
        "Вычислим через функцию Лапласа вероятности попадания в каждый интервал:"
      ],
      "metadata": {
        "id": "dm3hpcwl7VPw"
      }
    },
    {
      "cell_type": "code",
      "source": [
        "from scipy import stats\n",
        "p = []\n",
        "for i in range(k):\n",
        "  p.append(stats.norm.cdf(z[i+1]) - stats.norm.cdf(z[i]))\n",
        "p"
      ],
      "metadata": {
        "colab": {
          "base_uri": "https://localhost:8080/"
        },
        "id": "F0JvPwRm7Vie",
        "outputId": "5927149e-0faa-4e17-c0a1-2632571e5bed"
      },
      "execution_count": null,
      "outputs": [
        {
          "output_type": "execute_result",
          "data": {
            "text/plain": [
              "[0.07584659924851812,\n",
              " 0.13880786106008103,\n",
              " 0.22684318196012127,\n",
              " 0.24856514128933732,\n",
              " 0.18263357127658453,\n",
              " 0.08996419261294075,\n",
              " 0.037339452552416996]"
            ]
          },
          "metadata": {},
          "execution_count": 53
        }
      ]
    },
    {
      "cell_type": "markdown",
      "source": [
        "Получим теоретические частоты:"
      ],
      "metadata": {
        "id": "pU1atUA_7Xm_"
      }
    },
    {
      "cell_type": "code",
      "source": [
        "n_shtrix = []\n",
        "for i in range(k):\n",
        "  n_shtrix.append(p[i]*n)\n",
        "n_shtrix"
      ],
      "metadata": {
        "colab": {
          "base_uri": "https://localhost:8080/"
        },
        "id": "LwmcLP-K7ZQW",
        "outputId": "92cd035b-7750-423a-81fd-902d7bf0892e"
      },
      "execution_count": null,
      "outputs": [
        {
          "output_type": "execute_result",
          "data": {
            "text/plain": [
              "[8.949898711325138,\n",
              " 16.37932760508956,\n",
              " 26.76749547129431,\n",
              " 29.330686672141805,\n",
              " 21.550761410636973,\n",
              " 10.61577472832701,\n",
              " 4.406055401185205]"
            ]
          },
          "metadata": {},
          "execution_count": 54
        }
      ]
    },
    {
      "cell_type": "markdown",
      "source": [
        "Вычислим значение критерия Пирсона:"
      ],
      "metadata": {
        "id": "IbICg-Cz7cS5"
      }
    },
    {
      "cell_type": "code",
      "source": [
        "sum(((interval_series['n_i']-n_shtrix)**2)/(n_shtrix))"
      ],
      "metadata": {
        "colab": {
          "base_uri": "https://localhost:8080/"
        },
        "id": "AyeiIi0A7cku",
        "outputId": "d97e6c7a-65b2-4498-b40a-d70b2b2b125a"
      },
      "execution_count": null,
      "outputs": [
        {
          "output_type": "execute_result",
          "data": {
            "text/plain": [
              "3.3638841182649464"
            ]
          },
          "metadata": {},
          "execution_count": 55
        }
      ]
    },
    {
      "cell_type": "markdown",
      "source": [
        "Критическое значение критерия Пирсона = 9.5\n",
        "\n",
        "Т.к. 3.36 < 9.5, то гипотеза о нормальности распределения принимается с уровнем значимости 0.05 и количеством степеней свободы 7-3=4"
      ],
      "metadata": {
        "id": "J6nppeU27euV"
      }
    },
    {
      "cell_type": "markdown",
      "source": [
        "| $i$      | $(x_{i-1},x_i]$ | $n_i$ | $p_i$                | $n_i'$             | $(n_i-n_i')^2$        | $\\frac{(n_i-n_i')^2}{n_i'}$ | $n_i^2$ | $\\frac{n_i^2}{n_i'}$ |\n",
        "|----------|-----------------|-------|----------------------|--------------------|-----------------------|-----------------------------|---------|----------------------|\n",
        "| 1        | (331,369)       | 9.0   | 0.07584659924851812  | 8.949898711325138  | 0.0025101391268818074 | 0.0002804656463548012       | 81.0    | 9.050381754321217    |\n",
        "| 2        | (369,407)       | 17.0  | 0.13880786106008103  | 16.37932760508956  | 0.38523422180386035   | 0.02351953823087074         | 289.0   | 17.64419193314131    |\n",
        "| 3        | (407,445)       | 29.0  | 0.22684318196012127  | 26.76749547129431  | 4.984076470691413     | 0.18619883492784667         | 841.0   | 31.418703363633536   |\n",
        "| 4        | (445,483)       | 29.0  | 0.24856514128933732  | 29.330686672141805 | 0.10935367513222187   | 0.0037283025915682243       | 841.0   | 28.673041630449763   |\n",
        "|          | (483,521)       | 15.0  | 0.18263357127658453  | 21.550761410636973 | 42.912475059090504    | 1.9912277919753623          | 225.0   | 10.44046638133839    |\n",
        "|          | (521,559)       | 14.0  | 0.08996419261294075  | 10.61577472832701  | 11.452980689430127    | 1.0788643299738763          | 196.0   | 18.463089601646868   |\n",
        "|          | (559,597)       | 5.0   | 0.037339452552416996 | 4.406055401185205  | 0.3527701864612674    | 0.08006485491906754         | 25.0    | 5.674009453733862    |\n",
        "| $\\Sigma$ |                 | 118.0 | 1.0                  | 118.0              | 60.2                  | 3.36                        | 2498.0  | 121.36               |"
      ],
      "metadata": {
        "id": "IQV6z2M6oUf4"
      }
    },
    {
      "cell_type": "markdown",
      "source": [
        "###4. Доказать, что\n",
        "\n",
        "$\\displaystyle \\chi^2_{набл} = \\sum^k_{i=1} \\frac{n^2_i}{{n_i}'}-n$\n",
        "\n",
        "Проконтролировать корректность вычисления $\\chi^2_{набл}$."
      ],
      "metadata": {
        "id": "ODoDtQ0FWgo-"
      }
    },
    {
      "cell_type": "markdown",
      "source": [
        "Согласно критерию Пирсона: $$χ^2_{набл} = \\sum^k_{i=1} \\frac{(n_i - n_i')^2}{n_i'} $$\n",
        "\n",
        "$\\displaystyle \\sum^k_{i=1} \\frac{(n_i - n_i')^2}{n_i'}  = \\sum^k_{i=1} \\frac{n_i^2 - 2 n_i n_i' + n_i'^2}{n_i'}  = \\sum^k_{i=1}\\frac{n_i^2}{n_i'} - 2\\sum^k_{i=1} n_i + \\sum^k_{i=1} n_i'$\n",
        "\n",
        "Так как $\\displaystyle \\sum^k_{i=1} n_i = \\sum^k_{i=1} n_i' = n$, получаем:\n",
        "\n",
        "$$\\chi^2_{\\textit{набл}} = \\sum_{i = 1}^k\\frac{n^2_i}{n'_i} - n.$$"
      ],
      "metadata": {
        "id": "wKCEITx3e6u1"
      }
    },
    {
      "cell_type": "code",
      "source": [
        "chi2_nabl = sum(((interval_series['n_i']-n_shtrix)**2)/(n_shtrix))\n",
        "\n",
        "print(round(chi2_nabl,2),\"=\",round(121.36 - n,2))\n"
      ],
      "metadata": {
        "id": "CXVKnAtKXaUd",
        "colab": {
          "base_uri": "https://localhost:8080/"
        },
        "outputId": "579d3e26-6e5d-4e14-b4de-4cb984d20fa6"
      },
      "execution_count": null,
      "outputs": [
        {
          "output_type": "stream",
          "name": "stdout",
          "text": [
            "3.36 = 3.36\n"
          ]
        }
      ]
    },
    {
      "cell_type": "markdown",
      "source": [
        "$χ^2_{набл} = 3.36$ значения совпадают"
      ],
      "metadata": {
        "id": "EoH1LGHZi7a6"
      }
    },
    {
      "cell_type": "markdown",
      "source": [
        "###5. По заданному уровню значимости $\\alpha = 0.05$ и числу степеней свободы $df$ найти критическую точку $\\chi^2_{крит}$ и сравнить с наблюдаемым значением.\n",
        "\n",
        "В пункте 3 уже было вычислено $\\chi^2_{крит}$ и оно оказалось больше $\\chi^2_{набл}$, поэтому нулевая гипотеза была принята\n"
      ],
      "metadata": {
        "id": "MvjCRsJtXasT"
      }
    },
    {
      "cell_type": "markdown",
      "source": [
        "## Выводы\n",
        "\n",
        "В ходе выполнения данной лабораторной работы были выполнены вычисления интервальных статистических оценок параметров распределения выборочных данных и проверки «справедливости» статистических гипотез. Построение доверительных интервалов показало, что повышение надёжности приводит к снижению точности оценки, однако точность может быть повышена также с помощью увеличения размера выборки. Была выдвинута гипотеза о нормальности распределения выборочных данных. Проверка этой гипотезы по критерию Пирсона дала основания принять её с выбранным уровнем значимости. Доказана эквивалентность формул для вычисления наблюдённого значения критерия Пирсона."
      ],
      "metadata": {
        "id": "Az6ZWhhL-UYx"
      }
    }
  ]
}