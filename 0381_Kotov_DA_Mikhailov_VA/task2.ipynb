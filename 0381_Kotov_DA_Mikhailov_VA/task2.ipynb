{
  "nbformat": 4,
  "nbformat_minor": 0,
  "metadata": {
    "colab": {
      "provenance": []
    },
    "kernelspec": {
      "name": "python3",
      "display_name": "Python 3"
    },
    "language_info": {
      "name": "python"
    }
  },
  "cells": [
    {
      "cell_type": "markdown",
      "source": [
        "# Практическая работа №2: Обработка выборочных данных. Нахождение точечных оценок параметров распределения\n",
        "Выполнили студенты гр. 0381 Котов Дмитрий и Михайлов Виктор. Вариант №8"
      ],
      "metadata": {
        "id": "xrR5Il7vzCjn"
      }
    },
    {
      "cell_type": "markdown",
      "source": [
        "## Цель работы\n",
        "\n",
        "Получение практических навыков нахождения точечных статистических оценок параметров распределения."
      ],
      "metadata": {
        "id": "ztDXynYhzPLI"
      }
    },
    {
      "cell_type": "markdown",
      "source": [
        "## Основные теоретические положения\n",
        "Математическим ожиданием дискретной случайной величины называется сумма произведений ее возможных значений на соответствующие им вероятности:\n",
        "\n",
        "$M(X) = \\displaystyle \\sum^n_{i=1} x_in_i$\n",
        "\n",
        "Среднеквадратическим отклонением случайной величины $X$ (стандартом)\n",
        "называется квадратный корень из ее дисперсии:\n",
        "\n",
        "$\\sigma = \\sqrt{D(X)}$\n",
        "\n",
        "Для упрощения вычислений эмперических моментов вводят в рассмотрение так называемые условные варианты:\n",
        "\n",
        "$u_j = \\frac{x_j - C}{h}$\n",
        "\n",
        "где $C$ – условный ноль, значение которго выбирается равным значению интервального ряда, являющимся средним или близким к среднему по значению в этом ряду. В рузультате все условные варианты оказываются целыми числами.\n",
        "\n",
        "Условные моменты $k$-го порядка:\n",
        "\n",
        "$\\displaystyle \\bar{M}^*_k =\\frac{1}{N} \\sum n_j\\left (\\frac{x_j-C}{h}\\right )^k = \\frac{1}{N} \\sum n_j u^k_j  $\n",
        "\n",
        "Центральным моментом порядка $k$ случайной величины $X$ называется математическое ожидание величины:\n",
        "\n",
        "$M(X-M(X))^k = m_k$\n",
        "\n",
        "Исправленная выборочная дисперсия определяется по формуле:\n",
        "\n",
        "$s^2 = \\frac{N}{N-1}D_B$\n",
        "\n",
        "где $\\displaystyle D_B = \\frac{1}{N}\\sum^k_{i=1}(x_i-\\bar{x})^2n_i$ – выборочная дисперсия\n",
        "\n",
        "Асимметрией, или коэффициентом асимметрии, называется числовая характеристика, определяемая выражением:\n",
        "\n",
        "$A = \\frac{m_3}{s^3}$\n",
        "\n",
        "где $m_3$ – центральный эмпирический момент третьего порядка, $s$ – стандартное отклонение.\n",
        "\n",
        "Эксцессом называется численная характеристика случайной величины, которая определяется выражением:\n",
        "\n",
        "$E = \\frac{m_4}{s^4} - 3$\n",
        "\n",
        "Для нормального закона $\\frac{m_4}{s^4}$. Отсюда следует, что для нормального закона $E=0$. Эксцесс показывает, как быстро уменьшается плотность распределения вблизи её максимального значения.\n",
        "\n",
        "Мода дискретной случайной величины – это наиболее вероятное значение\n",
        "этой случайной величины. Модой непрерывной случайной величины называется\n",
        "ее значение, при котором плотность вероятности максимальна.\n",
        "\n",
        "$M_o(X) = x_{M_o} + h\\frac{m_2 - m_1}{(m_2 - m_1)+(m_2-m_3)}$\n",
        "\n",
        "Медиана случайной величины $X$ – это такое ее значение $M_e$, для которого выполнено равенство:\n",
        "\n",
        "$P(X<M_e) = P(X>M_e)$\n",
        "\n",
        "$M_e(X) = x_{M_e}+h\\frac{0.5n-sM_{e^{-1}}}{n_{M_e}}$"
      ],
      "metadata": {
        "id": "40aa1x5xzTgz"
      }
    },
    {
      "cell_type": "markdown",
      "source": [
        "## Постановка задачи\n",
        "\n",
        "Для заданных выборочных данных вычислить с использованием метода моментов и условных вариант точечные статистические оценки математического ожидания, дисперсии, среднеквадратичного отклонения, асимметрии, эксцесса, моды, медианы и коэффициента вариации исследуемой случайной величины. Полученные результаты содержательно проинтерпретировать."
      ],
      "metadata": {
        "id": "asM7p0YVzZ59"
      }
    },
    {
      "cell_type": "markdown",
      "source": [
        "## Выполнение работы"
      ],
      "metadata": {
        "id": "1ZQhyr7qzf2V"
      }
    },
    {
      "cell_type": "markdown",
      "source": [
        "### Импорт библиотек"
      ],
      "metadata": {
        "id": "vdJ15TlRzkhv"
      }
    },
    {
      "cell_type": "code",
      "source": [
        "import numpy as np\n",
        "import pandas as pd\n",
        "import matplotlib.pyplot as plt\n",
        "import scipy\n",
        "from scipy.stats import skew\n",
        "from scipy.stats import kurtosis"
      ],
      "metadata": {
        "id": "4FoRCzIdzIj6"
      },
      "execution_count": null,
      "outputs": []
    },
    {
      "cell_type": "markdown",
      "source": [
        "### Восстановим результаты практической работы №1"
      ],
      "metadata": {
        "id": "3OXcEXKvz4H3"
      }
    },
    {
      "cell_type": "code",
      "source": [
        "data = pd.read_csv(\"/content/sample.csv\")\n",
        "data = data.sample(n=118, random_state=118)\n",
        "data = data.sort_index()\n",
        "data = data.reset_index(drop=True)\n",
        "data.to_csv(\"/content/выборка.csv\", index=False)\n",
        "\n",
        "df = pd.read_csv(\"/content/выборка.csv\")\n",
        "\n",
        "df_nu = df.drop(\"E\", axis=1)\n",
        "\n",
        "df_nu = df_nu.sort_values(by=[\"nu\"], ignore_index = True)\n",
        "\n",
        "x = df_nu['nu']\n",
        "var_series = pd.DataFrame({'nu': x.value_counts().sort_index().index})\n",
        "var_series # Вариационный ряд\n",
        "\n",
        "# Интервальный ряд\n",
        "n=118\n",
        "k = int(np.floor(1+3.31*np.log10(n))) # количество интервалов\n",
        "h = int(np.ceil((max(x)-min(x))/k)) # ширина интервала\n",
        "interval_bounds = [] # границы интервалов\n",
        "x_min = min(var_series['nu'])\n",
        "interval_bounds.append(x_min)\n",
        "for i in range(1, k):\n",
        "  interval_bounds.append(x_min+h*i)\n",
        "interval_bounds.append(x_min+k*h)\n",
        "\n",
        "counts = x.value_counts().sort_index().values # абсолютные частоты\n",
        "rel_counts = x.value_counts(normalize=True).sort_index().values # относительные частоты\n",
        "\n",
        "interval_series = pd.concat([var_series, pd.DataFrame({'n_i': counts, 'p_i': rel_counts})], axis=1)\n",
        "interval_series[\"interval_i-i+1\"] = pd.cut(interval_series[\"nu\"], bins=interval_bounds, right=False)\n",
        "interval_series = interval_series.groupby([\"interval_i-i+1\"])[[\"n_i\", \"p_i\"]].apply(sum).reset_index()\n",
        "interval_series[\"avg_i\"] = np.array([np.mean([interval_bounds[i], interval_bounds[i+1]], axis=0) for i in range(k)])\n",
        "interval_series = interval_series[[\"interval_i-i+1\", \"avg_i\", \"n_i\", \"p_i\"]]\n",
        "\n",
        "# Добавим накопленные частоты\n",
        "n_cum = [] # накопленные абсолютные частоты\n",
        "p_cum = [] # накопленные относительные частоты\n",
        "\n",
        "n_abs, p_abs = interval_series['n_i'], interval_series['p_i']\n",
        "\n",
        "for i in range(len(n_abs)):\n",
        "  n_cum.append(sum(n_abs[:i+1]))\n",
        "  p_cum.append(sum(p_abs[:i+1]))\n",
        "\n",
        "interval_series['n_cum_i'] = n_cum\n",
        "interval_series['p_cum_i'] = p_cum"
      ],
      "metadata": {
        "id": "tG3tSotRz9X6"
      },
      "execution_count": null,
      "outputs": []
    },
    {
      "cell_type": "markdown",
      "source": [
        "### 1. Для середин интервального ряда, полученного в практической работе №1, вычислим условные варианты. Результаты представлены в табл.1."
      ],
      "metadata": {
        "id": "d7evmThyznNt"
      }
    },
    {
      "cell_type": "code",
      "source": [
        "# Вычислим условные варианты\n",
        "C = interval_series[\"avg_i\"][3]\n",
        "u = [(x-C)/h for x in interval_series[\"avg_i\"]]\n",
        "\n",
        "# По методу произведений вычислим условные моменты\n",
        "nu = [x*y for x,y in zip(u, interval_series['p_i'])]\n",
        "nu2 = [(x**2)*y for x,y in zip(u, interval_series['p_i'])]\n",
        "nu3 = [(x**3)*y for x,y in zip(u, interval_series['p_i'])]\n",
        "nu4 = [(x**4)*y for x,y in zip(u, interval_series['p_i'])]\n",
        "nuplus1_4 = [((x+1)**4)*y for x,y in zip(u, interval_series['p_i'])]\n",
        "\n",
        "sum_nu = sum(nu)\n",
        "sum_nu2 = sum(nu2)\n",
        "sum_nu3 = sum(nu3)\n",
        "sum_nu4 = sum(nu4)\n",
        "sum_nuplus1_4 = sum(nuplus1_4)"
      ],
      "metadata": {
        "id": "uQd94OtbzxzF"
      },
      "execution_count": null,
      "outputs": []
    },
    {
      "cell_type": "markdown",
      "source": [
        "Табл.1\n",
        "\n",
        "| $i$      | $x_i$ | $n_i$    | $u_i$ | $n_iu_i$             | $n_iu_i^2$          | $n_iu_i^3$          | $n_iu_i^4$          | $n_i(u_i+1)^4$     |\n",
        "|----------|-------|----------|-------|----------------------|---------------------|---------------------|---------------------|--------------------|\n",
        "|     1    | 350.0 | 0.076271 |  -3.0 | -0.22881355932203387 |  0.6864406779661016 |  -2.059322033898305 | 6.177966101694914   | 1.2203389830508473 |\n",
        "|     2    | 388.0 | 0.144068 |  -2.0 |   -0.288135593220339 |   0.576271186440678 |  -1.152542372881356 | 2.305084745762712   | 0.1440677966101695 |\n",
        "|     3    | 426.0 | 0.245763 |  -1.0 |  -0.2457627118644068 |  0.2457627118644068 | -0.2457627118644068 | 0.2457627118644068  | 0.0                |\n",
        "|     4    | 464.0 | 0.245763 |   0.0 |                  0.0 |                 0.0 |                 0.0 | 0.0                 | 0.2457627118644068 |\n",
        "|     5    | 502.0 | 0.127119 |   1.0 |  0.12711864406779663 | 0.12711864406779663 | 0.12711864406779663 | 0.12711864406779663 | 2.033898305084746  |\n",
        "|     6    | 540.0 | 0.118644 |   2.0 |  0.23728813559322035 |  0.4745762711864407 |  0.9491525423728814 | 1.8983050847457628  | 9.610169491525424  |\n",
        "|     7    | 578.0 | 0.042373 |   3.0 |   0.1271186440677966 |  0.3813559322033898 |  1.1440677966101696 | 3.432203389830508   | 10.847457627118644 |\n",
        "| $\\Sigma$ |       |        1 |       | -0.27118644067796605 |  2.4915254237288136 | -1.2372881355932197 | 14.1864406779661    | 24.101694915254235 |"
      ],
      "metadata": {
        "id": "TmhpBRgLGwYJ"
      }
    },
    {
      "cell_type": "markdown",
      "source": [
        "Произведём контроль вычислений по следующей формуле:\n",
        "$$ \\sum n_j (u_j + 1)^4 = \\sum n_j u_j^4 + 4 \\sum n_j u_j^3 + 6 \\sum n_j u_j^2 + 4 \\sum n_j u_j + \\sum n_i $$"
      ],
      "metadata": {
        "id": "57QnJ-SLGyHI"
      }
    },
    {
      "cell_type": "code",
      "source": [
        "check_calc = sum_nu4 + 4*sum_nu3+6*sum_nu2+4*sum_nu+1\n",
        "check_calc"
      ],
      "metadata": {
        "id": "3TTwPY4dGyp3",
        "colab": {
          "base_uri": "https://localhost:8080/"
        },
        "outputId": "f4bb147b-f292-44c5-f4db-863120fccfc1"
      },
      "execution_count": null,
      "outputs": [
        {
          "output_type": "execute_result",
          "data": {
            "text/plain": [
              "24.10169491525424"
            ]
          },
          "metadata": {},
          "execution_count": 92
        }
      ]
    },
    {
      "cell_type": "markdown",
      "source": [
        "Проверка пройдена"
      ],
      "metadata": {
        "id": "xMz9bNZWG0Z2"
      }
    },
    {
      "cell_type": "markdown",
      "source": [
        "### 2. Вычислим условные эмпирические моменты через условные варианты и с помощью условных эмпирических моментов вычислим центральные эмпирические моменты. Полученные результаты представлены в табл. 2."
      ],
      "metadata": {
        "id": "R3XFx4v5Ww7T"
      }
    },
    {
      "cell_type": "code",
      "source": [
        "N = 7 # размер выборки\n",
        "\n",
        "M1_star = sum_nu/N  # условный эмпирический момент 1-го порядка\n",
        "M1 = M1_star*h + C  # эмпирический начальный момент\n",
        "\n",
        "M2_star = sum_nu2/N  # условный эмпирический момент 2-го порядка\n",
        "m2 = (M2_star - (M1_star**2))*(h**2)  # эмпирический центральный момент 2-го порядка\n",
        "\n",
        "M3_star = sum_nu3/N  # условный эмпирический момент 3-го порядка\n",
        "m3 = (M3_star - 3*M2_star*M1_star + 2*(M1_star**3))*(h**3)  # эмпирический центральный момент 3-го порядка\n",
        "\n",
        "M4_star = sum_nu4/N  # условный эмпирический момент 4-го порядка\n",
        "m4 = (M4_star - 4*M3_star*M1_star + 6*(M1_star**2)*M2_star - 3*(M1_star**4))*(h**4)  # эмпирический центральный момент 3-го порядка\n",
        "\n",
        "M = [M1_star, M2_star, M3_star, M4_star]\n",
        "m = [M1, m2, m3, m4]\n",
        "\n",
        "for i in range(len(M)):\n",
        "  print(f'Условный эмпирический момент {i+1}-го порядка: ', M[i])\n",
        "\n",
        "for i in range(len(m)):\n",
        "  print(f'Центральный эмпирический момент {i+1}-го порядка: ', m[i])"
      ],
      "metadata": {
        "id": "Wozv1u_xW4aM",
        "outputId": "c610db53-c8e6-42b3-f285-0e8c784681d7",
        "colab": {
          "base_uri": "https://localhost:8080/"
        }
      },
      "execution_count": null,
      "outputs": [
        {
          "output_type": "stream",
          "name": "stdout",
          "text": [
            "Условный эмпирический момент 1-го порядка:  -0.038740920096852295\n",
            "Условный эмпирический момент 2-го порядка:  0.3559322033898305\n",
            "Условный эмпирический момент 3-го порядка:  -0.17675544794188852\n",
            "Условный эмпирический момент 4-го порядка:  2.0266343825665856\n",
            "Центральный эмпирический момент 1-го порядка:  462.5278450363196\n",
            "Центральный эмпирический момент 2-го порядка:  511.79886145782643\n",
            "Центральный эмпирический момент 3-го порядка:  -7435.392723091459\n",
            "Центральный эмпирический момент 4-го порядка:  4175364.2652651807\n"
          ]
        }
      ]
    },
    {
      "cell_type": "markdown",
      "source": [
        "Табл.2\n",
        "\n",
        "| $i$ | $v_i^*$               | $\\mu_i^*$          |\n",
        "|-----|-----------------------|--------------------|\n",
        "| 1   | -0.038740920096852295 | 462.5278450363196  |\n",
        "| 2   | 0.3559322033898305    | 511.79886145782643 |\n",
        "| 3   | -0.17675544794188852  | -7435.392723091459 |\n",
        "| 4   | 2.0266343825665856    | 4175364.2652651807 |"
      ],
      "metadata": {
        "id": "ntezs12QW7lN"
      }
    },
    {
      "cell_type": "markdown",
      "source": [
        "### 3. Вычислим выборочные среднее и дисперсию с помощью стандартной формулы и с помощью условных вариант. Убедимся, что результаты совпадают."
      ],
      "metadata": {
        "id": "06rgHURhGZ9j"
      }
    },
    {
      "cell_type": "markdown",
      "source": [
        "#### Выборочное среднее по стандартной формуле"
      ],
      "metadata": {
        "id": "tto2ucn6ZTi2"
      }
    },
    {
      "cell_type": "code",
      "source": [
        "x_mean1 = sum(interval_series[\"avg_i\"]*interval_series[\"n_i\"])/len(x)\n",
        "x_mean1"
      ],
      "metadata": {
        "colab": {
          "base_uri": "https://localhost:8080/"
        },
        "id": "zbstcGiTRwcA",
        "outputId": "549e05bf-6cdc-4090-b91d-1a616ddc2415"
      },
      "execution_count": null,
      "outputs": [
        {
          "output_type": "execute_result",
          "data": {
            "text/plain": [
              "453.6949152542373"
            ]
          },
          "metadata": {},
          "execution_count": 94
        }
      ]
    },
    {
      "cell_type": "markdown",
      "source": [
        "С некоторой погрешностью совпадает с выборочным средним по условным вариантам"
      ],
      "metadata": {
        "id": "9Bj9ryqVEUNE"
      }
    },
    {
      "cell_type": "markdown",
      "source": [
        "#### Дисперсия по стандартной формуле"
      ],
      "metadata": {
        "id": "Tb5UKVwgZa0U"
      }
    },
    {
      "cell_type": "code",
      "source": [
        "xjv = [(x-x_mean1)**2 for x in interval_series[\"avg_i\"]]\n",
        "sum(interval_series[\"p_i\"]*xjv)/N"
      ],
      "metadata": {
        "id": "eT5R62xvkc_g",
        "colab": {
          "base_uri": "https://localhost:8080/"
        },
        "outputId": "00d3196b-3ec5-4fe1-9d6e-7f1cadc47852"
      },
      "execution_count": null,
      "outputs": [
        {
          "output_type": "execute_result",
          "data": {
            "text/plain": [
              "498.79542003529366"
            ]
          },
          "metadata": {},
          "execution_count": 95
        }
      ]
    },
    {
      "cell_type": "markdown",
      "source": [
        "С некоторой погрешностью совпадает с выборочной дисперсией по условным вариантам"
      ],
      "metadata": {
        "id": "MtWb31HxHiV7"
      }
    },
    {
      "cell_type": "markdown",
      "source": [
        "### 4. Вычислим исправленную выборочную дисперсию и исправленное СКО. Сравнить данные оценки с смещёнными оценками дисперсии."
      ],
      "metadata": {
        "id": "HYdEUu-UcSfL"
      }
    },
    {
      "cell_type": "code",
      "source": [
        "np.var(x, ddof = 1) # исправленная оценка дисперсии"
      ],
      "metadata": {
        "colab": {
          "base_uri": "https://localhost:8080/"
        },
        "id": "5_MK9TQ2cPF8",
        "outputId": "76f25cbd-c026-4b14-838c-b56b2ce262ce"
      },
      "execution_count": null,
      "outputs": [
        {
          "output_type": "execute_result",
          "data": {
            "text/plain": [
              "3490.3825148486167"
            ]
          },
          "metadata": {},
          "execution_count": 96
        }
      ]
    },
    {
      "cell_type": "markdown",
      "source": [
        "Выводы: поскольку оценка исправленная следовательно её мат. ожидание будет равно искомjму значению дисперсии"
      ],
      "metadata": {
        "id": "AZyFahE5eU70"
      }
    },
    {
      "cell_type": "code",
      "source": [
        "unbaised_msd = np.sqrt(np.var(x, ddof = 1)) # среднеквадратическое отклонение исправленной дисперсии\n",
        "unbaised_msd"
      ],
      "metadata": {
        "colab": {
          "base_uri": "https://localhost:8080/"
        },
        "id": "rqg-BLmydvmX",
        "outputId": "c27479a0-fa1a-4a5e-a459-1983d6c1d625"
      },
      "execution_count": null,
      "outputs": [
        {
          "output_type": "execute_result",
          "data": {
            "text/plain": [
              "59.07945933104514"
            ]
          },
          "metadata": {},
          "execution_count": 97
        }
      ]
    },
    {
      "cell_type": "code",
      "source": [
        "np.sqrt(np.var(x)) # среднеквадратическое отклонение смещённой дисперсии"
      ],
      "metadata": {
        "colab": {
          "base_uri": "https://localhost:8080/"
        },
        "id": "tIxVkrpvfSXl",
        "outputId": "ce691319-0084-4f47-ad0e-94ffd33fc2b8"
      },
      "execution_count": null,
      "outputs": [
        {
          "output_type": "execute_result",
          "data": {
            "text/plain": [
              "58.828590005293485"
            ]
          },
          "metadata": {},
          "execution_count": 98
        }
      ]
    },
    {
      "cell_type": "markdown",
      "source": [
        "### 5. Найдём статистическую оценку коэффициентов асимметрии и эксцесса."
      ],
      "metadata": {
        "id": "EurAEc1aq_gC"
      }
    },
    {
      "cell_type": "code",
      "source": [
        "asym = m[2]/pow(unbaised_msd,3) # асимметрия\n",
        "asym"
      ],
      "metadata": {
        "colab": {
          "base_uri": "https://localhost:8080/"
        },
        "id": "AGteJf1RrMl6",
        "outputId": "6338e081-b572-4163-fcd5-328650534180"
      },
      "execution_count": null,
      "outputs": [
        {
          "output_type": "execute_result",
          "data": {
            "text/plain": [
              "-0.036057397323424716"
            ]
          },
          "metadata": {},
          "execution_count": 99
        }
      ]
    },
    {
      "cell_type": "code",
      "source": [
        "kurt = m[3]/pow(unbaised_msd,4) # Эксцес\n",
        "kurt"
      ],
      "metadata": {
        "colab": {
          "base_uri": "https://localhost:8080/"
        },
        "id": "T-W8Hq21uAH1",
        "outputId": "2ca8c828-3a08-4cc6-ce67-fbdbce9be05c"
      },
      "execution_count": null,
      "outputs": [
        {
          "output_type": "execute_result",
          "data": {
            "text/plain": [
              "0.34272700141313195"
            ]
          },
          "metadata": {},
          "execution_count": 100
        }
      ]
    },
    {
      "cell_type": "markdown",
      "source": [
        "**Выводы:** асимметрия незначительна -> распределение близко к нормальному; эксцесс также незначителен, что свидетельсвтвует о хорошем соответствии нормальному распределению"
      ],
      "metadata": {
        "id": "CnRFHQN9KEKM"
      }
    },
    {
      "cell_type": "markdown",
      "source": [
        "### 6. Для интервального ряда вычислим моду, медиану и коэффициент вариации заданного распределения."
      ],
      "metadata": {
        "id": "13f9b2hUvMXW"
      }
    },
    {
      "cell_type": "code",
      "source": [
        "left_bound_moda = 2#граница интервала, частота которого является  наибольшей\n",
        "Moda = interval_bounds[left_bound_moda] + (interval_bounds[left_bound_moda+1] - interval_bounds[left_bound_moda])*((interval_series[\"n_i\"][left_bound_moda] - interval_series[\"n_i\"][left_bound_moda - 1])/(2*interval_series[\"n_i\"][left_bound_moda] - interval_series[\"n_i\"][left_bound_moda - 1] - interval_series[\"n_i\"][left_bound_moda + 1]))\n",
        "Moda"
      ],
      "metadata": {
        "colab": {
          "base_uri": "https://localhost:8080/"
        },
        "id": "x_7XHfnouq9W",
        "outputId": "63b6974f-512a-4d67-ae5d-d8c08125e975"
      },
      "execution_count": null,
      "outputs": [
        {
          "output_type": "execute_result",
          "data": {
            "text/plain": [
              "445.0"
            ]
          },
          "metadata": {},
          "execution_count": 101
        }
      ]
    },
    {
      "cell_type": "code",
      "source": [
        "interval_bounds[left_bound_moda+1] - interval_bounds[left_bound_moda]"
      ],
      "metadata": {
        "colab": {
          "base_uri": "https://localhost:8080/"
        },
        "id": "fsf0Hjo2yOiB",
        "outputId": "b1adcb72-13b2-46dc-c799-0d60d589088e"
      },
      "execution_count": null,
      "outputs": [
        {
          "output_type": "execute_result",
          "data": {
            "text/plain": [
              "38"
            ]
          },
          "metadata": {},
          "execution_count": 102
        }
      ]
    },
    {
      "cell_type": "markdown",
      "source": [
        "Медиана интервального ряда:\n",
        "\n",
        "$M_e = x_0 + h \\cdot \\frac{\\frac{N}{2} - S_{me-1}}{n_{me}}$\n",
        "\n",
        "где $x_0$ - нижняя граница медианного интервала (интервал, накопленная частота которого превышает половину общей суммы частот)\n",
        "\n",
        "$h$ - величина медианного интервала\n",
        "\n",
        "$S_{me-1}$ - накопленная частота интервала, предшествующего медианному\n",
        "\n",
        "$n_{me}$ - частота медианного интервала\n",
        "\n",
        "$N$ - общее число единиц выборки."
      ],
      "metadata": {
        "id": "2HspZti2NOjK"
      }
    },
    {
      "cell_type": "code",
      "source": [
        "left_bound_median = int(len(interval_bounds)/2 - 1)#граница интервала, накопленная частота которого превышает половину общей суммы частот\n",
        "Mediana = interval_bounds[left_bound_median] + (n/2 - interval_series[\"n_cum_i\"][left_bound_median-1])*(interval_bounds[left_bound_median+1] - interval_bounds[left_bound_median])/interval_series[\"n_i\"][left_bound_median]\n",
        "Mediana"
      ],
      "metadata": {
        "colab": {
          "base_uri": "https://localhost:8080/"
        },
        "id": "xMjxST4SzXKm",
        "outputId": "ce35b33c-221a-4403-80f2-87c78b06773f"
      },
      "execution_count": null,
      "outputs": [
        {
          "output_type": "execute_result",
          "data": {
            "text/plain": [
              "450.2413793103448"
            ]
          },
          "metadata": {},
          "execution_count": 104
        }
      ]
    },
    {
      "cell_type": "markdown",
      "source": [
        "коэфф вариации = стандартное отклонение(СКО)/выборочное среднее"
      ],
      "metadata": {
        "id": "MAIm4Zks0MET"
      }
    },
    {
      "cell_type": "code",
      "source": [
        "CV = unbaised_msd/x_mean1\n",
        "CV"
      ],
      "metadata": {
        "colab": {
          "base_uri": "https://localhost:8080/"
        },
        "id": "fo9ORLe50XB-",
        "outputId": "fa2b4aa0-8388-4df9-b179-062f76cb8de0"
      },
      "execution_count": null,
      "outputs": [
        {
          "output_type": "execute_result",
          "data": {
            "text/plain": [
              "0.13021847357036997"
            ]
          },
          "metadata": {},
          "execution_count": 105
        }
      ]
    },
    {
      "cell_type": "markdown",
      "source": [
        "**Выводы:**\n",
        "- большее кол-во элементов выборки имеет значение около 445\n",
        "- половина кол-ва элементов выборки меньше 450, а половина больше"
      ],
      "metadata": {
        "id": "HIQkQJNjU5xP"
      }
    },
    {
      "cell_type": "markdown",
      "source": [
        "## Выводы\n",
        "\n",
        "В ходе выполнения данной лабораторной работы были выполнены вычисления точечных оценок мат.ожидания, дисперсии, коэффициентов асимметрии и эксцесса методом моментов. Корректность используемого метода моментов была проверена с помощью сравнения значений, полученных с помощью условных вариант и стандартных формул. Были вычислены мода и медиана распределения. Оценены асимметрия и эксцесс."
      ],
      "metadata": {
        "id": "25CjGQSe1JaC"
      }
    }
  ]
}