{
  "cells": [
    {
      "cell_type": "markdown",
      "metadata": {
        "id": "IZJdOGoFqH8Z"
      },
      "source": [
        "# Практическая работа №4: Элементы корреляционного анализа. Проверка статистической гипотезы о равенстве коэффициента корреляции нулю.\n",
        "\n",
        "Выполнили студенты гр. 0382 Корсунов Антон и Здобнова Ксения. Вариант №11"
      ]
    },
    {
      "cell_type": "markdown",
      "metadata": {
        "id": "SDR0aBeAqH8a"
      },
      "source": [
        "## Цель работы\n",
        "\n",
        "Освоение основных понятий, связанных с корреляционной зависимостью между случайными величинами, статистическими гипотезами и проверкой их «справедливости»."
      ]
    },
    {
      "cell_type": "markdown",
      "metadata": {
        "id": "sZ1hy2dlqH8b"
      },
      "source": [
        "## Основные теоретические положения\n",
        "\n",
        "Две случайные величины {$𝑋$;$𝑌$} независимыми:\n",
        "\n",
        "$𝑓(𝑥,𝑦)=𝑓_1(𝑥)⋅𝑓_2(𝑦)$\n",
        "\n",
        "В противном случае между ними может быть:\n",
        "\n",
        "* **Функциональная зависимость**:\n",
        "  \n",
        "  $𝑦=𝑔(𝑥)$\n",
        "\n",
        "* **Статистическая зависимость**:\n",
        "\n",
        "  $𝜑(𝑥/𝑦)=\\frac{𝑓(𝑥,𝑦)}{𝑓_2(𝑦)}$\n",
        "\n",
        "  $𝜙(𝑦/𝑥)=\\frac{𝑓(𝑥,𝑦)}{𝑓_1(𝑥)}$\n",
        "\n",
        "Частным случаем статистической зависимости является **корреляционная зависимость**. Корреляционной называют статистическую зависимость двух случайных величин, при которой изменение значения одной из случайных величин приводит к изменению математического ожидания другой случайной величины:\n",
        "\n",
        "$𝑀(𝑋/𝑦)=𝑞_1(𝑦)$\n",
        "\n",
        "$𝑀(𝑌/𝑥)=𝑞_2(𝑥)$\n",
        "\n",
        "**Корреляционный момент:**\n",
        "\n",
        "$μ_{𝑥𝑦}=𝑀{[𝑥−𝑀(𝑋)]⋅[𝑦−𝑀(𝑌)]}$\n",
        "\n",
        "\n",
        "**Коэффициент корреляции:**\n",
        "\n",
        "\n",
        "$𝑟_{𝑥𝑦}=\\frac{𝜇_{𝑥𝑦}}{𝜎_{𝑥𝜎𝑦}}$\n",
        "\n",
        "Для коэффициента корреляции справедливо соотношение:\n",
        "\n",
        "$ |𝑟_{𝑥𝑦}|≤1 $\n",
        "\n",
        "Случайные величины называют **коррелированными**, если их корреляцион-ный момент или их коэффициент корреляции отличен от нуля. В противном случае эти величины некоррелированные. Если случайные величины $𝑋$ и $𝑌$ коррелированы - то они зависимы.\n",
        "\n",
        "Коэффициент корреляции служит мерой тесноты линейной зависимости между случайными величинами $𝑋$ и $𝑌$. При $|𝑟_{𝑥𝑦}| = 1$ эта зависимость становится функциональной.\n",
        "\n",
        "Значение $𝑟̅_{𝑥𝑦}$ – статистической оценки $𝑟_{𝑥𝑦}$ – коэффициента корреляции можно вычислить по формуле:\n",
        "\n",
        "$𝑟̅_{𝑥𝑦}=  \\frac{∑^{K_{y}}_{i=1} ∑^{K_{x}}_{j=1} n_{ij}y_{i}x_{j} - 𝑁𝑥̅_B 𝑦̅_B}{𝑁𝑆_𝑥𝑆_𝑦}$\n",
        "\n",
        "Также $\\bar r_{xy}$ удобно вычислять через условные варианты:\n",
        "\n",
        "$$\\bar r_{xy} = \\frac{\\sum_{i=1}^{K_y}\\sum_{j=1}^{K_x}n_{ij}u_iv_j - N \\bar u_в \\bar v_в}{N \\bar \\sigma_u \\bar \\sigma_v}, u_i = \\frac{x_i - C_x}{h_x}, v_j = \\frac{y_j - C_y}{h_y}$$\n",
        "\n",
        "\n",
        "При $𝑁>50$ в случае нормального распределения системы случайных величин {$𝑋$;$𝑌$} для оценки значения $𝑟̅_{𝑥𝑦}$ можно использовать соотношение:\n",
        "\n",
        "$𝑟̅_{𝑥𝑦}−3 \\frac{1−𝑟̅^2_{𝑥𝑦}}{√𝑁}≤ 𝑟_{𝑥𝑦} ≤ 𝑟̅_{𝑥𝑦}+3\\frac{1+𝑟̅^2_{𝑥𝑦}}{√𝑁}$\n",
        "\n",
        "\n",
        "Для построения доверительного интервала с помощью преобразования Фишера перейдём к случайной величине $𝑧$:\n",
        "\n",
        "$𝑧̅=0.5ln \\frac{1 + 𝑟̅_{𝑥𝑦}}{1 − 𝑟̅_{𝑥𝑦}}$\n",
        "\n",
        "Распределение $𝑧$ при неограниченном возрастании объёма выборки асимптотически нормальное со значением СКО:\n",
        "\n",
        "$𝜎̅_𝑧=\\frac{1}{√𝑁−3}$\n",
        "\n",
        "Доверительный интервал для генерального значения:\n",
        "\n",
        "$(𝑧̅−𝜆(𝛾)𝜎̅_𝑧; 𝑧̅+𝜆(𝛾)𝜎̅_𝑧)$,где $Φ(𝜆(𝛾))=\\frac{𝛾}{2}$\n",
        "\n",
        "Для пересчёта интервала в доверительный интервал для коэффициента корреляции с тем же значением $𝛾$ необходимо воспользоваться обратным преобразованием Фишера:\n",
        "\n",
        "$𝑟=𝑡ℎ(𝑧)=\\frac{𝑒^𝑧−𝑒^{−𝑧}}{𝑒^𝑧+𝑒^{−𝑧}} = \\frac{𝑒^{2𝑧}−1}{𝑒^{2𝑧}+1}$\n",
        "\n",
        "Гипотеза $𝐻_0:𝑟_{𝑥𝑦}=0$. Альтернативой будет гипотеза $𝐻_1:𝑟_{𝑥𝑦}≠0$. Если основная гипотеза отвергается, то это означает, что выборочный коэффициент корреляции $𝑟̅_𝑥𝑦$ значимо отличается от нуля (значим). В качестве критерия проверки статистической гипотезы о значимости выборочного коэффициента корреляции можно принять случайную величину:\n",
        "\n",
        "$𝑇=\\frac{𝑟̅_{𝑥𝑦} \\sqrt{𝑁−2}}{\\sqrt {1−𝑟̅^2_{𝑥𝑦}}}$\n",
        "\n",
        "При справедливости нулевой гипотезы случайная величина $𝑇$ распределена по закону Стьюдента с $𝑘=𝐾−2$ степенями свободы. Критическая область для данного критерия двусторонняя. Если $|𝑇_{набл}|≤𝑡_{крит}(𝛼,𝑘)$ – нет оснований отвергать гипотезу $𝐻_0$. Если $|𝑇_{набл}|> 𝑡_{крит}(𝛼,𝑘)$ – основная гипотеза $𝐻_0$ с выборочными данными должна быть отвергнута."
      ]
    },
    {
      "cell_type": "markdown",
      "metadata": {
        "id": "U6P8ZJqRqH8b"
      },
      "source": [
        "## Постановка задачи\n",
        "\n",
        "Из заданной генеральной совокупности сформировать выборку по второму признаку. Провести статистическую обработку второй выборки в объёме практических работ №1 и №2, с целью определения точечных статистических оценок параметров распределения исследуемого признака (математического ожидания, дисперсии, среднеквадратичного отклонения, асимметрии, эксцесса и коэффициента вариации). Для системы двух случайных величин\n",
        "X\n",
        " (первый признак) и\n",
        "Y\n",
        " (второй признак) сформировать двумерную выборку и найти статистическую оценку коэффициента корреляции, построить доверительный интервал для коэффициента корреляции и осуществить проверку статистической гипотезы о равенстве коэффициента корреляции нулю. Полученные результаты содержательно проинтерпретировать."
      ]
    },
    {
      "cell_type": "markdown",
      "metadata": {
        "id": "numioZyzqH8b"
      },
      "source": [
        "## Выполнение работы\n"
      ]
    },
    {
      "cell_type": "markdown",
      "source": [
        "Были импортированы библиотеки для работы с данными:"
      ],
      "metadata": {
        "id": "Tt5RWyBDWhk9"
      }
    },
    {
      "cell_type": "code",
      "source": [
        "import pandas as pd\n",
        "import io\n",
        "import math\n",
        "from prettytable import PrettyTable\n",
        "from google.colab import files\n",
        "from matplotlib.patches import Polygon\n",
        "import matplotlib.pyplot as plt\n",
        "import numpy as np"
      ],
      "metadata": {
        "id": "kTu3jNyYWlAu"
      },
      "execution_count": null,
      "outputs": []
    },
    {
      "cell_type": "markdown",
      "source": [
        "Была загружена двумерная генеральная совокупность:"
      ],
      "metadata": {
        "id": "DdXNj5qgWhVC"
      }
    },
    {
      "cell_type": "code",
      "source": [
        "uploaded = files.upload() # загрузка файла формата \"csv\",\n",
        "#содержащего генеральную совокупность\n",
        "filename = next(iter(uploaded))\n",
        "data = pd.read_csv(io.StringIO(uploaded[filename].decode('utf-8')))"
      ],
      "metadata": {
        "id": "_Wmait7GWpMI",
        "colab": {
          "base_uri": "https://localhost:8080/",
          "height": 73
        },
        "outputId": "a6a4955c-1101-45f3-9c6c-0d5cf1a1decc"
      },
      "execution_count": null,
      "outputs": [
        {
          "output_type": "display_data",
          "data": {
            "text/plain": [
              "<IPython.core.display.HTML object>"
            ],
            "text/html": [
              "\n",
              "     <input type=\"file\" id=\"files-ec56c1c0-b7b4-4828-9abe-61aefa4aae28\" name=\"files[]\" multiple disabled\n",
              "        style=\"border:none\" />\n",
              "     <output id=\"result-ec56c1c0-b7b4-4828-9abe-61aefa4aae28\">\n",
              "      Upload widget is only available when the cell has been executed in the\n",
              "      current browser session. Please rerun this cell to enable.\n",
              "      </output>\n",
              "      <script>// Copyright 2017 Google LLC\n",
              "//\n",
              "// Licensed under the Apache License, Version 2.0 (the \"License\");\n",
              "// you may not use this file except in compliance with the License.\n",
              "// You may obtain a copy of the License at\n",
              "//\n",
              "//      http://www.apache.org/licenses/LICENSE-2.0\n",
              "//\n",
              "// Unless required by applicable law or agreed to in writing, software\n",
              "// distributed under the License is distributed on an \"AS IS\" BASIS,\n",
              "// WITHOUT WARRANTIES OR CONDITIONS OF ANY KIND, either express or implied.\n",
              "// See the License for the specific language governing permissions and\n",
              "// limitations under the License.\n",
              "\n",
              "/**\n",
              " * @fileoverview Helpers for google.colab Python module.\n",
              " */\n",
              "(function(scope) {\n",
              "function span(text, styleAttributes = {}) {\n",
              "  const element = document.createElement('span');\n",
              "  element.textContent = text;\n",
              "  for (const key of Object.keys(styleAttributes)) {\n",
              "    element.style[key] = styleAttributes[key];\n",
              "  }\n",
              "  return element;\n",
              "}\n",
              "\n",
              "// Max number of bytes which will be uploaded at a time.\n",
              "const MAX_PAYLOAD_SIZE = 100 * 1024;\n",
              "\n",
              "function _uploadFiles(inputId, outputId) {\n",
              "  const steps = uploadFilesStep(inputId, outputId);\n",
              "  const outputElement = document.getElementById(outputId);\n",
              "  // Cache steps on the outputElement to make it available for the next call\n",
              "  // to uploadFilesContinue from Python.\n",
              "  outputElement.steps = steps;\n",
              "\n",
              "  return _uploadFilesContinue(outputId);\n",
              "}\n",
              "\n",
              "// This is roughly an async generator (not supported in the browser yet),\n",
              "// where there are multiple asynchronous steps and the Python side is going\n",
              "// to poll for completion of each step.\n",
              "// This uses a Promise to block the python side on completion of each step,\n",
              "// then passes the result of the previous step as the input to the next step.\n",
              "function _uploadFilesContinue(outputId) {\n",
              "  const outputElement = document.getElementById(outputId);\n",
              "  const steps = outputElement.steps;\n",
              "\n",
              "  const next = steps.next(outputElement.lastPromiseValue);\n",
              "  return Promise.resolve(next.value.promise).then((value) => {\n",
              "    // Cache the last promise value to make it available to the next\n",
              "    // step of the generator.\n",
              "    outputElement.lastPromiseValue = value;\n",
              "    return next.value.response;\n",
              "  });\n",
              "}\n",
              "\n",
              "/**\n",
              " * Generator function which is called between each async step of the upload\n",
              " * process.\n",
              " * @param {string} inputId Element ID of the input file picker element.\n",
              " * @param {string} outputId Element ID of the output display.\n",
              " * @return {!Iterable<!Object>} Iterable of next steps.\n",
              " */\n",
              "function* uploadFilesStep(inputId, outputId) {\n",
              "  const inputElement = document.getElementById(inputId);\n",
              "  inputElement.disabled = false;\n",
              "\n",
              "  const outputElement = document.getElementById(outputId);\n",
              "  outputElement.innerHTML = '';\n",
              "\n",
              "  const pickedPromise = new Promise((resolve) => {\n",
              "    inputElement.addEventListener('change', (e) => {\n",
              "      resolve(e.target.files);\n",
              "    });\n",
              "  });\n",
              "\n",
              "  const cancel = document.createElement('button');\n",
              "  inputElement.parentElement.appendChild(cancel);\n",
              "  cancel.textContent = 'Cancel upload';\n",
              "  const cancelPromise = new Promise((resolve) => {\n",
              "    cancel.onclick = () => {\n",
              "      resolve(null);\n",
              "    };\n",
              "  });\n",
              "\n",
              "  // Wait for the user to pick the files.\n",
              "  const files = yield {\n",
              "    promise: Promise.race([pickedPromise, cancelPromise]),\n",
              "    response: {\n",
              "      action: 'starting',\n",
              "    }\n",
              "  };\n",
              "\n",
              "  cancel.remove();\n",
              "\n",
              "  // Disable the input element since further picks are not allowed.\n",
              "  inputElement.disabled = true;\n",
              "\n",
              "  if (!files) {\n",
              "    return {\n",
              "      response: {\n",
              "        action: 'complete',\n",
              "      }\n",
              "    };\n",
              "  }\n",
              "\n",
              "  for (const file of files) {\n",
              "    const li = document.createElement('li');\n",
              "    li.append(span(file.name, {fontWeight: 'bold'}));\n",
              "    li.append(span(\n",
              "        `(${file.type || 'n/a'}) - ${file.size} bytes, ` +\n",
              "        `last modified: ${\n",
              "            file.lastModifiedDate ? file.lastModifiedDate.toLocaleDateString() :\n",
              "                                    'n/a'} - `));\n",
              "    const percent = span('0% done');\n",
              "    li.appendChild(percent);\n",
              "\n",
              "    outputElement.appendChild(li);\n",
              "\n",
              "    const fileDataPromise = new Promise((resolve) => {\n",
              "      const reader = new FileReader();\n",
              "      reader.onload = (e) => {\n",
              "        resolve(e.target.result);\n",
              "      };\n",
              "      reader.readAsArrayBuffer(file);\n",
              "    });\n",
              "    // Wait for the data to be ready.\n",
              "    let fileData = yield {\n",
              "      promise: fileDataPromise,\n",
              "      response: {\n",
              "        action: 'continue',\n",
              "      }\n",
              "    };\n",
              "\n",
              "    // Use a chunked sending to avoid message size limits. See b/62115660.\n",
              "    let position = 0;\n",
              "    do {\n",
              "      const length = Math.min(fileData.byteLength - position, MAX_PAYLOAD_SIZE);\n",
              "      const chunk = new Uint8Array(fileData, position, length);\n",
              "      position += length;\n",
              "\n",
              "      const base64 = btoa(String.fromCharCode.apply(null, chunk));\n",
              "      yield {\n",
              "        response: {\n",
              "          action: 'append',\n",
              "          file: file.name,\n",
              "          data: base64,\n",
              "        },\n",
              "      };\n",
              "\n",
              "      let percentDone = fileData.byteLength === 0 ?\n",
              "          100 :\n",
              "          Math.round((position / fileData.byteLength) * 100);\n",
              "      percent.textContent = `${percentDone}% done`;\n",
              "\n",
              "    } while (position < fileData.byteLength);\n",
              "  }\n",
              "\n",
              "  // All done.\n",
              "  yield {\n",
              "    response: {\n",
              "      action: 'complete',\n",
              "    }\n",
              "  };\n",
              "}\n",
              "\n",
              "scope.google = scope.google || {};\n",
              "scope.google.colab = scope.google.colab || {};\n",
              "scope.google.colab._files = {\n",
              "  _uploadFiles,\n",
              "  _uploadFilesContinue,\n",
              "};\n",
              "})(self);\n",
              "</script> "
            ]
          },
          "metadata": {}
        },
        {
          "output_type": "stream",
          "name": "stdout",
          "text": [
            "Saving interval2.csv to interval2 (1).csv\n"
          ]
        }
      ]
    },
    {
      "cell_type": "markdown",
      "source": [
        "**Пункт 1**\n",
        "\n",
        "**Провести статистическую обработку второй выборки в объеме практических работ №1 и №2, с целью определения точечных статистических оценок параметров распределения исследуемого признака (математического ожидания, дисперсии, среднеквадратичного отклонения, асимметрии, эксцесса, моды, медианы и коэффициента вариации). Оформить результаты в виде таблицы, сделать выводы.**"
      ],
      "metadata": {
        "id": "eJ0MNak27yHo"
      }
    },
    {
      "cell_type": "markdown",
      "source": [
        "Был получен интервальный ряд, для которого были посчитаны середины интервалов:"
      ],
      "metadata": {
        "id": "YokpizQVVYph"
      }
    },
    {
      "cell_type": "code",
      "source": [
        "import math #подключение библиотек\n",
        "from prettytable import PrettyTable\n",
        "\n",
        "test = [2, 7, 9, 9, 14, 16, 16, 19, 20, 20, 21, 22, 23, 26, 26, 28, 28, 28, 30, 31, 32,\n",
        " 32, 32, 33, 35, 35, 35, 36, 36, 36, 37, 37, 38, 39, 39, 40, 40, 41, 43, 44, 44,\n",
        " 44, 44, 45, 48, 49, 50, 50, 51, 51, 51, 52, 53, 53, 53, 57, 57, 58, 59, 59, 60,\n",
        " 62, 63, 63, 63, 64, 66, 66, 66, 66, 68, 68, 69, 69, 71, 74, 75, 76, 76, 77, 79,\n",
        " 80, 80, 81, 85, 85, 88, 88, 88, 90, 90, 92, 92, 94, 96, 99, 101, 104, 104, 110,\n",
        " 111, 114, 121, 124, 126, 132, 138, 144]\n",
        "\n",
        "freq = []\n",
        "temp = test[0]\n",
        "count = 1\n",
        "\n",
        "\n",
        "for i in range(1, len(test)):\n",
        "  if temp == test[i]:\n",
        "    count += 1\n",
        "  else:\n",
        "    temp = test[i]\n",
        "    freq.append([test[i-1], count])\n",
        "    count = 1\n",
        "    if i == (len(test)-1):\n",
        "      freq.append([test[i], count])\n",
        "\n",
        "test = [0] * 9\n",
        "\n",
        "for i in freq:\n",
        "  if 2.0 <= i[0] and i[0] < 17.77777777777778:\n",
        "    test[0] += i[1]\n",
        "  if 17.77777777777778 <= i[0] and i[0] < 33.55555555555556:\n",
        "    test[1] += i[1]\n",
        "  if 33.55555555555556 <= i[0] and i[0] < 49.333333333333336:\n",
        "    test[2] += i[1]\n",
        "  if 49.333333333333336 <= i[0] and i[0] < 65.11111111111111:\n",
        "    test[3] += i[1]\n",
        "  if 65.11111111111111 <= i[0] and i[0] < 80.88888888888889:\n",
        "    test[4] += i[1]\n",
        "  if 80.88888888888889 <= i[0] and i[0] < 96.66666666666667:\n",
        "    test[5] += i[1]\n",
        "  if 96.66666666666667 <= i[0] and i[0] < 112.44444444444446:\n",
        "    test[6] += i[1]\n",
        "  if 112.44444444444446 <= i[0] and i[0] < 128.22222222222223:\n",
        "    test[7] += i[1]\n",
        "  if 128.22222222222223 <= i[0] and i[0] <= 144.0:\n",
        "    test[8] += i[1]\n",
        "\n",
        "new_test = []\n",
        "\n",
        "for i in test:\n",
        "  new_test.append(i / 108)\n",
        "\n",
        "myTable = PrettyTable([\"Границы интервалов\", \"Середины интервалов\",\n",
        "        \"Частота попадания в интервал\", \"Относительная частота\"])\n",
        "\n",
        "myTable.add_row(['[2.0, 17.77777777777778)', '9.88888888888889', '7', '0.06481481481481481'])\n",
        "myTable.add_row(['[17.77777777777778, 33.55555555555556)', '25.666666666666668',\n",
        "                 '17', '0.1574074074074074'])\n",
        "myTable.add_row(['[33.55555555555556, 49.333333333333336)', '41.44444444444444',\n",
        "                 '22', '0.2037037037037037'])\n",
        "myTable.add_row(['[49.333333333333336, 65.11111111111111)', '57.22222222222223',\n",
        "                 '20', '0.18518518518518517'])\n",
        "myTable.add_row(['[65.11111111111111, 80.88888888888889)', '73.0',\n",
        "                 '17', '0.1574074074074074'])\n",
        "myTable.add_row(['[80.88888888888889, 96.66666666666667)', '88.77777777777777',\n",
        "                 '12', '0.1111111111111111'])\n",
        "myTable.add_row(['[96.66666666666667, 112.44444444444446)', '104.55555555555557',\n",
        "                 '6', '0.05555555555555555'])\n",
        "myTable.add_row(['[112.44444444444446, 128.22222222222223)', '120.33333333333334',\n",
        "                 '4', '0.037037037037037035'])\n",
        "myTable.add_row([' [128.22222222222223, 144.0]', '136.11111111111111',\n",
        "                 '3', '0.027777777777777776'])\n",
        "\n",
        "\n",
        "\n",
        "\n",
        "print(myTable)"
      ],
      "metadata": {
        "colab": {
          "base_uri": "https://localhost:8080/"
        },
        "id": "1bTy13AZU-b7",
        "outputId": "c85c626d-d415-448f-e052-74b275c05b5d"
      },
      "execution_count": null,
      "outputs": [
        {
          "output_type": "stream",
          "name": "stdout",
          "text": [
            "+------------------------------------------+---------------------+------------------------------+-----------------------+\n",
            "|            Границы интервалов            | Середины интервалов | Частота попадания в интервал | Относительная частота |\n",
            "+------------------------------------------+---------------------+------------------------------+-----------------------+\n",
            "|         [2.0, 17.77777777777778)         |   9.88888888888889  |              7               |  0.06481481481481481  |\n",
            "|  [17.77777777777778, 33.55555555555556)  |  25.666666666666668 |              17              |   0.1574074074074074  |\n",
            "| [33.55555555555556, 49.333333333333336)  |  41.44444444444444  |              22              |   0.2037037037037037  |\n",
            "| [49.333333333333336, 65.11111111111111)  |  57.22222222222223  |              20              |  0.18518518518518517  |\n",
            "|  [65.11111111111111, 80.88888888888889)  |         73.0        |              17              |   0.1574074074074074  |\n",
            "|  [80.88888888888889, 96.66666666666667)  |  88.77777777777777  |              12              |   0.1111111111111111  |\n",
            "| [96.66666666666667, 112.44444444444446)  |  104.55555555555557 |              6               |  0.05555555555555555  |\n",
            "| [112.44444444444446, 128.22222222222223) |  120.33333333333334 |              4               |  0.037037037037037035 |\n",
            "|        [128.22222222222223, 144.0]       |  136.11111111111111 |              3               |  0.027777777777777776 |\n",
            "+------------------------------------------+---------------------+------------------------------+-----------------------+\n"
          ]
        }
      ]
    },
    {
      "cell_type": "code",
      "source": [
        "int_row = pd.read_csv('interval2.csv')\n",
        "\n",
        "usl_table = int_row.copy()\n",
        "usl_table = usl_table.iloc[:, [1,3]]\n",
        "usl_table['u'] = np.arange(-4,5,1)\n",
        "usl_table['nu'] = usl_table['rf']*usl_table['u']\n",
        "usl_table['nu2'] = usl_table['rf']*pow(usl_table['u'], 2)\n",
        "usl_table['nu3'] = usl_table['rf']*pow(usl_table['u'], 3)\n",
        "usl_table['nu4'] = usl_table['rf']*pow(usl_table['u'], 4)\n",
        "usl_table['nu4+'] = usl_table['rf']*pow(usl_table['u']+1, 4)\n",
        "usl_table_f = usl_table.append(usl_table.sum(), ignore_index=True)\n",
        "usl_table_f"
      ],
      "metadata": {
        "colab": {
          "base_uri": "https://localhost:8080/",
          "height": 398
        },
        "id": "brAgGWtKWnCG",
        "outputId": "68dadafe-a731-44d0-c6d4-a90734661226"
      },
      "execution_count": null,
      "outputs": [
        {
          "output_type": "stream",
          "name": "stderr",
          "text": [
            "<ipython-input-7-b62d502c4afa>:11: FutureWarning: The frame.append method is deprecated and will be removed from pandas in a future version. Use pandas.concat instead.\n",
            "  usl_table_f = usl_table.append(usl_table.sum(), ignore_index=True)\n"
          ]
        },
        {
          "output_type": "execute_result",
          "data": {
            "text/plain": [
              "    avg_inter        rf    u        nu       nu2       nu3        nu4  \\\n",
              "0    9.888889  0.064815 -4.0 -0.259259  1.037037 -4.148148  16.592593   \n",
              "1   25.666667  0.157407 -3.0 -0.472222  1.416667 -4.250000  12.750000   \n",
              "2   41.444444  0.194444 -2.0 -0.388889  0.777778 -1.555556   3.111111   \n",
              "3   57.222222  0.185185 -1.0 -0.185185  0.185185 -0.185185   0.185185   \n",
              "4   73.000000  0.157407  0.0  0.000000  0.000000  0.000000   0.000000   \n",
              "5   88.777778  0.120370  1.0  0.120370  0.120370  0.120370   0.120370   \n",
              "6  104.555556  0.055556  2.0  0.111111  0.222222  0.444444   0.888889   \n",
              "7  120.333333  0.037037  3.0  0.111111  0.333333  1.000000   3.000000   \n",
              "8  136.111111  0.027778  4.0  0.111111  0.444444  1.777778   7.111111   \n",
              "9  657.000000  1.000000  0.0 -0.851852  4.537037 -6.796296  43.759259   \n",
              "\n",
              "        nu4+  \n",
              "0   5.250000  \n",
              "1   2.518519  \n",
              "2   0.194444  \n",
              "3   0.000000  \n",
              "4   0.157407  \n",
              "5   1.925926  \n",
              "6   4.500000  \n",
              "7   9.481481  \n",
              "8  17.361111  \n",
              "9  41.388889  "
            ],
            "text/html": [
              "\n",
              "  <div id=\"df-0d5f374c-99ee-4716-aeee-205983615408\" class=\"colab-df-container\">\n",
              "    <div>\n",
              "<style scoped>\n",
              "    .dataframe tbody tr th:only-of-type {\n",
              "        vertical-align: middle;\n",
              "    }\n",
              "\n",
              "    .dataframe tbody tr th {\n",
              "        vertical-align: top;\n",
              "    }\n",
              "\n",
              "    .dataframe thead th {\n",
              "        text-align: right;\n",
              "    }\n",
              "</style>\n",
              "<table border=\"1\" class=\"dataframe\">\n",
              "  <thead>\n",
              "    <tr style=\"text-align: right;\">\n",
              "      <th></th>\n",
              "      <th>avg_inter</th>\n",
              "      <th>rf</th>\n",
              "      <th>u</th>\n",
              "      <th>nu</th>\n",
              "      <th>nu2</th>\n",
              "      <th>nu3</th>\n",
              "      <th>nu4</th>\n",
              "      <th>nu4+</th>\n",
              "    </tr>\n",
              "  </thead>\n",
              "  <tbody>\n",
              "    <tr>\n",
              "      <th>0</th>\n",
              "      <td>9.888889</td>\n",
              "      <td>0.064815</td>\n",
              "      <td>-4.0</td>\n",
              "      <td>-0.259259</td>\n",
              "      <td>1.037037</td>\n",
              "      <td>-4.148148</td>\n",
              "      <td>16.592593</td>\n",
              "      <td>5.250000</td>\n",
              "    </tr>\n",
              "    <tr>\n",
              "      <th>1</th>\n",
              "      <td>25.666667</td>\n",
              "      <td>0.157407</td>\n",
              "      <td>-3.0</td>\n",
              "      <td>-0.472222</td>\n",
              "      <td>1.416667</td>\n",
              "      <td>-4.250000</td>\n",
              "      <td>12.750000</td>\n",
              "      <td>2.518519</td>\n",
              "    </tr>\n",
              "    <tr>\n",
              "      <th>2</th>\n",
              "      <td>41.444444</td>\n",
              "      <td>0.194444</td>\n",
              "      <td>-2.0</td>\n",
              "      <td>-0.388889</td>\n",
              "      <td>0.777778</td>\n",
              "      <td>-1.555556</td>\n",
              "      <td>3.111111</td>\n",
              "      <td>0.194444</td>\n",
              "    </tr>\n",
              "    <tr>\n",
              "      <th>3</th>\n",
              "      <td>57.222222</td>\n",
              "      <td>0.185185</td>\n",
              "      <td>-1.0</td>\n",
              "      <td>-0.185185</td>\n",
              "      <td>0.185185</td>\n",
              "      <td>-0.185185</td>\n",
              "      <td>0.185185</td>\n",
              "      <td>0.000000</td>\n",
              "    </tr>\n",
              "    <tr>\n",
              "      <th>4</th>\n",
              "      <td>73.000000</td>\n",
              "      <td>0.157407</td>\n",
              "      <td>0.0</td>\n",
              "      <td>0.000000</td>\n",
              "      <td>0.000000</td>\n",
              "      <td>0.000000</td>\n",
              "      <td>0.000000</td>\n",
              "      <td>0.157407</td>\n",
              "    </tr>\n",
              "    <tr>\n",
              "      <th>5</th>\n",
              "      <td>88.777778</td>\n",
              "      <td>0.120370</td>\n",
              "      <td>1.0</td>\n",
              "      <td>0.120370</td>\n",
              "      <td>0.120370</td>\n",
              "      <td>0.120370</td>\n",
              "      <td>0.120370</td>\n",
              "      <td>1.925926</td>\n",
              "    </tr>\n",
              "    <tr>\n",
              "      <th>6</th>\n",
              "      <td>104.555556</td>\n",
              "      <td>0.055556</td>\n",
              "      <td>2.0</td>\n",
              "      <td>0.111111</td>\n",
              "      <td>0.222222</td>\n",
              "      <td>0.444444</td>\n",
              "      <td>0.888889</td>\n",
              "      <td>4.500000</td>\n",
              "    </tr>\n",
              "    <tr>\n",
              "      <th>7</th>\n",
              "      <td>120.333333</td>\n",
              "      <td>0.037037</td>\n",
              "      <td>3.0</td>\n",
              "      <td>0.111111</td>\n",
              "      <td>0.333333</td>\n",
              "      <td>1.000000</td>\n",
              "      <td>3.000000</td>\n",
              "      <td>9.481481</td>\n",
              "    </tr>\n",
              "    <tr>\n",
              "      <th>8</th>\n",
              "      <td>136.111111</td>\n",
              "      <td>0.027778</td>\n",
              "      <td>4.0</td>\n",
              "      <td>0.111111</td>\n",
              "      <td>0.444444</td>\n",
              "      <td>1.777778</td>\n",
              "      <td>7.111111</td>\n",
              "      <td>17.361111</td>\n",
              "    </tr>\n",
              "    <tr>\n",
              "      <th>9</th>\n",
              "      <td>657.000000</td>\n",
              "      <td>1.000000</td>\n",
              "      <td>0.0</td>\n",
              "      <td>-0.851852</td>\n",
              "      <td>4.537037</td>\n",
              "      <td>-6.796296</td>\n",
              "      <td>43.759259</td>\n",
              "      <td>41.388889</td>\n",
              "    </tr>\n",
              "  </tbody>\n",
              "</table>\n",
              "</div>\n",
              "    <div class=\"colab-df-buttons\">\n",
              "\n",
              "  <div class=\"colab-df-container\">\n",
              "    <button class=\"colab-df-convert\" onclick=\"convertToInteractive('df-0d5f374c-99ee-4716-aeee-205983615408')\"\n",
              "            title=\"Convert this dataframe to an interactive table.\"\n",
              "            style=\"display:none;\">\n",
              "\n",
              "  <svg xmlns=\"http://www.w3.org/2000/svg\" height=\"24px\" viewBox=\"0 -960 960 960\">\n",
              "    <path d=\"M120-120v-720h720v720H120Zm60-500h600v-160H180v160Zm220 220h160v-160H400v160Zm0 220h160v-160H400v160ZM180-400h160v-160H180v160Zm440 0h160v-160H620v160ZM180-180h160v-160H180v160Zm440 0h160v-160H620v160Z\"/>\n",
              "  </svg>\n",
              "    </button>\n",
              "\n",
              "  <style>\n",
              "    .colab-df-container {\n",
              "      display:flex;\n",
              "      gap: 12px;\n",
              "    }\n",
              "\n",
              "    .colab-df-convert {\n",
              "      background-color: #E8F0FE;\n",
              "      border: none;\n",
              "      border-radius: 50%;\n",
              "      cursor: pointer;\n",
              "      display: none;\n",
              "      fill: #1967D2;\n",
              "      height: 32px;\n",
              "      padding: 0 0 0 0;\n",
              "      width: 32px;\n",
              "    }\n",
              "\n",
              "    .colab-df-convert:hover {\n",
              "      background-color: #E2EBFA;\n",
              "      box-shadow: 0px 1px 2px rgba(60, 64, 67, 0.3), 0px 1px 3px 1px rgba(60, 64, 67, 0.15);\n",
              "      fill: #174EA6;\n",
              "    }\n",
              "\n",
              "    .colab-df-buttons div {\n",
              "      margin-bottom: 4px;\n",
              "    }\n",
              "\n",
              "    [theme=dark] .colab-df-convert {\n",
              "      background-color: #3B4455;\n",
              "      fill: #D2E3FC;\n",
              "    }\n",
              "\n",
              "    [theme=dark] .colab-df-convert:hover {\n",
              "      background-color: #434B5C;\n",
              "      box-shadow: 0px 1px 3px 1px rgba(0, 0, 0, 0.15);\n",
              "      filter: drop-shadow(0px 1px 2px rgba(0, 0, 0, 0.3));\n",
              "      fill: #FFFFFF;\n",
              "    }\n",
              "  </style>\n",
              "\n",
              "    <script>\n",
              "      const buttonEl =\n",
              "        document.querySelector('#df-0d5f374c-99ee-4716-aeee-205983615408 button.colab-df-convert');\n",
              "      buttonEl.style.display =\n",
              "        google.colab.kernel.accessAllowed ? 'block' : 'none';\n",
              "\n",
              "      async function convertToInteractive(key) {\n",
              "        const element = document.querySelector('#df-0d5f374c-99ee-4716-aeee-205983615408');\n",
              "        const dataTable =\n",
              "          await google.colab.kernel.invokeFunction('convertToInteractive',\n",
              "                                                    [key], {});\n",
              "        if (!dataTable) return;\n",
              "\n",
              "        const docLinkHtml = 'Like what you see? Visit the ' +\n",
              "          '<a target=\"_blank\" href=https://colab.research.google.com/notebooks/data_table.ipynb>data table notebook</a>'\n",
              "          + ' to learn more about interactive tables.';\n",
              "        element.innerHTML = '';\n",
              "        dataTable['output_type'] = 'display_data';\n",
              "        await google.colab.output.renderOutput(dataTable, element);\n",
              "        const docLink = document.createElement('div');\n",
              "        docLink.innerHTML = docLinkHtml;\n",
              "        element.appendChild(docLink);\n",
              "      }\n",
              "    </script>\n",
              "  </div>\n",
              "\n",
              "\n",
              "<div id=\"df-5c711344-1c16-4aea-98b1-976d9b218c30\">\n",
              "  <button class=\"colab-df-quickchart\" onclick=\"quickchart('df-5c711344-1c16-4aea-98b1-976d9b218c30')\"\n",
              "            title=\"Suggest charts\"\n",
              "            style=\"display:none;\">\n",
              "\n",
              "<svg xmlns=\"http://www.w3.org/2000/svg\" height=\"24px\"viewBox=\"0 0 24 24\"\n",
              "     width=\"24px\">\n",
              "    <g>\n",
              "        <path d=\"M19 3H5c-1.1 0-2 .9-2 2v14c0 1.1.9 2 2 2h14c1.1 0 2-.9 2-2V5c0-1.1-.9-2-2-2zM9 17H7v-7h2v7zm4 0h-2V7h2v10zm4 0h-2v-4h2v4z\"/>\n",
              "    </g>\n",
              "</svg>\n",
              "  </button>\n",
              "\n",
              "<style>\n",
              "  .colab-df-quickchart {\n",
              "      --bg-color: #E8F0FE;\n",
              "      --fill-color: #1967D2;\n",
              "      --hover-bg-color: #E2EBFA;\n",
              "      --hover-fill-color: #174EA6;\n",
              "      --disabled-fill-color: #AAA;\n",
              "      --disabled-bg-color: #DDD;\n",
              "  }\n",
              "\n",
              "  [theme=dark] .colab-df-quickchart {\n",
              "      --bg-color: #3B4455;\n",
              "      --fill-color: #D2E3FC;\n",
              "      --hover-bg-color: #434B5C;\n",
              "      --hover-fill-color: #FFFFFF;\n",
              "      --disabled-bg-color: #3B4455;\n",
              "      --disabled-fill-color: #666;\n",
              "  }\n",
              "\n",
              "  .colab-df-quickchart {\n",
              "    background-color: var(--bg-color);\n",
              "    border: none;\n",
              "    border-radius: 50%;\n",
              "    cursor: pointer;\n",
              "    display: none;\n",
              "    fill: var(--fill-color);\n",
              "    height: 32px;\n",
              "    padding: 0;\n",
              "    width: 32px;\n",
              "  }\n",
              "\n",
              "  .colab-df-quickchart:hover {\n",
              "    background-color: var(--hover-bg-color);\n",
              "    box-shadow: 0 1px 2px rgba(60, 64, 67, 0.3), 0 1px 3px 1px rgba(60, 64, 67, 0.15);\n",
              "    fill: var(--button-hover-fill-color);\n",
              "  }\n",
              "\n",
              "  .colab-df-quickchart-complete:disabled,\n",
              "  .colab-df-quickchart-complete:disabled:hover {\n",
              "    background-color: var(--disabled-bg-color);\n",
              "    fill: var(--disabled-fill-color);\n",
              "    box-shadow: none;\n",
              "  }\n",
              "\n",
              "  .colab-df-spinner {\n",
              "    border: 2px solid var(--fill-color);\n",
              "    border-color: transparent;\n",
              "    border-bottom-color: var(--fill-color);\n",
              "    animation:\n",
              "      spin 1s steps(1) infinite;\n",
              "  }\n",
              "\n",
              "  @keyframes spin {\n",
              "    0% {\n",
              "      border-color: transparent;\n",
              "      border-bottom-color: var(--fill-color);\n",
              "      border-left-color: var(--fill-color);\n",
              "    }\n",
              "    20% {\n",
              "      border-color: transparent;\n",
              "      border-left-color: var(--fill-color);\n",
              "      border-top-color: var(--fill-color);\n",
              "    }\n",
              "    30% {\n",
              "      border-color: transparent;\n",
              "      border-left-color: var(--fill-color);\n",
              "      border-top-color: var(--fill-color);\n",
              "      border-right-color: var(--fill-color);\n",
              "    }\n",
              "    40% {\n",
              "      border-color: transparent;\n",
              "      border-right-color: var(--fill-color);\n",
              "      border-top-color: var(--fill-color);\n",
              "    }\n",
              "    60% {\n",
              "      border-color: transparent;\n",
              "      border-right-color: var(--fill-color);\n",
              "    }\n",
              "    80% {\n",
              "      border-color: transparent;\n",
              "      border-right-color: var(--fill-color);\n",
              "      border-bottom-color: var(--fill-color);\n",
              "    }\n",
              "    90% {\n",
              "      border-color: transparent;\n",
              "      border-bottom-color: var(--fill-color);\n",
              "    }\n",
              "  }\n",
              "</style>\n",
              "\n",
              "  <script>\n",
              "    async function quickchart(key) {\n",
              "      const quickchartButtonEl =\n",
              "        document.querySelector('#' + key + ' button');\n",
              "      quickchartButtonEl.disabled = true;  // To prevent multiple clicks.\n",
              "      quickchartButtonEl.classList.add('colab-df-spinner');\n",
              "      try {\n",
              "        const charts = await google.colab.kernel.invokeFunction(\n",
              "            'suggestCharts', [key], {});\n",
              "      } catch (error) {\n",
              "        console.error('Error during call to suggestCharts:', error);\n",
              "      }\n",
              "      quickchartButtonEl.classList.remove('colab-df-spinner');\n",
              "      quickchartButtonEl.classList.add('colab-df-quickchart-complete');\n",
              "    }\n",
              "    (() => {\n",
              "      let quickchartButtonEl =\n",
              "        document.querySelector('#df-5c711344-1c16-4aea-98b1-976d9b218c30 button');\n",
              "      quickchartButtonEl.style.display =\n",
              "        google.colab.kernel.accessAllowed ? 'block' : 'none';\n",
              "    })();\n",
              "  </script>\n",
              "</div>\n",
              "    </div>\n",
              "  </div>\n"
            ],
            "application/vnd.google.colaboratory.intrinsic+json": {
              "type": "dataframe",
              "variable_name": "usl_table_f",
              "summary": "{\n  \"name\": \"usl_table_f\",\n  \"rows\": 10,\n  \"fields\": [\n    {\n      \"column\": \"avg_inter\",\n      \"properties\": {\n        \"dtype\": \"number\",\n        \"std\": 189.116864603256,\n        \"min\": 9.88888888888889,\n        \"max\": 657.0,\n        \"num_unique_values\": 10,\n        \"samples\": [\n          136.11111111111111,\n          25.666666666666668,\n          88.77777777777777\n        ],\n        \"semantic_type\": \"\",\n        \"description\": \"\"\n      }\n    },\n    {\n      \"column\": \"rf\",\n      \"properties\": {\n        \"dtype\": \"number\",\n        \"std\": 0.28782250156944567,\n        \"min\": 0.0277777777777777,\n        \"max\": 0.9999999999999996,\n        \"num_unique_values\": 9,\n        \"samples\": [\n          0.0277777777777777,\n          0.1574074074074074,\n          0.0555555555555555\n        ],\n        \"semantic_type\": \"\",\n        \"description\": \"\"\n      }\n    },\n    {\n      \"column\": \"u\",\n      \"properties\": {\n        \"dtype\": \"number\",\n        \"std\": 2.581988897471611,\n        \"min\": -4.0,\n        \"max\": 4.0,\n        \"num_unique_values\": 9,\n        \"samples\": [\n          3.0,\n          -3.0,\n          1.0\n        ],\n        \"semantic_type\": \"\",\n        \"description\": \"\"\n      }\n    },\n    {\n      \"column\": \"nu\",\n      \"properties\": {\n        \"dtype\": \"number\",\n        \"std\": 0.3270498298743641,\n        \"min\": -0.8518518518518522,\n        \"max\": 0.1203703703703703,\n        \"num_unique_values\": 9,\n        \"samples\": [\n          0.1111111111111108,\n          -0.4722222222222222,\n          0.1203703703703703\n        ],\n        \"semantic_type\": \"\",\n        \"description\": \"\"\n      }\n    },\n    {\n      \"column\": \"nu2\",\n      \"properties\": {\n        \"dtype\": \"number\",\n        \"std\": 1.351746148412679,\n        \"min\": 0.0,\n        \"max\": 4.5370370370370345,\n        \"num_unique_values\": 10,\n        \"samples\": [\n          0.4444444444444432,\n          1.4166666666666667,\n          0.1203703703703703\n        ],\n        \"semantic_type\": \"\",\n        \"description\": \"\"\n      }\n    },\n    {\n      \"column\": \"nu3\",\n      \"properties\": {\n        \"dtype\": \"number\",\n        \"std\": 2.7850788822634476,\n        \"min\": -6.796296296296301,\n        \"max\": 1.7777777777777728,\n        \"num_unique_values\": 10,\n        \"samples\": [\n          1.7777777777777728,\n          -4.25,\n          0.1203703703703703\n        ],\n        \"semantic_type\": \"\",\n        \"description\": \"\"\n      }\n    },\n    {\n      \"column\": \"nu4\",\n      \"properties\": {\n        \"dtype\": \"number\",\n        \"std\": 13.56828864632984,\n        \"min\": 0.0,\n        \"max\": 43.75925925925923,\n        \"num_unique_values\": 10,\n        \"samples\": [\n          7.111111111111091,\n          12.75,\n          0.1203703703703703\n        ],\n        \"semantic_type\": \"\",\n        \"description\": \"\"\n      }\n    },\n    {\n      \"column\": \"nu4+\",\n      \"properties\": {\n        \"dtype\": \"number\",\n        \"std\": 12.81083723564739,\n        \"min\": 0.0,\n        \"max\": 41.38888888888882,\n        \"num_unique_values\": 10,\n        \"samples\": [\n          17.36111111111106,\n          2.5185185185185186,\n          1.9259259259259247\n        ],\n        \"semantic_type\": \"\",\n        \"description\": \"\"\n      }\n    }\n  ]\n}"
            }
          },
          "metadata": {},
          "execution_count": 7
        }
      ]
    },
    {
      "cell_type": "markdown",
      "source": [
        "Контроль проерки частот:\n",
        "$\\sum n_j u^4_j + 4 \\sum n_j u^3_j + 6 \\sum n_j u^2_j + 4 \\sum n_j u_j + 1 = 43.759259 +  4 * -6.796296 + 6 * 4.537037 + 4 * -0.851852 + 1 = 41.388889 $"
      ],
      "metadata": {
        "id": "kdMWMFH7XWMn"
      }
    },
    {
      "cell_type": "code",
      "source": [
        "sums = usl_table_f.iloc[9, [3,4,5,6]]\n",
        "sums[3] + 4*sums[2] + 6*sums[1] + 4*sums[0] + 1"
      ],
      "metadata": {
        "colab": {
          "base_uri": "https://localhost:8080/"
        },
        "id": "p7vI5A_sZu4V",
        "outputId": "09b2a253-b7cc-4cb3-fc2e-d847e2a0e2b0"
      },
      "execution_count": null,
      "outputs": [
        {
          "output_type": "execute_result",
          "data": {
            "text/plain": [
              "41.38888888888882"
            ]
          },
          "metadata": {},
          "execution_count": 8
        }
      ]
    },
    {
      "cell_type": "markdown",
      "source": [
        "Эмпирические начальные и центральные моменты:"
      ],
      "metadata": {
        "id": "YjGFcLJsZQUq"
      }
    },
    {
      "cell_type": "code",
      "source": [
        "h = 15.7777777777777\n",
        "\n",
        "x = sums[0]*h+120.85\n",
        "m2 = (sums[1] - pow(sums[0],2))*pow(h,2)\n",
        "m3 = (sums[2] - 3*sums[1]*sums[0] + 2*pow(sums[0],3))*pow(h,3)\n",
        "m4 = (sums[3] - 4*sums[2]*sums[0] + 6*sums[1]*pow(sums[0],2) - 3*pow(sums[0],4))*pow(h,4)\n",
        "\n",
        "print(sums[0], x)\n",
        "print(sums[1], m2)\n",
        "print(sums[2], m3)\n",
        "print(sums[3], m4)"
      ],
      "metadata": {
        "colab": {
          "base_uri": "https://localhost:8080/"
        },
        "id": "JpYXdbH9ZSZx",
        "outputId": "b7a9ba0d-1d70-4d8f-e82c-6d69e324f650"
      },
      "execution_count": null,
      "outputs": [
        {
          "output_type": "stream",
          "name": "stdout",
          "text": [
            "-0.8518518518518522 107.40967078189306\n",
            "4.5370370370370345 948.7997087164796\n",
            "-6.796296296296301 13990.671781202333\n",
            "43.75925925925923 2402937.0316047254\n"
          ]
        }
      ]
    },
    {
      "cell_type": "markdown",
      "source": [
        "Были вычислить выборочные среднее и дисперсия с помощью стандартной формулы и с помощью условных вариант."
      ],
      "metadata": {
        "id": "ZJvTlJYoa-7N"
      }
    },
    {
      "cell_type": "code",
      "source": [
        "avg = [9.88888888888889, 25.666666666666668, 41.44444444444444, 57.22222222222223, 73.0,\n",
        "       88.77777777777777, 104.55555555555557, 120.33333333333334, 136.11111111111111]\n",
        "\n",
        "N = 108\n",
        "abs_freq = [7, 17, 22, 20, 17, 12, 6, 4, 3]\n",
        "\n",
        "x_mean = 0\n",
        "for i in range(len(avg)):\n",
        "  x_mean += avg[i] * abs_freq[i]\n",
        "\n",
        "x_mean = x_mean / N\n",
        "print(x_mean)"
      ],
      "metadata": {
        "colab": {
          "base_uri": "https://localhost:8080/"
        },
        "id": "nz6DGxJPip5L",
        "outputId": "023df569-2b1f-4aa6-c90f-099280a2e17c"
      },
      "execution_count": null,
      "outputs": [
        {
          "output_type": "stream",
          "name": "stdout",
          "text": [
            "59.12139917695473\n"
          ]
        }
      ]
    },
    {
      "cell_type": "code",
      "source": [
        "n = 108\n",
        "h = 15.7777777777777\n",
        "int_mean = (int_row['avg_inter']*int_row['af']).sum()/n\n",
        "int_var = (((int_row['avg_inter']-int_mean)**2)*int_row['af']).sum()/n\n",
        "print(int_var)\n",
        "print(int_mean)"
      ],
      "metadata": {
        "colab": {
          "base_uri": "https://localhost:8080/"
        },
        "id": "3zKG-Vg0a_mR",
        "outputId": "7a93e760-5671-4a21-8af4-dd69dec2a9a2"
      },
      "execution_count": null,
      "outputs": [
        {
          "output_type": "stream",
          "name": "stdout",
          "text": [
            "948.7997087164897\n",
            "59.559670781893004\n"
          ]
        }
      ]
    },
    {
      "cell_type": "code",
      "source": [
        "second1 = pd.read_csv('second (1).csv')\n",
        "second = second1.copy()\n",
        "\n",
        "print(second.mean())\n",
        "print(np.var(second))"
      ],
      "metadata": {
        "colab": {
          "base_uri": "https://localhost:8080/"
        },
        "id": "Msvr2a-9bGrY",
        "outputId": "5afcd264-3805-475f-9527-e4fb4c78ed7a"
      },
      "execution_count": null,
      "outputs": [
        {
          "output_type": "stream",
          "name": "stdout",
          "text": [
            "turns    58.898148\n",
            "dtype: float64\n",
            "turns    974.424811\n",
            "dtype: float64\n"
          ]
        }
      ]
    },
    {
      "cell_type": "markdown",
      "source": [
        "Статистические оценки математического ожидания и дисперсии, вычисленные по стандартным формулам и с помощью условных вариант совпадают с небольшой погрешностью."
      ],
      "metadata": {
        "id": "dyOa5WCjec2N"
      }
    },
    {
      "cell_type": "markdown",
      "source": [
        "Была вычислена исправленная выборочная дисперсия и исправленное СКО. Данные оценки были сравнены с смещёнными оценками дисперсии:"
      ],
      "metadata": {
        "id": "0dSdZxqIe2iJ"
      }
    },
    {
      "cell_type": "code",
      "source": [
        "s = int_var*(n/(n-1))\n",
        "std_s = np.sqrt(s)\n",
        "std_var = np.sqrt(int_var)\n",
        "print(s)\n",
        "print(std_s)\n",
        "print(std_var)"
      ],
      "metadata": {
        "colab": {
          "base_uri": "https://localhost:8080/"
        },
        "id": "3lOltJwee2Ms",
        "outputId": "166e4140-c644-438b-e291-b601189bb6a1"
      },
      "execution_count": null,
      "outputs": [
        {
          "output_type": "stream",
          "name": "stdout",
          "text": [
            "957.6669957138399\n",
            "30.94619517345937\n",
            "30.802592564855473\n"
          ]
        }
      ]
    },
    {
      "cell_type": "code",
      "source": [
        "D = 0\n",
        "for i in range(len(avg)):\n",
        "  D += abs_freq[i] * (avg[i] - x_mean) ** 2\n",
        "\n",
        "D = D / N\n",
        "print(D)\n",
        "s_q = N * D / (N - 1)\n",
        "s = s_q ** 0.5\n",
        "print(s)"
      ],
      "metadata": {
        "colab": {
          "base_uri": "https://localhost:8080/"
        },
        "id": "CJeJUrHrl_GH",
        "outputId": "3d40e862-da0c-4c46-855b-35d8b4206b5a"
      },
      "execution_count": null,
      "outputs": [
        {
          "output_type": "stream",
          "name": "stdout",
          "text": [
            "948.7997087164897\n",
            "30.94619517345937\n"
          ]
        }
      ]
    },
    {
      "cell_type": "markdown",
      "source": [
        "Были найдены статистическая оценка коэффициентов асимметрии и эксцесса:"
      ],
      "metadata": {
        "id": "H9ZFX-PSmm00"
      }
    },
    {
      "cell_type": "code",
      "source": [
        "As = m3/(pow(s, 3))\n",
        "Ex = (m4/(pow(s, 4))) - 3\n",
        "As, Ex"
      ],
      "metadata": {
        "colab": {
          "base_uri": "https://localhost:8080/"
        },
        "id": "gTWJAyn8mscw",
        "outputId": "fc48528f-f793-4c8a-cf9e-251e647f2e81"
      },
      "execution_count": null,
      "outputs": [
        {
          "output_type": "execute_result",
          "data": {
            "text/plain": [
              "(0.47208128904214824, -0.3799272554274826)"
            ]
          },
          "metadata": {},
          "execution_count": 25
        }
      ]
    },
    {
      "cell_type": "markdown",
      "source": [
        "Коэффициент асимметрии положителен, следовательно, в данном случае это правосторонняя асимметрия, которая характеризуется удлиненным правым хвостом.\n",
        "\n",
        "Коэффициент эксцесса отрицателен, следовательно, эмпирическое распределение является более низким и пологим относительно нормального распределения.\n"
      ],
      "metadata": {
        "id": "N08Uw8wmmvx5"
      }
    },
    {
      "cell_type": "markdown",
      "source": [
        "Для интервального ряда были вычислены мода, медиана и коэффициент вариации заданного распределения:"
      ],
      "metadata": {
        "id": "0vikrEilmxDb"
      }
    },
    {
      "cell_type": "code",
      "source": [
        "raw_mode = 1603.77 + h*(2/3)\n",
        "raw_median = 1603.77 + (((0.5*N)-36)/25)*h\n",
        "v = std_s / x * 100\n",
        "print(\"Мода:\", raw_mode)\n",
        "print(\"Медиана:\", raw_median)\n",
        "print(\"Коэффициент вариации:\", v)"
      ],
      "metadata": {
        "colab": {
          "base_uri": "https://localhost:8080/"
        },
        "id": "o7bC0Ge5m4aH",
        "outputId": "b9fd8d55-f2d8-4af4-be94-d6e1c34ba048"
      },
      "execution_count": null,
      "outputs": [
        {
          "output_type": "stream",
          "name": "stdout",
          "text": [
            "Мода: 1614.2885185185185\n",
            "Медиана: 1615.1299999999999\n",
            "Коэффициент вариации: 28.811367680568505\n"
          ]
        }
      ]
    },
    {
      "cell_type": "markdown",
      "source": [
        "Мода смещена относительно центра модального интервала в сторону правого интервала с большей частотой. Медиана также смещена правее, так как по правую сторону находится большее количество вариант."
      ],
      "metadata": {
        "id": "DNo0qXVrm-NY"
      }
    },
    {
      "cell_type": "markdown",
      "source": [
        "**Пункт 2**\n",
        "\n",
        "**Построить двумерный интервальный вариационный ряд, оформить в виде таблицы.**"
      ],
      "metadata": {
        "id": "0XqFc_ZnXEqu"
      }
    },
    {
      "cell_type": "markdown",
      "source": [
        "Был построен двумерный интервальный вариационный ряд:"
      ],
      "metadata": {
        "id": "S_QIio7DXEiq"
      }
    },
    {
      "cell_type": "code",
      "source": [
        "x = [1250, 1230, 1400, 1561, 1391, 1313, 1227, 1773, 1656, 1712, #выборка\n",
        "                  2005, 1879, 1862, 2158, 1814, 1884, 1504, 1481, 1330, 2109,\n",
        "                  2164, 1518, 1477, 1626, 1962, 1950, 1148, 1133, 1040, 1954,\n",
        "                  1604, 1706, 1691, 1488, 1818, 1668, 1380, 1362, 1648, 1696,\n",
        "                  1492, 2398, 1304, 1886, 1924, 1960, 2008, 1509, 1491, 1431,\n",
        "                  1843, 1559, 1727, 1655, 1790, 1426, 1334, 1364, 1892, 1335,\n",
        "                  1939, 1815, 1632, 1420, 1519, 2186, 1569, 1291, 1731, 1355,\n",
        "                  1166, 1500, 1741, 2021, 1372, 1471, 1391, 1999, 2301, 1663,\n",
        "                  2052, 1221, 1618, 1287, 2212, 1613, 1370, 2033, 1367, 1569,\n",
        "                  1350, 1907, 1669, 1646, 1689, 1590, 1442, 1870, 1538, 1787,\n",
        "                  1536, 1599, 1372, 1075, 1500, 1617, 1840, 1653]\n",
        "y = [52, 7, 44, 57, 57, 90, 51, 28, 124, 66, 32, 59, 99, 44, 101,\n",
        "                   21, 63, 41, 44, 62, 66, 30, 104, 28, 35, 68, 35, 71, 77, 36,\n",
        "                   144, 85, 40, 37, 85, 36, 66, 66, 80, 53, 28, 69, 53, 59, 88,\n",
        "                   53, 80, 50, 94, 22, 132, 23, 111, 69, 81, 92, 19, 110, 51,\n",
        "                   76, 39, 92, 121, 38, 104, 79, 50, 31, 60, 37, 14, 33, 16,\n",
        "                   45, 63, 51, 20, 49, 32, 138, 76, 26, 43, 90, 26, 96, 48,\n",
        "                   114, 64, 9, 74, 68, 126, 63, 36, 75, 2, 44, 88, 20, 58,\n",
        "                   9, 40, 32, 16, 35, 88, 39]\n",
        "\n",
        "xy = tuple(zip(x, y))\n",
        "\n",
        "table = []\n",
        "for i in range(9):\n",
        "    table.append([0] * 9)\n",
        "\n",
        "x_intervals = ((1040.0, 1190.888888888889), (1190.888888888889, 1341.7777777777778),\n",
        "              (1341.7777777777778, 1492.6666666666665), (1492.6666666666665, 1643.5555555555557),\n",
        "              (1643.5555555555557, 1794.4444444444443), (1794.4444444444443, 1945.3333333333333),\n",
        "              (1945.3333333333333, 2096.222222222222), (2096.222222222222, 2247.1111111111113),\n",
        "              (2247.1111111111113, 2398.0))\n",
        "\n",
        "y_intervals = ((2.0, 17.77777777777778), (17.77777777777778, 33.55555555555556),\n",
        "               (33.55555555555556, 49.333333333333336), (49.333333333333336, 65.11111111111111),\n",
        "               (65.11111111111111, 80.88888888888889), (80.88888888888889, 96.66666666666667),\n",
        "               (96.66666666666667, 112.44444444444446), (112.44444444444446, 128.22222222222223),\n",
        "               (128.22222222222223, 144.0))\n",
        "count = 0\n",
        "for i in xy:\n",
        "  for j in range(len(x_intervals)):\n",
        "    for m in range(len(y_intervals)):\n",
        "      if x_intervals[j][0] == 2247.1111111111113 and x_intervals[j][1] == 2398.0 and y_intervals[m][0] != 128.22222222222223 and y_intervals[m][1] != 144.0:\n",
        "        if x_intervals[j][0] <= i[0] and i[0] <= x_intervals[j][1] and y_intervals[m][0] <= i[1] and i[1] < y_intervals[m][1]:\n",
        "          table[j][m] += 1\n",
        "      if x_intervals[j][0] == 2247.1111111111113 and x_intervals[j][1] == 2398.0 and y_intervals[m][0] == 128.22222222222223 and y_intervals[m][1] == 144.0:\n",
        "        if x_intervals[j][0] <= i[0] and i[0] <= x_intervals[j][1] and y_intervals[m][0] <= i[1] and i[1] <= y_intervals[m][1]:\n",
        "          table[j][m] += 1\n",
        "      if x_intervals[j][0] != 2247.1111111111113 and x_intervals[j][1] != 2398.0 and y_intervals[m][0] == 128.22222222222223 and y_intervals[m][1] == 144.0:\n",
        "        if x_intervals[j][0] <= i[0] and i[0] < x_intervals[j][1] and y_intervals[m][0] <= i[1] and i[1] <= y_intervals[m][1]:\n",
        "          table[j][m] += 1\n",
        "      if x_intervals[j][0] != 2247.1111111111113 and x_intervals[j][1] != 2398.0 and y_intervals[m][0] != 128.22222222222223 and y_intervals[m][1] != 144.0:\n",
        "        if x_intervals[j][0] <= i[0] and i[0] < x_intervals[j][1] and y_intervals[m][0] <= i[1] and i[1] < y_intervals[m][1]:\n",
        "          table[j][m] += 1\n",
        "\n",
        "#for i in table:\n",
        "#  print(i)\n",
        "\n",
        "\n",
        "myTable = PrettyTable([\"Y\\X\", \"[1040.0, 1190.888888888889)\", \"[1190.888888888889, 1341.7777777777778)\",\n",
        "                      \"[1341.7777777777778, 1492.6666666666665)\", \"[1492.6666666666665, 1643.5555555555557)\",\n",
        "                       \"[1643.5555555555557, 1794.4444444444443)\", \"[1794.4444444444443, 1945.3333333333333)\",\n",
        "                       \"[1945.3333333333333, 2096.222222222222)\", \"[2096.222222222222, 2247.1111111111113)\",\n",
        "                       \"[2247.1111111111113, 2398.0]\"])\n",
        "\n",
        "\n",
        "for i in range(len(y_intervals)-1):\n",
        " myTable.add_row([\"[\" + str(y_intervals[i][0]) + \", \" + str(y_intervals[i][1]) + \")\",\n",
        "                  table[i][0], table[i][1], table[i][2], table[i][3], table[i][4], table[i][5], table[i][6], table[i][7], table[i][8]])\n",
        "\n",
        "temp = len(table) - 1\n",
        "myTable.add_row([\"[128.22222222222223, 144.0]\", table[temp][0], table[temp][1],\n",
        "                 table[temp][2], table[temp][3], table[temp][4], table[temp][5], table[temp][6], table[temp][7], table[temp][8]])\n",
        "\n",
        "\n",
        "print(myTable)"
      ],
      "metadata": {
        "colab": {
          "base_uri": "https://localhost:8080/"
        },
        "id": "C7rfjMCunJMW",
        "outputId": "036101ad-7ad4-4415-e9ba-02fc19e5b7be"
      },
      "execution_count": null,
      "outputs": [
        {
          "output_type": "stream",
          "name": "stdout",
          "text": [
            "+------------------------------------------+-----------------------------+-----------------------------------------+------------------------------------------+------------------------------------------+------------------------------------------+------------------------------------------+-----------------------------------------+-----------------------------------------+------------------------------+\n",
            "|                   Y\\X                    | [1040.0, 1190.888888888889) | [1190.888888888889, 1341.7777777777778) | [1341.7777777777778, 1492.6666666666665) | [1492.6666666666665, 1643.5555555555557) | [1643.5555555555557, 1794.4444444444443) | [1794.4444444444443, 1945.3333333333333) | [1945.3333333333333, 2096.222222222222) | [2096.222222222222, 2247.1111111111113) | [2247.1111111111113, 2398.0] |\n",
            "+------------------------------------------+-----------------------------+-----------------------------------------+------------------------------------------+------------------------------------------+------------------------------------------+------------------------------------------+-----------------------------------------+-----------------------------------------+------------------------------+\n",
            "|         [2.0, 17.77777777777778)         |              1              |                    1                    |                    1                     |                    0                     |                    2                     |                    0                     |                    0                    |                    0                    |              0               |\n",
            "|  [17.77777777777778, 33.55555555555556)  |              1              |                    3                    |                    1                     |                    3                     |                    1                     |                    2                     |                    0                    |                    0                    |              0               |\n",
            "| [33.55555555555556, 49.333333333333336)  |              1              |                    3                    |                    7                     |                    4                     |                    3                     |                    2                     |                    2                    |                    0                    |              0               |\n",
            "| [49.333333333333336, 65.11111111111111)  |              3              |                    4                    |                    2                     |                    5                     |                    1                     |                    2                     |                    1                    |                    1                    |              1               |\n",
            "|  [65.11111111111111, 80.88888888888889)  |              1              |                    2                    |                    4                     |                    3                     |                    3                     |                    2                     |                    1                    |                    2                    |              1               |\n",
            "|  [80.88888888888889, 96.66666666666667)  |              0              |                    1                    |                    2                     |                    3                     |                    1                     |                    4                     |                    2                    |                    0                    |              1               |\n",
            "| [96.66666666666667, 112.44444444444446)  |              0              |                    1                    |                    4                     |                    1                     |                    3                     |                    0                     |                    0                    |                    1                    |              0               |\n",
            "| [112.44444444444446, 128.22222222222223) |              0              |                    1                    |                    1                     |                    1                     |                    2                     |                    0                     |                    0                    |                    0                    |              0               |\n",
            "|       [128.22222222222223, 144.0]        |              0              |                    1                    |                    0                     |                    0                     |                    1                     |                    0                     |                    0                    |                    0                    |              0               |\n",
            "+------------------------------------------+-----------------------------+-----------------------------------------+------------------------------------------+------------------------------------------+------------------------------------------+------------------------------------------+-----------------------------------------+-----------------------------------------+------------------------------+\n"
          ]
        }
      ]
    },
    {
      "cell_type": "markdown",
      "source": [
        "| Y\\X | $$[x_1, x_2)$$ | $$[x_2, x_3)$$ | $$[x_3, x_4)$$ | $$[x_4, x_5)$$ | $$[x_5, x_6)$$ | $$[x_6, x_7)$$ | $$[x_7, x_8)$$ | $$[x_8, x_9)$$ | $$[x_9, x_{10}]$$ |  \n",
        "|----------|----------|----------|----------|----------|----------|----------|----------|----------|----------|\n",
        "| $$[y_1, y_2)$$   | 1   | 1   | 1    | 0  | 2   |0    | 0   | 0   | 0    |\n",
        "| $$[y_2, y_3)$$     | 1   | 3   | 1    | 3   | 1   | 2   | 0   | 0   | 0   |\n",
        "| $$[y_3, y_4)$$     | 1   | 3   | 7   | 4  | 3   | 2    | 2   | 0   | 0  |\n",
        "| $$[y_4, y_5)$$     | 3  | 4  | 2    | 5   | 1   | 2    | 1   | 1   | 1  |\n",
        "| $$[y_5, y_6)$$     | 1  | 2  | 4   | 3  | 3   | 2   | 1   | 2   | 1  |\n",
        "| $$[y_6, y_7)$$     | 0   | 1   | 2    | 3   | 1   | 4    | 2   | 0  | 1  |\n",
        "| $$[y_7, y_8)$$     | 0   | 1   | 4    | 1   | 3   | 0    | 0   | 1   | 0   |\n",
        "| $$[y_8, y_9)$$     | 0   | 1   | 1    | 1   | 2   | 0    | 0   |0   | 0    |\n",
        "| $$[y_9, y_{10}]$$     | 0   | 1   | 0    | 0   | 1   | 0    | 0   | 0   | 0   |"
      ],
      "metadata": {
        "id": "lOxS645kEOLv"
      }
    },
    {
      "cell_type": "markdown",
      "source": [
        "Т.к. вывод программы не влезает на весь экран, таблица переписана вручную"
      ],
      "metadata": {
        "id": "hsMNVHS1ExYd"
      }
    },
    {
      "cell_type": "markdown",
      "source": [
        "**Пункт 3**\n",
        "\n",
        "**По полученному двумерному интервальному вариационному ряду построить корреляционную таблицу, сделать выводы.**"
      ],
      "metadata": {
        "id": "eCrS18xZXEcG"
      }
    },
    {
      "cell_type": "code",
      "source": [
        "myTable = PrettyTable([\"Y\\X\", \"1115.4444444444443\", \"1266.3333333333335\",\n",
        "                      \"1417.2222222222222\", \"1568.111111111111\",\n",
        "                       \"1719.0\", \"1869.8888888888887\",\n",
        "                       \"2020.7777777777778\", \"2171.666666666667\",\n",
        "                       \"2322.5555555555557\", \"n_y\"])\n",
        "\n",
        "avg_x = (1115.4444444444443, 1266.3333333333335, 1417.2222222222222, 1568.111111111111,\n",
        "         1719.0, 1869.8888888888887, 2020.7777777777778, 2171.666666666667, 2322.5555555555557)\n",
        "\n",
        "avg_y = (9.88888888888889, 25.666666666666668, 41.44444444444444, 57.22222222222223,\n",
        "         73.0, 88.77777777777777, 104.55555555555557, 120.33333333333334,\n",
        "         136.11111111111111)\n",
        "\n",
        "for i in range(len(y_intervals)-1):\n",
        " myTable.add_row([avg_y[i],\n",
        "                  table[i][0], table[i][1], table[i][2], table[i][3], table[i][4],\n",
        "                  table[i][5], table[i][6], table[i][7], table[i][8],\n",
        "                  sum(table[i])])\n",
        "\n",
        "temp = len(table) - 1\n",
        "myTable.add_row([\"136.11111111111111\", table[temp][0], table[temp][1],\n",
        "                 table[temp][2], table[temp][3], table[temp][4], table[temp][5],\n",
        "                 table[temp][6], table[temp][7], table[temp][8],\n",
        "                 sum(table[temp]) ])\n",
        "\n",
        "myTable.add_row([\"n_x\", sum([j[0] for j in [i for i in table]]), sum([j[1] for j in [i for i in table]]),\n",
        "                 sum([j[2] for j in [i for i in table]]), sum([j[3] for j in [i for i in table]]),\n",
        "                 sum([j[4] for j in [i for i in table]]), sum([j[5] for j in [i for i in table]]),\n",
        "                 sum([j[6] for j in [i for i in table]]), sum([j[7] for j in [i for i in table]]),\n",
        "                 sum([j[8] for j in [i for i in table]]),\n",
        "                 \"N = \" + str(sum([sum(j) for j in [i for i in table]]))])\n",
        "\n",
        "\n",
        "\n",
        "print(myTable)"
      ],
      "metadata": {
        "colab": {
          "base_uri": "https://localhost:8080/"
        },
        "id": "avmMiU6As3BA",
        "outputId": "f1cf6141-cb38-4362-d4e4-f120157c89a1"
      },
      "execution_count": null,
      "outputs": [
        {
          "output_type": "stream",
          "name": "stdout",
          "text": [
            "+--------------------+--------------------+--------------------+--------------------+-------------------+--------+--------------------+--------------------+-------------------+--------------------+---------+\n",
            "|        Y\\X         | 1115.4444444444443 | 1266.3333333333335 | 1417.2222222222222 | 1568.111111111111 | 1719.0 | 1869.8888888888887 | 2020.7777777777778 | 2171.666666666667 | 2322.5555555555557 |   n_y   |\n",
            "+--------------------+--------------------+--------------------+--------------------+-------------------+--------+--------------------+--------------------+-------------------+--------------------+---------+\n",
            "|  9.88888888888889  |         1          |         1          |         1          |         0         |   2    |         0          |         0          |         0         |         0          |    5    |\n",
            "| 25.666666666666668 |         1          |         3          |         1          |         3         |   1    |         2          |         0          |         0         |         0          |    11   |\n",
            "| 41.44444444444444  |         1          |         3          |         7          |         4         |   3    |         2          |         2          |         0         |         0          |    22   |\n",
            "| 57.22222222222223  |         3          |         4          |         2          |         5         |   1    |         2          |         1          |         1         |         1          |    20   |\n",
            "|        73.0        |         1          |         2          |         4          |         3         |   3    |         2          |         1          |         2         |         1          |    19   |\n",
            "| 88.77777777777777  |         0          |         1          |         2          |         3         |   1    |         4          |         2          |         0         |         1          |    14   |\n",
            "| 104.55555555555557 |         0          |         1          |         4          |         1         |   3    |         0          |         0          |         1         |         0          |    10   |\n",
            "| 120.33333333333334 |         0          |         1          |         1          |         1         |   2    |         0          |         0          |         0         |         0          |    5    |\n",
            "| 136.11111111111111 |         0          |         1          |         0          |         0         |   1    |         0          |         0          |         0         |         0          |    2    |\n",
            "|        n_x         |         7          |         17         |         22         |         20        |   17   |         12         |         6          |         4         |         3          | N = 108 |\n",
            "+--------------------+--------------------+--------------------+--------------------+-------------------+--------+--------------------+--------------------+-------------------+--------------------+---------+\n"
          ]
        }
      ]
    },
    {
      "cell_type": "markdown",
      "source": [
        "| Y\\X | 1115.4444444444443 | 1266.3333333333335 | 1417.2222222222222 | 1568.111111111111 | 1719.0 | 1869.8888888888887  | 2020.7777777777778 | 2171.666666666667 | 2322.5555555555557 |  $n_y$ |\n",
        "|----------|----------|----------|----------|----------|----------|----------|----------|----------|----------|----------|\n",
        "| 9.88888888888889   | 1   | 1   | 1    | 0  | 2   |0    | 0   | 0   | 0    | 5|\n",
        "| 25.666666666666668      | 1   | 3   | 1    | 3   | 1   | 2   | 0   | 0   | 0   | 11|\n",
        "| 41.44444444444444     | 1   | 3   | 7   | 4  | 3   | 2    | 2   | 0   | 0  | 22|\n",
        "| 57.22222222222223     | 3  | 4  | 2    | 5   | 1   | 2    | 1   | 1   | 1  |20|\n",
        "| 73.0      | 1  | 2  | 4   | 3  | 3   | 2   | 1   | 2   | 1  | 19|\n",
        "| 88.77777777777777      | 0   | 1   | 2    | 3   | 1   | 4    | 2   | 0  | 1  | 14|\n",
        "| 104.55555555555557     | 0   | 1   | 4    | 1   | 3   | 0    | 0   | 1   | 0   | 10|\n",
        "| 120.33333333333334    | 0   | 1   | 1    | 1   | 2   | 0    | 0   |0   | 0    | 5|\n",
        "| 136.11111111111111     | 0   | 1   | 0    | 0   | 1   | 0    | 0   | 0   | 0   | 2|\n",
        "| $n_x$     | 7   | 17   | 22    | 20   | 17   | 12    | 6   | 4   | 3   | N = 108|"
      ],
      "metadata": {
        "id": "OI26xRCeJW3o"
      }
    },
    {
      "cell_type": "markdown",
      "source": [
        "\n",
        "\n",
        "Как видно из таблицы суммы частот по столбцам совпадают с абсолютными частотами интервального вариационного ряда по второму признаку, а суммы частот по строкам совпадают с абсолютными частотами интервального вариационного ряда по первому признаку, таблица составлена корректно."
      ],
      "metadata": {
        "id": "VKKvOU-XLACz"
      }
    },
    {
      "cell_type": "markdown",
      "source": [
        "**Пункт 4**\n",
        "\n",
        "**Исходя из результатов корреляционной таблицы вычислить значение выборочного коэффициента корреляции двумя способами: с помощью стандартной формулы и с помощью условных вариант. Убедиться, что результаты совпадают. Сделать выводы.**"
      ],
      "metadata": {
        "id": "fE3dGRImXULP"
      }
    },
    {
      "cell_type": "markdown",
      "source": [
        "$𝑟̅_{𝑥𝑦}=  \\frac{∑^{K_{y}}_{i=1} ∑^{K_{x}}_{j=1} n_{ij}y_{i}x_{j} - 𝑁𝑥̅_B 𝑦̅_B}{𝑁𝑆_𝑥𝑆_𝑦}$ - стандартная формула"
      ],
      "metadata": {
        "id": "VC9w7ZN3QqdH"
      }
    },
    {
      "cell_type": "code",
      "source": [
        "N = 108\n",
        "avg_x = (1115.4444444444443, 1266.3333333333335, 1417.2222222222222, 1568.111111111111,\n",
        "         1719.0, 1869.8888888888887, 2020.7777777777778, 2171.666666666667, 2322.5555555555557)\n",
        "\n",
        "avg_y = (9.88888888888889, 25.666666666666668, 41.44444444444444, 57.22222222222223,\n",
        "         73.0, 88.77777777777777, 104.55555555555557, 120.33333333333334,\n",
        "         136.11111111111111)\n",
        "x_mean = 1635.172839506173\n",
        "y_mean = 59.12139917695473\n",
        "s_x = 286.0932746391938\n",
        "s_y = 30.86359609429004\n",
        "\n",
        "r_xy = (sum([avg_y[i] * avg_x[j] * table[j][i] for i in range(len(avg_y)) for j in range(len(avg_x))]) - N * x_mean * y_mean) / (N * s_x * s_y)\n",
        "print(\"r_xy (стандартная формула) = \" + str(r_xy))"
      ],
      "metadata": {
        "colab": {
          "base_uri": "https://localhost:8080/"
        },
        "id": "hGquQO4s9-6y",
        "outputId": "6847ff32-297a-4d0f-d663-a68d288adc36"
      },
      "execution_count": null,
      "outputs": [
        {
          "output_type": "stream",
          "name": "stdout",
          "text": [
            "r_xy (стандартная формула) = 0.14285317064174552\n"
          ]
        }
      ]
    },
    {
      "cell_type": "markdown",
      "source": [
        "$$\\bar r_{xy} = \\frac{\\sum_{i=1}^{K_y}\\sum_{j=1}^{K_x}n_{ij}u_iv_j - N \\bar u_в \\bar v_в}{N \\bar \\sigma_u \\bar \\sigma_v}, u_i = \\frac{x_i - C_x}{h_x}, v_j = \\frac{y_j - C_y}{h_y}$$ - с помощью условных вариант"
      ],
      "metadata": {
        "id": "L8YqvCvifJm8"
      }
    },
    {
      "cell_type": "code",
      "source": [
        "u_x = [round((avg_x[j] - avg_x[len(avg_x)//2]) / (x_intervals[0][1] - x_intervals[0][0])) for j in range(len(avg_x))]\n",
        "u_y = [round((avg_y[j] - avg_y[len(avg_y)//2]) / (y_intervals[0][1] - y_intervals[0][0])) for j in range(len(avg_y))]\n",
        "\n",
        "x_abs_freq = (5, 11, 22, 20, 19, 14, 10, 5, 2)\n",
        "y_abs_freq = (7, 17, 22, 20, 17, 12, 6, 4, 3)\n",
        "\n",
        "u_x_mean = sum([u_x[i] * x_abs_freq[i] for i in range(len(u_x))]) / N\n",
        "u_y_mean = sum([u_y[i] * y_abs_freq[i] for i in range(len(u_y))]) / N\n",
        "\n",
        "sigma_x = math.sqrt(sum([x_abs_freq[i] * (u_x[i] - u_x_mean) ** 2 for i in range(len(u_x))]) / N)\n",
        "sigma_y = math.sqrt(sum([y_abs_freq[i] * (u_y[i] - u_y_mean) ** 2 for i in range(len(u_y))]) / N)\n",
        "\n",
        "r_xy = (sum([u_x[i] * u_y[j] * table[i][j] for i in range(len(u_x)) for j in range(len(u_y))]) - N * u_x_mean * u_y_mean) / (N * sigma_x * sigma_y)\n",
        "print(\"r_xy (через условные варианты) = \" + str(r_xy))"
      ],
      "metadata": {
        "colab": {
          "base_uri": "https://localhost:8080/"
        },
        "id": "FjPPpcUzSkGe",
        "outputId": "76fc247f-de82-4b11-b1ce-0e191b3b6b6e"
      },
      "execution_count": null,
      "outputs": [
        {
          "output_type": "stream",
          "name": "stdout",
          "text": [
            "r_xy (через условные варианты) = 0.14418824700288532\n"
          ]
        }
      ]
    },
    {
      "cell_type": "markdown",
      "source": [
        "$\\bar r_{xy}$ в обоих случаях совпадают с точностью до сотых"
      ],
      "metadata": {
        "id": "TyR-JW2sfSxB"
      }
    },
    {
      "cell_type": "markdown",
      "source": [
        "Значение $\\bar r_{xy}$ близко к нулю, что говорит об очень слабой статистической связи между измеряемыми признаками"
      ],
      "metadata": {
        "id": "jOoeAw_CHG-T"
      }
    },
    {
      "cell_type": "markdown",
      "source": [
        "**Пункт 5**\n",
        "\n",
        "**Построить доверительный интервал для коэффициента корреляции при уровне значимости $γ$∈{0.95,0.99}, сделать выводы.**"
      ],
      "metadata": {
        "id": "8tzeexZ0XVHV"
      }
    },
    {
      "cell_type": "code",
      "source": [
        "r = 0.14285317064174552\n",
        "z = (0.5*np.log((1+r)/(1-r))).round(3)\n",
        "z\n",
        "\n",
        "sz = (1/np.sqrt(N-3)).round(4)\n",
        "sz\n",
        "\n",
        "gamma = 0.95\n",
        "F = gamma/2\n",
        "l = 1.96\n",
        "z1 = (z-l*sz).round(4)\n",
        "z2 = (z+l*sz).round(4)\n",
        "(z1,z2)\n",
        "\n",
        "r1 = ((np.exp(2*z1)-1)/(np.exp(2*z1)+1)).round(4)\n",
        "r2 = ((np.exp(2*z2)-1)/(np.exp(2*z2)+1)).round(4)\n",
        "(r1, r2)"
      ],
      "metadata": {
        "colab": {
          "base_uri": "https://localhost:8080/"
        },
        "id": "mNGSObG7AfIW",
        "outputId": "47b589c2-e7f7-4f77-a22b-2930bb04d41a"
      },
      "execution_count": null,
      "outputs": [
        {
          "output_type": "execute_result",
          "data": {
            "text/plain": [
              "(-0.0473, 0.3233)"
            ]
          },
          "metadata": {},
          "execution_count": 55
        }
      ]
    },
    {
      "cell_type": "markdown",
      "source": [
        "Можно заметить, что при увеличении уровня надежности получили более широкий доверительный интервал."
      ],
      "metadata": {
        "id": "BZsAwSrdHQ1V"
      }
    },
    {
      "cell_type": "markdown",
      "source": [
        "**Пункт 6**\n",
        "\n",
        "**Осуществить проверку статистической гипотезы о равенстве коэффициента корреляции нулю при заданном уровне значимости $α$=0.05, сделать выводы.**"
      ],
      "metadata": {
        "id": "NU657cVIXVAl"
      }
    },
    {
      "cell_type": "code",
      "source": [
        "K = 7\n",
        "Tn = ((r*np.sqrt(N-2))/np.sqrt(1-r**2)).round(3)\n",
        "print(Tn)\n",
        "tk = 1.985"
      ],
      "metadata": {
        "id": "TYCOXGiQGKbv",
        "colab": {
          "base_uri": "https://localhost:8080/"
        },
        "outputId": "7e0a81f6-7d3b-44a6-a36b-ab4a3759dc74"
      },
      "execution_count": null,
      "outputs": [
        {
          "output_type": "stream",
          "name": "stdout",
          "text": [
            "1.486\n"
          ]
        }
      ]
    },
    {
      "cell_type": "code",
      "source": [
        "'True' if np.abs(Tn) <= tk else 'False'"
      ],
      "metadata": {
        "colab": {
          "base_uri": "https://localhost:8080/",
          "height": 36
        },
        "id": "8p0tSsP4GM82",
        "outputId": "4d0486e5-c5a8-43a9-9a85-6d9bfb64a901"
      },
      "execution_count": null,
      "outputs": [
        {
          "output_type": "execute_result",
          "data": {
            "text/plain": [
              "'True'"
            ],
            "application/vnd.google.colaboratory.intrinsic+json": {
              "type": "string"
            }
          },
          "metadata": {},
          "execution_count": 57
        }
      ]
    },
    {
      "cell_type": "markdown",
      "source": [
        "Исходя из того, что $𝑇_{набл} < 𝑇_{крит}$, гипотеза о равенстве нулю коэффициента корреляции принимается."
      ],
      "metadata": {
        "id": "HaLBJ9CjXU45"
      }
    },
    {
      "cell_type": "markdown",
      "metadata": {
        "id": "gesWKM_6qH8c"
      },
      "source": [
        "## Выводы\n",
        "\n",
        "В ходе выполнения практической работы был проведен корреляционный анализ распределения случайных величин. Был вычислен линейный коэффициент корреляции двумя различными способами. Его близость к 0 дает сделать вывод о очень слабой корреляционной зависимости меду величинами. Также были построены доверительные интервалы с различными вероятностями и проведена проверка, в ходе которой нулевая гипотеза была принята.\n",
        "Из перечисленного можно сделать вывод, что выборочный коэффициент корреляции не значительно отличен от нуля.\n",
        "\n",
        "\n"
      ]
    }
  ],
  "metadata": {
    "kernelspec": {
      "display_name": "Python 3",
      "language": "python",
      "name": "python3"
    },
    "language_info": {
      "codemirror_mode": {
        "name": "ipython",
        "version": 3
      },
      "file_extension": ".py",
      "mimetype": "text/x-python",
      "name": "python",
      "nbconvert_exporter": "python",
      "pygments_lexer": "ipython3",
      "version": "3.8.10"
    },
    "colab": {
      "provenance": []
    }
  },
  "nbformat": 4,
  "nbformat_minor": 0
}