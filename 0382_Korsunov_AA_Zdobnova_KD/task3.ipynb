{
  "cells": [
    {
      "cell_type": "markdown",
      "metadata": {
        "id": "IZJdOGoFqH8Z"
      },
      "source": [
        "# Практическая работа №3: Обработка выборочных данных. Нахождение интервальных оценок параметров распределения. Проверка статистической гипотезы о нормальном распределении\n",
        "\n",
        "Выполнили студенты гр. 0382 Корсунов Антон и Здобнова Ксения. Вариант №11"
      ]
    },
    {
      "cell_type": "markdown",
      "metadata": {
        "id": "SDR0aBeAqH8a"
      },
      "source": [
        "## Цель работы\n",
        "\n",
        "Получение практических навыков вычисления интервальных статистических оценок параметров распределения выборочных данных и проверки «справедливости» статистических гипотез."
      ]
    },
    {
      "cell_type": "markdown",
      "metadata": {
        "id": "sZ1hy2dlqH8b"
      },
      "source": [
        "## Основные теоретические положения\n",
        "\n",
        "**Интервальной** называется статистическая оценка, которая задается двумя числами - концами интервала (в котором может находиться значение параметра $θ$\n",
        "****\n",
        "**Точностью $θ^*$** - статистической оценки параметра $θ$ называется значение $δ$, удовлетворяющее неравенству:\n",
        "$$δ > |θ^* - θ| (1)$$\n",
        "Чем меньше значение $δ$, тем точнее оценка $θ$\n",
        "****\n",
        "**Надежностью (доверительной вероятностью)** оценки $θ^*$ называется вероятность $γ$, с которой выполняется неравенство (1):\n",
        "$$γ = P\\{δ > |θ^* - θ|\\} (2)$$\n",
        "или\n",
        "$$γ = P\\{θ^* - δ < θ < θ^* + δ\\} (3)$$\n",
        "\n",
        "Выражения (2) и (3) следует понимать в том смысле, что интервал\n",
        "$$(θ^* - δ ; θ^* + δ) (4)$$\n",
        "с вероятностью (надежностью) $γ$ содержит в себе (покрывает) истинное значение оцениваемого параметра $θ$\n",
        "****\n",
        "Интервал (4) называется **доверительным интервалом** и является интервальной оценкой параметра $θ$\n",
        "\n",
        "Существует 2 вида интервальных оценок: **односторонние и двусторонние**. При двусторонней оценке задаются обе границы доверительного интервала, зависящие от доверительной вероятности $γ$: левая $β_1(γ)$ и правая $β_2(γ)$:\n",
        "$$P\\{β_1(γ) < θ < β_2(γ)\\} = p$$\n",
        "Для одностороннего доверительного интеравала границы интервалов задаются так, чтобы:\n",
        "$$P\\{β(γ) > θ\\} =γ$$\n",
        "или\n",
        "$$P\\{β(γ) < θ\\} =γ$$\n",
        "****\n",
        "Значение $q = 1 - γ$ называют **уровнем значимости**. Значение γ задают обычно равным 0.95, 0.99, 0.995, 0.999\n",
        "****\n",
        "**Статистической гипотезой** называют гипотезу о виде неизвестного распределения исследуемой случайной величины или о значении параметров известных распределений.\n",
        "****\n",
        "Выдвинутую гипотезу называют **нулевой или основной гипотезой** и обозначают $H_0$\n",
        "****\n",
        "**Конкурирующей или альтернативной** называют гипотезу $H_1$, которая противоречит основной гипотезе.\n",
        "****\n",
        "Различают **простые гипотезы** (содержат только одно предположение) и **сложные гипотезы** (содержат более одного предположения)\n",
        "****\n",
        "**Ошибка первого рода** состоит в том, что нулевая гипотеза отвергается, хотя она верна\n",
        "****\n",
        "**Ошибка второго рода** состоит в том, что нулевая гипотеза принимается, хотя она неверна\n",
        "****\n",
        "Вероятность совершения ошибки первого рода называют **уровнем значимости** и обозначают $α$. Как правило, уровень значимости назначают равным от 0.001 до 0.2\n",
        "****\n",
        "Величину $1 - β$ - вероятность того, что гипотеза отвергается, когда она верна, называют **мощностью критерия**\n",
        "\n",
        "Следует отметить, что принятие гипотезы не означает ее справедливость, а лишь констатирует, что, в соответствии с используемым критерием и уровнем значимости, гипотеза согласуется с данными наблюдений.\n",
        "****\n",
        "Для проверки статистических гипотез предлагаются различные критерии, которые представляют собой значения случайных величин, имеющих те или иные известные законы распределения.\n",
        "\n",
        "При проверке статистических гипотез на основе выборочных данных вычисляются значения этих случайных величин (**наблюденные значения**), которые сопоставляются с некоторыми, так называемыми, **критическими** (зависящими от заданного уровня значимости $α$) **значениями** этих случайных величин. На основании этого сопоставления принимается решение о принятии или не принятии нулевой гипотезы.\n",
        "\n",
        "****\n",
        "**Областью принятия нулевой гипотезы** называют совокупность значения критерия, при которых нулевую гипотезу принимают\n",
        "****\n",
        "**Критической областью** называют совокупность значений критерия, при которых нулевую гипотезу отвергают\n",
        "****\n",
        "Область принятия гипотезы и критическая область разделены точками, которые называются **критическими значениями критерия** $K_{кр}$\n",
        "****\n",
        "Область непринятия гипотезы может быть односторонней (правосторонней или левосторонней) и двусторонней\n",
        "\n",
        "**Правосторонней** называют критическую область, определяемую неравенством $K_{набл} > K_{кр}$\n",
        "\n",
        "**Левосторонней** называют критическую область, определяемую неравенством $K_{набл} < K_{кр}$\n",
        "\n",
        "**Двусторонней** называют критическую область, определяемую неравенствами $K_{набл} < K_{кр_1}$ и $K_{набл} > K_{кр_2}$\n",
        "\n",
        "****\n",
        "**Критерий Пирсона (или критерий $χ^2$)** - правосторонний критерий. Согласно этому критерию на основании выборочных данных вычисляется \"наблюденное\" значение случайной величины $χ^2$:\n",
        "$$χ^2_{набл} = \\sum^K_{i=1} \\frac{(n_i - n_i')^2}{n_i'} (5)$$\n",
        "Здесь $n_i'$ - теоретические частоты - частоты, с которыми нормально распределенная величина с параметрами $\\overline{x_в}$ и $S$ попала бы в $i$-й интервал интервального ряда при проведении $N$ испытаний\n",
        "****\n",
        "Распределение хи-квадрат зависит от числа свободы $k$, которое вычисляется по формуле (для нормального распределения):\n",
        "$$k = K - 3 (6)$$\n",
        "\n",
        "По числу степеней свободы и уровню значимости вычисляется значение $χ^2_{крит} = χ^2(α,k)$. Это значение можно определить с помощью соответствующей таблицы.\n",
        "\n",
        "Область принятия гипотезы $H_0$ определяется условием:\n",
        "$$χ^2_{набл} ≤ χ^2_{крит} (7)$$"
      ]
    },
    {
      "cell_type": "markdown",
      "metadata": {
        "id": "U6P8ZJqRqH8b"
      },
      "source": [
        "## Постановка задачи\n",
        "\n",
        "Для заданной надежности определить (на основании выборочных данных и результатов выполнения практической работы №2) границы доверительных интервалов для математического ожидания и среднеквадратичного отклонения случайной величины. Проверить гипотезу о нормальном распределении исследуемой случайной величины с помощью критерия Пирсона $\\chi^2$. Дать содержательную интерпретацию полученным результатам."
      ]
    },
    {
      "cell_type": "markdown",
      "metadata": {
        "id": "numioZyzqH8b"
      },
      "source": [
        "## Выполнение работы\n"
      ]
    },
    {
      "cell_type": "markdown",
      "source": [
        "**Пункт 1**\n",
        "\n",
        "**Вычислить точность и доверительный интервал для математического ожидания при неизвестном среднеквадратичном отклонении при заданном объёме выборки для доверительной точности $γ∈\\{0.95,0.99\\}$. Сделать выводы.**"
      ],
      "metadata": {
        "id": "eJ0MNak27yHo"
      }
    },
    {
      "cell_type": "markdown",
      "source": [
        "Имеется выборка объемом $N$ = 108:"
      ],
      "metadata": {
        "id": "GgzTJu7B8R0t"
      }
    },
    {
      "cell_type": "markdown",
      "source": [
        "Рассматривается случайная величина $t$:\n",
        "$$t = \\frac{\\overline{x}_в - a}{s / \\sqrt{N}}$$\n",
        "\n",
        "$\\overline{x}_в$ - выборочное среднее\n",
        "\n",
        "$a$ - математическое ожидание\n",
        "\n",
        "$s$ - исправленное СКО\n",
        "\n",
        "$N$ - объем выборки\n",
        "\n",
        "Эта случайная величина распределена по закону $S(t, N)$ - закону Стьюдента с $k = N - 1$ степенями свободы\n",
        "\n",
        "Поскольку функция $S(t, N)$ является четной, справедливо соотношение:\n",
        "$$P(|\\frac{\\overline{x}_в - a}{s / \\sqrt{N}}|<t_γ) = 2 ∫_0^{t_γ}S(t, N)dt = γ (8)$$\n",
        "\n",
        "$$(8) → P(\\overline{x}_в - t_γs/\\sqrt{N} < a < \\overline{x}_в + t_γs/\\sqrt{N}) = γ$$\n",
        "\n",
        "В результате требуемый доверительный интервал, покрывающий неизвестное значение параметра $a$ с надежностью $γ$ принимает следующий вид:\n",
        "$$(\\overline{x}_в - t_γs/\\sqrt{N} ; \\overline{x}_в + t_γs/\\sqrt{N})$$\n",
        "Точность $δ$ = $t_γs/\\sqrt{N}$\n",
        "\n",
        "Значение $t_γ$ определяется по заданным значениям $γ$ и $N$ по соответствующей таблице"
      ],
      "metadata": {
        "id": "rAGh4dMG-ISe"
      }
    },
    {
      "cell_type": "markdown",
      "source": [
        "Пусть $γ = 0.95$, тогда значение $t_γ$ согласно таблице (при $N = 108$) равно $1.984$\n",
        "\n",
        "Пусть $γ = 0.99$, тогда значение $t_γ$ согласно таблице (при $N = 108$) равно $2.627$"
      ],
      "metadata": {
        "id": "CLYGjp6xfzTA"
      }
    },
    {
      "cell_type": "code",
      "source": [
        "import math #подключение библиотек\n",
        "from prettytable import PrettyTable"
      ],
      "metadata": {
        "id": "_dd0mzd3jnWB"
      },
      "execution_count": null,
      "outputs": []
    },
    {
      "cell_type": "code",
      "source": [
        "x_mean = 1635.172839506173\n",
        "s = 286.0932746391938\n",
        "t_gamma = 1.984\n",
        "N = 108\n",
        "\n",
        "def get_interval_1(x_mean, s, t_gamma, N):\n",
        "  d = t_gamma * s / math.sqrt(N)\n",
        "  left_border =  x_mean - d\n",
        "  right_border = x_mean + d\n",
        "\n",
        "  return d, left_border, right_border\n",
        "\n",
        "temp = get_interval_1(x_mean, s, t_gamma, N)\n",
        "print(\"при надежности 0.95:\")\n",
        "print(temp[0])\n",
        "print(\"(\" + str(temp[1]) + \";\" + str(temp[2]) + \")\")\n",
        "\n",
        "t_gamma = 2.627\n",
        "temp = get_interval_1(x_mean, s, t_gamma, N)\n",
        "print(\"\\nпри надежности 0.99:\")\n",
        "print(temp[0])\n",
        "print(\"(\" + str(temp[1]) + \";\" + str(temp[2]) + \")\")"
      ],
      "metadata": {
        "colab": {
          "base_uri": "https://localhost:8080/"
        },
        "id": "HZmymXysix1s",
        "outputId": "ff97b923-96ed-4878-ab1a-9a554bd8fe6f"
      },
      "execution_count": null,
      "outputs": [
        {
          "output_type": "stream",
          "name": "stdout",
          "text": [
            "при надежности 0.95:\n",
            "54.61820696442328\n",
            "(1580.5546325417497;1689.7910464705963)\n",
            "\n",
            "при надежности 0.99:\n",
            "72.31957141912295\n",
            "(1562.85326808705;1707.4924109252959)\n"
          ]
        }
      ]
    },
    {
      "cell_type": "markdown",
      "source": [
        "То есть, согласно вычислениям, при надежности $0.95$ **точность** равна $54.61820696442328$, а **доверительный интервал** $(1580.5546325417497;1689.7910464705963)$\n",
        "\n",
        "А при при надежности $0.99$ **точность** равна $72.31957141912295$, а **доверительный интервал** $(1562.85326808705;1707.4924109252959)$"
      ],
      "metadata": {
        "id": "my4ND1pvkiSh"
      }
    },
    {
      "cell_type": "markdown",
      "source": [
        "**Выводы по пункту:**\n",
        "\n",
        "Согласно проведенным вычислением истинное значение математического ожидания содержится в интервале $(1580.5546325417497;1689.7910464705963)\n",
        "$ с вероятностью $0.95$ и в интервале $(1562.85326808705;1707.4924109252959)$ с вероятностью $0.99$.\n",
        "\n",
        "Стоит отметить, что хоть и второй интервал с большей доверительной вероятностью покрывает истинное значение искомого параметра, он менее точен, чем первый (т.к. точность для него численно больше, чем у первого). Если посмотреть на полученную ранее формулу для определения точности $δ$ = $t_γs/\\sqrt{N}$, то улучшить точность, не уменьшая при этом доверительную вероятность, можно путем увеличения объема выборки."
      ],
      "metadata": {
        "id": "nAPSy_kKlOfQ"
      }
    },
    {
      "cell_type": "markdown",
      "source": [
        "**Пункт 2**\n",
        "\n",
        "**Для вычисления границ доверительного интервала для среднеквадратичного отклонения определить значение $q$ при заданных $γ$ и $n$. Построить доверительные интервалы, сделать выводы.**"
      ],
      "metadata": {
        "id": "eVtapMd5_0_a"
      }
    },
    {
      "cell_type": "markdown",
      "source": [
        "Рассматривается соотношение $P(|s-σ|<δ)=γ$ и равносильное ему:\n",
        "$$P(s-δ<σ<s+δ)=γ$$\n",
        "Преобразуется двойное неравенство $s-δ<σ<s+δ$ к виду:\n",
        "$$s(1-δ/s)<σ<s(1+δ/s)$$\n",
        "Вводится обозначение: $q = δ/s$, тогда:\n",
        "$$s(1-q)<σ<s(1+q)$$\n",
        "Предполагая $q<1:$\n",
        "$$\\frac{1}{s(1+q)}<\\frac{1}{σ}<\\frac{1}{s(1-q)}$$\n",
        "Если умножить это неравенство на $s\\sqrt{N-1}$:\n",
        "$$\\frac{\\sqrt{N-1}}{(1+q)}<\\frac{s\\sqrt{N-1}}{σ}<\\frac{\\sqrt{N-1}}{(1-q)}$$\n",
        "Далее пусть случайная величина $χ$ равна:\n",
        "$$χ = \\frac{s\\sqrt{N-1}}{σ}$$\n",
        "Функция плотности вероятности $R(χ, N)$ распределения случайной величины $χ$ зависит только от $N$\n",
        "Тогда предыдущее двойное неравенство перепиштся в виде:\n",
        "$$\\frac{\\sqrt{N-1}}{(1+q)}<χ<\\frac{\\sqrt{N-1}}{(1-q)}$$\n",
        "\n",
        "Чтобы вероятность выполнения двойного неравенства равнялась, $γ$ необходимо выполнения условия:\n",
        "$$∫_{\\sqrt{N-1}/(1+q)}^{\\sqrt{N-1}/(1-q)}R(χ, N)dχ = γ$$\n",
        "\n",
        "Значение $q$, при котором, при заданных значениях $γ$ и $N$, предыдущее уравнение выполняется, определяется по соответствующей таблице.\n",
        "\n",
        "В результате требуемый доверительный интервал ($s(1-q), s(1+q)$), покрывающий неизвестное значение параметра $σ$ с надежностью $γ$, будет построен"
      ],
      "metadata": {
        "id": "-kbq7DW8Awjn"
      }
    },
    {
      "cell_type": "markdown",
      "source": [
        "Пусть $γ = 0.95$, тогда значение $q$ согласно таблице (при $N = 108$) равно $0.143$\n",
        "\n",
        "Пусть $γ = 0.99$, тогда значение $q$ согласно таблице (при $N = 108$) равно $0.198$"
      ],
      "metadata": {
        "id": "ayqC2P4_F9D4"
      }
    },
    {
      "cell_type": "code",
      "source": [
        "s = 286.0932746391938\n",
        "q = 0.143\n",
        "\n",
        "def get_interval_2(s, q):\n",
        "  left_border =  s*(1-q)\n",
        "  right_border = s*(1+q)\n",
        "\n",
        "  return left_border, right_border\n",
        "\n",
        "temp = get_interval_2(s, q)\n",
        "print(\"при надежности 0.95:\")\n",
        "print(\"(\" + str(temp[0]) + \";\" + str(temp[1]) + \")\")\n",
        "\n",
        "q = 0.198\n",
        "temp = get_interval_2(s, q)\n",
        "print(\"\\nпри надежности 0.99:\")\n",
        "print(\"(\" + str(temp[0]) + \";\" + str(temp[1]) + \")\")"
      ],
      "metadata": {
        "colab": {
          "base_uri": "https://localhost:8080/"
        },
        "id": "6ttJUo3kHUTa",
        "outputId": "17905e30-d344-4df1-8acd-a730145d5566"
      },
      "execution_count": null,
      "outputs": [
        {
          "output_type": "stream",
          "name": "stdout",
          "text": [
            "при надежности 0.95:\n",
            "(245.18193636578908;327.00461291259853)\n",
            "\n",
            "при надежности 0.99:\n",
            "(229.44680626063342;342.73974301775417)\n"
          ]
        }
      ]
    },
    {
      "cell_type": "markdown",
      "source": [
        "То есть, согласно вычислениям, при надежности $0.95$ **значение $q$** равно $0.143$, а **доверительный интервал** $(245.18193636578908;327.00461291259853)$\n",
        "\n",
        "А при при надежности $0.99$ **значение $q$** равно $0.198$, а **доверительный интервал** $(229.44680626063342;342.73974301775417)$"
      ],
      "metadata": {
        "id": "vBa075TwI6uN"
      }
    },
    {
      "cell_type": "markdown",
      "source": [
        "**Выводы по пункту:**\n",
        "\n",
        "Согласно проведенным вычислением истинное значение среднеквадратичного отклонения содержится в интервале $(245.18193636578908;327.00461291259853)$ с вероятностью $0.95$ и в интервале $(229.44680626063342;342.73974301775417)$ с вероятностью $0.99$.\n",
        "\n",
        "Опять же, доверительный интервал во втором случаее менее точен (т.к. $δ = qs)$, но с большей вероятностью покрывает истинное значение искомого параметра"
      ],
      "metadata": {
        "id": "0Tb_HRyIJeNJ"
      }
    },
    {
      "cell_type": "markdown",
      "source": [
        "**Пункт 3**\n",
        "\n",
        "**Проверить гипотезу о нормальности заданного распределения с помощью критерия $\\chi^2$ (Пирсона). Для этого необходимо найти теоретические частоты и вычислить наблюдаемое значение критерия. Для удобства вычисления необходимо заполнить табл. 1.**"
      ],
      "metadata": {
        "id": "Fto2-6hwMKX7"
      }
    },
    {
      "cell_type": "markdown",
      "source": [
        "Выдвигается гипотеза $H_0$ - выборочные данные представляют значения случайной величины, распределенной по нормальному закону распределения. В качестве критерия проверки гипотезы будет использоваться критерий Пирсона (5):\n",
        "$$χ^2_{набл} = \\sum^K_{i=1} \\frac{(n_i - n_i')^2}{n_i'} $$\n",
        "\n",
        "$n_i'$ - теоретические частоты - частоты, с которыми нормально распределенная величина с параметрами $\\overline{x_в}$ и $s$ попала бы в $i$-й интервал интервального ряда при проведении $N$ испытаний\n",
        "\n",
        "\n"
      ],
      "metadata": {
        "id": "0glF7qSoZWqf"
      }
    },
    {
      "cell_type": "markdown",
      "source": [
        "Теоретические частоты вычисляются по следующему алгоритму:\n",
        "\n",
        "\n",
        "1.   Пересчитываются значения границ интервалов интервального ряда. При этом левая граница первого интервала назначается равной $-∞$ ($z_1 = -∞)$, а правая граница последнего интервала назначается равной $+∞$ ($z_{K+1} = +∞)$. Остальные значения вычисляются по формуле: $$z_i = \\frac{x_i - \\overline{x_в}}{s}, i = 2, 3, ..., K$$\n",
        "2.   Вычисляется вероятность попадания случайной величины в кадждый $i$-й интервал интервального ряда: $$p_i = Ф(z_{i+1}) - Ф(z_{i}), i = 1, 2, 3, ..., K$$ $Ф(z)$ - функция Лапласа: $Ф(z) = \\frac{1}{\\sqrt{2π}}∫_0^ze^{-\\frac{t^2}{2}}dt$. Значения этой функции можно взять из соответствующей таблицы. При этом нужно учитывать нечетность этой функции и то, что $Ф(-∞) = -0.5$; $Ф(+∞) = 0.5$\n",
        "3. Вычислить значения теоретических частот: $$n_i' = Np_i, i = 1, 2, 3, ..., K$$\n",
        "\n",
        "\n",
        "\n"
      ],
      "metadata": {
        "id": "ctxK22R2gtVp"
      }
    },
    {
      "cell_type": "code",
      "source": [
        "# пересчитывание границ\n",
        "K = 9\n",
        "x_mean = 1635.172839506173\n",
        "s = 286.0932746391938\n",
        "\n",
        "z = [-math.inf]\n",
        "interval_borders = [1040.0, 1190.888888888889, 1341.7777777777778,\n",
        "                    1492.6666666666665, 1643.5555555555557, 1794.4444444444443,\n",
        "                    1945.3333333333333, 2096.222222222222, 2247.1111111111113,\n",
        "                    2398.0]\n",
        "for i in range(1, K):\n",
        "  z.append((interval_borders[i] - x_mean)/s)\n",
        "\n",
        "z.append(math.inf)\n",
        "\n",
        "for i in range(len(z)):\n",
        "  print('z_' + str(i+1) + \" = \" + str(z[i]))"
      ],
      "metadata": {
        "colab": {
          "base_uri": "https://localhost:8080/"
        },
        "id": "Ou5zc-hXoJPN",
        "outputId": "4e983619-7665-4be7-ebd8-0f9cd358dca6"
      },
      "execution_count": null,
      "outputs": [
        {
          "output_type": "stream",
          "name": "stdout",
          "text": [
            "z_1 = -inf\n",
            "z_2 = -1.552933920511037\n",
            "z_3 = -1.0255224003374774\n",
            "z_4 = -0.4981108801639184\n",
            "z_5 = 0.029300640009642075\n",
            "z_6 = 0.556712160183201\n",
            "z_7 = 1.0841236803567607\n",
            "z_8 = 1.6115352005303203\n",
            "z_9 = 2.138946720703881\n",
            "z_10 = inf\n"
          ]
        }
      ]
    },
    {
      "cell_type": "code",
      "source": [
        "F = [-0.5, -0.4394, -0.3485, -0.1915, 0.012, 0.2123, 0.3599, 0.4463, 0.4898, 0.5]\n",
        "\n",
        "print('Значения функции Лапласа согласно таблице:')\n",
        "\n",
        "for i in range(len(F)):\n",
        "  print('Ф(z_' + str(i+1) + \") = \" + str(F[i]))"
      ],
      "metadata": {
        "colab": {
          "base_uri": "https://localhost:8080/"
        },
        "id": "Xfo0jRlm8QDQ",
        "outputId": "95654fd0-56ee-4a43-c834-0db71fbebbe0"
      },
      "execution_count": null,
      "outputs": [
        {
          "output_type": "stream",
          "name": "stdout",
          "text": [
            "Значения функции Лапласа согласно таблице:\n",
            "Ф(z_1) = -0.5\n",
            "Ф(z_2) = -0.4394\n",
            "Ф(z_3) = -0.3485\n",
            "Ф(z_4) = -0.1915\n",
            "Ф(z_5) = 0.012\n",
            "Ф(z_6) = 0.2123\n",
            "Ф(z_7) = 0.3599\n",
            "Ф(z_8) = 0.4463\n",
            "Ф(z_9) = 0.4898\n",
            "Ф(z_10) = 0.5\n"
          ]
        }
      ]
    },
    {
      "cell_type": "code",
      "source": [
        "p = []\n",
        "for i in range(0, K):\n",
        "  p.append(F[i+1] - F[i])\n",
        "\n",
        "print('вероятность попадания случайной величины в кадждый  i -й интервал интервального ряда:')\n",
        "for i in range(len(p)):\n",
        "  print('p_' + str(i+1) + \" = \" + str(p[i]))"
      ],
      "metadata": {
        "colab": {
          "base_uri": "https://localhost:8080/"
        },
        "id": "DuktbD7A_erM",
        "outputId": "f068cc15-39a1-48c1-9ff8-6ca34dd38e07"
      },
      "execution_count": null,
      "outputs": [
        {
          "output_type": "stream",
          "name": "stdout",
          "text": [
            "вероятность попадания случайной величины в кадждый  i -й интервал интервального ряда:\n",
            "p_1 = 0.06059999999999999\n",
            "p_2 = 0.09090000000000004\n",
            "p_3 = 0.15699999999999997\n",
            "p_4 = 0.20350000000000001\n",
            "p_5 = 0.20029999999999998\n",
            "p_6 = 0.1476\n",
            "p_7 = 0.08639999999999998\n",
            "p_8 = 0.04350000000000004\n",
            "p_9 = 0.010199999999999987\n"
          ]
        }
      ]
    },
    {
      "cell_type": "code",
      "source": [
        "N = 108\n",
        "n_i_teor = []\n",
        "for i in range(0, K):\n",
        "  n_i_teor.append(N * p[i])\n",
        "\n",
        "print('Теоретические частоты:')\n",
        "for i in range(len(n_i_teor)):\n",
        "  print(\"n'_i\" + str(i+1) + \" = \" + str(n_i_teor[i]))"
      ],
      "metadata": {
        "colab": {
          "base_uri": "https://localhost:8080/"
        },
        "id": "sQvZuBSDCZEm",
        "outputId": "717560e5-a82f-4a65-cc61-dc1fd772956b"
      },
      "execution_count": null,
      "outputs": [
        {
          "output_type": "stream",
          "name": "stdout",
          "text": [
            "Теоретические частоты:\n",
            "n'_i1 = 6.544799999999999\n",
            "n'_i2 = 9.817200000000003\n",
            "n'_i3 = 16.955999999999996\n",
            "n'_i4 = 21.978\n",
            "n'_i5 = 21.632399999999997\n",
            "n'_i6 = 15.940800000000001\n",
            "n'_i7 = 9.331199999999997\n",
            "n'_i8 = 4.698000000000004\n",
            "n'_i9 = 1.1015999999999986\n"
          ]
        }
      ]
    },
    {
      "cell_type": "markdown",
      "source": [
        "Далее производятся вычисления для наблюденного $χ^2_{набл}$"
      ],
      "metadata": {
        "id": "WvfPoIVLFMOl"
      }
    },
    {
      "cell_type": "code",
      "source": [
        "n_i = [5, 11, 22, 20, 19, 14, 10, 5, 2] # абсолютные частоты попадания интервального ряда\n",
        "\n",
        "fifth_column = []\n",
        "sixth_column = []\n",
        "seventh_column = []\n",
        "eighth_column = []\n",
        "for i in range(len(n_i)):\n",
        "  temp1 = (n_i[i] - n_i_teor[i]) ** 2\n",
        "  temp2 = n_i[i] ** 2\n",
        "\n",
        "\n",
        "  fifth_column.append(temp1)\n",
        "  sixth_column.append(temp1 / n_i_teor[i])\n",
        "  seventh_column.append(temp2)\n",
        "  eighth_column.append(temp2 / n_i_teor[i])\n",
        "\n",
        "chi_square = sum(sixth_column)\n",
        "\n",
        "print(chi_square)"
      ],
      "metadata": {
        "colab": {
          "base_uri": "https://localhost:8080/"
        },
        "id": "pzLx6U6sFZAs",
        "outputId": "27fcbd81-d27a-4676-ebc5-ff49fb64bb25"
      },
      "execution_count": null,
      "outputs": [
        {
          "output_type": "stream",
          "name": "stdout",
          "text": [
            "3.542274342038122\n"
          ]
        }
      ]
    },
    {
      "cell_type": "markdown",
      "source": [
        "То есть, $χ^2_{набл} = 3.542274342038122$"
      ],
      "metadata": {
        "id": "dICZY9LaJI4J"
      }
    },
    {
      "cell_type": "markdown",
      "source": [
        "Вышеописанные вычисления в таблице:"
      ],
      "metadata": {
        "id": "UuBHXoTPJW3z"
      }
    },
    {
      "cell_type": "code",
      "source": [
        "myTable = PrettyTable([\"i\", \"(x_{i-1}, x_i]\",\"n_i\", \"p_i\", \"n'_i\", \"(n_i-n'i)^2\",\n",
        "    \"(n_i-n'i)^2 / n'_i\", \"n^2_i\", \"n^2_i / n'_i\"])\n",
        "\n",
        "for i in range(0, K):\n",
        "  myTable.add_row([i+1, 0, n_i[i], p[i], n_i_teor[i], fifth_column[i],\n",
        "                   sixth_column[i], seventh_column[i], eighth_column[i]])\n",
        "\n",
        "myTable.add_row(['sum', '-', sum(n_i), sum(p), sum(n_i_teor), '-',\n",
        "                 sum(sixth_column), '-', sum(eighth_column)])\n",
        "\n",
        "print(myTable)"
      ],
      "metadata": {
        "colab": {
          "base_uri": "https://localhost:8080/"
        },
        "id": "7_03BNtdJfjH",
        "outputId": "3c396e45-0c18-4f69-8201-ed031ea1da4e"
      },
      "execution_count": null,
      "outputs": [
        {
          "output_type": "stream",
          "name": "stdout",
          "text": [
            "+-----+----------------+-----+----------------------+--------------------+---------------------+----------------------+-------+--------------------+\n",
            "|  i  | (x_{i-1}, x_i] | n_i |         p_i          |        n'_i        |     (n_i-n'i)^2     |  (n_i-n'i)^2 / n'_i  | n^2_i |    n^2_i / n'_i    |\n",
            "+-----+----------------+-----+----------------------+--------------------+---------------------+----------------------+-------+--------------------+\n",
            "|  1  |       0        |  5  | 0.06059999999999999  | 6.544799999999999  |  2.386407039999996  |  0.3646264270871526  |   25  | 3.819826427087154  |\n",
            "|  2  |       0        |  11 | 0.09090000000000004  | 9.817200000000003  |  1.3990158399999923 |  0.1425066047345467  |  121  | 12.325306604734543 |\n",
            "|  3  |       0        |  22 | 0.15699999999999997  | 16.955999999999996 |  25.44193600000004  |  1.5004680349138975  |  484  |  28.5444680349139  |\n",
            "|  4  |       0        |  20 | 0.20350000000000001  |       21.978       |  3.9124840000000063 |  0.1780182000182003  |  400  |  18.2000182000182  |\n",
            "|  5  |       0        |  19 | 0.20029999999999998  | 21.632399999999997 |  6.929529759999984  |  0.3203310663634172  |  361  | 16.68793106636342  |\n",
            "|  6  |       0        |  14 |        0.1476        | 15.940800000000001 |  3.766704640000005  | 0.23629332530362368  |  196  | 12.295493325303623 |\n",
            "|  7  |       0        |  10 | 0.08639999999999998  | 9.331199999999997  | 0.44729344000000365 | 0.047935253772291214 |  100  | 10.716735253772294 |\n",
            "|  8  |       0        |  5  | 0.04350000000000004  | 4.698000000000004  | 0.09120399999999762 | 0.019413367390378362 |   25  | 5.321413367390375  |\n",
            "|  9  |       0        |  2  | 0.010199999999999987 | 1.1015999999999986 |  0.8071225600000026 |  0.7326820624546148  |   4   | 3.6310820624546163 |\n",
            "| sum |       -        | 108 |         1.0          |       108.0        |          -          |  3.542274342038122   |   -   | 111.54227434203813 |\n",
            "+-----+----------------+-----+----------------------+--------------------+---------------------+----------------------+-------+--------------------+\n"
          ]
        }
      ]
    },
    {
      "cell_type": "markdown",
      "source": [
        "Таблица на github, съезжает, снизу она приведена фотографией:\n",
        "![image.png](data:image/png;base64,iVBORw0KGgoAAAANSUhEUgAABD8AAADpCAYAAAAj4ZxvAAAgAElEQVR4AeydP7LdRpL1v61wH1wEuYOhPRPBDdAdgwuQLafHmYg2aY3BaI9Gt6MYbxQy5alNuvzi97oP+yhVlUABhYuLe7MingqorPx38mQBD6Sk//etRiFQCBQChUAhUAgUAoVAIVAIFAKFQCFQCBQCD4zA/3vg3Cq1QqAQKAQKgUKgECgECoFCoBAoBAqBQqAQKAS+1cePIkEhUAgUAoVAIVAIFAKFQCFQCBQChUAhUAg8NAL18eOhy1vJFQKFQCFQCBQChUAhUAgUAoVAIVAIFAKFQH38KA4UAoVAIVAIFAKFQCFQCBQChUAhUAgUAoXAQyNQHz8euryVXCFQCBQChUAhUAgUAoVAIVAIFAKFQCFQCNTHj+JAIVAIFAKFQCFQCBQChUAhUAgUAoVAIVAIPDQC9fHjoctbyRUChUAhUAgUAoVAIVAIFAKFQCFQCBQChcDqjx///d///e3jx4+XQOz//u//vr179+7b3//+90vEW0FuR6B4uR270iwEQOBKPVQVuxYCPIN5FvNMrlEI3BKBeg+8Jdrlay0Cz8LLeq9Yy4jaN4rAjB6qjx+jqNf+u0LgSgfsjIa9K/ArmIdA4Eo99BCAP1ES9fHjiYp9Z6nW8/bOClLhvCDwLLys94oi/FEIzOih+vhxVHXK7k0QuNIBO6NhbwJqOXkqBK7UQ09VmAdItj5+PEARL5pCPW8vWrgHD/tZeFnvFQ9O5BPTm9FD6ccPXlzevn377dWrV7/7ef369fe/xgrBXf7ly5fvkHDtMvZqRNvv37//9vXr1xdxJmMPe2WX+NjP4F/L0brP8rs1nswnfjMMMtkZ8Wz1ubUmS/hsiSfGolqLl3vqtSUecsx87uHlEfEcUZMlDDJ8zohnj89HqMlSD+3BJ9r2s/0oHlypJmfgc5TP3vMtruuM1r86e1Q8W3lwb/Hs6ZOIPZhobMVnTzxbfW6tyZ7n7VafS+fllWqytV5ncCTzmcmW6nUEBnt4eUQ8R2AQ+0fn/r2+m+/B4Co1IcesFzLZHnwiF2a8By71EPGuHenHDzfC4a0XF1+/x+sZX4XuMa+K6Y8IFC//iEmtFAIjCFyph0byqr3nI8ALUP03P86vwzNGUO+Bz1j1+8/5WXhZ7xX3z8WrRjijh+rjx1WrX3G/IHClA3ZGw1bZC4HZCFyph2bnXvaORaA+fhyLb1nvI1DP2z42JTkPgWfhZb1XnMexR/c8o4fq48ejs+TB87vSATujYR+8nJXeCQhcqYdOgKdc7kCgPn7sAK9UdyFQz9td8JXyQQg8Cy/rveIgApXZl//sxt7/o+vqjx+FdyFQCBQChUAhUAgUAoVAIVAIFAKFQCFQCBQCV0SgPn5csWoVcyFQCBQChUAhUAgUAoVAIVAIFAKFQCFQCKxGoD5+rIaqNhYChUAhUAgUAoVAIVAIFAKFQCFQCBQChcAVEaiPH1esWsVcCBQChUAhUAgUAoVAIVAIFAKFQCFQCBQCqxGojx+roaqNhUAhUAgUAoVAIVAIFAKFQCFQCBQChUAhcEUE6uPHFatWMRcChUAhUAgUAoVAIVAIFAKFQCFQCBQChcBqBOrjx2qoamMhUAgUAoVAIVAIFAKFQCFQCBQChUAhUAhcEYHVHz/4fzbzc4XB/0f7w4cP375+/XqFcCvGHQgUL3eAV6qFwLdvL+f6Vc72Kti1EPj73//+7f3799+YaxQCt0Sg3gNviXb5WovAs/DySu/ma2tX++4DgRk9dOrHDz5O8GLEz8wPFXuB+fLly/SYPn78+O3Vq1d/+IBErK9fv/7D+h6K9XztsblXF0zJn9mH8kf29u3b4ZfkWx+wezi7l5eOW13/C4E9NfmXlee9unUPXQ1pzizOaPp3ZBQvv72c51f7+DH7+a9n3OwPjBkvkfWet8/yB0NHPm+x/e7du+H3ld75cQZHej6PxK2Xv6/Pxpb34S2/Y/Tw8Vi3XJ+N70jMezB49veKGc//2c+irb3Qe56McGnm3hk9VB8/QkUA9c2bN8MvusHM724zAm89XETG3gcD/qSNhzP272EoXubWIM4tLxO3PmD3HGjk+Cwvnq0aH7W2pyZHxXQlu7fuoSthQ6z07ZZnQvHyeh8/ttY64zQ2Z/8BxxIvs+ct/c5LcGuIsy05a3xQ4aclb9k7c+2o5y3vVrx39d5ltuR8Bkcyn2dyZPbzCHuP/vHjqL7NOLLE89l1XPK3R04vt/6AQ/lz5rXkmU/VZAv3ZJdzduY5s7UXsueJYr3lTF32/i516sePo8DaCozIOpNs5Ii9mS8LIvDnz5+7f1uCXCAHWFxhEOcVPn7swXIrL/f4LN1CYAmBK72kLOVyhJy+3fLx44hYrmbzSv/ay1HP/6NqtpWXWZ6cBT/++OMf3h38HeaIX/6PwOio5y3vcuB0hXE1jhzxh3Z6X4b39zCO4OU99i0xXaFP9Iz69OnT735Pi79D3ZpH8GTL70QZx2+dQxbLHtmMHjrt44e+JB3xpwhbgSGm+JVOLwq+DoF6f+OiVVB/cXA5D1H9SQp7Rgc6vThi447a9v162fEPOFw7Jr7fr4Xf0pfTrY1OLfhZO8QNPgyNYg/e0nEsRn2DSY1/IaCa8NItfNfWdG9N/hXF816N9tAjIUXuP/zww8s5Cvd65+lozsXLfyCmF0vmex/UrPVM28ORrc/4rT7XPm9buVIj4sWGzuTes4p9xHjPYymHLbFjs/ULiXxtea+4NUfIe43PMziCT2JbO7b2yZL9Nfgs2ejJxZVeb0U9naE8p1rvR0f17V4MqM09nBFLHEEO7xjkrOtYh17vx33cY0O1GuGz2xrFDz+8Q/M3VPDdepa5/TXXa58na2zN3DPaQy3fp338UDAUeCs5ZCPOW4HpkU0EQD7SAIqrZxe5bPcaTjZaMzrZy3rWyC172RoHLL7wyc9oY6HPSwP4tcYWXLGTYdvzw+Egzm3JBZ/Sb/norW3lZc/eo6yDi9dkCxe21uRRMNyTx2gP7fF1b7rkzosC5wCDvmZt1nh2XurFnfneR68P9nJkyzN+r8+l522Ut2Ls9ULUvde6HvG85ZxoPfvjM2z0vaKF/xKuezmy5DPWubV/JkewP/q3lfdikGHcyjfbv1Y2ykvqwLu33rn9/agV4+ya4FfPx7U5so/a8HP2yDgS+9SxjXFjp9X7cZ/fb9FBn5qDO/PaQWz6V3NavFhrp7UvngWtPbdcG+2hVmz18cNQgTy9JtcBJHKZWveSArE/OwB6JJU/fT3UwefOiDX7+MFeclra4zaza+Wzxd5S82SHThYT2Gb4Rt3oJ97H/a37rQcavni4U/Ma/0Ig1gB8trwEjT6Y/hXBc1+N9tAjoRV7Od7vzXW2vb3x3Fqfc3/0Je7WMcpf7/kfaxjvpd+btzzjo4943/Ol9aXn7ZYzFtvKhXjufRzxvCXvVu7xGRbvl7ASrvH9M3sPjJyI91t9Su/WHIm/iCqObI45x/tMd0nWq8mS3pJ8lJexl+P9kj/kygV8Rob0Ii/X2MDXqL81dkf3RE7E+zX21vyu1bKzxRd2tujx/EJPI95rfcu8hXNb/KzVGe2hlt36+GGo9F5+2KLi8+9+jx4EENJJaS6/H0qjNrGx1JBZPh7D2msI92//9m+b/v134YeN1mC99ddJW3t9LcPW9+k6+on32pfN+ATb0YGv+vjxR9RiDba8dG2tyR+jeb6V0R56JIQib+L93lxn29sbz631Offr48c//q92I8/4yJt4v1THpeftljNWvwgRyxXGEc9bcm/lH59h8X4JL2F7S44s+bw1R7a8r8a+iPdLuGfyJXwy3Uw2ysvYy/E+84VMebR4u1Z3hJeyib8tPqU/a46ciPdLfpZ+z8r0R31ha0vfoUf/ON7xPotzSTbKuSV7e+WjPdTyVx8/DBWI4+SRSIcHTTD6UMMGer1flt22/K2ds6bMGgg9/kZJK9eebyc/+q2/idLTZd31W/u24IqdXs1aPliLfuJ9T8/X8dmrp++L1/iqjx8RlT/WZAu/ttbkj9E838poDz0SQpE38X5vrrPt7Y3n1vqc+1f5+NHrg1jDeL+E6ZZnfPQR75d8Lj1vR+vCfv7GJ3FcZRzxvOXZ1Hr2x/eIeL+E2RkcWfJ5S45srVXsi3i/hHsmX8In081ko7nGXo73ma+9fbsHA2pxD+dF5ES8z/Bj75a/6S6bI76k0ztjJO/N8WNHvO/prVkf4dwae3v3jPZQy99pHz8ghf6VDs2th0or6KW1rcC0fulS83tsxD7yr7+0yCy7yl0ze5cGe7Rfc/wYgf3evzoAPsTvOWU+WwcoumsOBekqTuYWdsR073/zYy9nt/Iyq80jyMRHcWQNr5T33prIzjPPYMjPMw7y9nMw3m/FBDvis2b3s9Xu1fQ4/6/y8aP1/AfvyIl436vJnmd89BHvez7XPm97ufbs4l881jxyTvfsHrl+xPO2954S1+N9L88zOLLW5y05wtkIx0ZH7It4P2qP/Wvx2WIbnVFe0tP+38uL91kcW/t2Bgb45ufsETkR73vxtc5Szr41ObFH56TmNc9/4U7vjY7YQ/F+1B77Wxi0fn/bYnuPzmgPtXyd9vGjFcysta3A7CFeFjtEXkP8zMaojFx6Hz+U55omHvW7df/al4VonxzuKY8Yn99v5aXbeMTrrbV/RCzOyOlKPXQGPuVzOwK8PF3l44eei1tePLcjdHvNZ8nzqOftjF8qbl/1MY+35MizPf+P4uVYhY/fXe8V4xiPfnAc9/AYGjN6qD5+BC4AKv9dD+ZZA0Lf+k9Jel+HOZDWfr2clf8aO+B9i7/5sSaWo/bMaNijYjvT7tbanxnzI/mul5RHquZ95XKljx8gx1k0+/l/XxX5499kubf4ZsVz1PNWfxr6yB/JeCbc+g/sZtX93u0cxct7y7veK+6tIo8Tz4weqo8fDT7wUFtz8FMA/gqQ/lqTz/FjB/Zu9dHhlr70McVz1/UohhGzRmn+sDTrgNULjWL3edZf85rRsH8A4AEWwKX14esWNXkA+HanMKuHdgdyEQPFy/WFAqur/M0PZXXE81+2z56f6Rl0ZK5rbbNv7Tvi2dyQ/7W5af/V5rNrcg/43gKDR32veKTn/97f387q/Rk9tPrjx1lJlt9CoBAoBAqBQqAQKAQKgUKgECgECoFCoBAoBPYgUB8/9qBXuoVAIVAIFAKFQCFQCBQChUAhUAgUAoVAIXD3CNTHj7svUQVYCBQChUAhUAgUAoVAIVAIFAKFQCFQCBQCexCojx970CvdQqAQKAQKgUKgECgECoFCoBAoBAqBQqAQuHsE6uPH3ZeoAiwECoFCoBAoBAqBQqAQKAQKgUKgECgECoE9CNTHjz3olW4hUAgUAoVAIVAIFAKFQCFQCBQChUAhUAjcPQKrP37wv8RZ878uvYeM+d/gtP7XmfcQW8UwF4Hi5Vw8y9rzIXClHnq+6lw7Y/63gDyLeSbXKARuiUC9B94S7fK1FoFn4WW9V6xlRO0bRWBGD9XHj1HUa/9dIXClA3ZGw94V+BXMQyBwpR56CMCfKIn6+PFExb6zVOt5e2cFqXBeEHgWXtZ7RRH+KARm9FB9/DiqOmX3Jghc6YCd0bA3AbWcPBUCV+qhpyrMAyRbHz8eoIgXTaGetxct3IOH/Sy8rPeKByfyienN6KH04wcvLm/fvv326tWr3/28fv36+19jheAu//Lly3dIuHYZezWi7ffv33/7+vXriziTsYe9skt87Gfwr+Vo3Wf53RpP5hO/GQaZ7Ix4tvrcWpMlfLbEE2NRrcXLPfXaEg85Zj738PKIeI6oyRIGGT5nxLPH5yPUZKmH9uATbfvZfhQPrlSTM/A5ymfv+RbXdUbrX509Kp6tPLi3ePb0ScQeTDS24rMnnq0+t9Zkz/N2q8+l8/JKNdlarzM4kvnMZEv1OgKDPbw8Ip4jMIj9o3P/Xt/N92BwlZqQY9YLmWwPPpELM94Dl3qIeNeO9OOHG+Hw1ouLr9/j9YyvQveYV8X0RwSKl3/EpFYKgREErtRDI3nV3vMR4AWo/psf59fhGSOo98BnrPr95/wsvKz3ivvn4lUjnNFD9fHjqtWvuF8QuNIBO6Nhq+yFwGwErtRDs3Mve8ciUB8/jsW3rPcRqOdtH5uSnIfAs/Cy3ivO49ije57RQ/Xx49FZ8uD5XemAndGwD17OSu8EBK7UQyfAUy53IFAfP3aAV6q7EKjn7S74SvkgBJ6Fl/VecRCByuzLf3Zj7//RdfXHj8K7ECgECoFCoBAoBAqBQqAQKAQKgUKgECgECoErIlAfP65YtYq5ECgECoFCoBAoBAqBQqAQKAQKgUKgECgEViNQHz9WQ1UbC4FCoBAoBAqBQqAQKAQKgUKgECgECoFC4IoI1MePK1atYi4ECoFCoBAoBAqBQqAQKAQKgUKgECgECoHVCNTHj9VQ1cZCoBAoBAqBQqAQKAQKgUKgECgECoFCoBC4IgL18eOKVauYC4FCoBAoBAqBQqAQKAQKgUKgECgECoFCYDUCqz9+8L8t4ucKg/+V1IcPH759/fr1CuFWjDsQKF7uAK9UC4Fv317O9auc7VWwayHA/+r2/fv335hrFAK3RKDeA2+Jdvlai8Cz8PJK7+Zra1f77gOBGT1UHz/uo5YVxUYErnTAzmjYjTCVWiHQReBKPdRNogR3iUB9/LjLsjxFUPW8fYoyXy7JZ+FlvVdcjpqXCXhGD5368YPmePXq1cufDM38WxozgLl3Fgi7I/C799w9vpkHLBzkTynBVD/cz+LmFl7yy8Pbt2+/x/PlyxdPP71e4ojLP378+N1W5tN1wOj169ffyIsR8XObmQxdt0u+/ifF5Kx6uD/0YqzY0TjK573Fo3y3zmDmuK214zis7RPXUU1ZiwPuxFprj7givZZNbEt+Bkcyn5nsKM7u8Snct8z4nf03P7ze8azIYnQ9+OHnU8Qn2o11EbfcX4uz0a704rp6wWMSz5F5f8VYYp+4XszDMYh6MSY/E6JPjxMMtvpE1/3GmBzf0estz9slH56n1yTTi9i1cvS6tOySC3oR92hb/CIetxl5EOUtn8rVbUZ/4khcF5/drnJAFjHwWJErT+eGbLrc84g5RpvoeS4uj7puFz3PA9mecQQvs3jAUtgJV/a3sHV5ZnONDG6IH2v2Rw5FjmQ2Yi6xnqp1XMemeA5GUS69Fn4Zn7HrMbVykTxyy316PL6ueJhZ1+jVuodtXJddj0lxRl8tXddTTMJpJrdm9NBpHz8Agh+I1wJMwG2ZZwCzxe+tdCC7YwaGM4l1qzxm+CF3fmYMNbMfJjPsysYoL2M8HELv3r37/rFBdlvzEkfgi3NINpZ8ZlxTT8uW+pv7TEas8ZBXbGD25s2b7zlzDwZgoVhVf92rfkf4vLd4hPWeeUsPoeM1W+s/8rKlh23q3+I6+qzzozpHG94n4sQtOZL5zGTkcQRn9/iM2I7eUwtqyTxjRHsRr7U+nCPoYMf55D3BXrguDrV8tDgr3GU3+ox2iEE+0NEZyD7WkbeGy9DzvnQ793h2ERO/GAijVn5b17A9819/diyJyXEfiTHqce81i7bEG3JxDmS8ROZ9h57rLvkk19Y5ix4/jMinGDf75FM5oCNd7LMeY6VvyFV7o11sKgZm8vz8+fMfMIz1cjvR5yg+bmv0ejYvM/9g4DWAZ6wxYk0yO1tk1EZ12qqv2Jf02ae82Ou+lzjiveeciRxxXvq1/Pl5TY2zc03PBuJ2vegTeQ+DWD/y9L1cC3/Hg3idFxFbt0MevH+z37mDjnJw3KMtxRjPrrhv9H5GD5328UPJArQXX+t75hnA7PF/pG4knO69gY/0f2+2Y1PviU9YZs28x/4oL4nDe4N7vr6SczZiHroXR+IB67aWfPrB6Hr4iC8s2OIAzmTYiDX0+GRDvtyW75NctnyfZG5L+yRzW74PudvKZG5DduXHbUjmtrRPMrfl+2I82r9njr6XbLVyWdKRnFyc01rXTI/wUvzzzz+/zNxrgAmyn3766cUGtlqDfPQS4Dhqr/Jt5eFYa5/03JbvQ+62fJ90ZSuTuQ3puR/ZkMxt+b6ReJZ8ytfW2WPcaiPTI++MTz1d8Yz4GGDr56O/6EVso03ZipyNsXHfO79lg3ioCTmxn6F7xRf9Zy+5jn/Mw2vv+2RffPN9krkt7ZPMbfk+5NFW1JWNGTOY8kzC596BjZGaZP68XhGPlp72g5XONfZFbFu6WmOv+mTJJ/Vbc85GTOSLWTaoASPGzr3+JFl2lBux9rjufeL+Wjqes+9tXfveJXxa+iNrM3k54pe94hLXsUajtpb27+1tj3WNL3GGvPz8lm6LIzFGdOkT5j28jHYVg2bk5Oe8k8znTC4b7I+1FAbqeezob58oL/TjiHYklz3saMiOr0mmWTX0WCXbM8/oofr4sacCJ+g6OUXIT58+/eEXhRNCO8UlTdVq4i3BqJl5KOsna+xRH6MN6wcG1xxkP/744+9egFoxLHGEnLDFi6HyFIZLPpFLh5nDTUMHHffCUodvJlM86DDwoYM6vuywF7/M8sE1Q/2gmI7weW/xvCS+8x/gzc/aIQx++OGH71wQ5ks2VD9xSPxAz+vpHJZN1dP3SaY56sW9t+BI5jOTkYNy5Fp7hRHY6Rr5LfpEuG6dwZuYmY8Yjtca++wX93RuSE/c1NmjdXTgOi/U6LpcNUI3co/6oMvgGhx657fn4Xa4xm98xtODxEE8zokzOLLXJ5goF/0CI+z3zGA06+PHmppksfbqtXSWOrbOJ3xlvIyxOL+WfGqvczva4152wCaOVqysMbCvH61pPfI52lVscR2cIndYU6+P2FVeW55vMa7WPfZn8bJlv7fmHGaPzhZh5Odaz8bIOrX1+q7RBRudBX6urdFVvXt59Djifog36sO5Jf6gxz6G+qZ3rolf4E9M7j/m2eN7rKXb5Jq/raFnBnsZji1+W8PzcLm44nrKU/xhdrnn1rPrPkauyWVvD9XHjxHE72CvSA+x9a8DaA1CPNugqfg5YtC88SDc42e0YXVgcADqYNVaFof40OMIeflBpf3EJ/trfKLHC4fw1z22wc1f9DMZueBPhygvHTwQ0GFgXzIOPH7EdWZ8IScWdNfEs8fnvcXzAtKOf5CPMFtjRphLRw9Bf/CtsSM957ZsUnv+9FF1xrb2Sa/lD33tUwyK95YcyXxmsnvsE+G4ZSYf7+UtNno61Dp7cezpsS6cxSFs6Zcn1uCKZPBJMnRZl1/0+JFN5yzr6OqHPVp7UfjnP+ADesTEYOa+d367LtfYVDzc40/n5T2fpepjj72FT8x37T247n1Blq/RmkivNXu9dBawxhAmcAyfYCNeRGwyXrpf98d65hO/2I2xuD2uiYmeUI+4XFjhRwObvA+Qj3JljWvlLL/M3m+ygT3vE60zE0dLR3uiD60zj+DjeluvyWMWL9fGoPyFfUsPWYZhSydbw17mL9NFhq6fDdl+jx0u+PktvR5H4FvrvBRmS7yMdqXnsRMfdpD5+yu6vk+xLuUve9qv3uCZoRpqjX7Ej36XYZ1rbPho9a3kWb9rj/tgP3kxM2K80tk6z+ih+vixFf2T9NRYIjhhOMlPCus0tzRVbOJZwWSHwRYfow3LYcKh7PlxgPp9K44ljsQDV/tZH/WZxZPVJpNlOMVDNeZPPOTQGkf4vLd4WnkvrWW4tHRb503Gg5YNreEbXXDkTNNLiM//+Z//+fIg9TVd+4sDcemDsOy35ltzhBgyn5ksq80ZfdLCM1tb6o9MN5OBi9c+29uTCVs//7RXvOSe+nCvIf7/8ssvXc6qpvDUdaMt+fY9Wlv7jM8wPoMja30qTz+vud5bV6/TrF8yFevamiiG1uz1EpdY0xBH4ITOOZ/1S4z2Sa9lCxsRz9Y+bP3Xf/3XqnOWWMHB66YYmLHFjw/lIh3hyX2Mx2WyoTXvE8mYseO1cZmu0W3FtRafnm/ZXzuT7yxervG5hJ1sxDpofesMXnsw8z7JYlB+4hZ7W7VewxGvTcSj5adls7cPnv3lL39p9jT9HeOPvBQGxBXfc9STroM93cN7r4XLZLfVt5LJvscomWb26OM/vvzM0rXOLulsnb1OW23Ux4+tyJ2oFxs7I+2JYd7ENVh4U890il0dHjPsjjasHyb4X3vosTfjSMuu/kSlJYsHrbBoxSMZh2TvZSST4b/3YqWHSq/eWb2O8Hlv8Qj70Rncepi2bClvPQgjZ9BRHbP+0R7ZcV8tm5JH/1pfcw7emiPElvnMZEdwdimezKdwHpmpIxxgnjWoc8YrcuBlK+O0c0988v3OJey5P/YhjyNyNt63zsse3tGHxxP9stfjk9xz1JrmVs6SMfdsIuvFjGzUZytP1maM0eftks9WrJEH7Im/yES77FG9VAcwZUTOuG70v8RLYpMft7PWZ9yHDTDlFxjF63Ylb70voKd3DPY5h2JftDjk+6PPaK8lb9nci0/Lz5q12bzMfCpvuLM0sjNmSbclx+cavy1d1tCN/IUH8WwXT91XK5clDgkr9jGWeIm/3jsuMmLQ4Nrj0zq+Yo7sjWvaz9zKTevyETGJOuxzHzFX98d1xCbKuY82fQ8yYpg1ZvTQaR8/AENfgzTPAmcGMLOKdJQdsJqN21GxHmkXHvEzY+jAEK5+OMywv4WX6PCyQUytr6Y6lFqxZhzRQ6RlN/PpfRvjcZsxnkymHFqxxJpgx4fHE8+PI3zeWzyOxdbrLT3kHKFusS6qacaDlp5yQF9/iqA1zaqB+ySe1ks3OrfmyJLPe4sn6xNhvnWmjnCAecaIvINDkUfKB5x9+HkYzy7xVfYib103yuSjxVmPN/oUj2Ocsuc+/Wxzm8TrMs+j5085ev/g8wxeCgPF5LkIh60zOM3+E/ZeTRSjMHRss3qhF+WuK7vM2I74eDzOy2hT+Mp2lGvd/ak2LnN/sul+kVecZ0AAACAASURBVMcYZRM70om/NLqMPd4TisPXWjZlW/FEm55HzF+62hPlWpffPTO2Z/OyF4/4qPyYhb2fFaz36tazvbSO71bNenoR81Y8qmm0G3MRB/AlHcdActeL52VLV35dz+1KLs5K1spF9hUL9xED6Yt/yHvvOdGnYsFulIkDyBjE14qxladwijY9j3+a/T4RS8v+9w2DFzN66LSPH4O5Dm2fAcyQw9p8GgI0lTf5aYGscFy8XAFSbbk5AlfqoZuDUw53IcDLEy9FzDUKgVsiUM/bW6JdvtYi8Cy8rPeKtYyofaMIzOih+vgxinrtvysErnTAzmjYuwK/gnkIBK7UQw8B+BMlUR8/nqjYd5ZqPW/vrCAVzgsCz8LLeq8owh+FwIweqo8fR1Wn7N4EgSsdsDMa9iaglpOnQuBKPfRUhXmAZOvjxwMU8aIp1PP2ooV78LCfhZf1XvHgRD4xvRk9tPrjx4l5lutCoBAoBAqBQqAQKAQKgUKgECgECoFCoBAoBDYjUB8/NkNXioVAIVAIFAKFQCFQCBQChUAhUAgUAoVAIXAFBOrjxxWqVDEWAoVAIVAIFAKFQCFQCBQChUAhUAgUAoXAZgRWf/y40r+/NePfB9qMaCneFIHi5U3hLmcPiMCVeugB4X/olOq/+fHQ5b3r5Oo98K7L87TBPQsv673iaSl+eOIzeqg+fhxepnJwJAJXOmBnNOyRWJbt50TgSj30nBW6btb18eO6tbt65PW8vXoFHzP+Z+FlvVc8Jn/vIasZPXTax4+vX79+e//+/bdXr169/NAos8YMYGbFcpQd8BJ24AiezzhmH7DOyxYnhfsWzLfwkl8e3r59+73WX758WV1mxQpPYrwuwz5+NDKfURYxcruZzygDm9evX7/kycy9RvQZMfj48eN3fLj2kcWz1ecZ8Sgn5RMxkHzLjE1+Rgb+df7EemV2vL/Qj7qOrefo/uSXWXuyWhLPrTmy5POe4nHswDT2ZlbPJRn1xB7zrNHjyJL9yCE/K9wmGHg/RM66Hj4dv8hn13Wb6HHvXHZd12PPWlm0G892x8BtorcHA89lxGfM0zHyWMEg4k7M2aAuHz58mPpu5HmO9IljqzMrxi7bLh/BB4xcN+Mlvh3fmEsmy84u7CpXt6ncenx3mzEP4aR8nAcep2w7Br14ZNPjkt2WzV5MsjMyH8lLx1wxObbKUTLVamZ+sg22/IyMLB7Vn1jj2ZX5cD10I0Zebz+7Yu9FXce1hZ/LI+7RduRsi5fk6Pi0fLJH+cpn9IWe56L9cT1iij3HvWU3YtuKx9eWfMYYdE/Me8/20z5+eGOQyJs3b373C4+S3DLPAGaL31vp0ChOMrAU0W8Vw734cR7tjUkHy+fPn1/wxbYPMOaHdcff92TXo7zU4aKDkfjevXu3qk8yjiDzQ973Zj4lEy66V3xuBxzYJ15mspgXOJEn69FH3Os+8Kn6cH2EzzPiEafIB1z44XrWAEPVdI3NeF57vZb0oy/yEEdklzX4meXoPKAmPAjRZ+DD+5N7+UB+NEcUQ8/nvcXzAto//xH57bIt19SJWjDPGCMcyfxF/hAjdWFEDKhjr5ZuB13vBWTwuPc8iTzweJEpHta9T3wf125HvSO8uVcvCDv1iceqnOVT9+rBDIOtPhW7fMb4PM+Is8t619jb+4Lsth1L1h133xevlZdwEqa+j7XW2Y6PHj4xHrcX8fJasw+b/g7gukuyXi9gQ7xhj3jntnUd49E6cysv5UM93X9rr9vK4lmKUXbkm5hnDOzM5CV58EPdIubgI7zIw5+rxMHvXezx9Rk5YoN4+Fk7snioY/aMX+tDfCBnBpiAGTNDWHId975s6Pwj8pC8hbvsCgvVQffRJHqxjuyJ8WCHM8N5qbXYJ9FHjE/y6EPr7Ccm99fbKx3mNfGsseM2uZ7RQ6d9/PBktiTv+vF6BjDR5r3cR6x033uQ3UvcR8VBU/YOka0+hWnPrg4C9o2MUV7GA5V7vpT24lIsil8HvO7FEfTdBgeUHgCZT98nX7IlHy2fv/7664v9lgyb2PAHBffkyf6lePwwxhY5kstvv/12iM8z4gFrciPXn3766Xd5qQ57ZtVwrQ0w8HpRe38xyeygqz89EGfw70N1ZG9vRM74PvoMrLAj3FhjyPaRHMl80gu35mwWDzXwEfe6bMs19nS2bNHv6WB3zwt75EiMUT3R4rbzP/KQe51dir3H86ir/cxr+kT76UVsMZh1zb3j73Ej89x834shs+X7JHNbW33KlmbhhO04vF5R1rtHZ9YvmTE23euZ2ovB13ucZX3N2S6fwocZ3rIeBzXxM5p78ZL9vfM6kynO1lmqGOQ3i41YnbNLsft+2ZfOkh/tj/tafJfNOMtGXN96P5OXHgNx9vigfS3ce7yUztaZePgZHWvi2XIeEEfkcIzNeQKnwZO1peEciT6Uj2qDPe9Nt81e9jHH4bEh4z7+PqD6ejzRTozP5S2ZsP75559/9+6yBp+98Xhsfj2jh+7i44fAbRXcE157PQOYtb5uvc/JyTUP30+fPv2OlLeO6Ux/Ww/YLGY1de/gZl0HWWYnykZ56QeYfP7444/dg1P+ljgSD1Fs6xfSzKdwQZ8h/nHAZT7/+te/fuendJyzOiCxybV+iCWLx88NrvlTDNn95ZdfDvF5RjzCBd+xBi+F2PkP4bzWjOOOjh7C4sWSHfThm17G435xpGfPuRZ1ufcaeay34kjm829/+9sLL8nhHuIhDmFGPeLLVAvfkTXs917mRuzEvdjd8vGDs0V5il+xp2SbvQxmOMXQXp3/LuNaP9rvOr7GOveKhRldH/Cj1ycuUyzokpPf40Nnu/NSe/GLjvISJiMYbPXpuXId42MNTISRYot6vXvszfr4AR76aCls9KzBz5ohvZgHOVKnWINoM+KDHWHD7HWXTWxwrR/8yM4PP/zwXR85Y42MPNjnz1ut6aNz5ITnIh/oaAgb8ogflNwW8StWdDMM3I/bkB54wQ9hiO04iEt1j7Kt98Q1i5ceA/E7B1zGdS8XYQ9GMwfxtDBd8rEmHuw6D5Zssj+rs/SxqZjVj9JjdowUJ+vOWecd17FP8EHvoYOuzmdiEE9bvPScuabW/vuAdInb9yo3zS0Za8qTaw1hgO3IH8mkx+z4LMXT8ynf2Tyjh07/+CECOWhZ0mtkM4BZ4+eMPSIgD16aily1xvWzDRrIm3VG/mrqnl3Ws4dML4ZRXuKHg1I/2NVazwfr4kPGEWzq0OIgJh/0ZL/nkxz0Qs7hjS46mU99/OjFgy8OcWLAFoM1rrN4iIUXE+zq4aM1ffyY7fOMeDgbwYMhbs48L4Xzi4OV/0BH/OFBzQ/YLw3i1sNeXMKWD7hEPXs5qgauo2t0xAXWxIdbciTzqY8f9xIPWPsQv2JNfM/INfZ1tozoLe1d4siovrgIp/1cw458IYO7/sKZnV2KYQ2m8iHc1/SJ7KPjzyNiUm/62c5+9koW+3YrBtjd6lM5KP9ezy/JZcdn8iFH8N878K9nzdb3rlYO5LvmbG/pek7imGwx956pqrO4Jl1iWZIJA52x7GeNv9HmzwBsOSc9VmKTb1/XNbqyT95+fqCnHLVfs/JAznUWDz7oA2aG6ks+PjJ/vm/kGh+zeOl+ibWHubBp4b7ELfcxco2vlr8lG0vxOD+WbEV5hkOGH3bwq3eXaNdjUk+0nvHkBj/Fb9lV3bDT4yXxoasfdLWG3TV9wj76NfJc+UR8sM8PY0nX8VkbD3ajT8WSzTN66NSPHwAECQBt5pgBzMx4ZtoSUbx51Gzg+WzDm3NW7sJYTR/tsq7DKsqy+1Fe6iD0ODj4/L7lT/Gv5YjHNeqTeNDJfOpfe+nFQz5+4MsWdrN4dH54LdjPvf61l9k+bx3PX/7yl5d89AuLz553iwdr18B/iVOZrfigy/ZG/qpe1FxDdUUWB1zVLx9Rxn6vN3LZcqzk8yiOZD7pBWK8l3gcd+EJPtRpxhjhxog/YdziyFo7Ge91rrVsuR7XvbNLujrPlnrMe8OvsSPOtuqVYexnu+LRnOmxZy0Gsqd51OfaWjru8pXNWRyZXkumGvr5gn1+kSD+NSPmKZt+puvaz4eo1/MFPtSMkfGyFbf4lskUh8cmXvKcUuxx9h7l2jFs5QIu+nChPKLN3i+hwgA/UUf3yPjxPFQL1jXAoves0Z4tM3Zv+fFDuYFNa6iunntr3+ga/no+M1tZPMS4xJ/MNjJsqE+0lzidD1r3mbh6Hw6cs4rf7eFT9+o12fae833IVTvW+YHDjqlssSZ++xz7hP0xd8WhGT/sUR5uT9ctG47P2niiT90vzTN66LSPHwRPYQB69pgBzOyYZtqDWE4+rv1+pq97twUW/MwcOnB6dlnXQTbid5SXfpjgB/34MNYBFeMhRudEjyPSVx+u8amcIw6Zz0xGXv4SSSx6wC3FQ17YZsS6HeHzjHiEt+eoerls6zU4CcNRGxFz6YtXkZeRh/iNe6TbyjHqyx92xBmtab41R/Cb+cxk5IFcg2vdH9Un8sXcq6fvGbmmltSXeebIOAJveEnLOJ3ptzip2P1sYi2riXTWYBrPdq87drKYerIsx6WYejaJJWKgPJlHfZL3mvfAzK7792tsz/wlE0zUi/iJNWKNPXCvdXYt5aCauO5WfNDrPVOjH+LSL3WZTDmTI0N7df+y+M9/kEM817P9Ubd3lscauF6Gb4zHc8ZGxIu1Vn3d39br2bxUHGATMRcmrRpJT3ucd5LtmfGZ+e3Z7sWDrR4vsCW9iIH7aXGQOmc60sd/bx/YeWzYVO7RZ+Qi+9ivHNSL3DsvyS/K4u8DHqtsag1bvf3aE2PVOnP07zKuM3w8x6iX+Yx7dT+jh077+EFh9BVJc49YSnjtPAOYtb7O2uf4RZKfFdMZfmkqfmYMNaH4qFkPBfxoTfMI9lt4iQ4vh/iLX3HJOTvwexyRTs9m5tMxaOXe80msmQyMhak/RNDL4ok1i1w4wucZ8Yjfylec1PqeGcwibpk9xaB6tWIRx+KZHnW91tKR3chPcG89vFt66Cqn6FPryvEIjmQ+Mxkx3Toe8HDMW/UUVqMztYEDzDNGq9bxXNRZktU56jgG4O9D9sAo8pl9Lnc+xzoLY+HrPmM8Udft+vmDTY/X8VmyqTiUq8fjNmOOEYM9Pp3rwkf2XRZzUczZDE4zP37gy2OKGCEXho6t46McW/mo5q7r/qQrfNinNWbXIxaXO3+QRQ65biZTjPJLvq2BPcUpOWsxDmQRn6gnfWb8Oe6eYwsD6fbiUR6xHmDQetbI3p55Ni/FOeXCLIxaMtUg4o5exGFPnvjmZ+3I4mnJiNfta0/kT8QALmhErgtD9kSuu1350n6XYTvqepzIva+jrnM61sPjjTLlxIw/cUDr3Mc17VUezI6PdJnJ2T++xBxjHq4b48lq4nq96xk9dNrHj15SM9ZnADMjjrJxPAI0ET9XGMXLK1Tp+WK8Ug89X3WunTEvTLwUMdcoBG6JQD1vb4l2+VqLwLPwst4r1jKi9o0iMKOH6uPHKOq1/64QuNIBO6Nh7wr8CuYhELhSDz0E4E+URH38eKJi31mq9by9s4JUOC8IPAsv672iCH8UAjN6qD5+HFWdsnsTBK50wM5o2JuAWk6eCoEr9dBTFeYBkq2PHw9QxIumUM/bixbuwcN+Fl7We8WDE/nE9Gb00OqPHyfmWa4LgUKgECgECoFCoBAoBAqBQqAQKAQKgUKgENiMQH382AxdKRYChUAhUAgUAoVAIVAIFAKFQCFQCBQChcAVEKiPH1eoUsVYCBQChUAhUAgUAoVAIVAIFAKFQCFQCBQCmxGojx+boSvFQqAQKAQKgUKgECgECoFCoBAoBAqBQqAQuAICqz9+XOk/XjPjP4ZyheJVjP/4/1nDzSuM4uUVqvR8MV7pbH++6lw74/oPnl67fleOvp63V67e48b+LLys94rH5fDZmc3oofr4cXYVy/8uBK50wM5o2F1glXIh0EDgSj3UCL+W7hiB+vhxx8V58NDqefvgBb5oes/Cy3qvuChBLxD2jB467ePHly9fvr169er7z8ePH6dBPgOYacEcZIiDRfi9f//+29evXw/ydN9mZx+wcOf169cv2DJzrwHGYC3c8T0ytvCSXx7evn373Sd9s3aox9DHjka0ST6x/6SLzPkVdR2DiI/bzGTE5XyO8XossSZb49nj89bxuD9xj5n1GWNLD3k9nQOKx+sSa6Y9rbnHA/cnDMTLTIYPjwVdjzfqOmfR7cWDzOsSc8x8ZrIz4lnyGXGIGCHvDXKlTsyzhuPuZ0XMg1qLI2t96/xv5ai6RZtab/Wkxxo54jJ0o8+YD/s1FCd60W4m81hb8RID6614vBciBnt8kpP0IwbKd8uMzQ8fPkx9N1LNnHdLsUXMI7ZR7nXGdlYT5NKPNUHmNXNslUer1rInmceT6QkH6cd4PJaIn3OdfT4yn65HvN4LUeb5eyzKU7pRD3nMxeMbvT6Cl8TQ6qGYi3KMMYNNTxb3rr0H41jLtbqtfcov1pm94pxqGfnVstfSQ995Ij3xxXthjUwxR5uxLm5XvpSLYxjzdL2sTxSr9J3PMZYYq3SIx/1hk72KM8pdD5nnoXi2zjN66LSPH540IL179+53v2i6fPR6BjCjPm+5HwI6eSFVJOwt4znTF7nPaioOAV6W4A8DuxFn+WLPmzdvvu9dg8EoL3Uo6cAZ6RPF/vnz55ePJ+hqLNlBt/XwUDzCQPeKDw46D7nW3kyGvvtzfkecueesIAf5lw/dr4lnq88z4lHdNC/VT/vWzuAnDNfo4J96wS36I+qCES9SqsMam+zJahJr6zbXyBRj3HtrXsr/vcQDjhkGkvs56NgvXcMVdJlnjGjPYxe2o7xTXNjmbOEZgF0fss26Y6HzQNx135IxM5h1drltruVbe7mnx8QT3x/3ut1MphwUY9yLL8+ba/lHx/P2vdGOx7Pk03Nv4e55j14Tx8yPH+QMBq1nahZbxMf3LuHjOKPnNeFe+pGX2us1k1/iYZ1ZNvTeI3s9jsgGcysv6cd4sNd7xmMne55kPsGHHw384JvBrGvd+17pMGec9X0zrmfzkphUi9hDGT7KhT3wYebvYNiOvuVvywyvxFHZdm5TZ3FW8l6t3b9woya9gV2w4cd9sD+TyXasifjeii9yg73qVfWWYpD9VuwtmfTBKmLX6xNs83sOPulR+W5hhUx25Us56j7Tb9nsrUWcevuy9bv4+EEivZeCLPiebAYwPdtnr0cS6d4fLGfHeEv/Mw/YGHfGS+E+0syjvPTDhNi4H/2Cik7kRutgVO7k5Q8ZrTP7Qax14d/SwzeHaibDjmzIpvuRDcnclu+TXLZ8n2RuS/skc1u+D7nbymRuQ3blx21I5ra0T7KWLcnY6w8rrW+do++1dsiJhx36Prbai3qOgXyBWRyZzG1IT3721MRrh123lfnMZG5DsbofxS2Z2/J9I/Es+XQf8jsy79Vf8kXe8YWLtS2DnhLGsb9YZ839uQ/yjC+HWU1cl+v4rIm6vl+xaI17/albJouxc6/nCfH7Lz/KB2x/++23F4zZz4AzrOu5stWn4s9w154t8+jzdq0PcFDua3Qitq6ztSbUgCHsox18UiPmOFQ/cdzziXa4F0eincjZLB7i5EejFZ/i8n3arzn6JD79jQXX5zq+x7BXOcueZnGQe9lh/xHjCF4qfvFBcffwkVx4/vzzz7/rf8n3zLHme2xFXcUtfuNLPclaPIujvu7Z6+ee1jVL/tNPP/3uDESeyZBnNenxULGrB5j1fKOWusY+93t7c22fKK6sJ4hVebE/nj/IlZfw3TrP6KFTP34AFMXjJwN1FKAZwIz6vNV+NRw5ipCfPn1KG/hWsZ3hZ2ZDxfi9maMsHr5R3rof5aX755rD5Mcff/x+wLR8xDX6Sg8FycQb9Z5eHpArrx9++OF7b+pAiy8FsiM5M3EytFeHdSYjRu1DFxuKSfHgi8FenRfyobNjJJ6tPs+I5yXxf/6DHLOHte9dew3eqttaHfYJf9fVGjylhtQq8q/nI6uJ7Iqz4oDHkcluyRHF2vKZycjlXvuEXySEr9e7V0utw9f4EiTZjLmFl+J0jiz5cu6RH3Y1vOd9n+TMOntUc9Zcj3tkMSb8KF7XZZ0zmN5BrvMQO54z1/pR3KqP1rVfcmxw7c8Tj5Vr/rRP7xW//PLL9zNHeUrGXtlXbPKLj8ynMNHZ73uR7R3EBm/puZmDOq090/ArzFRnr6XnzPXammDTa0ZMwhGfus/6ljoRk+tl8QhD6aHrnF0Tj2qBH8cB2zobkcXR88k+/OpZ4/GgI1uy7bnKh8fNmvaqXjFP6W2d8TeTl6o1cXv9FF8PH+WJPny6l/cKxZ3NrTzJg1pFXmV2st5ETxxyrGQvk2U1Qa93tmNbvsiFvRqeM9d+VmgP+8VbYtBwjntsyJUH1/Id+0Q4uU32ax2ffibKjvZrn+ej2LbMM3ro1I8fSlrACCitb51nALPV99F6YMUhxcuH/rULrZH3sw0OAX5mD7jozez2t/J1lJc67DgwdGhozePJrrM8pIdN5UqMPDyEaTzEJNdhxyGuvcIFGTb8Q00mIw7y06GNTQ5fdBjYl4yXBn7E9a3x7PF5RjwvQNif9Ol+xkw+quGIPXHDdbXmD0/k4u+S/YwHrguvey85UXYGRzKfmeze+gQs6T1mBvGNvCSz33vZa7j3Gl45z6K9yIMo132M0fkKn/28wWbLp+omnGQbW72zS3uYoz59oDMZuftFxtlKHNhnsKa4ezLJ2csPQ2twUu8V8qs1ffzovXNk8ch+y2eG+0twO/9B/DN/yVQ41EIYaW1kBhPpZ/gIf3DXfq39+uuvKS+Jsde3OqPFAWbZz+KJOTpn1/QJftQL8RmPbcVFDL3hPtlDnnoOgI2/u2gvPuP7iNsnrsyn+3C9rdczebnUQx57xIeclTd2Rs71Nbm7/TX71+4hJ/FVOvjSGnLnvvasmaMd9Yi4iW0Gc0+2VBP0FKts6ZkizhKHfErGGrr6QVdrL0HZP2SHOJd6U3uzPtEe5W+uvl8i87zEN+yy7r8rfFfaeDGjh+7i4wf5U0R+ZowZwMyI4wgbaohIMg4uCPpsYyZvhF1sYq0zrzkEfL9fj/KSODg4vC84+Pze7beus1y0n7jEH7+WPPOJDB+tkdUmk2U4gT8Pgx7Xt8az1ect4yFGffBs4b11LatFZlNnkfNRa84JrvUAz+xF2VJNei9r1KQnw8etObLk897icT7E2rXqG+vm90v94XtHrolxiVNLPJA/bHHOxh9+Yfrzn//8h3Xtc47ji2eyr8m+5iUsHHc4wb0GvaAzWvHKl9ckk7G/9zxR/I4p+7nXv/bSe+fY6lN6wlOzfplV7lvn7PzYahM9cHEsRm15LbfW5C9/+UvKS9UObjCcI+4/yrJ4WnlSQ36kpxr6jCyOVm0UI/ayIZ/siX0S83Y7rqd19i/Vcu05IptLcyv3JZ2enJwca12rh3r48PGMvLXfZ3RmjBbee+226iXeOM/wvSUP9Qb4cPY5Lrr+93//92//8R//0ZSh86c//akp69VEPuFZ5K9zDxkxkJtGrK/WmYW/9BS/z46ZdKWne2Y9H1r7tY86+B8UaF0zsWb62rdmntFDd/HxYw2wawDRnhnAyNY9zrGxIdWWRr/H3EZjajXqqA3fj73ewxBecYBtbeBRXvrBR4zox19+1Tv+0ur5EGsvH+1z/sQHSYxBOsxgtcVvFpPyaWGs2PDbGlvj2erz1vF4nVr5b10Dtx6mmc1e/tjy84hrty+9jJdZTYgJez3ubZWdwcss1jPiiT5j/3MG6ZfwjBuSoU+dmGcN+NSrvftoYSteZfroOX/dJvi0dGUXeWuI89hujagf/XhMsQZes0yGD/8oGJ8n3qcxXvdP/OwVRnt8OhbRh8u2XBPXrf/mBznwy0WPBxG7PTVxTCJfWnbVt7Huzr2WXnznkF/X05rmGI/WmXt6kXOuo+uo6zxkD/i3+tN7RLbW+Mtsys7ofBQvFav6kvu1+MS6j+bU2k8t+Jk1sNV6Z2jVMeatPS19jy/qSSb9Vl9nMvSJ22sSe8Plkafeq7FGLlOcmmOfaJ05+o+yFkaZPenH2LXOTI6tvvQ9I9czeui0jx+QQV+g9EVsJPls7wxgMvv3IHP8vLHuIbZbxkBT8TNjqMHFS82y75hLNtLQW3iJDv2Bv1afKOYYBweRYtSsPdLReuSP+2QPtjTAoqfnPuVLepnM44k56sEinx4LtrfGs9XnGfGQJzXpvYQK460zGIrja2xEDGJtojzyS/L4kB2pifNL9hSHy8jn1hxZ8nlv8WS9SS4uj/25xBdqSj2YZ4x4NqnmxLjEA/yLY5EjHhv1iZyVHD+uK3uKg1kYxXjQ9eHPE+n05O6TPV6T2EeZzPGLPmO88UzweCM+W316vhnuvm/tNbnO/PjhOaresS7qbfZqRI5E7PbURD7wF2PxeGOtXUYuXussHudAtKlYmGM8jkHUi7wTtthgZD6jrveC5xixUYy+/8WZ/S0ZxdHS1d4t82xeegyxhzJ8XI/6+IdRl229Jhbn1VY76Dl/VBfnbZTHmgmHWO+oF3tTMUtfnNQ6cyZDHmvCmnM6xsp+z9F9HtGbWZ9EfIhL/RtlWR49XB3HkesZPXTax4+RREf3zgBm1GftPweBmQfs0RkUL49GuOxvQeBKPbQlv9I5DwFekHgpYq5RCNwSgXre3hLt8rUWgWfhZb1XrGVE7RtFYEYP1cePUdRr/10hcKUDdkbD3hX4FcxDIHClHnoIwJ8oifr48UTFvrNU63l7ZwWpcF4QeBZe1ntFEf4oBGb0UH38OKo6ZfcmCFzpgJ3RsDcBtZw8FQJX6qGnKswDJFsfPx6giBdNoZ63Fy3cg4f9LLys94oHJ/KJ6c3oILlx8QAAIABJREFUodUfP07Ms1wXAoVAIVAIFAKFQCFQCBQChUAhUAgUAoVAIbAZgfr4sRm6UiwECoFCoBAoBAqBQqAQKAQKgUKgECgECoErIFAfP65QpYqxECgECoFCoBAoBAqBQqAQKAQKgUKgECgENiOw+uPHlf79rRn/PtBmREvxpggUL28Kdzl7QASu1EMPCP9Dp1T/zY+HLu9dJ1fvgXddnqcN7ll4We8VT0vxwxOf0UP18ePwMpWDIxG40gE7o2GPxLJsPycCV+qh56zQdbOujx/Xrd3VI6/n7dUr+JjxPwsv673iMfl7D1nN6KHTP36QxOvXr799/PhxGqYzgJkWzEGGOFhevXr18vP+/ftvX79+PcjTfZudfcCKj2ALL7n3AU+F+yhnt/CSXx7evn373eeXL188nPQ6izXL0/XI1X0671oYuTzyMpNl8Sxh4PHGmhzh84x46G/wBHNymjmwN9vmzPj22nLsWvjBb9bpM2q7dkgv9kHkB3J+xM0oH/W7Nr572Eeu8HYE1yzuWMvWGd3Tj7hHznNPneK5hb3sjJE/9sR4nCPOAekw6+wTPyRTPK2YpIMs+sxkEQM/2/Gb5bk1niWfLvdc1mAnrFozOHz48GHqu1GGQSsGrXmOjnnMkXryoz2ux3o8K7J4XFf2FE/069zL+IP+ERzxviYnH55HC4Mj4nGbXg+Pa+v1EbwkFtXNa8l6xhHpkKP33tbcXA+/sZYuH73ew5HMl/dC7K/IPe+jTIY/51CsiXxGf+h5vaiLY7hUr8yn243PuEzmeXr+xKo8iJMfz9PrFfPI6rFGNqOHTv34Aajv3r17eUA5aGuSz/bMACazf7YMwjl5Ie5M/M7Ob8Q/ufMzY9CsvCzBHwZ2M5zBfMT3KC91eOjAUb8ovixndMQJHV49O9ijD9kXxwjXsr2ZLObl8SxhAP7Kk9i9Jkf4PCMe1e/z588vfBzhXKxn6x57s222/Jy15vnBrTdv3vyhx8G29SLSiznacc62dJyXXMNNDY9Pa48yw13O0NbZMiNHsPP+79lU34rnulcdsKEa+ZmPPfbIh3pRevKHXfQ4R+ECI+aOT3++aE/rHQj7HofniV3349zLZDHnuNd9EJvw4HprPEs+iZ1fuiKe+PQRY3VZ7xrbMz9+ZBj0YmCdODhz0OeMyXKNeVID30+N+GFk8WQ+8eE96bz0a3zgq8dD5DM4Qjzg0nu+LWGAnCE7wivDJ+IMXmvfgV6c7fjHbF4q95nnyI70vqs6V78vbrxQbbdwJHOJXe8FuCQ+ZWdXJsMfucsO91yrb9VTrXeOyA2P76jezPpk6zkiDJSz7DDPGBGnLTZP/fghQkSibEnEdWYA4/bu6To2ne5HXtzvKZ+9scAdNdheW1EfHumBGB+WOoz9xSDqx/tRXsZDifutX1DVa8QU+4177GI/jtZeP9S1XzyUDd3Dy19//fXlAdOSgWPLh+JBxzHmXhhkNfntt98O8XlGPBFj8Jo5sDfb5sz4ZtoSL8VF2eZ+5Axlv/cBduMvtrLt5whrYC1fOkdiPNK9+kx+/nI5Ox8/1zLbrThavGfNz5uWzehT9f35559/91FCXBNPWhyTLfxqn/TECd2LM76X+LjXeZnJsOe5cX/mWarYiXlpCGPquHaMPm8zu6pBryaZrmRrer1VP9Xd9dfG4zqKQ7riGznJh/Zodtyx5R/dZBtO7XneypfiinzgXvHJp+ogXc3qJ9nSPt3LTgtn9ZBsaY57tb51nslLxaC8PVblPAMD+RmZiYWfmUM5Rbvcq7ZLHMniASudkX6NDvc6LzNZ1ifEr4ENxaw1xa78mBWP9mie0ZtL7+bypbiIWUO1WHOOaK/ry86WeUYPnfbxw8lDgQXgFiCizgxgos17uffGEiE/ffr0u4fSvcR6izjgjg6K2f6cl37QcM2f5Ah36rBmjPLS/XPNIfjjjz8O94pzhjj1oNQ1974mXnHQx8OZOFjXj/rWfUhf+Pz1r3/9zs8oAxP3rVi0lmGQ1eSXX345xOcZ8YhbeoAQw8yBvdk2Z8Y305Zzxu22XkRcHq+jHfTpidbDXVx2G9o/+68au497uKbfObeYZw2wBzfw7r0YRl/qHdVH5xC18UEfZDbR818A3W6UyS4+WrESi3zhV7G4HcWps5TcnU9c60c21Mta137JiYtrfOt54nzm2p9vR52lwo4YVM/4vCF2PWtUO+G6NJPHrL/5sVSTpViQq5a9PNyH22M/GPhZ4Xtl1zkifclaPoWtOCgdn50zR3FE/sQH8VfrzC0MXM51xER9KgwcH/UEelzrR76lA+6Rk9Hv6P1MXuIbbFRDr1fEgzxGMBjNK+4nFuEZZVvv93Jkya/zwrHk2s/LTJb1CTXRoG4tbilHuEc8veExZD6z83vp3Vy+1Q9bzxGPTzb3zDN66JSPHwAJkUQEL+IeQKQ7AxjZurcZzDjUOcT017e1Rt7PNuAOP7NHPJjUvOCuA0tr4vFSDKO8VF/owYx9rS35klwHqWOEPV446UGt+6EvXeaIg8vIGyywIQ62eKkDtiUDkywe5dvCQPi3aqIDf7bPM+IR5q1aSrZnJid+Hn2Ir60HeMbzHi5gpl/M+CWr9Tc/xFE/I9DTGYJfbLRi6vm90jp5+7N+duxgiX16Y2lQC/8l+4cffvgD7zN7rf5jPz8MnYH4YWg/ZxeDWXWPuGBD+2Rny9mFjd7ZLh/skS+tiae3PEuFj9dP8bwAZv8AE7Ab6RNymv3xo1cTC7V7uZRDK3fWxBk/K5Y4oiBaPoW7OMAsH9Jjxp+vH8UR+VRc5Oyjh4HvibpL+JBzr0/cLtcRhygfvZ/NSz9fnUMzMRjNkf3EEmu5xY7rxDpLtoYj2tubsdE6i+CKeoU9XGtuybI+oSYaLV6pX7GvXD2mnm7mM3sXXno3lz/FRcwaik/YMPt5oX0tXcm2zjN66JSPHxRWL40++5ftraCgNwOYPf6P1BXhnGQivjfWkTHck224xM/MkR1KfhCxz++XYhjlJfbpD89PB++SL+Tiiuuzzr3/wqV9frDJPrLWL3WSKx7ZaPFSf7WuJYOzWTwZBjpUvQaqif4a7myfZ8QjrIVxrKfkW2fszba5NZaj9MSVFsfxybpzZTQO7MNDZo1WvbTmcYC9XiCk+yhzC5eZue2xD+ZeB+KiFn6eKFbVzfsE33DG32F0je34XJYNfGJHe33mHeh///d/X2JwProt6Sr2lt2WjDV8eQ46v5WL585+7o86Sz1u4SyfyOIgbo89yuP96PM26vu9Yu3VxPf2roWxauP7iFV/mKV1+fT95E/NJFuKp+XTuYQv2XI/XLtt9snWbI7EfL3GrdiEwRo9z8Hzxga9oJxbftx+9g6kfWvnmbxUHn6GcL33HFmbS7aP2PiZOVQnt6s11RJ/yOmTtYP9zmv0sNc7LzNZ1ifEqoEN56d8ehzY0t9gyvQyn9n5vfRuLp+y7xh7P7GvVYeWnmzumWf00CkfP2LSo0SN+vF+BjDR5j3dR7xo8pFGv6dc9sYCFvzMGtiKB5Jsg7F8qdF1rz3ZPMrLePChH1+QdLj4gUkMWm/Fhx0OVPYwWoew8shkMR58OQ+dl5ksi2cJg6wmR/g8Ix7VYgvnpJvN4MTPow74xcugP7hjrhnPwcZflKNury4tm6293ifR9tXv6RfOJp01s/OhNvHsA/f40hr9tvTY01ondp4JyLKxdDbITouH2PazM947R7LzMpMtxXfrs1R4e94eg2OdYef7/BosZv3Nj16sHrv29M6KLAfsRFtLZ0XGEeHQ8gku/h4R92B3yztQFk/GS8Xayre15lgpdnzHsTce2Wud45JtmWfz0mOIOcd7x25NTdz26DW++Zk5WnxorXme+NeeFq/ZG58h6MAt//DgfZPJ0MWmcpdv3QuPFq/imvtEDxutHJZ8okdMGo5PJtN+9Zk/u2JscQ/ypfcu2R+dsb33bK+PH6Oo38l+yMtDlh8n9Z2Ed7MwaFx+Zgw1r3DVLPs6xOL6Wt9bGlYHCD45SLj3oZjj4U3MilOzH5ocYq112ZMss9uKJ+NlJuvFQ64ZBks1OcLnreOJOao2/iByToxez+yhUd+32O8cEHbitfMuyhSbesnxjjVxGXqS6+yQLealHvO9V78mV7BmnjG896gXtY1DNY3Yq44tPZeJB7LdkvlZKv/k6C/LrCsW2YwxSZd1+dOa8zbK3G6MJZM5fvH8Fmd7sW6NZ8Sn5+n+YqzCKJvxu/cFOdr3mDxW7RNXqIFG7Hfw9XyI0z9GSI856urc0p5ePFEv+nSOIBMvW3ouP4Ij0Sb++BGGMSbHQHhLh9n7oYcP+DkGrpP5E+575iN4qXhmniOyuXUmFvFqqw3p7eEINqTvdWbdzybnkLjncu/ZqBtl8iebjoPzTvKM04ol8lK6sp35JN6sF3qylk/PNeaiWKI/xep5smfrmNFDd/HxYysAPb0ZwPRs1/p9IUCzecPdV3S/j6Z4+Xs86u4+ELhSD90HYhXFWgR4eeKFh7lGIXBLBOp5e0u0y9daBJ6Fl/VesZYRtW8UgRk9VB8/RlGv/XeFwJUO2BkNe1fgVzAPgcCVeughAH+iJOrjxxMV+85SreftnRWkwnlB4Fl4We8VRfijEJjRQ/Xx46jqlN2bIHClA3ZGw94E1HLyVAhcqYeeqjAPkGx9/HiAIl40hXreXrRwDx72s/Cy3isenMgnpjejh1Z//Dgxz3JdCBQChUAhUAgUAoVAIVAIFAKFQCFQCBQChcBmBOrjx2boSrEQKAQKgUKgECgECoFCoBAoBAqBQqAQKASugEB9/LhClSrGQqAQKAQKgUKgECgECoFCoBAoBAqBQqAQ2IzA6o8fV/r3t2b8+0CbES3FmyJQvLwp3OXsARG4Ug89IPwPnVL9Nz8eurx3nVy9B951eZ42uGfhZb1XPC3FD098Rg/Vx4/Dy1QOjkTgSgfsjIY9Esuy/ZwIXKmHnrNC1826Pn5ct3ZXj7yet1ev4GPG/yy8rPeKx+TvPWQ1o4dO+/hBY7x69er7z+vXr7+R0IwxA5gZcRxpw/F7//79t69fvx7p7m5tzz5gwRE84Sa2ffAi//bt2++cjXLf27rewsvo88uXLy3TzbWPHz9+j5VrH8RCz5Fn7L3Mp+MTMYoy95nJiMv5DMbEoEHOOiuWYvWaHOXz7HjAwrEVTltnMHPc1tjJ+IO+6rnlbJJuzNP5jMx7IYvH6xVtHsWR2EOObyY7I57Mp9cC7PiJPZjxhVzhgPdztn+tzONa2wsjuHu9MnyizcivjJdRVz6jP+GuXop60adjc29naYxV9RZOa2spvWzG5ocPH6a+Gzm2qkcWA7JYz9g/yh1sogx9P/ccH9dD1+NZ8uly8U55RH75Ocsel8d43S4xSTeuRz3s+jntufh6jz+KyfXcZuwDryM2+fGYHFtfF0Z75tm8XMInYq+akINw81rtyc11wThyy+Wt66V4PNdY65Y9rWUYRC4oZvcljjhOLo8ccRk63rfEJHnkJbIl7kkXuxEDx89jcpstvR4+cd1tCltmYUhsGlFXuEq+Z57RQ6d+/IiE2AOG684Axu3d2zUEc9JDqqOwvLfcYzzkPqupdHB8/vz5BV+3q0bWmu692WNs8X6Ul9EH8b17927VR0LiEieUl2KNdogLu6wv+XS80Xvz5s33ePAnn+TOtfDKZMTlDwHuxe/ooxWrfMTYj/B5RjzUBTyYGeTJSz2xzBhe0zX2on/0VS/0hXtcX2MbXbfV03GOLMXjNiL3Fav2cC8+HcFLcVQ+dI8vxq3jWfIpXDR7/2ktmyN3s71rZWs54vaEcw931iWLPZ7VJPIp+vQ+xb64vRSP2+EaXeJgZD6P4Cw+Mwwyn7H+5O2YeD6sK8eXRHf+gzpiE58zBnmqftjzmozYd72Ih3Ok5QN82BOH+KRzJMrdJzXheZu958hO5BqY8guQ5O5Hdlvx+T6uPR7d+ztA3K/7GA/ryh1sYn24J88l236uLdVEsWydZ/PS44j4ZDUhDt7fqCX4tGrqtkevqfEaLsjuUjzYWqqjbPm8hIGfEeyFM8xxsKb3b8XKzGDWO3Smh4w8erx0Hy27GQbE0OtNj0n9onrjE1zX1Io98YzGDrnzI5vKUzYjXh7Plmvsed222KiPH1tQO1EnElf3Ww6FE9OY5prmUoPNMipM3S4HRDwUR32PNiwHCT6Jh8E9X209rrU5+0sT+n6AcY9d7I/4FE7ocM1hRI4arOMnk7E34uhYy4Zsui3fJ7ls+T7J3Jb2Sea2fB9yt5XJ3Ibsyo/bkMxtaZ9kbgtdeKCaoTez36NvxbB2puatBz92nb9L9jznpb3YFh5xby8e9rlsT028dth1W608hHEmcxvKyf3IhmRuy/eNxLPkU740gzlxrB0e41qdbN9Wey29iKf8ggm8BdMlfLAL9/3ck504O/dG4ok+4r37iTm5n6M4kvkUlupVYohnlziFHe3znLZeg/feF2T5Vh7Ez9B9zEX7s1n5tvZEjji3qCX+Wmdqxgn8tHwqB3DXID+3z72/c8RaS4+ZvWvr5/EQR3x3cLt+7fhoXbyJsUvO+lKdPB7paW75lGzLPJOX0X+MdU1NxCv2zhwZVzI/rXhGOBJtZxjIl3qA2fnvtsQz1qLNLL5YE9nERuSl+2Af93o3z3xoL/uXRjwrYi6ZfuwT2frpp5++PzNb+sSuZ2pLPro2o4dO/fhBUfWz9tBcA9IMYNb4OWOPyEaOatxPnz6tfgE7I+YjfdLsaxp+JAY1qtvVGgcFQ9iP8HaUl/iXfa45PH788cfva2tzcs6g4wcY1/rBx4hP8vFfet2u8NKDJJOBqfYRHzHor9dFH+z1h4EfqLEmR/g8Ix7VmXzI3bGSbM+sum+14ZxxG6yPxCoe8CKs5wI2NFRfZPGlQXuYW/EIO3FH+4/giLjfOisyGTHdOp4ln8KJOXLfZb1ragYHmGeMJY70fCzh7noxz6wmzkm4pXPL7enaeTkSj+thK/MpfLDPQFcxxbzYq35YiifDIPOp3NHHVzwPXDfmKd2tM/nO+vgB5voQIfxH3ruIhTq0MPD8HAOvF9f8Kb18EgOD/djkh2sfSz5Vc9dz/1xTL71zaD/3ysXPYWr8ww8/vJzNxCPeKaZePMoTXeWCLR/iD3I4oyFd8HAuSc7MusfpMq7dRpRx75i05KNr+JvFS/nu4bNUE/TFZ8dVdvfM4MbP6GjFoxplHOn5WcJAvIZb7G0NYlL/I1c8rDPALnKzVxPZb/ESHWHGtX5Yk88WBsqh15v4xIb6Sz5Yx8eWvpUutuS/xyHFLryEwdYZe3t76LSPH560yO4Fcfno9QxgRn3ear+akIeg/pUDrZH3sw04M4s3wk6NHO2Crz/0OTDiHtlozaO8xLYOP2aG1lr2W2utXLDFIcmLjeJnjWvZl9+eT/WsH3Za44AFJ700YSOTIcefDmZw9V+YiEkyDjx+xPWsJkf5vHU8qiEYCavsZe5l08A/VPcBle9bWw9wCbEbf9mRrDVjizqLU9TPXzhcp+e3ty5dccJ9gGWLs+gcwcszOLvHp7ADC2o6MsDbe3lEt7WXuq3lSNTPMNDeyA/WtdbjiHSZwafVmy1ero2n1wPyG30ewdklDHo+s7MrcoM8sDNrgO/eF2TFQqzUYcZ7F3m2zsXIEeKXT3FKa8TjQzhjuzVaPls6qgF1UC20pv0eu2T4ZL/i5J58fK/H5fGoD1hjyA/6cYiHyNjn7wI9f6x7XNEmcct3lC3pxv1r7mfyMvpzfJCtqUnUiTa33oNpD9fMZiueEY5E2xkG8kWc4l2Ls8ix44M1ngn8xPdS3ycfcMlHi1v46L2bZxi0Ym/FjH/tRc7I8PF4uUZH+BC/MJHNmCM6vfyj7ZH7GT10Fx8/SBoQVYwREFp7ZwDTsnsPayKZH+bky0MSkj3bgDOzeCPshPGSXTjbanbZifMoL7HNwepxjPRJLw/sYVexax/3a3yuPczw47E7HpkswwnfHL49rmc1OcLnLeKJ/e31cky3Xme4ZDbhip9DcS929aCMstY99nx/licyf/HF3lI88pnlm8mO4uWtOQsOoz7XYiuMNS/1h/atnUc4smQzYkCs8Bkf2VjiSHwWr8UuxkMMrPGTjXg++N6jOLuEgT46xNi8p7GhXx58jn9jwPMZuc5yH7HDXsXt513Mba3NVk+0OCI++pkY+e8+kfW40vKpnKiDBjZ67xzazx4NjwffbivDx+Np7Yu25I9Z3FOszh1dxxi9bm6LfVtkbmP0eiYvW76FD7KIYwtr8cwxa9kdXfM4RnRb8bTijrn1fMR9boucvb/wzfnNHg2u9QfNWouz8znKuG9h0eIe++CwauE953HLh3LzfZLF3LTOjAxdhmxI3vIjmfL89ddfX3BTv/kc8VzzTJX9tTMx6hmzVifuu4uPH2vIFQPP7mcAk9k/W0aDiLjEwrXfnx3fLf23DpW9/nWQYLs3kHmT9/b5+igv40Hc6hP2cLjEWLTeygE7/oLuh/CST3R5OdXh7Pn5tdv0da4zmeJu2V+qS1aTI3zeKp5Y9wyjiPWae3Br8STTZX/vpVF6vXoIt6jf4p7zVHaZYz3XxINehl206f4yPeXTw7CHA/Yz2RnxtHwu5ec4xWtw42xinjGw4y+n8SzDBznwMtarB3si7jPONezGZzF+Is9bOMR42BP7vqXX8ql9R3G2xZGez5hDFhMYzHyPwffeF2TlxRzji7XWHv/lxfV1HWvNfY8j+EDOyPowk6EbffbstfrLf/HDjtfI44MX/h4S974k8c9/eDyKHX1GjMH1Mv5E/9Lr8VV+iSUO1no1iXtH72fz0v1HfCImrZpEHbe35xpfLWyXbLbiUa0yjkjPOYivDIPIjXheod/qc89BsfVyVVyKXbrRN+v493ce3yM/soNdfxbG2npvyiez7Che7Dlm0Y7rIvO9ksmmYmOdXNb8riAbI/OMHjrt4wcg6mvRrC/9Am8GMLJ1rzPEFn5cP+uAR/zMGGpg4apZDe2c3YL5Fl7qACGWVp/oYI0HkseqPPxhTk6tdXDMfDrvpC/fblNrqksmUw6tHGNNVAvZ9TxjTY7weUY85Oq5gNMszmMbWyP2vF7igMfkNZHcayMMnY+qp+fpfI8+nV9RJp/KyTnrNiOubhOZ2416ykG+Rnjp+DguZ8XjmEcMFFOrVsiWBhhik3nW8HhjXfAhueovvxnuzhHVVFjIHutak03nCHKvZ5TJruLK4sE+ttzeqM+IzR7OrsUg+iRm1wUD5a98NLPeylfy0XnL83bJB/Gpjq1YVVNy1vDn6ShHYs0cO/lSPGt9RptR3+ON9Yy6EQPHx3vFbUYMwCnKPRe3GeMRxszouE/ulZvmKG+da0t96z63XJPrzI9yS/i43PNv5ZnhO5or/HS+LukvxZNxBNvS9xzls4cB8qU+8o9/shf7wPnKHvcXMV3DS/E18jPDIMZEDBpZjjFexy/6c5uyzSzfjoNjoHzctuuPXs/oodM+fowmO7J/BjAj/mrveQiMHrDnRfqPB/zMh96ZuZTvx0HgSj30OKg/Rya8kPLCw1yjELglAvUeeEu0y9daBJ6Fl/VesZYRtW8UgRk9VB8/RlGv/XeFwJUO2BkNe1fgVzAPgcCVeughAH+iJOrjxxMV+85SreftnRWkwnlB4Fl4We8VRfijEJjRQ/Xx46jqlN2bIHClA3ZGw94E1HLyVAhcqYeeqjAPkGx9/HiAIl40hXreXrRwDx72s/Cy3isenMgnpjejh1Z//Dgxz3JdCBQChUAhUAgUAoVAIVAIFAKFQCFQCBQChcBmBOrjx2boSrEQKAQKgUKgECgECoFCoBAoBAqBQqAQKASugEB9/LhClSrGQqAQKAQKgUKgECgECoFCoBAoBAqBQqAQ2IxAffzYDF0pFgKFQCFQCBQChUAhUAgUAoVAIVAIFAKFwBUQWP3x40r/8ZoZ/zGUKxSvYvzH/6Mbbl5hFC+vUKXni/FKZ/vzVefaGdd/8PTa9bty9PW8vXL1Hjf2Z+FlvVc8LofPzmxGD9XHj7OrWP53IXClA3ZGw+4Cq5QLgQYCV+qhRvi1dMcI1MePOy7Og4dWz9sHL/BF03sWXtZ7xUUJeoGwZ/TQqR8/eDF6+/btt1evXn17/fr1NxKaMWYAMyOOI21wsIAbP+/fv//29evXI93dre3ZByw4gie4Yrs14Bd8/fjxY0vcXXsGXnaT//aPv6WzhbNbauI68tnqFe+j0XpmuV5JtqWHHN/YJ44pmI+c7a7Ls4FnRBza8+XLl+8if5bgM5NFu7LX4od6vZVH5pPA4BN6/ERuZbIz4sl8ep6O63fwkwt0OU+ZZwznXasmPR+eg2oS6+J7ImejX+HguMmu67pN5NLzOMWxyJGeT9dFx/0hkz38RdlSPLfmZcQvxuu5jl5vfd5mGGQxUFtxwM+YWMdWjq7r73NRF7w0osz5E2XRp+cYeZnxJ6uX62HT8yBml4/Eg67zNtN1DNxfKx7sej6u6/VA12XCf+tMXB8+fJj6zq48IuaRB608pDs7T+zyMzK8zvGs9HpGDiz5IG/ya+Xo+Wd9i27EF7/S93g9D/QcB88j2oz1inm6bpQpDmzy43LXiz49hyhbigdd7xXHJ+quxWCplsjJZ28PnfbxQ8VwwqxJes2eGcCs8XPWHjBzkkGq1qF2Vny39Evu3lR7fOvA+vz58wu+Lbvseffu3UvjjWL+6LzMsN/K2Zk1iX1C/byPsvgfWTbaQ0s1iTivxQ6O+MtH5Ax2WKP/+OGaoYes7tWj9BuDOkvGvefLunPAY492sIdf1pd8uh3FwJr8+9nBtWRnxJP5JOc3b9684EdtHMeXZBb+AVbgy3zEiDiP+HDcyZOXxVZ+xE7uqlHmY4Qj2MF263myxifxgC36+HV7uh+JJ2Lp+GQcUQ7TgRmtAAAgAElEQVQzfGbYjsqIZ/QFOcMg8w8GznOw46c1og/u/dxzHWT8MMiHXhTO0YfXy21wHX263GvLuQZm8oFe73x0G/F66XzEvs7SqOvxIGNvrzfZK5zVM6zFEeNBjp7nJp1Yy4iJ9m2dyWeUl5kv8SDWCh3JpM+9+CR5CwPt3zPjx30t2QKX3rMm1qCVa89+xhFk3nvcC48WZ6IP9sNjfrhmSE+5615yt5HJ2IcNaia7R/Sm5xx9vji2f3g82uv42daX2IWBasscxxIGcT/3M3rotI8fgCJgWsntWZsBzB7/R+pGoui+R8AjY7kH20fwSJi2+KmHBzIdSmtxeGReZhgITx3+uh/hrHS21iS+oMcXnCz+R5dt7aFeTbb0BhjHOGKNVMOffvrp5QVFfIoPb+75EwxxhVlcwwbX7FH8sqN77Y15cI9d9vOjlyRi514+Face9PLJ/l9//fUPv6ziD9lvv/32u7xuEc+ST3FfOQgrrS/N6JEb8xFD5/GobWrjv3xRW35ag5zXnvUeT8YR+dH+yLUln4r/559//h2foh3u93J2iSNbfYJB1BUuM+bR5y0chROtvqUXR0asveuq5qxh13+h8X3xWucBtlt6GWfcZ7Sb1UA8U/9me91uxDLqcS9euh7Xrb2srRm9PGM83PfOJeGMLQa46pmwJoalPaO8XLInORiRE/EzljiSYSCbe2biWVs390Ncekb7ul9HXrps6do5EmN0TMQD6t8a7OW8iO8jbkN60Y/WZUNnjtY1e6xa0xwxwIc4qz2t2X3GHHXf47vH0+JXyx9rstvC0uPp6cf1GT10yscPAfHjjz++fNHlEOyBHZNecz8DmDV+ztjjROEa3D59+vS7h/YZcZ3ls3eo7IlH/MS2DxpXD5e1B43rPzIvPc94PYOze2sS66Va8uLJ+cNPrHfM41HvyXtL7r2aYEuYMq95IIOtaoJdBnb8r27qwSu/epCyTz64pkd5tmhNtonF7S3xUv7Q51o/+Mh8+ksJ1/xpls7ov/3tby9nNb6j7Jdffvl+jrfO9iPiWfL5Ugj7a+fCXOtLM3n0fslY0u3JwY06Uk+dx729vXXHUnzqvY+w94cffnh51kYOuX2vO+sZR5A7330vssyn4kXfOSw9bOkaO8rVfXDtfeKx34qXxEgcYKofYp01yGPkT9gzDMB5ZAhz6WC7xVn5hF9LGGivYnEf4oT3Q88nMWGDd0d8Zu/ezhn0lurlcq41PFau9aM9vXiUV683ZZ8ZG/7xirVePOq97PlPjODjmLq/rdfUZYSXa/2Qa4zVcReW2rMGg7W+W/uIR/VtyXtr4gLx9QZ2yW10RI4IA7BhYFfvCMJLfcnsMQlb7ZMs3isfjxc/shsxyvrW840YuE1suz/lFn06HopT7yrEwejFwzr9tuXs6sXz4nDFP/C9t4dO/fihJhQQsVgrMGhumQFM0/AdLIqsEFR/BVJr5P1sg4aPh8deDHR4uV0whq/MDGSjfH1kXmaYi597OLunJvLv/cGDyh9mrT1ZTo8k29pDrZpEXMCVl2vvpbjH7+kpPaB5qKrnqJf6TX71sqFeRK49WsM213rB97qr5j1eYouXbmJQ/KxxLfstn/CMlwLsyq/W9PGjJdOHiFvGs+RTtVEdhbnWl2b0VMOlvVvk1AH7cGLtUC2IjSE+uR3VFzk1Vh25BwPf+2Lkn/vQ05CNFkciLtor3cwne+UHO/4LH3qzObvEka0+latmchk5K6TXm6nzyAuyeNHqTXGl58vXqU2LH9rjcnzyy5bqKS7GPhM2vq41zktsUHdq0RruM8qx6fyWvLcuufwrdq0zKw/JMo64HtfuV3YcT2zGPLVP/qLNKMdH7/mvvfLB3MIn+lh7P8rLtXbJ3XFCTzVqcSTDYK3PbB/x9OqR6Slm4msN50dL3ltTXWNM1Lf1zhHt4FcfRrgWP2TX41VfYxfu8C4T/WJfui0ZctZjTVlfwkAYtuy6T/bpXWXN75Mej3KUD9l1HIhVscR1ZAzpyc4/l9NpRg+d+vHDweC6VeQUgY5wBjAd06cviyh+GJMvBIZkzzZomJGmWYOPMHa7XOuA9FmH4Rq7j8zLLH/huYezsrGlJjyk9KBSnPG8kX0/k7T30WcwdVzX5ivMlnTBfmlPy6f6RX/t3vtO1zwz/vKXv7z0pvuQT8XodWUfcsl6vGQffqSr/dzzg6zlUw97f56xn3v+tRf8tWTK85bxLPlUXZSTsND60oweuR71bBq1rxp63bTmualeyMQl5dp63rLf68Ze1nocEbfEY816nvR88iECP9rvs3RYUy6eWxaP6ntLXgpPn5WDr2291vkBBmtGhsFaG9TVMWz5dc62uBQxUFyqacsma/h2Xvs+9+nrXJMbH4mIRQNfkc+S+RxjdRk2kDPEd+XgvHQdrj2e1j5sOMba08td9j2eng3WY01kH9mMMcrLtT7J33Fp6bFHOGUYtHRH19zXiG7Gd2Jew8voTzVU7lGu+6w2xMXvWf/7v//7grOfvbru4U8f9PjDuvpEcWhu9e1aDNb0pnBxTCP/FQuzx9PaF31mtXS7GQa+T9dZnbRnaT7l4wdBQUIveARtKfBMPgOYzP7ZshZ2juXZ8d3S/9YDNotRB0J2UMYaZPYke3ReKs/WHPGCr5Gz7PEXd7eztSZgri/abk8PMuQM5vqA6AgtX6+pSQt/6fkDN3rLHprS18tEq5aqufZ6Lzv3Ml5GTvhLR+aTXPAhnzGGTHZGPJlP1SWrh/a0ZvR4IWQ+YhB7fOGkTpwjwt/9eg19vYWB9NFxH3FvrK/sLnFE+5ijzSWf0m358HPM823tVZ9g7wxeKg/m1lnh8tFr7I38zQ/sZxggV61bZxe6zpNevNRa+2SPOjFaNeKDmOQ9m17n1h73GeVRl72t/KJeVi/lhS1GdpZGu614wFbDawRexCo/2hPnGE8LZ/VNzEs+lmoQffbut/CyZ8vXsxqzL+KaYeB2t14Tz1JdWrZ7eGMr46X01FuyrfWlWLSvV2f0o218iFujeq7biy365D7DQDlHDmu95RObsb/83nU9npg3+NFD+GYwrzm7ZAfba8eMHjrt44cS1hezHthrwfB9M4Bxe/d4DV5HYHePuWYx0TAjTZPZipwUvq1DDZ+jnH0GXmb4LnEWTMHc8d5bE3z26oQf1Vh/4prF/6iy0R5aqonqCLYtXKUfH+J6+ejpCX/pO0/0oG3pul3k8QUm46VzJMab+VSM+OMHTDQyGXtuHU/mM2LXwld5tWb0wZt5xnDMiaXV26qZY45v4R7XXaZ6Rbtek8gf/EVuKFePt9UL2kdMIz6lB67+wsm68ieXGFcWj/ARBhEnxyDGutUnPuQvw0f5jszkOvrxYwkDyTNclQ8zuDjmrEXsohwdDcdcdsU/x1xr0os23WfsadeNMvkUF7J6uUy5Kx5mj9fxiz49HvSEuWLxXKJP9sh2lDmuMZ7IPY8Vm9iaNbbwMvMd8yReYeR5RFyXMMh8rpER1whukQfkobq0ZLEu2hPzbOEjjkjHfSm3yLtoN+5zfrlP1UL7XYZf1xvpW3QdA7cr3Nb4ZA8xyp7Hm8WDXpR7Lm5TtoWhx4rM9RRzNs/oodM+fmSJ7ZXNAGZvDKV/GwRoIn6uMIqXV6jS88V4pR56vupcO2NeLnnhYa5RCNwSgXre3hLt8rUWgWfhZb1XrGVE7RtFYEYP1cePUdRr/10hcKUDdkbD3hX4FcxDIHClHnoIwJ8oifr48UTFvrNU63l7ZwWpcF4QeBZe1ntFEf4oBGb0UH38OKo6ZfcmCFzpgJ3RsDcBtZw8FQJX6qGnKswDJFsfPx6giBdNoZ63Fy3cg4f9LLys94oHJ/KJ6c3oodUfP07Ms1wXAoVAIVAIFAKFQCFQCBQChUAhUAgUAoVAIbAZgfr4sRm6UiwECoFCoBAoBAqBQqAQKAQKgUKgECgECoErIFAfP65QpYqxECgECoFCoBAoBAqBQqAQKAQKgUKgECgENiOw+uPHlf79rRn/PtBmREvxpggUL28Kdzl7QASu1EMPCP9Dp1T/zY+HLu9dJ1fvgXddnqcN7ll4We8VT0vxwxOf0UP18ePwMpWDIxG40gE7o2GPxLJsPycCV+qh56zQdbOujx/Xrd3VI6/n7dUr+JjxPwsv673iMfl7D1nN6KFTPn7wQvT27dtvr169+t3Px48fp+A6A5gpgRxohINF+L1///7b169fD/R2v6ZnH7DgCJ5gi+044KhwH+XrFl7GXvny5UsMqXufccRlrVzxozydX76O3DFw7EZkJODxcDaQt4b7fP369Tdw1Ij4eM2yeNDf6vPseCK2wmLrDA6O2xo7GQaZPrWjhi1uxXrFWrs8xpvJzuBI5jOTeR6tOm/lbM9n9NeqS1bPJRl+OT+YR4bn6efPWhvSh6dxiIM6uyI2wkBy9LlurSOTL+Tx7HI95Gvi8XgVW8RAOWAz9kkmkz3lEuPxeD3/mOdIPG6zhYHH5Lk4rq08HafWNTh8+PBh+N3I440YtPxoLcNde7DnOfo5qpo4Ro4N62Ci4f6QeU2iHnLPxXU9ntZ54HZjvLLZ0vOYYi2Rud9ePOQabTsGUaZ4hJHijX2JXDJiiXK36/5kl1kxR5++p3WN3hZetmxpTfh6raLM6yGZcoj1kHzPTEw97Hp2nbfUx4fLiDfKfa+uvY7o6Mdxcrstm84T6fmabHpMUe4ciTLXI26XOy9buSieqIdN+WzpIUf3t99++/77Dmv66dn1ePCZ8cdxxW6LC9rj/lS7bJ7RQ6d8/GglRaFa4LT2Lq3NAGbJx5lymsPJAm4i+plxneGb3GfxRo34+fPnF3yj3YjzKGdHealDi3oziO/du3e/++W/h3nGkRgHduETM4M84yHX8hPjAQ/noeOTyYjV/XnsxPrmzZvvOXMPBvgWPqqT7oXXET7PiCfWhzx5eSKWGQP8hOEaexkGa/S1J9ZL65qJSXwCAzjS6s1MJh/KT/dHckQ+Wj4zGXkfwdkln8Jbs+Outa1z5O4aO97/7B+NB33OCH5UZ/klHtbpH3FLMp+RqX7Y0F5xTXaZe2eX2+Oavf7cZi2LR3XDt+tJR/3PrDMxk8meYo97I84RA4/B90Y7Hs8SBuzll2DF5Pvdh6+vvcb26C+Z0adjkPldgwG2wZBaEVtruB3VCz2G7ltYRZnbiX7Y688PxcV6tBN1/T7zwb6Ipes6R7J4ZEcYoOfvA9SHHw2vl/LimeE9yl5ipxbMDLfDWu9ZIz/Kfekc0X6ft/DS9eO1Yle+4KkRzxyviXIQF70m0t8z44uftUO1JWbwd55HXsbY1/pgn2OQ+dTeyJ2WryyeKIs1cXvs7fEyYuB68Tr6jHLHIJMtxbN0jqj+rdi1Bn/92RLjad1Tt9GzPdq5i48fs5tuBjARqHu5F2F0MOh+TYPeSw4z46C51GCz7ApTtxsPE+7BfKRpR3kZD0nue19QPXfF3+OIYld+zMoDXT/Q3G689r5t6eGfgy2TYRP/ioV7P3BlQ77dlu+TXLZ8n2RuS/skc1u+D7nbymRuQ3blx21I5ra0TzK3hS71AUsGejP7PfpWDL3Z42ZPK7eerq+TY/aLAPkSmw9hEdfZ05I5jrKjfFtxe27aJz235fvkW33j+6QrW5nsjHgUn2biy2qifWvnVr6ZrmoIvgzdr+W74v/pp59eekZ25FOcoh7qJ8k0+7mmNZ9lgzXVVfIs35ZP2WrJtEYOOp/l02NnH88F9klH8bgs2uFezxPhRu4M7vV8058Osp8Ra5L5fFGwf7T2stYacW9rT7Y2+rzNMCDnbMRYuVdN0BOnfv7557S/3E6LS8j5iaMV+9o+VmzYUG1V6+jH713P17mO8US5eB/Xuc/senxc68yVHeL23mCdtaXzgz3eY+jJVwtvxe/1UgxLM/nt/cWt5YNYPAfFr1rqXljE2Ll3zrZ8jKxhj5/RAXeIUXGjH+vDvc6uEfs9XrZ8tvjV8xWx9H2RzzEX3xuvfa/qx9rSiD59fw8D9mQy5B6P2+TafWIHLjJrRD4Is8ymdOM8o4fu4uOHDpKY4Nb7GcBs9X20npOTaw6JT58+pQ/Uo2M6035sqBmx6JDBtoY3Ntf86YNw9wbX/tY8yksdDtjimsPkxx9//MPDPfpawxHlyAPEXxaU5w8//PDycIlyfLGfdX78IPY+ln09jDNZPPzIVX8lVvEIY/bKr3woBvWD8jnC5xnxqL7kQ+7CVOt7Z/DmZ+3IMFhjA1/iT/SLbWrfy1M1j3r4bcm0dkuOZD4zGTkcwdkln14zcFX/+PrWa3oyvgRlttacXZm+8Is5o+PnTJanbLT8eHzRJvfY1dnFvc4k+KxfOmQ3i8d7zPeh6/FxrR/lxKx9LpMcGdf+PHF/XPvz7Zdffvn+fqF89OxjbxYPvqQTMVCNeKap5x0jYtQ5wYyfkUFsI79kZhiQQzYyDJQndcRO76NElLkevoWj4+AYca2hvcLPOak9mtGTTfmUHjNx+2Cv5FGmfW5Ta5odZ635PKLruCv2+HwkRueV+9K129Ga7DmuyLAnH1msshPnUV5G/d49sSgu9jifxIeRvu35WbtOPBG7NbqK1bnlOCvPNe/C0Z/bcVnLp3iavQtjw3F2m70+IS/1D7PXzPW5dl6Kj67rGGm/5FEm2z0MkGcy2WdPa7iuYlUMwpd8GMKWdfZkGLR8zeih0z9+OAitJLeszQBmi99b6KjROMT01/+0Rt7PNmi4XjNuxUKN63bFU3DXg1Rr4L9mjPJShwkHhg4NrWX+xIceR5CTA7aUqw4fYuRFSblLrkPM/cqOZLrn8MWGP5wyGTbJT4c2DxviQYdBLJLxMut/2qN4kZMTuor9KJ+3jkc1EAeYxUGvx9Zr8hFma21kGKy1obx6vlkXL2Uz0+nJzuBI5jOTHcXZzKewxXfvFzPtGZ2x6b28pK8YemdXps85pB4RF/xs8jjglva6TXACA+KIQzYjX7Gj8ymeXW6DWNS3ERePBz9+xqHnfYA/zlbWFAtrstGTSc5efhhaU96t55s+fvRqksXj+XPtGAhPz03xRD3w0jMrynr35LTl40cLgxYf3G+GATnxw8BOr8daua/pW+wKS/nx2LhmXdxzmdfD13WNvPfhRDVhj48sR/aBVS/OLJ6WP63Rf/GdQzFlNtlDLM5B6bUwxR97maWrXpLe0jzKyyV7ksc8iBGuzehb+RiZiadX58yOauq8wg446wd9rWW2XCY8wD+Olk/1nnIQHzwu7CzF0bIt/7LZ4hB2W7yULnHM7M0MH+XZi6fVY8IvvpuTc/Z8U37ZPKOHTv34ocKLXFmyI7IZwIz4u+VeYeYPMvLtvbDdMrYzfMGd2fwRxm5XB5g3Pw3v90v5j/IS+xwcHgeHpN+3fCr+Hkdi3H7otbiU+SSWXjxbZRlOxArmzK1BrOTXGlk8W33eIp5YE9W3l2cr92wtwyXTk2wJA+1rzeTQevCzt2VXubc4l8nc9605gu/MZybLarOVs714iIOfmaNVw8y+atg7u3q60tNHCJ85L/70pz99/0DhMn95lI093Mpqgn299OHD49A18fz5z39uythDv0hX/a+4l2TIseH5UW/uqROY+/OM/dzrX3vp1SSLJ9bLMfC4tU8+kcWhWON67z6rRUsnw6AVj9voYfA///M/L7iqvj57rxGr/jDL7cZrdMCoNVh3m74H+/Edkf1eU9+vazDpfaxhD3nz8//bO3tkOY4cCJ+F9+AhxCPwBLyALsADyNYpZCvWo7HryFbIlCeXLje+t5vaZG5V9c9UT0/PoCKeqrtQABIJoLpfk5J8gKGHY+RzJFNu2DMaLTwju+z3mnfbqk+Pj2vPoa79HHEbreutddmy0VrLWITfc+x1oFjEqfbrvuVjyxr2+dk6WrkGE1y7PWrM75f8jOqy5dO5ku30yZ41fTviAln2C2u9uhSW2b054meEZ9RfwsqMffYql+odn5GtGTN66NSPH2tJW0OG75lBjNt7tOtsllHRPhr22Xjggp+ZQw+BtAvPWuvtGeHYWpd5uLUOWh3aeVCCE7waXiPZd25XcekQSgyyxyzf2uuy9LFWNrIpbMqB2+Sa9eRBe0Z49vq8Fx7PD/GM8CreLTO89ThdstPjQBh7+cBuT1c+W/kc6YxkI5uSHVEj2G7FIZ8j2T3xZI0J360zdUANMK8dcNI7u2SDPbw0wVFrqBZ68vSBjR7fqmV0RkP7ej579rHZwiNf6HkfkSv/RdbtjmTg819kM+ej51vi8+fJyKdi0OxYW3E7BukwJ1aX9a7R2fI3P7Dj/lVDnnet+S+UwtfLiePLHEjmfGotZ3B4HbhcuByry9M++zIG36/rkc9WvY/yNMI4woNNPi5QO6ORtaW9vXU46fGJ7givbIMbO1vGnrpcY7+Vq8TndQCONTW7xndrD7752TpadZV906oz6bVy2trvuKTrNab8ay0xoO98uj2/btmWvCVbqkvptvItWcvuiIORbIQHDLeeI/Dbypliac3g3Xq2p53TPn6osPY0RwaR9zOISZuPdk9B6osZ1686qJ9ZNaSaFK+adfilfKvfPXWJDg9+sLT+dEGHXOvwGNUI2BUfs2Kkjtxnytxm4sGGbCaekUwxoJs2k3PHCVaPI/vgCJ9n4CFOjwWettbe6HzA1hZ7SxzgSznNOvB8ZW1l3Xk+06fqDF5GsjNqZMmnc+Axoud5Tu7E6ew+wS84Egvrtw4wEwfzlgEW5biFSxzCV2uoJnpy9N2u9rOeQ76Eh1kvfKOcuAydzKf7STwuI4bU9ToRFumMZN5jS2dtcjHKSc/nEgfiXdx6Tpz3xKpYRzOxbn1BTjzJgeTJOTh6HDhG+PAPUMjA2fvTY+fAuUHPZfCHf43k3XVTJu6xp/i0lnXnNdDKCXL3JTzM4GvxNsKDnvtMXM55YnVZ6nkfSMaMTnIgObIccNaLN/fqfk9dSrc1Zx2A1zE5f76OLeeolZuWv7Vr4OJn7WjVgdeY58zXZV/6WQfIiTtjZ106yjGz23afyLwGkPX61jl3e/h0zls22e94tCfrMuMc+RxxMJJl/MJFDC3ukCvnXpct7vHLwFbG8l9RdwLX1rM9jZ328SOBzLyfQcxMPGXrOAa2HrDHIVm2XHW5zFHtuD8DV+qh+7NTHm9hgBckXmyYaxQD92Sgnrf3ZLt8rWXgVeqy3ivWVkTt28rAjB6qjx9bWa/9D8XAlQ7YGQ37UOQXmKdg4Eo99BSEv1AQ9fHjhZL9YKHW8/bBElJw3hh4lbqs94oq+KMYmNFD9fHjqOyU3bswcKUDdkbD3oXUcvJSDFyph14qMU8QbH38eIIkXjSEet5eNHFPDvtV6rLeK568kE8Mb0YPrf74cWKc5boYKAaKgWKgGCgGioFioBgoBoqBYqAYKAaKgd0M1MeP3dSVYjFQDBQDxUAxUAwUA8VAMVAMFAPFQDFQDFyBgfr4cYUsFcZioBgoBoqBYqAYKAaKgWKgGCgGioFioBjYzcDqjx9X+ve3Zvz7QLsZLcW7MlB1eVe6y9kTMnClHnpC+p86pPpvfjx1eh86uHoPfOj0vCy4V6nLeq942RI/PPAZPVQfPw5PUzk4koErHbAzGvZILsv2azJwpR56zQxdN+r6+HHd3F0deT1vr57B58T/KnVZ7xXPWb+PENWMHjrt4wcvRR8+fPj27t27tx+uWZsxZhAzA8eRNjhYxN2nT5++ff369Uh3D2t75gELh3ApXplncrunLrNPvnz5sjoXa2rk8+fP396/f/8NbBqsOQfu022yJ3VdntyNZPjHVsvmEgeOl2sfR/g8A49iUjyeE8n2ztjkZ8/Ygyf7zGORPeognwns87r0XJ+Rk1t83rtmye3IJ3LFk327py6kg03sMW8ZXgdb8CgG1YnXVsqy5uWz5W/E3ejscj0wrcWTPYIdH8La6pORzHsoz+4RP3vxuD/lZMSDY0qfmS/no3W953mLHc9Z8t7yo7VRHTi3XgPoOkcev+wyy3bikW6elcld2vUYMx+JSf3gMXguhUkYJZOe4hjVZdp2jhSj7Mpfxii5/KbcORjJhNf9yiay1L1XXQrX1tlzLe6wkZzDn8u3+sn98LKFm1vweK5acfQ4SB687jwe1a7LvQ4yzhGepT7Br/x5LGlT9S5MKfdcOla3qRjd36jWvYfSX+Jxm8hcV373znD4448/3vR772kfP0iMkqZkZwGdScxe3/fQgzcvUHjzQr8HhkfxQeyz6kYHhNflzDi3Nmzi4eHw8ePH7z5U9PCtqRF4o45GNtfYEYbR3pEs44InMLG+xEHWPn2gejjC5xl4nF944YfYZg34EmdbbIJhKx694LT8Yc9f4j1/6FGrzAzywMOPWjkjJ7f4JHY/r4+uWfga+RSf8AsWf7a8kX3DPzJva0x53tmf2Hs2RjmRTHWne3wxiFt5yPjZg4yh+pUe9/QAdcjws+ttwf7hccn/Eh6pCxv32On1yUgGth9++KGJ9Sg8wq+5xRcvxeJT+5jhRvwkdt/Xu0Zn6wsy/pRr7DrvPT+st+KiLlgXduXGY5WMmcEsPfmTbWJxbGClVn/99dfv6kF6PmdcLgOP1zx7vb58b173+FE9KVbFTiwM95l7Fa84cZ8jGfs8Tq750cCn86f11NN9jwO3m/lzm71rdLbWZc/W0rrHDHfExBpjicsl20ty52lp70w8GdeIA+WPPc6N40WW7znikt6jd7zOXHcprqx99lOj3o9pT/cZp9aZU4ZNr32uhZn43B/rvtftjmTpc7TXbe65ntFDp338gBgdLiokkjBjzCBmBo4jbGSz6F5cHuHzkW1SR/zMGOJyVh0mpq11mYcS93xBXYo349C91whYONB///33717eEzO+/CDMe+2XD3Gne3z++eefb4drS0bvp03uiZP9/PjBzL04yMNW5wj7//rrr0N8nhaB66sAACAASURBVIEHjhXrb7/99l1c4v+WGb752TL24oE/ryf3mTjwQS6ZVU/SxY7q+Yyc7PVJL9B39B+D2IjjyJpVrlo+4ZUB93Cbcb0Jb/iH53CNGeUZHAzdK9cjG4mdez8rVEuykfXGOmvsEy/a6zM8sU/7VZO619nlOpJpb4sX4cG3PuzJBrFIV/skc1sjmdtA1/24DdmVLd8nmdvSPslatiRjr+JgLXW1L2cwkBf8rh1bn7fg7vUm/kejFVfWAfapY4/BecR+i2v4Ek/OnfBgY6k/ZEM6Pjv2ln/f69d6hyCuHMml8GsfcvUj+L3nuFffar/mLT6xoz9tVv2AozWcny0cyC6+1o6tdbnW7pp9HmfmaI3+lj2Z8yXdWXhGNQIG50CY8J29iUyYeu9dyn+vrrAxwiP77JE/9cXbwuAf+CSW1nCfrXqmXtEVftWv7nvnSYs7+U88ea99M2biu/UD4mkfPyAAwjnkdEDNIAUbM4iZhWW2HW8WNewvv/zy3UN7ts9HtkeD8TNjqPGpSf3oUJhhf2td+uHBNYfizz//3D3whHGpRhQnsfle1+fwg4M8BMEhbph1+LqdrMt//vOff9dnyuDED1Su9YOvEQfo8rKKTa75U031wh9//HGIzzPwkBdx5LlTvm6dxfMWO3vxoPfTTz+91RX142c/9egvweByuXhAL/dhl4GO98kZNTLy+a9//evuNTvCo95RH2UOttREay/2yQfzmsE+/QLKNeePepo4RmPUm9k3sq26kV3VD/tbw/EhVx/omntfkx9q1s/SJTxuQ3tV85kj75ORzOsAvOwFF7N8cM0QbnAw9uJ5U/7vP5I7+eSZRp8nR66b2F3Wu0Znywuy++DanydgHw3nh2v9kBsNcSqOWXef3HtOdK+8e33LpvZ4bUmGbfEqG5IJS3IuPJzRyPghltbwmCUHo/Q8duJyDMh0tntcXLMv33PwJbvOn/wyux2tOwep5zLHtoUD7V2qD+FhRmdLXbruLddg1NmKHa8BuFU+bvHhuuSDn7XjVjxraiQ5EDb5zhpRjeusSrnWW3GO8LBf9ey62KcWqY+W3PF6LrXe86k42CfM+PE/jBEH+bzt9Yl8Mrd49RiJBQyzxoweOu3jB8TowCbhkJOFtZeoGcTs9X20noqMAtVfYdUacb/aoI788JgZP/U484GwtS6JiwNDP8SmtVGcqodejThn2turHThQn6ZPdJFhT3ZaPvXxoyXDL/HxssNhjC0Ga8Kp+JkZrHONLg8A7Aqj1vTxY7ZP+Rame+AhB4pdD65ZZ6Xwi/c3ghf+cQse4lCucIMtf/FEroc+L+DIqC3FLR7czhk52etTHz/uWbPqiZZPXn540WJPKx8LpbAoJnfK4eJme4nq9e3Ixign6BGjfhmkBqmvrHvuvR7dn2rQdajD3tnlulxT6177Izw6W+kFMI9+GfQ+wU+vh5CBXf1F3j33R+ERD/hW/7ImPp3v3MM+cbH1zCMe4sPPmsH+3vMEDKOxpg56cfRywn7vnRY3YMq6auFE13n2Pa6vGmA/QzlK7sVVjxfpyQ62enWpuJCrPrTmOLnucch6/jIIZr2/ZVxpF3/iJ/cqluSghyVt5z32t9Rl6u+5Vwyej7SDzM+nlG+9x97I35K9vXh6eRlx0NIh36pH6WYNaH0UZ8u2Yk997PvvwuhmXaOLP2GTLZ/Tp+7zeSL7a5+3+FWfuL+1eEY8ub2l6xk9dMrHDyXcC2mJvCUyXD6DGLf3SNfizg8p4qVBKORXG9TNrIZK7nQwwO+MsbUudRB6fBx4ft/CNaoRPgpQO3oB9rl1mGLLX5DTn/CMfOpfe+nVLPH4gS9bxD/iQAe6H8bs517/2stsn/fG849//OMtHs+Trj3uzMuWe/hfqinZU26Ewec1eFQvsjc6u7xfcp9wPGKNjOqSXqAmnauja3aEh/ryHPo1uG4d+CZW5jVDee317cjGqDdbetRixkgfeG6kJ1zZJ9zDmexon+6lz4xs6Sxt6aGLn/Qt294nWtM8ki3lpsWP7G7FAw79YY1stLgifudftdvjRbZa8yj21n75cv+Jp6XH2po6kP1RLJ4T2fSe5Fq/0AsL9rxftO6z2/V1rr0u4SzfJfPMVt569Sj74EK3NTw37CMut5c+3Qb7fC8y9qevtIEfz63bdH7WcLAml27frz12Xz/qem2+WnHfgqmVpy32bsGTvpc4yHxqf/Ye915D2pf1mHEmHpd7n2SNyj7rGvCSZ6lkPo98Sib7fn6MePc+ka+1eLIfpb9nxuetHxBP/fjhBdM6vPaQgs4MYvb6vocevPlBP5O7e+Cf6UNNPNOmbGHbDzqt75231iUHjX/1bR0yOrQT59oaSR8ZG4euH4wuTzwjnyMZdvyFy30mvvTpB6oOcnwxjvB5Bh7nXDH6w9Dle67hSZxt1e/h6dUluL1WM0fyL33FmXl3+Rk5ucXnvWsWTkc+xTlz5sdle67hiXwzrx1ZE63nG3t4EVV9YHspJ+4ffa9DyVrr2OUMRJZjdHblXrD2ztKWX+mP9ITNeZDeSKa+bcWE/mw8rRzKDzINr1O45Rf9VmzaP5rR3/qC7P5bHGkt87imDkb5IA7ZHuXEuVLso/rQnrX5FAZxDmZ/B8HeGn+y04oleUgfcNn75S51wdPbD1fO14gDlwl7jwP83bsulcets/hq5SFtJV8p33qPzzV+e3ZbeMhJfihLfcXs+eud39JNHa1rzprI9VGcI9uyK332er/luYLfFi/Co3nkM/sX394nI/vszefmaL/w9HpU8q0z9rae7enjlI8fgFBy9GUtCU2gW+5nELPF3xl7KThx54V7BpYzfdKMOjhuxaGDSLzOrEmw7alLdHjQgin/xAeb6qMW1jU1koet7PU4gGvJWnhGPkcyPdSw3Xqx7HGQOctaOMLnKCdH4VFty74e7Fq/Zb6lh3p4VEdLdely6fRq3WuEPZ7rM3Ky16c4Ux95HOTxiJpd8qn6gWPPidb3zuQUe8xbxogD7MAZ/GUfjHIiHfSw78Nlyov2tGR+Rnld+rrXMzaTV7crX8LkNlPP7eYZPJJlDSR3R+AhHnLS+2U2MTkPXCsXmpML8dWa8bv1BTnxwIkPyT3PknvOXO45URzKm+xpPXMi28xgcX7cn/TFj/cBMtdLPNKRr9R1TMKbvAifcDC7nvtU7PLH7D5T7nWQMnSRe3yyK6zC5Dlxf8lP4slYHI9sJ4fC0JrxvbUuW3bWrHlPC6t48Jy0OFhjf7QH36066emswaOaT7uek6yRLRzAQ+qDV7Wkmta9ONUs+RY80hEvirGFhdrpnaUjn26zVauuy7XGmj7p4XHeW5zKx555Rg+d9vFjT8BrdWYQs9ZX7TuXARosD8JzEfW9V132uSnJeQxcqYfOY6k872GAF1petphrFAP3ZKCet/dku3ytZeBV6rLeK9ZWRO3bysCMHqqPH1tZr/0PxcCVDtgZDftQ5BeYp2DgSj30FIS/UBD18eOFkv1godbz9sESUnDeGHiVuqz3iir4oxiY0UP18eOo7JTduzBwpQN2RsPehdRy8lIMXKmHXioxTxBsffx4giReNIR63l40cU8O+1Xqst4rnryQTwxvRg+t/vhxYpzluhgoBoqBYqAYKAaKgWKgGCgGioFioBgoBoqB3QzUx4/d1JViMVAMFAPFQDFQDBQDxUAxUAwUA8VAMVAMXIGB+vhxhSwVxmKgGCgGioFioBgoBoqBYqAYKAaKgWKgGNjNwOqPH1f697dm/PtAuxktxbsyUHV5V7rL2RMycKUeekL6nzqk+m9+PHV6Hzq4eg986PS8LLhXqct6r3jZEj888Bk9VB8/Dk9TOTiSgSsdsDMa9kguy/ZrMnClHnrNDF036vr4cd3cXR15PW+vnsHnxP8qdVnvFc9Zv48Q1YweOu3jBy9FHz58+Pbu3bu3Hxpl1phBzCwsR9mBL3H36dOnb1+/fj3K1UPbnX3AUjvv379/45aZ+1ljT11mn3z58mU1nFGNuN206TJqLOWym3VHDbKmuvz8+fPfWEcyNskmupwLYNDAv2xmThIrdjSO8nk2HrgQtxm/eJJcXIxmOHPeRnslc2636oq/zDO2R/3X8+nrit9rMzlyvKmbvLFXNhOv4kC+pS4fDU9ykLGQF+chOVJNtGZiJRfMs8aoRkY+kvfMJ3Ep14oxuZG8V1/UhI8R1rTtdem1JZ9pu5eTkc/kIG22OFA87s/jR77X54gD7DreVl0KW2sG048//jj13WjEQQsDa66jXHoszjlyz8kSPyl33fTLvcbefKE/yonHoh6ST82se/wZAxxkfaErzGk39Z0DrrGXvS4szImHNekpX+nT9bdeH1GXSxiUsxavS7p75dSb19ySncyj18iSLnLFSM5cV3WjXCYHrue1kzbRd/moRjKW5IH7Hh78utxrz2PxGJ0f7XG9xJqxeKzJzwiPx5kxuk38OV5hHHHgMeU1+ree7ad8/BBhIkv3XlgZ7Jb7GcRs8XfvvfDkBQqPXuj3xnOmP2JXHd2KgzqkoagfBnad51vtb63L7AsO6Y8fP/6Nb4RnVCPg+OGHH94Ocl4KvO+WfFJn/LS4kUy4tI/7kQz//nLi2IVVOWGGA7gQVuVf94rnCJ9n4CFW6pCZQZxep+Jbs/OutdEMf+JwtE8ycJCvX3/99Q3XFl32Egu6nnNsY9fr23M98pl5F05myYRR90fWiHy0fI5k4D2iZpd8glNYwQA34NDgeu85SN68dmVz7zyqkSWbxKG8s9fj5jpjdk7ctu/VeYDd1lnqfYqe88i9fMgOMwN7vtf9c93LyYgf1YE4yL0el3wIX+LxvWnH+3aNT/lIDrjnhVl4k4Ole/RvfUF2HyMOfN/StfOTe1s+evzAOzUnudvK2NmrPiQnvbpcytcoJ2BXDwlb5g6s4PBzPn16HLpWjYFbPpDJT4sD+Wo9a2RXexyPc8W+5Eu6e+fMzV47a/XEb+/MWGtn6z64beVlrR10PdcjvVFdup64UF2it+ddeKlGPHb5YGa0etzj7OUp6xAf+Yzo9Un6dE64Fi8t3601dNR7vffAvTlJbK17bN96tp/y8SMLh+C8WFrBblmbQcwWf/fcqyJV8+o+f5G4J6Yzfc2sm4yDOtIv2inbc7+1LvPA4p4vpcQ8GqqJpRrR4aV92FzrMw9efPoLlWxxcI5k7Msc+vkAHmxouC3fJ7ls+T7J3Jb2Sea2fB9ytzWSuQ3ZlR+3IZnb0j7J3Ba6POTEA3q9ft9Ts+lbGJZm4UJ/62jFgB3FiD3u808oWj61hs0czqNkihe9Xs3Kv8fmtjx37HVbvi99jmRuQ3ruR7glc1u+bwse9qKrP5URl4rbfcjvlvlW/fQFrqUaSR3do6u+ARfXxM51/vKDLF8ssZN7ZdvtaS3nUW+Kd/AwmFv+keELGXOOET9pk3s9TzIuxYOfv/76682fsAmruNzrM7HLrvxgl5+9Y+vzduQnseleHIx0U0b99uJKLl1XPsUPs/eC71X+5Ie5V09el9j0fdyrRrCPHdl0f63rjFN+fv/99+/6LeMa2cK3xzziQHbY08rTEh756enL/tZ5Zl2u8S3OiMNzu0b3lj1baqXlJ+untUdra33lOSd99QscaSRf3KsXVLNrakR70fdr/Ohe9QkOcsS8NFS/vlecKeeykbFoXbP25741eBQDNnzcmhO3ldczeuiUjx8iC6IZEEzyVUgZ6Nb7GcRs9Xmv/XClFzXx9ssvv/y9di8cj+JnbYPtwasDYY9uS2drXbp/rjkUf/7558U+WVsjqh/1IZjX+hQeellDBy/36nE9bEeyPHCxrV/G8oBnr34hlg/hVzw6R47weQYe55fYxanWffaYfX10Dd/8bB3if48uOdMDX34dO9f6cfstn1qDG/2oJiTT/T1qZORzJIMH50B7lW9i0DV74WVGn2CLusaWeks5kU8+Eolbz4f29Wb4BjPzjOH8qD58bckH8RCHeGO/9zTX/EmgnqmJm9jxl0N1pTpLOfc9XWSOgXvhFOee91FOnIvkx/1zjU09T9x/cvDHH3/8/X6hOMUPe/f6TI4cg2offKrLPC9SP++xd+ufDsomcc947/IY3TaxketRjKkL7z/99NObTtY0tsUhMvb2RtaF9maNyN6anDhfjoXa7clU68zeR6p3/DtW7C5xwB70k1fF0sIjnrANFu89yW6ZZ9blEg6vGedxSW+GnFzxs2WAV/2+lnflclSX4FB9tTDpXIMjDfb1ekF71tSI58BrXz79LFWO1jxvHR94pNvqE2SKP2va8bkNtznCI/6dV63dkhNx3JrBfOvZfsrHD4LxIudg4hB38loBr12bQcxaX/fep+ahYXhJI1atcf1qg5qZVTfOHYdAPjBdvud6a10SF4erfvCptZF/1cNSjejwJVYN2V/yyb58OMkehysPMA4+7DBGMuTs0+HMWYBtdBj4kowDjx/VOrMelnmOHOXz3nj0IBGXzK3ahIs9f1OJePjZOoRrj26rv4iLmiH3ssmarsG3xie2qYkza2RUlyPZUTU78ul8aZ84R0bvMTPAp18C19QL+72X1+iM9qypkZ4+MalvPC5iJibOS8m1Bn6NUezI0BVP0tHMumxrTfOSrmqe2BmOnXvHNeKH+JHrB12tKd4WB/r40Xue7PX5Fsx//5EcKGZ/xgir642uienWF2TZF8c9DrRvaYYr4uiNXp0kP+hjy2sKXfGl/fhqcSn/6U8ct2qkZUf7ZY9Z+zxOrnUvLslPa4BJ5zd7/fxIfyMOZDtjZH2ER/ixzUgfsrt3nlmXIwzE4e9KXh8jvVky53iPTfRVzyN95cv3Zp1IX3uR+1C/wJGGbIx6YalG0q5qv3eO4H/N8zZreqlPFBOzOAD7Uo2swSN7zqnWbsmJY87rGT102sePDIZEeOGlfMv9DGK2+LvnXhWVP/SId88vPffEfZQvGs6bboafPFhm2MTG1rrUwePx0Sd+38K2tkbyYMbWWp9g8IOthYM9Pawj2YinPOTT7+gcOcLnPfBkfyu/fl5qrcd38uT3I158X17f4rPVY+DwB7/sb42TnIx+Qb93jcDbyOdINsrNrD7Bv9cNfKu3/Zo4WjnJuvD7pf7wvWuu19RIy04LN7aIHYw8TxUz+hk3a+zlpzVkw2tV+1jz57XWmUd6vk9YWUtsHtuIH/ToL/ZoKPfC0eJA/9qLx+Bn0l6fwiDfzp3HpH0Zt9Z786g/ejq9deHpcdDT83Xwu77LdI0f/4WV9RY/rCt30vWcJFfYyDOxhYe1Xo2IA/ZopB/t8RoTfuzmT6ufHKtqK/X0cWTEgWN03pfwOI/YUEwet2zvmWfW5ci/cpnccT8rlpF/cud1MNrbkpEnziPm0WjlJ+vS9ZFl3akmnBeu4cpjUL2tqZGWTWH1enRbiVv7E5frE9tSn3j82k8sirFXI2vwCKPzpLXE7c8Xx8S+zInL83pGDz3Exw9I65GSQa+5n0HMGj9n7YEvLxSu/f4sXGf4hQtvulsxYCsPllttSn9rXXJ4+gsL+vrbPrKpAzb7Z02NSNcPqDU+8Y399ClMzNjs8TiStTDJrg7UXr5HmI7weS88mfcWR6P4xF9vhrcepz0d1kfxC2OvRlp4idM/4rb2jHwK66gORrKWP9lUPOzJsYRp5HMkuxeefH44JuLOM8hzlFzkPfrUAPOMsaZG4C1fWls58ri5Jm5Ga2/2YMbSqw9s9s5BbPJLXKum3H7a5r6XkxE/LT1/now4IA7kGs7dLT5HHLR8KkfCMZqxPetvfuCnhcc50Z7WL5etmmphz54f8cNeP18dX8uO55q9rbpcqhH3AX6vGdUpe0YjfeRe9D0ul6f/EQfSSy60rjnxwLlzpbiwM2PMrsu1mJKrtXp795GrpVoY2W7VATHk2Y6NrAuvS/fR68NWjkd1sVQjo75tYdU50vLpz1t0W33rMbb4cHkrVsmzRpbwoNfjtBUnazl6+rnP72f00GkfPyBBX5uUeA/ulusZxNzi/x66cHYUf/fAP8sHddRqqD32dSiIV82z7O+pSx2iYNGfdnhswtx6WejViHQUX9oe+fS+lb76Vw8m1hPPSOZ4MkYdjPKFHR+ORzgkP8LnGXiIx2OBC69JYfI1cbBmRm+LrvwpJ5o9N8rpqA6k53s8Tn/Ij3ymzO0RP7HJ1z1qZMnno+FJ/px3YvGcZH8u1Rd1QD6YZw3Hk1gdb9a0alK14HWSHKQudZO1g6+0iW1x1JIhl23sCYtmYfIYkXHvw+XyJ7nLkp/R2b6GA+FMLvb6HHGQeNKn4u3Ne563PVtad7wtPOrtVr4yF9jMGlH+W/7Eve9xPL6OvrBIT5jSp+Sqyy014hykP+z2YvaPd5nnjENcKCb3yVqPA69JxdiyDR+OB5upK24cy97rI+pyDRZiasW/RnfPHjjbwpvXHfnKPINBeUm7WUOuy17lnxkbGq1e8PPUMfm6Y5Ftx+Q1Kblz73LHmnbdZwsrtt2v4mLN7Yo3YXEOpCPfjlNr0nM8ybn2yHbKHc8oJ46ndz2jh077+NELasb6DGJm4CgbxzNAE7Wa/3jP2z1UXW7nrDSOZ+BKPXQ8G+VhJgO8sPEyxVyjGLgnA/W8vSfb5WstA69Sl/VesbYiat9WBmb0UH382Mp67X8oBq50wM5o2Iciv8A8BQNX6qGnIPyFgqiPHy+U7AcLtZ63D5aQgvPGwKvUZb1XVMEfxcCMHqqPH0dlp+zehYErHbAzGvYupJaTl2LgSj30Uol5gmDr48cTJPGiIdTz9qKJe3LYr1KX9V7x5IV8Yngzemj1x48T4yzXxUAxUAwUA8VAMVAMFAPFQDFQDBQDxUAxUAzsZqA+fuymrhSLgWKgGCgGioFioBgoBoqBYqAYKAaKgWLgCgzUx48rZKkwFgPFQDFQDBQDxUAxUAwUA8VAMVAMFAPFwG4G6uPHbupKsRgoBoqBYqAYKAaKgWKgGCgGioFioBgoBq7AwOqPH1f6j9fM+I+hXCF5hfE//y97avMKo+ryCll6PYxXOttfLzvXjrj+g6fXzt+V0dfz9srZe17sr1KX9V7xvDV8dmQzeqg+fpydxfJ/EwNXOmBnNOxNZJVyMdBg4Eo91IBfSw/MQH38eODkPDm0et4+eYIvGt6r1GW9V1y0QC8Ae0YP1cePCyS6IPYZ2HPA8kL+4cOHb+/evfv25cuX74y7LOUpwwZra8eMhl3r62r7nNvMyVIsnz9/fssl+eK6xjYG9vTQNg/n7yZG6uPTp0/fvn79+h0gyVpylyHnfu2ouvz2dj7C+ZZzci2/ta8YGDEw+3mLvffv3//9rGmdJS08/mzjDOGn9ZzSWePPP84q/Egvz5/eGSNb0mMGOzH40D736TbRc5l0xUXG4bopk04Li+ulz+Qv37vAh06ug9XtJh7p9XQV6+wZHn788cf/ew7N9nO2PWor63UJk+c66857oWVXtby2L8Hi/qgDfrJO2CfbjmlUz44Vm8Kb6/LZwgyO7FmvZ3Qdj7gVrozDdVOm+LDpWBJv4vEeQrdn122CUxhH8Sue1jyjh+rjR4vZWrsMAzStDpY1oGmaH3744e3Q4GHph4caXWscjB8/fvz7hYHGlgxfe3y/wkNvTR58zygnvq91TQ78wOV6Sz20bL7a2tY6vho/1ITqIh/C9LOveT3lA5bzgL3MS8PtsFf+l/SeTb6Fs2eLveI5l4Hs35lo8l1hZDvfI1p7OYd41+Cn946h5yQzg32cKwx85PvMm+C//0AH23529Xy6Hnv8fJQvbPEuI/+sj/AkBy088ps+8cGahj+vuAbfr7/++n8fP5bw+FmOD49Fvo6Yif0V3gM9T2t4hJfeu7nqmzyTN2z7UP5UD/TnmpF12dKhjrI3sU8OwcxIvx674tLe9MHerD3Zw29PL/sEu4pnS2+mnRYeYXYZvryHkpO1OdlylgoHnNzaQ4d+/ACgfyn3BHMNkRq6V1AEhu4vv/zyNkPy2oKWjbX7haHm6zFADXkdrY1AhymNr5GHAPd8mZR9Zv3pQktfdnpz1WWPmf+sb+WU/f5wkP6Ws2KM6DWke3voauwQp9dGPnR1nz3u/e/6vfirLv/HDFzAGXONYuCeDBz5vM0eH8W1tFfy33777a1X/J3E7ep86sn1Du06uk7ZWp+cfej6kK2WrLWPtdzLPe9WrVhae/NMTj3utccx+LVw+5qu0V9ztmv/LfORdXkLrtm65JGfrYPaJJeZY+yoB3p2Wd+SR/UBOWkNyZd6E33eRdmfQ5hb8ci++5et33///bv327RLrLf2ZmLTfa+XvIe0Vxh6PbiUkxYHGWvew9FDf/yAlFbCCcRJ9HuC4qOHEqsm6BVWksL9DGJadmvt8RigTvjZOmg41ZZ0VXPcc80h+vPPP393wFDPPLTzr3/Jxmiuuhyxs/ynV6kNnzoXuOZPDfhYqrXcX/dtBvb2UNva466qp3loM/yhq/NA9UM9MfSAp+f1kH8TDP5Rdfk/cuC1Pn78j4+6uh8D9OGtL8iJljOEs4AfrtcMnS3Sy3cHvQvrrOm9M/u5kn79LEtZS2/k0/HmL0Fg0y+XxN87ExOP/IGNa/2Iw5FPdJbeu5AnVuch8bhMmIQlZbPvj6jL2Rhn2IPPPZyqFlp9oB7p2WVd9bkmBvm6tTfx2+uFVv8JW+opPmJv1azjzXpHR7GnXfljdrt5jc18BwI/ZxYcyb7bI+6ejH29nLAu3rneMmb00KF/80PBtYqCNQ9Y914orbU1BM0gZo2fs/aoQVQ42QRn4TrDLzXkdbQWgw4RP2CxQ83pB1ta07W4Rg/+XX/J97PX5VL8S/JWTkY6Ois4rJUXrWGrxjoG9vbQOuuPs4s4/eGtBz/1w4czakdruqau0NOZ6/q9yFSDVZf/edGCs+rHXrW011Vv9Yxv87NmlT6c/fFDfpUfCh7QiwAACOxJREFUzoatAx09r3h/4H2DIZutdwr6B52WTHo9LHqPFs61PtnPXmEFg/cy/oRdtj0Ox8M+/iAJfa0nLtlwn6yxXxiQtd67Uke2enhcjv0157rr3HJ9ZF0mLtXGGecIvCrXiWt0f0ut35pL9L3WVN/ikTrLMaq9USzI+IM66kHDOWvJtY/Z/bJ3T2/KR+8dyP1x7fyKE3HELO5cz3V8Xdeyw761Y0YPHfrxQ4GQJJrPD5g8+HRPUPqT29aabI7mGcSM7JfscRjww2ILKpqeRvXDTHXqTagaVIP6fvYhXzuqLsdMtXIy0tB+P1fIj9+P9Ev2Hwb29tDV+CNOrw31tD+w/fmTtaQXBfaMRtXl/9iBCzhnrlEM3JOBo5+3nA9bnv+KXWfMn3/++dYb+sXUZz+ndJ74u4ds6QzzdxbJmNHx80373Zeu3adssJ8PSGDGh/b67H+TRfYTj3QVg/bpXv6Y3WdrH7aS94xT9qSfeCRnvRW35EfMR9flEZj32ITbHu8je7fU+6353NqbvbojvlEcyKlhr2Pt997Ste8Td94nxK29Pi/1pvrDzwhxAJ4crOl5nvtkK3t6TU7QacWY/nU/o4fu8vEDwE4a9554AidhkOSEsifXFPxonkHMyH7JHocB6oOfrUMHjTcqa/4lljrSnwirsd2X1/Aa/1WXY5ZaOZGGnxFaY9YZwXUrR763rtsM7O2htrXHXSXOfNFljRrS8J6m5vKlQOeB9lddion2nM/99q5aLQbmM3Dk87b3rOE84V3W3ysyMj9jXCabrksM/ALja9LR8xKfrSF7PTk62tOyj5x1PwPdT56dIzzEoT/UXLLrPoXPY2jx5zrCOMLDHuzk80C6R85H1uWRuLfaJmeet7X6ylurJlv14Hbx18qp9Hq1LBut2kImfceEr569Ud9iD3m+SwiDZnjw30e0rrlV85KBjVg0xGkrH7m3xwG22Ct+Mwb5cI5SR3h8FrctbL7Pr2f00GEfPxSQf4VyUlQcyCGTvxJH8KzrkCQJueYE9K5nENOzXeuPxQD1saVp1KBel/511OvS14k6dXUIrGWk6rLNVPJKbpJ7zg7WM9d5zqS87bFWnYGtPeS6V7gmPu93rv3FgGvJfZ3YUtefYcirLscVQG9zTjLXKAbuycDs5+3SWUBs2uPnRD7f8owRJ3qWua6fTTqj9N4hX1pn9l/GsOP38uNz+kys8uU6usa/x7IGj7A6riWfI7nOX9llFuYRHn/Pc13nXnHOnmfX5Wx8s+zBPz9rR+aZvOg9UHXqueJa+Wrl2mtT+l534EqfruO4pS9/qSdcinfUt9hF3vMlv/jwjx/pU3Wu/T6Dw+23+HEuHK/rZZ+4DH/Zf4ofWcun9FMmXj2G0fWMHjrs48cI+NGyGcQcjbHsz2GAJvKGm2P1GCtVl8fwWlZvY+BKPXRbpKV9bwZ4YeMljblGMXBPBup5e0+2y9daBl6lLuu9Ym1F1L6tDMzoofr4sZX12v9QDFzpgJ3RsA9FfoF5Cgau1ENPQfgLBVEfP14o2Q8Waj1vHywhBeeNgVepy3qvqII/ioEZPVQfP47KTtm9CwNXOmBnNOxdSC0nL8XAlXropRLzBMHWx48nSOJFQ6jn7UUT9+SwX6Uu673iyQv5xPBm9NDqjx8nxlmui4FioBgoBoqBYqAYKAaKgWKgGCgGioFioBjYzUB9/NhNXSkWA8VAMVAMFAPFQDFQDBQDxUAxUAwUA8XAFRiojx9XyFJhLAaKgWKgGCgGioFioBgoBoqBYqAYKAaKgd0M1MeP3dSVYjFQDBQDxUAxUAwUA8VAMVAMFAPFQDFQDFyBgfr4cYUsFcZioBgoBoqBYqAYKAaKgWKgGCgGioFioBjYzUB9/NhNXSkWA8VAMVAMFAPFQDFQDBQDxUAxUAwUA8XAFRhY/fGD/23R58+frxDTN/43OB8/fvzG/2avxnMzUHX53Pmt6I5n4Eo9dDwb5WEmAzyDeRbzTK5RDNyTgXoPvCfb5WstA69Sl/VesbYiat9WBmb0UH382Mp67X8oBq50wM5o2Iciv8A8BQNX6qGnIPyFgqiPHy+U7AcLtZ63D5aQgvPGwKvUZb1XVMEfxcCMHqqPH0dlp+zehYErHbAzGvYupJaTl2LgSj30Uol5gmDr48cTJPGiIdTz9qKJe3LYr1KX9V7x5IV8Yngzemj48YMXlw8fPnx79+7ddz/v37//+6+xUuAu//Lly9+UcO0y9mqk7U+fPn37+vXrm3gkYw97ZRd87Gfwr+Vo3Wf53Ytn5BO/Iw5GsjPw7PW5NydL/OzBk1iUa9XlLfnag4cYRz5vqcsj8ByRkyUORvycgecWn8+Qk6UeuoWftO1n+1F1cKWcnMHPUT57z7dc1xmtf3X2KDx76+DR8NzSJ8k9nGjs5ecWPHt97s3JLc/bvT6Xzssr5WRvvs6okZHPkWwpX0dwcEtdHoHnCA6yf3TuP+q7+S0cXCUnxDjqhZHsFn6yFma8By71EHjXjuHHDzfC4a0XF19/xOsZX4UeMa7C9P8MVF3+Pye1UgxsYeBKPbQlrtp7PgO8ANV/8+P8PLwignoPfMWsP37Mr1KX9V7x+LV4VYQzeqg+flw1+4X7jYErHbAzGrbSXgzMZuBKPTQ79rJ3LAP18eNYfst6n4F63va5Kcl5DLxKXdZ7xXk19uyeZ/RQffx49ip58viudMDOaNgnT2eFdwIDV+qhE+gplzcwUB8/biCvVG9ioJ63N9FXygcx8Cp1We8VBxVQmZ3yf3Rd/fGj+C4GioFioBgoBoqBYqAYKAaKgWKgGCgGioFi4IoM1MePK2atMBcDxUAxUAwUA8VAMVAMFAPFQDFQDBQDxcBqBurjx2qqamMxUAwUA8VAMVAMFAPFQDFQDBQDxUAxUAxckYH6+HHFrBXmYqAYKAaKgWKgGCgGioFioBgoBoqBYqAYWM1AffxYTVVtLAaKgWKgGCgGioFioBgoBoqBYqAYKAaKgSsyUB8/rpi1wlwMFAPFQDFQDBQDxUAxUAwUA8VAMVAMFAOrGfg3VnVfHfPhcR0AAAAASUVORK5CYII=)"
      ],
      "metadata": {
        "id": "i22C6TcQy2dB"
      }
    },
    {
      "cell_type": "markdown",
      "source": [
        "Распределение хи-квадрат зависит от числа свободы $k$, которое вычисляется по формуле (для нормального распределения) (6):\n",
        "$$k = K - 3$$\n",
        "\n",
        "По числу степеней свободы и уровню значимости вычисляется значение $χ^2_{крит} = χ^2(α,k)$. Это значение можно определить с помощью соответствующей таблицы.\n",
        "\n",
        "Область принятия гипотезы $H_0$ определяется условием (7):\n",
        "$$χ^2_{набл} ≤ χ^2_{крит} $$"
      ],
      "metadata": {
        "id": "2w28Zt5SmQuE"
      }
    },
    {
      "cell_type": "markdown",
      "source": [
        "Пусть уровень значимости $\\alpha = 0.05$\n",
        "\n",
        "Число степеней свободы $k = K - 3 = 9 - 3 = 6$\n",
        "\n",
        "Тогда согласно таблице $χ^2_{крит} = 2.45 $\n",
        "\n",
        "Получается, что $χ^2_{набл} > χ^2_{крит} $, а значит нулевая гипотеза отвергается"
      ],
      "metadata": {
        "id": "KtYZuWsnnWqc"
      }
    },
    {
      "cell_type": "markdown",
      "source": [
        "**Пункт 4**\n",
        "\n",
        "**Доказать, что $$\\chi^2_{\\textit{набл}} = \\sum_{i = 1}^k\\frac{n^2_i}{n'_i} - N.$$ Проконтролировать корректность вычисления $\\chi^2_{\\textit{набл}}$**"
      ],
      "metadata": {
        "id": "aiTafNHyeX08"
      }
    },
    {
      "cell_type": "markdown",
      "source": [
        "Согласно материалам лекций: $$χ^2_{набл} = \\sum^K_{i=1} \\frac{(n_i - n_i')^2}{n_i'} $$\n",
        "\n",
        "В этой формуле можно раскрыть квадрат разности в числителе и сократить все получившиеся члены на знаменатель:\n",
        "\n",
        "$$χ^2_{набл} = \\sum^K_{i=1} \\frac{(n_i - n_i')^2}{n_i'}  = \\sum^K_{i=1} \\frac{n_i^2 - 2 n_i n_i' + n_i'^2}{n_i'} = \\sum^K_{i=1}\\frac{n_i^2}{n_i'} - \\sum^K_{i=1} \\frac{ 2 n_i n_i'}{n_i'} + \\sum^K_{i=1} \\frac{ n_i'^2}{n_i'} = \\sum^K_{i=1}\\frac{n_i^2}{n_i'} - 2\\sum^K_{i=1} n_i + \\sum^K_{i=1} n_i'$$\n",
        "\n",
        "В силу того, что $\\sum^K_{i=1} n_i = \\sum^K_{i=1} n_i' = N$, предыдущее выражение преобразуется в: $$\\chi^2_{\\textit{набл}} = \\sum_{i = 1}^k\\frac{n^2_i}{n'_i} - N.$$\n"
      ],
      "metadata": {
        "id": "0jFMQxu2plda"
      }
    },
    {
      "cell_type": "markdown",
      "source": [
        "Контроль вычислений $\\chi^2_{\\textit{набл}}$ с помощью доказанной выше формулы (левый член разности в формуле уже был вычислен ранее - самая нижняя ячейка последнего столбца в таблице 1), из него остается только вычесть объем выборки:"
      ],
      "metadata": {
        "id": "7WIF7LgJr3S5"
      }
    },
    {
      "cell_type": "code",
      "source": [
        "print(sum(eighth_column) - N)"
      ],
      "metadata": {
        "colab": {
          "base_uri": "https://localhost:8080/"
        },
        "id": "7CuK0wvZsH4U",
        "outputId": "f8457e06-2710-4368-891e-fb601230b33f"
      },
      "execution_count": null,
      "outputs": [
        {
          "output_type": "stream",
          "name": "stdout",
          "text": [
            "3.5422743420381266\n"
          ]
        }
      ]
    },
    {
      "cell_type": "markdown",
      "source": [
        "Как можно заметить, результаты совпали, контроль был произведен"
      ],
      "metadata": {
        "id": "n0I1tn5Ns71d"
      }
    },
    {
      "cell_type": "markdown",
      "source": [
        "**Пункт 5**\n",
        "\n",
        "**По заданному уровню значимости $\\alpha = 0.05$ и числу степеней свободы $df$ найти критическую точку $\\chi^2_{\\textit{крит}}$ и сравнить с наблюдаемым значением.**"
      ],
      "metadata": {
        "id": "uznwZWIleaPQ"
      }
    },
    {
      "cell_type": "markdown",
      "source": [
        "$\\chi^2_{\\textit{крит}}$ была вычислена в **пункте 4**, значение оказалась меньше наблюденного, из-за чего нулевая гипотеза была отвергнута."
      ],
      "metadata": {
        "id": "xc9tabUStqDt"
      }
    },
    {
      "cell_type": "markdown",
      "source": [
        "**Выводы по пункту:**\n",
        "\n",
        "Проверка нулевой гипотезы о нормальности заданного распределения с помощью критерия $\\chi^2$ (Пирсона) показала, что гипотезу следует отвергнуть. Это не означает, что заданное распределение не является нормальным, однако в соответствии с используемым критерием и уровнем значимости $\\alpha = 0.05$, гипотеза не согласуется с данными наблюдений."
      ],
      "metadata": {
        "id": "IBousRYMuIAR"
      }
    },
    {
      "cell_type": "markdown",
      "metadata": {
        "id": "gesWKM_6qH8c"
      },
      "source": [
        "## Выводы\n",
        "\n",
        "Работа выполнена на языке программирования Python. В ходе решения\n",
        "поставленных задач были усвоены такие понятия как интервальная статистическая оценка, точность статистической оценки параметра, доверительная вероятность, доверительный интервал, критерий Пирсона. При нахождения доверительных интервалов был сделан вывод, что одним из способов улучшить точность интервала, не уменьшая доверительную вероятность, является увеличение объема выборки. При проверки статистической гипотезы о нормальности заданного распределения с помощью критерия Пирсона выяснилось, что в соответствии с выбранными критерием и уровнем значимости, гипотеза не согласуется с данными наблюдений. Также было доказано равенство двух формул для определения $χ^2_{набл}$.\n",
        "\n",
        "\n"
      ]
    }
  ],
  "metadata": {
    "kernelspec": {
      "display_name": "Python 3",
      "language": "python",
      "name": "python3"
    },
    "language_info": {
      "codemirror_mode": {
        "name": "ipython",
        "version": 3
      },
      "file_extension": ".py",
      "mimetype": "text/x-python",
      "name": "python",
      "nbconvert_exporter": "python",
      "pygments_lexer": "ipython3",
      "version": "3.8.10"
    },
    "colab": {
      "provenance": []
    }
  },
  "nbformat": 4,
  "nbformat_minor": 0
}