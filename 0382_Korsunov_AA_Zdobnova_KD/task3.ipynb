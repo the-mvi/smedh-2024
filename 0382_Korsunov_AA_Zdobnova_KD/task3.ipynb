{
  "cells": [
    {
      "cell_type": "markdown",
      "metadata": {
        "id": "IZJdOGoFqH8Z"
      },
      "source": [
        "# Практическая работа №3: Обработка выборочных данных. Нахождение интервальных оценок параметров распределения. Проверка статистической гипотезы о нормальном распределении\n",
        "\n",
        "Выполнили студенты гр. 0382 Корсунов Антон и Здобнова Ксения. Вариант №11"
      ]
    },
    {
      "cell_type": "markdown",
      "metadata": {
        "id": "SDR0aBeAqH8a"
      },
      "source": [
        "## Цель работы\n",
        "\n",
        "Получение практических навыков вычисления интервальных статистических оценок параметров распределения выборочных данных и проверки «справедливости» статистических гипотез."
      ]
    },
    {
      "cell_type": "markdown",
      "metadata": {
        "id": "sZ1hy2dlqH8b"
      },
      "source": [
        "## Основные теоретические положения\n",
        "\n",
        "**Интервальной** называется статистическая оценка, которая задается двумя числами - концами интервала (в котором может находиться значение параметра $θ$\n",
        "****\n",
        "**Точностью $θ^*$** - статистической оценки параметра $θ$ называется значение $δ$, удовлетворяющее неравенству:\n",
        "$$δ > |θ^* - θ| (1)$$\n",
        "Чем меньше значение $δ$, тем точнее оценка $θ$\n",
        "****\n",
        "**Надежностью (доверительной вероятностью)** оценки $θ^*$ называется вероятность $γ$, с которой выполняется неравенство (1):\n",
        "$$γ = P\\{δ > |θ^* - θ|\\} (2)$$\n",
        "или\n",
        "$$γ = P\\{θ^* - δ < θ < θ^* + δ\\} (3)$$\n",
        "\n",
        "Выражения (2) и (3) следует понимать в том смысле, что интервал\n",
        "$$(θ^* - δ ; θ^* + δ) (4)$$\n",
        "с вероятностью (надежностью) $γ$ содержит в себе (покрывает) истинное значение оцениваемого параметра $θ$\n",
        "****\n",
        "Интервал (4) называется **доверительным интервалом** и является интервальной оценкой параметра $θ$\n",
        "\n",
        "Существует 2 вида интервальных оценок: **односторонние и двусторонние**. При двусторонней оценке задаются обе границы доверительного интервала, зависящие от доверительной вероятности $γ$: левая $β_1(γ)$ и правая $β_2(γ)$:\n",
        "$$P\\{β_1(γ) < θ < β_2(γ)\\} = p$$\n",
        "Для одностороннего доверительного интеравала границы интервалов задаются так, чтобы:\n",
        "$$P\\{β(γ) > θ\\} =γ$$\n",
        "или\n",
        "$$P\\{β(γ) < θ\\} =γ$$\n",
        "****\n",
        "Значение $q = 1 - γ$ называют **уровнем значимости**. Значение γ задают обычно равным 0.95, 0.99, 0.995, 0.999\n",
        "****\n",
        "**Статистической гипотезой** называют гипотезу о виде неизвестного распределения исследуемой случайной величины или о значении параметров известных распределений.\n",
        "****\n",
        "Выдвинутую гипотезу называют **нулевой или основной гипотезой** и обозначают $H_0$\n",
        "****\n",
        "**Конкурирующей или альтернативной** называют гипотезу $H_1$, которая противоречит основной гипотезе.\n",
        "****\n",
        "Различают **простые гипотезы** (содержат только одно предположение) и **сложные гипотезы** (содержат более одного предположения)\n",
        "****\n",
        "**Ошибка первого рода** состоит в том, что нулевая гипотеза отвергается, хотя она верна\n",
        "****\n",
        "**Ошибка второго рода** состоит в том, что нулевая гипотеза принимается, хотя она неверна\n",
        "****\n",
        "Вероятность совершения ошибки первого рода называют **уровнем значимости** и обозначают $α$. Как правило, уровень значимости назначают равным от 0.001 до 0.2\n",
        "****\n",
        "Величину $1 - β$ - вероятность того, что гипотеза отвергается, когда она верна, называют **мощностью критерия**\n",
        "\n",
        "Следует отметить, что принятие гипотезы не означает ее справедливость, а лишь констатирует, что, в соответствии с используемым критерием и уровнем значимости, гипотеза согласуется с данными наблюдений.\n",
        "****\n",
        "Для проверки статистических гипотез предлагаются различные критерии, которые представляют собой значения случайных величин, имеющих те или иные известные законы распределения.\n",
        "\n",
        "При проверке статистических гипотез на основе выборочных данных вычисляются значения этих случайных величин (**наблюденные значения**), которые сопоставляются с некоторыми, так называемыми, **критическими** (зависящими от заданного уровня значимости $α$) **значениями** этих случайных величин. На основании этого сопоставления принимается решение о принятии или не принятии нулевой гипотезы.\n",
        "\n",
        "****\n",
        "**Областью принятия нулевой гипотезы** называют совокупность значения критерия, при которых нулевую гипотезу принимают\n",
        "****\n",
        "**Критической областью** называют совокупность значений критерия, при которых нулевую гипотезу отвергают\n",
        "****\n",
        "Область принятия гипотезы и критическая область разделены точками, которые называются **критическими значениями критерия** $K_{кр}$\n",
        "****\n",
        "Область непринятия гипотезы может быть односторонней (правосторонней или левосторонней) и двусторонней\n",
        "\n",
        "**Правосторонней** называют критическую область, определяемую неравенством $K_{набл} > K_{кр}$\n",
        "\n",
        "**Левосторонней** называют критическую область, определяемую неравенством $K_{набл} < K_{кр}$\n",
        "\n",
        "**Двусторонней** называют критическую область, определяемую неравенствами $K_{набл} < K_{кр_1}$ и $K_{набл} > K_{кр_2}$\n",
        "\n",
        "****\n",
        "**Критерий Пирсона (или критерий $χ^2$)** - правосторонний критерий. Согласно этому критерию на основании выборочных данных вычисляется \"наблюденное\" значение случайной величины $χ^2$:\n",
        "$$χ^2_{набл} = \\sum^K_{i=1} \\frac{(n_i - n_i')^2}{n_i'} (5)$$\n",
        "Здесь $n_i'$ - теоретические частоты - частоты, с которыми нормально распределенная величина с параметрами $\\overline{x_в}$ и $S$ попала бы в $i$-й интервал интервального ряда при проведении $N$ испытаний\n",
        "****\n",
        "Распределение хи-квадрат зависит от числа свободы $k$, которое вычисляется по формуле (для нормального распределения):\n",
        "$$k = K - 3 (6)$$\n",
        "\n",
        "По числу степеней свободы и уровню значимости вычисляется значение $χ^2_{крит} = χ^2(α,k)$. Это значение можно определить с помощью соответствующей таблицы.\n",
        "\n",
        "Область принятия гипотезы $H_0$ определяется условием:\n",
        "$$χ^2_{набл} ≤ χ^2_{крит} (7)$$"
      ]
    },
    {
      "cell_type": "markdown",
      "metadata": {
        "id": "U6P8ZJqRqH8b"
      },
      "source": [
        "## Постановка задачи\n",
        "\n",
        "Для заданной надежности определить (на основании выборочных данных и результатов выполнения практической работы №2) границы доверительных интервалов для математического ожидания и среднеквадратичного отклонения случайной величины. Проверить гипотезу о нормальном распределении исследуемой случайной величины с помощью критерия Пирсона $\\chi^2$. Дать содержательную интерпретацию полученным результатам."
      ]
    },
    {
      "cell_type": "markdown",
      "metadata": {
        "id": "numioZyzqH8b"
      },
      "source": [
        "## Выполнение работы\n"
      ]
    },
    {
      "cell_type": "markdown",
      "source": [
        "**Пункт 1**\n",
        "\n",
        "**Вычислить точность и доверительный интервал для математического ожидания при неизвестном среднеквадратичном отклонении при заданном объёме выборки для доверительной точности $γ∈\\{0.95,0.99\\}$. Сделать выводы.**"
      ],
      "metadata": {
        "id": "eJ0MNak27yHo"
      }
    },
    {
      "cell_type": "markdown",
      "source": [
        "Имеется выборка объемом $N$ = 108:"
      ],
      "metadata": {
        "id": "GgzTJu7B8R0t"
      }
    },
    {
      "cell_type": "markdown",
      "source": [
        "Рассматривается случайная величина $t$:\n",
        "$$t = \\frac{\\overline{x}_в - a}{s / \\sqrt{N}}$$\n",
        "\n",
        "$\\overline{x}_в$ - выборочное среднее\n",
        "\n",
        "$a$ - математическое ожидание\n",
        "\n",
        "$s$ - исправленное СКО\n",
        "\n",
        "$N$ - объем выборки\n",
        "\n",
        "Эта случайная величина распределена по закону $S(t, N)$ - закону Стьюдента с $k = N - 1$ степенями свободы\n",
        "\n",
        "Поскольку функция $S(t, N)$ является четной, справедливо соотношение:\n",
        "$$P(|\\frac{\\overline{x}_в - a}{s / \\sqrt{N}}|<t_γ) = 2 ∫_0^{t_γ}S(t, N)dt = γ (8)$$\n",
        "\n",
        "$$(8) → P(\\overline{x}_в - t_γs/\\sqrt{N} < a < \\overline{x}_в + t_γs/\\sqrt{N}) = γ$$\n",
        "\n",
        "В результате требуемый доверительный интервал, покрывающий неизвестное значение параметра $a$ с надежностью $γ$ принимает следующий вид:\n",
        "$$(\\overline{x}_в - t_γs/\\sqrt{N} ; \\overline{x}_в + t_γs/\\sqrt{N})$$\n",
        "Точность $δ$ = $t_γs/\\sqrt{N}$\n",
        "\n",
        "Значение $t_γ$ определяется по заданным значениям $γ$ и $N$ по соответствующей таблице"
      ],
      "metadata": {
        "id": "rAGh4dMG-ISe"
      }
    },
    {
      "cell_type": "markdown",
      "source": [
        "Пусть $γ = 0.95$, тогда значение $t_γ$ согласно таблице (при $N = 108$) равно $1.984$\n",
        "\n",
        "Пусть $γ = 0.99$, тогда значение $t_γ$ согласно таблице (при $N = 108$) равно $2.627$"
      ],
      "metadata": {
        "id": "CLYGjp6xfzTA"
      }
    },
    {
      "cell_type": "code",
      "source": [
        "import math #подключение библиотек\n",
        "from prettytable import PrettyTable"
      ],
      "metadata": {
        "id": "_dd0mzd3jnWB"
      },
      "execution_count": 1,
      "outputs": []
    },
    {
      "cell_type": "code",
      "source": [
        "x_mean = 1635.172839506173\n",
        "s = 286.0932746391938\n",
        "t_gamma = 1.984\n",
        "N = 108\n",
        "\n",
        "def get_interval_1(x_mean, s, t_gamma, N):\n",
        "  d = t_gamma * s / math.sqrt(N)\n",
        "  left_border =  x_mean - d\n",
        "  right_border = x_mean + d\n",
        "\n",
        "  return d, left_border, right_border\n",
        "\n",
        "temp = get_interval_1(x_mean, s, t_gamma, N)\n",
        "print(\"при надежности 0.95:\")\n",
        "print(temp[0])\n",
        "print(\"(\" + str(temp[1]) + \";\" + str(temp[2]) + \")\")\n",
        "\n",
        "t_gamma = 2.627\n",
        "temp = get_interval_1(x_mean, s, t_gamma, N)\n",
        "print(\"\\nпри надежности 0.99:\")\n",
        "print(temp[0])\n",
        "print(\"(\" + str(temp[1]) + \";\" + str(temp[2]) + \")\")"
      ],
      "metadata": {
        "colab": {
          "base_uri": "https://localhost:8080/"
        },
        "id": "HZmymXysix1s",
        "outputId": "2e482eb5-a416-4e91-bc4e-b9c47ed7d26b"
      },
      "execution_count": 2,
      "outputs": [
        {
          "output_type": "stream",
          "name": "stdout",
          "text": [
            "при надежности 0.95:\n",
            "54.61820696442328\n",
            "(1580.5546325417497;1689.7910464705963)\n",
            "\n",
            "при надежности 0.99:\n",
            "72.31957141912295\n",
            "(1562.85326808705;1707.4924109252959)\n"
          ]
        }
      ]
    },
    {
      "cell_type": "markdown",
      "source": [
        "То есть, согласно вычислениям, при надежности $0.95$ **точность** равна $54.61820696442328$, а **доверительный интервал** $(1580.5546325417497;1689.7910464705963)$\n",
        "\n",
        "А при при надежности $0.99$ **точность** равна $72.31957141912295$, а **доверительный интервал** $(1562.85326808705;1707.4924109252959)$"
      ],
      "metadata": {
        "id": "my4ND1pvkiSh"
      }
    },
    {
      "cell_type": "markdown",
      "source": [
        "**Выводы по пункту:**\n",
        "\n",
        "Согласно проведенным вычислением истинное значение математического ожидания содержится в интервале $(1580.5546325417497;1689.7910464705963)\n",
        "$ с вероятностью $0.95$ и в интервале $(1562.85326808705;1707.4924109252959)$ с вероятностью $0.99$.\n",
        "\n",
        "Стоит отметить, что хоть и второй интервал с большей доверительной вероятностью покрывает истинное значение искомого параметра, он менее точен, чем первый (т.к. точность для него численно больше, чем у первого). Если посмотреть на полученную ранее формулу для определения точности $δ$ = $t_γs/\\sqrt{N}$, то улучшить точность, не уменьшая при этом доверительную вероятность, можно путем увеличения объема выборки."
      ],
      "metadata": {
        "id": "nAPSy_kKlOfQ"
      }
    },
    {
      "cell_type": "markdown",
      "source": [
        "**Пункт 2**\n",
        "\n",
        "**Для вычисления границ доверительного интервала для среднеквадратичного отклонения определить значение $q$ при заданных $γ$ и $n$. Построить доверительные интервалы, сделать выводы.**"
      ],
      "metadata": {
        "id": "eVtapMd5_0_a"
      }
    },
    {
      "cell_type": "markdown",
      "source": [
        "Рассматривается соотношение $P(|s-σ|<δ)=γ$ и равносильное ему:\n",
        "$$P(s-δ<σ<s+δ)=γ$$\n",
        "Преобразуется двойное неравенство $s-δ<σ<s+δ$ к виду:\n",
        "$$s(1-δ/s)<σ<s(1+δ/s)$$\n",
        "Вводится обозначение: $q = δ/s$, тогда:\n",
        "$$s(1-q)<σ<s(1+q)$$\n",
        "Предполагая $q<1:$\n",
        "$$\\frac{1}{s(1+q)}<\\frac{1}{σ}<\\frac{1}{s(1-q)}$$\n",
        "Если умножить это неравенство на $s\\sqrt{N-1}$:\n",
        "$$\\frac{\\sqrt{N-1}}{(1+q)}<\\frac{s\\sqrt{N-1}}{σ}<\\frac{\\sqrt{N-1}}{(1-q)}$$\n",
        "Далее пусть случайная величина $χ$ равна:\n",
        "$$χ = \\frac{s\\sqrt{N-1}}{σ}$$\n",
        "Функция плотности вероятности $R(χ, N)$ распределения случайной величины $χ$ зависит только от $N$\n",
        "Тогда предыдущее двойное неравенство перепиштся в виде:\n",
        "$$\\frac{\\sqrt{N-1}}{(1+q)}<χ<\\frac{\\sqrt{N-1}}{(1-q)}$$\n",
        "\n",
        "Чтобы вероятность выполнения двойного неравенства равнялась, $γ$ необходимо выполнения условия:\n",
        "$$∫_{\\sqrt{N-1}/(1+q)}^{\\sqrt{N-1}/(1-q)}R(χ, N)dχ = γ$$\n",
        "\n",
        "Значение $q$, при котором, при заданных значениях $γ$ и $N$, предыдущее уравнение выполняется, определяется по соответствующей таблице.\n",
        "\n",
        "В результате требуемый доверительный интервал ($s(1-q), s(1+q)$), покрывающий неизвестное значение параметра $σ$ с надежностью $γ$, будет построен"
      ],
      "metadata": {
        "id": "-kbq7DW8Awjn"
      }
    },
    {
      "cell_type": "markdown",
      "source": [
        "Пусть $γ = 0.95$, тогда значение $q$ согласно таблице (при $N = 108$) равно $0.143$\n",
        "\n",
        "Пусть $γ = 0.99$, тогда значение $q$ согласно таблице (при $N = 108$) равно $0.198$"
      ],
      "metadata": {
        "id": "ayqC2P4_F9D4"
      }
    },
    {
      "cell_type": "code",
      "source": [
        "s = 286.0932746391938\n",
        "q = 0.143\n",
        "\n",
        "def get_interval_2(s, q):\n",
        "  left_border =  s*(1-q)\n",
        "  right_border = s*(1+q)\n",
        "\n",
        "  return left_border, right_border\n",
        "\n",
        "temp = get_interval_2(s, q)\n",
        "print(\"при надежности 0.95:\")\n",
        "print(\"(\" + str(temp[0]) + \";\" + str(temp[1]) + \")\")\n",
        "\n",
        "q = 0.198\n",
        "temp = get_interval_2(s, q)\n",
        "print(\"\\nпри надежности 0.99:\")\n",
        "print(\"(\" + str(temp[0]) + \";\" + str(temp[1]) + \")\")"
      ],
      "metadata": {
        "colab": {
          "base_uri": "https://localhost:8080/"
        },
        "id": "6ttJUo3kHUTa",
        "outputId": "b9152032-abca-43f8-b4a4-32174d4dfd5c"
      },
      "execution_count": 3,
      "outputs": [
        {
          "output_type": "stream",
          "name": "stdout",
          "text": [
            "при надежности 0.95:\n",
            "(245.18193636578908;327.00461291259853)\n",
            "\n",
            "при надежности 0.99:\n",
            "(229.44680626063342;342.73974301775417)\n"
          ]
        }
      ]
    },
    {
      "cell_type": "markdown",
      "source": [
        "То есть, согласно вычислениям, при надежности $0.95$ **значение $q$** равно $0.143$, а **доверительный интервал** $(245.18193636578908;327.00461291259853)$\n",
        "\n",
        "А при при надежности $0.99$ **значение $q$** равно $0.198$, а **доверительный интервал** $(229.44680626063342;342.73974301775417)$"
      ],
      "metadata": {
        "id": "vBa075TwI6uN"
      }
    },
    {
      "cell_type": "markdown",
      "source": [
        "**Выводы по пункту:**\n",
        "\n",
        "Согласно проведенным вычислением истинное значение среднеквадратичного отклонения содержится в интервале $(245.18193636578908;327.00461291259853)$ с вероятностью $0.95$ и в интервале $(229.44680626063342;342.73974301775417)$ с вероятностью $0.99$.\n",
        "\n",
        "Опять же, доверительный интервал во втором случаее менее точен (т.к. $δ = qs)$, но с большей вероятностью покрывает истинное значение искомого параметра"
      ],
      "metadata": {
        "id": "0Tb_HRyIJeNJ"
      }
    },
    {
      "cell_type": "markdown",
      "source": [
        "**Пункт 3**\n",
        "\n",
        "**Проверить гипотезу о нормальности заданного распределения с помощью критерия $\\chi^2$ (Пирсона). Для этого необходимо найти теоретические частоты и вычислить наблюдаемое значение критерия. Для удобства вычисления необходимо заполнить табл. 1.**"
      ],
      "metadata": {
        "id": "Fto2-6hwMKX7"
      }
    },
    {
      "cell_type": "markdown",
      "source": [
        "Выдвигается гипотеза $H_0$ - выборочные данные представляют значения случайной величины, распределенной по нормальному закону распределения. В качестве критерия проверки гипотезы будет использоваться критерий Пирсона (5):\n",
        "$$χ^2_{набл} = \\sum^K_{i=1} \\frac{(n_i - n_i')^2}{n_i'} $$\n",
        "\n",
        "$n_i'$ - теоретические частоты - частоты, с которыми нормально распределенная величина с параметрами $\\overline{x_в}$ и $s$ попала бы в $i$-й интервал интервального ряда при проведении $N$ испытаний\n",
        "\n",
        "\n"
      ],
      "metadata": {
        "id": "0glF7qSoZWqf"
      }
    },
    {
      "cell_type": "markdown",
      "source": [
        "Теоретические частоты вычисляются по следующему алгоритму:\n",
        "\n",
        "\n",
        "1.   Пересчитываются значения границ интервалов интервального ряда. При этом левая граница первого интервала назначается равной $-∞$ ($z_1 = -∞)$, а правая граница последнего интервала назначается равной $+∞$ ($z_{K+1} = +∞)$. Остальные значения вычисляются по формуле: $$z_i = \\frac{x_i - \\overline{x_в}}{s}, i = 2, 3, ..., K$$\n",
        "2.   Вычисляется вероятность попадания случайной величины в кадждый $i$-й интервал интервального ряда: $$p_i = Ф(z_{i+1}) - Ф(z_{i}), i = 1, 2, 3, ..., K$$ $Ф(z)$ - функция Лапласа: $Ф(z) = \\frac{1}{\\sqrt{2π}}∫_0^ze^{-\\frac{t^2}{2}}dt$. Значения этой функции можно взять из соответствующей таблицы. При этом нужно учитывать нечетность этой функции и то, что $Ф(-∞) = -0.5$; $Ф(+∞) = 0.5$\n",
        "3. Вычислить значения теоретических частот: $$n_i' = Np_i, i = 1, 2, 3, ..., K$$\n",
        "\n",
        "\n",
        "\n"
      ],
      "metadata": {
        "id": "ctxK22R2gtVp"
      }
    },
    {
      "cell_type": "code",
      "source": [
        "# пересчитывание границ\n",
        "K = 9\n",
        "x_mean = 1635.172839506173\n",
        "s = 286.0932746391938\n",
        "\n",
        "z = [-math.inf]\n",
        "interval_borders = [1040.0, 1190.888888888889, 1341.7777777777778,\n",
        "                    1492.6666666666665, 1643.5555555555557, 1794.4444444444443,\n",
        "                    1945.3333333333333, 2096.222222222222, 2247.1111111111113,\n",
        "                    2398.0]\n",
        "for i in range(1, K):\n",
        "  z.append((interval_borders[i] - x_mean)/s)\n",
        "\n",
        "z.append(math.inf)\n",
        "\n",
        "for i in range(len(z)):\n",
        "  print('z_' + str(i+1) + \" = \" + str(z[i]))"
      ],
      "metadata": {
        "colab": {
          "base_uri": "https://localhost:8080/"
        },
        "id": "Ou5zc-hXoJPN",
        "outputId": "eadd9136-14ef-4679-df7d-91b23d0ac4cf"
      },
      "execution_count": 4,
      "outputs": [
        {
          "output_type": "stream",
          "name": "stdout",
          "text": [
            "z_1 = -inf\n",
            "z_2 = -1.552933920511037\n",
            "z_3 = -1.0255224003374774\n",
            "z_4 = -0.4981108801639184\n",
            "z_5 = 0.029300640009642075\n",
            "z_6 = 0.556712160183201\n",
            "z_7 = 1.0841236803567607\n",
            "z_8 = 1.6115352005303203\n",
            "z_9 = 2.138946720703881\n",
            "z_10 = inf\n"
          ]
        }
      ]
    },
    {
      "cell_type": "code",
      "source": [
        "F = [-0.5, -0.4394, -0.3485, -0.1915, 0.012, 0.2123, 0.3599, 0.4463, 0.4898, 0.5]\n",
        "\n",
        "print('Значения функции Лапласа согласно таблице:')\n",
        "\n",
        "for i in range(len(F)):\n",
        "  print('Ф(z_' + str(i+1) + \") = \" + str(F[i]))"
      ],
      "metadata": {
        "colab": {
          "base_uri": "https://localhost:8080/"
        },
        "id": "Xfo0jRlm8QDQ",
        "outputId": "a02fbe5d-d7ec-4ca3-b3af-97d9e0e5f41e"
      },
      "execution_count": 5,
      "outputs": [
        {
          "output_type": "stream",
          "name": "stdout",
          "text": [
            "Значения функции Лапласа согласно таблице:\n",
            "Ф(z_1) = -0.5\n",
            "Ф(z_2) = -0.4394\n",
            "Ф(z_3) = -0.3485\n",
            "Ф(z_4) = -0.1915\n",
            "Ф(z_5) = 0.012\n",
            "Ф(z_6) = 0.2123\n",
            "Ф(z_7) = 0.3599\n",
            "Ф(z_8) = 0.4463\n",
            "Ф(z_9) = 0.4898\n",
            "Ф(z_10) = 0.5\n"
          ]
        }
      ]
    },
    {
      "cell_type": "code",
      "source": [
        "p = []\n",
        "for i in range(0, K):\n",
        "  p.append(F[i+1] - F[i])\n",
        "\n",
        "print('вероятность попадания случайной величины в кадждый  i -й интервал интервального ряда:')\n",
        "for i in range(len(p)):\n",
        "  print('p_' + str(i+1) + \" = \" + str(p[i]))"
      ],
      "metadata": {
        "colab": {
          "base_uri": "https://localhost:8080/"
        },
        "id": "DuktbD7A_erM",
        "outputId": "b917080e-a306-44f7-dde6-bf5dd900bfcb"
      },
      "execution_count": 6,
      "outputs": [
        {
          "output_type": "stream",
          "name": "stdout",
          "text": [
            "вероятность попадания случайной величины в кадждый  i -й интервал интервального ряда:\n",
            "p_1 = 0.06059999999999999\n",
            "p_2 = 0.09090000000000004\n",
            "p_3 = 0.15699999999999997\n",
            "p_4 = 0.20350000000000001\n",
            "p_5 = 0.20029999999999998\n",
            "p_6 = 0.1476\n",
            "p_7 = 0.08639999999999998\n",
            "p_8 = 0.04350000000000004\n",
            "p_9 = 0.010199999999999987\n"
          ]
        }
      ]
    },
    {
      "cell_type": "code",
      "source": [
        "N = 108\n",
        "n_i_teor = []\n",
        "for i in range(0, K):\n",
        "  n_i_teor.append(N * p[i])\n",
        "\n",
        "print('Теоретические частоты:')\n",
        "for i in range(len(n_i_teor)):\n",
        "  print(\"n'_i\" + str(i+1) + \" = \" + str(n_i_teor[i]))"
      ],
      "metadata": {
        "colab": {
          "base_uri": "https://localhost:8080/"
        },
        "id": "sQvZuBSDCZEm",
        "outputId": "2e647375-81dc-4e3f-9144-be16584ab689"
      },
      "execution_count": 7,
      "outputs": [
        {
          "output_type": "stream",
          "name": "stdout",
          "text": [
            "Теоретические частоты:\n",
            "n'_i1 = 6.544799999999999\n",
            "n'_i2 = 9.817200000000003\n",
            "n'_i3 = 16.955999999999996\n",
            "n'_i4 = 21.978\n",
            "n'_i5 = 21.632399999999997\n",
            "n'_i6 = 15.940800000000001\n",
            "n'_i7 = 9.331199999999997\n",
            "n'_i8 = 4.698000000000004\n",
            "n'_i9 = 1.1015999999999986\n"
          ]
        }
      ]
    },
    {
      "cell_type": "markdown",
      "source": [
        "Далее производятся вычисления для наблюденного $χ^2_{набл}$"
      ],
      "metadata": {
        "id": "WvfPoIVLFMOl"
      }
    },
    {
      "cell_type": "code",
      "source": [
        "n_i = [5, 11, 22, 20, 19, 14, 10, 5, 2] # абсолютные частоты попадания интервального ряда\n",
        "\n",
        "fifth_column = []\n",
        "sixth_column = []\n",
        "seventh_column = []\n",
        "eighth_column = []\n",
        "for i in range(len(n_i)):\n",
        "  temp1 = (n_i[i] - n_i_teor[i]) ** 2\n",
        "  temp2 = n_i[i] ** 2\n",
        "\n",
        "\n",
        "  fifth_column.append(temp1)\n",
        "  sixth_column.append(temp1 / n_i_teor[i])\n",
        "  seventh_column.append(temp2)\n",
        "  eighth_column.append(temp2 / n_i_teor[i])\n",
        "\n",
        "chi_square = sum(sixth_column)\n",
        "\n",
        "print(chi_square)"
      ],
      "metadata": {
        "colab": {
          "base_uri": "https://localhost:8080/"
        },
        "id": "pzLx6U6sFZAs",
        "outputId": "221f1e1e-3165-481f-c36b-9beedd2a9ca7"
      },
      "execution_count": 8,
      "outputs": [
        {
          "output_type": "stream",
          "name": "stdout",
          "text": [
            "3.542274342038122\n"
          ]
        }
      ]
    },
    {
      "cell_type": "markdown",
      "source": [
        "То есть, $χ^2_{набл} = 3.542274342038122$"
      ],
      "metadata": {
        "id": "dICZY9LaJI4J"
      }
    },
    {
      "cell_type": "markdown",
      "source": [
        "Вышеописанные вычисления в таблице:"
      ],
      "metadata": {
        "id": "UuBHXoTPJW3z"
      }
    },
    {
      "cell_type": "code",
      "source": [
        "myTable = PrettyTable([\"i\", \"[x_{i-1}, x_i)\",\"n_i\", \"p_i\", \"n'_i\", \"(n_i-n'i)^2\",\n",
        "    \"(n_i-n'i)^2 / n'_i\", \"n^2_i\", \"n^2_i / n'_i\"])\n",
        "\n",
        "for i in range(0, K-1):\n",
        "  temp = \"[\" + str(interval_borders[i]) + \",\" + str(interval_borders[i+1]) + \")\"\n",
        "  myTable.add_row([i+1, temp, n_i[i], p[i], n_i_teor[i], fifth_column[i],\n",
        "                   sixth_column[i], seventh_column[i], eighth_column[i]])\n",
        "\n",
        "temp = \"[\" + str(interval_borders[K-1]) + \",\" + str(interval_borders[K]) + \"]\"\n",
        "myTable.add_row([\"9\", temp, n_i[K-1], p[K-1], n_i_teor[K-1], fifth_column[K-1],\n",
        "                   sixth_column[K-1], seventh_column[K-1], eighth_column[K-1]])\n",
        "myTable.add_row(['sum', '-', sum(n_i), sum(p), sum(n_i_teor), '-',\n",
        "                 sum(sixth_column), '-', sum(eighth_column)])\n",
        "\n",
        "print(myTable)"
      ],
      "metadata": {
        "colab": {
          "base_uri": "https://localhost:8080/"
        },
        "id": "7_03BNtdJfjH",
        "outputId": "85760a0e-94c4-4f63-d963-3d58fc7bfc21"
      },
      "execution_count": 14,
      "outputs": [
        {
          "output_type": "stream",
          "name": "stdout",
          "text": [
            "+-----+-----------------------------------------+-----+----------------------+--------------------+---------------------+----------------------+-------+--------------------+\n",
            "|  i  |              [x_{i-1}, x_i)             | n_i |         p_i          |        n'_i        |     (n_i-n'i)^2     |  (n_i-n'i)^2 / n'_i  | n^2_i |    n^2_i / n'_i    |\n",
            "+-----+-----------------------------------------+-----+----------------------+--------------------+---------------------+----------------------+-------+--------------------+\n",
            "|  1  |        [1040.0,1190.888888888889)       |  5  | 0.06059999999999999  | 6.544799999999999  |  2.386407039999996  |  0.3646264270871526  |   25  | 3.819826427087154  |\n",
            "|  2  |  [1190.888888888889,1341.7777777777778) |  11 | 0.09090000000000004  | 9.817200000000003  |  1.3990158399999923 |  0.1425066047345467  |  121  | 12.325306604734543 |\n",
            "|  3  | [1341.7777777777778,1492.6666666666665) |  22 | 0.15699999999999997  | 16.955999999999996 |  25.44193600000004  |  1.5004680349138975  |  484  |  28.5444680349139  |\n",
            "|  4  | [1492.6666666666665,1643.5555555555557) |  20 | 0.20350000000000001  |       21.978       |  3.9124840000000063 |  0.1780182000182003  |  400  |  18.2000182000182  |\n",
            "|  5  | [1643.5555555555557,1794.4444444444443) |  19 | 0.20029999999999998  | 21.632399999999997 |  6.929529759999984  |  0.3203310663634172  |  361  | 16.68793106636342  |\n",
            "|  6  | [1794.4444444444443,1945.3333333333333) |  14 |        0.1476        | 15.940800000000001 |  3.766704640000005  | 0.23629332530362368  |  196  | 12.295493325303623 |\n",
            "|  7  |  [1945.3333333333333,2096.222222222222) |  10 | 0.08639999999999998  | 9.331199999999997  | 0.44729344000000365 | 0.047935253772291214 |  100  | 10.716735253772294 |\n",
            "|  8  |  [2096.222222222222,2247.1111111111113) |  5  | 0.04350000000000004  | 4.698000000000004  | 0.09120399999999762 | 0.019413367390378362 |   25  | 5.321413367390375  |\n",
            "|  9  |       [2247.1111111111113,2398.0]       |  2  | 0.010199999999999987 | 1.1015999999999986 |  0.8071225600000026 |  0.7326820624546148  |   4   | 3.6310820624546163 |\n",
            "| sum |                    -                    | 108 |         1.0          |       108.0        |          -          |  3.542274342038122   |   -   | 111.54227434203813 |\n",
            "+-----+-----------------------------------------+-----+----------------------+--------------------+---------------------+----------------------+-------+--------------------+\n"
          ]
        }
      ]
    },
    {
      "cell_type": "markdown",
      "source": [
        "Таблица на github, съезжает, снизу она приведена скриншотом:\n",
        "\n",
        "![image.png](data:image/png;base64,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)"
      ],
      "metadata": {
        "id": "cngEkXiacp2J"
      }
    },
    {
      "cell_type": "markdown",
      "source": [
        "Распределение хи-квадрат зависит от числа свободы $k$, которое вычисляется по формуле (для нормального распределения) (6):\n",
        "$$k = K - 3$$\n",
        "\n",
        "По числу степеней свободы и уровню значимости вычисляется значение $χ^2_{крит} = χ^2(α,k)$. Это значение можно определить с помощью соответствующей таблицы.\n",
        "\n",
        "Область принятия гипотезы $H_0$ определяется условием (7):\n",
        "$$χ^2_{набл} ≤ χ^2_{крит} $$"
      ],
      "metadata": {
        "id": "2w28Zt5SmQuE"
      }
    },
    {
      "cell_type": "markdown",
      "source": [
        "Пусть уровень значимости $\\alpha = 0.05$\n",
        "\n",
        "Число степеней свободы $k = K - 3 = 9 - 3 = 6$\n",
        "\n",
        "Тогда согласно таблице $χ^2_{крит} = 2.45 $\n",
        "\n",
        "Получается, что $χ^2_{набл} > χ^2_{крит} $, а значит нулевая гипотеза отвергается"
      ],
      "metadata": {
        "id": "KtYZuWsnnWqc"
      }
    },
    {
      "cell_type": "markdown",
      "source": [
        "**Пункт 4**\n",
        "\n",
        "**Доказать, что $$\\chi^2_{\\textit{набл}} = \\sum_{i = 1}^k\\frac{n^2_i}{n'_i} - N.$$ Проконтролировать корректность вычисления $\\chi^2_{\\textit{набл}}$**"
      ],
      "metadata": {
        "id": "aiTafNHyeX08"
      }
    },
    {
      "cell_type": "markdown",
      "source": [
        "Согласно материалам лекций: $$χ^2_{набл} = \\sum^K_{i=1} \\frac{(n_i - n_i')^2}{n_i'} $$\n",
        "\n",
        "В этой формуле можно раскрыть квадрат разности в числителе и сократить все получившиеся члены на знаменатель:\n",
        "\n",
        "$$χ^2_{набл} = \\sum^K_{i=1} \\frac{(n_i - n_i')^2}{n_i'}  = \\sum^K_{i=1} \\frac{n_i^2 - 2 n_i n_i' + n_i'^2}{n_i'} = \\sum^K_{i=1}\\frac{n_i^2}{n_i'} - \\sum^K_{i=1} \\frac{ 2 n_i n_i'}{n_i'} + \\sum^K_{i=1} \\frac{ n_i'^2}{n_i'} = \\sum^K_{i=1}\\frac{n_i^2}{n_i'} - 2\\sum^K_{i=1} n_i + \\sum^K_{i=1} n_i'$$\n",
        "\n",
        "В силу того, что $\\sum^K_{i=1} n_i = \\sum^K_{i=1} n_i' = N$, предыдущее выражение преобразуется в: $$\\chi^2_{\\textit{набл}} = \\sum_{i = 1}^k\\frac{n^2_i}{n'_i} - N.$$\n"
      ],
      "metadata": {
        "id": "0jFMQxu2plda"
      }
    },
    {
      "cell_type": "markdown",
      "source": [
        "Контроль вычислений $\\chi^2_{\\textit{набл}}$ с помощью доказанной выше формулы (левый член разности в формуле уже был вычислен ранее - самая нижняя ячейка последнего столбца в таблице 1), из него остается только вычесть объем выборки:"
      ],
      "metadata": {
        "id": "7WIF7LgJr3S5"
      }
    },
    {
      "cell_type": "code",
      "source": [
        "print(sum(eighth_column) - N)"
      ],
      "metadata": {
        "colab": {
          "base_uri": "https://localhost:8080/"
        },
        "id": "7CuK0wvZsH4U",
        "outputId": "f8457e06-2710-4368-891e-fb601230b33f"
      },
      "execution_count": null,
      "outputs": [
        {
          "output_type": "stream",
          "name": "stdout",
          "text": [
            "3.5422743420381266\n"
          ]
        }
      ]
    },
    {
      "cell_type": "markdown",
      "source": [
        "Как можно заметить, результаты совпали, контроль был произведен"
      ],
      "metadata": {
        "id": "n0I1tn5Ns71d"
      }
    },
    {
      "cell_type": "markdown",
      "source": [
        "**Пункт 5**\n",
        "\n",
        "**По заданному уровню значимости $\\alpha = 0.05$ и числу степеней свободы $df$ найти критическую точку $\\chi^2_{\\textit{крит}}$ и сравнить с наблюдаемым значением.**"
      ],
      "metadata": {
        "id": "uznwZWIleaPQ"
      }
    },
    {
      "cell_type": "markdown",
      "source": [
        "$\\chi^2_{\\textit{крит}}$ была вычислена в **пункте 4**, значение оказалась меньше наблюденного, из-за чего нулевая гипотеза была отвергнута."
      ],
      "metadata": {
        "id": "xc9tabUStqDt"
      }
    },
    {
      "cell_type": "markdown",
      "source": [
        "**Выводы по пункту:**\n",
        "\n",
        "Проверка нулевой гипотезы о нормальности заданного распределения с помощью критерия $\\chi^2$ (Пирсона) показала, что гипотезу следует отвергнуть. Это не означает, что заданное распределение не является нормальным, однако в соответствии с используемым критерием и уровнем значимости $\\alpha = 0.05$, гипотеза не согласуется с данными наблюдений."
      ],
      "metadata": {
        "id": "IBousRYMuIAR"
      }
    },
    {
      "cell_type": "markdown",
      "metadata": {
        "id": "gesWKM_6qH8c"
      },
      "source": [
        "## Выводы\n",
        "\n",
        "Работа выполнена на языке программирования Python. В ходе решения\n",
        "поставленных задач были усвоены такие понятия как интервальная статистическая оценка, точность статистической оценки параметра, доверительная вероятность, доверительный интервал, критерий Пирсона. При нахождения доверительных интервалов был сделан вывод, что одним из способов улучшить точность интервала, не уменьшая доверительную вероятность, является увеличение объема выборки. При проверки статистической гипотезы о нормальности заданного распределения с помощью критерия Пирсона выяснилось, что в соответствии с выбранными критерием и уровнем значимости, гипотеза не согласуется с данными наблюдений. Также было доказано равенство двух формул для определения $χ^2_{набл}$.\n",
        "\n",
        "\n"
      ]
    }
  ],
  "metadata": {
    "kernelspec": {
      "display_name": "Python 3",
      "language": "python",
      "name": "python3"
    },
    "language_info": {
      "codemirror_mode": {
        "name": "ipython",
        "version": 3
      },
      "file_extension": ".py",
      "mimetype": "text/x-python",
      "name": "python",
      "nbconvert_exporter": "python",
      "pygments_lexer": "ipython3",
      "version": "3.8.10"
    },
    "colab": {
      "provenance": []
    }
  },
  "nbformat": 4,
  "nbformat_minor": 0
}