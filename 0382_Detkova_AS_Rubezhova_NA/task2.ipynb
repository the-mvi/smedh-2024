{
  "cells": [
    {
      "cell_type": "markdown",
      "metadata": {
        "id": "TlcZYRoeIdeo"
      },
      "source": [
        "# Практическая работа №2: Обработка выборочных данных. Нахождение точечных оценок параметров распределения.\n",
        "\n",
        "Выполнили студентки гр. 0382 Деткова Анна и Рубежова Наталия. Вариант №10"
      ]
    },
    {
      "cell_type": "markdown",
      "metadata": {
        "id": "GDoLgkRbIder"
      },
      "source": [
        "## Цель работы\n",
        "\n",
        "Получение практических навыков нахождения точечных статистических оценок параметров распределения."
      ]
    },
    {
      "cell_type": "markdown",
      "metadata": {
        "id": "yxE5xyPzIdes"
      },
      "source": [
        "## Основные теоретические положения\n",
        "\n",
        "**Условные варианты** - варианты, определяемые равенством: $$u_i = \\frac {x_i - C} h$$, где C - условный ноль, значение которое выбирается равным значению варианты интервального ряда, являющуюся средней или близкой к средней по значению в этом ряду. В результате все варианты оказываются целыми числами. $x_i$ - наблюдаемая варианта. $h$ - шаг.\n",
        "\n",
        "Выполняется следующее равенство:\n",
        "$$\\sum n_i (u_i+1)^4 = \\sum n_i u_i^4 + 4 \\sum n_i u_i^3 + 6 \\sum n_i u_i^2 + 4 \\sum n_i u_i + \\sum n_i$$\n",
        "\n",
        "---\n",
        "\n",
        "**Обычный эмпирический момент порядка $k$** - среднее значение $k$-ых степеней разностей $x_i-C$: $$M_k' = \\frac 1 N \\sum n_i (x_i-C)^k$$, $N$ - размер выборки, $n_i$ - частота варианты.\n",
        "\n",
        "**Начальный эмпирический момент порядка k** - обычный момент порядка $k$ при $С = 0$: $$M_k = \\frac 1 N \\sum n_i x_i^k$$\n",
        "\n",
        "В частности **выборочное среднее** - начальный эмпирический момент первого порядка: $$M_1 = \\frac 1 N \\sum n_i x_i = \\overline {x_в}$$\n",
        "\n",
        "**Центральный эмпирический момент порядка $k$** - обычный момент порядка $k$ при $С = \\overline {x_в}$: $$m_k = \\frac 1 N \\sum n_i (x_i-\\overline {x_в})^k$$\n",
        "\n",
        "В частности **выборочная дисперсия** - центральный эмпирический момент второго порядка: $$m_2 = \\frac 1 N \\sum n_i (x_i-\\overline {x_в})^2$$\n",
        "\n",
        "Причем справедливы соотношения:\n",
        "\n",
        "$m_2 = M_2' - (M_1')^2$,\n",
        "\n",
        "$m_3 = M_3' - 3M_2'M_1' + 2(M_1')^3$,\n",
        "\n",
        "$m_4 = M_4' - 6M_3'M_1' + 6M_2'(M_1')^2 - 3(M_1')^4$\n",
        "\n",
        "---\n",
        "\n",
        "**Условный эмпирический момент порядка $k$** - начальный момент порядка $k$, вычисленный для условных вариант: $$M_k^* = \\frac 1 N \\sum n_i u_i^k = \\frac 1 N \\sum n_i (\\frac {x_i - C} h )^k$$\n",
        "\n",
        "В частности $$M_1^* = \\frac 1 N \\sum n_i u_i^k = \\frac 1 N \\sum n_i |\\frac {x_i - C} h| = \\frac 1 h (\\frac 1 N \\sum n_i x_i - C \\frac 1 N \\sum {n_i}) = \\frac 1 h (\\overline {x_в} - C)$$\n",
        "\n",
        "Отсюда $\\overline {x_в} = M_1^* h + C$\n",
        "\n",
        "Обычные моменты через условные: $M_k^* = \\frac 1 {h^k} \\frac 1 N n_i(x_i - C)^k = \\frac {M_k'} {h^k}$, отсюда $M_k' = M_k^*h^k$.\n",
        "\n",
        "Также можно получить центральные выборочные моменты, выражающие центральные моменты через условные:\n",
        "\n",
        "$m_2^* = (M_2^* - (M_1^*)^2)h^2$,\n",
        "\n",
        "$m_3^* = (M_3^* - 3M_2^*M_1^* + 2(M_1^*)^3)h^3$,\n",
        "\n",
        "$m_4^* = (M_4^* - 6M_3^*M_1^* + 6M_2^*(M_1^*)^2 - 3(M_1^*)^4)k^4$\n",
        "\n",
        "<br>\n",
        "\n",
        "\n",
        "---\n",
        "Для вычисления **выборочного среднего с помощью стандартной формулы** используем формулу: $\\overline{x_в} = \\frac 1 N \\sum n_i x_i$, где $x_i$ - варианта.\n",
        "\n",
        "Для вычисления **выборочного среднего с помощью условных вариант** используем формулу: $\\overline {x_в} = M_1^*h + C$.\n",
        "\n",
        "Для вычисления **выборочной дисперсии с помощью стандартной формулы** используем формулу: $\\sigma_в^2 = \\frac 1 N \\sum n_i(x_i - \\overline{x})^2$, где $x_i$ - варианта.\n",
        "\n",
        "Для вычисления **выборочного среднего с помощью условных вариант** используем формулу: $\\sigma_в^2 = (M_2^*-(M_1^*)^2)h^2$.\n",
        "\n",
        "Для вычисления **исправленной выборочной дисперсии** используется следующая формула: $S^2 = \\frac {N} {N-1} \\sigma_в$.\n",
        "\n",
        "Для вычисления **исправленного выборочного СКО** используется следующая формула: $S = \\sqrt {S^2}$.\n",
        "Для вычисления **выборочного СКО** используется следующая формула: $\\sigma_в = \\sqrt {\\sigma^2_в}$.\n",
        "\n",
        "---\n",
        "\n",
        "Для вычисления **статистической оценки коэффициента ассиметрии** используется формула: $a_s^* = \\frac {m_3^*} {s^3}$.  Асимметрия характеризует меру скошенности полигона или гистограммы влево / вправо относительно самого высокого участка.<br>\n",
        "Правосторонняя асимметрия характеризуется удлинённым правым «хвостом». Левостороння асимметрия, наоборот, характеризуются удлинённым левый «хвостом».<br>\n",
        "Смысл:\n",
        "* если $a_s > 0$, то распределение скошено вправо, если $a_s < 0$ – то влево;\n",
        "* принята следующая условная градация: если $|a_s| < 0.25$, то асимметрия незначительна, если $0.25 < |a_s| < 0.5$, то умеренная, и если $|a_s| > 0.5$, то существенная.\n",
        "\n",
        "Для вычисления **статистической оценки коэффициента эксцессы** используется формула: $\\epsilon_s^* = \\frac {m_4^*} {s^4} - 3$. Этот коэффициент характеризует высоту и пологость полигона или гистограммы вверх / вниз.<br>\n",
        "Смысл:\n",
        "* если $\\epsilon_s^* > 0$, то эмпирическое распределение является более высоким («островершинным») – относительно «эталонного» нормального распределения с параметрами $a = \\overline {x_в}, \\sigma = \\sigma_в$. Если же  $\\epsilon_s^* < 0$ – то более низким и пологим;\n",
        "* чем больше $\\epsilon_s^*$ по модулю, тем «аномальнее» высота в ту или иную сторону.\n",
        "\n",
        "---\n",
        "\n",
        "**Мода** — это значение, встречающееся в выборке чаще других.<br>\n",
        "Мода для интервального ряда вычисляется по следующей формуле:\n",
        "$$M_o^* = x_0 + \\frac {n_M - n_{M-1}} {(n_M - n_{M-1}) + (n_M - n_{M+1})}h$$\n",
        "где $x_0$ - нижняя граница модального интервала (интервал с наибольшей частотой), $n_M$ - частота модального интервала, $n_{M-1}$ - частота интервала предыдущего до модального, $n_{M+1}$ - частота интервала следующего после модального.<br>\n",
        "\n",
        "\n",
        "**Медиана** — это число, которое окажется строго по центру списка чисел в наборе данных, если их предварительно упорядочить по возрастанию.<br>\n",
        "Медиана для интервального ряда вычисляется по следующей формуле:\n",
        "$$M_e^* = x_0 + \\frac {0.5N - n^k_{m-1}} {n_m} h$$\n",
        "где $N$ - объем выборки, $n_m$ - частота медианного интервала, $n^k_{m-1}$ - накопленная частота предыдущего интервала, $x_0$ - нижняя граница медианного интервала.<br>\n",
        "\n",
        "**коэффициент вариации** – это отношение стандартного отклонения к средней, выраженное в процентах.<br>\n",
        "Коэффициент вариации вычисляется по формуле:\n",
        "$$V^* = \\frac {\\sigma_в} {\\overline {x_в}} 100\\%$$\n",
        "\n",
        "* если показатель вариации составляет примерно 30% и меньше, то статистическая совокупность считается однородной. Это означает, что большинство вариант находится недалеко от средней, и найденное значение $\\overline {x_в}$ хорошо характеризует центральную тенденцию совокупности.\n",
        "\n",
        "* если показатель вариации составляет существенно больше 30%, то совокупность неоднородна, то есть, значительное количество вариант находятся далеко от $\\overline {x_в}$, и выборочная средняя плохо характеризует типичную варианту."
      ]
    },
    {
      "cell_type": "markdown",
      "metadata": {
        "id": "yAL88oJVIdeu"
      },
      "source": [
        "## Постановка задачи\n",
        "\n",
        "Для заданных выборочных данных вычислить с использованием метода моментов и условных вариант точечные статистические оценки математического ожидания, дисперсии, среднеквадратичного отклонения, асимметрии, эксцесса, моды, медианы и коэффициента вариации исследуемой случайной величины. Полученные результаты содержательно проинтерпретировать."
      ]
    },
    {
      "cell_type": "markdown",
      "metadata": {
        "id": "LmytmTE0Idev"
      },
      "source": [
        "## Выполнение работы\n",
        "\n",
        "По возможности каждый пункт работы выполняется с помощью кода. Рекомендуемые языки программирования для выполнения работ - R и Python."
      ]
    },
    {
      "cell_type": "code",
      "execution_count": 240,
      "metadata": {
        "id": "Ep58t4T0Idew"
      },
      "outputs": [],
      "source": [
        "# Подключение библиотек\n",
        "import pandas\n",
        "import numpy as np\n",
        "import matplotlib.pyplot as plt\n",
        "import math"
      ]
    },
    {
      "cell_type": "markdown",
      "metadata": {
        "id": "p30APbBMIdey"
      },
      "source": [
        "### 1. Для середин интервального ряда, полученного в практической работе №1, вычислить условные варианты. Заполнить табл. 1 (в последней строке $\\sum$ необходимо заполнить суммы столбцов; ячейки отмеченные прочерком заполнять не надо). Провести контроль вычислений."
      ]
    },
    {
      "cell_type": "markdown",
      "source": [
        "Загрузка генеральной совокупности и формирование выборки простым бесповторным отбором."
      ],
      "metadata": {
        "id": "YtD8stPon0vc"
      }
    },
    {
      "cell_type": "code",
      "source": [
        "# Загрузка генеральной совокупности из csv-формата в тип данных Data Frame\n",
        "general_df = pandas.read_csv('sample.csv', comment='#')\n",
        "\n",
        "# Заданный объем выборки\n",
        "N = 117\n",
        "\n",
        "# Формирование выборки. Способ формирования: простой бесповторный отбор\n",
        "sample_df = general_df.sample(n=N, replace=False)"
      ],
      "metadata": {
        "id": "kG-H4QU9FT33"
      },
      "execution_count": 241,
      "outputs": []
    },
    {
      "cell_type": "markdown",
      "source": [
        "Построение интервального ряда, аналогично заданию 4 лаб.1."
      ],
      "metadata": {
        "id": "26FaUcN4nHiR"
      }
    },
    {
      "cell_type": "code",
      "source": [
        "# Ранжированный ряд по признаку nu\n",
        "ranked_df_nu = sample_df.sort_values(by='nu')\n",
        "# Добавление колонки с рангом\n",
        "ranked_df_nu['rank']=list(range(0, sample_df.shape[0]))\n",
        "\n",
        "# Вычисление наибольшего и наименьшего значения в выборке\n",
        "x_max_nu = max(ranked_df_nu['nu'])\n",
        "x_min_nu = min(ranked_df_nu['nu'])\n",
        "\n",
        "# Вариационный ряд из ранжированного ряда по признаку nu\n",
        "variation_df_nu = ranked_df_nu.drop_duplicates(subset='nu', keep='first')\n",
        "\n",
        "# Получение интервального ряда\n",
        "# Объем выборки\n",
        "N=117\n",
        "# Количество интервалов по формуле Стерджесса\n",
        "k = int(np.floor(1 + 3.31 * np.log10(N)))\n",
        "\n",
        "# Ширина интервалов h\n",
        "h = int(np.ceil((x_max_nu - x_min_nu) / k))\n",
        "\n",
        "# Границы интервалов\n",
        "# Вставим левую границу для i=1 первого интервала\n",
        "left = x_min_nu + (1-1)*h\n",
        "left_borders = [left]\n",
        "right_borders = []\n",
        "# Вставим в списки итеративно следующие границы\n",
        "for i in range(1, k):\n",
        "  left_borders.append(x_min_nu + h * i)\n",
        "  right_borders.append(x_min_nu + h * i)\n",
        "# Добавим последнюю правую границу\n",
        "right = x_min_nu + k*h\n",
        "right_borders.append(right)\n",
        "# Разобьем на интервалы\n",
        "intervals= []\n",
        "for i in range(len(left_borders)):\n",
        "  intervals.append((left_borders[i], right_borders[i]))\n",
        "\n",
        "# Вычисляем середины интервалов\n",
        "mid_of_intervals = []\n",
        "for i in range(len(intervals)):\n",
        "  left, right = intervals[i]\n",
        "  mid_of_intervals.append((left + right) / 2)\n",
        "\n",
        "# Абсолютные частоты для интервалов\n",
        "abs_freq = [0 for i in range(0, k)]\n",
        "# Считаем частоту попаданий вариант в каждый интервал\n",
        "for varianta in variation_df_nu['nu']:\n",
        "  for i in range(len(intervals)):\n",
        "    left, right = intervals[i]\n",
        "    if varianta < right and varianta >= left:\n",
        "      abs_freq[i]+=1\n",
        "# Количество вариант\n",
        "variant_count = variation_df_nu['nu'].shape[0]\n",
        "# Относительные частоты для интервалов\n",
        "rel_freq = [freq/ variant_count for freq in abs_freq]\n",
        "\n",
        "# Накопленные частоты для интервалов\n",
        "accum_abs_freq = []\n",
        "accum_rel_freq = []\n",
        "for i in range(len(abs_freq)):\n",
        "  accum_abs_freq.append(np.sum(abs_freq[:i+1]))\n",
        "  accum_rel_freq.append(np.sum(rel_freq[:i+1]))\n",
        "\n",
        "# Добавляем необходимые колонки для Таблицы 1\n",
        "interval_df = pandas.DataFrame({'i': list(range(1, k+1))})\n",
        "interval_df[\"[x_i, x_i+1)\"] = intervals\n",
        "interval_df['Середина i интервала'] = mid_of_intervals\n",
        "interval_df['n_i'] = abs_freq\n",
        "interval_df['p*_i'] = rel_freq\n",
        "interval_df['Накопленная n_i'] = accum_abs_freq\n",
        "interval_df['Накопленная p*_i'] = accum_rel_freq\n",
        "\n",
        "interval_df"
      ],
      "metadata": {
        "colab": {
          "base_uri": "https://localhost:8080/",
          "height": 269
        },
        "id": "2igrqbBzIRba",
        "outputId": "5bc0ce5f-e968-4f84-8f4a-f6ae141fd36e"
      },
      "execution_count": 242,
      "outputs": [
        {
          "output_type": "execute_result",
          "data": {
            "text/plain": [
              "   i [x_i, x_i+1)  Середина i интервала  n_i      p*_i  Накопленная n_i  \\\n",
              "0  1   (321, 360)                 340.5    6  0.065934                6   \n",
              "1  2   (360, 399)                 379.5   13  0.142857               19   \n",
              "2  3   (399, 438)                 418.5   19  0.208791               38   \n",
              "3  4   (438, 477)                 457.5   21  0.230769               59   \n",
              "4  5   (477, 516)                 496.5   15  0.164835               74   \n",
              "5  6   (516, 555)                 535.5   14  0.153846               88   \n",
              "6  7   (555, 594)                 574.5    3  0.032967               91   \n",
              "\n",
              "   Накопленная p*_i  \n",
              "0          0.065934  \n",
              "1          0.208791  \n",
              "2          0.417582  \n",
              "3          0.648352  \n",
              "4          0.813187  \n",
              "5          0.967033  \n",
              "6          1.000000  "
            ],
            "text/html": [
              "\n",
              "  <div id=\"df-32cf1bff-7b96-4158-9e88-629f71ed366a\" class=\"colab-df-container\">\n",
              "    <div>\n",
              "<style scoped>\n",
              "    .dataframe tbody tr th:only-of-type {\n",
              "        vertical-align: middle;\n",
              "    }\n",
              "\n",
              "    .dataframe tbody tr th {\n",
              "        vertical-align: top;\n",
              "    }\n",
              "\n",
              "    .dataframe thead th {\n",
              "        text-align: right;\n",
              "    }\n",
              "</style>\n",
              "<table border=\"1\" class=\"dataframe\">\n",
              "  <thead>\n",
              "    <tr style=\"text-align: right;\">\n",
              "      <th></th>\n",
              "      <th>i</th>\n",
              "      <th>[x_i, x_i+1)</th>\n",
              "      <th>Середина i интервала</th>\n",
              "      <th>n_i</th>\n",
              "      <th>p*_i</th>\n",
              "      <th>Накопленная n_i</th>\n",
              "      <th>Накопленная p*_i</th>\n",
              "    </tr>\n",
              "  </thead>\n",
              "  <tbody>\n",
              "    <tr>\n",
              "      <th>0</th>\n",
              "      <td>1</td>\n",
              "      <td>(321, 360)</td>\n",
              "      <td>340.5</td>\n",
              "      <td>6</td>\n",
              "      <td>0.065934</td>\n",
              "      <td>6</td>\n",
              "      <td>0.065934</td>\n",
              "    </tr>\n",
              "    <tr>\n",
              "      <th>1</th>\n",
              "      <td>2</td>\n",
              "      <td>(360, 399)</td>\n",
              "      <td>379.5</td>\n",
              "      <td>13</td>\n",
              "      <td>0.142857</td>\n",
              "      <td>19</td>\n",
              "      <td>0.208791</td>\n",
              "    </tr>\n",
              "    <tr>\n",
              "      <th>2</th>\n",
              "      <td>3</td>\n",
              "      <td>(399, 438)</td>\n",
              "      <td>418.5</td>\n",
              "      <td>19</td>\n",
              "      <td>0.208791</td>\n",
              "      <td>38</td>\n",
              "      <td>0.417582</td>\n",
              "    </tr>\n",
              "    <tr>\n",
              "      <th>3</th>\n",
              "      <td>4</td>\n",
              "      <td>(438, 477)</td>\n",
              "      <td>457.5</td>\n",
              "      <td>21</td>\n",
              "      <td>0.230769</td>\n",
              "      <td>59</td>\n",
              "      <td>0.648352</td>\n",
              "    </tr>\n",
              "    <tr>\n",
              "      <th>4</th>\n",
              "      <td>5</td>\n",
              "      <td>(477, 516)</td>\n",
              "      <td>496.5</td>\n",
              "      <td>15</td>\n",
              "      <td>0.164835</td>\n",
              "      <td>74</td>\n",
              "      <td>0.813187</td>\n",
              "    </tr>\n",
              "    <tr>\n",
              "      <th>5</th>\n",
              "      <td>6</td>\n",
              "      <td>(516, 555)</td>\n",
              "      <td>535.5</td>\n",
              "      <td>14</td>\n",
              "      <td>0.153846</td>\n",
              "      <td>88</td>\n",
              "      <td>0.967033</td>\n",
              "    </tr>\n",
              "    <tr>\n",
              "      <th>6</th>\n",
              "      <td>7</td>\n",
              "      <td>(555, 594)</td>\n",
              "      <td>574.5</td>\n",
              "      <td>3</td>\n",
              "      <td>0.032967</td>\n",
              "      <td>91</td>\n",
              "      <td>1.000000</td>\n",
              "    </tr>\n",
              "  </tbody>\n",
              "</table>\n",
              "</div>\n",
              "    <div class=\"colab-df-buttons\">\n",
              "\n",
              "  <div class=\"colab-df-container\">\n",
              "    <button class=\"colab-df-convert\" onclick=\"convertToInteractive('df-32cf1bff-7b96-4158-9e88-629f71ed366a')\"\n",
              "            title=\"Convert this dataframe to an interactive table.\"\n",
              "            style=\"display:none;\">\n",
              "\n",
              "  <svg xmlns=\"http://www.w3.org/2000/svg\" height=\"24px\" viewBox=\"0 -960 960 960\">\n",
              "    <path d=\"M120-120v-720h720v720H120Zm60-500h600v-160H180v160Zm220 220h160v-160H400v160Zm0 220h160v-160H400v160ZM180-400h160v-160H180v160Zm440 0h160v-160H620v160ZM180-180h160v-160H180v160Zm440 0h160v-160H620v160Z\"/>\n",
              "  </svg>\n",
              "    </button>\n",
              "\n",
              "  <style>\n",
              "    .colab-df-container {\n",
              "      display:flex;\n",
              "      gap: 12px;\n",
              "    }\n",
              "\n",
              "    .colab-df-convert {\n",
              "      background-color: #E8F0FE;\n",
              "      border: none;\n",
              "      border-radius: 50%;\n",
              "      cursor: pointer;\n",
              "      display: none;\n",
              "      fill: #1967D2;\n",
              "      height: 32px;\n",
              "      padding: 0 0 0 0;\n",
              "      width: 32px;\n",
              "    }\n",
              "\n",
              "    .colab-df-convert:hover {\n",
              "      background-color: #E2EBFA;\n",
              "      box-shadow: 0px 1px 2px rgba(60, 64, 67, 0.3), 0px 1px 3px 1px rgba(60, 64, 67, 0.15);\n",
              "      fill: #174EA6;\n",
              "    }\n",
              "\n",
              "    .colab-df-buttons div {\n",
              "      margin-bottom: 4px;\n",
              "    }\n",
              "\n",
              "    [theme=dark] .colab-df-convert {\n",
              "      background-color: #3B4455;\n",
              "      fill: #D2E3FC;\n",
              "    }\n",
              "\n",
              "    [theme=dark] .colab-df-convert:hover {\n",
              "      background-color: #434B5C;\n",
              "      box-shadow: 0px 1px 3px 1px rgba(0, 0, 0, 0.15);\n",
              "      filter: drop-shadow(0px 1px 2px rgba(0, 0, 0, 0.3));\n",
              "      fill: #FFFFFF;\n",
              "    }\n",
              "  </style>\n",
              "\n",
              "    <script>\n",
              "      const buttonEl =\n",
              "        document.querySelector('#df-32cf1bff-7b96-4158-9e88-629f71ed366a button.colab-df-convert');\n",
              "      buttonEl.style.display =\n",
              "        google.colab.kernel.accessAllowed ? 'block' : 'none';\n",
              "\n",
              "      async function convertToInteractive(key) {\n",
              "        const element = document.querySelector('#df-32cf1bff-7b96-4158-9e88-629f71ed366a');\n",
              "        const dataTable =\n",
              "          await google.colab.kernel.invokeFunction('convertToInteractive',\n",
              "                                                    [key], {});\n",
              "        if (!dataTable) return;\n",
              "\n",
              "        const docLinkHtml = 'Like what you see? Visit the ' +\n",
              "          '<a target=\"_blank\" href=https://colab.research.google.com/notebooks/data_table.ipynb>data table notebook</a>'\n",
              "          + ' to learn more about interactive tables.';\n",
              "        element.innerHTML = '';\n",
              "        dataTable['output_type'] = 'display_data';\n",
              "        await google.colab.output.renderOutput(dataTable, element);\n",
              "        const docLink = document.createElement('div');\n",
              "        docLink.innerHTML = docLinkHtml;\n",
              "        element.appendChild(docLink);\n",
              "      }\n",
              "    </script>\n",
              "  </div>\n",
              "\n",
              "\n",
              "<div id=\"df-299cc6a1-a774-4208-87c9-eb3a28b85b7c\">\n",
              "  <button class=\"colab-df-quickchart\" onclick=\"quickchart('df-299cc6a1-a774-4208-87c9-eb3a28b85b7c')\"\n",
              "            title=\"Suggest charts\"\n",
              "            style=\"display:none;\">\n",
              "\n",
              "<svg xmlns=\"http://www.w3.org/2000/svg\" height=\"24px\"viewBox=\"0 0 24 24\"\n",
              "     width=\"24px\">\n",
              "    <g>\n",
              "        <path d=\"M19 3H5c-1.1 0-2 .9-2 2v14c0 1.1.9 2 2 2h14c1.1 0 2-.9 2-2V5c0-1.1-.9-2-2-2zM9 17H7v-7h2v7zm4 0h-2V7h2v10zm4 0h-2v-4h2v4z\"/>\n",
              "    </g>\n",
              "</svg>\n",
              "  </button>\n",
              "\n",
              "<style>\n",
              "  .colab-df-quickchart {\n",
              "      --bg-color: #E8F0FE;\n",
              "      --fill-color: #1967D2;\n",
              "      --hover-bg-color: #E2EBFA;\n",
              "      --hover-fill-color: #174EA6;\n",
              "      --disabled-fill-color: #AAA;\n",
              "      --disabled-bg-color: #DDD;\n",
              "  }\n",
              "\n",
              "  [theme=dark] .colab-df-quickchart {\n",
              "      --bg-color: #3B4455;\n",
              "      --fill-color: #D2E3FC;\n",
              "      --hover-bg-color: #434B5C;\n",
              "      --hover-fill-color: #FFFFFF;\n",
              "      --disabled-bg-color: #3B4455;\n",
              "      --disabled-fill-color: #666;\n",
              "  }\n",
              "\n",
              "  .colab-df-quickchart {\n",
              "    background-color: var(--bg-color);\n",
              "    border: none;\n",
              "    border-radius: 50%;\n",
              "    cursor: pointer;\n",
              "    display: none;\n",
              "    fill: var(--fill-color);\n",
              "    height: 32px;\n",
              "    padding: 0;\n",
              "    width: 32px;\n",
              "  }\n",
              "\n",
              "  .colab-df-quickchart:hover {\n",
              "    background-color: var(--hover-bg-color);\n",
              "    box-shadow: 0 1px 2px rgba(60, 64, 67, 0.3), 0 1px 3px 1px rgba(60, 64, 67, 0.15);\n",
              "    fill: var(--button-hover-fill-color);\n",
              "  }\n",
              "\n",
              "  .colab-df-quickchart-complete:disabled,\n",
              "  .colab-df-quickchart-complete:disabled:hover {\n",
              "    background-color: var(--disabled-bg-color);\n",
              "    fill: var(--disabled-fill-color);\n",
              "    box-shadow: none;\n",
              "  }\n",
              "\n",
              "  .colab-df-spinner {\n",
              "    border: 2px solid var(--fill-color);\n",
              "    border-color: transparent;\n",
              "    border-bottom-color: var(--fill-color);\n",
              "    animation:\n",
              "      spin 1s steps(1) infinite;\n",
              "  }\n",
              "\n",
              "  @keyframes spin {\n",
              "    0% {\n",
              "      border-color: transparent;\n",
              "      border-bottom-color: var(--fill-color);\n",
              "      border-left-color: var(--fill-color);\n",
              "    }\n",
              "    20% {\n",
              "      border-color: transparent;\n",
              "      border-left-color: var(--fill-color);\n",
              "      border-top-color: var(--fill-color);\n",
              "    }\n",
              "    30% {\n",
              "      border-color: transparent;\n",
              "      border-left-color: var(--fill-color);\n",
              "      border-top-color: var(--fill-color);\n",
              "      border-right-color: var(--fill-color);\n",
              "    }\n",
              "    40% {\n",
              "      border-color: transparent;\n",
              "      border-right-color: var(--fill-color);\n",
              "      border-top-color: var(--fill-color);\n",
              "    }\n",
              "    60% {\n",
              "      border-color: transparent;\n",
              "      border-right-color: var(--fill-color);\n",
              "    }\n",
              "    80% {\n",
              "      border-color: transparent;\n",
              "      border-right-color: var(--fill-color);\n",
              "      border-bottom-color: var(--fill-color);\n",
              "    }\n",
              "    90% {\n",
              "      border-color: transparent;\n",
              "      border-bottom-color: var(--fill-color);\n",
              "    }\n",
              "  }\n",
              "</style>\n",
              "\n",
              "  <script>\n",
              "    async function quickchart(key) {\n",
              "      const quickchartButtonEl =\n",
              "        document.querySelector('#' + key + ' button');\n",
              "      quickchartButtonEl.disabled = true;  // To prevent multiple clicks.\n",
              "      quickchartButtonEl.classList.add('colab-df-spinner');\n",
              "      try {\n",
              "        const charts = await google.colab.kernel.invokeFunction(\n",
              "            'suggestCharts', [key], {});\n",
              "      } catch (error) {\n",
              "        console.error('Error during call to suggestCharts:', error);\n",
              "      }\n",
              "      quickchartButtonEl.classList.remove('colab-df-spinner');\n",
              "      quickchartButtonEl.classList.add('colab-df-quickchart-complete');\n",
              "    }\n",
              "    (() => {\n",
              "      let quickchartButtonEl =\n",
              "        document.querySelector('#df-299cc6a1-a774-4208-87c9-eb3a28b85b7c button');\n",
              "      quickchartButtonEl.style.display =\n",
              "        google.colab.kernel.accessAllowed ? 'block' : 'none';\n",
              "    })();\n",
              "  </script>\n",
              "</div>\n",
              "    </div>\n",
              "  </div>\n"
            ],
            "application/vnd.google.colaboratory.intrinsic+json": {
              "type": "dataframe",
              "variable_name": "interval_df",
              "summary": "{\n  \"name\": \"interval_df\",\n  \"rows\": 7,\n  \"fields\": [\n    {\n      \"column\": \"i\",\n      \"properties\": {\n        \"dtype\": \"number\",\n        \"std\": 2,\n        \"min\": 1,\n        \"max\": 7,\n        \"num_unique_values\": 7,\n        \"samples\": [\n          1,\n          2,\n          6\n        ],\n        \"semantic_type\": \"\",\n        \"description\": \"\"\n      }\n    },\n    {\n      \"column\": \"[x_i, x_i+1)\",\n      \"properties\": {\n        \"dtype\": \"string\",\n        \"num_unique_values\": 7,\n        \"samples\": [\n          [\n            321,\n            360\n          ],\n          [\n            360,\n            399\n          ],\n          [\n            516,\n            555\n          ]\n        ],\n        \"semantic_type\": \"\",\n        \"description\": \"\"\n      }\n    },\n    {\n      \"column\": \"\\u0421\\u0435\\u0440\\u0435\\u0434\\u0438\\u043d\\u0430 i \\u0438\\u043d\\u0442\\u0435\\u0440\\u0432\\u0430\\u043b\\u0430\",\n      \"properties\": {\n        \"dtype\": \"number\",\n        \"std\": 84.24962907930218,\n        \"min\": 340.5,\n        \"max\": 574.5,\n        \"num_unique_values\": 7,\n        \"samples\": [\n          340.5,\n          379.5,\n          535.5\n        ],\n        \"semantic_type\": \"\",\n        \"description\": \"\"\n      }\n    },\n    {\n      \"column\": \"n_i\",\n      \"properties\": {\n        \"dtype\": \"number\",\n        \"std\": 6,\n        \"min\": 3,\n        \"max\": 21,\n        \"num_unique_values\": 7,\n        \"samples\": [\n          6,\n          13,\n          14\n        ],\n        \"semantic_type\": \"\",\n        \"description\": \"\"\n      }\n    },\n    {\n      \"column\": \"p*_i\",\n      \"properties\": {\n        \"dtype\": \"number\",\n        \"std\": 0.07149897910601881,\n        \"min\": 0.03296703296703297,\n        \"max\": 0.23076923076923078,\n        \"num_unique_values\": 7,\n        \"samples\": [\n          0.06593406593406594,\n          0.14285714285714285,\n          0.15384615384615385\n        ],\n        \"semantic_type\": \"\",\n        \"description\": \"\"\n      }\n    },\n    {\n      \"column\": \"\\u041d\\u0430\\u043a\\u043e\\u043f\\u043b\\u0435\\u043d\\u043d\\u0430\\u044f n_i\",\n      \"properties\": {\n        \"dtype\": \"number\",\n        \"std\": 33,\n        \"min\": 6,\n        \"max\": 91,\n        \"num_unique_values\": 7,\n        \"samples\": [\n          6,\n          19,\n          88\n        ],\n        \"semantic_type\": \"\",\n        \"description\": \"\"\n      }\n    },\n    {\n      \"column\": \"\\u041d\\u0430\\u043a\\u043e\\u043f\\u043b\\u0435\\u043d\\u043d\\u0430\\u044f p*_i\",\n      \"properties\": {\n        \"dtype\": \"number\",\n        \"std\": 0.36813772576702924,\n        \"min\": 0.06593406593406594,\n        \"max\": 0.9999999999999999,\n        \"num_unique_values\": 7,\n        \"samples\": [\n          0.06593406593406594,\n          0.20879120879120877,\n          0.9670329670329669\n        ],\n        \"semantic_type\": \"\",\n        \"description\": \"\"\n      }\n    }\n  ]\n}"
            }
          },
          "metadata": {},
          "execution_count": 242
        }
      ]
    },
    {
      "cell_type": "markdown",
      "source": [
        "Построение таблицы с вычисленными условными вариантами."
      ],
      "metadata": {
        "id": "uyJo7visnSZC"
      }
    },
    {
      "cell_type": "code",
      "source": [
        "# нахождение условного нуля С - середина интервала,\n",
        "# который находится по середине (округление вверх) интервального ряда - 4 интервал\n",
        "C = interval_df[\"Середина i интервала\"][round(len(interval_df) / 2)]\n",
        "\n",
        "# построение таблицы 1\n",
        "cond_var_df = pandas.DataFrame({'i': list(range(1, k+1))})\n",
        "cond_var_df[\"x\"] = mid_of_intervals\n",
        "cond_var_df[\"n\"] = abs_freq\n",
        "cond_var_df[\"u\"] = (mid_of_intervals - C) / h\n",
        "cond_var_df[\"n*u\"] = cond_var_df[\"n\"] * cond_var_df[\"u\"]\n",
        "cond_var_df[\"n*u2\"] = cond_var_df[\"n\"] * pow(cond_var_df[\"u\"], 2)\n",
        "cond_var_df[\"n*u3\"] = cond_var_df[\"n\"] * pow(cond_var_df[\"u\"], 3)\n",
        "cond_var_df[\"n*u4\"] = cond_var_df[\"n\"] * pow(cond_var_df[\"u\"], 4)\n",
        "cond_var_df[\"n*(u+1)4\"] = cond_var_df[\"n\"] * pow(cond_var_df[\"u\"] + 1, 4)\n",
        "\n",
        "# рассчет сумм каждого столбца\n",
        "sums = [\"-\", cond_var_df[\"x\"].sum(), cond_var_df[\"n\"].sum(), \"-\",\n",
        "        cond_var_df[\"n*u\"].sum(), cond_var_df[\"n*u2\"].sum(),\n",
        "        cond_var_df[\"n*u3\"].sum(), cond_var_df[\"n*u4\"].sum(),\n",
        "        cond_var_df[\"n*(u+1)4\"].sum()]\n",
        "\n",
        "#  добавление сумм вниз таблицы\n",
        "cond_var = pandas.concat([cond_var_df,\n",
        "                         pandas.DataFrame(data=[sums],\n",
        "                                          columns=[\"i\", \"x\", \"n\", \"u\", \"n*u\", \"n*u2\", \"n*u3\", \"n*u4\", \"n*(u+1)4\"])],\n",
        "                          ignore_index=True)\n",
        "cond_var\n",
        "\n",
        "print('Таблица 1:')\n",
        "# Отображение Таблицы 1\n",
        "cond_var.style.set_properties(**{'text-align': 'center'}).hide(axis='index')"
      ],
      "metadata": {
        "colab": {
          "base_uri": "https://localhost:8080/",
          "height": 317
        },
        "id": "95FODcgyLBed",
        "outputId": "0812094a-9971-4ac0-825e-73e94f4f10fd"
      },
      "execution_count": 243,
      "outputs": [
        {
          "output_type": "stream",
          "name": "stdout",
          "text": [
            "Таблица 1:\n"
          ]
        },
        {
          "output_type": "execute_result",
          "data": {
            "text/plain": [
              "<pandas.io.formats.style.Styler at 0x7b432d7bd3f0>"
            ],
            "text/html": [
              "<style type=\"text/css\">\n",
              "#T_1af91_row0_col0, #T_1af91_row0_col1, #T_1af91_row0_col2, #T_1af91_row0_col3, #T_1af91_row0_col4, #T_1af91_row0_col5, #T_1af91_row0_col6, #T_1af91_row0_col7, #T_1af91_row0_col8, #T_1af91_row1_col0, #T_1af91_row1_col1, #T_1af91_row1_col2, #T_1af91_row1_col3, #T_1af91_row1_col4, #T_1af91_row1_col5, #T_1af91_row1_col6, #T_1af91_row1_col7, #T_1af91_row1_col8, #T_1af91_row2_col0, #T_1af91_row2_col1, #T_1af91_row2_col2, #T_1af91_row2_col3, #T_1af91_row2_col4, #T_1af91_row2_col5, #T_1af91_row2_col6, #T_1af91_row2_col7, #T_1af91_row2_col8, #T_1af91_row3_col0, #T_1af91_row3_col1, #T_1af91_row3_col2, #T_1af91_row3_col3, #T_1af91_row3_col4, #T_1af91_row3_col5, #T_1af91_row3_col6, #T_1af91_row3_col7, #T_1af91_row3_col8, #T_1af91_row4_col0, #T_1af91_row4_col1, #T_1af91_row4_col2, #T_1af91_row4_col3, #T_1af91_row4_col4, #T_1af91_row4_col5, #T_1af91_row4_col6, #T_1af91_row4_col7, #T_1af91_row4_col8, #T_1af91_row5_col0, #T_1af91_row5_col1, #T_1af91_row5_col2, #T_1af91_row5_col3, #T_1af91_row5_col4, #T_1af91_row5_col5, #T_1af91_row5_col6, #T_1af91_row5_col7, #T_1af91_row5_col8, #T_1af91_row6_col0, #T_1af91_row6_col1, #T_1af91_row6_col2, #T_1af91_row6_col3, #T_1af91_row6_col4, #T_1af91_row6_col5, #T_1af91_row6_col6, #T_1af91_row6_col7, #T_1af91_row6_col8, #T_1af91_row7_col0, #T_1af91_row7_col1, #T_1af91_row7_col2, #T_1af91_row7_col3, #T_1af91_row7_col4, #T_1af91_row7_col5, #T_1af91_row7_col6, #T_1af91_row7_col7, #T_1af91_row7_col8 {\n",
              "  text-align: center;\n",
              "}\n",
              "</style>\n",
              "<table id=\"T_1af91\" class=\"dataframe\">\n",
              "  <thead>\n",
              "    <tr>\n",
              "      <th id=\"T_1af91_level0_col0\" class=\"col_heading level0 col0\" >i</th>\n",
              "      <th id=\"T_1af91_level0_col1\" class=\"col_heading level0 col1\" >x</th>\n",
              "      <th id=\"T_1af91_level0_col2\" class=\"col_heading level0 col2\" >n</th>\n",
              "      <th id=\"T_1af91_level0_col3\" class=\"col_heading level0 col3\" >u</th>\n",
              "      <th id=\"T_1af91_level0_col4\" class=\"col_heading level0 col4\" >n*u</th>\n",
              "      <th id=\"T_1af91_level0_col5\" class=\"col_heading level0 col5\" >n*u2</th>\n",
              "      <th id=\"T_1af91_level0_col6\" class=\"col_heading level0 col6\" >n*u3</th>\n",
              "      <th id=\"T_1af91_level0_col7\" class=\"col_heading level0 col7\" >n*u4</th>\n",
              "      <th id=\"T_1af91_level0_col8\" class=\"col_heading level0 col8\" >n*(u+1)4</th>\n",
              "    </tr>\n",
              "  </thead>\n",
              "  <tbody>\n",
              "    <tr>\n",
              "      <td id=\"T_1af91_row0_col0\" class=\"data row0 col0\" >1</td>\n",
              "      <td id=\"T_1af91_row0_col1\" class=\"data row0 col1\" >340.500000</td>\n",
              "      <td id=\"T_1af91_row0_col2\" class=\"data row0 col2\" >6</td>\n",
              "      <td id=\"T_1af91_row0_col3\" class=\"data row0 col3\" >-4.000000</td>\n",
              "      <td id=\"T_1af91_row0_col4\" class=\"data row0 col4\" >-24.000000</td>\n",
              "      <td id=\"T_1af91_row0_col5\" class=\"data row0 col5\" >96.000000</td>\n",
              "      <td id=\"T_1af91_row0_col6\" class=\"data row0 col6\" >-384.000000</td>\n",
              "      <td id=\"T_1af91_row0_col7\" class=\"data row0 col7\" >1536.000000</td>\n",
              "      <td id=\"T_1af91_row0_col8\" class=\"data row0 col8\" >486.000000</td>\n",
              "    </tr>\n",
              "    <tr>\n",
              "      <td id=\"T_1af91_row1_col0\" class=\"data row1 col0\" >2</td>\n",
              "      <td id=\"T_1af91_row1_col1\" class=\"data row1 col1\" >379.500000</td>\n",
              "      <td id=\"T_1af91_row1_col2\" class=\"data row1 col2\" >13</td>\n",
              "      <td id=\"T_1af91_row1_col3\" class=\"data row1 col3\" >-3.000000</td>\n",
              "      <td id=\"T_1af91_row1_col4\" class=\"data row1 col4\" >-39.000000</td>\n",
              "      <td id=\"T_1af91_row1_col5\" class=\"data row1 col5\" >117.000000</td>\n",
              "      <td id=\"T_1af91_row1_col6\" class=\"data row1 col6\" >-351.000000</td>\n",
              "      <td id=\"T_1af91_row1_col7\" class=\"data row1 col7\" >1053.000000</td>\n",
              "      <td id=\"T_1af91_row1_col8\" class=\"data row1 col8\" >208.000000</td>\n",
              "    </tr>\n",
              "    <tr>\n",
              "      <td id=\"T_1af91_row2_col0\" class=\"data row2 col0\" >3</td>\n",
              "      <td id=\"T_1af91_row2_col1\" class=\"data row2 col1\" >418.500000</td>\n",
              "      <td id=\"T_1af91_row2_col2\" class=\"data row2 col2\" >19</td>\n",
              "      <td id=\"T_1af91_row2_col3\" class=\"data row2 col3\" >-2.000000</td>\n",
              "      <td id=\"T_1af91_row2_col4\" class=\"data row2 col4\" >-38.000000</td>\n",
              "      <td id=\"T_1af91_row2_col5\" class=\"data row2 col5\" >76.000000</td>\n",
              "      <td id=\"T_1af91_row2_col6\" class=\"data row2 col6\" >-152.000000</td>\n",
              "      <td id=\"T_1af91_row2_col7\" class=\"data row2 col7\" >304.000000</td>\n",
              "      <td id=\"T_1af91_row2_col8\" class=\"data row2 col8\" >19.000000</td>\n",
              "    </tr>\n",
              "    <tr>\n",
              "      <td id=\"T_1af91_row3_col0\" class=\"data row3 col0\" >4</td>\n",
              "      <td id=\"T_1af91_row3_col1\" class=\"data row3 col1\" >457.500000</td>\n",
              "      <td id=\"T_1af91_row3_col2\" class=\"data row3 col2\" >21</td>\n",
              "      <td id=\"T_1af91_row3_col3\" class=\"data row3 col3\" >-1.000000</td>\n",
              "      <td id=\"T_1af91_row3_col4\" class=\"data row3 col4\" >-21.000000</td>\n",
              "      <td id=\"T_1af91_row3_col5\" class=\"data row3 col5\" >21.000000</td>\n",
              "      <td id=\"T_1af91_row3_col6\" class=\"data row3 col6\" >-21.000000</td>\n",
              "      <td id=\"T_1af91_row3_col7\" class=\"data row3 col7\" >21.000000</td>\n",
              "      <td id=\"T_1af91_row3_col8\" class=\"data row3 col8\" >0.000000</td>\n",
              "    </tr>\n",
              "    <tr>\n",
              "      <td id=\"T_1af91_row4_col0\" class=\"data row4 col0\" >5</td>\n",
              "      <td id=\"T_1af91_row4_col1\" class=\"data row4 col1\" >496.500000</td>\n",
              "      <td id=\"T_1af91_row4_col2\" class=\"data row4 col2\" >15</td>\n",
              "      <td id=\"T_1af91_row4_col3\" class=\"data row4 col3\" >0.000000</td>\n",
              "      <td id=\"T_1af91_row4_col4\" class=\"data row4 col4\" >0.000000</td>\n",
              "      <td id=\"T_1af91_row4_col5\" class=\"data row4 col5\" >0.000000</td>\n",
              "      <td id=\"T_1af91_row4_col6\" class=\"data row4 col6\" >0.000000</td>\n",
              "      <td id=\"T_1af91_row4_col7\" class=\"data row4 col7\" >0.000000</td>\n",
              "      <td id=\"T_1af91_row4_col8\" class=\"data row4 col8\" >15.000000</td>\n",
              "    </tr>\n",
              "    <tr>\n",
              "      <td id=\"T_1af91_row5_col0\" class=\"data row5 col0\" >6</td>\n",
              "      <td id=\"T_1af91_row5_col1\" class=\"data row5 col1\" >535.500000</td>\n",
              "      <td id=\"T_1af91_row5_col2\" class=\"data row5 col2\" >14</td>\n",
              "      <td id=\"T_1af91_row5_col3\" class=\"data row5 col3\" >1.000000</td>\n",
              "      <td id=\"T_1af91_row5_col4\" class=\"data row5 col4\" >14.000000</td>\n",
              "      <td id=\"T_1af91_row5_col5\" class=\"data row5 col5\" >14.000000</td>\n",
              "      <td id=\"T_1af91_row5_col6\" class=\"data row5 col6\" >14.000000</td>\n",
              "      <td id=\"T_1af91_row5_col7\" class=\"data row5 col7\" >14.000000</td>\n",
              "      <td id=\"T_1af91_row5_col8\" class=\"data row5 col8\" >224.000000</td>\n",
              "    </tr>\n",
              "    <tr>\n",
              "      <td id=\"T_1af91_row6_col0\" class=\"data row6 col0\" >7</td>\n",
              "      <td id=\"T_1af91_row6_col1\" class=\"data row6 col1\" >574.500000</td>\n",
              "      <td id=\"T_1af91_row6_col2\" class=\"data row6 col2\" >3</td>\n",
              "      <td id=\"T_1af91_row6_col3\" class=\"data row6 col3\" >2.000000</td>\n",
              "      <td id=\"T_1af91_row6_col4\" class=\"data row6 col4\" >6.000000</td>\n",
              "      <td id=\"T_1af91_row6_col5\" class=\"data row6 col5\" >12.000000</td>\n",
              "      <td id=\"T_1af91_row6_col6\" class=\"data row6 col6\" >24.000000</td>\n",
              "      <td id=\"T_1af91_row6_col7\" class=\"data row6 col7\" >48.000000</td>\n",
              "      <td id=\"T_1af91_row6_col8\" class=\"data row6 col8\" >243.000000</td>\n",
              "    </tr>\n",
              "    <tr>\n",
              "      <td id=\"T_1af91_row7_col0\" class=\"data row7 col0\" >-</td>\n",
              "      <td id=\"T_1af91_row7_col1\" class=\"data row7 col1\" >3202.500000</td>\n",
              "      <td id=\"T_1af91_row7_col2\" class=\"data row7 col2\" >91</td>\n",
              "      <td id=\"T_1af91_row7_col3\" class=\"data row7 col3\" >-</td>\n",
              "      <td id=\"T_1af91_row7_col4\" class=\"data row7 col4\" >-102.000000</td>\n",
              "      <td id=\"T_1af91_row7_col5\" class=\"data row7 col5\" >336.000000</td>\n",
              "      <td id=\"T_1af91_row7_col6\" class=\"data row7 col6\" >-870.000000</td>\n",
              "      <td id=\"T_1af91_row7_col7\" class=\"data row7 col7\" >2976.000000</td>\n",
              "      <td id=\"T_1af91_row7_col8\" class=\"data row7 col8\" >1195.000000</td>\n",
              "    </tr>\n",
              "  </tbody>\n",
              "</table>\n"
            ]
          },
          "metadata": {},
          "execution_count": 243
        }
      ]
    },
    {
      "cell_type": "markdown",
      "source": [
        "Проведение контроля вычислений по формуле для абсолютных частот: $\\sum n_i (u_i+1)^4 = \\sum n_i u_i^4 + 4 \\sum n_i u_i^3 + 6 \\sum n_i u_i^2 + 4 \\sum n_i u_i + \\sum n_i$."
      ],
      "metadata": {
        "id": "NAmdtlhOoBS_"
      }
    },
    {
      "cell_type": "code",
      "source": [
        "# сравнение левой и правой части формулы\n",
        "sum = sums[7] + 4 * sums[6] + 6 * sums[5] + 4 * sums[4] + sums[2]\n",
        "print(f\"По итогу вычисленной суммы по формуле было получено значение {sum}; сравним полученные результаты: {np.abs(sum - sums[8]) < 0.00000001}\")"
      ],
      "metadata": {
        "colab": {
          "base_uri": "https://localhost:8080/"
        },
        "id": "abrEEi7g6C_P",
        "outputId": "3bbd602c-4f85-4fe7-9637-709b39f8bb60"
      },
      "execution_count": 244,
      "outputs": [
        {
          "output_type": "stream",
          "name": "stdout",
          "text": [
            "По итогу вычисленной суммы по формуле было получено значение 1195.0; сравним полученные результаты: True\n"
          ]
        }
      ]
    },
    {
      "cell_type": "markdown",
      "source": [
        "### 2. Вычислить условные эмпирические моменты $\\nu_i^*$ через условные варианты. С помощью условных эмпирических моментов вычислить центральные эмпирические моменты $\\mu_i^*$. Полученные результаты занести в табл. 2."
      ],
      "metadata": {
        "id": "bOul4Ad3-uD7"
      }
    },
    {
      "cell_type": "markdown",
      "source": [
        "Для условных эмпирических моментов (1, 2, 3 и 4 порядков) используется следующая формула:\n",
        "$\\nu_k^* = \\frac 1 N \\sum n_i u_i^k$, где $n_i$ - абсолютная частота.\n",
        "\n",
        "Для центральных эмпирических моментов используется следующая формула: $\\mu_k^*=M(X-M(X))^k$, причем справедливы соотношения:\n",
        "\n",
        "$\\mu_2^*=(\\nu_2^*-(\\nu_1^*)^2)h^2$,\n",
        "\n",
        "$\\mu_3^*=(\\nu_3^*-3\\nu_2^*\\nu_1^* + 2(\\nu_1^*)^3)h^3$,\n",
        "\n",
        "$\\mu_4^*=(\\nu_4^*-6\\nu_3^*\\nu_1^* + 6\\nu_2^*(\\nu_1^*)^2 - 3(\\nu_1^*)^4)h^4$"
      ],
      "metadata": {
        "id": "-r-AnzidGTvD"
      }
    },
    {
      "cell_type": "code",
      "source": [
        "# построение таблицы 2\n",
        "moments_df = pandas.DataFrame({'i': list(range(1, 5))})\n",
        "moments_df[\"nu\"] = [sums[4] / N, sums[5] / N, sums[6] / N, sums[7] / N]\n",
        "moments_df[\"mu\"] = [\"-\",\n",
        "                    (moments_df[\"nu\"][1] - pow(moments_df[\"nu\"][0], 2)) * pow(h, 2),\n",
        "                    (moments_df[\"nu\"][2] - 3 * moments_df[\"nu\"][1] * moments_df[\"nu\"][0] + 2 * pow(moments_df[\"nu\"][0], 3)) * pow(h, 3),\n",
        "                    (moments_df[\"nu\"][3] - 6 * moments_df[\"nu\"][2] * moments_df[\"nu\"][0] + 6 * moments_df[\"nu\"][1] * pow(moments_df[\"nu\"][0], 2) - 3 * pow(moments_df[\"nu\"][0], 4)) * pow(h, 4)\n",
        "                    ]\n",
        "\n",
        "print('\\nТаблица 2:')\n",
        "# Отображение Таблицы 1\n",
        "moments_df.style.set_properties(**{'text-align': 'center'}).hide(axis='index')"
      ],
      "metadata": {
        "id": "pXXMsB5oF7mi",
        "colab": {
          "base_uri": "https://localhost:8080/",
          "height": 209
        },
        "outputId": "e1412589-c81a-4eb6-b696-8f5e88887a80"
      },
      "execution_count": 245,
      "outputs": [
        {
          "output_type": "stream",
          "name": "stdout",
          "text": [
            "\n",
            "Таблица 2:\n"
          ]
        },
        {
          "output_type": "execute_result",
          "data": {
            "text/plain": [
              "<pandas.io.formats.style.Styler at 0x7b432d004730>"
            ],
            "text/html": [
              "<style type=\"text/css\">\n",
              "#T_543d7_row0_col0, #T_543d7_row0_col1, #T_543d7_row0_col2, #T_543d7_row1_col0, #T_543d7_row1_col1, #T_543d7_row1_col2, #T_543d7_row2_col0, #T_543d7_row2_col1, #T_543d7_row2_col2, #T_543d7_row3_col0, #T_543d7_row3_col1, #T_543d7_row3_col2 {\n",
              "  text-align: center;\n",
              "}\n",
              "</style>\n",
              "<table id=\"T_543d7\" class=\"dataframe\">\n",
              "  <thead>\n",
              "    <tr>\n",
              "      <th id=\"T_543d7_level0_col0\" class=\"col_heading level0 col0\" >i</th>\n",
              "      <th id=\"T_543d7_level0_col1\" class=\"col_heading level0 col1\" >nu</th>\n",
              "      <th id=\"T_543d7_level0_col2\" class=\"col_heading level0 col2\" >mu</th>\n",
              "    </tr>\n",
              "  </thead>\n",
              "  <tbody>\n",
              "    <tr>\n",
              "      <td id=\"T_543d7_row0_col0\" class=\"data row0 col0\" >1</td>\n",
              "      <td id=\"T_543d7_row0_col1\" class=\"data row0 col1\" >-0.871795</td>\n",
              "      <td id=\"T_543d7_row0_col2\" class=\"data row0 col2\" >-</td>\n",
              "    </tr>\n",
              "    <tr>\n",
              "      <td id=\"T_543d7_row1_col0\" class=\"data row1 col0\" >2</td>\n",
              "      <td id=\"T_543d7_row1_col1\" class=\"data row1 col1\" >2.871795</td>\n",
              "      <td id=\"T_543d7_row1_col2\" class=\"data row1 col2\" >3212.000000</td>\n",
              "    </tr>\n",
              "    <tr>\n",
              "      <td id=\"T_543d7_row2_col0\" class=\"data row2 col0\" >3</td>\n",
              "      <td id=\"T_543d7_row2_col1\" class=\"data row2 col1\" >-7.435897</td>\n",
              "      <td id=\"T_543d7_row2_col2\" class=\"data row2 col2\" >-74162.000000</td>\n",
              "    </tr>\n",
              "    <tr>\n",
              "      <td id=\"T_543d7_row3_col0\" class=\"data row3 col0\" >4</td>\n",
              "      <td id=\"T_543d7_row3_col1\" class=\"data row3 col1\" >25.435897</td>\n",
              "      <td id=\"T_543d7_row3_col2\" class=\"data row3 col2\" >-4850472.000000</td>\n",
              "    </tr>\n",
              "  </tbody>\n",
              "</table>\n"
            ]
          },
          "metadata": {},
          "execution_count": 245
        }
      ]
    },
    {
      "cell_type": "markdown",
      "source": [
        "### 3. Вычислить выборочные среднее $\\overline{x_в}$ и дисперсию $\\sigma_в^2$ с помощью стандартной формулы и с помощью условных вариант. Убедиться, что результаты совпадают."
      ],
      "metadata": {
        "id": "iIrErVxQLay0"
      }
    },
    {
      "cell_type": "markdown",
      "source": [
        "Для вычисления выборочного среднего с помощью стандартной формулы используем формулу: $\\overline{x_в} = \\frac 1 N \\sum x_i$, где $x_i$ - элемент выборки.\n",
        "\n",
        "Для вычисления выборочного среднего с помощью условных вариант используем формулу: $\\overline {x_в} = \\nu_1^*h + C$."
      ],
      "metadata": {
        "id": "f3LjX0WyM4P7"
      }
    },
    {
      "cell_type": "code",
      "source": [
        "mean_x = np.sum(sample_df.nu) / N\n",
        "mean_x_var = moments_df[\"nu\"][0] * h + C\n",
        "\n",
        "print(f\"Выборочное среднее по стандартной формуле: {mean_x}\")\n",
        "print(f\"Выборочное среднее с помощью условных вариант: {mean_x_var}\")"
      ],
      "metadata": {
        "colab": {
          "base_uri": "https://localhost:8080/"
        },
        "id": "S23PiBLNNpRI",
        "outputId": "cc5b10e6-8c28-49e6-88a5-85dc9060eac8"
      },
      "execution_count": 246,
      "outputs": [
        {
          "output_type": "stream",
          "name": "stdout",
          "text": [
            "Выборочное среднее по стандартной формуле: 454.5811965811966\n",
            "Выборочное среднее с помощью условных вариант: 462.5\n"
          ]
        }
      ]
    },
    {
      "cell_type": "markdown",
      "source": [
        "Для вычисления выборочной дисперсии с помощью стандартной формулы используем формулу: $\\sigma_в^2 = \\frac 1 N \\sum (x_i - \\overline{x})^2$, где $x_i$ - элемент выборки.\n",
        "\n",
        "Для вычисления выборочного среднего с помощью условных вариант используем формулу: $\\sigma_в^2 = (\\nu_2^*-(\\nu_1^*)^2)h^2$"
      ],
      "metadata": {
        "id": "8crdi3ScQ8ka"
      }
    },
    {
      "cell_type": "code",
      "source": [
        "sigma_x2 = np.sum((sample_df.nu - mean_x) ** 2) / N\n",
        "sigma_x_var2 = moments_df[\"mu\"][1]\n",
        "\n",
        "print(f\"Выборочная дисперсия по стандартной формуле: {sigma_x2}\")\n",
        "print(f\"Выборочная дисперсия с помощью условных вариант: {sigma_x_var2}\")"
      ],
      "metadata": {
        "colab": {
          "base_uri": "https://localhost:8080/"
        },
        "id": "wQnKh4dMRxrT",
        "outputId": "7a98f8d4-db07-4f7c-ad93-b23191b5b789"
      },
      "execution_count": 250,
      "outputs": [
        {
          "output_type": "stream",
          "name": "stdout",
          "text": [
            "Выборочная дисперсия по стандартной формуле: 3084.380159251954\n",
            "Выборочная дисперсия с помощью условных вариант: 3212.0\n"
          ]
        }
      ]
    },
    {
      "cell_type": "markdown",
      "source": [
        "### 4. Вычислить исправленную выборочную дисперсию $S^2$ и исправленное СКО $S$. Сравнить данные оценки с смещёнными оценками дисперсии. Сделать выводы."
      ],
      "metadata": {
        "id": "bhIxx7cQFVQz"
      }
    },
    {
      "cell_type": "markdown",
      "source": [
        "Для вычисления исправленной выборочной дисперсии используется следующая формула: $S^2 = \\frac {N} {N-1} \\sigma_в$.\n",
        "\n",
        "Для вычисления исправленного СКО используется следующая формула: $S = \\sqrt {S^2}$, $\\sigma_в = \\sqrt {\\sigma^2_в}$"
      ],
      "metadata": {
        "id": "zSrvm-Q8XsH6"
      }
    },
    {
      "cell_type": "code",
      "source": [
        "S2 = sigma_x2 * N / (N-1)\n",
        "S = np.sqrt(S2)\n",
        "sigma_x_var = np.sqrt(sigma_x_var2)\n",
        "\n",
        "print(f\"Исправленная выборочная дисперсия: {S2}\")\n",
        "print(f\"Исправленное СКО выборочной дисперсии: {S}\")\n",
        "print(f\"СКО выборочной дисперсии с помощью условных вариант: {sigma_x_var}\")"
      ],
      "metadata": {
        "colab": {
          "base_uri": "https://localhost:8080/"
        },
        "id": "nWoKtHTEYOwS",
        "outputId": "e36802ed-70df-4780-9649-9731814a56a7"
      },
      "execution_count": 248,
      "outputs": [
        {
          "output_type": "stream",
          "name": "stdout",
          "text": [
            "Исправленная выборочная дисперсия: 3110.9696433834365\n",
            "Исправленное СКО выборочной дисперсии: 55.77606694078955\n",
            "СКО выборочной дисперсии с помощью условных вариант: 56.674509261219015\n"
          ]
        }
      ]
    },
    {
      "cell_type": "markdown",
      "source": [
        "Сравнив исправленную выборочную дисперсию, выборочную дисперсию и выборочную дисперсию с помощью условных вариант можно заметить, что неисправленная выборочная дисперсия ближе к выборочной дисперсии, рассчитанной с помощью условных вариант.\n",
        "\n",
        "Следовательно, исправлять выборочную дисперсию стоило, так как исправление не приводит к заниженным оценкам дисперсии."
      ],
      "metadata": {
        "id": "HOPVMWxraoIC"
      }
    },
    {
      "cell_type": "markdown",
      "source": [
        "### 5. Найти статистическую оценку коэффициентов асимметрии $a_s^*$ и эксцесса $\\epsilon_s^*$. Сделать выводы."
      ],
      "metadata": {
        "id": "1JIKrx49bk8b"
      }
    },
    {
      "cell_type": "markdown",
      "source": [
        "Для вычисления статистической оценки коэффициента ассиметрии используется формула: $a_s^* = \\frac {\\mu_3^*} {s^3}$.\n",
        "\n",
        "Для вычисления статистической оценки коэффициента эксцессы используется формула: $\\epsilon_s^* = \\frac {\\mu_4^*} {s^4} - 3$."
      ],
      "metadata": {
        "id": "caTJvmf2cOFn"
      }
    },
    {
      "cell_type": "code",
      "source": [
        "a_s = moments_df[\"mu\"][2] / pow(S, 3)\n",
        "eps_s = moments_df[\"mu\"][3] / pow(S, 4) - 3\n",
        "\n",
        "print(f\"Статистическая оценка коэффициента ассиметрии: {a_s}\")\n",
        "print(f\"Статистическая оценка коэффициента эксцессы: {eps_s}\")"
      ],
      "metadata": {
        "colab": {
          "base_uri": "https://localhost:8080/"
        },
        "id": "25_XJbgyc1im",
        "outputId": "3b0f909c-a7a4-4e84-c14c-58ae47edfa2f"
      },
      "execution_count": 249,
      "outputs": [
        {
          "output_type": "stream",
          "name": "stdout",
          "text": [
            "Статистическая оценка коэффициентов ассиметрии: -0.42740320387207753\n",
            "Статистическая оценка коэффициентов эксцесса: -3.50117852689233\n"
          ]
        }
      ]
    },
    {
      "cell_type": "markdown",
      "source": [
        "Коэффициенты ассимметрии и эксцессы показывают насколько распределение случайных величин скошено вправо или влево (ассимметрия) от нормального и насколько растянуто вверх или вниз от нормального распределения (эксцесса).\n",
        "\n",
        "Статистическая оценка коэффициента ассимметрии $a_s^* = -0.427$:\n",
        "* $a_s^* < 0$ - распределение скошено влево, имеет место правосторонняя ассиметрия с удлиненным правым хвостом;\n",
        "* $0.25 < |a_s^*| < 0.5$ - ассимметрия умеренная.\n",
        "\n",
        "Статистическая оценка коэффициента эксцессы $\\epsilon_s^* = -3.501$:\n",
        "* $\\epsilon_s^* < 0$ - распределение является более низким и пологим;\n",
        "* $|\\epsilon_s^*| = 3.501$ - распределение более низкое и пологое, чем нормальное."
      ],
      "metadata": {
        "id": "TMjfC1GqeMDj"
      }
    },
    {
      "cell_type": "markdown",
      "source": [
        "### 6. Для интервального ряда вычислить моду $M_o^*$, медиану $M_e^*$ и коэффициент вариации $V^*$ заданного распределения. Сделать выводы."
      ],
      "metadata": {
        "id": "BWin7ivVgqlS"
      }
    },
    {
      "cell_type": "markdown",
      "source": [
        "Мода для интервального ряда вычисляется по следующей формуле: $M_o^* = x_0 + \\frac {n_M - n_{M-1}} {(n_M - n_{M-1}) + (n_M - n_{M+1})}h$, где $x_0$ - нижняя граница модального интервала (интервал с наибольшей частотой), $n_M$ - частота модального интервала, $n_{M-1}$ - частота интервала предыдущего до модального, $n_{M+1}$ - частота интервала следующего после модального."
      ],
      "metadata": {
        "id": "QK14_SLog9L7"
      }
    },
    {
      "cell_type": "code",
      "source": [
        "#  частота модального интервала\n",
        "nM = interval_df.max()['n_i']\n",
        "\n",
        "row_with_nM = interval_df.loc[interval_df['n_i'] == nM]\n",
        "\n",
        "# нижняя граница модального интервала\n",
        "x0 = row_with_nM['[x_i, x_i+1)'].to_list()[0][0]\n",
        "index = row_with_nM['i'].to_list()[0]\n",
        "\n",
        "nM1 = 0\n",
        "nM2 = 0\n",
        "# частоты интервалов до модального и после\n",
        "if (index == 0) :\n",
        "    nM2 = interval_df.loc[interval_df['i'] == index + 1]['n_i'].to_list()[0]\n",
        "elif (index == len(interval_df) - 1) :\n",
        "    nM1 = interval_df.loc[interval_df['i'] == index - 1]['n_i'].to_list()[0]\n",
        "else :\n",
        "    nM2 = interval_df.loc[interval_df['i'] == index + 1]['n_i'].to_list()[0]\n",
        "    nM1 = interval_df.loc[interval_df['i'] == index - 1]['n_i'].to_list()[0]\n",
        "\n",
        "M0 = x0 + (nM - nM1) / ((nM - nM1) + (nM - nM2)) * h\n",
        "\n",
        "print(f\"Мода для интервального ряда: {M0}\")"
      ],
      "metadata": {
        "colab": {
          "base_uri": "https://localhost:8080/"
        },
        "id": "E9srsjVVv01F",
        "outputId": "6cf0e54b-49f8-49d2-c02e-4034a1bc1d0c"
      },
      "execution_count": 373,
      "outputs": [
        {
          "output_type": "stream",
          "name": "stdout",
          "text": [
            "Мода для интервального ряда: 447.75\n"
          ]
        }
      ]
    },
    {
      "cell_type": "markdown",
      "source": [
        "Медиана для интервального ряда вычисляется по следующей формуле: $M_e^* = x_0 + \\frac {0.5N - n^k_{m-1}} {n_m} h$, где $N$ - объем выборки, $n_m$ - частота медианного интервала, $n^k_{m-1}$ - накопленная частота предыдущего интервала, $x_0$ - нижняя граница медианного интервала."
      ],
      "metadata": {
        "id": "SmAnjzO24MEf"
      }
    },
    {
      "cell_type": "code",
      "source": [
        "# медианный интервал\n",
        "interval_df_less = interval_df.loc[interval_df['Накопленная n_i'] >= round(interval_df.sum()['n_i']/2)]\n",
        "row_with_frec = interval_df_less.loc[interval_df_less['i'] == len(interval_df_less)]\n",
        "ind_row_with_frec = row_with_frec['i'].to_list()[0]\n",
        "\n",
        "# нижняя граница медианного интервала\n",
        "x02 = row_with_frec['[x_i, x_i+1)'].to_list()[0][0]\n",
        "\n",
        "# частота медианного интервала\n",
        "nm = row_with_frec['n_i'].to_list()[0]\n",
        "\n",
        "# накопленная частота предыдущего интервала\n",
        "nm2k = 0\n",
        "if (ind_row_with_frec != 0) :\n",
        "  nm2k = interval_df.loc[interval_df['i'] == ind_row_with_frec - 1]['Накопленная n_i'].to_list()[0]\n",
        "\n",
        "Me = x02 + (0.5 * N - nm2k) * h / nm\n",
        "\n",
        "print(f\"Медиана для интервального ряда: {Me}\")"
      ],
      "metadata": {
        "colab": {
          "base_uri": "https://localhost:8080/"
        },
        "id": "2lpqJMGU578U",
        "outputId": "5e784e07-bf0d-4f96-ad6a-5e29ec9ddd3a"
      },
      "execution_count": 381,
      "outputs": [
        {
          "output_type": "stream",
          "name": "stdout",
          "text": [
            "Медиана для интервального ряда: 476.07142857142856\n"
          ]
        }
      ]
    },
    {
      "cell_type": "markdown",
      "source": [
        "Коэффициент вариации вычисляется по формуле: $V^* = \\frac {\\sigma_в} {\\overline {x_в}} 100%$."
      ],
      "metadata": {
        "id": "BHRLFysFC-rB"
      }
    },
    {
      "cell_type": "code",
      "source": [
        "# коэффициент вариации\n",
        "V = sigma_x_var / mean_x_var * 100\n",
        "\n",
        "print(f\"Коэффициент вариации для интервального ряда: {V} %\")"
      ],
      "metadata": {
        "colab": {
          "base_uri": "https://localhost:8080/"
        },
        "id": "jZWcrQ1-574w",
        "outputId": "e300af08-124d-4099-f2d0-6e0534a25464"
      },
      "execution_count": 386,
      "outputs": [
        {
          "output_type": "stream",
          "name": "stdout",
          "text": [
            "Коэффициент вариации для интервального ряда: 12.25394794837168 %\n"
          ]
        }
      ]
    },
    {
      "cell_type": "markdown",
      "source": [
        "* Мода $M_0^* = 447.75$ - больше всего элементов выборки имеют значение близкое к $447.75$;\n",
        "* Медиана $M_e^* = 476.071$ - половина чисел принимает значение меньшее, чем 476.071, а половина большее.\n",
        "* Коэффициент вариации $V^* = 12.254%$, $V^* < 30\\%$ - статистическая совокупность считается однородной. Это означает, что большинство вариант находится недалеко от средней, и найденное значение $\\overline {x_в}$ хорошо характеризует центральную тенденцию совокупности."
      ],
      "metadata": {
        "id": "-MBTGvkPEfHk"
      }
    },
    {
      "cell_type": "markdown",
      "metadata": {
        "id": "Y8tMY8xXIdey"
      },
      "source": [
        "## Выводы\n",
        "\n",
        "В ходе выполнения данной практической работы были получены практические навыки нахождения точечных статистических оценок параметров распределения.\n",
        "\n",
        "Для интервального ряда из практической работы №1 были найдены середины интервалов и накопленные частоты, далее для полученных вариант были вычислены условные варианты. Были вычислены условные эмпирические моменты через условные варианты, и с их помощью вычислены начальные и центральные эмпирические моменты. Корректность вычислений была проверена контрольной суммой, которая дала понять, что вычисления были верны.\n",
        "\n",
        "Были посчитаны выборочное среднее и дисперсия с помощью стандартных формул и с помощью условных вариант. Статистические оценки, вычисленные по стандартным формулам и с помощью условных вариант совпали.\n",
        "\n",
        "Была найдена статистическая оценка коэффициентов асимметрии и эксцесса. Имеется правосторонняя асимметрия с удлиненным правым хвостом, эта асимметрия умеренная. Эмпирическое распределение является более низким и пологим относительно нормального распределения. Для интервального ряда была вычислена мода, медиана и коэффициент вариации. Мода $= 447.75$, значит, больше всего элементов выборки имеют значение близкое к $447.75$. Медиана $= 476.071$  - половина чисел принимает значение меньшее, чем $476.071$, а половина большее. Коэффициент вариации $= 12.254$, $V^*<30\\%$ - статистическая совокупность считается однородной. Это означает, что большинство вариант находится недалеко от средней, и найденное значение $\\overline {x_в}$ хорошо характеризует центральную тенденцию совокупности."
      ]
    }
  ],
  "metadata": {
    "kernelspec": {
      "display_name": "Python 3",
      "language": "python",
      "name": "python3"
    },
    "language_info": {
      "codemirror_mode": {
        "name": "ipython",
        "version": 3
      },
      "file_extension": ".py",
      "mimetype": "text/x-python",
      "name": "python",
      "nbconvert_exporter": "python",
      "pygments_lexer": "ipython3",
      "version": "3.8.10"
    },
    "colab": {
      "provenance": []
    }
  },
  "nbformat": 4,
  "nbformat_minor": 0
}