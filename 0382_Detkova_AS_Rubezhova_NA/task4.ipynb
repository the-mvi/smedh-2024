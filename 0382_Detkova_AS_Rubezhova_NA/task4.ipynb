{
  "cells": [
    {
      "cell_type": "markdown",
      "metadata": {
        "id": "TlcZYRoeIdeo"
      },
      "source": [
        "# Практическая работа №4: Элементы корреляционного анализа. Проверка статистической гипотезы о равенстве коэффициента корреляции нулю.\n",
        "\n",
        "Выполнили студентки гр. 0382 Деткова Анна и Рубежова Наталия. Вариант №10"
      ]
    },
    {
      "cell_type": "markdown",
      "metadata": {
        "id": "GDoLgkRbIder"
      },
      "source": [
        "## Цель работы\n",
        "\n",
        "Освоение основных понятий, связанных с корреляционной зависимостью между случайными величинами, статистическими гипотезами и проверкой их «справедливости»."
      ]
    },
    {
      "cell_type": "markdown",
      "metadata": {
        "id": "yxE5xyPzIdes"
      },
      "source": [
        "## Основные теоретические положения\n",
        "\n",
        "Рассматривается система случайных величин $\\{X,Y\\}$.<br>\n",
        "\n",
        "Это случайные величины могут быть **независимы**: $f(x,y)=f_1(x) \\cdot f_2(y)$.<br>\n",
        "\n",
        "Иначе может быть:\n",
        "- **Функциональная зависимость:**<br>\n",
        "$y=g(x)$.\n",
        "- **Статистическая зависимость:**<br>\n",
        "$\\phi(x|y) = f(x,y) / f_2(y);\\\\ \\phi(y|x) = f(x,y) / f_1(x)$.<br>\n",
        "Одним из видов (частным случаем) статистической зависимости является является **корреляционная зависимость**.\n",
        "\n",
        "---\n",
        "\n",
        "**Корреляционной** называют статистическую зависимость двух случайных величин, при которой изменение значения одной из СВ приводит к изменению мат. ожидания другой СВ.<br>\n",
        "\n",
        "$$M(X|y)=q_1(y)\\\\\n",
        "M(Y|x)=q_2(x)$$\n",
        "\n",
        "Такие функции называются **функциями регрессии**.\n",
        "\n",
        "**Корреляционный момент**: $\\mu_{xy} = M\\{[x-M(X)] \\cdot [y - M(Y)]\\}$.<br>\n",
        "\n",
        "**Коэффициент корреляции**: $r_{xy} = \\frac {\\mu_{xy}} {\\sigma_x \\sigma_y}$.<br>\n",
        "\n",
        "Для коэффициента корреляции справедливо соотношение: $|r_{xy}| \\le 1$.<br>\n",
        "\n",
        "Случайные величины $X$ и $Y$ называются **коррелированными**, если их корреляционный момент (то же самое, что коэффициент корреляции) отличен от нуля. В противном случае эти величины **некоррелированны**.<br>\n",
        "\n",
        "Если случайные величины $X$ и $Y$, то они **зависимы**. Обратное предположение в общем случае неверно.<br>\n",
        "\n",
        "Наглядные формы этих утверждений:<br>\n",
        "- $X$ и $Y$ коррелированы $\\Rightarrow$ СВ $X$ и $Y$ зависимы.\n",
        "- $X$ и $Y$ независимы $\\Rightarrow$ СВ $X$ и $Y$ некоррелированы.\n",
        "\n",
        "Если СВ $X$ и $Y$ коррелированы и обе функции регресии $X$ на $Y$ и $Y$ на $X$ линейны, то говорят, что $X$ и $Y$ связаны **линейной корреляционной зависимостью**. В частности, это имеет место, если двумерная СВ $\\{X,Y\\}$ распределена нормально.<br>\n",
        "\n",
        "Коэффициент корреляции служит **мерой тесноты линейной зависимости** между СВ $X$ и $Y$. Если $|r_{xy}| = 1$ зависимость становится **функциональной**.\n",
        "\n",
        "---\n",
        "\n",
        "Значение $\\overline r_{xy}$ - **статистическая оценка $r_{xy}$** - коэффициента корреляции. Вычисляется по формуле: $\\overline r_{xy} = \\frac {\\sum_{i=1}^{K_y} \\sum_{j=1}^{K_x} n_{ij}y_ix_j - N \\overline x_{в} \\overline y_{в}} {N S_x S_y}$.<br>\n",
        "\n",
        "Причем: $\\sum_{i=1}^{K_y} \\sum_{j=1}^{K_x} n_{ij}y_ix_j = \\sum_{i=1}^{K_y} y_i \\sum_{j=1}^{K_x} n_{ij}x_j = \\sum_{j=1}^{K_x} x_j \\sum_{i=1}^{K_y} n_{ij}y_i$.\n",
        "\n",
        "---\n",
        "\n",
        "**Доверительный интервал для выборочного коэффициента корреляции**<br>\n",
        "\n",
        "Распределение $\\overline r_{xy}$ при определенных условиях можно удовлетворительно аппроксимировать нормальным законом. Однако при увеличении интенсивности корреляционной связи распределение $\\overline r_{xy}$ становится все более ассиметричным.<br>\n",
        "\n",
        "С помощью преобразования Фишера перейдем к СВ $z$:<br>\n",
        "$$\\overline z = 0.5 \\ln{\\frac {1 + \\overline r_{xy}} {1 - \\overline r_{xy}}} = 1.1513 \\lg{\\frac {1 + \\overline r_{xy}} {1 - \\overline r_{xy}}}$$\n",
        "\n",
        "Распределение $z$ при неограниченном возрастании объема выборки ассимптотически нормальное со значением СКВО, равным: $$\\overline \\sigma_z = \\frac 1 {\\sqrt{N - 3}}$$\n",
        "\n",
        "В результате доверительный интервал для $r_{xy}$ генеральной совокупности с доверительной вероятностью $\\gamma$ определяется по следующей схеме:\n",
        "1. Вычисляется выборочное значение $\\overline z$;\n",
        "2. Вычисляется значение $\\overline \\sigma_z$;\n",
        "3. Доверительный интервал для генерального значения представляется в виде:<br>\n",
        "$$(\\overline z - \\lambda(\\gamma) \\overline \\sigma_z, \\overline z + \\lambda(\\gamma) \\overline \\sigma_z)$$\n",
        "где значение $\\lambda(\\gamma)$ должно удовлетворять условию: $\\Phi[\\lambda(\\gamma)]=\\frac \\gamma 2$.\n",
        "4. Для пересчета в доверительный интервал для коэффициента корреляции с тем же значением $\\gamma$ необходимо воспользоваться обратным преобразованием Фишера:\n",
        "$$r = th(z) = \\frac {e^z - e^{-z}} {e^z + e^{-z}}$$\n",
        "\n",
        "---\n",
        "\n",
        "**Проверка гипотезы о значимости выборочного коэффициента корреляции**<br>\n",
        "\n",
        "Пусть имеется выборка размера $N$ значений двумерной нормально распределенной СВ $\\{X,Y\\}$ и вычислено значение выборочного коэффициента корреляции $\\overline r_{xy} \\ne 0$. Поскольку $\\overline r_{xy}$ - СВ, то это не значит, что $r_{xy}$ - коэффициент коррреляции для генеральной совокупности тоже отличен от нуля.<br>\n",
        "\n",
        "Возникает необходимость проверить гипотезу: $$H_0: r_{xy} = 0$$\n",
        "Альтернативной будет гипотеза: $$H_1: r_{xy} \\ne 0$$\n",
        "\n",
        "Если основная гипотеза $H_0$ отвергается, то это означает, что выборочный коэффициент корреляции $\\overline r_{xy}$ значимо отличается от нуля (значим). В противном случае $\\overline r_{xy}$ - незначим.<br>\n",
        "\n",
        "В качестве критерия проверки стат. гипотезы о значимости выборочного коэффициента корреляции можно принять СВ: $$T=\\frac {\\overline r_{xy} \\sqrt{N-2}} {\\sqrt{1 - \\overline r_{xy}^2}}$$\n",
        "\n",
        "При справедливости нулевой гипотезы $H_0$ СВ $T$ распределена по закону Стьюдента с $k=N-2$ степенями свободы. Критическая область для данного критерия двусторонняя.<br>\n",
        "\n",
        "Стандартная схема проверки гипотезы:<br>\n",
        "1. Вычисляется $T_{набл}$;\n",
        "2. По заданному значению уровня значимости $\\alpha$ и значению $k$ из табл. \"Критические точки распределения Стьюдента\" определяется значение $t_{крит}(\\alpha,k)$;\n",
        "3. Если $|T_{набл}| \\le t_{крит}(\\alpha,k)$ - нет оснований отвергать гипотезу $H_0$;\n",
        "4. Если $|T_{набл}| > t_{крит}(\\alpha,k)$ - основная гипотеза $H_0$ с выборочными данными и должна быть отвергнута."
      ]
    },
    {
      "cell_type": "markdown",
      "metadata": {
        "id": "yAL88oJVIdeu"
      },
      "source": [
        "## Постановка задачи\n",
        "\n",
        "Из заданной генеральной совокупности сформировать выборку по второму признаку. Провести статистическую обработку второй выборки в объёме практических работ №1 и №2, с целью определения точечных статистических оценок параметров распределения исследуемого признака (математического ожидания, дисперсии, среднеквадратичного отклонения, асимметрии, эксцесса и коэффициента вариации). Для системы двух случайных величин $X$ (первый признак) и $Y$ (второй признак) сформировать двумерную выборку и найти статистическую оценку коэффициента корреляции, построить доверительный интервал для коэффициента корреляции и осуществить проверку статистической гипотезы о равенстве коэффициента корреляции нулю. Полученные результаты содержательно проинтерпретировать."
      ]
    },
    {
      "cell_type": "markdown",
      "metadata": {
        "id": "LmytmTE0Idev"
      },
      "source": [
        "## Выполнение работы\n",
        "\n",
        "По возможности каждый пункт работы выполняется с помощью кода. Используется язык программирования Python."
      ]
    },
    {
      "cell_type": "code",
      "execution_count": 146,
      "metadata": {
        "id": "Ep58t4T0Idew"
      },
      "outputs": [],
      "source": [
        "# Подключение библиотек\n",
        "import pandas\n",
        "import numpy as np\n",
        "import matplotlib.pyplot as plt\n",
        "import math"
      ]
    },
    {
      "cell_type": "markdown",
      "metadata": {
        "id": "p30APbBMIdey"
      },
      "source": [
        "### 1. Провести статистическую обработку второй выборки в объеме практических работ №1 и №2, с целью определения точечных статистических оценок параметров распределения исследуемого признака (математического ожидания, дисперсии, среднеквадратичного отклонения, асимметрии, эксцесса, моды, медианы и коэффициента вариации). Оформить результаты в виде таблицы, сделать выводы."
      ]
    },
    {
      "cell_type": "markdown",
      "source": [
        "Загрузка генеральной совокупности и формирование выборки простым бесповторным отбором."
      ],
      "metadata": {
        "id": "YtD8stPon0vc"
      }
    },
    {
      "cell_type": "code",
      "source": [
        "# Загрузка генеральной совокупности из csv-формата в тип данных Data Frame\n",
        "general_df = pandas.read_csv('sample.csv', comment='#')\n",
        "\n",
        "# Заданный объем выборки\n",
        "N = 117\n",
        "\n",
        "# Формирование выборки. Способ формирования: простой бесповторный отбор\n",
        "sample_df = general_df.sample(n=N, replace=False)"
      ],
      "metadata": {
        "id": "kG-H4QU9FT33"
      },
      "execution_count": 189,
      "outputs": []
    },
    {
      "cell_type": "markdown",
      "source": [
        "Построение ранжированного, вариационного и интервального рядов по признакам $\\nu$ и $E$."
      ],
      "metadata": {
        "id": "26FaUcN4nHiR"
      }
    },
    {
      "cell_type": "code",
      "source": [
        "# Ранжированный ряд по признаку nu\n",
        "ranked_df_nu = sample_df.sort_values(by='nu')\n",
        "# Добавление колонки с рангом\n",
        "ranked_df_nu['rank']=[i for i in range(0, sample_df.shape[0])]\n",
        "# Ранжированный ряд по признаку E\n",
        "ranked_df_e = sample_df.sort_values(by='E')\n",
        "# Добавление колонки с рангом\n",
        "ranked_df_e['rank']=[i for i in (range(0, sample_df.shape[0]))]\n",
        "\n",
        "# Вычисление наибольшего и наименьшего значения в выборке по признаку nu\n",
        "x_max_nu = max(ranked_df_nu['nu'])\n",
        "x_min_nu = min(ranked_df_nu['nu'])\n",
        "\n",
        "# Вычисление наибольшего и наименьшего значения в выборке по признаку E\n",
        "x_max_e = max(ranked_df_e['E'])\n",
        "x_min_e = min(ranked_df_e['E'])"
      ],
      "metadata": {
        "id": "xI-pDA5Odd5R"
      },
      "execution_count": 190,
      "outputs": []
    },
    {
      "cell_type": "code",
      "source": [
        "# Вариационный ряд из ранжированного ряда по признаку nu\n",
        "variation_df_nu = ranked_df_nu.drop_duplicates(subset='nu', keep='first')\n",
        "\n",
        "# Вариационный ряд из ранжированного ряда по признаку E\n",
        "variation_df_e = ranked_df_e.drop_duplicates(subset='E', keep='first')"
      ],
      "metadata": {
        "id": "BqFVbHrqdhwI"
      },
      "execution_count": 191,
      "outputs": []
    },
    {
      "cell_type": "code",
      "source": [
        "# Получение интервального ряда\n",
        "# Объем выборки\n",
        "N=117\n",
        "# Количество интервалов по формуле Стерджесса\n",
        "k = int(np.floor(1 + 3.31 * np.log10(N)))"
      ],
      "metadata": {
        "id": "aJFWMHYpdtMM"
      },
      "execution_count": 192,
      "outputs": []
    },
    {
      "cell_type": "code",
      "source": [
        "# Ширина интервалов h_nu\n",
        "h_nu = int(np.ceil((x_max_nu - x_min_nu) / k))\n",
        "# Ширина интервалов h_e\n",
        "h_e = int(np.ceil((x_max_e - x_min_e) / k))\n",
        "\n",
        "# Интервальный ряд по признаку nu\n",
        "# Границы интервалов\n",
        "# Вставим левую границу для i=1 первого интервала\n",
        "left = x_min_nu + (1-1)*h_nu\n",
        "left_borders = [left]\n",
        "right_borders = []\n",
        "# Вставим в списки итеративно следующие границы\n",
        "for i in range(1, k):\n",
        "  left_borders.append(x_min_nu + h_nu * i)\n",
        "  right_borders.append(x_min_nu + h_nu * i)\n",
        "# Добавим последнюю правую границу\n",
        "right = x_min_nu + k*h_nu\n",
        "right_borders.append(right)\n",
        "# Разобьем на интервалы\n",
        "intervals_nu= []\n",
        "for i in range(len(left_borders)):\n",
        "  intervals_nu.append((left_borders[i], right_borders[i]))\n",
        "\n",
        "# Вычисляем середины интервалов\n",
        "mid_of_intervals_nu = []\n",
        "for i in range(len(intervals_nu)):\n",
        "  left, right = intervals_nu[i]\n",
        "  mid_of_intervals_nu.append((left + right) / 2)\n",
        "\n",
        "# Абсолютные частоты для интервалов\n",
        "abs_freq_nu = [0 for i in range(0, k)]\n",
        "# Считаем частоту попаданий вариант в каждый интервал\n",
        "for varianta in variation_df_nu['nu']:\n",
        "  for i in range(len(intervals_nu)):\n",
        "    left, right = intervals_nu[i]\n",
        "    if varianta < right and varianta >= left:\n",
        "      abs_freq_nu[i]+=1\n",
        "# Количество вариант\n",
        "variant_count = variation_df_nu['nu'].shape[0]\n",
        "# Относительные частоты для интервалов\n",
        "rel_freq_nu = [freq / variant_count for freq in abs_freq_nu]\n",
        "\n",
        "# Накопленные частоты для интервалов\n",
        "accum_abs_freq_nu = []\n",
        "accum_rel_freq_nu = []\n",
        "for i in range(len(abs_freq_nu)):\n",
        "  accum_abs_freq_nu.append(np.sum(abs_freq_nu[:i+1]))\n",
        "  accum_rel_freq_nu.append(np.sum(rel_freq_nu[:i+1]))\n",
        "\n",
        "# Добавляем необходимые колонки для Таблицы 1\n",
        "interval_df_nu = pandas.DataFrame({'i': [m for m in range(1, k+1)]})\n",
        "interval_df_nu[\"[x_i, x_i+1)\"] = intervals_nu\n",
        "interval_df_nu['Середина i интервала'] = mid_of_intervals_nu\n",
        "interval_df_nu['n_i'] = abs_freq_nu\n",
        "interval_df_nu['p*_i'] = rel_freq_nu\n",
        "interval_df_nu['Накопленная n_i'] = accum_abs_freq_nu\n",
        "interval_df_nu['Накопленная p*_i'] = accum_rel_freq_nu\n",
        "\n",
        "print(\"Интервальный ряд по признаку nu:\")\n",
        "interval_df_nu.style.set_properties(**{'text-align': 'center'}).hide(axis='index')"
      ],
      "metadata": {
        "colab": {
          "base_uri": "https://localhost:8080/",
          "height": 286
        },
        "id": "xt1Q9bAXdq7g",
        "outputId": "373fbc95-eafe-46e9-ed69-4ebc3594fcf3"
      },
      "execution_count": 193,
      "outputs": [
        {
          "output_type": "stream",
          "name": "stdout",
          "text": [
            "Интервальный ряд по признаку nu:\n"
          ]
        },
        {
          "output_type": "execute_result",
          "data": {
            "text/plain": [
              "<pandas.io.formats.style.Styler at 0x7875ddf45c60>"
            ],
            "text/html": [
              "<style type=\"text/css\">\n",
              "#T_6e45c_row0_col0, #T_6e45c_row0_col1, #T_6e45c_row0_col2, #T_6e45c_row0_col3, #T_6e45c_row0_col4, #T_6e45c_row0_col5, #T_6e45c_row0_col6, #T_6e45c_row1_col0, #T_6e45c_row1_col1, #T_6e45c_row1_col2, #T_6e45c_row1_col3, #T_6e45c_row1_col4, #T_6e45c_row1_col5, #T_6e45c_row1_col6, #T_6e45c_row2_col0, #T_6e45c_row2_col1, #T_6e45c_row2_col2, #T_6e45c_row2_col3, #T_6e45c_row2_col4, #T_6e45c_row2_col5, #T_6e45c_row2_col6, #T_6e45c_row3_col0, #T_6e45c_row3_col1, #T_6e45c_row3_col2, #T_6e45c_row3_col3, #T_6e45c_row3_col4, #T_6e45c_row3_col5, #T_6e45c_row3_col6, #T_6e45c_row4_col0, #T_6e45c_row4_col1, #T_6e45c_row4_col2, #T_6e45c_row4_col3, #T_6e45c_row4_col4, #T_6e45c_row4_col5, #T_6e45c_row4_col6, #T_6e45c_row5_col0, #T_6e45c_row5_col1, #T_6e45c_row5_col2, #T_6e45c_row5_col3, #T_6e45c_row5_col4, #T_6e45c_row5_col5, #T_6e45c_row5_col6, #T_6e45c_row6_col0, #T_6e45c_row6_col1, #T_6e45c_row6_col2, #T_6e45c_row6_col3, #T_6e45c_row6_col4, #T_6e45c_row6_col5, #T_6e45c_row6_col6 {\n",
              "  text-align: center;\n",
              "}\n",
              "</style>\n",
              "<table id=\"T_6e45c\" class=\"dataframe\">\n",
              "  <thead>\n",
              "    <tr>\n",
              "      <th id=\"T_6e45c_level0_col0\" class=\"col_heading level0 col0\" >i</th>\n",
              "      <th id=\"T_6e45c_level0_col1\" class=\"col_heading level0 col1\" >[x_i, x_i+1)</th>\n",
              "      <th id=\"T_6e45c_level0_col2\" class=\"col_heading level0 col2\" >Середина i интервала</th>\n",
              "      <th id=\"T_6e45c_level0_col3\" class=\"col_heading level0 col3\" >n_i</th>\n",
              "      <th id=\"T_6e45c_level0_col4\" class=\"col_heading level0 col4\" >p*_i</th>\n",
              "      <th id=\"T_6e45c_level0_col5\" class=\"col_heading level0 col5\" >Накопленная n_i</th>\n",
              "      <th id=\"T_6e45c_level0_col6\" class=\"col_heading level0 col6\" >Накопленная p*_i</th>\n",
              "    </tr>\n",
              "  </thead>\n",
              "  <tbody>\n",
              "    <tr>\n",
              "      <td id=\"T_6e45c_row0_col0\" class=\"data row0 col0\" >1</td>\n",
              "      <td id=\"T_6e45c_row0_col1\" class=\"data row0 col1\" >(320, 359)</td>\n",
              "      <td id=\"T_6e45c_row0_col2\" class=\"data row0 col2\" >339.500000</td>\n",
              "      <td id=\"T_6e45c_row0_col3\" class=\"data row0 col3\" >4</td>\n",
              "      <td id=\"T_6e45c_row0_col4\" class=\"data row0 col4\" >0.044444</td>\n",
              "      <td id=\"T_6e45c_row0_col5\" class=\"data row0 col5\" >4</td>\n",
              "      <td id=\"T_6e45c_row0_col6\" class=\"data row0 col6\" >0.044444</td>\n",
              "    </tr>\n",
              "    <tr>\n",
              "      <td id=\"T_6e45c_row1_col0\" class=\"data row1 col0\" >2</td>\n",
              "      <td id=\"T_6e45c_row1_col1\" class=\"data row1 col1\" >(359, 398)</td>\n",
              "      <td id=\"T_6e45c_row1_col2\" class=\"data row1 col2\" >378.500000</td>\n",
              "      <td id=\"T_6e45c_row1_col3\" class=\"data row1 col3\" >10</td>\n",
              "      <td id=\"T_6e45c_row1_col4\" class=\"data row1 col4\" >0.111111</td>\n",
              "      <td id=\"T_6e45c_row1_col5\" class=\"data row1 col5\" >14</td>\n",
              "      <td id=\"T_6e45c_row1_col6\" class=\"data row1 col6\" >0.155556</td>\n",
              "    </tr>\n",
              "    <tr>\n",
              "      <td id=\"T_6e45c_row2_col0\" class=\"data row2 col0\" >3</td>\n",
              "      <td id=\"T_6e45c_row2_col1\" class=\"data row2 col1\" >(398, 437)</td>\n",
              "      <td id=\"T_6e45c_row2_col2\" class=\"data row2 col2\" >417.500000</td>\n",
              "      <td id=\"T_6e45c_row2_col3\" class=\"data row2 col3\" >21</td>\n",
              "      <td id=\"T_6e45c_row2_col4\" class=\"data row2 col4\" >0.233333</td>\n",
              "      <td id=\"T_6e45c_row2_col5\" class=\"data row2 col5\" >35</td>\n",
              "      <td id=\"T_6e45c_row2_col6\" class=\"data row2 col6\" >0.388889</td>\n",
              "    </tr>\n",
              "    <tr>\n",
              "      <td id=\"T_6e45c_row3_col0\" class=\"data row3 col0\" >4</td>\n",
              "      <td id=\"T_6e45c_row3_col1\" class=\"data row3 col1\" >(437, 476)</td>\n",
              "      <td id=\"T_6e45c_row3_col2\" class=\"data row3 col2\" >456.500000</td>\n",
              "      <td id=\"T_6e45c_row3_col3\" class=\"data row3 col3\" >20</td>\n",
              "      <td id=\"T_6e45c_row3_col4\" class=\"data row3 col4\" >0.222222</td>\n",
              "      <td id=\"T_6e45c_row3_col5\" class=\"data row3 col5\" >55</td>\n",
              "      <td id=\"T_6e45c_row3_col6\" class=\"data row3 col6\" >0.611111</td>\n",
              "    </tr>\n",
              "    <tr>\n",
              "      <td id=\"T_6e45c_row4_col0\" class=\"data row4 col0\" >5</td>\n",
              "      <td id=\"T_6e45c_row4_col1\" class=\"data row4 col1\" >(476, 515)</td>\n",
              "      <td id=\"T_6e45c_row4_col2\" class=\"data row4 col2\" >495.500000</td>\n",
              "      <td id=\"T_6e45c_row4_col3\" class=\"data row4 col3\" >18</td>\n",
              "      <td id=\"T_6e45c_row4_col4\" class=\"data row4 col4\" >0.200000</td>\n",
              "      <td id=\"T_6e45c_row4_col5\" class=\"data row4 col5\" >73</td>\n",
              "      <td id=\"T_6e45c_row4_col6\" class=\"data row4 col6\" >0.811111</td>\n",
              "    </tr>\n",
              "    <tr>\n",
              "      <td id=\"T_6e45c_row5_col0\" class=\"data row5 col0\" >6</td>\n",
              "      <td id=\"T_6e45c_row5_col1\" class=\"data row5 col1\" >(515, 554)</td>\n",
              "      <td id=\"T_6e45c_row5_col2\" class=\"data row5 col2\" >534.500000</td>\n",
              "      <td id=\"T_6e45c_row5_col3\" class=\"data row5 col3\" >11</td>\n",
              "      <td id=\"T_6e45c_row5_col4\" class=\"data row5 col4\" >0.122222</td>\n",
              "      <td id=\"T_6e45c_row5_col5\" class=\"data row5 col5\" >84</td>\n",
              "      <td id=\"T_6e45c_row5_col6\" class=\"data row5 col6\" >0.933333</td>\n",
              "    </tr>\n",
              "    <tr>\n",
              "      <td id=\"T_6e45c_row6_col0\" class=\"data row6 col0\" >7</td>\n",
              "      <td id=\"T_6e45c_row6_col1\" class=\"data row6 col1\" >(554, 593)</td>\n",
              "      <td id=\"T_6e45c_row6_col2\" class=\"data row6 col2\" >573.500000</td>\n",
              "      <td id=\"T_6e45c_row6_col3\" class=\"data row6 col3\" >6</td>\n",
              "      <td id=\"T_6e45c_row6_col4\" class=\"data row6 col4\" >0.066667</td>\n",
              "      <td id=\"T_6e45c_row6_col5\" class=\"data row6 col5\" >90</td>\n",
              "      <td id=\"T_6e45c_row6_col6\" class=\"data row6 col6\" >1.000000</td>\n",
              "    </tr>\n",
              "  </tbody>\n",
              "</table>\n"
            ]
          },
          "metadata": {},
          "execution_count": 193
        }
      ]
    },
    {
      "cell_type": "code",
      "source": [
        "# Интервальный ряд по признаку E\n",
        "# Границы интервалов\n",
        "# Вставим левую границу для i=1 первого интервала\n",
        "left = x_min_e + (1-1)*h_e\n",
        "left_borders = [left]\n",
        "right_borders = []\n",
        "# Вставим в списки итеративно следующие границы\n",
        "for i in range(1, k):\n",
        "  left_borders.append(x_min_e + h_e * i)\n",
        "  right_borders.append(x_min_e + h_e * i)\n",
        "# Добавим последнюю правую границу\n",
        "right = x_min_e + k*h_e\n",
        "right_borders.append(right)\n",
        "# Разобьем на интервалы\n",
        "intervals_e= []\n",
        "for i in range(len(left_borders)):\n",
        "  intervals_e.append((left_borders[i], right_borders[i]))\n",
        "\n",
        "# Вычисляем середины интервалов\n",
        "mid_of_intervals_e = []\n",
        "for i in range(len(intervals_e)):\n",
        "  left, right = intervals_e[i]\n",
        "  mid_of_intervals_e.append((left + right) / 2)\n",
        "\n",
        "# Абсолютные частоты для интервалов\n",
        "abs_freq_e = [0 for i in range(0, k)]\n",
        "# Считаем частоту попаданий вариант в каждый интервал\n",
        "for varianta in variation_df_e['E']:\n",
        "  for i in range(len(intervals_e)):\n",
        "    left, right = intervals_e[i]\n",
        "    if varianta < right and varianta >= left:\n",
        "      abs_freq_e[i]+=1\n",
        "# Количество вариант\n",
        "variant_count = variation_df_e['E'].shape[0]\n",
        "# Относительные частоты для интервалов\n",
        "rel_freq_e = [freq / variant_count for freq in abs_freq_e]\n",
        "\n",
        "# Накопленные частоты для интервалов\n",
        "accum_abs_freq_e = []\n",
        "accum_rel_freq_e = []\n",
        "for i in range(len(abs_freq_e)):\n",
        "  accum_abs_freq_e.append(np.sum(abs_freq_e[:i+1]))\n",
        "  accum_rel_freq_e.append(np.sum(rel_freq_e[:i+1]))\n",
        "\n",
        "# Добавляем необходимые колонки для Таблицы 1\n",
        "interval_df_e = pandas.DataFrame({'i': [m for m in range(1, k+1)]})\n",
        "interval_df_e[\"[x_i, x_i+1)\"] = intervals_e\n",
        "interval_df_e['Середина i интервала'] = mid_of_intervals_e\n",
        "interval_df_e['n_i'] = abs_freq_e\n",
        "interval_df_e['p*_i'] = rel_freq_e\n",
        "interval_df_e['Накопленная n_i'] = accum_abs_freq_e\n",
        "interval_df_e['Накопленная p*_i'] = accum_rel_freq_e\n",
        "\n",
        "print(\"Интервальный ряд по признаку E:\")\n",
        "interval_df_e.style.set_properties(**{'text-align': 'center'}).hide(axis='index')"
      ],
      "metadata": {
        "colab": {
          "base_uri": "https://localhost:8080/",
          "height": 286
        },
        "id": "2igrqbBzIRba",
        "outputId": "4f8943a4-3589-4632-e327-2e3200c4501b"
      },
      "execution_count": 194,
      "outputs": [
        {
          "output_type": "stream",
          "name": "stdout",
          "text": [
            "Интервальный ряд по признаку E:\n"
          ]
        },
        {
          "output_type": "execute_result",
          "data": {
            "text/plain": [
              "<pandas.io.formats.style.Styler at 0x7875ddf0e8f0>"
            ],
            "text/html": [
              "<style type=\"text/css\">\n",
              "#T_144c8_row0_col0, #T_144c8_row0_col1, #T_144c8_row0_col2, #T_144c8_row0_col3, #T_144c8_row0_col4, #T_144c8_row0_col5, #T_144c8_row0_col6, #T_144c8_row1_col0, #T_144c8_row1_col1, #T_144c8_row1_col2, #T_144c8_row1_col3, #T_144c8_row1_col4, #T_144c8_row1_col5, #T_144c8_row1_col6, #T_144c8_row2_col0, #T_144c8_row2_col1, #T_144c8_row2_col2, #T_144c8_row2_col3, #T_144c8_row2_col4, #T_144c8_row2_col5, #T_144c8_row2_col6, #T_144c8_row3_col0, #T_144c8_row3_col1, #T_144c8_row3_col2, #T_144c8_row3_col3, #T_144c8_row3_col4, #T_144c8_row3_col5, #T_144c8_row3_col6, #T_144c8_row4_col0, #T_144c8_row4_col1, #T_144c8_row4_col2, #T_144c8_row4_col3, #T_144c8_row4_col4, #T_144c8_row4_col5, #T_144c8_row4_col6, #T_144c8_row5_col0, #T_144c8_row5_col1, #T_144c8_row5_col2, #T_144c8_row5_col3, #T_144c8_row5_col4, #T_144c8_row5_col5, #T_144c8_row5_col6, #T_144c8_row6_col0, #T_144c8_row6_col1, #T_144c8_row6_col2, #T_144c8_row6_col3, #T_144c8_row6_col4, #T_144c8_row6_col5, #T_144c8_row6_col6 {\n",
              "  text-align: center;\n",
              "}\n",
              "</style>\n",
              "<table id=\"T_144c8\" class=\"dataframe\">\n",
              "  <thead>\n",
              "    <tr>\n",
              "      <th id=\"T_144c8_level0_col0\" class=\"col_heading level0 col0\" >i</th>\n",
              "      <th id=\"T_144c8_level0_col1\" class=\"col_heading level0 col1\" >[x_i, x_i+1)</th>\n",
              "      <th id=\"T_144c8_level0_col2\" class=\"col_heading level0 col2\" >Середина i интервала</th>\n",
              "      <th id=\"T_144c8_level0_col3\" class=\"col_heading level0 col3\" >n_i</th>\n",
              "      <th id=\"T_144c8_level0_col4\" class=\"col_heading level0 col4\" >p*_i</th>\n",
              "      <th id=\"T_144c8_level0_col5\" class=\"col_heading level0 col5\" >Накопленная n_i</th>\n",
              "      <th id=\"T_144c8_level0_col6\" class=\"col_heading level0 col6\" >Накопленная p*_i</th>\n",
              "    </tr>\n",
              "  </thead>\n",
              "  <tbody>\n",
              "    <tr>\n",
              "      <td id=\"T_144c8_row0_col0\" class=\"data row0 col0\" >1</td>\n",
              "      <td id=\"T_144c8_row0_col1\" class=\"data row0 col1\" >(62.6, 79.6)</td>\n",
              "      <td id=\"T_144c8_row0_col2\" class=\"data row0 col2\" >71.100000</td>\n",
              "      <td id=\"T_144c8_row0_col3\" class=\"data row0 col3\" >4</td>\n",
              "      <td id=\"T_144c8_row0_col4\" class=\"data row0 col4\" >0.035714</td>\n",
              "      <td id=\"T_144c8_row0_col5\" class=\"data row0 col5\" >4</td>\n",
              "      <td id=\"T_144c8_row0_col6\" class=\"data row0 col6\" >0.035714</td>\n",
              "    </tr>\n",
              "    <tr>\n",
              "      <td id=\"T_144c8_row1_col0\" class=\"data row1 col0\" >2</td>\n",
              "      <td id=\"T_144c8_row1_col1\" class=\"data row1 col1\" >(79.6, 96.6)</td>\n",
              "      <td id=\"T_144c8_row1_col2\" class=\"data row1 col2\" >88.100000</td>\n",
              "      <td id=\"T_144c8_row1_col3\" class=\"data row1 col3\" >5</td>\n",
              "      <td id=\"T_144c8_row1_col4\" class=\"data row1 col4\" >0.044643</td>\n",
              "      <td id=\"T_144c8_row1_col5\" class=\"data row1 col5\" >9</td>\n",
              "      <td id=\"T_144c8_row1_col6\" class=\"data row1 col6\" >0.080357</td>\n",
              "    </tr>\n",
              "    <tr>\n",
              "      <td id=\"T_144c8_row2_col0\" class=\"data row2 col0\" >3</td>\n",
              "      <td id=\"T_144c8_row2_col1\" class=\"data row2 col1\" >(96.6, 113.6)</td>\n",
              "      <td id=\"T_144c8_row2_col2\" class=\"data row2 col2\" >105.100000</td>\n",
              "      <td id=\"T_144c8_row2_col3\" class=\"data row2 col3\" >22</td>\n",
              "      <td id=\"T_144c8_row2_col4\" class=\"data row2 col4\" >0.196429</td>\n",
              "      <td id=\"T_144c8_row2_col5\" class=\"data row2 col5\" >31</td>\n",
              "      <td id=\"T_144c8_row2_col6\" class=\"data row2 col6\" >0.276786</td>\n",
              "    </tr>\n",
              "    <tr>\n",
              "      <td id=\"T_144c8_row3_col0\" class=\"data row3 col0\" >4</td>\n",
              "      <td id=\"T_144c8_row3_col1\" class=\"data row3 col1\" >(113.6, 130.6)</td>\n",
              "      <td id=\"T_144c8_row3_col2\" class=\"data row3 col2\" >122.100000</td>\n",
              "      <td id=\"T_144c8_row3_col3\" class=\"data row3 col3\" >28</td>\n",
              "      <td id=\"T_144c8_row3_col4\" class=\"data row3 col4\" >0.250000</td>\n",
              "      <td id=\"T_144c8_row3_col5\" class=\"data row3 col5\" >59</td>\n",
              "      <td id=\"T_144c8_row3_col6\" class=\"data row3 col6\" >0.526786</td>\n",
              "    </tr>\n",
              "    <tr>\n",
              "      <td id=\"T_144c8_row4_col0\" class=\"data row4 col0\" >5</td>\n",
              "      <td id=\"T_144c8_row4_col1\" class=\"data row4 col1\" >(130.6, 147.6)</td>\n",
              "      <td id=\"T_144c8_row4_col2\" class=\"data row4 col2\" >139.100000</td>\n",
              "      <td id=\"T_144c8_row4_col3\" class=\"data row4 col3\" >29</td>\n",
              "      <td id=\"T_144c8_row4_col4\" class=\"data row4 col4\" >0.258929</td>\n",
              "      <td id=\"T_144c8_row4_col5\" class=\"data row4 col5\" >88</td>\n",
              "      <td id=\"T_144c8_row4_col6\" class=\"data row4 col6\" >0.785714</td>\n",
              "    </tr>\n",
              "    <tr>\n",
              "      <td id=\"T_144c8_row5_col0\" class=\"data row5 col0\" >6</td>\n",
              "      <td id=\"T_144c8_row5_col1\" class=\"data row5 col1\" >(147.6, 164.6)</td>\n",
              "      <td id=\"T_144c8_row5_col2\" class=\"data row5 col2\" >156.100000</td>\n",
              "      <td id=\"T_144c8_row5_col3\" class=\"data row5 col3\" >16</td>\n",
              "      <td id=\"T_144c8_row5_col4\" class=\"data row5 col4\" >0.142857</td>\n",
              "      <td id=\"T_144c8_row5_col5\" class=\"data row5 col5\" >104</td>\n",
              "      <td id=\"T_144c8_row5_col6\" class=\"data row5 col6\" >0.928571</td>\n",
              "    </tr>\n",
              "    <tr>\n",
              "      <td id=\"T_144c8_row6_col0\" class=\"data row6 col0\" >7</td>\n",
              "      <td id=\"T_144c8_row6_col1\" class=\"data row6 col1\" >(164.6, 181.6)</td>\n",
              "      <td id=\"T_144c8_row6_col2\" class=\"data row6 col2\" >173.100000</td>\n",
              "      <td id=\"T_144c8_row6_col3\" class=\"data row6 col3\" >8</td>\n",
              "      <td id=\"T_144c8_row6_col4\" class=\"data row6 col4\" >0.071429</td>\n",
              "      <td id=\"T_144c8_row6_col5\" class=\"data row6 col5\" >112</td>\n",
              "      <td id=\"T_144c8_row6_col6\" class=\"data row6 col6\" >1.000000</td>\n",
              "    </tr>\n",
              "  </tbody>\n",
              "</table>\n"
            ]
          },
          "metadata": {},
          "execution_count": 194
        }
      ]
    },
    {
      "cell_type": "markdown",
      "source": [
        "---"
      ],
      "metadata": {
        "id": "OUlj2-ulhJJt"
      }
    },
    {
      "cell_type": "markdown",
      "source": [
        "Рассчет условных вариант по признаку $\\nu$. А также мат.ожидания, дисперсии и СКО."
      ],
      "metadata": {
        "id": "aAjg5YiKgMdl"
      }
    },
    {
      "cell_type": "code",
      "source": [
        "# нахождение условного нуля С - середина интервала,\n",
        "# который находится по середине (округление вверх) интервального ряда - 4 интервал\n",
        "C_nu = interval_df_nu[\"Середина i интервала\"][round(len(interval_df_nu) / 2)]\n",
        "\n",
        "# построение таблицы 1\n",
        "cond_var_df_nu = pandas.DataFrame({'i': [m for m in range(1, k+1)]})\n",
        "cond_var_df_nu[\"x\"] = mid_of_intervals_nu\n",
        "cond_var_df_nu[\"n\"] = abs_freq_nu\n",
        "cond_var_df_nu[\"u\"] = (mid_of_intervals_nu - C_nu) / h_nu\n",
        "cond_var_df_nu[\"n*u\"] = cond_var_df_nu[\"n\"] * cond_var_df_nu[\"u\"]\n",
        "cond_var_df_nu[\"n*u2\"] = cond_var_df_nu[\"n\"] * pow(cond_var_df_nu[\"u\"], 2)\n",
        "cond_var_df_nu[\"n*u3\"] = cond_var_df_nu[\"n\"] * pow(cond_var_df_nu[\"u\"], 3)\n",
        "cond_var_df_nu[\"n*u4\"] = cond_var_df_nu[\"n\"] * pow(cond_var_df_nu[\"u\"], 4)\n",
        "cond_var_df_nu[\"n*(u+1)4\"] = cond_var_df_nu[\"n\"] * pow(cond_var_df_nu[\"u\"] + 1, 4)\n",
        "\n",
        "# рассчет сумм каждого столбца\n",
        "sums_nu = [\"-\", cond_var_df_nu[\"x\"].sum(), cond_var_df_nu[\"n\"].sum(), \"-\",\n",
        "        cond_var_df_nu[\"n*u\"].sum(), cond_var_df_nu[\"n*u2\"].sum(),\n",
        "        cond_var_df_nu[\"n*u3\"].sum(), cond_var_df_nu[\"n*u4\"].sum(),\n",
        "        cond_var_df_nu[\"n*(u+1)4\"].sum()]\n",
        "\n",
        "# построение таблицы 2\n",
        "moments_df_nu = pandas.DataFrame({'i': [m for m in range(1, 5)]})\n",
        "moments_df_nu[\"nu\"] = [sums_nu[4] / N, sums_nu[5] / N, sums_nu[6] / N, sums_nu[7] / N]\n",
        "moments_df_nu[\"mu\"] = [\"-\",\n",
        "                    (moments_df_nu[\"nu\"][1] - pow(moments_df_nu[\"nu\"][0], 2)) * pow(h_nu, 2),\n",
        "                    (moments_df_nu[\"nu\"][2] - 3 * moments_df_nu[\"nu\"][1] * moments_df_nu[\"nu\"][0] + 2 * pow(moments_df_nu[\"nu\"][0], 3)) * pow(h_nu, 3),\n",
        "                    (moments_df_nu[\"nu\"][3] - 6 * moments_df_nu[\"nu\"][2] * moments_df_nu[\"nu\"][0] + 6 * moments_df_nu[\"nu\"][1] * pow(moments_df_nu[\"nu\"][0], 2) - 3 * pow(moments_df_nu[\"nu\"][0], 4)) * pow(h_nu, 4)\n",
        "                    ]\n",
        "\n",
        "mean_nu_var = moments_df_nu[\"nu\"][0] * h_nu + C_nu\n",
        "sigma_nu_var2 = moments_df_nu[\"mu\"][1]\n",
        "sigma_nu_var = np.sqrt(sigma_nu_var2)"
      ],
      "metadata": {
        "id": "86C1DIKZgUlv"
      },
      "execution_count": 195,
      "outputs": []
    },
    {
      "cell_type": "markdown",
      "source": [
        "Рассчет условных вариант по признаку $E$. А также мат.ожидания, дисперсии и СКО."
      ],
      "metadata": {
        "id": "yWRL-3CVgMpm"
      }
    },
    {
      "cell_type": "code",
      "source": [
        "# нахождение условного нуля С - середина интервала,\n",
        "# который находится по середине (округление вверх) интервального ряда - 4 интервал\n",
        "C_e = interval_df_e[\"Середина i интервала\"][round(len(interval_df_e) / 2)]\n",
        "\n",
        "# построение таблицы 1\n",
        "cond_var_df_e = pandas.DataFrame({'i': [m for m in range(1, k+1)]})\n",
        "cond_var_df_e[\"x\"] = mid_of_intervals_e\n",
        "cond_var_df_e[\"n\"] = abs_freq_e\n",
        "cond_var_df_e[\"u\"] = (mid_of_intervals_e - C_e) / h_e\n",
        "cond_var_df_e[\"n*u\"] = cond_var_df_e[\"n\"] * cond_var_df_e[\"u\"]\n",
        "cond_var_df_e[\"n*u2\"] = cond_var_df_e[\"n\"] * pow(cond_var_df_e[\"u\"], 2)\n",
        "cond_var_df_e[\"n*u3\"] = cond_var_df_e[\"n\"] * pow(cond_var_df_e[\"u\"], 3)\n",
        "cond_var_df_e[\"n*u4\"] = cond_var_df_e[\"n\"] * pow(cond_var_df_e[\"u\"], 4)\n",
        "cond_var_df_e[\"n*(u+1)4\"] = cond_var_df_e[\"n\"] * pow(cond_var_df_e[\"u\"] + 1, 4)\n",
        "\n",
        "# рассчет сумм каждого столбца\n",
        "sums_e = [\"-\", cond_var_df_e[\"x\"].sum(), cond_var_df_e[\"n\"].sum(), \"-\",\n",
        "        cond_var_df_e[\"n*u\"].sum(), cond_var_df_e[\"n*u2\"].sum(),\n",
        "        cond_var_df_e[\"n*u3\"].sum(), cond_var_df_e[\"n*u4\"].sum(),\n",
        "        cond_var_df_e[\"n*(u+1)4\"].sum()]\n",
        "\n",
        "# построение таблицы 2\n",
        "moments_df_e = pandas.DataFrame({'i': [m for m in range(1, 5)]})\n",
        "moments_df_e[\"nu\"] = [sums_e[4] / N, sums_e[5] / N, sums_e[6] / N, sums_e[7] / N]\n",
        "moments_df_e[\"mu\"] = [\"-\",\n",
        "                    (moments_df_e[\"nu\"][1] - pow(moments_df_e[\"nu\"][0], 2)) * pow(h_e, 2),\n",
        "                    (moments_df_e[\"nu\"][2] - 3 * moments_df_e[\"nu\"][1] * moments_df_e[\"nu\"][0] + 2 * pow(moments_df_e[\"nu\"][0], 3)) * pow(h_e, 3),\n",
        "                    (moments_df_e[\"nu\"][3] - 6 * moments_df_e[\"nu\"][2] * moments_df_e[\"nu\"][0] + 6 * moments_df_e[\"nu\"][1] * pow(moments_df_e[\"nu\"][0], 2) - 3 * pow(moments_df_e[\"nu\"][0], 4)) * pow(h_e, 4)\n",
        "                    ]\n",
        "\n",
        "mean_e_var = moments_df_e[\"nu\"][0] * h_e + C_e\n",
        "sigma_e_var2 = moments_df_e[\"mu\"][1]\n",
        "sigma_e_var = np.sqrt(sigma_e_var2)"
      ],
      "metadata": {
        "id": "LjgaHHiKjhPW"
      },
      "execution_count": 196,
      "outputs": []
    },
    {
      "cell_type": "markdown",
      "source": [
        "---"
      ],
      "metadata": {
        "id": "BluAl3YFgMxe"
      }
    },
    {
      "cell_type": "markdown",
      "source": [
        "Вычисление выборочного среднего по признакам $\\nu$ и $E$."
      ],
      "metadata": {
        "id": "W2i2EFByYIzX"
      }
    },
    {
      "cell_type": "code",
      "source": [
        "mean_nu = np.sum(sample_df.nu) / N\n",
        "print(f\"Выборочное среднее по признаку nu: {mean_nu}\")\n",
        "\n",
        "mean_e = np.sum(sample_df.E) / N\n",
        "print(f\"Выборочное среднее по признаку E: {mean_e}\")"
      ],
      "metadata": {
        "colab": {
          "base_uri": "https://localhost:8080/"
        },
        "id": "-N148JfuYjNs",
        "outputId": "aadd843e-b8b2-4e38-a1fe-702acc84dca8"
      },
      "execution_count": 197,
      "outputs": [
        {
          "output_type": "stream",
          "name": "stdout",
          "text": [
            "Выборочное среднее по признаку nu: 456.4871794871795\n",
            "Выборочное среднее по признаку E: 128.27692307692308\n"
          ]
        }
      ]
    },
    {
      "cell_type": "markdown",
      "source": [
        "---"
      ],
      "metadata": {
        "id": "pYTiNZtzkxit"
      }
    },
    {
      "cell_type": "markdown",
      "source": [
        "Вычисление выборочной дисперсии, исправленной выборочной дисперсии и СКО по признакам $\\nu$ и $E$."
      ],
      "metadata": {
        "id": "nPUJcGi3Y-gr"
      }
    },
    {
      "cell_type": "code",
      "source": [
        "sigma_nu2 = np.sum((sample_df.nu - mean_nu) ** 2) / N\n",
        "print(f\"Выборочная дисперсия по признаку nu: {sigma_nu2}\")\n",
        "\n",
        "S2_nu = sigma_nu2 * N / (N-1)\n",
        "S_nu = np.sqrt(S2_nu)\n",
        "print(f\"Исправленная выборочная дисперсия по признаку nu: {S2_nu}\")\n",
        "print(f\"Исправленное СКО выборочной дисперсии по признаку nu: {S_nu}\")\n",
        "print()\n",
        "\n",
        "sigma_e2 = np.sum((sample_df.E - mean_e) ** 2) / N\n",
        "print(f\"Выборочная дисперсия по признаку E: {sigma_e2}\")\n",
        "\n",
        "S2_e = sigma_e2 * N / (N-1)\n",
        "S_e = np.sqrt(S2_e)\n",
        "print(f\"Исправленная выборочная дисперсия по признаку E: {S2_e}\")\n",
        "print(f\"Исправленное СКО выборочной дисперсии по признаку E: {S_e}\")"
      ],
      "metadata": {
        "colab": {
          "base_uri": "https://localhost:8080/"
        },
        "id": "Qzrn2QESZcxK",
        "outputId": "b9ff8c8a-bd60-42d8-aeda-168acecf7cea"
      },
      "execution_count": 198,
      "outputs": [
        {
          "output_type": "stream",
          "name": "stdout",
          "text": [
            "Выборочная дисперсия по признаку nu: 3574.2327416173575\n",
            "Исправленная выборочная дисперсия по признаку nu: 3605.0450928381965\n",
            "Исправленное СКО выборочной дисперсии по признаку nu: 60.042027720907264\n",
            "\n",
            "Выборочная дисперсия по признаку E: 598.6691255752796\n",
            "Исправленная выборочная дисперсия по признаку E: 603.8300663129975\n",
            "Исправленное СКО выборочной дисперсии по признаку E: 24.572953959851827\n"
          ]
        }
      ]
    },
    {
      "cell_type": "markdown",
      "source": [
        "---"
      ],
      "metadata": {
        "id": "L1OB7sNMk26d"
      }
    },
    {
      "cell_type": "markdown",
      "source": [
        " Вычисление статистических оценок коэффициентов асимметрии $a_s^*$ и эксцесса $\\epsilon_s^*$ по признакам $\\nu$ и $E$."
      ],
      "metadata": {
        "id": "DWRLyYb2kdwr"
      }
    },
    {
      "cell_type": "code",
      "source": [
        "from scipy.stats import skew, kurtosis\n",
        "\n",
        "a_s_nu = skew(sample_df.nu, bias=False)\n",
        "eps_s_nu = kurtosis(sample_df.nu, bias=False)\n",
        "\n",
        "print(f\"Статистическая оценка коэффициента ассиметрии по признаку nu: {a_s_nu}\")\n",
        "print(f\"Статистическая оценка коэффициента эксцессы по признаку nu: {eps_s_nu}\\n\")\n",
        "\n",
        "a_s_e = skew(sample_df.E, bias=False)\n",
        "eps_s_e = kurtosis(sample_df.E, bias=False)\n",
        "\n",
        "print(f\"Статистическая оценка коэффициента ассиметрии по признаку E: {a_s_e}\")\n",
        "print(f\"Статистическая оценка коэффициента эксцессы по признаку E: {eps_s_e}\")"
      ],
      "metadata": {
        "colab": {
          "base_uri": "https://localhost:8080/"
        },
        "id": "QoldV8nclGRx",
        "outputId": "a193f10e-bd46-48bc-dc12-cd1adfd83525"
      },
      "execution_count": 199,
      "outputs": [
        {
          "output_type": "stream",
          "name": "stdout",
          "text": [
            "Статистическая оценка коэффициента ассиметрии по признаку nu: -0.041213278892162274\n",
            "Статистическая оценка коэффициента эксцессы по признаку nu: -0.5488819760442185\n",
            "\n",
            "Статистическая оценка коэффициента ассиметрии по признаку E: -0.22100019185165928\n",
            "Статистическая оценка коэффициента эксцессы по признаку E: 0.01798577935603296\n"
          ]
        }
      ]
    },
    {
      "cell_type": "markdown",
      "source": [
        "---"
      ],
      "metadata": {
        "id": "CvzvJJ1HltfJ"
      }
    },
    {
      "cell_type": "markdown",
      "source": [
        "Вычисление моды $M_o^*$ по признакам $\\nu$ и $E$."
      ],
      "metadata": {
        "id": "TRgxtcbWpKv6"
      }
    },
    {
      "cell_type": "code",
      "source": [
        "#  частота модального интервала\n",
        "nM = interval_df_nu.max()['n_i']\n",
        "\n",
        "row_with_nM = interval_df_nu.loc[interval_df_nu['n_i'] == nM]\n",
        "\n",
        "# нижняя граница модального интервала\n",
        "x0 = row_with_nM['[x_i, x_i+1)'].to_list()[0][0]\n",
        "index = row_with_nM['i'].to_list()[0]\n",
        "\n",
        "nM1 = 0\n",
        "nM2 = 0\n",
        "# частоты интервалов до модального и после\n",
        "if (index == 0) :\n",
        "    nM2 = interval_df_nu.loc[interval_df_nu['i'] == index + 1]['n_i'].to_list()[0]\n",
        "elif (index == len(interval_df_nu) - 1) :\n",
        "    nM1 = interval_df_nu.loc[interval_df_nu['i'] == index - 1]['n_i'].to_list()[0]\n",
        "else :\n",
        "    nM2 = interval_df_nu.loc[interval_df_nu['i'] == index + 1]['n_i'].to_list()[0]\n",
        "    nM1 = interval_df_nu.loc[interval_df_nu['i'] == index - 1]['n_i'].to_list()[0]\n",
        "\n",
        "M0_nu = x0 + (nM - nM1) / ((nM - nM1) + (nM - nM2)) * h_nu\n",
        "\n",
        "print(f\"Мода по признаку nu: {M0_nu}\")"
      ],
      "metadata": {
        "colab": {
          "base_uri": "https://localhost:8080/"
        },
        "id": "WNP5oz6KpTI3",
        "outputId": "d0734d0e-65b5-46ee-8411-72c901c6b546"
      },
      "execution_count": 200,
      "outputs": [
        {
          "output_type": "stream",
          "name": "stdout",
          "text": [
            "Мода по признаку nu: 433.75\n"
          ]
        }
      ]
    },
    {
      "cell_type": "code",
      "source": [
        "#  частота модального интервала\n",
        "nM = interval_df_e.max()['n_i']\n",
        "\n",
        "row_with_nM = interval_df_e.loc[interval_df_e['n_i'] == nM]\n",
        "\n",
        "# нижняя граница модального интервала\n",
        "x0 = row_with_nM['[x_i, x_i+1)'].to_list()[0][0]\n",
        "index = row_with_nM['i'].to_list()[0]\n",
        "\n",
        "nM1 = 0\n",
        "nM2 = 0\n",
        "# частоты интервалов до модального и после\n",
        "if (index == 0) :\n",
        "    nM2 = interval_df_e.loc[interval_df_e['i'] == index + 1]['n_i'].to_list()[0]\n",
        "elif (index == len(interval_df_e) - 1) :\n",
        "    nM1 = interval_df_e.loc[interval_df_e['i'] == index - 1]['n_i'].to_list()[0]\n",
        "else :\n",
        "    nM2 = interval_df_e.loc[interval_df_e['i'] == index + 1]['n_i'].to_list()[0]\n",
        "    nM1 = interval_df_e.loc[interval_df_e['i'] == index - 1]['n_i'].to_list()[0]\n",
        "\n",
        "M0_e = x0 + (nM - nM1) / ((nM - nM1) + (nM - nM2)) * h_e\n",
        "\n",
        "print(f\"Мода по признаку E: {M0_e}\")"
      ],
      "metadata": {
        "colab": {
          "base_uri": "https://localhost:8080/"
        },
        "id": "CjNMdioBpo-t",
        "outputId": "b5be5b51-a899-4f01-a448-95814258bf89"
      },
      "execution_count": 202,
      "outputs": [
        {
          "output_type": "stream",
          "name": "stdout",
          "text": [
            "Мода по признаку E: 131.81428571428572\n"
          ]
        }
      ]
    },
    {
      "cell_type": "markdown",
      "source": [
        "---"
      ],
      "metadata": {
        "id": "Vawry1HipTpi"
      }
    },
    {
      "cell_type": "markdown",
      "source": [
        "Вычисление медианы $M_e^*$ по признаками $\\nu$ и $E$."
      ],
      "metadata": {
        "id": "SfUI_-Ybp4JB"
      }
    },
    {
      "cell_type": "code",
      "source": [
        "# медианный интервал\n",
        "interval_df_less = interval_df_nu.loc[interval_df_nu['Накопленная n_i'] >= round(interval_df_nu.sum()['n_i']/2)]\n",
        "row_with_frec = interval_df_less.loc[interval_df_less['i'] == len(interval_df_less)]\n",
        "ind_row_with_frec = row_with_frec['i'].to_list()[0]\n",
        "\n",
        "# нижняя граница медианного интервала\n",
        "x02 = row_with_frec['[x_i, x_i+1)'].to_list()[0][0]\n",
        "\n",
        "# частота медианного интервала\n",
        "nm = row_with_frec['n_i'].to_list()[0]\n",
        "\n",
        "# накопленная частота предыдущего интервала\n",
        "nm2k = 0\n",
        "if (ind_row_with_frec != 0) :\n",
        "  nm2k = interval_df_nu.loc[interval_df_nu['i'] == ind_row_with_frec - 1]['Накопленная n_i'].to_list()[0]\n",
        "\n",
        "Me_nu = x02 + (0.5 * N - nm2k) * h_nu / nm\n",
        "\n",
        "print(f\"Медиана по признаку nu: {Me_nu}\")"
      ],
      "metadata": {
        "colab": {
          "base_uri": "https://localhost:8080/"
        },
        "id": "P6cQLBEJp4gN",
        "outputId": "3730282c-1327-4684-8378-9334dd75877d"
      },
      "execution_count": 203,
      "outputs": [
        {
          "output_type": "stream",
          "name": "stdout",
          "text": [
            "Медиана по признаку nu: 482.825\n"
          ]
        }
      ]
    },
    {
      "cell_type": "code",
      "source": [
        "# медианный интервал\n",
        "interval_df_less = interval_df_e.loc[interval_df_e['Накопленная n_i'] >= round(interval_df_e.sum()['n_i']/2)]\n",
        "row_with_frec = interval_df_less.loc[interval_df_less['i'] == len(interval_df_less)]\n",
        "ind_row_with_frec = row_with_frec['i'].to_list()[0]\n",
        "\n",
        "# нижняя граница медианного интервала\n",
        "x02 = row_with_frec['[x_i, x_i+1)'].to_list()[0][0]\n",
        "\n",
        "# частота медианного интервала\n",
        "nm = row_with_frec['n_i'].to_list()[0]\n",
        "\n",
        "# накопленная частота предыдущего интервала\n",
        "nm2k = 0\n",
        "if (ind_row_with_frec != 0) :\n",
        "  nm2k = interval_df_e.loc[interval_df_e['i'] == ind_row_with_frec - 1]['Накопленная n_i'].to_list()[0]\n",
        "\n",
        "Me_e = x02 + (0.5 * N - nm2k) * h_e / nm\n",
        "\n",
        "print(f\"Медиана по признаку nu E: {Me_e}\")"
      ],
      "metadata": {
        "colab": {
          "base_uri": "https://localhost:8080/"
        },
        "id": "GY9kC_ijp4uV",
        "outputId": "02fe78ab-0714-4317-daec-3f33a62bafd4"
      },
      "execution_count": 204,
      "outputs": [
        {
          "output_type": "stream",
          "name": "stdout",
          "text": [
            "Медиана по признаку nu E: 130.29642857142858\n"
          ]
        }
      ]
    },
    {
      "cell_type": "markdown",
      "source": [
        "---"
      ],
      "metadata": {
        "id": "rb0YrtHwp4-j"
      }
    },
    {
      "cell_type": "markdown",
      "source": [
        "Вычисление коэффициента вариации $V^*$ по признакам $\\nu$ и $E$."
      ],
      "metadata": {
        "id": "OjiLHdwolz2z"
      }
    },
    {
      "cell_type": "code",
      "source": [
        "# коэффициенты вариации\n",
        "V_nu = S_nu / mean_nu * 100\n",
        "V_e = S_e / mean_e * 100\n",
        "\n",
        "print(f\"Коэффициент вариации по признаку nu: {V_nu} %\")\n",
        "print(f\"Коэффициент вариации по признаку E: {V_e} %\")"
      ],
      "metadata": {
        "colab": {
          "base_uri": "https://localhost:8080/"
        },
        "id": "hQJT0kIxluRR",
        "outputId": "b9e0240a-0df4-47a9-8834-b34eec99b2f3"
      },
      "execution_count": 205,
      "outputs": [
        {
          "output_type": "stream",
          "name": "stdout",
          "text": [
            "Коэффициент вариации по признаку nu: 13.153058928918625 %\n",
            "Коэффициент вариации по признаку E: 19.15617662977175 %\n"
          ]
        }
      ]
    },
    {
      "cell_type": "markdown",
      "source": [
        "---"
      ],
      "metadata": {
        "id": "yRaCsvz5nCfj"
      }
    },
    {
      "cell_type": "markdown",
      "source": [
        "Результаты представлены в виде таблицы:"
      ],
      "metadata": {
        "id": "UpKoPq8RnDtq"
      }
    },
    {
      "cell_type": "code",
      "source": [
        "stats_table = pandas.DataFrame({'Точечная оценка': [\"Математическое ожидание\", \"Дисперсия\", \"СКО\", \"Асимметрия\", \"Эксцесс\", \"Мода\", \"Медиана\", \"Коэффициент вариации\"]})\n",
        "stats_table[\"nu\"] = [mean_nu, sigma_nu2, S_nu, a_s_nu, eps_s_nu, M0_nu, Me_nu, V_nu]\n",
        "stats_table[\"E\"] = [mean_e, sigma_e2, S_e, a_s_e, eps_s_e, M0_e, Me_e, V_e]\n",
        "stats_table"
      ],
      "metadata": {
        "colab": {
          "base_uri": "https://localhost:8080/",
          "height": 300
        },
        "id": "PRMsJV2to1lZ",
        "outputId": "8e01f704-5232-4432-92bf-ca779b3054a0"
      },
      "execution_count": 180,
      "outputs": [
        {
          "output_type": "execute_result",
          "data": {
            "text/plain": [
              "           Точечная оценка           nu           E\n",
              "0  Математическое ожидание   453.564103  128.864103\n",
              "1                Дисперсия  2493.408284  489.286746\n",
              "2                      СКО    50.148810   22.214966\n",
              "3               Асимметрия     0.124888   -0.284702\n",
              "4                  Эксцесс     0.211168    0.279825\n",
              "5                     Мода   451.181818  125.300000\n",
              "6                  Медиана   476.780000  130.554545\n",
              "7     Коэффициент вариации    11.056609   17.239065"
            ],
            "text/html": [
              "\n",
              "  <div id=\"df-a1804571-09fa-4208-bf88-0f10e0ec2e6c\" class=\"colab-df-container\">\n",
              "    <div>\n",
              "<style scoped>\n",
              "    .dataframe tbody tr th:only-of-type {\n",
              "        vertical-align: middle;\n",
              "    }\n",
              "\n",
              "    .dataframe tbody tr th {\n",
              "        vertical-align: top;\n",
              "    }\n",
              "\n",
              "    .dataframe thead th {\n",
              "        text-align: right;\n",
              "    }\n",
              "</style>\n",
              "<table border=\"1\" class=\"dataframe\">\n",
              "  <thead>\n",
              "    <tr style=\"text-align: right;\">\n",
              "      <th></th>\n",
              "      <th>Точечная оценка</th>\n",
              "      <th>nu</th>\n",
              "      <th>E</th>\n",
              "    </tr>\n",
              "  </thead>\n",
              "  <tbody>\n",
              "    <tr>\n",
              "      <th>0</th>\n",
              "      <td>Математическое ожидание</td>\n",
              "      <td>453.564103</td>\n",
              "      <td>128.864103</td>\n",
              "    </tr>\n",
              "    <tr>\n",
              "      <th>1</th>\n",
              "      <td>Дисперсия</td>\n",
              "      <td>2493.408284</td>\n",
              "      <td>489.286746</td>\n",
              "    </tr>\n",
              "    <tr>\n",
              "      <th>2</th>\n",
              "      <td>СКО</td>\n",
              "      <td>50.148810</td>\n",
              "      <td>22.214966</td>\n",
              "    </tr>\n",
              "    <tr>\n",
              "      <th>3</th>\n",
              "      <td>Асимметрия</td>\n",
              "      <td>0.124888</td>\n",
              "      <td>-0.284702</td>\n",
              "    </tr>\n",
              "    <tr>\n",
              "      <th>4</th>\n",
              "      <td>Эксцесс</td>\n",
              "      <td>0.211168</td>\n",
              "      <td>0.279825</td>\n",
              "    </tr>\n",
              "    <tr>\n",
              "      <th>5</th>\n",
              "      <td>Мода</td>\n",
              "      <td>451.181818</td>\n",
              "      <td>125.300000</td>\n",
              "    </tr>\n",
              "    <tr>\n",
              "      <th>6</th>\n",
              "      <td>Медиана</td>\n",
              "      <td>476.780000</td>\n",
              "      <td>130.554545</td>\n",
              "    </tr>\n",
              "    <tr>\n",
              "      <th>7</th>\n",
              "      <td>Коэффициент вариации</td>\n",
              "      <td>11.056609</td>\n",
              "      <td>17.239065</td>\n",
              "    </tr>\n",
              "  </tbody>\n",
              "</table>\n",
              "</div>\n",
              "    <div class=\"colab-df-buttons\">\n",
              "\n",
              "  <div class=\"colab-df-container\">\n",
              "    <button class=\"colab-df-convert\" onclick=\"convertToInteractive('df-a1804571-09fa-4208-bf88-0f10e0ec2e6c')\"\n",
              "            title=\"Convert this dataframe to an interactive table.\"\n",
              "            style=\"display:none;\">\n",
              "\n",
              "  <svg xmlns=\"http://www.w3.org/2000/svg\" height=\"24px\" viewBox=\"0 -960 960 960\">\n",
              "    <path d=\"M120-120v-720h720v720H120Zm60-500h600v-160H180v160Zm220 220h160v-160H400v160Zm0 220h160v-160H400v160ZM180-400h160v-160H180v160Zm440 0h160v-160H620v160ZM180-180h160v-160H180v160Zm440 0h160v-160H620v160Z\"/>\n",
              "  </svg>\n",
              "    </button>\n",
              "\n",
              "  <style>\n",
              "    .colab-df-container {\n",
              "      display:flex;\n",
              "      gap: 12px;\n",
              "    }\n",
              "\n",
              "    .colab-df-convert {\n",
              "      background-color: #E8F0FE;\n",
              "      border: none;\n",
              "      border-radius: 50%;\n",
              "      cursor: pointer;\n",
              "      display: none;\n",
              "      fill: #1967D2;\n",
              "      height: 32px;\n",
              "      padding: 0 0 0 0;\n",
              "      width: 32px;\n",
              "    }\n",
              "\n",
              "    .colab-df-convert:hover {\n",
              "      background-color: #E2EBFA;\n",
              "      box-shadow: 0px 1px 2px rgba(60, 64, 67, 0.3), 0px 1px 3px 1px rgba(60, 64, 67, 0.15);\n",
              "      fill: #174EA6;\n",
              "    }\n",
              "\n",
              "    .colab-df-buttons div {\n",
              "      margin-bottom: 4px;\n",
              "    }\n",
              "\n",
              "    [theme=dark] .colab-df-convert {\n",
              "      background-color: #3B4455;\n",
              "      fill: #D2E3FC;\n",
              "    }\n",
              "\n",
              "    [theme=dark] .colab-df-convert:hover {\n",
              "      background-color: #434B5C;\n",
              "      box-shadow: 0px 1px 3px 1px rgba(0, 0, 0, 0.15);\n",
              "      filter: drop-shadow(0px 1px 2px rgba(0, 0, 0, 0.3));\n",
              "      fill: #FFFFFF;\n",
              "    }\n",
              "  </style>\n",
              "\n",
              "    <script>\n",
              "      const buttonEl =\n",
              "        document.querySelector('#df-a1804571-09fa-4208-bf88-0f10e0ec2e6c button.colab-df-convert');\n",
              "      buttonEl.style.display =\n",
              "        google.colab.kernel.accessAllowed ? 'block' : 'none';\n",
              "\n",
              "      async function convertToInteractive(key) {\n",
              "        const element = document.querySelector('#df-a1804571-09fa-4208-bf88-0f10e0ec2e6c');\n",
              "        const dataTable =\n",
              "          await google.colab.kernel.invokeFunction('convertToInteractive',\n",
              "                                                    [key], {});\n",
              "        if (!dataTable) return;\n",
              "\n",
              "        const docLinkHtml = 'Like what you see? Visit the ' +\n",
              "          '<a target=\"_blank\" href=https://colab.research.google.com/notebooks/data_table.ipynb>data table notebook</a>'\n",
              "          + ' to learn more about interactive tables.';\n",
              "        element.innerHTML = '';\n",
              "        dataTable['output_type'] = 'display_data';\n",
              "        await google.colab.output.renderOutput(dataTable, element);\n",
              "        const docLink = document.createElement('div');\n",
              "        docLink.innerHTML = docLinkHtml;\n",
              "        element.appendChild(docLink);\n",
              "      }\n",
              "    </script>\n",
              "  </div>\n",
              "\n",
              "\n",
              "<div id=\"df-36c8006a-aa93-4531-855e-bd30a41e3e04\">\n",
              "  <button class=\"colab-df-quickchart\" onclick=\"quickchart('df-36c8006a-aa93-4531-855e-bd30a41e3e04')\"\n",
              "            title=\"Suggest charts\"\n",
              "            style=\"display:none;\">\n",
              "\n",
              "<svg xmlns=\"http://www.w3.org/2000/svg\" height=\"24px\"viewBox=\"0 0 24 24\"\n",
              "     width=\"24px\">\n",
              "    <g>\n",
              "        <path d=\"M19 3H5c-1.1 0-2 .9-2 2v14c0 1.1.9 2 2 2h14c1.1 0 2-.9 2-2V5c0-1.1-.9-2-2-2zM9 17H7v-7h2v7zm4 0h-2V7h2v10zm4 0h-2v-4h2v4z\"/>\n",
              "    </g>\n",
              "</svg>\n",
              "  </button>\n",
              "\n",
              "<style>\n",
              "  .colab-df-quickchart {\n",
              "      --bg-color: #E8F0FE;\n",
              "      --fill-color: #1967D2;\n",
              "      --hover-bg-color: #E2EBFA;\n",
              "      --hover-fill-color: #174EA6;\n",
              "      --disabled-fill-color: #AAA;\n",
              "      --disabled-bg-color: #DDD;\n",
              "  }\n",
              "\n",
              "  [theme=dark] .colab-df-quickchart {\n",
              "      --bg-color: #3B4455;\n",
              "      --fill-color: #D2E3FC;\n",
              "      --hover-bg-color: #434B5C;\n",
              "      --hover-fill-color: #FFFFFF;\n",
              "      --disabled-bg-color: #3B4455;\n",
              "      --disabled-fill-color: #666;\n",
              "  }\n",
              "\n",
              "  .colab-df-quickchart {\n",
              "    background-color: var(--bg-color);\n",
              "    border: none;\n",
              "    border-radius: 50%;\n",
              "    cursor: pointer;\n",
              "    display: none;\n",
              "    fill: var(--fill-color);\n",
              "    height: 32px;\n",
              "    padding: 0;\n",
              "    width: 32px;\n",
              "  }\n",
              "\n",
              "  .colab-df-quickchart:hover {\n",
              "    background-color: var(--hover-bg-color);\n",
              "    box-shadow: 0 1px 2px rgba(60, 64, 67, 0.3), 0 1px 3px 1px rgba(60, 64, 67, 0.15);\n",
              "    fill: var(--button-hover-fill-color);\n",
              "  }\n",
              "\n",
              "  .colab-df-quickchart-complete:disabled,\n",
              "  .colab-df-quickchart-complete:disabled:hover {\n",
              "    background-color: var(--disabled-bg-color);\n",
              "    fill: var(--disabled-fill-color);\n",
              "    box-shadow: none;\n",
              "  }\n",
              "\n",
              "  .colab-df-spinner {\n",
              "    border: 2px solid var(--fill-color);\n",
              "    border-color: transparent;\n",
              "    border-bottom-color: var(--fill-color);\n",
              "    animation:\n",
              "      spin 1s steps(1) infinite;\n",
              "  }\n",
              "\n",
              "  @keyframes spin {\n",
              "    0% {\n",
              "      border-color: transparent;\n",
              "      border-bottom-color: var(--fill-color);\n",
              "      border-left-color: var(--fill-color);\n",
              "    }\n",
              "    20% {\n",
              "      border-color: transparent;\n",
              "      border-left-color: var(--fill-color);\n",
              "      border-top-color: var(--fill-color);\n",
              "    }\n",
              "    30% {\n",
              "      border-color: transparent;\n",
              "      border-left-color: var(--fill-color);\n",
              "      border-top-color: var(--fill-color);\n",
              "      border-right-color: var(--fill-color);\n",
              "    }\n",
              "    40% {\n",
              "      border-color: transparent;\n",
              "      border-right-color: var(--fill-color);\n",
              "      border-top-color: var(--fill-color);\n",
              "    }\n",
              "    60% {\n",
              "      border-color: transparent;\n",
              "      border-right-color: var(--fill-color);\n",
              "    }\n",
              "    80% {\n",
              "      border-color: transparent;\n",
              "      border-right-color: var(--fill-color);\n",
              "      border-bottom-color: var(--fill-color);\n",
              "    }\n",
              "    90% {\n",
              "      border-color: transparent;\n",
              "      border-bottom-color: var(--fill-color);\n",
              "    }\n",
              "  }\n",
              "</style>\n",
              "\n",
              "  <script>\n",
              "    async function quickchart(key) {\n",
              "      const quickchartButtonEl =\n",
              "        document.querySelector('#' + key + ' button');\n",
              "      quickchartButtonEl.disabled = true;  // To prevent multiple clicks.\n",
              "      quickchartButtonEl.classList.add('colab-df-spinner');\n",
              "      try {\n",
              "        const charts = await google.colab.kernel.invokeFunction(\n",
              "            'suggestCharts', [key], {});\n",
              "      } catch (error) {\n",
              "        console.error('Error during call to suggestCharts:', error);\n",
              "      }\n",
              "      quickchartButtonEl.classList.remove('colab-df-spinner');\n",
              "      quickchartButtonEl.classList.add('colab-df-quickchart-complete');\n",
              "    }\n",
              "    (() => {\n",
              "      let quickchartButtonEl =\n",
              "        document.querySelector('#df-36c8006a-aa93-4531-855e-bd30a41e3e04 button');\n",
              "      quickchartButtonEl.style.display =\n",
              "        google.colab.kernel.accessAllowed ? 'block' : 'none';\n",
              "    })();\n",
              "  </script>\n",
              "</div>\n",
              "    </div>\n",
              "  </div>\n"
            ],
            "application/vnd.google.colaboratory.intrinsic+json": {
              "type": "dataframe",
              "variable_name": "stats_table",
              "summary": "{\n  \"name\": \"stats_table\",\n  \"rows\": 8,\n  \"fields\": [\n    {\n      \"column\": \"\\u0422\\u043e\\u0447\\u0435\\u0447\\u043d\\u0430\\u044f \\u043e\\u0446\\u0435\\u043d\\u043a\\u0430\",\n      \"properties\": {\n        \"dtype\": \"string\",\n        \"num_unique_values\": 8,\n        \"samples\": [\n          \"\\u0414\\u0438\\u0441\\u043f\\u0435\\u0440\\u0441\\u0438\\u044f\",\n          \"\\u041c\\u043e\\u0434\\u0430\",\n          \"\\u041c\\u0430\\u0442\\u0435\\u043c\\u0430\\u0442\\u0438\\u0447\\u0435\\u0441\\u043a\\u043e\\u0435 \\u043e\\u0436\\u0438\\u0434\\u0430\\u043d\\u0438\\u0435\"\n        ],\n        \"semantic_type\": \"\",\n        \"description\": \"\"\n      }\n    },\n    {\n      \"column\": \"nu\",\n      \"properties\": {\n        \"dtype\": \"number\",\n        \"std\": 838.3100842203588,\n        \"min\": 0.12488839744035721,\n        \"max\": 2493.408284023669,\n        \"num_unique_values\": 8,\n        \"samples\": [\n          2493.408284023669,\n          451.1818181818182,\n          453.56410256410254\n        ],\n        \"semantic_type\": \"\",\n        \"description\": \"\"\n      }\n    },\n    {\n      \"column\": \"E\",\n      \"properties\": {\n        \"dtype\": \"number\",\n        \"std\": 162.67540147820654,\n        \"min\": -0.28470175580144225,\n        \"max\": 489.28674556213014,\n        \"num_unique_values\": 8,\n        \"samples\": [\n          489.28674556213014,\n          125.3,\n          128.86410256410258\n        ],\n        \"semantic_type\": \"\",\n        \"description\": \"\"\n      }\n    }\n  ]\n}"
            }
          },
          "metadata": {},
          "execution_count": 180
        }
      ]
    },
    {
      "cell_type": "markdown",
      "source": [
        "**Вывод**: После вычисления точечных оценок можно заподозрить наличие какой-то корреляционной зависимости, но данное предположение не дает подтверждений, поэтом необходим более глубокий анализ."
      ],
      "metadata": {
        "id": "jqvsfr8NtYlw"
      }
    },
    {
      "cell_type": "markdown",
      "source": [
        "### 2. Построить двумерный интервальный вариационный ряд, оформить в виде таблицы."
      ],
      "metadata": {
        "id": "bOul4Ad3-uD7"
      }
    },
    {
      "cell_type": "code",
      "source": [
        "# Интервалы для nu\n",
        "meanings_in_intervals_nu = {}\n",
        "for i in intervals_nu :\n",
        "  meanings_in_intervals_nu[i] = []\n",
        "\n",
        "for nu in sample_df.nu :\n",
        "  for interval in intervals_nu :\n",
        "    left, right = interval\n",
        "    if nu < right and nu >= left :\n",
        "      meanings_in_intervals_nu[interval].append(nu)\n",
        "\n",
        "# Интервалы для E\n",
        "meanings_in_intervals_e = {}\n",
        "for i in intervals_e :\n",
        "  meanings_in_intervals_e[i] = []\n",
        "\n",
        "for e in sample_df.E :\n",
        "  for interval in intervals_e :\n",
        "    left, right = interval\n",
        "    if e < right and e >= left :\n",
        "      meanings_in_intervals_e[interval].append(e)\n",
        "\n",
        "# sum=0\n",
        "# for k in meanings_in_intervals_e.keys() :\n",
        "#   sum += len(meanings_in_intervals_e[k])\n",
        "\n",
        "# print(sum)"
      ],
      "metadata": {
        "id": "DBvXj0hOvZ5U"
      },
      "execution_count": 206,
      "outputs": []
    },
    {
      "cell_type": "code",
      "source": [
        "two_dim_interval_df = pandas.DataFrame(index=intervals_e, columns=intervals_nu)\n",
        "two_dim_interval_df.fillna(0, inplace=True)\n",
        "\n",
        "for i in range(N) :\n",
        "  for nu_interval in meanings_in_intervals_nu.keys() :\n",
        "    if sample_df.nu.to_list()[i] in meanings_in_intervals_nu[nu_interval] :\n",
        "      int_nu = nu_interval\n",
        "      break\n",
        "  for e_interval in meanings_in_intervals_e.keys() :\n",
        "    if sample_df.E.to_list()[i] in meanings_in_intervals_e[e_interval] :\n",
        "      int_e = e_interval\n",
        "      break\n",
        "  two_dim_interval_df[int_nu][int_e] += 1\n",
        "\n",
        "print(\"Двумерный интервальный вариацонный ряд:\")\n",
        "two_dim_interval_df.style.set_properties(**{'text-align': 'center'})"
      ],
      "metadata": {
        "colab": {
          "base_uri": "https://localhost:8080/",
          "height": 286
        },
        "id": "W0TVVU7-5GNL",
        "outputId": "15d6913a-2bba-4a24-c48f-972cba1cde23"
      },
      "execution_count": 207,
      "outputs": [
        {
          "output_type": "stream",
          "name": "stdout",
          "text": [
            "Двумерный интервальный вариацонный ряд:\n"
          ]
        },
        {
          "output_type": "execute_result",
          "data": {
            "text/plain": [
              "<pandas.io.formats.style.Styler at 0x7875dfb811b0>"
            ],
            "text/html": [
              "<style type=\"text/css\">\n",
              "#T_abbae_row0_col0, #T_abbae_row0_col1, #T_abbae_row0_col2, #T_abbae_row0_col3, #T_abbae_row0_col4, #T_abbae_row0_col5, #T_abbae_row0_col6, #T_abbae_row1_col0, #T_abbae_row1_col1, #T_abbae_row1_col2, #T_abbae_row1_col3, #T_abbae_row1_col4, #T_abbae_row1_col5, #T_abbae_row1_col6, #T_abbae_row2_col0, #T_abbae_row2_col1, #T_abbae_row2_col2, #T_abbae_row2_col3, #T_abbae_row2_col4, #T_abbae_row2_col5, #T_abbae_row2_col6, #T_abbae_row3_col0, #T_abbae_row3_col1, #T_abbae_row3_col2, #T_abbae_row3_col3, #T_abbae_row3_col4, #T_abbae_row3_col5, #T_abbae_row3_col6, #T_abbae_row4_col0, #T_abbae_row4_col1, #T_abbae_row4_col2, #T_abbae_row4_col3, #T_abbae_row4_col4, #T_abbae_row4_col5, #T_abbae_row4_col6, #T_abbae_row5_col0, #T_abbae_row5_col1, #T_abbae_row5_col2, #T_abbae_row5_col3, #T_abbae_row5_col4, #T_abbae_row5_col5, #T_abbae_row5_col6, #T_abbae_row6_col0, #T_abbae_row6_col1, #T_abbae_row6_col2, #T_abbae_row6_col3, #T_abbae_row6_col4, #T_abbae_row6_col5, #T_abbae_row6_col6 {\n",
              "  text-align: center;\n",
              "}\n",
              "</style>\n",
              "<table id=\"T_abbae\" class=\"dataframe\">\n",
              "  <thead>\n",
              "    <tr>\n",
              "      <th class=\"blank level0\" >&nbsp;</th>\n",
              "      <th id=\"T_abbae_level0_col0\" class=\"col_heading level0 col0\" >(320, 359)</th>\n",
              "      <th id=\"T_abbae_level0_col1\" class=\"col_heading level0 col1\" >(359, 398)</th>\n",
              "      <th id=\"T_abbae_level0_col2\" class=\"col_heading level0 col2\" >(398, 437)</th>\n",
              "      <th id=\"T_abbae_level0_col3\" class=\"col_heading level0 col3\" >(437, 476)</th>\n",
              "      <th id=\"T_abbae_level0_col4\" class=\"col_heading level0 col4\" >(476, 515)</th>\n",
              "      <th id=\"T_abbae_level0_col5\" class=\"col_heading level0 col5\" >(515, 554)</th>\n",
              "      <th id=\"T_abbae_level0_col6\" class=\"col_heading level0 col6\" >(554, 593)</th>\n",
              "    </tr>\n",
              "  </thead>\n",
              "  <tbody>\n",
              "    <tr>\n",
              "      <th id=\"T_abbae_level0_row0\" class=\"row_heading level0 row0\" >(62.6, 79.6)</th>\n",
              "      <td id=\"T_abbae_row0_col0\" class=\"data row0 col0\" >3</td>\n",
              "      <td id=\"T_abbae_row0_col1\" class=\"data row0 col1\" >1</td>\n",
              "      <td id=\"T_abbae_row0_col2\" class=\"data row0 col2\" >0</td>\n",
              "      <td id=\"T_abbae_row0_col3\" class=\"data row0 col3\" >0</td>\n",
              "      <td id=\"T_abbae_row0_col4\" class=\"data row0 col4\" >0</td>\n",
              "      <td id=\"T_abbae_row0_col5\" class=\"data row0 col5\" >0</td>\n",
              "      <td id=\"T_abbae_row0_col6\" class=\"data row0 col6\" >0</td>\n",
              "    </tr>\n",
              "    <tr>\n",
              "      <th id=\"T_abbae_level0_row1\" class=\"row_heading level0 row1\" >(79.6, 96.6)</th>\n",
              "      <td id=\"T_abbae_row1_col0\" class=\"data row1 col0\" >2</td>\n",
              "      <td id=\"T_abbae_row1_col1\" class=\"data row1 col1\" >3</td>\n",
              "      <td id=\"T_abbae_row1_col2\" class=\"data row1 col2\" >0</td>\n",
              "      <td id=\"T_abbae_row1_col3\" class=\"data row1 col3\" >0</td>\n",
              "      <td id=\"T_abbae_row1_col4\" class=\"data row1 col4\" >0</td>\n",
              "      <td id=\"T_abbae_row1_col5\" class=\"data row1 col5\" >0</td>\n",
              "      <td id=\"T_abbae_row1_col6\" class=\"data row1 col6\" >0</td>\n",
              "    </tr>\n",
              "    <tr>\n",
              "      <th id=\"T_abbae_level0_row2\" class=\"row_heading level0 row2\" >(96.6, 113.6)</th>\n",
              "      <td id=\"T_abbae_row2_col0\" class=\"data row2 col0\" >1</td>\n",
              "      <td id=\"T_abbae_row2_col1\" class=\"data row2 col1\" >9</td>\n",
              "      <td id=\"T_abbae_row2_col2\" class=\"data row2 col2\" >13</td>\n",
              "      <td id=\"T_abbae_row2_col3\" class=\"data row2 col3\" >0</td>\n",
              "      <td id=\"T_abbae_row2_col4\" class=\"data row2 col4\" >0</td>\n",
              "      <td id=\"T_abbae_row2_col5\" class=\"data row2 col5\" >0</td>\n",
              "      <td id=\"T_abbae_row2_col6\" class=\"data row2 col6\" >0</td>\n",
              "    </tr>\n",
              "    <tr>\n",
              "      <th id=\"T_abbae_level0_row3\" class=\"row_heading level0 row3\" >(113.6, 130.6)</th>\n",
              "      <td id=\"T_abbae_row3_col0\" class=\"data row3 col0\" >0</td>\n",
              "      <td id=\"T_abbae_row3_col1\" class=\"data row3 col1\" >0</td>\n",
              "      <td id=\"T_abbae_row3_col2\" class=\"data row3 col2\" >10</td>\n",
              "      <td id=\"T_abbae_row3_col3\" class=\"data row3 col3\" >17</td>\n",
              "      <td id=\"T_abbae_row3_col4\" class=\"data row3 col4\" >3</td>\n",
              "      <td id=\"T_abbae_row3_col5\" class=\"data row3 col5\" >0</td>\n",
              "      <td id=\"T_abbae_row3_col6\" class=\"data row3 col6\" >0</td>\n",
              "    </tr>\n",
              "    <tr>\n",
              "      <th id=\"T_abbae_level0_row4\" class=\"row_heading level0 row4\" >(130.6, 147.6)</th>\n",
              "      <td id=\"T_abbae_row4_col0\" class=\"data row4 col0\" >0</td>\n",
              "      <td id=\"T_abbae_row4_col1\" class=\"data row4 col1\" >0</td>\n",
              "      <td id=\"T_abbae_row4_col2\" class=\"data row4 col2\" >1</td>\n",
              "      <td id=\"T_abbae_row4_col3\" class=\"data row4 col3\" >12</td>\n",
              "      <td id=\"T_abbae_row4_col4\" class=\"data row4 col4\" >14</td>\n",
              "      <td id=\"T_abbae_row4_col5\" class=\"data row4 col5\" >4</td>\n",
              "      <td id=\"T_abbae_row4_col6\" class=\"data row4 col6\" >0</td>\n",
              "    </tr>\n",
              "    <tr>\n",
              "      <th id=\"T_abbae_level0_row5\" class=\"row_heading level0 row5\" >(147.6, 164.6)</th>\n",
              "      <td id=\"T_abbae_row5_col0\" class=\"data row5 col0\" >0</td>\n",
              "      <td id=\"T_abbae_row5_col1\" class=\"data row5 col1\" >0</td>\n",
              "      <td id=\"T_abbae_row5_col2\" class=\"data row5 col2\" >0</td>\n",
              "      <td id=\"T_abbae_row5_col3\" class=\"data row5 col3\" >0</td>\n",
              "      <td id=\"T_abbae_row5_col4\" class=\"data row5 col4\" >8</td>\n",
              "      <td id=\"T_abbae_row5_col5\" class=\"data row5 col5\" >6</td>\n",
              "      <td id=\"T_abbae_row5_col6\" class=\"data row5 col6\" >2</td>\n",
              "    </tr>\n",
              "    <tr>\n",
              "      <th id=\"T_abbae_level0_row6\" class=\"row_heading level0 row6\" >(164.6, 181.6)</th>\n",
              "      <td id=\"T_abbae_row6_col0\" class=\"data row6 col0\" >0</td>\n",
              "      <td id=\"T_abbae_row6_col1\" class=\"data row6 col1\" >0</td>\n",
              "      <td id=\"T_abbae_row6_col2\" class=\"data row6 col2\" >0</td>\n",
              "      <td id=\"T_abbae_row6_col3\" class=\"data row6 col3\" >0</td>\n",
              "      <td id=\"T_abbae_row6_col4\" class=\"data row6 col4\" >0</td>\n",
              "      <td id=\"T_abbae_row6_col5\" class=\"data row6 col5\" >4</td>\n",
              "      <td id=\"T_abbae_row6_col6\" class=\"data row6 col6\" >4</td>\n",
              "    </tr>\n",
              "  </tbody>\n",
              "</table>\n"
            ]
          },
          "metadata": {},
          "execution_count": 207
        }
      ]
    },
    {
      "cell_type": "markdown",
      "source": [
        "### 3. По полученному двумерному интервальному вариационному ряду построить корреляционную таблицу, сделать выводы."
      ],
      "metadata": {
        "id": "iIrErVxQLay0"
      }
    },
    {
      "cell_type": "markdown",
      "source": [
        "В качестве значения элемента в интервале будем брать середину каждого интервала при рассчете корреляционной таблицы."
      ],
      "metadata": {
        "id": "nZ1YD3vjHgEn"
      }
    },
    {
      "cell_type": "code",
      "source": [
        "two_dim_int_with_sums_table_df = two_dim_interval_df.copy()\n",
        "two_dim_int_with_sums_table_df.index = mid_of_intervals_e\n",
        "two_dim_int_with_sums_table_df.columns = mid_of_intervals_nu\n",
        "\n",
        "sums_nu = {nu: 0 for nu in mid_of_intervals_nu}\n",
        "sums_nu['n_E'] = 0\n",
        "sums_e = {e: 0 for e in mid_of_intervals_e}\n",
        "\n",
        "for nu in mid_of_intervals_nu :\n",
        "  for e in mid_of_intervals_e :\n",
        "    sums_nu[nu] += two_dim_int_with_sums_table_df[nu][e]\n",
        "    sums_e[e] += two_dim_int_with_sums_table_df[nu][e]\n",
        "\n",
        "for k in [sums_nu[i] for i in sums_nu.keys()] :\n",
        "  sums_nu['n_E'] += k\n",
        "\n",
        "two_dim_int_with_sums_table_df.insert(len(two_dim_int_with_sums_table_df.columns), \"n_E\", [sums_e[i] for i in sums_e.keys()])\n",
        "two_dim_int_with_sums_table_df = pandas.concat([two_dim_int_with_sums_table_df,\n",
        "                         pandas.DataFrame(columns=two_dim_int_with_sums_table_df.columns,\n",
        "                                          index=['n_nu'])])\n",
        "for nu in two_dim_int_with_sums_table_df.columns :\n",
        "  two_dim_int_with_sums_table_df[nu]['n_nu'] = sums_nu[nu]\n",
        "\n",
        "print(\"Двумерный интервальный ряд с посчитанными суммами элементов по каждому признаку:\")\n",
        "two_dim_int_with_sums_table_df.style.set_properties(**{'text-align': 'center'})"
      ],
      "metadata": {
        "colab": {
          "base_uri": "https://localhost:8080/",
          "height": 317
        },
        "id": "RK0LpWReGed9",
        "outputId": "aed376b8-248b-4edd-d76b-65c828ba0764"
      },
      "execution_count": 208,
      "outputs": [
        {
          "output_type": "stream",
          "name": "stdout",
          "text": [
            "Двумерный интервальный ряд с посчитанными суммами элементов по каждому признаку:\n"
          ]
        },
        {
          "output_type": "execute_result",
          "data": {
            "text/plain": [
              "<pandas.io.formats.style.Styler at 0x7875ddddd600>"
            ],
            "text/html": [
              "<style type=\"text/css\">\n",
              "#T_e92c6_row0_col0, #T_e92c6_row0_col1, #T_e92c6_row0_col2, #T_e92c6_row0_col3, #T_e92c6_row0_col4, #T_e92c6_row0_col5, #T_e92c6_row0_col6, #T_e92c6_row0_col7, #T_e92c6_row1_col0, #T_e92c6_row1_col1, #T_e92c6_row1_col2, #T_e92c6_row1_col3, #T_e92c6_row1_col4, #T_e92c6_row1_col5, #T_e92c6_row1_col6, #T_e92c6_row1_col7, #T_e92c6_row2_col0, #T_e92c6_row2_col1, #T_e92c6_row2_col2, #T_e92c6_row2_col3, #T_e92c6_row2_col4, #T_e92c6_row2_col5, #T_e92c6_row2_col6, #T_e92c6_row2_col7, #T_e92c6_row3_col0, #T_e92c6_row3_col1, #T_e92c6_row3_col2, #T_e92c6_row3_col3, #T_e92c6_row3_col4, #T_e92c6_row3_col5, #T_e92c6_row3_col6, #T_e92c6_row3_col7, #T_e92c6_row4_col0, #T_e92c6_row4_col1, #T_e92c6_row4_col2, #T_e92c6_row4_col3, #T_e92c6_row4_col4, #T_e92c6_row4_col5, #T_e92c6_row4_col6, #T_e92c6_row4_col7, #T_e92c6_row5_col0, #T_e92c6_row5_col1, #T_e92c6_row5_col2, #T_e92c6_row5_col3, #T_e92c6_row5_col4, #T_e92c6_row5_col5, #T_e92c6_row5_col6, #T_e92c6_row5_col7, #T_e92c6_row6_col0, #T_e92c6_row6_col1, #T_e92c6_row6_col2, #T_e92c6_row6_col3, #T_e92c6_row6_col4, #T_e92c6_row6_col5, #T_e92c6_row6_col6, #T_e92c6_row6_col7, #T_e92c6_row7_col0, #T_e92c6_row7_col1, #T_e92c6_row7_col2, #T_e92c6_row7_col3, #T_e92c6_row7_col4, #T_e92c6_row7_col5, #T_e92c6_row7_col6, #T_e92c6_row7_col7 {\n",
              "  text-align: center;\n",
              "}\n",
              "</style>\n",
              "<table id=\"T_e92c6\" class=\"dataframe\">\n",
              "  <thead>\n",
              "    <tr>\n",
              "      <th class=\"blank level0\" >&nbsp;</th>\n",
              "      <th id=\"T_e92c6_level0_col0\" class=\"col_heading level0 col0\" >339.500000</th>\n",
              "      <th id=\"T_e92c6_level0_col1\" class=\"col_heading level0 col1\" >378.500000</th>\n",
              "      <th id=\"T_e92c6_level0_col2\" class=\"col_heading level0 col2\" >417.500000</th>\n",
              "      <th id=\"T_e92c6_level0_col3\" class=\"col_heading level0 col3\" >456.500000</th>\n",
              "      <th id=\"T_e92c6_level0_col4\" class=\"col_heading level0 col4\" >495.500000</th>\n",
              "      <th id=\"T_e92c6_level0_col5\" class=\"col_heading level0 col5\" >534.500000</th>\n",
              "      <th id=\"T_e92c6_level0_col6\" class=\"col_heading level0 col6\" >573.500000</th>\n",
              "      <th id=\"T_e92c6_level0_col7\" class=\"col_heading level0 col7\" >n_E</th>\n",
              "    </tr>\n",
              "  </thead>\n",
              "  <tbody>\n",
              "    <tr>\n",
              "      <th id=\"T_e92c6_level0_row0\" class=\"row_heading level0 row0\" >71.100000</th>\n",
              "      <td id=\"T_e92c6_row0_col0\" class=\"data row0 col0\" >3</td>\n",
              "      <td id=\"T_e92c6_row0_col1\" class=\"data row0 col1\" >1</td>\n",
              "      <td id=\"T_e92c6_row0_col2\" class=\"data row0 col2\" >0</td>\n",
              "      <td id=\"T_e92c6_row0_col3\" class=\"data row0 col3\" >0</td>\n",
              "      <td id=\"T_e92c6_row0_col4\" class=\"data row0 col4\" >0</td>\n",
              "      <td id=\"T_e92c6_row0_col5\" class=\"data row0 col5\" >0</td>\n",
              "      <td id=\"T_e92c6_row0_col6\" class=\"data row0 col6\" >0</td>\n",
              "      <td id=\"T_e92c6_row0_col7\" class=\"data row0 col7\" >4</td>\n",
              "    </tr>\n",
              "    <tr>\n",
              "      <th id=\"T_e92c6_level0_row1\" class=\"row_heading level0 row1\" >88.100000</th>\n",
              "      <td id=\"T_e92c6_row1_col0\" class=\"data row1 col0\" >2</td>\n",
              "      <td id=\"T_e92c6_row1_col1\" class=\"data row1 col1\" >3</td>\n",
              "      <td id=\"T_e92c6_row1_col2\" class=\"data row1 col2\" >0</td>\n",
              "      <td id=\"T_e92c6_row1_col3\" class=\"data row1 col3\" >0</td>\n",
              "      <td id=\"T_e92c6_row1_col4\" class=\"data row1 col4\" >0</td>\n",
              "      <td id=\"T_e92c6_row1_col5\" class=\"data row1 col5\" >0</td>\n",
              "      <td id=\"T_e92c6_row1_col6\" class=\"data row1 col6\" >0</td>\n",
              "      <td id=\"T_e92c6_row1_col7\" class=\"data row1 col7\" >5</td>\n",
              "    </tr>\n",
              "    <tr>\n",
              "      <th id=\"T_e92c6_level0_row2\" class=\"row_heading level0 row2\" >105.100000</th>\n",
              "      <td id=\"T_e92c6_row2_col0\" class=\"data row2 col0\" >1</td>\n",
              "      <td id=\"T_e92c6_row2_col1\" class=\"data row2 col1\" >9</td>\n",
              "      <td id=\"T_e92c6_row2_col2\" class=\"data row2 col2\" >13</td>\n",
              "      <td id=\"T_e92c6_row2_col3\" class=\"data row2 col3\" >0</td>\n",
              "      <td id=\"T_e92c6_row2_col4\" class=\"data row2 col4\" >0</td>\n",
              "      <td id=\"T_e92c6_row2_col5\" class=\"data row2 col5\" >0</td>\n",
              "      <td id=\"T_e92c6_row2_col6\" class=\"data row2 col6\" >0</td>\n",
              "      <td id=\"T_e92c6_row2_col7\" class=\"data row2 col7\" >23</td>\n",
              "    </tr>\n",
              "    <tr>\n",
              "      <th id=\"T_e92c6_level0_row3\" class=\"row_heading level0 row3\" >122.100000</th>\n",
              "      <td id=\"T_e92c6_row3_col0\" class=\"data row3 col0\" >0</td>\n",
              "      <td id=\"T_e92c6_row3_col1\" class=\"data row3 col1\" >0</td>\n",
              "      <td id=\"T_e92c6_row3_col2\" class=\"data row3 col2\" >10</td>\n",
              "      <td id=\"T_e92c6_row3_col3\" class=\"data row3 col3\" >17</td>\n",
              "      <td id=\"T_e92c6_row3_col4\" class=\"data row3 col4\" >3</td>\n",
              "      <td id=\"T_e92c6_row3_col5\" class=\"data row3 col5\" >0</td>\n",
              "      <td id=\"T_e92c6_row3_col6\" class=\"data row3 col6\" >0</td>\n",
              "      <td id=\"T_e92c6_row3_col7\" class=\"data row3 col7\" >30</td>\n",
              "    </tr>\n",
              "    <tr>\n",
              "      <th id=\"T_e92c6_level0_row4\" class=\"row_heading level0 row4\" >139.100000</th>\n",
              "      <td id=\"T_e92c6_row4_col0\" class=\"data row4 col0\" >0</td>\n",
              "      <td id=\"T_e92c6_row4_col1\" class=\"data row4 col1\" >0</td>\n",
              "      <td id=\"T_e92c6_row4_col2\" class=\"data row4 col2\" >1</td>\n",
              "      <td id=\"T_e92c6_row4_col3\" class=\"data row4 col3\" >12</td>\n",
              "      <td id=\"T_e92c6_row4_col4\" class=\"data row4 col4\" >14</td>\n",
              "      <td id=\"T_e92c6_row4_col5\" class=\"data row4 col5\" >4</td>\n",
              "      <td id=\"T_e92c6_row4_col6\" class=\"data row4 col6\" >0</td>\n",
              "      <td id=\"T_e92c6_row4_col7\" class=\"data row4 col7\" >31</td>\n",
              "    </tr>\n",
              "    <tr>\n",
              "      <th id=\"T_e92c6_level0_row5\" class=\"row_heading level0 row5\" >156.100000</th>\n",
              "      <td id=\"T_e92c6_row5_col0\" class=\"data row5 col0\" >0</td>\n",
              "      <td id=\"T_e92c6_row5_col1\" class=\"data row5 col1\" >0</td>\n",
              "      <td id=\"T_e92c6_row5_col2\" class=\"data row5 col2\" >0</td>\n",
              "      <td id=\"T_e92c6_row5_col3\" class=\"data row5 col3\" >0</td>\n",
              "      <td id=\"T_e92c6_row5_col4\" class=\"data row5 col4\" >8</td>\n",
              "      <td id=\"T_e92c6_row5_col5\" class=\"data row5 col5\" >6</td>\n",
              "      <td id=\"T_e92c6_row5_col6\" class=\"data row5 col6\" >2</td>\n",
              "      <td id=\"T_e92c6_row5_col7\" class=\"data row5 col7\" >16</td>\n",
              "    </tr>\n",
              "    <tr>\n",
              "      <th id=\"T_e92c6_level0_row6\" class=\"row_heading level0 row6\" >173.100000</th>\n",
              "      <td id=\"T_e92c6_row6_col0\" class=\"data row6 col0\" >0</td>\n",
              "      <td id=\"T_e92c6_row6_col1\" class=\"data row6 col1\" >0</td>\n",
              "      <td id=\"T_e92c6_row6_col2\" class=\"data row6 col2\" >0</td>\n",
              "      <td id=\"T_e92c6_row6_col3\" class=\"data row6 col3\" >0</td>\n",
              "      <td id=\"T_e92c6_row6_col4\" class=\"data row6 col4\" >0</td>\n",
              "      <td id=\"T_e92c6_row6_col5\" class=\"data row6 col5\" >4</td>\n",
              "      <td id=\"T_e92c6_row6_col6\" class=\"data row6 col6\" >4</td>\n",
              "      <td id=\"T_e92c6_row6_col7\" class=\"data row6 col7\" >8</td>\n",
              "    </tr>\n",
              "    <tr>\n",
              "      <th id=\"T_e92c6_level0_row7\" class=\"row_heading level0 row7\" >n_nu</th>\n",
              "      <td id=\"T_e92c6_row7_col0\" class=\"data row7 col0\" >6</td>\n",
              "      <td id=\"T_e92c6_row7_col1\" class=\"data row7 col1\" >13</td>\n",
              "      <td id=\"T_e92c6_row7_col2\" class=\"data row7 col2\" >24</td>\n",
              "      <td id=\"T_e92c6_row7_col3\" class=\"data row7 col3\" >29</td>\n",
              "      <td id=\"T_e92c6_row7_col4\" class=\"data row7 col4\" >25</td>\n",
              "      <td id=\"T_e92c6_row7_col5\" class=\"data row7 col5\" >14</td>\n",
              "      <td id=\"T_e92c6_row7_col6\" class=\"data row7 col6\" >6</td>\n",
              "      <td id=\"T_e92c6_row7_col7\" class=\"data row7 col7\" >117</td>\n",
              "    </tr>\n",
              "  </tbody>\n",
              "</table>\n"
            ]
          },
          "metadata": {},
          "execution_count": 208
        }
      ]
    },
    {
      "cell_type": "markdown",
      "source": [
        "Как можно заметить $\\sum n_{\\nu}=\\sum n_E=117$ - объем выборки, таблица сумм составлена правильно."
      ],
      "metadata": {
        "id": "yX3hOA0IVZvq"
      }
    },
    {
      "cell_type": "code",
      "source": [
        "cor_table_df = two_dim_int_with_sums_table_df.copy()\n",
        "NU_i = {e: 0 for e in mid_of_intervals_e}\n",
        "NU_i['n_nu'] = '-'\n",
        "E_i = {nu: 0 for nu in mid_of_intervals_nu}\n",
        "E_i['n_E'] = '-'\n",
        "E_i['NU_i'] = '-'\n",
        "for nu in mid_of_intervals_nu :\n",
        "  for e in mid_of_intervals_e :\n",
        "    NU_i[e] += cor_table_df[nu][e] * nu\n",
        "    E_i[nu] += cor_table_df[nu][e] * e\n",
        "\n",
        "cor_table_df.insert(len(cor_table_df.columns), \"NU_i\", [NU_i[i] for i in NU_i.keys()])\n",
        "cor_table_df = pandas.concat([cor_table_df,\n",
        "                         pandas.DataFrame(columns=cor_table_df.columns,\n",
        "                                          index=['E_j'])])\n",
        "for nu in cor_table_df.columns :\n",
        "  cor_table_df[nu]['E_j'] = E_i[nu]\n",
        "\n",
        "NU_i_e = {e: e * NU_i[e] for e in mid_of_intervals_e}\n",
        "NU_i_e['n_nu'] = '-'\n",
        "NU_i_e['E_j'] = 0\n",
        "for e in mid_of_intervals_e :\n",
        "  NU_i_e['E_j'] += NU_i_e[e]\n",
        "\n",
        "E_i_nu = {nu: nu * E_i[nu] for nu in mid_of_intervals_nu}\n",
        "E_i_nu['n_E'] = '-'\n",
        "E_i_nu['NU_i'] = 0\n",
        "for nu in mid_of_intervals_nu :\n",
        "  E_i_nu['NU_i'] += E_i_nu[nu]\n",
        "E_i_nu['NU_i*e_i'] = '-'\n",
        "\n",
        "cor_table_df.insert(len(cor_table_df.columns), \"NU_i*e_i\", [NU_i_e[i] for i in NU_i_e.keys()])\n",
        "cor_table_df = pandas.concat([cor_table_df,\n",
        "                         pandas.DataFrame(columns=cor_table_df.columns,\n",
        "                                          index=['E_j*nu_j'])])\n",
        "\n",
        "for nu in cor_table_df.columns :\n",
        "  cor_table_df[nu]['E_j*nu_j'] = E_i_nu[nu]\n",
        "\n",
        "sum_for_cor = E_i_nu['NU_i']\n",
        "print(f\"Сумма для вычисления коэффицента корреляции = {sum_for_cor}\")\n",
        "print(\"Корреляционная таблица с вычисленными суммами для вычисления коэффициента корреляции:\")\n",
        "cor_table_df.style.set_properties(**{'text-align': 'center'})"
      ],
      "metadata": {
        "colab": {
          "base_uri": "https://localhost:8080/",
          "height": 397
        },
        "id": "jEQ22OQZVMHf",
        "outputId": "1825d2bf-164a-46a5-caf9-add1af728f06"
      },
      "execution_count": 210,
      "outputs": [
        {
          "output_type": "stream",
          "name": "stdout",
          "text": [
            "Сумма для вычисления коэффицента корреляции = 7010160.749999999\n",
            "Корреляционная таблица с вычисленными суммами для вычисления коэффициента корреляции:\n"
          ]
        },
        {
          "output_type": "execute_result",
          "data": {
            "text/plain": [
              "<pandas.io.formats.style.Styler at 0x7875ddddd420>"
            ],
            "text/html": [
              "<style type=\"text/css\">\n",
              "#T_0871a_row0_col0, #T_0871a_row0_col1, #T_0871a_row0_col2, #T_0871a_row0_col3, #T_0871a_row0_col4, #T_0871a_row0_col5, #T_0871a_row0_col6, #T_0871a_row0_col7, #T_0871a_row0_col8, #T_0871a_row0_col9, #T_0871a_row1_col0, #T_0871a_row1_col1, #T_0871a_row1_col2, #T_0871a_row1_col3, #T_0871a_row1_col4, #T_0871a_row1_col5, #T_0871a_row1_col6, #T_0871a_row1_col7, #T_0871a_row1_col8, #T_0871a_row1_col9, #T_0871a_row2_col0, #T_0871a_row2_col1, #T_0871a_row2_col2, #T_0871a_row2_col3, #T_0871a_row2_col4, #T_0871a_row2_col5, #T_0871a_row2_col6, #T_0871a_row2_col7, #T_0871a_row2_col8, #T_0871a_row2_col9, #T_0871a_row3_col0, #T_0871a_row3_col1, #T_0871a_row3_col2, #T_0871a_row3_col3, #T_0871a_row3_col4, #T_0871a_row3_col5, #T_0871a_row3_col6, #T_0871a_row3_col7, #T_0871a_row3_col8, #T_0871a_row3_col9, #T_0871a_row4_col0, #T_0871a_row4_col1, #T_0871a_row4_col2, #T_0871a_row4_col3, #T_0871a_row4_col4, #T_0871a_row4_col5, #T_0871a_row4_col6, #T_0871a_row4_col7, #T_0871a_row4_col8, #T_0871a_row4_col9, #T_0871a_row5_col0, #T_0871a_row5_col1, #T_0871a_row5_col2, #T_0871a_row5_col3, #T_0871a_row5_col4, #T_0871a_row5_col5, #T_0871a_row5_col6, #T_0871a_row5_col7, #T_0871a_row5_col8, #T_0871a_row5_col9, #T_0871a_row6_col0, #T_0871a_row6_col1, #T_0871a_row6_col2, #T_0871a_row6_col3, #T_0871a_row6_col4, #T_0871a_row6_col5, #T_0871a_row6_col6, #T_0871a_row6_col7, #T_0871a_row6_col8, #T_0871a_row6_col9, #T_0871a_row7_col0, #T_0871a_row7_col1, #T_0871a_row7_col2, #T_0871a_row7_col3, #T_0871a_row7_col4, #T_0871a_row7_col5, #T_0871a_row7_col6, #T_0871a_row7_col7, #T_0871a_row7_col8, #T_0871a_row7_col9, #T_0871a_row8_col0, #T_0871a_row8_col1, #T_0871a_row8_col2, #T_0871a_row8_col3, #T_0871a_row8_col4, #T_0871a_row8_col5, #T_0871a_row8_col6, #T_0871a_row8_col7, #T_0871a_row8_col8, #T_0871a_row8_col9, #T_0871a_row9_col0, #T_0871a_row9_col1, #T_0871a_row9_col2, #T_0871a_row9_col3, #T_0871a_row9_col4, #T_0871a_row9_col5, #T_0871a_row9_col6, #T_0871a_row9_col7, #T_0871a_row9_col8, #T_0871a_row9_col9 {\n",
              "  text-align: center;\n",
              "}\n",
              "</style>\n",
              "<table id=\"T_0871a\" class=\"dataframe\">\n",
              "  <thead>\n",
              "    <tr>\n",
              "      <th class=\"blank level0\" >&nbsp;</th>\n",
              "      <th id=\"T_0871a_level0_col0\" class=\"col_heading level0 col0\" >339.500000</th>\n",
              "      <th id=\"T_0871a_level0_col1\" class=\"col_heading level0 col1\" >378.500000</th>\n",
              "      <th id=\"T_0871a_level0_col2\" class=\"col_heading level0 col2\" >417.500000</th>\n",
              "      <th id=\"T_0871a_level0_col3\" class=\"col_heading level0 col3\" >456.500000</th>\n",
              "      <th id=\"T_0871a_level0_col4\" class=\"col_heading level0 col4\" >495.500000</th>\n",
              "      <th id=\"T_0871a_level0_col5\" class=\"col_heading level0 col5\" >534.500000</th>\n",
              "      <th id=\"T_0871a_level0_col6\" class=\"col_heading level0 col6\" >573.500000</th>\n",
              "      <th id=\"T_0871a_level0_col7\" class=\"col_heading level0 col7\" >n_E</th>\n",
              "      <th id=\"T_0871a_level0_col8\" class=\"col_heading level0 col8\" >NU_i</th>\n",
              "      <th id=\"T_0871a_level0_col9\" class=\"col_heading level0 col9\" >NU_i*e_i</th>\n",
              "    </tr>\n",
              "  </thead>\n",
              "  <tbody>\n",
              "    <tr>\n",
              "      <th id=\"T_0871a_level0_row0\" class=\"row_heading level0 row0\" >71.100000</th>\n",
              "      <td id=\"T_0871a_row0_col0\" class=\"data row0 col0\" >3</td>\n",
              "      <td id=\"T_0871a_row0_col1\" class=\"data row0 col1\" >1</td>\n",
              "      <td id=\"T_0871a_row0_col2\" class=\"data row0 col2\" >0</td>\n",
              "      <td id=\"T_0871a_row0_col3\" class=\"data row0 col3\" >0</td>\n",
              "      <td id=\"T_0871a_row0_col4\" class=\"data row0 col4\" >0</td>\n",
              "      <td id=\"T_0871a_row0_col5\" class=\"data row0 col5\" >0</td>\n",
              "      <td id=\"T_0871a_row0_col6\" class=\"data row0 col6\" >0</td>\n",
              "      <td id=\"T_0871a_row0_col7\" class=\"data row0 col7\" >4</td>\n",
              "      <td id=\"T_0871a_row0_col8\" class=\"data row0 col8\" >1397.000000</td>\n",
              "      <td id=\"T_0871a_row0_col9\" class=\"data row0 col9\" >99326.700000</td>\n",
              "    </tr>\n",
              "    <tr>\n",
              "      <th id=\"T_0871a_level0_row1\" class=\"row_heading level0 row1\" >88.100000</th>\n",
              "      <td id=\"T_0871a_row1_col0\" class=\"data row1 col0\" >2</td>\n",
              "      <td id=\"T_0871a_row1_col1\" class=\"data row1 col1\" >3</td>\n",
              "      <td id=\"T_0871a_row1_col2\" class=\"data row1 col2\" >0</td>\n",
              "      <td id=\"T_0871a_row1_col3\" class=\"data row1 col3\" >0</td>\n",
              "      <td id=\"T_0871a_row1_col4\" class=\"data row1 col4\" >0</td>\n",
              "      <td id=\"T_0871a_row1_col5\" class=\"data row1 col5\" >0</td>\n",
              "      <td id=\"T_0871a_row1_col6\" class=\"data row1 col6\" >0</td>\n",
              "      <td id=\"T_0871a_row1_col7\" class=\"data row1 col7\" >5</td>\n",
              "      <td id=\"T_0871a_row1_col8\" class=\"data row1 col8\" >1814.500000</td>\n",
              "      <td id=\"T_0871a_row1_col9\" class=\"data row1 col9\" >159857.450000</td>\n",
              "    </tr>\n",
              "    <tr>\n",
              "      <th id=\"T_0871a_level0_row2\" class=\"row_heading level0 row2\" >105.100000</th>\n",
              "      <td id=\"T_0871a_row2_col0\" class=\"data row2 col0\" >1</td>\n",
              "      <td id=\"T_0871a_row2_col1\" class=\"data row2 col1\" >9</td>\n",
              "      <td id=\"T_0871a_row2_col2\" class=\"data row2 col2\" >13</td>\n",
              "      <td id=\"T_0871a_row2_col3\" class=\"data row2 col3\" >0</td>\n",
              "      <td id=\"T_0871a_row2_col4\" class=\"data row2 col4\" >0</td>\n",
              "      <td id=\"T_0871a_row2_col5\" class=\"data row2 col5\" >0</td>\n",
              "      <td id=\"T_0871a_row2_col6\" class=\"data row2 col6\" >0</td>\n",
              "      <td id=\"T_0871a_row2_col7\" class=\"data row2 col7\" >23</td>\n",
              "      <td id=\"T_0871a_row2_col8\" class=\"data row2 col8\" >9173.500000</td>\n",
              "      <td id=\"T_0871a_row2_col9\" class=\"data row2 col9\" >964134.850000</td>\n",
              "    </tr>\n",
              "    <tr>\n",
              "      <th id=\"T_0871a_level0_row3\" class=\"row_heading level0 row3\" >122.100000</th>\n",
              "      <td id=\"T_0871a_row3_col0\" class=\"data row3 col0\" >0</td>\n",
              "      <td id=\"T_0871a_row3_col1\" class=\"data row3 col1\" >0</td>\n",
              "      <td id=\"T_0871a_row3_col2\" class=\"data row3 col2\" >10</td>\n",
              "      <td id=\"T_0871a_row3_col3\" class=\"data row3 col3\" >17</td>\n",
              "      <td id=\"T_0871a_row3_col4\" class=\"data row3 col4\" >3</td>\n",
              "      <td id=\"T_0871a_row3_col5\" class=\"data row3 col5\" >0</td>\n",
              "      <td id=\"T_0871a_row3_col6\" class=\"data row3 col6\" >0</td>\n",
              "      <td id=\"T_0871a_row3_col7\" class=\"data row3 col7\" >30</td>\n",
              "      <td id=\"T_0871a_row3_col8\" class=\"data row3 col8\" >13422.000000</td>\n",
              "      <td id=\"T_0871a_row3_col9\" class=\"data row3 col9\" >1638826.200000</td>\n",
              "    </tr>\n",
              "    <tr>\n",
              "      <th id=\"T_0871a_level0_row4\" class=\"row_heading level0 row4\" >139.100000</th>\n",
              "      <td id=\"T_0871a_row4_col0\" class=\"data row4 col0\" >0</td>\n",
              "      <td id=\"T_0871a_row4_col1\" class=\"data row4 col1\" >0</td>\n",
              "      <td id=\"T_0871a_row4_col2\" class=\"data row4 col2\" >1</td>\n",
              "      <td id=\"T_0871a_row4_col3\" class=\"data row4 col3\" >12</td>\n",
              "      <td id=\"T_0871a_row4_col4\" class=\"data row4 col4\" >14</td>\n",
              "      <td id=\"T_0871a_row4_col5\" class=\"data row4 col5\" >4</td>\n",
              "      <td id=\"T_0871a_row4_col6\" class=\"data row4 col6\" >0</td>\n",
              "      <td id=\"T_0871a_row4_col7\" class=\"data row4 col7\" >31</td>\n",
              "      <td id=\"T_0871a_row4_col8\" class=\"data row4 col8\" >14970.500000</td>\n",
              "      <td id=\"T_0871a_row4_col9\" class=\"data row4 col9\" >2082396.550000</td>\n",
              "    </tr>\n",
              "    <tr>\n",
              "      <th id=\"T_0871a_level0_row5\" class=\"row_heading level0 row5\" >156.100000</th>\n",
              "      <td id=\"T_0871a_row5_col0\" class=\"data row5 col0\" >0</td>\n",
              "      <td id=\"T_0871a_row5_col1\" class=\"data row5 col1\" >0</td>\n",
              "      <td id=\"T_0871a_row5_col2\" class=\"data row5 col2\" >0</td>\n",
              "      <td id=\"T_0871a_row5_col3\" class=\"data row5 col3\" >0</td>\n",
              "      <td id=\"T_0871a_row5_col4\" class=\"data row5 col4\" >8</td>\n",
              "      <td id=\"T_0871a_row5_col5\" class=\"data row5 col5\" >6</td>\n",
              "      <td id=\"T_0871a_row5_col6\" class=\"data row5 col6\" >2</td>\n",
              "      <td id=\"T_0871a_row5_col7\" class=\"data row5 col7\" >16</td>\n",
              "      <td id=\"T_0871a_row5_col8\" class=\"data row5 col8\" >8318.000000</td>\n",
              "      <td id=\"T_0871a_row5_col9\" class=\"data row5 col9\" >1298439.800000</td>\n",
              "    </tr>\n",
              "    <tr>\n",
              "      <th id=\"T_0871a_level0_row6\" class=\"row_heading level0 row6\" >173.100000</th>\n",
              "      <td id=\"T_0871a_row6_col0\" class=\"data row6 col0\" >0</td>\n",
              "      <td id=\"T_0871a_row6_col1\" class=\"data row6 col1\" >0</td>\n",
              "      <td id=\"T_0871a_row6_col2\" class=\"data row6 col2\" >0</td>\n",
              "      <td id=\"T_0871a_row6_col3\" class=\"data row6 col3\" >0</td>\n",
              "      <td id=\"T_0871a_row6_col4\" class=\"data row6 col4\" >0</td>\n",
              "      <td id=\"T_0871a_row6_col5\" class=\"data row6 col5\" >4</td>\n",
              "      <td id=\"T_0871a_row6_col6\" class=\"data row6 col6\" >4</td>\n",
              "      <td id=\"T_0871a_row6_col7\" class=\"data row6 col7\" >8</td>\n",
              "      <td id=\"T_0871a_row6_col8\" class=\"data row6 col8\" >4432.000000</td>\n",
              "      <td id=\"T_0871a_row6_col9\" class=\"data row6 col9\" >767179.200000</td>\n",
              "    </tr>\n",
              "    <tr>\n",
              "      <th id=\"T_0871a_level0_row7\" class=\"row_heading level0 row7\" >n_nu</th>\n",
              "      <td id=\"T_0871a_row7_col0\" class=\"data row7 col0\" >6</td>\n",
              "      <td id=\"T_0871a_row7_col1\" class=\"data row7 col1\" >13</td>\n",
              "      <td id=\"T_0871a_row7_col2\" class=\"data row7 col2\" >24</td>\n",
              "      <td id=\"T_0871a_row7_col3\" class=\"data row7 col3\" >29</td>\n",
              "      <td id=\"T_0871a_row7_col4\" class=\"data row7 col4\" >25</td>\n",
              "      <td id=\"T_0871a_row7_col5\" class=\"data row7 col5\" >14</td>\n",
              "      <td id=\"T_0871a_row7_col6\" class=\"data row7 col6\" >6</td>\n",
              "      <td id=\"T_0871a_row7_col7\" class=\"data row7 col7\" >117</td>\n",
              "      <td id=\"T_0871a_row7_col8\" class=\"data row7 col8\" >-</td>\n",
              "      <td id=\"T_0871a_row7_col9\" class=\"data row7 col9\" >-</td>\n",
              "    </tr>\n",
              "    <tr>\n",
              "      <th id=\"T_0871a_level0_row8\" class=\"row_heading level0 row8\" >E_j</th>\n",
              "      <td id=\"T_0871a_row8_col0\" class=\"data row8 col0\" >494.600000</td>\n",
              "      <td id=\"T_0871a_row8_col1\" class=\"data row8 col1\" >1281.300000</td>\n",
              "      <td id=\"T_0871a_row8_col2\" class=\"data row8 col2\" >2726.400000</td>\n",
              "      <td id=\"T_0871a_row8_col3\" class=\"data row8 col3\" >3744.900000</td>\n",
              "      <td id=\"T_0871a_row8_col4\" class=\"data row8 col4\" >3562.500000</td>\n",
              "      <td id=\"T_0871a_row8_col5\" class=\"data row8 col5\" >2185.400000</td>\n",
              "      <td id=\"T_0871a_row8_col6\" class=\"data row8 col6\" >1004.600000</td>\n",
              "      <td id=\"T_0871a_row8_col7\" class=\"data row8 col7\" >-</td>\n",
              "      <td id=\"T_0871a_row8_col8\" class=\"data row8 col8\" >-</td>\n",
              "      <td id=\"T_0871a_row8_col9\" class=\"data row8 col9\" >7010160.750000</td>\n",
              "    </tr>\n",
              "    <tr>\n",
              "      <th id=\"T_0871a_level0_row9\" class=\"row_heading level0 row9\" >E_j*nu_j</th>\n",
              "      <td id=\"T_0871a_row9_col0\" class=\"data row9 col0\" >167916.700000</td>\n",
              "      <td id=\"T_0871a_row9_col1\" class=\"data row9 col1\" >484972.050000</td>\n",
              "      <td id=\"T_0871a_row9_col2\" class=\"data row9 col2\" >1138272.000000</td>\n",
              "      <td id=\"T_0871a_row9_col3\" class=\"data row9 col3\" >1709546.850000</td>\n",
              "      <td id=\"T_0871a_row9_col4\" class=\"data row9 col4\" >1765218.750000</td>\n",
              "      <td id=\"T_0871a_row9_col5\" class=\"data row9 col5\" >1168096.300000</td>\n",
              "      <td id=\"T_0871a_row9_col6\" class=\"data row9 col6\" >576138.100000</td>\n",
              "      <td id=\"T_0871a_row9_col7\" class=\"data row9 col7\" >-</td>\n",
              "      <td id=\"T_0871a_row9_col8\" class=\"data row9 col8\" >7010160.750000</td>\n",
              "      <td id=\"T_0871a_row9_col9\" class=\"data row9 col9\" >-</td>\n",
              "    </tr>\n",
              "  </tbody>\n",
              "</table>\n"
            ]
          },
          "metadata": {},
          "execution_count": 210
        }
      ]
    },
    {
      "cell_type": "markdown",
      "source": [
        "Как можно заметить $\\sum_{i=1}^{K_y} \\sum_{j=1}^{K_x} n_{ij}y_ix_j = \\sum_{i=1}^{K_y} y_i \\sum_{j=1}^{K_x} n_{ij}x_j = \\sum_{j=1}^{K_x} x_j \\sum_{i=1}^{K_y} n_{ij}y_i$, в нашем случае $\\sum_{j=1}^{K_\\nu} \\nu_j \\sum_{i=1}^{K_E} n_{ij}E_i$ действительно равно $\\sum_{i=1}^{K_E} E_i \\sum_{j=1}^{K_\\nu} n_{ij} \\nu_j$, то есть корреляционная таблица составлена верно.\n",
        "\n",
        "Можно заметить, что значения выборки в основном скоплены вдоль главной диагонали, что позволяет делать предположение о высоком коэффициенте корреляции."
      ],
      "metadata": {
        "id": "14eMIB6zaTy3"
      }
    },
    {
      "cell_type": "markdown",
      "source": [
        "### 4. Исходя из результатов корреляционной таблицы вычислить значение выборочного коэффициента корреляции двумя способами: с помощью стандартной формулы и с помощью условных вариант. Убедиться, что результаты совпадают. Сделать выводы."
      ],
      "metadata": {
        "id": "bhIxx7cQFVQz"
      }
    },
    {
      "cell_type": "markdown",
      "source": [
        "Вычисление значения выборочного коэффициента вариации с помощью стандартной формулы и с помощью условных вариант."
      ],
      "metadata": {
        "id": "cRUm2hCzfNND"
      }
    },
    {
      "cell_type": "code",
      "source": [
        "r_nu_E = (sum_for_cor - N*mean_nu*mean_e) / (N*S_e*S_nu)\n",
        "print(f\"Выборочный коэффициент корреляции с помощью обычной формулы: {r_nu_E}\")\n",
        "r_nu_E_var = 1 - abs(sum_for_cor - N*mean_nu_var*mean_e_var) / (N*sigma_e_var*sigma_nu_var)\n",
        "print(f\"Выборочный коэффициент корреляции с помощью вариант: {r_nu_E_var}\")"
      ],
      "metadata": {
        "colab": {
          "base_uri": "https://localhost:8080/"
        },
        "id": "Kq1J8xbcfMpz",
        "outputId": "0ed27e40-9cbb-4c58-94f3-7faa381a27c8"
      },
      "execution_count": 216,
      "outputs": [
        {
          "output_type": "stream",
          "name": "stdout",
          "text": [
            "Выборочный коэффициент корреляции с помощью обычной формулы: 0.9211900782027463\n",
            "Выборочный коэффициент корреляции с помощью вариант: 0.8105217253039205\n"
          ]
        }
      ]
    },
    {
      "cell_type": "markdown",
      "source": [
        "С некой погрешность значения выборочных коэффициентов корреляции совпали, возможно это связано с машинным округлением.\n",
        "\n",
        "Так как значение выборочного коэффициента корреляции положитель и близко к 1, из чего можно сделать вывод о том, что между случайными величинами наблюдается сильная зависимость, то есть предположение о сильной связи случайных величин подтверждено."
      ],
      "metadata": {
        "id": "hxJNfnIjl14-"
      }
    },
    {
      "cell_type": "markdown",
      "source": [
        "### 5. Построить доверительный интервал для коэффициента корреляции при уровне значимости $\\gamma \\in \\{0,95, 0.99\\}$, сделать выводы."
      ],
      "metadata": {
        "id": "1JIKrx49bk8b"
      }
    },
    {
      "cell_type": "code",
      "source": [
        "z = 0.5 * math.log((1 + r_nu_E) / (1 - r_nu_E))\n",
        "print(f\"Случайная величина z = {z}\")\n",
        "\n",
        "sigma_z = 1 / math.sqrt(N-3)\n",
        "print(f\"СКВО для распределения СВ z: sigma_z = {sigma_z}\")\n",
        "\n",
        "gamma095 = 0.95\n",
        "z_conf_interval_gamma_095 = (z - gamma095 / 2 * sigma_z, z + gamma095 / 2 * sigma_z)\n",
        "print(f\"Доверительный интервал СВ z при уровне значимости gamma = 0.95: {z_conf_interval_gamma_095}\")\n",
        "r_conf_interval_gamma_095 = ((math.e ** z_conf_interval_gamma_095[0] - math.e ** (-z_conf_interval_gamma_095[0])) / (math.e ** z_conf_interval_gamma_095[0] + math.e ** (-z_conf_interval_gamma_095[0])),\n",
        "                             (math.e ** z_conf_interval_gamma_095[1] - math.e ** (-z_conf_interval_gamma_095[1])) / (math.e ** z_conf_interval_gamma_095[1] + math.e ** (-z_conf_interval_gamma_095[1])))\n",
        "print(f\"Доверительный интервал коэффициента корреляции при уровне значимости gamma = 0.95: {r_conf_interval_gamma_095}\")\n",
        "\n",
        "gamma099 = 0.99\n",
        "z_conf_interval_gamma_099 = (z - gamma099 / 2 * sigma_z, z + gamma099 / 2 * sigma_z)\n",
        "print(f\"Доверительный интервал  СВ z при уровне значимости gamma = 0.99: {z_conf_interval_gamma_099}\")\n",
        "r_conf_interval_gamma_099 = ((math.e ** z_conf_interval_gamma_099[0] - math.e ** (-z_conf_interval_gamma_099[0])) / (math.e ** z_conf_interval_gamma_099[0] + math.e ** (-z_conf_interval_gamma_099[0])),\n",
        "                             (math.e ** z_conf_interval_gamma_099[1] - math.e ** (-z_conf_interval_gamma_099[1])) / (math.e ** z_conf_interval_gamma_099[1] + math.e ** (-z_conf_interval_gamma_099[1])))\n",
        "print(f\"Доверительный интервал коэффициента корреляции при уровне значимости gamma = 0.99: {r_conf_interval_gamma_099}\")\n"
      ],
      "metadata": {
        "colab": {
          "base_uri": "https://localhost:8080/"
        },
        "id": "IQNsvqO1nDKb",
        "outputId": "3bc4b186-0bdc-4839-f2bf-f74e15f5a142"
      },
      "execution_count": 222,
      "outputs": [
        {
          "output_type": "stream",
          "name": "stdout",
          "text": [
            "Случайная величина z = 1.5968306026659895\n",
            "СКВО для распределения СВ z: sigma_z = 0.0936585811581694\n",
            "Доверительный интервал СВ z при уровне значимости gamma = 0.95: (1.552342776615859, 1.64131842871612)\n",
            "Доверительный интервал коэффициента корреляции при уровне значимости gamma = 0.95: (0.9141712126126045, 0.9276566513086422)\n",
            "Доверительный интервал  СВ z при уровне значимости gamma = 0.99: (1.5504696049926956, 1.6431916003392835)\n",
            "Доверительный интервал коэффициента корреляции при уровне значимости gamma = 0.99: (0.9138629398590661, 0.9279174175400923)\n"
          ]
        }
      ]
    },
    {
      "cell_type": "markdown",
      "source": [
        "При увеличении уровня значимости расширяется доверительный интервал, а также можно увидеть, что доверительные интервалы показывают, что значение коэффииента корреляции довльно велико."
      ],
      "metadata": {
        "id": "hj7MCeorpOvZ"
      }
    },
    {
      "cell_type": "markdown",
      "source": [
        "### 6. Осуществить проверку статистической гипотезы о равенстве коэффициента корреляции нулю при заданном уровне значимости $\\alpha = 0.05$, сделать выводы."
      ],
      "metadata": {
        "id": "BWin7ivVgqlS"
      }
    },
    {
      "cell_type": "markdown",
      "source": [
        "Сформулируем гипотезы:\n",
        "$$H_0 : r_{xy} = 0$$\n",
        "$$H_1 : r_{xy} \\neq 0$$\n",
        "\n",
        "Осуществим проверку статистической гипотезы о равенстве коэффициента корреляции нулю."
      ],
      "metadata": {
        "id": "gxRwdvZ0sGw_"
      }
    },
    {
      "cell_type": "code",
      "source": [
        "T_obs = (r_nu_E * math.sqrt(N - 2) / math.sqrt(1 - r_nu_E ** 2))\n",
        "print(f\"Т_набл = {T_obs}\")\n",
        "df = N - 2\n",
        "print(f\"При справедливости нулевой гипотезы СВ Т распределена по закону Стьюдента с k = {df} степенями свободы.\")"
      ],
      "metadata": {
        "colab": {
          "base_uri": "https://localhost:8080/"
        },
        "id": "PLn4qH8arejd",
        "outputId": "1d0bc659-78d7-42ce-c093-f77c0ceb4ef2"
      },
      "execution_count": 224,
      "outputs": [
        {
          "output_type": "stream",
          "name": "stdout",
          "text": [
            "Т_набл = 25.387653135667637\n",
            "При справедливости нулевой гипотезы СВ Т распределена по закону Стьюдента с k = 115 степенями свободы.\n"
          ]
        }
      ]
    },
    {
      "cell_type": "markdown",
      "source": [
        "$T_{набл} = 25.39, k = 115$, критическая область для данного критерия двусторонняя.\n",
        "\n",
        "Найдем по таблице $t_{крит}(\\alpha,k) = 1.98$.\n",
        "\n",
        "$|T_{набл}| > t_{крит}(\\alpha,k) (25.39 > 1.98)$, поэтому нулевая гипотеза $H_0$ отвергается.\n",
        "\n",
        "Это означает, что коэффициент корреляции значимо отличается от нуля, можно говорить о том, что между СВ $\\nu$ и $E$ наблюдается корреляционная зависимость при уровне значимости $\\alpha = 0.05$.\n",
        "\n"
      ],
      "metadata": {
        "id": "fK3GnjuVs_5x"
      }
    },
    {
      "cell_type": "markdown",
      "metadata": {
        "id": "Y8tMY8xXIdey"
      },
      "source": [
        "## Выводы\n",
        "\n",
        "В ходе выполнения практической работы была проведена статистическая обработка второй выборки в объеме работ №1 и №2 с целью вычисления точечных статистических оценок параметров распределения исследуемого признака. В результате можно было предположить, что некоторая корреляционная зависимость возможна.\n",
        "\n",
        "Далее был создан двумерный интервальный вариационный ряд и на его основе составлена корреляционная таблица, с использованием которой была рассчитана выборочная оценка коэффициента корреляции.\n",
        "\n",
        "Кроме того были вычислены доверительные интервалы для данного коэффициента и проверена гипотеза. Результаты показали, что коэффициент корреляции достоверно отличается от нуля, подтверждая наличие линейной связи между выборками."
      ]
    }
  ],
  "metadata": {
    "kernelspec": {
      "display_name": "Python 3",
      "language": "python",
      "name": "python3"
    },
    "language_info": {
      "codemirror_mode": {
        "name": "ipython",
        "version": 3
      },
      "file_extension": ".py",
      "mimetype": "text/x-python",
      "name": "python",
      "nbconvert_exporter": "python",
      "pygments_lexer": "ipython3",
      "version": "3.8.10"
    },
    "colab": {
      "provenance": []
    }
  },
  "nbformat": 4,
  "nbformat_minor": 0
}